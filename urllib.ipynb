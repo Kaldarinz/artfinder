{
 "cells": [
  {
   "cell_type": "code",
   "execution_count": 82,
   "metadata": {},
   "outputs": [],
   "source": [
    "import urllib.request as rq\n",
    "from urllib.error import HTTPError, URLError\n",
    "from pymedx import PubMed\n",
    "from pprint import pprint\n",
    "import json"
   ]
  },
  {
   "cell_type": "code",
   "execution_count": 100,
   "metadata": {},
   "outputs": [],
   "source": [
    "def get_request(url: str, timeout: int = 10):\n",
    "    try:\n",
    "        with rq.urlopen(url, timeout=timeout) as response:\n",
    "            return (response.read(), response)\n",
    "    except HTTPError as e:\n",
    "        print(f\"HTTP Error: {e.code}\")\n",
    "    except URLError as e:\n",
    "        print(f\"URL Error: {e.reason}\")\n",
    "    except TimeoutError as e:\n",
    "        print(f\"Timeout Error: {e}\")"
   ]
  },
  {
   "cell_type": "code",
   "execution_count": 103,
   "metadata": {},
   "outputs": [
    {
     "name": "stdout",
     "output_type": "stream",
     "text": [
      "URL Error: [SSL: CERTIFICATE_VERIFY_FAILED] certificate verify failed: unable to get local issuer certificate (_ssl.c:1028)\n"
     ]
    }
   ],
   "source": [
    "url = \"https://superfish.badssl.com/\"\n",
    "get_request(url)"
   ]
  }
 ],
 "metadata": {
  "kernelspec": {
   "display_name": "venv",
   "language": "python",
   "name": "python3"
  },
  "language_info": {
   "codemirror_mode": {
    "name": "ipython",
    "version": 3
   },
   "file_extension": ".py",
   "mimetype": "text/x-python",
   "name": "python",
   "nbconvert_exporter": "python",
   "pygments_lexer": "ipython3",
   "version": "3.13.2"
  }
 },
 "nbformat": 4,
 "nbformat_minor": 2
}
