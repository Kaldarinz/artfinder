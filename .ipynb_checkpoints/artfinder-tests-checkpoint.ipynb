{
 "cells": [
  {
   "cell_type": "code",
   "execution_count": 4,
   "id": "84e7de48",
   "metadata": {},
   "outputs": [
    {
     "name": "stdout",
     "output_type": "stream",
     "text": [
      "The autoreload extension is already loaded. To reload it, use:\n",
      "  %reload_ext autoreload\n"
     ]
    },
    {
     "data": {},
     "metadata": {},
     "output_type": "display_data"
    },
    {
     "data": {},
     "metadata": {},
     "output_type": "display_data"
    }
   ],
   "source": [
    "%load_ext autoreload\n",
    "%autoreload 2\n",
    "\n",
    "\n",
    "import artfinder\n",
    "import pandas as pd\n",
    "\n",
    "cr = artfinder.Crossref()\n",
    "af = artfinder.ArtFinder('aapopov1@mephi.ru')\n"
   ]
  },
  {
   "cell_type": "code",
   "execution_count": 5,
   "id": "1e45b071",
   "metadata": {},
   "outputs": [
    {
     "name": "stdout",
     "output_type": "stream",
     "text": [
      "<class 'pandas.core.frame.DataFrame'>\n",
      "RangeIndex: 441 entries, 0 to 440\n",
      "Data columns (total 17 columns):\n",
      " #   Column                  Non-Null Count  Dtype         \n",
      "---  ------                  --------------  -----         \n",
      " 0   publisher               441 non-null    string        \n",
      " 1   license                 149 non-null    object        \n",
      " 2   is_referenced_by_count  441 non-null    object        \n",
      " 3   link                    203 non-null    object        \n",
      " 4   authors                 441 non-null    object        \n",
      " 5   abstract                78 non-null     string        \n",
      " 6   title                   441 non-null    string        \n",
      " 7   doi                     441 non-null    string        \n",
      " 8   type                    441 non-null    string        \n",
      " 9   journal                 436 non-null    string        \n",
      " 10  issn                    231 non-null    string        \n",
      " 11  volume                  227 non-null    string        \n",
      " 12  issue                   169 non-null    string        \n",
      " 13  start_page              411 non-null    string        \n",
      " 14  end_page                107 non-null    string        \n",
      " 15  publication_date        440 non-null    datetime64[ns]\n",
      " 16  references              263 non-null    object        \n",
      "dtypes: datetime64[ns](1), object(5), string(11)\n",
      "memory usage: 58.7+ KB\n"
     ]
    }
   ],
   "source": [
    "df = cr.search('Kabashin').get_df()\n",
    "df.info()"
   ]
  }
 ],
 "metadata": {
  "kernelspec": {
   "display_name": "venv",
   "language": "python",
   "name": "python3"
  },
  "language_info": {
   "codemirror_mode": {
    "name": "ipython",
    "version": 3
   },
   "file_extension": ".py",
   "mimetype": "text/x-python",
   "name": "python",
   "nbconvert_exporter": "python",
   "pygments_lexer": "ipython3",
   "version": "3.13.3"
  }
 },
 "nbformat": 4,
 "nbformat_minor": 5
}
