{
 "cells": [
  {
   "cell_type": "code",
   "execution_count": 31,
   "metadata": {},
   "outputs": [],
   "source": [
    "from crossref.restful import Works, Journals\n",
    "import pandas as pd"
   ]
  },
  {
   "cell_type": "code",
   "execution_count": 3,
   "metadata": {},
   "outputs": [],
   "source": [
    "works = Works()"
   ]
  },
  {
   "cell_type": "code",
   "execution_count": 4,
   "metadata": {},
   "outputs": [],
   "source": [
    "articles = works.query(author='Kabashin')"
   ]
  },
  {
   "cell_type": "code",
   "execution_count": 5,
   "metadata": {},
   "outputs": [],
   "source": [
    "all = list(articles)"
   ]
  },
  {
   "cell_type": "code",
   "execution_count": 12,
   "metadata": {},
   "outputs": [
    {
     "data": {
      "text/plain": [
       "dict_keys(['indexed', 'reference-count', 'publisher', 'issue', 'license', 'content-domain', 'short-container-title', 'published-print', 'DOI', 'type', 'created', 'page', 'source', 'is-referenced-by-count', 'title', 'prefix', 'volume', 'author', 'member', 'published-online', 'reference', 'container-title', 'language', 'link', 'deposited', 'score', 'resource', 'issued', 'references-count', 'journal-issue', 'alternative-id', 'URL', 'ISSN', 'issn-type', 'published'])"
      ]
     },
     "execution_count": 12,
     "metadata": {},
     "output_type": "execute_result"
    }
   ],
   "source": [
    "all[0].keys()"
   ]
  },
  {
   "cell_type": "code",
   "execution_count": 6,
   "metadata": {},
   "outputs": [],
   "source": [
    "from collections import Counter\n",
    "\n",
    "df = pd.DataFrame(all)"
   ]
  },
  {
   "cell_type": "code",
   "execution_count": 7,
   "metadata": {},
   "outputs": [],
   "source": [
    "accept_fields = [\n",
    "    \"author\",\n",
    "    \"reference-count\",\n",
    "    \"publisher\",\n",
    "    \"issue\",\n",
    "    \"license\",\n",
    "    \"DOI\",\n",
    "    \"type\",\n",
    "    \"page\",\n",
    "    \"is-referenced-by-count\",\n",
    "    \"title\",\n",
    "    \"volume\",\n",
    "    \"reference\",\n",
    "    \"container-title\",\n",
    "    \"link\",\n",
    "    \"issn-type\",\n",
    "    \"published\",\n",
    "    \"ISBN\",\n",
    "    \"abstract\",\n",
    "    \"accepted\",\n",
    "]"
   ]
  },
  {
   "cell_type": "code",
   "execution_count": 8,
   "metadata": {},
   "outputs": [],
   "source": [
    "filtered_df = pd.DataFrame()\n",
    "for field in accept_fields:\n",
    "    filtered_df[field] = df[field]"
   ]
  },
  {
   "cell_type": "code",
   "execution_count": 15,
   "metadata": {},
   "outputs": [],
   "source": [
    "abstracts = filtered_df[filtered_df[\"type\"] == \"journal-article\"]['abstract']"
   ]
  },
  {
   "cell_type": "code",
   "execution_count": 40,
   "metadata": {},
   "outputs": [
    {
     "data": {
      "text/plain": [
       "0      [{'URL': 'http://link.springer.com/content/pdf...\n",
       "4      [{'URL': 'https://api.elsevier.com/content/art...\n",
       "5      [{'URL': 'https://api.elsevier.com/content/art...\n",
       "7      [{'URL': 'https://api.elsevier.com/content/art...\n",
       "10     [{'URL': 'https://api.elsevier.com/content/art...\n",
       "                             ...                        \n",
       "246    [{'URL': 'https://journals.rcsi.science/2686-7...\n",
       "247    [{'URL': 'https://link.springer.com/content/pd...\n",
       "248    [{'URL': 'https://api.elsevier.com/content/art...\n",
       "249                                                  NaN\n",
       "250                                                  NaN\n",
       "Name: link, Length: 187, dtype: object"
      ]
     },
     "execution_count": 40,
     "metadata": {},
     "output_type": "execute_result"
    }
   ],
   "source": [
    "tst = filtered_df[filtered_df[\"type\"] == \"journal-article\"]['link']\n",
    "tst"
   ]
  }
 ],
 "metadata": {
  "kernelspec": {
   "display_name": "venv",
   "language": "python",
   "name": "python3"
  },
  "language_info": {
   "codemirror_mode": {
    "name": "ipython",
    "version": 3
   },
   "file_extension": ".py",
   "mimetype": "text/x-python",
   "name": "python",
   "nbconvert_exporter": "python",
   "pygments_lexer": "ipython3",
   "version": "3.13.2"
  }
 },
 "nbformat": 4,
 "nbformat_minor": 2
}
