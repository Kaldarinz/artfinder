{
 "cells": [
  {
   "cell_type": "markdown",
   "metadata": {
    "button": false,
    "new_sheet": false,
    "run_control": {
     "read_only": false
    }
   },
   "source": [
    "## Introduction\n",
    "\n",
    "The Crossref REST API is entirely based on URLs and is [documented extensively](https://api.crossref.org). This means, that, in theory, you can simply get all the data that you want using a normal browser. For example, you might want to see the latest DOI records in the Crossref system. You can see this with the following URL:\n",
    "\n",
    "[`https://www.crossref.org/works`](https://api.crossref.org/works)\n",
    "\n",
    "\n",
    "This means the REST API is pretty easy to use with basic low level HTTP libraries(e.g. Python's `requests`), but for this tutorial we are going to use a [higher level python library](https://github.com/fabiobatalha/crossrefapi) developed by Fabio Batalha C. Santos at [SciELO](http://www.scielo.org).\n",
    "\n",
    "The examples here are in Python 3. Sorry- but you're going to have to make the move sometime ;)\n",
    "\n",
    "To use this libra ry you can:\n",
    "\n",
    "`pip install crossrefapi`\n",
    "\n",
    "Then, import the library and get ready to look at so `works` data. "
   ]
  },
  {
   "cell_type": "markdown",
   "metadata": {
    "button": false,
    "new_sheet": false,
    "run_control": {
     "read_only": false
    }
   },
   "source": [
    "## Working with \"works\"\n",
    "\n",
    "Let's start by looking briefly at\"works\". The route refers to items identified by a DOI in the index. These can be articles, books, components, etc.\n",
    "\n",
    "**TIP:** Crossref does not use \"works\" in the [FRBR](https://en.wikipedia.org/wiki/Functional_Requirements_for_Bibliographic_Records) sense of the word. In Crossref parlance, a \"work\" is just a thing identified by a DOI. In practice, Crossref DOIs are used as citation identifiers. So, in FRBR terms, this means, that a Crossref DOI tends to refer to one _expression_ which might include multiple _manifestations_. So, for example, the ePub, HTML and PDF version of an article will share a Crossref DOI because the differences between them should not effect the interpretation or crediting of the content. In short, they can be cited interchangeably. The same is true of the \"accepted manuscript\" and the \"version-of-record\" of that accepted manuscript.\n",
    "\n",
    "In order to start querying information about works, we need to import the library and make things convenient."
   ]
  },
  {
   "cell_type": "code",
   "execution_count": 2,
   "metadata": {
    "button": false,
    "collapsed": true,
    "new_sheet": false,
    "run_control": {
     "read_only": false
    }
   },
   "outputs": [],
   "source": [
    "from crossref.restful import Works\n",
    "works = Works()"
   ]
  },
  {
   "cell_type": "markdown",
   "metadata": {
    "button": false,
    "new_sheet": false,
    "run_control": {
     "read_only": false
    }
   },
   "source": [
    "Now we are ready to ask our first question- How many Crossref DOI records are indexed by the API?"
   ]
  },
  {
   "cell_type": "code",
   "execution_count": 3,
   "metadata": {
    "button": false,
    "new_sheet": false,
    "run_control": {
     "read_only": false
    }
   },
   "outputs": [
    {
     "data": {
      "text/plain": [
       "167878179"
      ]
     },
     "execution_count": 3,
     "metadata": {},
     "output_type": "execute_result"
    }
   ],
   "source": [
    "works.count()"
   ]
  },
  {
   "cell_type": "markdown",
   "metadata": {
    "button": false,
    "new_sheet": false,
    "run_control": {
     "read_only": false
    }
   },
   "source": [
    "Note that above I said \"How many Crossref DOIs\". There are several other [DOI registration agencies](https://www.doi.org/registration_agencies.html). Crossref is by far he largest DOI RA, and the other RAs tend to specialize in orthoganal areas (e.g. Music & Video, Local language translations of publications, etc.) but it is important to not that this API will not work with non-Crossref DOIs (though [DataCite](https://www.datacite.org/), another RA, provides a very similar API).\n",
    "\n",
    "**TIP:** Not all DOIs are Crossref DOIs. If you are having trouble using a DOI with Crossref's API, check to see if it is a Crossref DOI.\n",
    "\n",
    "So the next obvious question is, how do I tell if a DOI is a Crossref DOI?"
   ]
  },
  {
   "cell_type": "code",
   "execution_count": 12,
   "metadata": {
    "button": false,
    "new_sheet": false,
    "run_control": {
     "read_only": false
    }
   },
   "outputs": [
    {
     "data": {
      "text/plain": [
       "{'DOI': '10.1590/0102-311x00133115',\n",
       " 'agency': {'id': 'crossref', 'label': 'Crossref'}}"
      ]
     },
     "execution_count": 12,
     "metadata": {},
     "output_type": "execute_result"
    }
   ],
   "source": [
    "works.agency('10.1590/0102-311x00133115')"
   ]
  },
  {
   "cell_type": "code",
   "execution_count": 13,
   "metadata": {
    "button": false,
    "new_sheet": false,
    "run_control": {
     "read_only": false
    }
   },
   "outputs": [
    {
     "data": {
      "text/plain": [
       "{'DOI': '10.6084/m9.figshare.1314859.v1',\n",
       " 'agency': {'id': 'datacite', 'label': 'DataCite'}}"
      ]
     },
     "execution_count": 13,
     "metadata": {},
     "output_type": "execute_result"
    }
   ],
   "source": [
    "works.agency('10.6084/m9.figshare.1314859.v1')"
   ]
  },
  {
   "cell_type": "code",
   "execution_count": 14,
   "metadata": {
    "button": false,
    "new_sheet": false,
    "run_control": {
     "read_only": false
    }
   },
   "outputs": [
    {
     "data": {
      "text/plain": [
       "{'DOI': '10.5240/b1fa-0eec-c316-3316-3a73-l',\n",
       " 'agency': {'id': 'eidr', 'label': 'EIDR'}}"
      ]
     },
     "execution_count": 14,
     "metadata": {},
     "output_type": "execute_result"
    }
   ],
   "source": [
    "works.agency('10.5240/B1FA-0EEC-C316-3316-3A73-L')"
   ]
  },
  {
   "cell_type": "markdown",
   "metadata": {
    "button": false,
    "new_sheet": false,
    "run_control": {
     "read_only": false
    }
   },
   "source": [
    "OK, so assuming that we are using a Crossref DOI, how do we get the metadata for it?"
   ]
  },
  {
   "cell_type": "code",
   "execution_count": 15,
   "metadata": {
    "button": false,
    "new_sheet": false,
    "run_control": {
     "read_only": false
    }
   },
   "outputs": [
    {
     "data": {
      "text/plain": [
       "{'indexed': {'date-parts': [[2025, 2, 21]],\n",
       "  'date-time': '2025-02-21T20:13:53Z',\n",
       "  'timestamp': 1740168833243,\n",
       "  'version': '3.37.3'},\n",
       " 'reference-count': 71,\n",
       " 'publisher': 'eLife Sciences Publications, Ltd',\n",
       " 'license': [{'start': {'date-parts': [[2015, 9, 10]],\n",
       "    'date-time': '2015-09-10T00:00:00Z',\n",
       "    'timestamp': 1441843200000},\n",
       "   'content-version': 'vor',\n",
       "   'delay-in-days': 0,\n",
       "   'URL': 'http://creativecommons.org/licenses/by/4.0/'},\n",
       "  {'start': {'date-parts': [[2015, 9, 10]],\n",
       "    'date-time': '2015-09-10T00:00:00Z',\n",
       "    'timestamp': 1441843200000},\n",
       "   'content-version': 'am',\n",
       "   'delay-in-days': 0,\n",
       "   'URL': 'http://creativecommons.org/licenses/by/4.0/'},\n",
       "  {'start': {'date-parts': [[2015, 9, 10]],\n",
       "    'date-time': '2015-09-10T00:00:00Z',\n",
       "    'timestamp': 1441843200000},\n",
       "   'content-version': 'tdm',\n",
       "   'delay-in-days': 0,\n",
       "   'URL': 'http://creativecommons.org/licenses/by/4.0/'}],\n",
       " 'funder': [{'DOI': '10.13039/100006363',\n",
       "   'name': 'National Geographic Society',\n",
       "   'doi-asserted-by': 'publisher',\n",
       "   'id': [{'id': '10.13039/100006363',\n",
       "     'id-type': 'DOI',\n",
       "     'asserted-by': 'publisher'}]},\n",
       "  {'DOI': '10.13039/501100001321',\n",
       "   'name': 'National Research Foundation',\n",
       "   'doi-asserted-by': 'publisher',\n",
       "   'id': [{'id': '10.13039/501100001321',\n",
       "     'id-type': 'DOI',\n",
       "     'asserted-by': 'publisher'}]},\n",
       "  {'DOI': '10.13039/100007423',\n",
       "   'name': 'Lyda Hill Foundation',\n",
       "   'doi-asserted-by': 'publisher',\n",
       "   'id': [{'id': '10.13039/100007423',\n",
       "     'id-type': 'DOI',\n",
       "     'asserted-by': 'publisher'}]},\n",
       "  {'DOI': '10.13039/501100000923',\n",
       "   'name': 'Australian Research Council (ARC)',\n",
       "   'doi-asserted-by': 'publisher',\n",
       "   'award': ['DP140104282'],\n",
       "   'id': [{'id': '10.13039/501100000923',\n",
       "     'id-type': 'DOI',\n",
       "     'asserted-by': 'publisher'}]}],\n",
       " 'content-domain': {'domain': [], 'crossmark-restriction': False},\n",
       " 'short-container-title': [],\n",
       " 'abstract': '<jats:p>We describe the physical context of the Dinaledi Chamber within the Rising Star cave, South Africa, which contains the fossils of Homo naledi. Approximately 1550 specimens of hominin remains have been recovered from at least 15 individuals, representing a small portion of the total fossil content. Macro-vertebrate fossils are exclusively H. naledi, and occur within clay-rich sediments derived from in situ weathering, and exogenous clay and silt, which entered the chamber through fractures that prevented passage of coarser-grained material. The chamber was always in the dark zone, and not accessible to non-hominins. Bone taphonomy indicates that hominin individuals reached the chamber complete, with disarticulation occurring during/after deposition. Hominins accumulated over time as older laminated mudstone units and sediment along the cave floor were eroded. Preliminary evidence is consistent with deliberate body disposal in a single location, by a hominin species other than Homo sapiens, at an as-yet unknown date.</jats:p>',\n",
       " 'DOI': '10.7554/elife.09561',\n",
       " 'type': 'journal-article',\n",
       " 'created': {'date-parts': [[2015, 9, 4]],\n",
       "  'date-time': '2015-09-04T12:06:57Z',\n",
       "  'timestamp': 1441368417000},\n",
       " 'source': 'Crossref',\n",
       " 'is-referenced-by-count': 117,\n",
       " 'title': ['Geological and taphonomic context for the new hominin species Homo naledi from the Dinaledi Chamber, South Africa'],\n",
       " 'prefix': '10.7554',\n",
       " 'volume': '4',\n",
       " 'author': [{'given': 'Paul HGM',\n",
       "   'family': 'Dirks',\n",
       "   'sequence': 'first',\n",
       "   'affiliation': [{'name': 'Department of Earth and Oceans, James Cook University, Townsville, Australia'},\n",
       "    {'name': 'Evolutionary Studies Institute, National Centre for Excellence in PalaeoSciences, University of the Witwatersrand, Johannesburg, South Africa'}]},\n",
       "  {'given': 'Lee R',\n",
       "   'family': 'Berger',\n",
       "   'sequence': 'additional',\n",
       "   'affiliation': [{'name': 'Evolutionary Studies Institute, National Centre for Excellence in PalaeoSciences, University of the Witwatersrand, Johannesburg, South Africa'}]},\n",
       "  {'given': 'Eric M',\n",
       "   'family': 'Roberts',\n",
       "   'sequence': 'additional',\n",
       "   'affiliation': [{'name': 'Department of Earth and Oceans, James Cook University, Townsville, Australia'},\n",
       "    {'name': 'Evolutionary Studies Institute, National Centre for Excellence in PalaeoSciences, University of the Witwatersrand, Johannesburg, South Africa'}]},\n",
       "  {'given': 'Jan D',\n",
       "   'family': 'Kramers',\n",
       "   'sequence': 'additional',\n",
       "   'affiliation': [{'name': 'Department of Geology, University of Johannesburg, Johannesburg, South Africa'}]},\n",
       "  {'given': 'John',\n",
       "   'family': 'Hawks',\n",
       "   'sequence': 'additional',\n",
       "   'affiliation': [{'name': 'Evolutionary Studies Institute, National Centre for Excellence in PalaeoSciences, University of the Witwatersrand, Johannesburg, South Africa'},\n",
       "    {'name': 'Department of Anthropology, University of Wisconsin-Madison, Madison, United States'}]},\n",
       "  {'given': 'Patrick S',\n",
       "   'family': 'Randolph-Quinney',\n",
       "   'sequence': 'additional',\n",
       "   'affiliation': [{'name': 'Evolutionary Studies Institute, National Centre for Excellence in PalaeoSciences, University of the Witwatersrand, Johannesburg, South Africa'},\n",
       "    {'name': 'School of Anatomical Sciences, University of the Witwatersrand, Johannesburg, South Africa'}]},\n",
       "  {'given': 'Marina',\n",
       "   'family': 'Elliott',\n",
       "   'sequence': 'additional',\n",
       "   'affiliation': [{'name': 'Evolutionary Studies Institute, National Centre for Excellence in PalaeoSciences, University of the Witwatersrand, Johannesburg, South Africa'},\n",
       "    {'name': 'Department of Archaeology, Simon Fraser University, Burnaby, Canada'}]},\n",
       "  {'given': 'Charles M',\n",
       "   'family': 'Musiba',\n",
       "   'sequence': 'additional',\n",
       "   'affiliation': [{'name': 'Evolutionary Studies Institute, National Centre for Excellence in PalaeoSciences, University of the Witwatersrand, Johannesburg, South Africa'},\n",
       "    {'name': 'Department of Anthropology, University of Colorado Denver, Denver, United States'}]},\n",
       "  {'given': 'Steven E',\n",
       "   'family': 'Churchill',\n",
       "   'sequence': 'additional',\n",
       "   'affiliation': [{'name': 'Evolutionary Studies Institute, National Centre for Excellence in PalaeoSciences, University of the Witwatersrand, Johannesburg, South Africa'},\n",
       "    {'name': 'Department of Evolutionary Anthropology, Duke University, Durham, United States'}]},\n",
       "  {'given': 'Darryl J',\n",
       "   'family': 'de Ruiter',\n",
       "   'sequence': 'additional',\n",
       "   'affiliation': [{'name': 'Evolutionary Studies Institute, National Centre for Excellence in PalaeoSciences, University of the Witwatersrand, Johannesburg, South Africa'},\n",
       "    {'name': 'Department of Anthropology, Texas A&M University, College Station, United States'}]},\n",
       "  {'given': 'Peter',\n",
       "   'family': 'Schmid',\n",
       "   'sequence': 'additional',\n",
       "   'affiliation': [{'name': 'Evolutionary Studies Institute, National Centre for Excellence in PalaeoSciences, University of the Witwatersrand, Johannesburg, South Africa'},\n",
       "    {'name': 'Anthropological Institute and Museum, University of Zurich, Zurich, Switzerland'}]},\n",
       "  {'given': 'Lucinda R',\n",
       "   'family': 'Backwell',\n",
       "   'sequence': 'additional',\n",
       "   'affiliation': [{'name': 'Evolutionary Studies Institute, National Centre for Excellence in PalaeoSciences, University of the Witwatersrand, Johannesburg, South Africa'}]},\n",
       "  {'given': 'Georgy A',\n",
       "   'family': 'Belyanin',\n",
       "   'sequence': 'additional',\n",
       "   'affiliation': [{'name': 'Department of Geology, University of Johannesburg, Johannesburg, South Africa'}]},\n",
       "  {'given': 'Pedro',\n",
       "   'family': 'Boshoff',\n",
       "   'sequence': 'additional',\n",
       "   'affiliation': [{'name': 'Evolutionary Studies Institute, National Centre for Excellence in PalaeoSciences, University of the Witwatersrand, Johannesburg, South Africa'},\n",
       "    {'name': 'Department of Anthropology, University of Wisconsin-Madison, Madison, United States'}]},\n",
       "  {'given': 'K Lindsay',\n",
       "   'family': 'Hunter',\n",
       "   'sequence': 'additional',\n",
       "   'affiliation': [{'name': 'Evolutionary Studies Institute, National Centre for Excellence in PalaeoSciences, University of the Witwatersrand, Johannesburg, South Africa'}]},\n",
       "  {'given': 'Elen M',\n",
       "   'family': 'Feuerriegel',\n",
       "   'sequence': 'additional',\n",
       "   'affiliation': [{'name': 'Evolutionary Studies Institute, National Centre for Excellence in PalaeoSciences, University of the Witwatersrand, Johannesburg, South Africa'}]},\n",
       "  {'given': 'Alia',\n",
       "   'family': 'Gurtov',\n",
       "   'sequence': 'additional',\n",
       "   'affiliation': [{'name': 'Evolutionary Studies Institute, National Centre for Excellence in PalaeoSciences, University of the Witwatersrand, Johannesburg, South Africa'},\n",
       "    {'name': 'Department of Anthropology, University of Wisconsin-Madison, Madison, United States'}]},\n",
       "  {'given': 'James du G',\n",
       "   'family': 'Harrison',\n",
       "   'sequence': 'additional',\n",
       "   'affiliation': [{'name': 'School of Animal, Plant and Environmental Sciences, University of the Witwatersrand, Johannesburg, South Africa'}]},\n",
       "  {'given': 'Rick',\n",
       "   'family': 'Hunter',\n",
       "   'sequence': 'additional',\n",
       "   'affiliation': [{'name': 'Evolutionary Studies Institute, National Centre for Excellence in PalaeoSciences, University of the Witwatersrand, Johannesburg, South Africa'}]},\n",
       "  {'given': 'Ashley',\n",
       "   'family': 'Kruger',\n",
       "   'sequence': 'additional',\n",
       "   'affiliation': [{'name': 'Evolutionary Studies Institute, National Centre for Excellence in PalaeoSciences, University of the Witwatersrand, Johannesburg, South Africa'}]},\n",
       "  {'given': 'Hannah',\n",
       "   'family': 'Morris',\n",
       "   'sequence': 'additional',\n",
       "   'affiliation': [{'name': 'Evolutionary Studies Institute, National Centre for Excellence in PalaeoSciences, University of the Witwatersrand, Johannesburg, South Africa'}]},\n",
       "  {'given': 'Tebogo V',\n",
       "   'family': 'Makhubela',\n",
       "   'sequence': 'additional',\n",
       "   'affiliation': [{'name': 'Department of Geology, University of Johannesburg, Johannesburg, South Africa'}]},\n",
       "  {'given': 'Becca',\n",
       "   'family': 'Peixotto',\n",
       "   'sequence': 'additional',\n",
       "   'affiliation': [{'name': 'Evolutionary Studies Institute, National Centre for Excellence in PalaeoSciences, University of the Witwatersrand, Johannesburg, South Africa'},\n",
       "    {'name': 'Department of Anthropology, American University, Washington DC, United States'}]},\n",
       "  {'given': 'Steven',\n",
       "   'family': 'Tucker',\n",
       "   'sequence': 'additional',\n",
       "   'affiliation': [{'name': 'Evolutionary Studies Institute, National Centre for Excellence in PalaeoSciences, University of the Witwatersrand, Johannesburg, South Africa'}]}],\n",
       " 'member': '4374',\n",
       " 'published-online': {'date-parts': [[2015, 9, 10]]},\n",
       " 'reference': [{'key': 'bib1',\n",
       "   'doi-asserted-by': 'publisher',\n",
       "   'first-page': '191',\n",
       "   'DOI': '10.1006/jhev.1997.0137',\n",
       "   'article-title': 'Surface modifications of the Sima de los Huesos fossil humans',\n",
       "   'volume': '33',\n",
       "   'author': 'Andrews',\n",
       "   'year': '1997',\n",
       "   'journal-title': 'Journal of Human Evolution'},\n",
       "  {'key': 'bib2',\n",
       "   'doi-asserted-by': 'publisher',\n",
       "   'DOI': '10.1016/j.quaint.2015.02.044',\n",
       "   'article-title': 'The stratigraphy of the Sima de los Huesos (Atapuerca, Spain) and implications for the origin of the fossil hominin accumulation',\n",
       "   'author': 'Aranburu',\n",
       "   'year': '2015',\n",
       "   'journal-title': 'Quaternary International'},\n",
       "  {'key': 'bib3',\n",
       "   'doi-asserted-by': 'publisher',\n",
       "   'first-page': '109',\n",
       "   'DOI': '10.1006/jhev.1997.0132',\n",
       "   'article-title': 'Sima de los Huesos (Sierra de Atapuerca, Spain): the site',\n",
       "   'volume': '33',\n",
       "   'author': 'Arsuaga',\n",
       "   'year': '1997',\n",
       "   'journal-title': 'Journal of Human Evolution'},\n",
       "  {'key': 'bib4',\n",
       "   'doi-asserted-by': 'publisher',\n",
       "   'first-page': '72',\n",
       "   'DOI': '10.1016/j.palaeo.2012.03.032',\n",
       "   'article-title': 'Criteria for identifying bone modification by termites in the fossil record',\n",
       "   'volume': '337–338',\n",
       "   'author': 'Backwell',\n",
       "   'year': '2012',\n",
       "   'journal-title': 'Palaeogeology, Palaeoclimate and Palaeoecology'},\n",
       "  {'key': 'bib5',\n",
       "   'doi-asserted-by': 'publisher',\n",
       "   'first-page': '257',\n",
       "   'DOI': '10.1016/j.jhevol.2010.01.004',\n",
       "   'article-title': 'Landscapes of human evolution: models and methods of tectonic geomorphology and the reconstruction of hominin landscapes',\n",
       "   'volume': '60',\n",
       "   'author': 'Bailey',\n",
       "   'year': '2011',\n",
       "   'journal-title': 'Journal of Human Evolution'},\n",
       "  {'key': 'bib6',\n",
       "   'doi-asserted-by': 'crossref',\n",
       "   'first-page': '150',\n",
       "   'DOI': '10.1017/S0094837300005820',\n",
       "   'article-title': 'Taphonomic and ecological information from bone weathering',\n",
       "   'volume': '4',\n",
       "   'author': 'Behrensmeyer',\n",
       "   'year': '1978',\n",
       "   'journal-title': 'Palaeobiology'},\n",
       "  {'key': 'bib7',\n",
       "   'doi-asserted-by': 'crossref',\n",
       "   'first-page': '291',\n",
       "   'DOI': '10.1007/978-1-4899-5034-5_6',\n",
       "   'volume-title': 'Taphonomy: releasing the data locked in the Fossil record',\n",
       "   'author': 'Behrensmeyer',\n",
       "   'year': '1991'},\n",
       "  {'key': 'bib8',\n",
       "   'first-page': '203',\n",
       "   'article-title': 'Paleoenvironmental context of the pliocene AL 333 \"First family\" hominin locality, hadar formation, Ethiopia',\n",
       "   'volume': '446',\n",
       "   'author': 'Behrensmeyer',\n",
       "   'year': '2008',\n",
       "   'journal-title': 'Geological Society of America Special Papers'},\n",
       "  {'key': 'bib9',\n",
       "   'doi-asserted-by': 'publisher',\n",
       "   'first-page': '768',\n",
       "   'DOI': '10.1038/319768a0',\n",
       "   'article-title': 'Trampling as a cause of bone surface damage and pseudo-cutmarks',\n",
       "   'volume': '319',\n",
       "   'author': 'Behrensmeyer',\n",
       "   'year': '1986',\n",
       "   'journal-title': 'Nature'},\n",
       "  {'key': 'bib10',\n",
       "   'doi-asserted-by': 'publisher',\n",
       "   'first-page': '195',\n",
       "   'DOI': '10.1126/science.1184944',\n",
       "   'article-title': 'Australopithecus sediba: a new species of homo-like Australopith from South Africa',\n",
       "   'volume': '328',\n",
       "   'author': 'Berger',\n",
       "   'year': '2010',\n",
       "   'journal-title': 'Science'},\n",
       "  {'key': 'bib11',\n",
       "   'doi-asserted-by': 'publisher',\n",
       "   'first-page': 'e09560',\n",
       "   'DOI': '10.7554/eLife.09560',\n",
       "   'article-title': 'Homo naledi, a new species of the genus Homo from the Dinaledi Chamber, South Africa',\n",
       "   'volume': '4',\n",
       "   'author': 'Berger',\n",
       "   'year': '2015',\n",
       "   'journal-title': 'eLife'},\n",
       "  {'key': 'bib12',\n",
       "   'doi-asserted-by': 'publisher',\n",
       "   'first-page': '327',\n",
       "   'DOI': '10.1006/jasc.1998.0370',\n",
       "   'article-title': 'Age distributions of hominid samples at Atapuerca (SH) and Krapina could indicate accumulation by catastrophe',\n",
       "   'volume': '26',\n",
       "   'author': 'Bocquet-Appel',\n",
       "   'year': '1999',\n",
       "   'journal-title': 'Journal of Archaeological Science'},\n",
       "  {'volume-title': 'The hunters or the hunted? An introduction to African cave taphonomy',\n",
       "   'year': '1981',\n",
       "   'author': 'Brain',\n",
       "   'key': 'bib13'},\n",
       "  {'key': 'bib14',\n",
       "   'volume-title': \"Swartkrans: a cave's chronicle of early man\",\n",
       "   'volume': '8',\n",
       "   'author': 'Brain',\n",
       "   'year': '1993'},\n",
       "  {'key': 'bib15',\n",
       "   'doi-asserted-by': 'publisher',\n",
       "   'first-page': '36',\n",
       "   'DOI': '10.1016/j.jhevol.2014.02.014',\n",
       "   'article-title': 'Stratigraphic analysis of the Sterkfontein StW 573 Australopithecus skeleton and implications for its age',\n",
       "   'volume': '70',\n",
       "   'author': 'Bruxelles',\n",
       "   'year': '2014',\n",
       "   'journal-title': 'Journal of Human Evolution'},\n",
       "  {'key': 'bib16',\n",
       "   'doi-asserted-by': 'publisher',\n",
       "   'first-page': '155',\n",
       "   'DOI': '10.1016/j.crpv.2005.11.010',\n",
       "   'article-title': 'The emergence of a symbolic behaviour: the sepulchral pit of Sima de los Huesos, Sierra deAtapuerca, Burgos, Spain',\n",
       "   'volume': '5',\n",
       "   'author': 'Carbonell',\n",
       "   'year': '2006',\n",
       "   'journal-title': 'Comptes Rendus Palevol'},\n",
       "  {'key': 'bib17',\n",
       "   'first-page': '460',\n",
       "   'article-title': 'The first ever discovery of a well-preserved skull and associated skeleton of Australopithecus',\n",
       "   'volume': '94',\n",
       "   'author': 'Clarke',\n",
       "   'year': '1998',\n",
       "   'journal-title': 'South African Journal of Science'},\n",
       "  {'key': 'bib19',\n",
       "   'doi-asserted-by': 'publisher',\n",
       "   'first-page': '665',\n",
       "   'DOI': '10.1006/jasc.1999.0470',\n",
       "   'article-title': 'Leopards as taphonomic agents in dolomitic caves—implications for bone accumulations in the hominid-bearing deposits of South Africa',\n",
       "   'volume': '27',\n",
       "   'author': 'de Ruiter',\n",
       "   'year': '2000',\n",
       "   'journal-title': 'Journal of Archaeological Sciences'},\n",
       "  {'key': 'bib20',\n",
       "   'doi-asserted-by': 'publisher',\n",
       "   'first-page': '497',\n",
       "   'DOI': '10.1016/j.jhevol.2009.01.009',\n",
       "   'article-title': \"New Australopithecus robustus fossils and associated U–Pb dates from Cooper's cave (Gauteng, South Africa)\",\n",
       "   'volume': '56',\n",
       "   'author': 'de Ruiter',\n",
       "   'year': '2009',\n",
       "   'journal-title': 'Journal of Human Evolution'},\n",
       "  {'key': 'bib21',\n",
       "   'doi-asserted-by': 'publisher',\n",
       "   'first-page': '109',\n",
       "   'DOI': '10.1016/j.jafrearsci.2012.09.012',\n",
       "   'article-title': 'Hominin-bearing caves and landscape dynamics in the Cradle of Humankind, South Africa',\n",
       "   'volume': '78',\n",
       "   'author': 'Dirks',\n",
       "   'year': '2013',\n",
       "   'journal-title': 'Journal of African Earth Sciences'},\n",
       "  {'key': 'bib22',\n",
       "   'doi-asserted-by': 'publisher',\n",
       "   'first-page': '205',\n",
       "   'DOI': '10.1126/science.1184950',\n",
       "   'article-title': 'Geological setting and age of Australopithecus sediba from Southern Africa',\n",
       "   'volume': '328',\n",
       "   'author': 'Dirks',\n",
       "   'year': '2010',\n",
       "   'journal-title': 'Science'},\n",
       "  {'key': 'bib23',\n",
       "   'doi-asserted-by': 'publisher',\n",
       "   'first-page': '45',\n",
       "   'DOI': '10.1007/s10963-012-9056-z',\n",
       "   'article-title': 'Neanderthal shell tool production: evidence from middle palaeolithic Italy and Greece',\n",
       "   'volume': '25',\n",
       "   'author': 'Douka',\n",
       "   'year': '2012',\n",
       "   'journal-title': 'Journal of World Prehistory'},\n",
       "  {'key': 'bib24',\n",
       "   'first-page': '237',\n",
       "   'volume-title': 'The geology of South Africa',\n",
       "   'author': 'Eriksson',\n",
       "   'year': '2006'},\n",
       "  {'key': 'bib25',\n",
       "   'first-page': '147',\n",
       "   'article-title': 'Experimental effects of water abrasion on bone',\n",
       "   'volume': '1',\n",
       "   'author': 'Fernández-Jalvo',\n",
       "   'year': '2003',\n",
       "   'journal-title': 'Journal of Taphonomy'},\n",
       "  {'key': 'bib26',\n",
       "   'first-page': '35',\n",
       "   'volume-title': 'Broken bones: anthropological analysis of blunt force trauma',\n",
       "   'author': 'Galloway',\n",
       "   'year': '1999'},\n",
       "  {'key': 'bib27',\n",
       "   'first-page': '37',\n",
       "   'volume-title': 'Transitions before the transition',\n",
       "   'author': 'Gaudzinski',\n",
       "   'year': '2006'},\n",
       "  {'key': 'bib29',\n",
       "   'doi-asserted-by': 'publisher',\n",
       "   'first-page': '85',\n",
       "   'DOI': '10.1038/nature14268',\n",
       "   'article-title': 'New cosmogenic burial ages for Sterkfontein Member 2 Australopithicus and Member 5 Oldowan',\n",
       "   'volume': '522',\n",
       "   'author': 'Granger',\n",
       "   'year': '2015',\n",
       "   'journal-title': 'Nature'},\n",
       "  {'key': 'bib30',\n",
       "   'doi-asserted-by': 'publisher',\n",
       "   'first-page': '1459',\n",
       "   'DOI': '10.1520/JFS13338J',\n",
       "   'article-title': 'Contribution of rodents to postmortem artifacts of bone and soft-tissue',\n",
       "   'volume': '37',\n",
       "   'author': 'Haglund',\n",
       "   'year': '1992',\n",
       "   'journal-title': 'Journal of Forensic Sciences'},\n",
       "  {'key': 'bib31',\n",
       "   'doi-asserted-by': 'crossref',\n",
       "   'first-page': '806',\n",
       "   'DOI': '10.1520/JFS13476J',\n",
       "   'article-title': 'Disappearance of soft tissue and the disarticulation of human remains from Aqueous environments',\n",
       "   'volume': '38',\n",
       "   'author': 'Haglund',\n",
       "   'year': '1993',\n",
       "   'journal-title': 'Journal of Forensic Sciences'},\n",
       "  {'key': 'bib33',\n",
       "   'doi-asserted-by': 'crossref',\n",
       "   'first-page': '164',\n",
       "   'DOI': '10.1017/S0094837300007545',\n",
       "   'article-title': 'A guide for differentiating mammalian carnivore taxa responsible for gnaw damage to herbivore limb bones',\n",
       "   'volume': '9',\n",
       "   'author': 'Haynes',\n",
       "   'year': '1983',\n",
       "   'journal-title': 'Palaeobiology'},\n",
       "  {'key': 'bib34',\n",
       "   'doi-asserted-by': 'publisher',\n",
       "   'first-page': '620',\n",
       "   'DOI': '10.1016/j.jhevol.2007.03.007',\n",
       "   'article-title': 'Orbital forcing and the spread of C4 grasses in the late Neogene: stable isotope evidence from South African speleothems',\n",
       "   'volume': '53',\n",
       "   'author': 'Hopley',\n",
       "   'year': '2007',\n",
       "   'journal-title': 'Journal of Human Evolution'},\n",
       "  {'key': 'bib35',\n",
       "   'doi-asserted-by': 'publisher',\n",
       "   'first-page': '310',\n",
       "   'DOI': '10.1038/265310a0',\n",
       "   'article-title': 'A fossil skull probably of the genus Homo from Sterkfontein, Transvaal',\n",
       "   'volume': '265',\n",
       "   'author': 'Hughes',\n",
       "   'year': '1977',\n",
       "   'journal-title': 'Nature'},\n",
       "  {'key': 'bib36',\n",
       "   'first-page': '96',\n",
       "   'volume-title': 'Forensic archaeology: advances in theory and practice',\n",
       "   'author': 'Hunter',\n",
       "   'year': '2005'},\n",
       "  {'key': 'bib37',\n",
       "   'doi-asserted-by': 'publisher',\n",
       "   'first-page': '228',\n",
       "   'DOI': '10.1038/nature13962',\n",
       "   'article-title': 'Homo erectus at Trinil on Java used shells for tool production and engraving',\n",
       "   'volume': '518',\n",
       "   'author': 'Joordens',\n",
       "   'year': '2015',\n",
       "   'journal-title': 'Nature'},\n",
       "  {'key': 'bib38',\n",
       "   'doi-asserted-by': 'crossref',\n",
       "   'first-page': '287',\n",
       "   'DOI': '10.1201/b15424-12',\n",
       "   'volume-title': 'Manual of forensic taphonomy',\n",
       "   'author': 'Junod',\n",
       "   'year': '2013'},\n",
       "  {'key': 'bib39',\n",
       "   'doi-asserted-by': 'publisher',\n",
       "   'first-page': '228',\n",
       "   'DOI': '10.2307/3514687',\n",
       "   'article-title': 'Conceptual framework for the analysis and classification of fossil concentrations',\n",
       "   'volume': '1',\n",
       "   'author': 'Kidwell',\n",
       "   'year': '1986',\n",
       "   'journal-title': 'Palaios'},\n",
       "  {'volume-title': 'Hyaenids: taphonomy and implications for the Palaeoenvironment',\n",
       "   'year': '2011',\n",
       "   'author': 'Kuhn',\n",
       "   'key': 'bib40'},\n",
       "  {'key': 'bib41',\n",
       "   'first-page': '263',\n",
       "   'volume-title': 'Handbook of forensic anthropology and archaeology',\n",
       "   'author': 'Loe',\n",
       "   'year': '2009'},\n",
       "  {'key': 'bib42',\n",
       "   'first-page': '223',\n",
       "   'volume-title': 'Forensic taphonomy: the postmortem fate of human remains',\n",
       "   'author': 'Lyman',\n",
       "   'year': '1997'},\n",
       "  {'key': 'bib43',\n",
       "   'doi-asserted-by': 'publisher',\n",
       "   'first-page': '293',\n",
       "   'DOI': '10.1016/0305-4403(89)90007-1',\n",
       "   'article-title': 'A critical evaluation of bone weathering as an indication of bone assemblage formation',\n",
       "   'volume': '16',\n",
       "   'author': 'Lyman',\n",
       "   'year': '1989',\n",
       "   'journal-title': 'Journal of Archaeological Sciences'},\n",
       "  {'key': 'bib44',\n",
       "   'doi-asserted-by': 'crossref',\n",
       "   'DOI': '10.1017/CBO9781139878302',\n",
       "   'volume-title': 'Vertebrate Taphonomy',\n",
       "   'author': 'Lyman',\n",
       "   'year': '1994'},\n",
       "  {'key': 'bib45',\n",
       "   'doi-asserted-by': 'publisher',\n",
       "   'first-page': '469',\n",
       "   'DOI': '10.1111/j.1556-4029.2006.00108.x',\n",
       "   'article-title': 'The application of geographic information systems and spatial analysis to assess dumped and subsequently scattered human remains',\n",
       "   'volume': '51',\n",
       "   'author': 'Manhein',\n",
       "   'year': '2006',\n",
       "   'journal-title': 'Journal of Forensic Sciences'},\n",
       "  {'key': 'bib46',\n",
       "   'doi-asserted-by': 'publisher',\n",
       "   'first-page': '43',\n",
       "   'DOI': '10.5038/1827-806X.32.1.4',\n",
       "   'article-title': 'Contribution to the speleology of sterkfontein cave, Gauteng Province, South Africa',\n",
       "   'volume': '32',\n",
       "   'author': 'Martini',\n",
       "   'year': '2003',\n",
       "   'journal-title': 'International Journal of Speleology'},\n",
       "  {'key': 'bib47',\n",
       "   'doi-asserted-by': 'publisher',\n",
       "   'first-page': '453',\n",
       "   'DOI': '10.1006/jhev.2000.0435',\n",
       "   'article-title': \"The revolution that wasn't: a new interpretation of the origin of modern human behaviour\",\n",
       "   'volume': '39',\n",
       "   'author': 'McBrearty',\n",
       "   'year': '2000',\n",
       "   'journal-title': 'Journal of Human Evolution'},\n",
       "  {'key': 'bib48',\n",
       "   'first-page': '14',\n",
       "   'volume-title': 'Guidelines to the standards for recording human remains. Technical Paper No. 7',\n",
       "   'author': 'McKinley',\n",
       "   'year': '2004'},\n",
       "  {'volume-title': 'Archaeological site Manual. Museum of London archaeological Services',\n",
       "   'year': '1994',\n",
       "   'author': 'MOLAS',\n",
       "   'key': 'bib49'},\n",
       "  {'key': 'bib50',\n",
       "   'doi-asserted-by': 'publisher',\n",
       "   'first-page': '607',\n",
       "   'DOI': '10.1126/science.1081651',\n",
       "   'article-title': 'Lower Pliocene hominid remains from Sterkfontein',\n",
       "   'volume': '300',\n",
       "   'author': 'Partridge',\n",
       "   'year': '2003',\n",
       "   'journal-title': 'Science'},\n",
       "  {'key': 'bib51',\n",
       "   'first-page': '35',\n",
       "   'article-title': 'The stratigraphy of the Sterkfontein hominid deposit and its relationship to the underground cave system',\n",
       "   'volume': '28',\n",
       "   'author': 'Partridge',\n",
       "   'year': '1991',\n",
       "   'journal-title': 'Palaeontologica Africa'},\n",
       "  {'key': 'bib52',\n",
       "   'doi-asserted-by': 'publisher',\n",
       "   'first-page': '602',\n",
       "   'DOI': '10.1016/j.jhevol.2007.02.005',\n",
       "   'article-title': 'Stratigraphy, U-Th chronology, and paleoenvironments at Gladysvale Cave: insights into the climatic control of South African hominin-bearing cave deposits',\n",
       "   'volume': '53',\n",
       "   'author': 'Pickering',\n",
       "   'year': '2007',\n",
       "   'journal-title': 'Journal of Human Evolution'},\n",
       "  {'key': 'bib53',\n",
       "   'doi-asserted-by': 'publisher',\n",
       "   'first-page': '1421',\n",
       "   'DOI': '10.1126/science.1203697',\n",
       "   'article-title': 'Australopithecus sediba at 1.977 Ma and implications for the origins of the genus Homo',\n",
       "   'volume': '333',\n",
       "   'author': 'Pickering',\n",
       "   'year': '2011a',\n",
       "   'journal-title': 'Science'},\n",
       "  {'key': 'bib54',\n",
       "   'doi-asserted-by': 'publisher',\n",
       "   'first-page': '23',\n",
       "   'DOI': '10.1016/j.epsl.2011.03.019',\n",
       "   'article-title': 'Contemporary flowstone development links early hominin bearing cave deposits in South Africa',\n",
       "   'volume': '306',\n",
       "   'author': 'Pickering',\n",
       "   'year': '2011b',\n",
       "   'journal-title': 'Earth Planetary Sciences Letters'},\n",
       "  {'key': 'bib55',\n",
       "   'doi-asserted-by': 'publisher',\n",
       "   'first-page': '70',\n",
       "   'DOI': '10.1016/j.jhevol.2010.03.014',\n",
       "   'article-title': 'Re-appraisal of the stratigraphy and determination of new U-Pb dates for the Sterkfontein hominin site, South Africa',\n",
       "   'volume': '59',\n",
       "   'author': 'Pickering',\n",
       "   'year': '2010',\n",
       "   'journal-title': 'Journal of Human Evolution'},\n",
       "  {'key': 'bib56',\n",
       "   'doi-asserted-by': 'publisher',\n",
       "   'first-page': '1',\n",
       "   'DOI': '10.1002/ajpa.10278',\n",
       "   'article-title': 'Role of carnivores in the accumulation of the Sterkfontein Member 4 hominid assemblage: a taphonomic reassessment of the complete hominid fossil sample (1936–1999)',\n",
       "   'volume': '125',\n",
       "   'author': 'Pickering',\n",
       "   'year': '2004',\n",
       "   'journal-title': 'American Journal of Physical Anthropology'},\n",
       "  {'key': 'bib57',\n",
       "   'doi-asserted-by': 'crossref',\n",
       "   'DOI': '10.1201/b15424',\n",
       "   'volume-title': 'Manual of forensic taphonomy',\n",
       "   'author': 'Pokines',\n",
       "   'year': '2013'},\n",
       "  {'key': 'bib58',\n",
       "   'doi-asserted-by': 'publisher',\n",
       "   'first-page': '281',\n",
       "   'DOI': '10.1016/j.jhevol.2010.10.001',\n",
       "   'article-title': 'Landscapes and their relation to hominin habitats: case studies from Australopithecus sites in eastern and southern Africa',\n",
       "   'volume': '60',\n",
       "   'author': 'Reynolds',\n",
       "   'year': '2011',\n",
       "   'journal-title': 'Journal of Human Evolution'},\n",
       "  {'key': 'bib59',\n",
       "   'doi-asserted-by': 'publisher',\n",
       "   'first-page': '394',\n",
       "   'DOI': '10.2307/3514834',\n",
       "   'article-title': 'Taphonomy of three dinosaur bone beds in the Upper Cretaceous Two Medicine Formation of Northwestern Montana: evidence for drought related mortality',\n",
       "   'volume': '5',\n",
       "   'author': 'Rogers',\n",
       "   'year': '1990',\n",
       "   'journal-title': 'Palaios'},\n",
       "  {'key': 'bib60',\n",
       "   'doi-asserted-by': 'publisher',\n",
       "   'first-page': '57',\n",
       "   'DOI': '10.1016/j.anthro.2011.12.003',\n",
       "   'article-title': 'The Neandertals from el sidron (Asturias, Spain). Updating of a new sample',\n",
       "   'volume': '116',\n",
       "   'author': 'Rosas',\n",
       "   'year': '2012',\n",
       "   'journal-title': 'Anthropologie'},\n",
       "  {'key': 'bib61',\n",
       "   'doi-asserted-by': 'publisher',\n",
       "   'first-page': '373',\n",
       "   'DOI': '10.1002/ajpa.1330720310',\n",
       "   'article-title': 'Bone breakage in the Krapina hominid collection',\n",
       "   'volume': '72',\n",
       "   'author': 'Russell',\n",
       "   'year': '1987a',\n",
       "   'journal-title': 'American Journal of Physical Anthropology'},\n",
       "  {'key': 'bib62',\n",
       "   'doi-asserted-by': 'publisher',\n",
       "   'first-page': '381',\n",
       "   'DOI': '10.1002/ajpa.1330720311',\n",
       "   'article-title': 'Mortuary practices at the Krapina Neandertal site',\n",
       "   'volume': '72',\n",
       "   'author': 'Russell',\n",
       "   'year': '1987b',\n",
       "   'journal-title': 'American Journal of Physical Anthropology'},\n",
       "  {'key': 'bib63',\n",
       "   'doi-asserted-by': 'publisher',\n",
       "   'first-page': '71',\n",
       "   'DOI': '10.1016/j.quascirev.2014.05.004',\n",
       "   'article-title': 'Carnivore activity in the Sima de los Huesos (Atapuerca, Spain) hominin sample',\n",
       "   'volume': '97',\n",
       "   'author': 'Sala',\n",
       "   'year': '2014',\n",
       "   'journal-title': 'Quaternary Science Reviews'},\n",
       "  {'key': 'bib64',\n",
       "   'doi-asserted-by': 'publisher',\n",
       "   'first-page': '113',\n",
       "   'DOI': '10.1016/j.jas.2015.01.002',\n",
       "   'article-title': 'Breakage patterns in Sima de los Huesos (Atapuerca, Spain) hominin sample',\n",
       "   'volume': '55',\n",
       "   'author': 'Sala',\n",
       "   'year': '2015a',\n",
       "   'journal-title': 'Journal of Archaeological Science'},\n",
       "  {'key': 'bib65',\n",
       "   'doi-asserted-by': 'publisher',\n",
       "   'first-page': 'e0126589',\n",
       "   'DOI': '10.1371/journal.pone.0126589',\n",
       "   'article-title': 'Lethal Interpersonal Violence in the Middle Pleistocene',\n",
       "   'volume': '10',\n",
       "   'author': 'Sala',\n",
       "   'year': '2015b',\n",
       "   'journal-title': 'PLOS ONE'},\n",
       "  {'key': 'bib66',\n",
       "   'doi-asserted-by': 'publisher',\n",
       "   'first-page': '47',\n",
       "   'DOI': '10.1016/j.quascirev.2014.04.001',\n",
       "   'article-title': 'The role of carnivores and their relationship to hominin settlements in the TD6-2 level from Gran Dolina (Sierra de Atapuerca, Spain)',\n",
       "   'volume': '93',\n",
       "   'author': 'Saladié',\n",
       "   'year': '2014',\n",
       "   'journal-title': 'Quaternary Science Reviews'},\n",
       "  {'key': 'bib67',\n",
       "   'doi-asserted-by': 'publisher',\n",
       "   'first-page': '223',\n",
       "   'DOI': '10.1006/jasc.1995.0024',\n",
       "   'article-title': 'Differential burning, recrystallization, and fragmentation of archaeological bone',\n",
       "   'volume': '22',\n",
       "   'author': 'Stiner',\n",
       "   'year': '1995',\n",
       "   'journal-title': 'Journal of Archaeological Science'},\n",
       "  {'key': 'bib68',\n",
       "   'first-page': '240',\n",
       "   'article-title': 'Forensic application of biomechanics',\n",
       "   'volume': '136',\n",
       "   'author': 'Straus',\n",
       "   'year': '2003',\n",
       "   'journal-title': 'Forensic Sciences International'},\n",
       "  {'key': 'bib69',\n",
       "   'doi-asserted-by': 'crossref',\n",
       "   'first-page': '341',\n",
       "   'DOI': '10.1201/b15424-14',\n",
       "   'volume-title': 'Manual of forensic taphonomy',\n",
       "   'author': 'Symes',\n",
       "   'year': '2013'},\n",
       "  {'key': 'bib70',\n",
       "   'doi-asserted-by': 'publisher',\n",
       "   'first-page': '91',\n",
       "   'DOI': '10.1016/0031-0182(88)90092-2',\n",
       "   'article-title': 'Taphonomy and preservation of a monospecific titanothere assemblage from the Washakaie Formation (Late Eocene), Southern Wyoming: an ecological accident in the fossil record. Palaeogeology',\n",
       "   'volume': '63',\n",
       "   'author': 'Turnbull',\n",
       "   'year': '1988',\n",
       "   'journal-title': 'Palaeoclimate and Palaeoecology'},\n",
       "  {'key': 'bib71',\n",
       "   'doi-asserted-by': 'publisher',\n",
       "   'first-page': 'e0126904',\n",
       "   'DOI': '10.1371/journal.pone.0126904',\n",
       "   'article-title': 'Taphonomic Analysis of the Faunal Assemblage Associated with the Hominins (Australopithecus sediba) from the Early Pleistocene Cave Deposits of Malapa, South Africa',\n",
       "   'volume': '10',\n",
       "   'author': 'Val',\n",
       "   'year': '2015',\n",
       "   'journal-title': 'PLOS ONE'},\n",
       "  {'key': 'bib72',\n",
       "   'doi-asserted-by': 'publisher',\n",
       "   'first-page': '93',\n",
       "   'DOI': '10.1002/evan.1360010307',\n",
       "   'article-title': 'Cannibalism in prehistoric Europe',\n",
       "   'volume': '1',\n",
       "   'author': 'Villa',\n",
       "   'year': '1992',\n",
       "   'journal-title': 'Evolutionary Anthropology: Issues, News, and Reviews'},\n",
       "  {'key': 'bib73',\n",
       "   'doi-asserted-by': 'publisher',\n",
       "   'first-page': '27',\n",
       "   'DOI': '10.1016/0047-2484(91)90034-S',\n",
       "   'article-title': 'Breakage patterns of human long bones',\n",
       "   'volume': '21',\n",
       "   'author': 'Villa',\n",
       "   'year': '1991',\n",
       "   'journal-title': 'Journal of Human Evolution'},\n",
       "  {'volume-title': 'Prehistoric cannibalism at mancos 5MTUMR-2346',\n",
       "   'year': '2014',\n",
       "   'author': 'White',\n",
       "   'key': 'bib74'}],\n",
       " 'container-title': ['eLife'],\n",
       " 'original-title': [],\n",
       " 'language': 'en',\n",
       " 'link': [{'URL': 'http://elifesciences.org/lookup/doi/10.7554/eLife.09561',\n",
       "   'content-type': 'application/pdf',\n",
       "   'content-version': 'vor',\n",
       "   'intended-application': 'text-mining'},\n",
       "  {'URL': 'https://cdn.elifesciences.org/articles/09561/elife-09561-v1.pdf',\n",
       "   'content-type': 'application/pdf',\n",
       "   'content-version': 'vor',\n",
       "   'intended-application': 'text-mining'},\n",
       "  {'URL': 'https://cdn.elifesciences.org/articles/09561/elife-09561-v1.xml',\n",
       "   'content-type': 'application/xml',\n",
       "   'content-version': 'vor',\n",
       "   'intended-application': 'text-mining'},\n",
       "  {'URL': 'https://elifesciences.org/articles/09561',\n",
       "   'content-type': 'unspecified',\n",
       "   'content-version': 'vor',\n",
       "   'intended-application': 'similarity-checking'}],\n",
       " 'deposited': {'date-parts': [[2023, 10, 12]],\n",
       "  'date-time': '2023-10-12T00:52:23Z',\n",
       "  'timestamp': 1697071943000},\n",
       " 'score': 1,\n",
       " 'resource': {'primary': {'URL': 'https://elifesciences.org/articles/09561'}},\n",
       " 'subtitle': [],\n",
       " 'short-title': [],\n",
       " 'issued': {'date-parts': [[2015, 9, 10]]},\n",
       " 'references-count': 71,\n",
       " 'alternative-id': ['10.7554/eLife.09561'],\n",
       " 'URL': 'https://doi.org/10.7554/elife.09561',\n",
       " 'archive': ['CLOCKSS'],\n",
       " 'relation': {'has-review': [{'id-type': 'doi',\n",
       "    'id': '10.7554/eLife.09561.021',\n",
       "    'asserted-by': 'object'},\n",
       "   {'id-type': 'doi',\n",
       "    'id': '10.7554/eLife.09561.020',\n",
       "    'asserted-by': 'object'}]},\n",
       " 'ISSN': ['2050-084X'],\n",
       " 'issn-type': [{'type': 'electronic', 'value': '2050-084X'}],\n",
       " 'subject': [],\n",
       " 'published': {'date-parts': [[2015, 9, 10]]}}"
      ]
     },
     "execution_count": 15,
     "metadata": {},
     "output_type": "execute_result"
    }
   ],
   "source": [
    "record = works.doi('10.7554/eLife.09561')\n",
    "record"
   ]
  },
  {
   "cell_type": "markdown",
   "metadata": {
    "button": false,
    "new_sheet": false,
    "run_control": {
     "read_only": false
    }
   },
   "source": [
    "This is basically a huge JSON object, so you can retrieve individual elements from it. Here is the publisher:"
   ]
  },
  {
   "cell_type": "code",
   "execution_count": 16,
   "metadata": {
    "button": false,
    "new_sheet": false,
    "run_control": {
     "read_only": false
    }
   },
   "outputs": [
    {
     "data": {
      "text/plain": [
       "'eLife Sciences Publications, Ltd'"
      ]
     },
     "execution_count": 16,
     "metadata": {},
     "output_type": "execute_result"
    }
   ],
   "source": [
    "record['publisher']"
   ]
  },
  {
   "cell_type": "markdown",
   "metadata": {
    "button": false,
    "new_sheet": false,
    "run_control": {
     "read_only": false
    }
   },
   "source": [
    "And here is the license for the \"version of record\":"
   ]
  },
  {
   "cell_type": "code",
   "execution_count": 24,
   "metadata": {
    "button": false,
    "new_sheet": false,
    "run_control": {
     "read_only": false
    }
   },
   "outputs": [
    {
     "data": {
      "text/plain": [
       "'http://creativecommons.org/licenses/by/4.0/'"
      ]
     },
     "execution_count": 24,
     "metadata": {},
     "output_type": "execute_result"
    }
   ],
   "source": [
    "next((item for item in record['license'] if item[\"content-version\"] == \"vor\"))['URL']"
   ]
  },
  {
   "cell_type": "markdown",
   "metadata": {
    "button": false,
    "collapsed": true,
    "new_sheet": false,
    "run_control": {
     "read_only": false
    }
   },
   "source": [
    "Um... That was complicated. What does 'vor' mean?\n",
    "\n",
    "**TIP:** Publishers sometimes record information for multiple versions of the content identified by a DOI. These versions should be interchaneable from the point of view of citation, but sometimes one version has more \"features\" than another. For example, it might be typset or have references linked, etc. The two versions might also have different licenses and different URLs. The terminology publishers use for identifying versions comes from the [NISO standard call JAV (Journal Article Version)](http://www.niso.org/publications/rp/RP-8-2008.pdf) and, although this terminology is [sometimes problematic](https://f1000research.com/articles/6-608/v1), you should be aware of it. In particualr, you will see two terms used  in Crossref metadata:\n",
    "\n",
    "- `VOR` = Version of Record\n",
    "- `AM` = Accepted Manuscript\n",
    "\n",
    "\n",
    "\n",
    "Now that we know what 'vor' means, let's get the link to the full text of the version of record:"
   ]
  },
  {
   "cell_type": "code",
   "execution_count": 21,
   "metadata": {
    "button": false,
    "new_sheet": false,
    "run_control": {
     "read_only": false
    }
   },
   "outputs": [
    {
     "data": {
      "text/plain": [
       "'http://elifesciences.org/lookup/doi/10.7554/eLife.09561'"
      ]
     },
     "execution_count": 21,
     "metadata": {},
     "output_type": "execute_result"
    }
   ],
   "source": [
    "next((item for item in record['link'] if item[\"content-version\"] == \"vor\"))['URL']"
   ]
  },
  {
   "cell_type": "markdown",
   "metadata": {},
   "source": [
    "The above has given us a brief overview of how to get a record and elements of a record identified with a Crossref DOI. Obviously, the goal is to do this in bulk. That is, to select and process records for multiple Crossref DOIs. Before we do that, it is helpful to familiarise yourself with some of the other \"routes\" supported by the REST API. This is because more advanced usage of the API typically involveds combining information from several routes. "
   ]
  },
  {
   "cell_type": "markdown",
   "metadata": {
    "button": false,
    "collapsed": true,
    "new_sheet": false,
    "run_control": {
     "read_only": false
    }
   },
   "source": [
    "## Members\n",
    "\n",
    "Crossref is a membership organization. DOI records are registered and managed by those members. It is often very useful to break down Crossref DOI records by member. But first let's find out a little bit more about members.\n",
    "\n",
    "First we import and setup a useful shortcut. "
   ]
  },
  {
   "cell_type": "code",
   "execution_count": 28,
   "metadata": {
    "button": false,
    "collapsed": true,
    "new_sheet": false,
    "run_control": {
     "read_only": false
    }
   },
   "outputs": [],
   "source": [
    "from crossref.restful import Members\n",
    "members = Members()"
   ]
  },
  {
   "cell_type": "markdown",
   "metadata": {
    "button": false,
    "new_sheet": false,
    "run_control": {
     "read_only": false
    }
   },
   "source": [
    "How many members does Crossref have?"
   ]
  },
  {
   "cell_type": "code",
   "execution_count": 29,
   "metadata": {
    "button": false,
    "new_sheet": false,
    "run_control": {
     "read_only": false
    }
   },
   "outputs": [
    {
     "data": {
      "text/plain": [
       "29014"
      ]
     },
     "execution_count": 29,
     "metadata": {},
     "output_type": "execute_result"
    }
   ],
   "source": [
    "members.count()"
   ]
  },
  {
   "cell_type": "markdown",
   "metadata": {},
   "source": [
    "Let's look at a partciular member, Hindawi:"
   ]
  },
  {
   "cell_type": "code",
   "execution_count": null,
   "metadata": {
    "button": false,
    "new_sheet": false,
    "run_control": {
     "read_only": false
    }
   },
   "outputs": [],
   "source": [
    "pub = next(iter(members.query('Hindawi')))\n",
    "pub"
   ]
  },
  {
   "cell_type": "markdown",
   "metadata": {},
   "source": [
    "**TIP:** Many people make the mistake of thinking that a \"DOI prefix\" can be used to identify the member responsible for a Crossref DOI. This is not true. DOI prefixes merely serve as a namespace form which a member can create new DOIs without worrying about collisions. But, once created, Crossref DOIs are often transferred between publishers and so a Crossref member will often be responsible for DOIs with a variety of prefixes. So, for example, above, Hindawi is responsible for several prefixes:"
   ]
  },
  {
   "cell_type": "code",
   "execution_count": 31,
   "metadata": {},
   "outputs": [
    {
     "data": {
      "text/plain": [
       "['10.7167',\n",
       " '10.1100',\n",
       " '10.1155',\n",
       " '10.5402',\n",
       " '10.7217',\n",
       " '10.4061',\n",
       " '10.6064',\n",
       " '10.3814']"
      ]
     },
     "execution_count": 31,
     "metadata": {},
     "output_type": "execute_result"
    }
   ],
   "source": [
    "prefixes = [p['value'] for p in pub['prefix']]\n",
    "prefixes"
   ]
  },
  {
   "cell_type": "markdown",
   "metadata": {},
   "source": [
    "**TIP** The most accurate way to refer a particular Crossref member and *all* their prefixes is through the member's `id`.\n",
    "\n",
    "So let's look at eLife."
   ]
  },
  {
   "cell_type": "code",
   "execution_count": 32,
   "metadata": {},
   "outputs": [
    {
     "data": {
      "text/plain": [
       "{'last-status-check-time': 1743033759194,\n",
       " 'primary-name': 'eLife Sciences Publications, Ltd',\n",
       " 'counts': {'current-dois': 45036,\n",
       "  'backfile-dois': 43092,\n",
       "  'total-dois': 88128},\n",
       " 'breakdowns': {'dois-by-issued-year': [[2024, 25814],\n",
       "   [2023, 12876],\n",
       "   [2022, 7502],\n",
       "   [2021, 7284],\n",
       "   [2025, 6346],\n",
       "   [2020, 6191],\n",
       "   [2019, 4861],\n",
       "   [2017, 4118],\n",
       "   [2018, 4058],\n",
       "   [2016, 3514],\n",
       "   [2015, 2808],\n",
       "   [2014, 1786],\n",
       "   [2013, 811],\n",
       "   [2012, 159]]},\n",
       " 'prefixes': ['10.7554'],\n",
       " 'coverage': {'affiliations-current': 0.4864996891375788,\n",
       "  'similarity-checking-current': 0.2781108446576072,\n",
       "  'descriptions-current': 0.0,\n",
       "  'ror-ids-current': 0.2689626076916245,\n",
       "  'funders-backfile': 0.2894040657198552,\n",
       "  'licenses-backfile': 0.999976793836443,\n",
       "  'funders-current': 0.1110889066524558,\n",
       "  'affiliations-backfile': 0.9909728023763111,\n",
       "  'resource-links-backfile': 0.3254664438874965,\n",
       "  'orcids-backfile': 0.89578111946533,\n",
       "  'update-policies-current': 0.1195488054001243,\n",
       "  'ror-ids-backfile': 0.2005940777870602,\n",
       "  'orcids-current': 0.3842925659472422,\n",
       "  'similarity-checking-backfile': 0.3254896500510536,\n",
       "  'references-backfile': 0.3181332962034716,\n",
       "  'descriptions-backfile': 0.0,\n",
       "  'award-numbers-backfile': 0.2743896778984498,\n",
       "  'update-policies-backfile': 0.1442263065070083,\n",
       "  'licenses-current': 0.9994670929922728,\n",
       "  'award-numbers-current': 0.1074029665156763,\n",
       "  'abstracts-backfile': 0.3192703982177666,\n",
       "  'resource-links-current': 0.1195488054001243,\n",
       "  'abstracts-current': 0.2773336886046718,\n",
       "  'references-current': 0.2756239452882139},\n",
       " 'prefix': [{'name': 'eLife Sciences Publications, Ltd.', 'value': '10.7554'}],\n",
       " 'id': 4374,\n",
       " 'tokens': ['elife', 'sciences', 'publications', 'ltd'],\n",
       " 'counts-type': {'all': {'peer-review': 61538,\n",
       "   'journal-article': 19411,\n",
       "   'journal': 1,\n",
       "   'component': 143789,\n",
       "   'posted-content': 7179},\n",
       "  'backfile': {'peer-review': 29059,\n",
       "   'journal-article': 14027,\n",
       "   'posted-content': 6},\n",
       "  'current': {'peer-review': 32479,\n",
       "   'journal-article': 5384,\n",
       "   'posted-content': 7173}},\n",
       " 'coverage-type': {'all': {'peer-review': {'last-status-check-time': 1743033759194,\n",
       "    'affiliations': 0.6246546849101368,\n",
       "    'abstracts': 0.0,\n",
       "    'orcids': 0.5194351457635932,\n",
       "    'licenses': 0.9997237479281095,\n",
       "    'references': 0.0,\n",
       "    'funders': 0.0,\n",
       "    'similarity-checking': 0.0,\n",
       "    'award-numbers': 0.0,\n",
       "    'ror-ids': 0.1931326984952387,\n",
       "    'update-policies': 0.0,\n",
       "    'resource-links': 0.0,\n",
       "    'descriptions': 0.0},\n",
       "   'journal-article': {'last-status-check-time': 1743033759194,\n",
       "    'affiliations': 0.9814022976662717,\n",
       "    'abstracts': 0.982381124104889,\n",
       "    'orcids': 0.9069084539693988,\n",
       "    'licenses': 0.99994848281902,\n",
       "    'references': 0.9781567152645407,\n",
       "    'funders': 0.9002112204420174,\n",
       "    'similarity-checking': 0.9994333110092216,\n",
       "    'award-numbers': 0.8583277523053938,\n",
       "    'ror-ids': 0.3675750862912781,\n",
       "    'update-policies': 0.5975477821853588,\n",
       "    'resource-links': 0.9998969656380403,\n",
       "    'descriptions': 0.0},\n",
       "   'journal': {'last-status-check-time': 1743033759194,\n",
       "    'affiliations': 0.0,\n",
       "    'abstracts': 0.0,\n",
       "    'orcids': 0.0,\n",
       "    'licenses': 0.0,\n",
       "    'references': 0.0,\n",
       "    'funders': 0.0,\n",
       "    'similarity-checking': 0.0,\n",
       "    'award-numbers': 0.0,\n",
       "    'ror-ids': 0.0,\n",
       "    'update-policies': 0.0,\n",
       "    'resource-links': 0.0,\n",
       "    'descriptions': 0.0},\n",
       "   'component': {'last-status-check-time': 1743033759194,\n",
       "    'affiliations': 0.0,\n",
       "    'abstracts': 0.0,\n",
       "    'orcids': 0.0,\n",
       "    'licenses': 0.0004798698092343642,\n",
       "    'references': 0.0,\n",
       "    'funders': 0.0,\n",
       "    'similarity-checking': 0.0,\n",
       "    'award-numbers': 0.0,\n",
       "    'ror-ids': 0.0,\n",
       "    'update-policies': 0.0,\n",
       "    'resource-links': 0.0,\n",
       "    'descriptions': 0.0},\n",
       "   'posted-content': {'last-status-check-time': 1743033759194,\n",
       "    'affiliations': 0.9921994706783674,\n",
       "    'abstracts': 1.0,\n",
       "    'orcids': 0.8829920601755119,\n",
       "    'licenses': 0.9990249338347958,\n",
       "    'references': 0.9938710126758601,\n",
       "    'funders': 0.0,\n",
       "    'similarity-checking': 0.9960997353391837,\n",
       "    'award-numbers': 0.0,\n",
       "    'ror-ids': 0.2419557041370664,\n",
       "    'update-policies': 0.0,\n",
       "    'resource-links': 0.0,\n",
       "    'descriptions': 0.0}},\n",
       "  'backfile': {'peer-review': {'last-status-check-time': 1743033759194,\n",
       "    'affiliations': 0.9966963763377955,\n",
       "    'abstracts': 0.0,\n",
       "    'orcids': 0.9075329502047558,\n",
       "    'licenses': 1.0,\n",
       "    'references': 0.0,\n",
       "    'funders': 0.0,\n",
       "    'similarity-checking': 0.0,\n",
       "    'award-numbers': 0.0,\n",
       "    'ror-ids': 0.2336625486080044,\n",
       "    'update-policies': 0.0,\n",
       "    'resource-links': 0.0,\n",
       "    'descriptions': 0.0},\n",
       "   'journal-article': {'last-status-check-time': 1743033759194,\n",
       "    'affiliations': 0.9791117131246881,\n",
       "    'abstracts': 0.9803949525914308,\n",
       "    'orcids': 0.8713908889997861,\n",
       "    'licenses': 0.9999287089185143,\n",
       "    'references': 0.9769016895986312,\n",
       "    'funders': 0.8890710772082412,\n",
       "    'similarity-checking': 0.9995009624296001,\n",
       "    'award-numbers': 0.8429457474869894,\n",
       "    'ror-ids': 0.1321736650744992,\n",
       "    'update-policies': 0.4430740714336636,\n",
       "    'resource-links': 0.9998574178370286,\n",
       "    'descriptions': 0.0},\n",
       "   'posted-content': {'last-status-check-time': 1743033759194,\n",
       "    'affiliations': 1.0,\n",
       "    'abstracts': 1.0,\n",
       "    'orcids': 1.0,\n",
       "    'licenses': 1.0,\n",
       "    'references': 1.0,\n",
       "    'funders': 0.0,\n",
       "    'similarity-checking': 1.0,\n",
       "    'award-numbers': 0.0,\n",
       "    'ror-ids': 0.0,\n",
       "    'update-policies': 0.0,\n",
       "    'resource-links': 0.0,\n",
       "    'descriptions': 0.0}},\n",
       "  'current': {'peer-review': {'last-status-check-time': 1743033759194,\n",
       "    'affiliations': 0.2917885402875704,\n",
       "    'abstracts': 0.0,\n",
       "    'orcids': 0.1722035776963576,\n",
       "    'licenses': 0.9994765848702238,\n",
       "    'references': 0.0,\n",
       "    'funders': 0.0,\n",
       "    'similarity-checking': 0.0,\n",
       "    'award-numbers': 0.0,\n",
       "    'ror-ids': 0.1568705933064442,\n",
       "    'update-policies': 0.0,\n",
       "    'resource-links': 0.0,\n",
       "    'descriptions': 0.0},\n",
       "   'journal-article': {'last-status-check-time': 1743033759194,\n",
       "    'affiliations': 0.987369985141159,\n",
       "    'abstracts': 0.987555720653789,\n",
       "    'orcids': 0.99944279346211,\n",
       "    'licenses': 1.0,\n",
       "    'references': 0.9814264487369985,\n",
       "    'funders': 0.9292347696879643,\n",
       "    'similarity-checking': 0.9992570579494799,\n",
       "    'award-numbers': 0.8984026745913819,\n",
       "    'ror-ids': 0.9808692421991085,\n",
       "    'update-policies': 1.0,\n",
       "    'resource-links': 1.0,\n",
       "    'descriptions': 0.0},\n",
       "   'posted-content': {'last-status-check-time': 1743033759194,\n",
       "    'affiliations': 0.9921929457688554,\n",
       "    'abstracts': 1.0,\n",
       "    'orcids': 0.8828941865328315,\n",
       "    'licenses': 0.9990241182211069,\n",
       "    'references': 0.9938658859612436,\n",
       "    'funders': 0.0,\n",
       "    'similarity-checking': 0.9960964728844277,\n",
       "    'award-numbers': 0.0,\n",
       "    'ror-ids': 0.2421580928481807,\n",
       "    'update-policies': 0.0,\n",
       "    'resource-links': 0.0,\n",
       "    'descriptions': 0.0}}},\n",
       " 'flags': {'deposits-abstracts-current': True,\n",
       "  'deposits-orcids-current': True,\n",
       "  'deposits': True,\n",
       "  'deposits-affiliations-backfile': True,\n",
       "  'deposits-update-policies-backfile': True,\n",
       "  'deposits-similarity-checking-backfile': True,\n",
       "  'deposits-award-numbers-current': True,\n",
       "  'deposits-resource-links-current': True,\n",
       "  'deposits-ror-ids-current': True,\n",
       "  'deposits-articles': True,\n",
       "  'deposits-affiliations-current': True,\n",
       "  'deposits-funders-current': True,\n",
       "  'deposits-references-backfile': True,\n",
       "  'deposits-ror-ids-backfile': True,\n",
       "  'deposits-abstracts-backfile': True,\n",
       "  'deposits-licenses-backfile': True,\n",
       "  'deposits-award-numbers-backfile': True,\n",
       "  'deposits-descriptions-current': False,\n",
       "  'deposits-references-current': True,\n",
       "  'deposits-resource-links-backfile': True,\n",
       "  'deposits-descriptions-backfile': False,\n",
       "  'deposits-orcids-backfile': True,\n",
       "  'deposits-funders-backfile': True,\n",
       "  'deposits-update-policies-current': True,\n",
       "  'deposits-similarity-checking-current': True,\n",
       "  'deposits-licenses-current': True},\n",
       " 'location': 'Cambridge, United Kingdom',\n",
       " 'names': ['eLife Sciences Publications, Ltd',\n",
       "  'eLife Sciences Publications, Ltd.']}"
      ]
     },
     "execution_count": 32,
     "metadata": {},
     "output_type": "execute_result"
    }
   ],
   "source": [
    "pub = next(iter(members.query('eLife')))\n",
    "pub"
   ]
  },
  {
   "cell_type": "markdown",
   "metadata": {
    "button": false,
    "new_sheet": false,
    "run_control": {
     "read_only": false
    }
   },
   "source": [
    "eLife's Crossref member ID can be accessed as follows:"
   ]
  },
  {
   "cell_type": "code",
   "execution_count": 33,
   "metadata": {
    "button": false,
    "new_sheet": false,
    "run_control": {
     "read_only": false
    }
   },
   "outputs": [
    {
     "data": {
      "text/plain": [
       "4374"
      ]
     },
     "execution_count": 33,
     "metadata": {},
     "output_type": "execute_result"
    }
   ],
   "source": [
    "pub_id = pub['id']\n",
    "pub_id"
   ]
  },
  {
   "cell_type": "markdown",
   "metadata": {
    "button": false,
    "collapsed": true,
    "new_sheet": false,
    "run_control": {
     "read_only": false
    }
   },
   "source": [
    "Now we can use this ID to specifically refer to eLife. For example:"
   ]
  },
  {
   "cell_type": "code",
   "execution_count": 34,
   "metadata": {
    "button": false,
    "new_sheet": false,
    "run_control": {
     "read_only": false
    }
   },
   "outputs": [
    {
     "data": {
      "text/plain": [
       "{'last-status-check-time': 1743033759194,\n",
       " 'primary-name': 'eLife Sciences Publications, Ltd',\n",
       " 'counts': {'current-dois': 45036,\n",
       "  'backfile-dois': 43092,\n",
       "  'total-dois': 88128},\n",
       " 'breakdowns': {'dois-by-issued-year': [[2024, 25814],\n",
       "   [2023, 12876],\n",
       "   [2022, 7502],\n",
       "   [2021, 7284],\n",
       "   [2025, 6346],\n",
       "   [2020, 6191],\n",
       "   [2019, 4861],\n",
       "   [2017, 4118],\n",
       "   [2018, 4058],\n",
       "   [2016, 3514],\n",
       "   [2015, 2808],\n",
       "   [2014, 1786],\n",
       "   [2013, 811],\n",
       "   [2012, 159]]},\n",
       " 'prefixes': ['10.7554'],\n",
       " 'coverage': {'affiliations-current': 0.4864996891375788,\n",
       "  'similarity-checking-current': 0.2781108446576072,\n",
       "  'descriptions-current': 0.0,\n",
       "  'ror-ids-current': 0.2689626076916245,\n",
       "  'funders-backfile': 0.2894040657198552,\n",
       "  'licenses-backfile': 0.999976793836443,\n",
       "  'funders-current': 0.1110889066524558,\n",
       "  'affiliations-backfile': 0.9909728023763111,\n",
       "  'resource-links-backfile': 0.3254664438874965,\n",
       "  'orcids-backfile': 0.89578111946533,\n",
       "  'update-policies-current': 0.1195488054001243,\n",
       "  'ror-ids-backfile': 0.2005940777870602,\n",
       "  'orcids-current': 0.3842925659472422,\n",
       "  'similarity-checking-backfile': 0.3254896500510536,\n",
       "  'references-backfile': 0.3181332962034716,\n",
       "  'descriptions-backfile': 0.0,\n",
       "  'award-numbers-backfile': 0.2743896778984498,\n",
       "  'update-policies-backfile': 0.1442263065070083,\n",
       "  'licenses-current': 0.9994670929922728,\n",
       "  'award-numbers-current': 0.1074029665156763,\n",
       "  'abstracts-backfile': 0.3192703982177666,\n",
       "  'resource-links-current': 0.1195488054001243,\n",
       "  'abstracts-current': 0.2773336886046718,\n",
       "  'references-current': 0.2756239452882139},\n",
       " 'prefix': [{'name': 'eLife Sciences Publications, Ltd.', 'value': '10.7554'}],\n",
       " 'id': 4374,\n",
       " 'tokens': ['elife', 'sciences', 'publications', 'ltd'],\n",
       " 'counts-type': {'all': {'peer-review': 61538,\n",
       "   'journal-article': 19411,\n",
       "   'journal': 1,\n",
       "   'component': 143789,\n",
       "   'posted-content': 7179},\n",
       "  'backfile': {'peer-review': 29059,\n",
       "   'journal-article': 14027,\n",
       "   'posted-content': 6},\n",
       "  'current': {'peer-review': 32479,\n",
       "   'journal-article': 5384,\n",
       "   'posted-content': 7173}},\n",
       " 'coverage-type': {'all': {'peer-review': {'last-status-check-time': 1743033759194,\n",
       "    'affiliations': 0.6246546849101368,\n",
       "    'abstracts': 0.0,\n",
       "    'orcids': 0.5194351457635932,\n",
       "    'licenses': 0.9997237479281095,\n",
       "    'references': 0.0,\n",
       "    'funders': 0.0,\n",
       "    'similarity-checking': 0.0,\n",
       "    'award-numbers': 0.0,\n",
       "    'ror-ids': 0.1931326984952387,\n",
       "    'update-policies': 0.0,\n",
       "    'resource-links': 0.0,\n",
       "    'descriptions': 0.0},\n",
       "   'journal-article': {'last-status-check-time': 1743033759194,\n",
       "    'affiliations': 0.9814022976662717,\n",
       "    'abstracts': 0.982381124104889,\n",
       "    'orcids': 0.9069084539693988,\n",
       "    'licenses': 0.99994848281902,\n",
       "    'references': 0.9781567152645407,\n",
       "    'funders': 0.9002112204420174,\n",
       "    'similarity-checking': 0.9994333110092216,\n",
       "    'award-numbers': 0.8583277523053938,\n",
       "    'ror-ids': 0.3675750862912781,\n",
       "    'update-policies': 0.5975477821853588,\n",
       "    'resource-links': 0.9998969656380403,\n",
       "    'descriptions': 0.0},\n",
       "   'journal': {'last-status-check-time': 1743033759194,\n",
       "    'affiliations': 0.0,\n",
       "    'abstracts': 0.0,\n",
       "    'orcids': 0.0,\n",
       "    'licenses': 0.0,\n",
       "    'references': 0.0,\n",
       "    'funders': 0.0,\n",
       "    'similarity-checking': 0.0,\n",
       "    'award-numbers': 0.0,\n",
       "    'ror-ids': 0.0,\n",
       "    'update-policies': 0.0,\n",
       "    'resource-links': 0.0,\n",
       "    'descriptions': 0.0},\n",
       "   'component': {'last-status-check-time': 1743033759194,\n",
       "    'affiliations': 0.0,\n",
       "    'abstracts': 0.0,\n",
       "    'orcids': 0.0,\n",
       "    'licenses': 0.0004798698092343642,\n",
       "    'references': 0.0,\n",
       "    'funders': 0.0,\n",
       "    'similarity-checking': 0.0,\n",
       "    'award-numbers': 0.0,\n",
       "    'ror-ids': 0.0,\n",
       "    'update-policies': 0.0,\n",
       "    'resource-links': 0.0,\n",
       "    'descriptions': 0.0},\n",
       "   'posted-content': {'last-status-check-time': 1743033759194,\n",
       "    'affiliations': 0.9921994706783674,\n",
       "    'abstracts': 1.0,\n",
       "    'orcids': 0.8829920601755119,\n",
       "    'licenses': 0.9990249338347958,\n",
       "    'references': 0.9938710126758601,\n",
       "    'funders': 0.0,\n",
       "    'similarity-checking': 0.9960997353391837,\n",
       "    'award-numbers': 0.0,\n",
       "    'ror-ids': 0.2419557041370664,\n",
       "    'update-policies': 0.0,\n",
       "    'resource-links': 0.0,\n",
       "    'descriptions': 0.0}},\n",
       "  'backfile': {'peer-review': {'last-status-check-time': 1743033759194,\n",
       "    'affiliations': 0.9966963763377955,\n",
       "    'abstracts': 0.0,\n",
       "    'orcids': 0.9075329502047558,\n",
       "    'licenses': 1.0,\n",
       "    'references': 0.0,\n",
       "    'funders': 0.0,\n",
       "    'similarity-checking': 0.0,\n",
       "    'award-numbers': 0.0,\n",
       "    'ror-ids': 0.2336625486080044,\n",
       "    'update-policies': 0.0,\n",
       "    'resource-links': 0.0,\n",
       "    'descriptions': 0.0},\n",
       "   'journal-article': {'last-status-check-time': 1743033759194,\n",
       "    'affiliations': 0.9791117131246881,\n",
       "    'abstracts': 0.9803949525914308,\n",
       "    'orcids': 0.8713908889997861,\n",
       "    'licenses': 0.9999287089185143,\n",
       "    'references': 0.9769016895986312,\n",
       "    'funders': 0.8890710772082412,\n",
       "    'similarity-checking': 0.9995009624296001,\n",
       "    'award-numbers': 0.8429457474869894,\n",
       "    'ror-ids': 0.1321736650744992,\n",
       "    'update-policies': 0.4430740714336636,\n",
       "    'resource-links': 0.9998574178370286,\n",
       "    'descriptions': 0.0},\n",
       "   'posted-content': {'last-status-check-time': 1743033759194,\n",
       "    'affiliations': 1.0,\n",
       "    'abstracts': 1.0,\n",
       "    'orcids': 1.0,\n",
       "    'licenses': 1.0,\n",
       "    'references': 1.0,\n",
       "    'funders': 0.0,\n",
       "    'similarity-checking': 1.0,\n",
       "    'award-numbers': 0.0,\n",
       "    'ror-ids': 0.0,\n",
       "    'update-policies': 0.0,\n",
       "    'resource-links': 0.0,\n",
       "    'descriptions': 0.0}},\n",
       "  'current': {'peer-review': {'last-status-check-time': 1743033759194,\n",
       "    'affiliations': 0.2917885402875704,\n",
       "    'abstracts': 0.0,\n",
       "    'orcids': 0.1722035776963576,\n",
       "    'licenses': 0.9994765848702238,\n",
       "    'references': 0.0,\n",
       "    'funders': 0.0,\n",
       "    'similarity-checking': 0.0,\n",
       "    'award-numbers': 0.0,\n",
       "    'ror-ids': 0.1568705933064442,\n",
       "    'update-policies': 0.0,\n",
       "    'resource-links': 0.0,\n",
       "    'descriptions': 0.0},\n",
       "   'journal-article': {'last-status-check-time': 1743033759194,\n",
       "    'affiliations': 0.987369985141159,\n",
       "    'abstracts': 0.987555720653789,\n",
       "    'orcids': 0.99944279346211,\n",
       "    'licenses': 1.0,\n",
       "    'references': 0.9814264487369985,\n",
       "    'funders': 0.9292347696879643,\n",
       "    'similarity-checking': 0.9992570579494799,\n",
       "    'award-numbers': 0.8984026745913819,\n",
       "    'ror-ids': 0.9808692421991085,\n",
       "    'update-policies': 1.0,\n",
       "    'resource-links': 1.0,\n",
       "    'descriptions': 0.0},\n",
       "   'posted-content': {'last-status-check-time': 1743033759194,\n",
       "    'affiliations': 0.9921929457688554,\n",
       "    'abstracts': 1.0,\n",
       "    'orcids': 0.8828941865328315,\n",
       "    'licenses': 0.9990241182211069,\n",
       "    'references': 0.9938658859612436,\n",
       "    'funders': 0.0,\n",
       "    'similarity-checking': 0.9960964728844277,\n",
       "    'award-numbers': 0.0,\n",
       "    'ror-ids': 0.2421580928481807,\n",
       "    'update-policies': 0.0,\n",
       "    'resource-links': 0.0,\n",
       "    'descriptions': 0.0}}},\n",
       " 'flags': {'deposits-abstracts-current': True,\n",
       "  'deposits-orcids-current': True,\n",
       "  'deposits': True,\n",
       "  'deposits-affiliations-backfile': True,\n",
       "  'deposits-update-policies-backfile': True,\n",
       "  'deposits-similarity-checking-backfile': True,\n",
       "  'deposits-award-numbers-current': True,\n",
       "  'deposits-resource-links-current': True,\n",
       "  'deposits-ror-ids-current': True,\n",
       "  'deposits-articles': True,\n",
       "  'deposits-affiliations-current': True,\n",
       "  'deposits-funders-current': True,\n",
       "  'deposits-references-backfile': True,\n",
       "  'deposits-ror-ids-backfile': True,\n",
       "  'deposits-abstracts-backfile': True,\n",
       "  'deposits-licenses-backfile': True,\n",
       "  'deposits-award-numbers-backfile': True,\n",
       "  'deposits-descriptions-current': False,\n",
       "  'deposits-references-current': True,\n",
       "  'deposits-resource-links-backfile': True,\n",
       "  'deposits-descriptions-backfile': False,\n",
       "  'deposits-orcids-backfile': True,\n",
       "  'deposits-funders-backfile': True,\n",
       "  'deposits-update-policies-current': True,\n",
       "  'deposits-similarity-checking-current': True,\n",
       "  'deposits-licenses-current': True},\n",
       " 'location': 'Cambridge, United Kingdom',\n",
       " 'names': ['eLife Sciences Publications, Ltd',\n",
       "  'eLife Sciences Publications, Ltd.']}"
      ]
     },
     "execution_count": 34,
     "metadata": {},
     "output_type": "execute_result"
    }
   ],
   "source": [
    "pub = members.member(pub_id)\n",
    "pub"
   ]
  },
  {
   "cell_type": "markdown",
   "metadata": {
    "button": false,
    "new_sheet": false,
    "run_control": {
     "read_only": false
    }
   },
   "source": [
    "Let's see how many DOIs eLife has registered by year:"
   ]
  },
  {
   "cell_type": "code",
   "execution_count": 35,
   "metadata": {
    "button": false,
    "new_sheet": false,
    "run_control": {
     "read_only": false
    }
   },
   "outputs": [
    {
     "data": {
      "text/plain": [
       "[[2024, 25814],\n",
       " [2023, 12876],\n",
       " [2022, 7502],\n",
       " [2021, 7284],\n",
       " [2025, 6346],\n",
       " [2020, 6191],\n",
       " [2019, 4861],\n",
       " [2017, 4118],\n",
       " [2018, 4058],\n",
       " [2016, 3514],\n",
       " [2015, 2808],\n",
       " [2014, 1786],\n",
       " [2013, 811],\n",
       " [2012, 159]]"
      ]
     },
     "execution_count": 35,
     "metadata": {},
     "output_type": "execute_result"
    }
   ],
   "source": [
    "dois_by_year = pub['breakdowns']['dois-by-issued-year']\n",
    "dois_by_year"
   ]
  },
  {
   "cell_type": "markdown",
   "metadata": {
    "button": false,
    "new_sheet": false,
    "run_control": {
     "read_only": false
    }
   },
   "source": [
    "Cool, now let's look at some of the publisher data in more friendly formats. We are going to use the pandas library for summarising and visualising the data."
   ]
  },
  {
   "cell_type": "code",
   "execution_count": 36,
   "metadata": {
    "button": false,
    "collapsed": true,
    "new_sheet": false,
    "run_control": {
     "read_only": false
    }
   },
   "outputs": [],
   "source": [
    "import pandas as pd\n",
    "%matplotlib ipympl"
   ]
  },
  {
   "cell_type": "markdown",
   "metadata": {
    "button": false,
    "new_sheet": false,
    "run_control": {
     "read_only": false
    }
   },
   "source": [
    "First let's see the publications by year in a nice, sorted table:"
   ]
  },
  {
   "cell_type": "code",
   "execution_count": 38,
   "metadata": {
    "button": false,
    "new_sheet": false,
    "run_control": {
     "read_only": false
    }
   },
   "outputs": [
    {
     "data": {
      "text/html": [
       "<div>\n",
       "<style scoped>\n",
       "    .dataframe tbody tr th:only-of-type {\n",
       "        vertical-align: middle;\n",
       "    }\n",
       "\n",
       "    .dataframe tbody tr th {\n",
       "        vertical-align: top;\n",
       "    }\n",
       "\n",
       "    .dataframe thead th {\n",
       "        text-align: right;\n",
       "    }\n",
       "</style>\n",
       "<table border=\"1\" class=\"dataframe\">\n",
       "  <thead>\n",
       "    <tr style=\"text-align: right;\">\n",
       "      <th></th>\n",
       "      <th>year</th>\n",
       "      <th>dois</th>\n",
       "    </tr>\n",
       "  </thead>\n",
       "  <tbody>\n",
       "    <tr>\n",
       "      <th>13</th>\n",
       "      <td>2012</td>\n",
       "      <td>159</td>\n",
       "    </tr>\n",
       "    <tr>\n",
       "      <th>12</th>\n",
       "      <td>2013</td>\n",
       "      <td>811</td>\n",
       "    </tr>\n",
       "    <tr>\n",
       "      <th>11</th>\n",
       "      <td>2014</td>\n",
       "      <td>1786</td>\n",
       "    </tr>\n",
       "    <tr>\n",
       "      <th>10</th>\n",
       "      <td>2015</td>\n",
       "      <td>2808</td>\n",
       "    </tr>\n",
       "    <tr>\n",
       "      <th>9</th>\n",
       "      <td>2016</td>\n",
       "      <td>3514</td>\n",
       "    </tr>\n",
       "    <tr>\n",
       "      <th>7</th>\n",
       "      <td>2017</td>\n",
       "      <td>4118</td>\n",
       "    </tr>\n",
       "    <tr>\n",
       "      <th>8</th>\n",
       "      <td>2018</td>\n",
       "      <td>4058</td>\n",
       "    </tr>\n",
       "    <tr>\n",
       "      <th>6</th>\n",
       "      <td>2019</td>\n",
       "      <td>4861</td>\n",
       "    </tr>\n",
       "    <tr>\n",
       "      <th>5</th>\n",
       "      <td>2020</td>\n",
       "      <td>6191</td>\n",
       "    </tr>\n",
       "    <tr>\n",
       "      <th>3</th>\n",
       "      <td>2021</td>\n",
       "      <td>7284</td>\n",
       "    </tr>\n",
       "    <tr>\n",
       "      <th>2</th>\n",
       "      <td>2022</td>\n",
       "      <td>7502</td>\n",
       "    </tr>\n",
       "    <tr>\n",
       "      <th>1</th>\n",
       "      <td>2023</td>\n",
       "      <td>12876</td>\n",
       "    </tr>\n",
       "    <tr>\n",
       "      <th>0</th>\n",
       "      <td>2024</td>\n",
       "      <td>25814</td>\n",
       "    </tr>\n",
       "    <tr>\n",
       "      <th>4</th>\n",
       "      <td>2025</td>\n",
       "      <td>6346</td>\n",
       "    </tr>\n",
       "  </tbody>\n",
       "</table>\n",
       "</div>"
      ],
      "text/plain": [
       "    year   dois\n",
       "13  2012    159\n",
       "12  2013    811\n",
       "11  2014   1786\n",
       "10  2015   2808\n",
       "9   2016   3514\n",
       "7   2017   4118\n",
       "8   2018   4058\n",
       "6   2019   4861\n",
       "5   2020   6191\n",
       "3   2021   7284\n",
       "2   2022   7502\n",
       "1   2023  12876\n",
       "0   2024  25814\n",
       "4   2025   6346"
      ]
     },
     "execution_count": 38,
     "metadata": {},
     "output_type": "execute_result"
    }
   ],
   "source": [
    "f = pd.DataFrame(dois_by_year)\n",
    "f.columns = ['year','dois']\n",
    "dois_sorted_by_year = f.sort_values(by='year')\n",
    "dois_sorted_by_year"
   ]
  },
  {
   "cell_type": "markdown",
   "metadata": {
    "button": false,
    "new_sheet": false,
    "run_control": {
     "read_only": false
    }
   },
   "source": [
    "Maybe look at this in a graph?"
   ]
  },
  {
   "cell_type": "code",
   "execution_count": null,
   "metadata": {
    "button": false,
    "new_sheet": false,
    "run_control": {
     "read_only": false
    }
   },
   "outputs": [],
   "source": [
    "dois_sorted_by_year.plot.bar(x='year',y='dois')"
   ]
  },
  {
   "cell_type": "markdown",
   "metadata": {
    "button": false,
    "new_sheet": false,
    "run_control": {
     "read_only": false
    }
   },
   "source": [
    "We can pull this all together and you can look at a number of publishers. Try changing the publisher name in the code below to something else:"
   ]
  },
  {
   "cell_type": "code",
   "execution_count": null,
   "metadata": {
    "button": false,
    "new_sheet": false,
    "run_control": {
     "read_only": false
    }
   },
   "outputs": [],
   "source": [
    "publisher_name = 'Elsevier'\n",
    "pub_id = next(iter(members.query(publisher_name)))['id']\n",
    "pub = members.member(pub_id)\n",
    "dois_by_year = pub['breakdowns']['dois-by-issued-year']\n",
    "f = pd.DataFrame(dois_by_year)\n",
    "f.columns = ['year','dois']\n",
    "dois_sorted_by_year = f.sort_values(['year','dois'])\n",
    "dois_sorted_by_year.plot.bar(x='year',y='dois')"
   ]
  },
  {
   "cell_type": "markdown",
   "metadata": {
    "button": false,
    "new_sheet": false,
    "run_control": {
     "read_only": false
    }
   },
   "source": [
    "A publisher record also contains a useful summary of the member's metadata and the Crossref services that they participate in.\n",
    "\n",
    "Let's look at what percentage of their metadata includes certain information:"
   ]
  },
  {
   "cell_type": "code",
   "execution_count": 43,
   "metadata": {
    "button": false,
    "new_sheet": false,
    "run_control": {
     "read_only": false
    }
   },
   "outputs": [
    {
     "data": {
      "text/plain": [
       "[['affiliations-current', 0.009224069790843305],\n",
       " ['similarity-checking-current', 0.5960644941126372],\n",
       " ['descriptions-current', 0.0],\n",
       " ['ror-ids-current', 0.0],\n",
       " ['funders-backfile', 13.68873542038214],\n",
       " ['licenses-backfile', 92.41879620555554],\n",
       " ['funders-current', 30.48358188494778],\n",
       " ['affiliations-backfile', 0.01550191862453363],\n",
       " ['resource-links-backfile', 93.0681554360167],\n",
       " ['orcids-backfile', 6.644963980592319],\n",
       " ['update-policies-current', 80.22527147203029],\n",
       " ['ror-ids-backfile', 0.0],\n",
       " ['orcids-current', 36.37415306268284],\n",
       " ['similarity-checking-backfile', 2.67306911997817],\n",
       " ['references-backfile', 69.48777203880073],\n",
       " ['descriptions-backfile', 0.0],\n",
       " ['award-numbers-backfile', 9.067383802294412],\n",
       " ['update-policies-backfile', 28.88578948043411],\n",
       " ['licenses-current', 84.4395411444555],\n",
       " ['award-numbers-current', 19.20673728974225],\n",
       " ['abstracts-backfile', 0.018778826241924822],\n",
       " ['resource-links-current', 84.57360005600067],\n",
       " ['abstracts-current', 0.014437674455232998],\n",
       " ['references-current', 74.89999358325579]]"
      ]
     },
     "execution_count": 43,
     "metadata": {},
     "output_type": "execute_result"
    }
   ],
   "source": [
    "coverage = [[key,float(pub['coverage'][key])*100] for key in pub['coverage'].keys()]\n",
    "coverage"
   ]
  },
  {
   "cell_type": "code",
   "execution_count": 48,
   "metadata": {
    "button": false,
    "new_sheet": false,
    "run_control": {
     "read_only": false
    }
   },
   "outputs": [
    {
     "data": {
      "text/plain": [
       "<Axes: ylabel='metadata'>"
      ]
     },
     "execution_count": 48,
     "metadata": {},
     "output_type": "execute_result"
    },
    {
     "data": {
      "application/vnd.jupyter.widget-view+json": {
       "model_id": "2395f3b49d5d46a08d7d919390c1fa1f",
       "version_major": 2,
       "version_minor": 0
      },
      "image/png": "[encoded data removed]",
      "text/html": [
       "\n",
       "            <div style=\"display: inline-block;\">\n",
       "                <div class=\"jupyter-widgets widget-label\" style=\"text-align: center;\">\n",
       "                    Figure\n",
       "                </div>\n",
       "                <img src='data:image/png;base64,iVBORw0KGgoAAAANSUhEUgAAAoAAAAHgCAYAAAA10dzkAAAAOnRFWHRTb2Z0d2FyZQBNYXRwbG90bGliIHZlcnNpb24zLjEwLjEsIGh0dHBzOi8vbWF0cGxvdGxpYi5vcmcvc2/+5QAAAAlwSFlzAAAPYQAAD2EBqD+naQAANGVJREFUeJzt3XlYlXX+//HXYTuAbKEIohAukOaKkOWUGy7k0ij2y8ks0UatRkex1LRyLRUbnbScVgvLLNo3zS0Tc8lEC5ckNQaFEqVFQFxA4f794Xi+w7ikWB7h83xc17kuuc997vt9uGfied3n3OfYLMuyBAAAAGO4OHsAAAAAXFkEIAAAgGEIQAAAAMMQgAAAAIYhAAEAAAxDAAIAABiGAAQAADAMAQgAAGAYAhAAAMAwBCAAAIBhCEAAAADDEIAAAACGIQABAAAMQwACAAAYhgAEAAAwDAEIAABgGAIQAADAMAQgAACAYQhAAAAAwxCAAAAAhiEAAQAADEMAAgAAGIYABAAAMAwBCAAAYBgCEAAAwDAEIAAAgGEIQAAAAMMQgAAAAIYhAAEAAAxDAAIAABiGAAQAADAMAQgAAGAYAhAAAMAwBCAAAIBhCEAAAADDEIAAAACGIQABAAAMQwACAAAYhgAEAAAwDAEIAABgGAIQAADAMAQgAACAYQhAAAAAwxCAAAAAhiEAAQAADEMAAgAAGIYABAAAMAwBCAAAYBgCEAAAwDAEIAAAgGEIQAAAAMMQgAAAAIYhAAEAAAxDAAIAABiGAAQAADAMAQgAAGAYN2cPUJWVl5frwIED8vX1lc1mc/Y4AADgIliWpSNHjig0NFQuLmaeCyMAL8OBAwcUFhbm7DEAAEAl5Obmql69es4ewykIwMvg6+sr6fT/gPz8/Jw8DQAAuBhFRUUKCwtz/B03EQF4Gc687Ovn50cAAgBQxZj89i0zX/gGAAAwGAEIAABgGAIQAADAMLwHEACA/2FZlk6dOqWysjJnj4JKcHV1lZubm9Hv8fstBCAAAP+ltLRUeXl5OnbsmLNHwWXw9vZWnTp15OHh4exRrkoEIAAA/1FeXq7s7Gy5uroqNDRUHh4enEWqYizLUmlpqX766SdlZ2crMjLS2A97vhACEACA/ygtLVV5ebnCwsLk7e3t7HFQSV5eXnJ3d9f+/ftVWloqT09PZ4901SGJAQD4H5wxqvo4hhfGbwcAAMAwBCAAAIBheA8gAAAXIWL80iu6v33JPa/o/mAWzgACAIA/RGlpqbNHwHkQgAAAVBPl5eV68skn1ahRI9ntdoWHh2v69OmSpB07diguLk5eXl6qWbOmhg0bpuLiYknSypUr5enpqYKCggrbGzVqlOLi4hw/r1+/Xu3atZOXl5fCwsI0cuRIHT161HF/RESEHn/8cQ0cOFB+fn4aNmyYJOnhhx9WVFSUvL291aBBA02cOFEnT56ssK8nnnhCtWvXlq+vr4YMGaLx48erVatWFdZZsGCBmjRpIk9PTzVu3FjPPvvs7/WrMw4BCABANTFhwgQlJydr4sSJ2rVrl9544w0FBwfr6NGjio+P1zXXXKP09HS98847+uyzzzRixAhJUufOnRUQEKD33nvPsa2ysjK99dZbGjBggCQpKytLt956q26//XZt375db731ltavX+/YxhmzZ89Wy5Yt9c0332jixImSJF9fXy1cuFC7du3SvHnz9NJLL+mpp55yPGbx4sWaPn26Zs2apa1btyo8PFzPPfdche0uXrxYkyZN0vTp05WZmakZM2Zo4sSJevXVV/+Q32V1Z7Msy3L2EFVVUVGR/P39VVhYKD8/P2ePAwC4TCdOnFB2drbq169/1mfHXe3vATxy5IiCgoI0f/58DRkypMJ9L730kh5++GHl5uaqRo0akqRPP/1Ut912mw4cOKDg4GAlJSVpx44dWr16taTTZwX//Oc/6+DBgwoICNCQIUPk6uqqF154wbHd9evXq0OHDjp69Kg8PT0VERGh6OhoffDBBxecdfbs2UpNTdWWLVskSTfddJNiY2M1f/58xzq33HKLiouLlZGRIUlq1KiRHn/8cfXv39+xzhNPPKFPP/1UGzduPGsfFzqW/P3mIpDfRbPJK+Ri5wNDAaCqq+vrqimdaqvUq0g2txNOnWX7DwWXtP6Ob7aqpKREodffcNZjv9icoYaNmyrr8Enp8On7/COaqry8XJ+u26KYm25Wmy5/1jPPPKPPtmSqdkgdzX8pRbfEdVNOsZRTXKBN6V9rz3ffatHrix3btSxL5eXlWv7lNjWIvE4ny8pVL7LpWftf/vH7ejPlBeXu36djR4+qrOyUavj4Otbb9d13uu3OQRUe16ZNG33++eeSpKNHjyorK0t//etfNXToUMc6p06dkr+//yX9nnAaAQgAQDVwud920axVa9W7tr6Wf/y++t1zrz5fvlTT/vkvx/3Hjh3V/xswSHcNvu+sx9apW8/xby/vGhXu27Z1sx4ZOUwPPDhef+rQWT5+flr+0fta9NL8/93MeZ15r+JLL72kG2+8scJ9rq6uF70d/B8CEACAaiC8fkN5enpp84a1qhc+sMJ9DSKj9PE7b+jYsaPy/k+gZWz5Si4uLopoGOlYr2fCHfr0w3cUXCdULi42tY/r5rivSbMW+vfe3Qqv3+CS5srYsll16oZp6MgxjmV5P+ZWWCeiQaR2bvtat/2/Ox3L0tPTHf8ODg5WaGio/v3vfzvek4jLw0UgAABUA3ZPTw3+2yg9NX2yPnk3Vbn7srX963S9n7pIPRLukN3uqYmj/6a93+3S5o3rlDzxYfXq+xfVDKrt2EaPPncoc8c2LXhmjrr06C0Pu91x3+C/jdK2LZs147Gx+u7bHdqfnaU1Kz7VjMfGXnCua+s30MEDP2jZR+8pd1+2Fr/ygj5fvqTCOv0HD9WHqa/r43fe1P7sLL04b7a2b98um83mWGfq1KmaOXOmnn76ae3Zs0c7duxQSkqK/vnPf/5Ov0GzcAYQAIBqYtiosXJ1ddWzc2Yo/9BBBdUO1h13D5aXl7eee/1dzZoyQQN6dZanl5e69Pizxkx6osLjw+s3ULNWMdqZsVVjp8yscF9Uk2Z6+Z0leubJJzT49h6yLEth10Yo/raEC87UsVsP3T3kASVPHKfS0lK1i+uqYaPG6vmnkh3r9Ezopx/279c/n5iokpISdevVR4MGDdLmzZsd6wwZMkTe3t76xz/+obFjx6pGjRpq3ry5kpKSLv8XZyCuAr4MZ64iCkt6m4tAAKAaOHMRSO3QerK5eTh7HKM9NPgOhYSEaNGiRZV6PFcBXxhnAAEAgFMdP35M7yxK0Z86xMnV1VXLPnpPn332mVatWuXs0aotAhAAADiVTTatX7NKC56Zo5KSEkU0bKT33ntPXbp0cfZo1RYBCAAAnMrTy0svvvlhhWUt6gU4ZRZTcBUwAACAYQhAAAAAwxCAAAD8R7klSZbEB2RUeXzIyYURgAAA/EfBiXKdLLNknSp19ii4TMeOHZMkubu7O3mSq9NlXwSSlpamTp066fDhwwoICPgdRjrbvn37VL9+fX3zzTdq1arVOdc5ePCg7rnnHm3cuFHu7u4qKCiQzWbTBx98oD59+lzUNgAAZjt+ytLqfxerl4errgnU6c8C/K9vo8CVc+LEiUo9zrIsHTt2TPn5+QoICOC7gs+j2lwF/NRTTykvL08ZGRny9/eXJOXl5emaa65x8mQAgKrk/cyjkqTODcrk7mqTRAA6g8dxr8t6fEBAgEJCQn6naaqfahOAWVlZiomJUWTk/32pNQceAHCpLEnvZR7V0r3HdI2ni1zoP6dY/VDHSj/W3d2dM3+/we2nn35S9+7dFRYWptTUVB07dkwjRozQypUrVVxcrHr16umRRx7R4MGDL7ihDRs2aMKECdqzZ49atWqlBQsWqFmzZpKkX375RSNGjNAXX3yhw4cPq2HDhnrkkUfUv39/x+PLy8s1e/Zsvfjii8rNzVVwcLDuu+8+Pfroo2ftq6ysTEOHDtXGjRu1cuVKtW/fXvv375ckvfbaa0pMTNTChQsrvAR8Ljt37tTYsWO1bt061ahRQ926ddNTTz2lWrVqVfLXCQCoLk6cspRXXObsMYz1v1/fht+XS7t27dSsWTO9++67stvtmjhxonbt2qVly5YpMzNTzz333EUF0dixYzVnzhylp6crKChIt912m06ePCnp9Ov4MTExWrp0qXbu3Klhw4bpnnvuqfAlzxMmTFBycrJj/2+88YaCg4PP2k9JSYnuuOMOZWRkaN26dQoPD1d6erpuvfVW9evXT3l5eZo3b95vzltQUKC4uDhFR0dry5YtWr58uQ4dOqR+/fpdwq8PAACg6nGLj4/X3LlzZfvPm1xzcnIUHR2t2NhYSVJERMRFbWjy5Mnq2rWrJOnVV19VvXr19MEHH6hfv36qW7euxowZ41j373//u1asWKG3335bbdq00ZEjRzRv3jzNnz9fiYmJkqSGDRvqlltuqbCP4uJi9ezZUyUlJVqzZo3jvX5BQUGy2+3y8vK66Jd958+fr+joaM2YMcOx7JVXXlFYWJj27NmjqKiosx5TUlKikpISx89FRUUXtS8AAICricu8efMc8SdJDzzwgFJTU9WqVSuNGzdOGzdudNzXvXt3+fj4yMfHR02bNq2wobZt2zr+HRgYqOuuu06ZmZmSTr9k+/jjj6t58+YKDAyUj4+PVqxYoZycHElSZmamSkpK1Llz5wsO279/fx09elQrV650xF9lbdu2TWvWrHE8Hx8fHzVu3FjS6fcTnsvMmTPl7+/vuIWFhV3WDAAAAM7g8uOPP1ZY0L17d+3fv1+jR4/WgQMH1LlzZ8fZuwULFigjI0MZGRn69NNPL3on//jHPzRv3jw9/PDDWrNmjTIyMhQfH6/S0tOfs+TldXFX+vTo0UPbt2/Xl19+edH7Pp/i4mLddtttjudz5rZ37161b9/+nI+ZMGGCCgsLHbfc3NzLngMAAOBKc+vUqZPS0tIUGhrqWBgUFKTExEQlJiaqXbt2Gjt2rGbPnq26deued0ObNm1SeHi4JOnw4cPas2ePmjRpIun0BSK9e/fW3XffLen0BR979uzR9ddfL0mKjIyUl5eXVq9erSFDhpx3Hw888ICaNWumP//5z1q6dKk6dOhQ6SfeunVrvffee4qIiJCb28VdDG2322W32yu9TwAAgKuBS8uWLRUXF6eDBw9KkiZNmqSPPvpI33//vb799lstWbLEEXIXMm3aNK1evVo7d+7UoEGDVKtWLcfVt5GRkVq1apU2btyozMxM3XfffTp06JDjsZ6ennr44Yc1btw4vfbaa8rKytKmTZv08ssvn7Wfv//973riiSfUq1cvrV+/vtJPfPjw4fr111/Vv39/paenKysrSytWrNDgwYNVVsZVXwAAoPpyefPNN9W0aVPFxcUpPz9fHh4emjBhglq0aKH27dvL1dVVqampv7mh5ORkjRo1SjExMTp48KA++eQTeXh4SJIee+wxtW7dWvHx8erYsaNCQkLO+miWiRMn6qGHHtKkSZPUpEkT/eUvf1F+fv4595WUlKSpU6eqR48eFd6jeClCQ0O1YcMGlZWVqVu3bmrevLmSkpIUEBAgFxe+IQ8AAFRfNotvS660oqKi0xeDJL0tF7u3s8cBAKDa2Jfc8w/b9pm/34WFhfLz8/vD9nM141QXAACAYQhAAAAAwxCAAAAAhiEAAQAADEMAAgAAGIYABAAAMAwBCAAAYBgCEAAAwDAEIAAAgGEIQAAAAMMQgAAAAIYhAAEAAAzj5uwBqoOdU+ON/TJpAABQ9XAGEAAAwDAEIAAAgGEIQAAAAMMQgAAAAIYhAAEAAAxDAAIAABiGAAQAADAMAQgAAGAYAhAAAMAwBCAAAIBhCEAAAADDEIAAAACGIQABAAAMQwACAAAYhgAEAAAwDAEIAABgGAIQAADAMAQgAACAYQhAAAAAwxCAAAAAhiEAAQAADEMAAgAAGIYABAAAMAwBCAAAYBgCEAAAwDAEIAAAgGEIQAAAAMMQgAAAAIYhAAEAAAxDAAIAABiGAAQAADAMAQgAAGAYAhAAAMAwBCAAAIBhCEAAAADDEIAAAACGcXP2ANVBs8kr5GL3dvYYAABUafuSezp7BGNwBhAAAMAwBCAAAIBhCEAAAADDEIAAAACGIQABAAAMQwACAAAYhgAEAAAwDAEIAABgGAIQAADAMAQgAACAYQhAAAAAwxCAAAAAhrnsAJwyZYpatWr1O4xyfgsXLlRAQMAF19mwYYOaN28ud3d39enTR2lpabLZbCooKLjobQAAAJjAzdkD/F4efPBBtWrVSsuWLZOPj4+8vb2Vl5cnf39/Z48GAABwVak2LwFnZWUpLi5O9erVU0BAgDw8PBQSEiKbzebs0QAAAK4qLnFxcdq2bZtjwbZt29SpUyf5+vrKz89PMTEx2rJly29u6IUXXlBYWJi8vb3Vr18/FRYWOu5LT09X165dVatWLfn7+6tDhw76+uuvKzy+oKBA9913n4KDg+Xp6almzZppyZIl59zXTz/9pNjYWCUkJGj37t2y2Wz65ZdfdO+998pms2nhwoVnvQR8Lh999JFat24tT09PNWjQQFOnTtWpU6d+87kCAABUZS6tW7dW586d9euvv0qSBgwYoHr16ik9PV1bt27V+PHj5e7ufsGNfP/993r77bf1ySefaPny5frmm2/0t7/9zXH/kSNHlJiYqPXr12vTpk2KjIxUjx49dOTIEUlSeXm5unfvrg0bNuj111/Xrl27lJycLFdX17P2lZubq3bt2qlZs2Z699131ahRI+Xl5cnPz09z585VXl6e/vKXv/zmE1+3bp0GDhyoUaNGadeuXXrhhRe0cOFCTZ8+/byPKSkpUVFRUYUbAABAVeM2e/Zsffjhh3r33Xc1bNgw5eTkaOzYsWrcuLEkKTIy8jc3cuLECb322muqW7euJOmZZ55Rz549NWfOHIWEhCguLq7C+i+++KICAgK0du1a9erVS5999pk2b96szMxMRUVFSZIaNGhw1n52796trl27KiEhQXPnznW8vHvmpV5/f3+FhIRc1BOfOnWqxo8fr8TERMf+Hn/8cY0bN06TJ08+52NmzpypqVOnXtT2AQAArlYuPj4+ys7OVlZWlqTTF1MMGTJEXbp0UXJysmO5JPn4+Dhu999/v2N5eHi4I/4kqW3btiovL9fu3bslSYcOHdLQoUMVGRkpf39/+fn5qbi4WDk5OZKkjIwM1atXzxF/53L8+HG1a9dOffv21bx58y77vX3btm3TtGnTKjynoUOHKi8vT8eOHTvnYyZMmKDCwkLHLTc397JmAAAAcAa3jIwMSXJ8RMqUKVN01113aenSpVq2bJkmT56s1NRUJSQk6My6kuTn53fRO0lMTNQvv/yiefPm6dprr5Xdblfbtm1VWloqSfLy8vrNbdjtdnXp0kVLlizR2LFjKwRnZRQXF2vq1Knq27fvWfd5enqedwa73X5Z+wUAAHA2t0aNGp21MCoqSlFRURo9erT69++vlJQUJSQk6FzrSlJOTo4OHDig0NBQSdKmTZvk4uKi6667TtLpz+h79tln1aNHD0mn38f3888/Ox7fokUL/fDDD9qzZ895zwK6uLho0aJFuuuuu9SpUyelpaU59lcZrVu31u7du8/7nAAAAKorl40bN+rRRx/Vli1bdPz4cY0YMUJpaWnav3+/NmzYoPT0dDVp0uSCG/H09FRiYqK2bdumdevWaeTIkerXr5/j/XiRkZFatGiRMjMz9dVXX2nAgAEVzvp16NBB7du31+23365Vq1YpOztby5Yt0/Llyyvsx9XVVYsXL1bLli0VFxengwcPVvqJT5o0Sa+99pqmTp2qb7/9VpmZmUpNTdVjjz1W6W0CAABUBS533nmn9u/fr+DgYLm6uuqXX37RwIEDFRUVpX79+ql79+6/eeFDo0aN1LdvX/Xo0UPdunVTixYt9Oyzzzruf/nll3X48GG1bt1a99xzj0aOHKnatWtX2MZ7772nG264Qf3799f111+vcePGqays7Kx9ubm56c0331TTpk0VFxen/Pz8Sj3x+Ph4LVmyRCtXrtQNN9ygm266SU899ZSuvfbaSm0PAACgqrBZlmU5e4iqqqioSP7+/gpLelsudm9njwMAQJW2L7nnFdnPmb/fhYWFl3RNQ3VSbb4JBAAAABeHAAQAADAMAQgAAGAYAhAAAMAwBCAAAIBhCEAAAADDEIAAAACGIQABAAAMQwACAAAYhgAEAAAwDAEIAABgGAIQAADAMG7OHqA62Dk13tgvkwYAAFUPZwABAAAMQwACAAAYhgAEAAAwDAEIAABgGAIQAADAMAQgAACAYQhAAAAAwxCAAAAAhiEAAQAADEMAAgAAGIYABAAAMAwBCAAAYBgCEAAAwDAEIAAAgGEIQAAAAMMQgAAAAIYhAAEAAAxDAAIAABiGAAQAADAMAQgAAGAYAhAAAMAwBCAAAIBhCEAAAADDEIAAAACGIQABAAAMQwACAAAYhgAEAAAwDAEIAABgGAIQAADAMAQgAACAYQhAAAAAwxCAAAAAhiEAAQAADEMAAgAAGIYABAAAMAwBCAAAYBg3Zw9QHTSbvEIudm9njwEAwAXtS+7p7BFwleAMIAAAgGEIQAAAAMMQgAAAAIYhAAEAAAxDAAIAABiGAAQAADAMAQgAAGAYAhAAAMAwBCAAAIBhCEAAAADDEIAAAACGIQABAAAM47Jw4UIFBAQ4ew4AAABcIZwBlDRo0CD16dPH2WMAAABcEVUiAEtLS89aVlZWpvLycidMAwAAULWdFYA//fSTYmNjlZCQoJKSEh0+fFgDBgxQUFCQvLy8FBkZqZSUlAtu9Ntvv1WvXr3k5+cnX19ftWvXTllZWZKkjh07KikpqcL6ffr00aBBgxw/R0RE6PHHH9fAgQPl5+enYcOG6cxL1R9//LGuv/562e125eTkqKSkRGPGjFHdunVVo0YN3XjjjUpLS3Ns68zjVqxYoSZNmsjHx0e33nqr8vLyJElTpkzRq6++qo8++kg2m002m63C4wEAAKobt//+ITc3V127dtVNN92kl19+Wa6urnrooYe0a9cuLVu2TLVq1dL333+v48ePn3eDP/74o9q3b6+OHTvq888/l5+fnzZs2KBTp05d0mCzZ8/WpEmTNHnyZEnSunXrdOzYMc2aNUsLFixQzZo1Vbt2bY0YMUK7du1SamqqQkND9cEHH+jWW2/Vjh07FBkZKUk6duyYZs+erUWLFsnFxUV33323xowZo8WLF2vMmDHKzMxUUVGRI2wDAwPPOVNJSYlKSkocPxcVFV3ScwIAALgaOAJw9+7d6tq1qxISEjR37lzZbDZJUk5OjqKjoxUbGyvp9Nm5C/nXv/4lf39/paamyt3dXZIUFRV1yYPFxcXpoYcecvy8bt06nTx5Us8++6xatmzpmC0lJUU5OTkKDQ2VJI0ZM0bLly9XSkqKZsyYIUk6efKknn/+eTVs2FCSNGLECE2bNk2S5OPjIy8vL5WUlCgkJOSCM82cOVNTp0695OcCAABwNXGRpOPHj6tdu3bq27ev5s2b54g/SXrggQeUmpqqVq1aady4cdq4caPjvu7du8vHx0c+Pj5q2rSpJCkjI0Pt2rVzxF9lnQnO/+bh4aEWLVo4ft6xY4fKysoUFRXlmMPHx0dr1651vOQsSd7e3o74k6Q6deooPz//kmeaMGGCCgsLHbfc3NxL3gYAAICzuUmS3W5Xly5dtGTJEo0dO1Z169Z1rNC9e3ft379fn376qVatWqXOnTtr+PDhmj17thYsWOB4OfhM8Hl5eV1why4uLrIsq8KykydPnrVejRo1zlrm5eVVIU6Li4vl6uqqrVu3ytXVtcK6Pj4+jn//b4zabLazZrgYdrtddrv9kh8HAABwNXGRTkfZokWLFBMTo06dOunAgQMVVgoKClJiYqJef/11zZ07Vy+++KIkqW7dumrUqJEaNWqka6+9VpLUokULx8u15xIUFOS4AEM6fTXvzp07KzV8dHS0ysrKlJ+f75jjzO23Xs79bx4eHiorK6vUDAAAAFWN4ypgV1dXLV68WC1btlRcXJwOHjwoSZo0aZI++ugjff/99/r222+1ZMkSNWnS5LwbHDFihIqKinTnnXdqy5Yt2rt3rxYtWqTdu3dLOv3evqVLl2rp0qX67rvv9MADD6igoKBSw0dFRWnAgAEaOHCg3n//fWVnZ2vz5s2aOXOmli5detHbiYiI0Pbt27V79279/PPP541XAACA6qDCx8C4ubnpzTffVNOmTRUXF6f8/Hx5eHhowoQJatGihdq3by9XV1elpqaed4M1a9bU559/ruLiYnXo0EExMTF66aWXHC/D3nvvvUpMTNTAgQPVoUMHNWjQQJ06dar0E0hJSdHAgQP10EMP6brrrlOfPn2Unp6u8PDwi97G0KFDdd111yk2NlZBQUHasGFDpecBAAC42tmsyrwZDpJOfwyMv7+/wpLelovd29njAABwQfuSezp7hKvCmb/fhYWF8vPzc/Y4TlElvgkEAAAAvx8CEAAAwDAEIAAAgGEIQAAAAMMQgAAAAIYhAAEAAAxDAAIAABiGAAQAADAMAQgAAGAYAhAAAMAwBCAAAIBhCEAAAADDuDl7gOpg59R4Y79MGgAAVD2cAQQAADAMAQgAAGAYAhAAAMAwBCAAAIBhCEAAAADDEIAAAACGIQABAAAMQwACAAAYhgAEAAAwDAEIAABgGAIQAADAMAQgAACAYQhAAAAAwxCAAAAAhiEAAQAADEMAAgAAGIYABAAAMAwBCAAAYBgCEAAAwDAEIAAAgGEIQAAAAMMQgAAAAIYhAAEAAAxDAAIAABiGAAQAADAMAQgAAGAYAhAAAMAwBCAAAIBhCEAAAADDEIAAAACGIQABAAAMQwACAAAYhgAEAAAwDAEIAABgGAIQAADAMAQgAACAYdycPUB10GzyCrnYvZ09BgAAF7QvuaezR8BVgjOAAAAAhiEAAQAADEMAAgAAGIYABAAAMAwBCAAAYBgCEAAAwDAEIAAAgGEIQAAAAMMQgAAAAIYhAAEAAAxDAAIAABiGAAQAADAMAQgAAGAYAlBSRESE5s6d6+wxAAAArogqEYAnT548a1lpaakTJgEAAKj6XAoKCjRkyBAFBQXJz89PcXFx2rZtm2OFbdu2qVOnTvL19ZWfn59iYmK0ZcuWC270k08+0Q033CBPT0/VqlVLCQkJjvtsNps+/PDDCusHBARo4cKFkqR9+/bJZrPprbfeUocOHeTp6anFixdr0KBB6tOnj6ZPn67Q0FBdd911kqTc3Fz169dPAQEBCgwMVO/evbVv3z7Hts88bvbs2apTp45q1qyp4cOHO6KyY8eO2r9/v0aPHi2bzSabzXYZv04AAICrn8sdd9yh/Px8LVu2TFu3blXr1q3VuXNn/frrr5KkAQMGqF69ekpPT9fWrVs1fvx4ubu7n3eDS5cuVUJCgnr06KFvvvlGq1evVps2bS55sPHjx2vUqFHKzMxUfHy8JGn16tXavXu3Vq1apSVLlujkyZOKj4+Xr6+v1q1bpw0bNsjHx0e33nprhTOEa9asUVZWltasWaNXX31VCxcudATn+++/r3r16mnatGnKy8tTXl7eeWcqKSlRUVFRhRsAAEBV47Z582bl5+fLbrdLkmbPnq0PP/xQ7777roYNG6acnByNHTtWjRs3liRFRkZecIPTp0/XnXfeqalTpzqWtWzZ8pIHS0pKUt++fSssq1GjhhYsWCAPDw9J0uuvv67y8nItWLDAceYuJSVFAQEBSktLU7du3SRJ11xzjebPny9XV1c1btxYPXv21OrVqzV06FAFBgbK1dVVvr6+CgkJueBMM2fOrPC8AAAAqiKX4uJi1axZUz4+Po5bdna2srKyJEkPPvighgwZoi5duig5OdmxXFKFx9x///2SpIyMDHXu3PmyB4uNjT1rWfPmzR3xJ51+efr777+Xr6+vY47AwECdOHGiwpxNmzaVq6ur4+c6deooPz//kmeaMGGCCgsLHbfc3NxL3gYAAICzudWpU0dpaWln3REQECBJmjJliu666y4tXbpUy5Yt0+TJk5WamqqEhARlZGQ41vfz85MkeXl5XXCHNptNlmVVWHauizxq1Kjxm8uKi4sVExOjxYsXn7VuUFCQ49//+5K1zWZTeXn5Bec8F7vd7jhTCgAAUFW5HTx4UG5uboqIiDjvSlFRUYqKitLo0aPVv39/paSkKCEhQY0aNTpr3RYtWmj16tUaPHjwObcVFBRU4X12e/fu1bFjxyo1fOvWrfXWW2+pdu3ajgCtDA8PD5WVlVX68QAAAFWJS9u2bdWnTx+tXLlS+/bt08aNG/Xoo49qy5YtOn78uEaMGKG0tDTt379fGzZsUHp6upo0aXLeDU6ePFlvvvmmJk+erMzMTO3YsUOzZs1y3B8XF6f58+frm2++0ZYtW3T//fdf8KKSCxkwYIBq1aql3r17a926dcrOzlZaWppGjhypH3744aK3ExERoS+++EI//vijfv7550rNAgAAUFW4fPrpp2rfvr0GDx6sqKgo3Xnnndq/f7+Cg4Pl6uqqX375RQMHDlRUVJT69eun7t27X/BCiI4dO+qdd97Rxx9/rFatWikuLk6bN2923D9nzhyFhYWpXbt2uuuuuzRmzBh5e3tXanhvb2998cUXCg8PV9++fdWkSRP99a9/1YkTJy7pjOC0adO0b98+NWzYsMJLxwAAANWRzfrfN+ThohUVFcnf319hSW/LxV65iAUA4ErZl9zT2SNcFc78/S4sLLyst5BVZVXim0AAAADw+yEAAQAADEMAAgAAGIYABAAAMAwBCAAAYBgCEAAAwDAEIAAAgGEIQAAAAMMQgAAAAIYhAAEAAAxDAAIAABiGAAQAADCMm7MHqA52To039sukAQBA1cMZQAAAAMMQgAAAAIYhAAEAAAxDAAIAABiGAAQAADAMAQgAAGAYAhAAAMAwBCAAAIBhCEAAAADDEIAAAACGIQABAAAMQwACAAAYhgAEAAAwDAEIAABgGAIQAADAMAQgAACAYQhAAAAAwxCAAAAAhiEAAQAADEMAAgAAGIYABAAAMAwBCAAAYBgCEAAAwDAEIAAAgGEIQAAAAMMQgAAAAIYhAAEAAAxDAAIAABiGAAQAADAMAQgAAGAYAhAAAMAwBCAAAIBhCEAAAADDEIAAAACGIQABAAAMQwACAAAYxs3ZA1QHzSavkIvd29ljAACqiX3JPZ09Aqo5zgACAAAYhgAEAAAwDAEIAABgGAIQAADAMAQgAACAYQhAAAAAwxCAAAAAhiEAAQAADEMAAgAAGIYABAAAMAwBCAAAYBgCEAAAwDAEIAAAgGEIQEk2m00ffvihs8cAAAC4Iq76ALQsS6dOnTpreWlpqROmAQAAqPpccnNz1a9fPwUEBCgwMFC9e/fWvn37HCukpaWpTZs2qlGjhgICAnTzzTdr//79F9zoK6+8oqZNm8put6tOnToaMWKEJGnfvn2y2WzKyMhwrFtQUCCbzaa0tDTH/mw2m5YtW6aYmBjZ7XatX79eHTt21IgRI5SUlKRatWopPj5ekrRz5051795dPj4+Cg4O1j333KOff/7Zsf2OHTtq5MiRGjdunAIDAxUSEqIpU6Y47o+IiJAkJSQkyGazOX4GAACorlzi4+Pl6+urdevWacOGDfLx8dGtt96q0tJSnTp1Sn369FGHDh20fft2ffnllxo2bJhsNtt5N/jcc89p+PDhGjZsmHbs2KGPP/5YjRo1uuTBxo8fr+TkZGVmZqpFixaSpFdffVUeHh7asGGDnn/+eRUUFCguLk7R0dHasmWLli9frkOHDqlfv34VtvXqq6+qRo0a+uqrr/Tkk09q2rRpWrVqlSQpPT1dkpSSkqK8vDzHz+dSUlKioqKiCjcAAICqxq28vFwLFixwRF1KSooCAgKUlpam2NhYFRYWqlevXmrYsKEkqUmTJhfc4BNPPKGHHnpIo0aNciy74YYbLnmwadOmqWvXrhWWRUZG6sknn6ywr+joaM2YMcOx7JVXXlFYWJj27NmjqKgoSVKLFi00efJkxzbmz5+v1atXq2vXrgoKCpIkBQQEKCQk5IIzzZw5U1OnTr3k5wIAAHA1cfn+++/l6+srHx8f+fj4KDAwUCdOnFBWVpYCAwM1aNAgxcfH67bbbtO8efOUl5cnScrJyXE8xsfHRzNmzFB+fr4OHDigzp07X/ZgsbGxZy2LiYmp8PO2bdu0Zs2aCnM0btxYkpSVleVY78wZxDPq1Kmj/Pz8S55pwoQJKiwsdNxyc3MveRsAAADO5hYTE6PFixefdceZM2MpKSkaOXKkli9frrfeekuPPfaYVq1apdjY2Arv5QsMDJS7u/sFd+bicvqaE8uyHMtOnjx5znVr1Kjxm8uKi4t12223adasWWetW6dOHce//3cum82m8vLyC856Lna7XXa7/ZIfBwAAcDVx27t3r2rXri0/P7/zrhQdHa3o6GhNmDBBbdu21RtvvKGbbrrpnO/ti4iI0OrVq9WpU6ez7jsTlXl5eYqOjpakChF5qVq3bq333ntPERERcnNzq/R23N3dVVZWVunHAwAAVCUutWrVUu/evbVu3TplZ2crLS1NI0eO1A8//KDs7GxNmDBBX375pfbv36+VK1dq7969F3wf4JQpUzRnzhw9/fTT2rt3r77++ms988wzkiQvLy/ddNNNjos71q5dq8cee6zSww8fPly//vqr+vfvr/T0dGVlZWnFihUaPHjwJQXdmWg9ePCgDh8+XOl5AAAAqgKXL774QuHh4erbt6+aNGmiv/71rzpx4oT8/Pzk7e2t7777TrfffruioqI0bNgwDR8+XPfdd995N5iYmKi5c+fq2WefVdOmTdWrVy/t3bvXcf8rr7yiU6dOKSYmRklJSXriiScqPXxoaKg2bNigsrIydevWTc2bN1dSUpICAgIcLzdfjDlz5mjVqlUKCwtznJkEAACormzWf78hD5ekqKhI/v7+Ckt6Wy52b2ePAwCoJvYl93T2CNXamb/fhYWFF3wLXHV21X8TCAAAAH5fBCAAAIBhCEAAAADDEIAAAACGIQABAAAMQwACAAAYhgAEAAAwDAEIAABgGAIQAADAMAQgAACAYQhAAAAAwxCAAAAAhnFz9gDVwc6p8cZ+mTQAAKh6OAMIAABgGAIQAADAMAQgAACAYQhAAAAAwxCAAAAAhiEAAQAADEMAAgAAGIYABAAAMAwBCAAAYBgCEAAAwDAEIAAAgGEIQAAAAMMQgAAAAIYhAAEAAAxDAAIAABiGAAQAADCMm7MHqMosy5IkFRUVOXkSAABwsc783T7zd9xEBOBl+OWXXyRJYWFhTp4EAABcqiNHjsjf39/ZYzgFAXgZAgMDJUk5OTnG/g/oalRUVKSwsDDl5ubKz8/P2eNAHJOrFcfl6sMxuTIsy9KRI0cUGhrq7FGchgC8DC4up99C6e/vz/9Rr0J+fn4cl6sMx+TqxHG5+nBM/nimn7jhIhAAAADDEIAAAACGIQAvg91u1+TJk2W32509Cv4Lx+XqwzG5OnFcrj4cE1wpNsvka6ABAAAMxBlAAAAAwxCAAAAAhiEAAQAADEMAAgAAGIYArKR//etfioiIkKenp2688UZt3rzZ2SMZZebMmbrhhhvk6+ur2rVrq0+fPtq9e3eFdU6cOKHhw4erZs2a8vHx0e23365Dhw45aWLzJCcny2azKSkpybGMY+IcP/74o+6++27VrFlTXl5eat68ubZs2eK437IsTZo0SXXq1JGXl5e6dOmivXv3OnHi6q2srEwTJ05U/fr15eXlpYYNG+rxxx+v8L20HBP80QjASnjrrbf04IMPavLkyfr666/VsmVLxcfHKz8/39mjGWPt2rUaPny4Nm3apFWrVunkyZPq1q2bjh496lhn9OjR+uSTT/TOO+9o7dq1OnDggPr27evEqc2Rnp6uF154QS1atKiwnGNy5R0+fFg333yz3N3dtWzZMu3atUtz5szRNddc41jnySef1NNPP63nn39eX331lWrUqKH4+HidOHHCiZNXX7NmzdJzzz2n+fPnKzMzU7NmzdKTTz6pZ555xrEOxwR/OAuXrE2bNtbw4cMdP5eVlVmhoaHWzJkznTiV2fLz8y1J1tq1ay3LsqyCggLL3d3deueddxzrZGZmWpKsL7/80lljGuHIkSNWZGSktWrVKqtDhw7WqFGjLMvimDjLww8/bN1yyy3nvb+8vNwKCQmx/vGPfziWFRQUWHa73XrzzTevxIjG6dmzp3XvvfdWWNa3b19rwIABlmVxTHBlcAbwEpWWlmrr1q3q0qWLY5mLi4u6dOmiL7/80omTma2wsFCSFBgYKEnaunWrTp48WeE4NW7cWOHh4RynP9jw4cPVs2fPCr97iWPiLB9//LFiY2N1xx13qHbt2oqOjtZLL73kuD87O1sHDx6scFz8/f114403clz+IH/605+0evVq7dmzR5K0bds2rV+/Xt27d5fEMcGV4ebsAaqan3/+WWVlZQoODq6wPDg4WN99952TpjJbeXm5kpKSdPPNN6tZs2aSpIMHD8rDw0MBAQEV1g0ODtbBgwedMKUZUlNT9fXXXys9Pf2s+zgmzvHvf/9bzz33nB588EE98sgjSk9P18iRI+Xh4aHExETH7/5c/03juPwxxo8fr6KiIjVu3Fiurq4qKyvT9OnTNWDAAEnimOCKIABR5Q0fPlw7d+7U+vXrnT2K0XJzczVq1CitWrVKnp6ezh4H/1FeXq7Y2FjNmDFDkhQdHa2dO3fq+eefV2JiopOnM9Pbb7+txYsX64033lDTpk2VkZGhpKQkhYaGckxwxfAS8CWqVauWXF1dz7py8dChQwoJCXHSVOYaMWKElixZojVr1qhevXqO5SEhISotLVVBQUGF9TlOf5ytW7cqPz9frVu3lpubm9zc3LR27Vo9/fTTcnNzU3BwMMfECerUqaPrr7++wrImTZooJydHkhy/e/6bduWMHTtW48eP15133qnmzZvrnnvu0ejRozVz5kxJHBNcGQTgJfLw8FBMTIxWr17tWFZeXq7Vq1erbdu2TpzMLJZlacSIEfrggw/0+eefq379+hXuj4mJkbu7e4XjtHv3buXk5HCc/iCdO3fWjh07lJGR4bjFxsZqwIABjn9zTK68m2+++ayPSNqzZ4+uvfZaSVL9+vUVEhJS4bgUFRXpq6++4rj8QY4dOyYXl4p/fl1dXVVeXi6JY4IrxNlXoVRFqamplt1utxYuXGjt2rXLGjZsmBUQEGAdPHjQ2aMZ44EHHrD8/f2ttLQ0Ky8vz3E7duyYY53777/fCg8Ptz7//HNry5YtVtu2ba22bds6cWrz/PdVwJbFMXGGzZs3W25ubtb06dOtvXv3WosXL7a8vb2t119/3bFOcnKyFRAQYH300UfW9u3brd69e1v169e3jh8/7sTJq6/ExESrbt261pIlS6zs7Gzr/ffft2rVqmWNGzfOsQ7HBH80ArCSnnnmGSs8PNzy8PCw2rRpY23atMnZIxlF0jlvKSkpjnWOHz9u/e1vf7OuueYay9vb20pISLDy8vKcN7SB/jcAOSbO8cknn1jNmjWz7Ha71bhxY+vFF1+scH95ebk1ceJEKzg42LLb7Vbnzp2t3bt3O2na6q+oqMgaNWqUFR4ebnl6eloNGjSwHn30UaukpMSxDscEfzSbZf3XR48DAACg2uM9gAAAAIYhAAEAAAxDAAIAABiGAAQAADAMAQgAAGAYAhAAAMAwBCAAAIBhCEAAAADDEIAAAACGIQABAAAMQwACAAAYhgAEAAAwDAEIAABgGAIQAADAMAQgAACAYQhAAAAAwxCAAAAAhiEAAQAADEMAAgAAGIYABAAAMAwBCAAAYBgCEAAAwDAEIAAAgGEIQAAAAMMQgAAAAIYhAAEAAAxDAAIAABiGAAQAADAMAQgAAGAYAhAAAMAwBCAAAIBh/j9lOUsxjHZs4wAAAABJRU5ErkJggg==' width=640.0/>\n",
       "            </div>\n",
       "        "
      ],
      "text/plain": [
       "Canvas(toolbar=Toolbar(toolitems=[('Home', 'Reset original view', 'home', 'home'), ('Back', 'Back to previous …"
      ]
     },
     "metadata": {},
     "output_type": "display_data"
    }
   ],
   "source": [
    "f = pd.DataFrame(coverage)\n",
    "f.columns = ['metadata','coverage']\n",
    "f.sort_values(by='coverage')[-5:].plot.barh(x='metadata',y='coverage')"
   ]
  },
  {
   "cell_type": "markdown",
   "metadata": {
    "button": false,
    "new_sheet": false,
    "run_control": {
     "read_only": false
    }
   },
   "source": [
    "Now let's see what Crossref services they participate in:"
   ]
  },
  {
   "cell_type": "code",
   "execution_count": 49,
   "metadata": {
    "button": false,
    "new_sheet": false,
    "run_control": {
     "read_only": false
    }
   },
   "outputs": [
    {
     "data": {
      "text/html": [
       "<div>\n",
       "<style scoped>\n",
       "    .dataframe tbody tr th:only-of-type {\n",
       "        vertical-align: middle;\n",
       "    }\n",
       "\n",
       "    .dataframe tbody tr th {\n",
       "        vertical-align: top;\n",
       "    }\n",
       "\n",
       "    .dataframe thead th {\n",
       "        text-align: right;\n",
       "    }\n",
       "</style>\n",
       "<table border=\"1\" class=\"dataframe\">\n",
       "  <thead>\n",
       "    <tr style=\"text-align: right;\">\n",
       "      <th></th>\n",
       "      <th>service</th>\n",
       "      <th>paticipation</th>\n",
       "    </tr>\n",
       "  </thead>\n",
       "  <tbody>\n",
       "    <tr>\n",
       "      <th>0</th>\n",
       "      <td>deposits-abstracts-current</td>\n",
       "      <td>True</td>\n",
       "    </tr>\n",
       "    <tr>\n",
       "      <th>1</th>\n",
       "      <td>deposits-orcids-current</td>\n",
       "      <td>True</td>\n",
       "    </tr>\n",
       "    <tr>\n",
       "      <th>2</th>\n",
       "      <td>deposits</td>\n",
       "      <td>True</td>\n",
       "    </tr>\n",
       "    <tr>\n",
       "      <th>3</th>\n",
       "      <td>deposits-affiliations-backfile</td>\n",
       "      <td>True</td>\n",
       "    </tr>\n",
       "    <tr>\n",
       "      <th>4</th>\n",
       "      <td>deposits-update-policies-backfile</td>\n",
       "      <td>True</td>\n",
       "    </tr>\n",
       "    <tr>\n",
       "      <th>5</th>\n",
       "      <td>deposits-similarity-checking-backfile</td>\n",
       "      <td>True</td>\n",
       "    </tr>\n",
       "    <tr>\n",
       "      <th>6</th>\n",
       "      <td>deposits-award-numbers-current</td>\n",
       "      <td>True</td>\n",
       "    </tr>\n",
       "    <tr>\n",
       "      <th>7</th>\n",
       "      <td>deposits-resource-links-current</td>\n",
       "      <td>True</td>\n",
       "    </tr>\n",
       "    <tr>\n",
       "      <th>8</th>\n",
       "      <td>deposits-ror-ids-current</td>\n",
       "      <td>False</td>\n",
       "    </tr>\n",
       "    <tr>\n",
       "      <th>9</th>\n",
       "      <td>deposits-articles</td>\n",
       "      <td>True</td>\n",
       "    </tr>\n",
       "    <tr>\n",
       "      <th>10</th>\n",
       "      <td>deposits-affiliations-current</td>\n",
       "      <td>True</td>\n",
       "    </tr>\n",
       "    <tr>\n",
       "      <th>11</th>\n",
       "      <td>deposits-funders-current</td>\n",
       "      <td>True</td>\n",
       "    </tr>\n",
       "    <tr>\n",
       "      <th>12</th>\n",
       "      <td>deposits-references-backfile</td>\n",
       "      <td>True</td>\n",
       "    </tr>\n",
       "    <tr>\n",
       "      <th>13</th>\n",
       "      <td>deposits-ror-ids-backfile</td>\n",
       "      <td>False</td>\n",
       "    </tr>\n",
       "    <tr>\n",
       "      <th>14</th>\n",
       "      <td>deposits-abstracts-backfile</td>\n",
       "      <td>True</td>\n",
       "    </tr>\n",
       "    <tr>\n",
       "      <th>15</th>\n",
       "      <td>deposits-licenses-backfile</td>\n",
       "      <td>True</td>\n",
       "    </tr>\n",
       "    <tr>\n",
       "      <th>16</th>\n",
       "      <td>deposits-award-numbers-backfile</td>\n",
       "      <td>True</td>\n",
       "    </tr>\n",
       "    <tr>\n",
       "      <th>17</th>\n",
       "      <td>deposits-descriptions-current</td>\n",
       "      <td>False</td>\n",
       "    </tr>\n",
       "    <tr>\n",
       "      <th>18</th>\n",
       "      <td>deposits-references-current</td>\n",
       "      <td>True</td>\n",
       "    </tr>\n",
       "    <tr>\n",
       "      <th>19</th>\n",
       "      <td>deposits-resource-links-backfile</td>\n",
       "      <td>True</td>\n",
       "    </tr>\n",
       "    <tr>\n",
       "      <th>20</th>\n",
       "      <td>deposits-descriptions-backfile</td>\n",
       "      <td>False</td>\n",
       "    </tr>\n",
       "    <tr>\n",
       "      <th>21</th>\n",
       "      <td>deposits-orcids-backfile</td>\n",
       "      <td>True</td>\n",
       "    </tr>\n",
       "    <tr>\n",
       "      <th>22</th>\n",
       "      <td>deposits-funders-backfile</td>\n",
       "      <td>True</td>\n",
       "    </tr>\n",
       "    <tr>\n",
       "      <th>23</th>\n",
       "      <td>deposits-update-policies-current</td>\n",
       "      <td>True</td>\n",
       "    </tr>\n",
       "    <tr>\n",
       "      <th>24</th>\n",
       "      <td>deposits-similarity-checking-current</td>\n",
       "      <td>True</td>\n",
       "    </tr>\n",
       "    <tr>\n",
       "      <th>25</th>\n",
       "      <td>deposits-licenses-current</td>\n",
       "      <td>True</td>\n",
       "    </tr>\n",
       "  </tbody>\n",
       "</table>\n",
       "</div>"
      ],
      "text/plain": [
       "                                  service  paticipation\n",
       "0              deposits-abstracts-current          True\n",
       "1                 deposits-orcids-current          True\n",
       "2                                deposits          True\n",
       "3          deposits-affiliations-backfile          True\n",
       "4       deposits-update-policies-backfile          True\n",
       "5   deposits-similarity-checking-backfile          True\n",
       "6          deposits-award-numbers-current          True\n",
       "7         deposits-resource-links-current          True\n",
       "8                deposits-ror-ids-current         False\n",
       "9                       deposits-articles          True\n",
       "10          deposits-affiliations-current          True\n",
       "11               deposits-funders-current          True\n",
       "12           deposits-references-backfile          True\n",
       "13              deposits-ror-ids-backfile         False\n",
       "14            deposits-abstracts-backfile          True\n",
       "15             deposits-licenses-backfile          True\n",
       "16        deposits-award-numbers-backfile          True\n",
       "17          deposits-descriptions-current         False\n",
       "18            deposits-references-current          True\n",
       "19       deposits-resource-links-backfile          True\n",
       "20         deposits-descriptions-backfile         False\n",
       "21               deposits-orcids-backfile          True\n",
       "22              deposits-funders-backfile          True\n",
       "23       deposits-update-policies-current          True\n",
       "24   deposits-similarity-checking-current          True\n",
       "25              deposits-licenses-current          True"
      ]
     },
     "execution_count": 49,
     "metadata": {},
     "output_type": "execute_result"
    }
   ],
   "source": [
    "participation = [[key,pub['flags'][key]] for key in pub['flags'].keys()]\n",
    "f = pd.DataFrame(participation)\n",
    "f.columns = ['service','paticipation']\n",
    "f"
   ]
  },
  {
   "cell_type": "markdown",
   "metadata": {},
   "source": [
    "## Fun with facets\n",
    "\n",
    "### ORCID support"
   ]
  },
  {
   "cell_type": "code",
   "execution_count": 54,
   "metadata": {},
   "outputs": [
    {
     "data": {
      "text/plain": [
       "0                                           Elsevier BV\n",
       "1               Springer Science and Business Media LLC\n",
       "2                                                 Wiley\n",
       "3                                               MDPI AG\n",
       "4                                    Informa UK Limited\n",
       "5                       American Chemical Society (ACS)\n",
       "6     Institute of Electrical and Electronics Engine...\n",
       "7                                     SAGE Publications\n",
       "8                      Royal Society of Chemistry (RSC)\n",
       "9                         Oxford University Press (OUP)\n",
       "10                        Cold Spring Harbor Laboratory\n",
       "11                                      Copernicus GmbH\n",
       "12                     Public Library of Science (PLoS)\n",
       "13      American Association for Cancer Research (AACR)\n",
       "14                         Research Square Platform LLC\n",
       "15                                       IOP Publishing\n",
       "16                                       AIP Publishing\n",
       "17                                  FapUNIFESP (SciELO)\n",
       "18                      American Physical Society (APS)\n",
       "19                     Cambridge University Press (CUP)\n",
       "Name: publisher, dtype: object"
      ]
     },
     "execution_count": 54,
     "metadata": {},
     "output_type": "execute_result"
    }
   ],
   "source": [
    "from crossref.restful import Works\n",
    "works = Works()\n",
    "r = works.filter(has_orcid='true').facet('publisher-name',20)\n",
    "orcid_support = [[key,r['publisher-name']['values'][key]] for key in r['publisher-name']['values'].keys()]\n",
    "f = pd.DataFrame(orcid_support)\n",
    "f.columns = ['publisher','orcids']\n",
    "f['publisher']"
   ]
  },
  {
   "cell_type": "markdown",
   "metadata": {},
   "source": [
    "## Zika publications"
   ]
  },
  {
   "cell_type": "code",
   "execution_count": null,
   "metadata": {},
   "outputs": [],
   "source": [
    "r = works.query(title='Zika').facet('publisher-name',10)\n",
    "zika_publications = [[key,r['publisher-name']['values'][key]] for key in r['publisher-name']['values'].keys()]\n",
    "f = pd.DataFrame(zika_publications)\n",
    "f.columns = ['publisher','publications']\n",
    "f.plot.barh(x='publisher',y='publications')"
   ]
  },
  {
   "cell_type": "markdown",
   "metadata": {},
   "source": [
    "## Some other resources\n",
    "\n",
    "### Types"
   ]
  },
  {
   "cell_type": "code",
   "execution_count": 56,
   "metadata": {},
   "outputs": [
    {
     "data": {
      "text/plain": [
       "['Book',\n",
       " 'Book Chapter',\n",
       " 'Book Section',\n",
       " 'Book Series',\n",
       " 'Book Set',\n",
       " 'Book Track',\n",
       " 'Component',\n",
       " 'Database',\n",
       " 'Dataset',\n",
       " 'Dissertation',\n",
       " 'Edited Book',\n",
       " 'Grant',\n",
       " 'Journal',\n",
       " 'Journal Article',\n",
       " 'Journal Issue',\n",
       " 'Journal Volume',\n",
       " 'Monograph',\n",
       " 'Other',\n",
       " 'Part',\n",
       " 'Peer Review',\n",
       " 'Posted Content',\n",
       " 'Proceedings',\n",
       " 'Proceedings Article',\n",
       " 'Proceedings Series',\n",
       " 'Reference Book',\n",
       " 'Reference Entry',\n",
       " 'Report',\n",
       " 'Report Component',\n",
       " 'Report Series',\n",
       " 'Standard']"
      ]
     },
     "execution_count": 56,
     "metadata": {},
     "output_type": "execute_result"
    }
   ],
   "source": [
    "from crossref.restful import Types\n",
    "types = [type['label'] for type in Types().all()]\n",
    "types.sort()\n",
    "types"
   ]
  },
  {
   "cell_type": "markdown",
   "metadata": {},
   "source": [
    "### Journals"
   ]
  },
  {
   "cell_type": "code",
   "execution_count": 57,
   "metadata": {},
   "outputs": [
    {
     "data": {
      "text/plain": [
       "145870"
      ]
     },
     "execution_count": 57,
     "metadata": {},
     "output_type": "execute_result"
    }
   ],
   "source": [
    "from crossref.restful import Journals\n",
    "journals = Journals()\n",
    "journals.count()\n"
   ]
  },
  {
   "cell_type": "code",
   "execution_count": null,
   "metadata": {},
   "outputs": [],
   "source": [
    "journal = journals.journal('0028-0836')\n",
    "journal"
   ]
  },
  {
   "cell_type": "markdown",
   "metadata": {},
   "source": [
    "## A slight digression to discuss testing debugging queries\n",
    "\n",
    "**TIP** One of the cool things about the library we are using, is that you can easily see the REST API URIs that it generates for queries you make to the API. To do this, you simply ask for the URL of the query in question. So, for example- if you want to see the API call for the code we used for asking for the number of Crossref DOIs."
   ]
  },
  {
   "cell_type": "code",
   "execution_count": 59,
   "metadata": {},
   "outputs": [
    {
     "data": {
      "text/plain": [
       "'https://api.crossref.org/works?query=zika'"
      ]
     },
     "execution_count": 59,
     "metadata": {},
     "output_type": "execute_result"
    }
   ],
   "source": [
    "from crossref.restful import Works\n",
    "works = Works()\n",
    "works.query('zika').url"
   ]
  },
  {
   "cell_type": "markdown",
   "metadata": {},
   "source": [
    "## Using samples for testing and to save time"
   ]
  },
  {
   "cell_type": "code",
   "execution_count": null,
   "metadata": {},
   "outputs": [],
   "source": [
    "from crossref.restful import Works\n",
    "works = Works()\n",
    "zika_sample = [work for work in works.query('zika').sample(10)]\n",
    "zika_sample"
   ]
  },
  {
   "cell_type": "markdown",
   "metadata": {
    "button": false,
    "collapsed": true,
    "new_sheet": false,
    "run_control": {
     "read_only": false
    }
   },
   "source": [
    "## Some Jisc Examples\n",
    "\n",
    "### Notify institutions of co-authored works"
   ]
  },
  {
   "cell_type": "markdown",
   "metadata": {
    "button": false,
    "new_sheet": false,
    "run_control": {
     "read_only": false
    }
   },
   "source": [
    "Works records indexed _today_ that have affiliation data"
   ]
  },
  {
   "cell_type": "code",
   "execution_count": 61,
   "metadata": {
    "button": false,
    "new_sheet": false,
    "run_control": {
     "read_only": false
    }
   },
   "outputs": [
    {
     "name": "stdout",
     "output_type": "stream",
     "text": [
      "1412\n"
     ]
    }
   ],
   "source": [
    "import datetime\n",
    "works=Works()\n",
    "today = datetime.date.today().isoformat()\n",
    "works_with_affiliations = [w for w in works.filter(from_online_pub_date=today, has_affiliation='true')]\n",
    "print(len(works_with_affiliations))\n"
   ]
  },
  {
   "cell_type": "markdown",
   "metadata": {},
   "source": [
    "Let's look for publications with a publication date of today and a particular affiliation."
   ]
  },
  {
   "cell_type": "code",
   "execution_count": null,
   "metadata": {
    "button": false,
    "new_sheet": false,
    "run_control": {
     "read_only": false
    }
   },
   "outputs": [],
   "source": [
    "import datetime\n",
    "affiliation=\"Harvard\"\n",
    "today = datetime.date.today().isoformat()\n",
    "recent_affiliation_pubs = works.filter(from_online_pub_date=today).query(affiliation=affiliation)\n",
    "recent_affiliation_pubs.count()"
   ]
  },
  {
   "cell_type": "markdown",
   "metadata": {},
   "source": [
    "Let's look at the first record..."
   ]
  },
  {
   "cell_type": "code",
   "execution_count": null,
   "metadata": {
    "button": false,
    "collapsed": true,
    "new_sheet": false,
    "run_control": {
     "read_only": false
    }
   },
   "outputs": [],
   "source": [
    "next(iter(recent_affiliation_pubs))"
   ]
  },
  {
   "cell_type": "markdown",
   "metadata": {
    "button": false,
    "collapsed": true,
    "new_sheet": false,
    "run_control": {
     "read_only": false
    }
   },
   "source": [
    "#### A digression on organizational identifiers...\n"
   ]
  },
  {
   "cell_type": "markdown",
   "metadata": {},
   "source": [
    "### Integrate funding data into funder policy service"
   ]
  },
  {
   "cell_type": "code",
   "execution_count": null,
   "metadata": {
    "collapsed": true
   },
   "outputs": [],
   "source": [
    "from crossref.restful import Funders\n",
    "funders=Funders()\n",
    "funder_name=\"NIH\"\n",
    "funder_id=next(iter(funders.query(funder_name)))['id']\n",
    "funder_id"
   ]
  },
  {
   "cell_type": "code",
   "execution_count": null,
   "metadata": {
    "collapsed": true
   },
   "outputs": [],
   "source": [
    "import datetime\n",
    "works=Works()\n",
    "today = datetime.date.today().isoformat()\n",
    "works_with_funding_data = [w for w in works.filter(from_online_pub_date='2017-01-01', funder=funder_id)]\n",
    "print(len(works_with_funding_data))"
   ]
  },
  {
   "cell_type": "code",
   "execution_count": null,
   "metadata": {
    "collapsed": true
   },
   "outputs": [],
   "source": [
    "next(iter(works_with_funding_data))"
   ]
  },
  {
   "cell_type": "markdown",
   "metadata": {},
   "source": [
    "### "
   ]
  }
 ],
 "metadata": {
  "kernelspec": {
   "display_name": "venv",
   "language": "python",
   "name": "python3"
  },
  "language_info": {
   "codemirror_mode": {
    "name": "ipython",
    "version": 3
   },
   "file_extension": ".py",
   "mimetype": "text/x-python",
   "name": "python",
   "nbconvert_exporter": "python",
   "pygments_lexer": "ipython3",
   "version": "3.13.2"
  }
 },
 "nbformat": 4,
 "nbformat_minor": 2
}
