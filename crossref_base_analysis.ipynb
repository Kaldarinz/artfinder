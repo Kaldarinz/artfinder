{
 "cells": [
  {
   "cell_type": "code",
   "execution_count": 144,
   "metadata": {},
   "outputs": [
    {
     "name": "stdout",
     "output_type": "stream",
     "text": [
      "The autoreload extension is already loaded. To reload it, use:\n",
      "  %reload_ext autoreload\n"
     ]
    }
   ],
   "source": [
    "%load_ext autoreload\n",
    "%autoreload 2\n",
    "\n",
    "from artfinder import load_csv\n",
    "import pandas as pd\n",
    "import re\n",
    "import logging\n",
    "from typing import cast\n",
    "\n",
    "logging.basicConfig(level=logging.INFO)"
   ]
  },
  {
   "cell_type": "markdown",
   "metadata": {},
   "source": [
    "Load data"
   ]
  },
  {
   "cell_type": "code",
   "execution_count": 145,
   "metadata": {},
   "outputs": [
    {
     "name": "stdout",
     "output_type": "stream",
     "text": [
      "<class 'pandas.core.frame.DataFrame'>\n",
      "RangeIndex: 548 entries, 0 to 547\n",
      "Data columns (total 21 columns):\n",
      " #   Column                  Non-Null Count  Dtype         \n",
      "---  ------                  --------------  -----         \n",
      " 0   publisher               548 non-null    string        \n",
      " 1   license                 348 non-null    object        \n",
      " 2   is_referenced_by_count  548 non-null    int64         \n",
      " 3   link                    486 non-null    object        \n",
      " 4   authors                 548 non-null    object        \n",
      " 5   abstract                184 non-null    string        \n",
      " 6   title                   548 non-null    string        \n",
      " 7   doi                     548 non-null    string        \n",
      " 8   type                    548 non-null    string        \n",
      " 9   journal                 548 non-null    string        \n",
      " 10  issn                    491 non-null    string        \n",
      " 11  volume                  480 non-null    string        \n",
      " 12  issue                   369 non-null    string        \n",
      " 13  start_page              456 non-null    string        \n",
      " 14  end_page                318 non-null    string        \n",
      " 15  publication_date        548 non-null    datetime64[ns]\n",
      " 16  references              446 non-null    object        \n",
      " 17  pmcid                   0 non-null      float64       \n",
      " 18  pmid                    0 non-null      float64       \n",
      " 19  keywords                0 non-null      float64       \n",
      " 20  ablation                548 non-null    bool          \n",
      "dtypes: bool(1), datetime64[ns](1), float64(3), int64(1), object(4), string(11)\n",
      "memory usage: 86.3+ KB\n"
     ]
    }
   ],
   "source": [
    "df = load_csv('database/processed/barcikowski_full.csv')\n",
    "df.info()"
   ]
  },
  {
   "cell_type": "markdown",
   "metadata": {},
   "source": [
    "Get some information, which can be usefull for filtering data"
   ]
  },
  {
   "cell_type": "code",
   "execution_count": 146,
   "metadata": {},
   "outputs": [
    {
     "data": {
      "text/plain": [
       "<StringArray>\n",
       "['journal-article', 'proceedings-article']\n",
       "Length: 2, dtype: string"
      ]
     },
     "execution_count": 146,
     "metadata": {},
     "output_type": "execute_result"
    }
   ],
   "source": [
    "# Check types of data entries\n",
    "df['type'].unique()"
   ]
  },
  {
   "cell_type": "code",
   "execution_count": 147,
   "metadata": {},
   "outputs": [
    {
     "name": "stdout",
     "output_type": "stream",
     "text": [
      "0\n"
     ]
    }
   ],
   "source": [
    "# Check for duplicates\n",
    "print(df['doi'].duplicated().sum())\n",
    "df.drop_duplicates(subset=['doi'], inplace=True)"
   ]
  },
  {
   "cell_type": "markdown",
   "metadata": {},
   "source": [
    "Actually filter articles"
   ]
  },
  {
   "cell_type": "code",
   "execution_count": 148,
   "metadata": {},
   "outputs": [
    {
     "name": "stdout",
     "output_type": "stream",
     "text": [
      "<class 'pandas.core.frame.DataFrame'>\n",
      "RangeIndex: 292 entries, 0 to 291\n",
      "Data columns (total 21 columns):\n",
      " #   Column                  Non-Null Count  Dtype         \n",
      "---  ------                  --------------  -----         \n",
      " 0   publisher               292 non-null    string        \n",
      " 1   license                 197 non-null    object        \n",
      " 2   is_referenced_by_count  292 non-null    int64         \n",
      " 3   link                    276 non-null    object        \n",
      " 4   authors                 292 non-null    object        \n",
      " 5   abstract                121 non-null    string        \n",
      " 6   title                   292 non-null    string        \n",
      " 7   doi                     292 non-null    string        \n",
      " 8   type                    292 non-null    string        \n",
      " 9   journal                 292 non-null    string        \n",
      " 10  issn                    279 non-null    string        \n",
      " 11  volume                  273 non-null    string        \n",
      " 12  issue                   213 non-null    string        \n",
      " 13  start_page              239 non-null    string        \n",
      " 14  end_page                183 non-null    string        \n",
      " 15  publication_date        292 non-null    datetime64[ns]\n",
      " 16  references              272 non-null    object        \n",
      " 17  pmcid                   0 non-null      float64       \n",
      " 18  pmid                    0 non-null      float64       \n",
      " 19  keywords                0 non-null      float64       \n",
      " 20  ablation                292 non-null    bool          \n",
      "dtypes: bool(1), datetime64[ns](1), float64(3), int64(1), object(4), string(11)\n",
      "memory usage: 46.0+ KB\n"
     ]
    }
   ],
   "source": [
    "# Ablation articles\n",
    "df_abl = df[df['ablation'] == True]\n",
    "# correct articles types\n",
    "df_abl = df_abl[df_abl['type'].isin(['journal-article', 'proceedings-article'])]\n",
    "# Articles after 1993\n",
    "df_abl = df_abl[df_abl['publication_date'] > '1993']\n",
    "# reindex\n",
    "df_abl.reset_index(drop=True, inplace=True)\n",
    "#non-ablation articles\n",
    "df_non_abl = df[df['ablation'] == False]\n",
    "df_abl.info()"
   ]
  },
  {
   "cell_type": "markdown",
   "metadata": {},
   "source": [
    "Get distribution of publications by year"
   ]
  },
  {
   "cell_type": "code",
   "execution_count": 149,
   "metadata": {},
   "outputs": [
    {
     "data": {
      "text/plain": [
       "<Axes: title={'center': 'Publications by Year'}, xlabel='Year', ylabel='Count'>"
      ]
     },
     "execution_count": 149,
     "metadata": {},
     "output_type": "execute_result"
    },
    {
     "data": {
      "image/png": "[encoded data removed]",
      "text/plain": [
       "<Figure size 640x480 with 1 Axes>"
      ]
     },
     "metadata": {},
     "output_type": "display_data"
    }
   ],
   "source": [
    "df_cleaned = df_abl.dropna(subset=['publication_date'])\n",
    "df_cleaned.groupby(df_cleaned['publication_date'].dt.year)['doi'].count().plot.bar(xlabel='Year', ylabel='Count', title='Publications by Year')"
   ]
  },
  {
   "cell_type": "markdown",
   "metadata": {},
   "source": [
    "Get statistics on publication types"
   ]
  },
  {
   "cell_type": "code",
   "execution_count": 150,
   "metadata": {},
   "outputs": [
    {
     "data": {
      "text/plain": [
       "<Axes: title={'center': 'Publications by Type'}, xlabel='Type', ylabel='Count'>"
      ]
     },
     "execution_count": 150,
     "metadata": {},
     "output_type": "execute_result"
    },
    {
     "data": {
      "image/png": "[encoded data removed]",
      "text/plain": [
       "<Figure size 640x480 with 1 Axes>"
      ]
     },
     "metadata": {},
     "output_type": "display_data"
    }
   ],
   "source": [
    "df_abl.groupby('type')['doi'].count().plot.bar(xlabel='Type', ylabel='Count', title='Publications by Type')"
   ]
  },
  {
   "cell_type": "markdown",
   "metadata": {},
   "source": [
    "Get basic statistic about words from title"
   ]
  },
  {
   "cell_type": "code",
   "execution_count": 151,
   "metadata": {},
   "outputs": [
    {
     "data": {
      "text/plain": [
       "array(['and', 'in', 'the', 'of', 'by', 'a', 'are', 'we', 'now', 's',\n",
       "       'jet', 'to', 'sci', '348', '22', '29', 'for', 'oil', nan, 'on',\n",
       "       'how', 'as', 'ph', 'use', 'bed', 'al', 'ion', 'via', 'air', 'wet',\n",
       "       'au', 'tio', 'sub', '2', 'gas', 'α', 'up', 'is', 'co2', 'x', 'ray',\n",
       "       'nir', 'an', '4', 'nm', 'zno', 'one', 'bio', 'at', 'cu', 'net',\n",
       "       'pre', '45', '3d', 'i', 'non', 'pt', 't', 'pem', 'fe', 'yvo', 'eu',\n",
       "       'sup', '3', 'g', 'h', 'co', 'no', 'may', 'low', '149', 'ag', 'new',\n",
       "       '5', 'fed', 'its', 'pd', 'red', 'dna', 'not', 'gfp', 'zn', 'o',\n",
       "       '164', 'nd', 'b', 'rat', '12', '0', '01', 'vol', 're', 'bcc', 'mg',\n",
       "       'iro', '10', 'ni', 'γ', 'β', 'y', 'all', 'two', 'pbf', 'lb', 'ito',\n",
       "       'uv', '11', 'ε', 'top', 'aβ', 'ods', 'oer'], dtype=object)"
      ]
     },
     "metadata": {},
     "output_type": "display_data"
    },
    {
     "data": {
      "text/plain": [
       "title\n",
       "laser            196\n",
       "nanoparticles    149\n",
       "ablation          85\n",
       "gold              64\n",
       "nanoparticle      62\n",
       "synthesis         43\n",
       "pulsed            41\n",
       "liquids           36\n",
       "generated         35\n",
       "during            33\n",
       "Name: count, dtype: int64"
      ]
     },
     "execution_count": 151,
     "metadata": {},
     "output_type": "execute_result"
    }
   ],
   "source": [
    "display((df_abl[df_abl['ablation']]['title'].map(lambda x: re.findall(r'\\b\\w{1,3}\\b', x)).explode().unique()))\n",
    "df_abl[df_abl['ablation']]['title'].map(lambda x: re.findall(r'\\b\\w{4,}\\b', x, flags=re.IGNORECASE)).explode().value_counts().head(10)"
   ]
  },
  {
   "cell_type": "markdown",
   "metadata": {},
   "source": [
    "Check how many articles have *nano* in their title and print those, which don't"
   ]
  },
  {
   "cell_type": "code",
   "execution_count": 152,
   "metadata": {},
   "outputs": [
    {
     "name": "stdout",
     "output_type": "stream",
     "text": [
      "Articles with nano: 240 out of 292\n"
     ]
    },
    {
     "data": {
      "application/vnd.microsoft.datawrangler.viewer.v0+json": {
       "columns": [
        {
         "name": "index",
         "rawType": "int64",
         "type": "integer"
        },
        {
         "name": "title",
         "rawType": "string",
         "type": "string"
        },
        {
         "name": "abstract",
         "rawType": "string",
         "type": "string"
        }
       ],
       "conversionMethod": "pd.DataFrame",
       "ref": "6d822e72-4e91-4953-a980-63b661207db9",
       "rows": [
        [
         "4",
         "quantification of mass-specific laser energy input converted into particle properties during picosecond pulsed laser fragmentation of zinc oxide and boron carbide in liquids",
         null
        ],
        [
         "8",
         "corrigendum to “quantification of mass-specific laser energy input converted into particle properties during picosecond pulsed laser fragmentation of zinc oxide and boron carbide in liquids” [appl. surf. sci. 348 (september) (2015) 22–29]",
         null
        ],
        [
         "17",
         "recent progress in laser materials processing and synthesis",
         null
        ],
        [
         "20",
         "laser synthesis and processing of colloids: fundamentals and applications",
         null
        ],
        [
         "22",
         "biocompatible gold submicrometer spheres with variable surface texture fabricated by pulsed laser melting in liquid",
         "this paper highlights a strategy on how totally ligand-free biocompatible gold submicrometer spheres (au-smss) can be synthesized by aggregating laser-fabricated nanoparticles (nps) with nacl followed by subsequent post-irradiation using pulsed lasers at a moderate fluence. interestingly, we observed significant changes in the surface structure of the smss, caused by the adsorption of smaller particles following a disaggregation–melting–redeposition–sintering-mechanism. here, utilization of low fluences yielded perfectly smooth textures while higher fluences lead to wrinkled textures. furthermore, we elucidate that prior to aggregation, the particle size distribution of the source aunps may significantly interfere with the surface texture of the resulting au-smss, indicated by predominant formation of rough surface structures in the presence of smaller source nps. these findings may highlight novel synthesis strategies for au-smss with rough surface textures, particularly beneficial for sers applications."
        ],
        [
         "23",
         "opportunities and challenges for laser synthesis of colloids",
         null
        ],
        [
         "31",
         "continuous-flow flat jet setup for uniform pulsed laser postprocessing of colloids",
         null
        ],
        [
         "41",
         "layered seed-growth of agge football-like microspheres via precursor-free picosecond laser synthesis in water",
         "hybrid particles are of great significance in terms of their adjustable optical, electronic, magnetic, thermal and mechanical properties. as a novel technique, laser ablation in liquids (lal) is famous for its precursor-free, “clean” synthesis of hybrid particles with various materials. till now, almost all the lal-generated particles originate from the nucleation-growth mechanism. seed-growth of particles similar to chemical methods seems difficult to be achieved by lal. here, we not only present novel patch-joint football-like agge microspheres with a diameter in the range of 1 ~ 7 μm achievable by laser ablation in distilled water but also find direct evidences of their layered seed growth mechanism. many critical factors contribute to the formation of agge microspheres: fast laser-generated plasma process provide an excellent condition for generating large amount of ge and ag ions/atoms, their initial nucleation and galvanic replacement reaction, while cavitation bubble confinement plays an important role for the increase of agge nuclei and subsequent layered growth in water after bubble collapse. driven by work function difference, ge acts as nucleation agent for silver during alloy formation. this new seed-growth mechanism for lal technique opens new opportunities to develop a large variety of novel hybrid materials with controllable properties."
        ],
        [
         "46",
         "how size determines the value of gold: economic aspects of wet chemical and laser‐based metal colloid synthesis",
         "gold is one of the most valuable materials, and its monetary value is enhanced by size reduction from bullions to colloidal nanoparticles by a factor of 450. wet‐chemical reduction with subsequent centrifugation and pulsed laser ablation in liquids are frequently used for pure colloidal gold synthesis. both methods provide similar physicochemical nanoparticle properties, but are very different synthesis techniques. however, the costs inherent to these methods are surprisingly seldom discussed. both methods have in common that the labor effort poses the majority of synthesis costs. besides an increase in batch size and mass concentration, especially an increase of the nanoparticle productivity via higher laser power and centrifugation capacity reduces synthesis costs if pilot‐ or industrial‐scale applications are intended. in this case, laser‐based synthesis is more economical if its productivity exceeds a break‐even value of 550 mg h−1, where the costs arising are limited by the metal costs. in contrast to industrial scale production, wet‐chemical synthesis is more feasible for laboratory‐scale applications, especially if the advantageous nanoparticle properties provided by laser ablation in liquids are not needed."
        ],
        [
         "49",
         "laser ablation in liquids: fundamentals and applications (conference presentation)",
         null
        ],
        [
         "50",
         "the multivariate interaction between au and tio<sub>2</sub> colloids: the role of surface potential, concentration, and defects",
         "the interaction between a au particle and a defective tio2 surface was simulated over 6000 unique conditions, and the relative importance of the parameters was determined by logistic regression."
        ],
        [
         "59",
         "discrimination of effects leading to gas formation during pulsed laser ablation in liquids",
         null
        ],
        [
         "60",
         "materials synthesis in a bubble",
         null
        ],
        [
         "62",
         "discrimination of ablation, shielding, and interface layer effects on the steady-state formation of persistent bubbles under liquid flow conditions during laser synthesis of colloids",
         "over the past decade, laser ablation in liquids (lal) was established as an innovative nanoparticle synthesis method obeying the principles of green chemistry. while one of the main advantages of this method is the absence of stabilizers leading to nanoparticles with “clean” ligand-free surfaces, its main disadvantage is the comparably low nanoparticle production efficiency dampening the sustainability of the method and preventing the use of laser-synthesized nanoparticles in applications that require high amounts of material. in this study, the effects of productivity-dampening entities that become particularly relevant for lal with high repetition rate lasers, i.e., persistent bubbles or colloidal nanoparticles (nps), on the synthesis of colloidal gold nanoparticles in different solvents are studied. especially under batch ablation conditions in highly viscous liquids with prolonged ablation times both shielding entities are closely interconnected and need to be disentangled. by performing liquid flow-assisted nanosecond laser ablation of gold in liquids with different viscosity and nanoparticle or bubble diffusivity, it is shown that a steady-state is reached after a few seconds with fixed individual contributions of bubble- and colloid-induced shielding effects. by analyzing dimensionless numbers (i.e., axial peclet, reynolds, and schmidt) it is demonstrated how these shielding effects strongly depend on the liquid’s transport properties and the flow-induced formation of an interface layer along the target surface. in highly viscous liquids, the transport of nps and persistent bubbles within this interface layer is strongly diffusion-controlled. this diffusion-limitation not only affects the agglomeration of the nps but also leads to high local densities of nps and bubbles near the target surface, shielding up to 80% of the laser power. hence, the ablation rate does not only depend on the total amount of shielding matter in the flow channel, but also on the location of the persistent bubbles and nps. by comparing lal in different liquids, it is demonstrated that 30 times more gas is produced per ablated amount of substance in acetone and ethylene glycol compared to ablation in water. this finding confirms that chemical effects contribute to the liquid’s decomposition and the ablation yield as well. furthermore, it is shown that the highest ablation efficiencies and monodisperse qualities are achieved in liquids with the lowest viscosities and gas formation rates at the highest volumetric flow rates."
        ],
        [
         "67",
         "pulsed laser ablation of zinc in tetrahydrofuran: bypassing the cavitation bubble",
         null
        ],
        [
         "72",
         "germanium sub-microspheres synthesized by picosecond pulsed laser melting in liquids: educt size effects",
         "pulsed laser melting in liquid (plml) has emerged as a facile approach to synthesize submicron spheres (smss) for various applications. typically lasers with long pulse durations in the nanosecond regime are used. however, recent findings show that during melting the energy absorbed by the particle will be dissipated promptly after laser-matter interaction following the temperature decrease within tens of nanoseconds and hence limiting the efficiency of longer pulse widths. here, the feasibility to utilize a picosecond laser to synthesize ge smss (200~1000 nm in diameter) is demonstrated by irradiating polydisperse ge powders in water and isopropanol. through analyzing the educt size dependent smss formation mechanism, we find that ge powders (200~1000 nm) are directly transformed into smss during plml via reshaping, while comparatively larger powders (1000~2000 nm) are split into daughter smss via liquid droplet bisection. furthermore, the contribution of powders larger than 2000 nm and smaller than 200 nm to form smss is discussed. this work shows that compared to nanosecond lasers, picosecond lasers are also suitable to produce smss if the pulse duration is longer than the material electron-phonon coupling period to allow thermal relaxation."
        ],
        [
         "81",
         "in-situ bioconjugation in stationary media and in liquid flow by femtosecond laser ablation",
         null
        ],
        [
         "85",
         "debris-free rear-side picosecond laser ablation of thin germanium wafers in water with ethanol",
         null
        ],
        [
         "86",
         "evaluation of essential powder properties through complementary particle size analysis methods for laser powder bed fusion of polymers",
         null
        ],
        [
         "101",
         "influence of beam intensity profile on the aerodynamic particle size distributions generated by femtosecond laser ablation",
         "the dependence of nanoparticle size distributions on laser intensity profile was determined during infrared femtosecond laser ablation of silver targets in air. laser parameters were adjusted to ablate at the same peak fluence with spatially homogeneous (flat-top) and inhomogeneous (gaussian) intensity distributions formed by diffractive optical elements. aerodynamic particle size was measured online by an electric low-pressure cascade impactor. narrower size distributions were detected for the flat-top intensity profile in the fluence range from 0.6 to 4.4 j/cm2, while the gaussian beam produced broad and bimodal distributions. the aerodynamic number frequency of the primary nanoparticulate fraction (40 nm) was equal to the number frequency of the submicron agglomerate fraction (200 nm) at laser fluence of 1 j/cm2. the feret diameter of primary particles was 80 nm. geometrical interpretation of the irradiated spots at the corresponding laser fluence regimes explains the formation of bimodal (submicron and nanoparticulate) size distribution in the case of gaussian beams. the bimodality is attributed to different thermalization pathways during laser ablation."
        ],
        [
         "107",
         "dynamics of laser-induced cavitation bubbles at a solid–liquid interface in high viscosity and high capillary number regimes",
         "no unified model is available yet to explain the dynamics of laser-induced cavitation bubbles during laser ablation of solid targets in liquids, when an extremely high capillary number is achieved (&amp;gt;100), i.e., when the viscous forces strongly contribute to the friction. by investigating laser-induced bubbles on gold and yttrium-iron-garnet targets as a function of the liquid viscosity, using a nanosecond laser and an ultrafast shadowgraph imaging setup, we give a deeper insight into what determines the bubble dynamics. we find that the competition between the viscous forces and the surface tension (capillary number ca), on the one hand, and the competition between the viscous forces and inertia (reynolds number re), on the other hand, are both key factors. increasing the viscous forces, and hereby ca up to 100 has an impact on the bubble shape and results in a very pronounced rim, which separates the bubble in a spherical cap driven by inertia and an interlayer. the temporal evolution of the footprint radius of the interlayer can be addressed in the framework of the inertiocapillary regime. for an intermediate viscosity, the thickness of the interlayer is consistent with a boundary layer equation. interestingly, our data cannot be interpreted with simplified hydrodynamic (cox–voinov) or molecular-kinetic theory models, highlighting the originality of the dynamics reported when extremely high capillary numbers are achieved. upon bubble collapse, spherical persistent microbubbles are created and partly dispersed in water, whereas the high-viscous polyalphaolefines lead to long-standing oblate persistent bubbles sticking to the target’s surface, independent of the ablated target. overall, liquid’s viscosity determines laser ablation-induced cavitation."
        ],
        [
         "108",
         "role of dissolved and molecular oxygen on cu and ptcu alloy particle structure during laser ablation synthesis in liquids",
         "the role of molecular oxygen dissolved in the solvent is often discussed as being an influential factor on particle oxidation during pulsed laser ablation in liquids. however, the formation of the particles during laser synthesis takes place under extreme conditions that enable the decomposition of the liquid medium. reactive species of the solvent may then affect particle formation due to a chemical reaction in the reactive plasma. experimental results show a difference between the role of dissolved molecular oxygen and the contribution from the oxygen in water molecules. using a metallic cu target in air‐saturated water, laser ablation led to 20.5 wt % cu, 11.5 wt % cu2o, and 68 wt % cuo nanoparticles, according to x‐ray diffraction results. in contrast to particles obtained in air‐saturated water, no cuo was observed in the colloid synthesized in a schlenk ablation chamber in completely oxygen‐free water. under these conditions, less‐oxidized nanoparticles (25 wt % cu and 75 wt % cu2o) were synthesized. the results show that nanoparticle oxidation during laser synthesis is mainly caused by reactive oxygen species from the decomposition of water molecules. however, the addition of molecular oxygen promotes particle oxidation. storage of the cu colloid in the presence of dissolved oxygen leads, due to aging, to nanostructures with a higher oxidation state than the freshly prepared colloid. the xrd pattern of the sample prepared in air‐saturated acetone showed no crystalline phases, which is possibly due to small crystallites or low particle concentration. concentration of the particles by centrifugation showed that in the large fraction (&gt;20 nm), even less oxidized nanoparticles (46 wt % cu and 54 wt % cu2o) were present, although the solubility of molecular oxygen is higher in acetone than in water. the nanoparticles in acetone were stable due to a cu‐catalyzed graphite layer formed on their surfaces. the influence of the solvent on alloy synthesis is also crucial. laser ablation of ptcu3 in air‐saturated water led to separated large cuo and pt‐rich spherical nanoparticles, whereas homogeneous ptcu3 alloy nanoparticles were formed in acetone."
        ],
        [
         "113",
         "incubation effect of pre‐irradiation on bubble formation and ablation in laser ablation in liquids",
         "pulsed laser ablation in liquids (plal) is a multi‐scale process, which is widely studied either in batch ablation with prolonged target irradiation as well as mechanistic investigations, in a defined (single‐shot) process. however, fundamental studies on defined pulse series are rare. we have investigated the effect of a developing rough morphology of the target surface on the plal process with nanosecond pulses and, partially, picosecond pulses. at low fluence the cavitation bubble growth as well as the ablation yield depend on the irradiation history of the target. the bubble size increases with repeated irradiation on one spot for the first 2–30 pulses as well as with the applied dose. this is discussed within the framework of incubation effects. incubation is found to be important, resulting in a bubble volume increase by a factor of six or more between pristine and corrugated targets. the target surface, changing from smooth to corrugated, induces a more efficient localization of laser energy at the solid‐liquid interface. this is accompanied by a suppressed reflectivity and more efficient coupling of energy into the laser‐induced plasma. thus, the cavitation bubble size increases as well as ablation being enhanced. at high fluence, such incubation is masked by the rapid development of surface damage within the first shots, which eventually would lead to a reduction of bubble sizes."
        ],
        [
         "123",
         "comparison of ultrashort pulse ablation of gold in air and water by time-resolved experiments",
         "laser ablation in liquids is a highly interdisciplinary method at the intersection of physics and chemistry that offers the unique opportunity to generate surfactant-free and stable nanoparticles from virtually any material. over the last decades, numerous experimental and computational studies aimed to reveal the transient processes governing laser ablation in liquids. most experimental studies investigated the involved processes on timescales ranging from nanoseconds to microseconds. however, the ablation dynamics occurring on a sub-nanosecond timescale are of fundamental importance, as the conditions under which nanoparticles are generated are established within this timeframe. furthermore, experimental investigations of the early timescales are required to test computational predictions. we visualize the complete spatiotemporal picosecond laser-induced ablation dynamics of gold immersed in air and water using ultrafast pump-probe microscopy. transient reflectivity measurements reveal that the water confinement layer significantly influences the ablation dynamics on the entire investigated timescale from picoseconds to microseconds. the influence of the water confinement layer includes the electron injection and subsequent formation of a dense plasma on a picosecond timescale, the confinement of ablation products within hundreds of picoseconds, and the generation of a cavitation bubble on a nanosecond timescale. moreover, we are able to locate the temporal appearance of secondary nanoparticles at about 600 ps after pulse impact. the results support computational predictions and provide valuable insight into the early-stage ablation dynamics governing laser ablation in liquids."
        ],
        [
         "126",
         "comparison of the productivity and ablation efficiency of different laser classes for laser ablation of gold in water and air",
         null
        ],
        [
         "133",
         "efficient synthesis of submicrometer‐sized active pharmaceuticals by laser fragmentation in a liquid‐jet passage reactor with minimum degradation",
         "one challenge in the development of new drug formulations is overcoming their low solubility in relevant aqueous media. reducing the particle size of drug powders to a few hundred nanometers is a well‐known method that leads to an increase in solubility due to an elevated total surface area. however, state‐of‐the‐art comminution techniques like cryo‐milling suffer from degradation and contamination of the drugs, particularly when sub‐micrometer diameters are aspired that require long processing times. in this work, picosecond‐pulsed laser fragmentation in liquids (lfl) of dispersed drug particles in a liquid‐jet passage reactor is used as a wear‐free comminution technique using the hydrophobic oral model drugs naproxen, prednisolone, ketoconazole, and megestrol acetate. particle size and morphology of the drug particles are characterized using scanning electron microscopy (sem) and changes in particle size distributions upon irradiation are quantified using an analytical centrifuge. the findings highlight the superior fragmentation efficiency of the liquid‐jet passage reactor setup, with a 100 times higher fraction of submicrometer particles (smp) of the drugs compared to the batch control, which enhances solubility and goes along with minimal chemical degradation (&lt;1%), determined by attenuated total reflection‐fourier transform infrared spectroscopy (atr‐ftir), high‐performance liquid chromatography (hplc), and x‐ray diffraction (xrd). moreover, the underlying predominantly photo‐mechanically induced laser fragmentation mechanisms of organic microparticles (mp) are discussed."
        ],
        [
         "134",
         "pulsed laser ablation of wire-shaped target in a thin water jet: effects of plasma features and bubble dynamics on the plal process",
         null
        ],
        [
         "136",
         "on the mechanism and productivity of single-pulse laser fragmentation of organic curcumin dispersions in a continuous flat jet flow-through reactor",
         null
        ],
        [
         "139",
         "tribological properties of laser-generated hard ceramic particles in a gear drive contact",
         null
        ],
        [
         "141",
         "first on-line analysis of petroleum from single inclusion using ultrafast laser ablation",
         null
        ],
        [
         "145",
         "the effect of downstream laser fragmentation on the specific surface area and photoelectrochemical performance of barium tantalum oxynitride",
         null
        ],
        [
         "149",
         "size quenching during laser synthesis of colloids happens already in the vapor phase of the cavitation bubble",
         null
        ],
        [
         "159",
         "continuous and scalable laser synthesis of atom clusters with tunable surface oxidation for electrocatalytic water splitting",
         null
        ],
        [
         "163",
         "development of a low-cost fpga-based measurement system for real-time processing of acoustic emission data: proof of concept using control of pulsed laser ablation in liquids",
         "today, the demand for continuous monitoring of valuable or safety critical equipment is increasing in many industrial applications due to safety and economical requirements. therefore, reliable in-situ measurement techniques are required for instance in structural health monitoring (shm) as well as process monitoring and control. here, current challenges are related to the processing of sensor data with a high data rate and low latency. in particular, measurement and analyses of acoustic emission (ae) are widely used for passive, in-situ inspection. advantages of ae are related to its sensitivity to different micro-mechanical mechanisms on the material level. however, online processing of ae waveforms is computationally demanding. the related equipment is typically bulky, expensive, and not well suited for permanent installation. the contribution of this paper is the development of a field programmable gate array (fpga)-based measurement system using zedboard devlopment kit with zynq-7000 system on chip for embedded implementation of suitable online processing algorithms. this platform comprises a dual-core advanced reduced instruction set computer machine (arm) architecture running a linux operating system and fpga fabric. a fpga-based hardware implementation of the discrete wavelet transform is realized to accelerate processing the ae measurements. key features of the system are low cost, small form factor, and low energy consumption, which makes it suitable to serve as field-deployed measurement and control device. for verification of the functionality, a novel automatically realized adjustment of the working distance during pulsed laser ablation in liquids is established as an example. a sample rate of 5 mhz is achieved at 16 bit resolution."
        ],
        [
         "170",
         "spontaneous shape alteration and size separation of surfactant-free silver particles synthesized by laser ablation in acetone during long-period storage",
         "the technique of laser ablation in liquids (lal) has already demonstrated its flexibility and capability for the synthesis of a large variety of surfactant-free nanomaterials with a high purity. however, high purity can cause trouble for nanomaterial synthesis, because active high-purity particles can spontaneously grow into different nanocrystals, which makes it difficult to accurately tailor the size and shape of the synthesized nanomaterials. therefore, a series of questions arise with regards to whether particle growth occurs during colloid storage, how large the particle size increases to, and into which shape the particles evolve. to obtain answers to these questions, here, ag particles that are synthesized by femtosecond (fs) laser ablation of ag in acetone are used as precursors to witness the spontaneous growth behavior of the lal-generated surfactant-free ag dots (2–10 nm) into different polygonal particles (5–50 nm), and the spontaneous size separation phenomenon by the carbon-encapsulation induced precipitation of large particles, after six months of colloid storage. the colloids obtained by lal at a higher power (600 mw) possess a greater ability and higher efficiency to yield colloids with sizes of &lt;40 nm than the colloids obtained at lower power (300 mw), because of the generation of a larger amount of carbon ‘captors’ by the decomposition of acetone and the stronger particle fragmentation. both the size increase and the shape alteration lead to a redshift of the surface plasmon resonance (spr) band of the ag colloid from 404 nm to 414 nm, after storage. the fourier transform infrared spectroscopy (ftir) analysis shows that the ag particles are conjugated with coo– and oh– groups, both of which may lead to the growth of polygonal particles. the co and co2 molecules are adsorbed on the particle surfaces to form ag(co)x and ag(co2)x complexes. complementary nanosecond lal experiments confirmed that the particle growth was inherent to lal in acetone, and independent of pulse duration, although some differences in the final particle sizes were observed. the nanosecond-lal yields monomodal colloids, whereas the size-separated, initially bimodal colloids from the fs-lal provide a higher fraction of very small particles that are &lt;5 nm. the spontaneous growth of the lal-generated metallic particles presented in this work should arouse the special attention of academia, especially regarding the detailed discussion on how long the colloids can be preserved for particle characterization and applications, without causing a mismatch between the colloid properties and their performance. the spontaneous size separation phenomenon may help researchers to realize a more reproducible synthesis for small metallic colloids, without concern for the generation of large particles."
        ],
        [
         "174",
         "the effect of the au loading on the liquid-phase aerobic oxidation of ethanol over au/tio2 catalysts prepared by pulsed laser ablation",
         null
        ],
        [
         "176",
         "fluence threshold behaviour on ablation and bubble formation in pulsed laser ablation in liquids",
         "the ablation yield and bubble‐formation process during nanosecond pulsed‐laser ablation of silver in water are analysed by stroboscopic videography, time‐resolved x‐ray radiography and in situ uv/vis spectroscopy. this process is studied as function of lens–target distance and laser fluence. both the ablation yield and the bubble‐cavitation process exhibit threshold behaviour as a function of fluence, which is linked to the efficiency of coupling of energy at the water/target interface. although ablation happens below this threshold, quantitative material emission is linked to bubble formation. above the threshold, both bubble size and ablation show linear behaviour."
        ],
        [
         "181",
         "acoustic emission control avoids fluence shifts caused by target runaway during laser synthesis of colloids",
         null
        ],
        [
         "203",
         "effect of various dispersing agents on the stability of silver microparticle dispersion and the formulation of uniform silver film by laser melting",
         "we report on the substitution of silver nanoparticles' inks by silver microparticle dispersions as a material for the production of printable silver tracks by laser melting. this approach is promising, because it helps to reduce the production costs of such silver tracks. though silver dispersions used as materials for laser melting mostly contain polyvinylpyrrolidone as a stabilizer, which results in the appearance of an undesired balling effect of silver during laser melting, the authors test stabilizers differing in molecular weight and functionality. the resulting differences in colloidal and physicochemical properties are investigated and related to the final silver layer quality."
        ],
        [
         "205",
         "x-ray spectroscopic and stroboscopic analysis of pulsed-laser ablation of zn and its oxidation",
         null
        ],
        [
         "226",
         "alumina‐protected, durable and photostable zinc sulfide particles from scalable atomic layer deposition",
         "zinc sulfide has unique and easily modifiable photophysical properties and is a promising candidate for photocatalysis and optoelectronic devices. however, zns suffers from corrosive decomposition during excitation processes like uv irradiation, which drastically limits its field of potential applications. for the first time, complete photostabilization of individual zns particles by a dense, durable, and only 3‐nm‐thick al2o3 layer, produced by rotary atomic layer deposition (ald) is reported. in contrast to bare zns, the coated particles do not suffer from photocorrosive degradation even under long‐term or high power uv irradiation. the presence of a protection layer covering the entire zns surface is additionally confirmed by microscopic and spectroscopic investigations of particle cross‐sections. further, complete inhibition of the reaction between ag+ ions added as the analyte and the zns surface is observed. durability tests of the as‐prepared al2o3 layer upon prolonged exposure to water reveal a significant decrease in the protection capability of the layer, which is ascribed to the hydrolysis of the amorphous al2o3. a calcination step at 1000 °c after the ald treatment, which leads to crystallization of the amorphous al2o3 layer, successfully suppresses this hydrolysis and produces an insulating, dense, and inert protection layer."
        ],
        [
         "231",
         "synthesis of hybrid microgels by coupling of laser ablation and polymerization in aqueous medium",
         "loading microgels with bioactive nanoparticles (nps) often requires multiple synthesis and purification steps, and organic solvents or precursors that are difficult to remove from the gel. hence, a fast and aqueous synthesis procedure would facilitate the synthesis of inorganic–organic hybrid microgels. two microgel compounds were hybridized with laser-generated zinc oxide (zno) nps prepared in a single-step procedure. zno nps were formed by laser ablation in liquid, while the polymer microgels were synthesized in-situ inside the ablation chamber. further, the authors report the preparation of two different microgel systems. the first one was produced without the use of chemical initiator forming hydrogels with zno nps and diffuse morpholgy. typical microgel colloids were also synthesized via a conventional chemical method in a preheated reaction chamber. the existence of microgel colloids partially loaded with zno nps was confirmed in a transmission electron microscopy investigation. fourier transform infrared spectroscopic measurements and dynamic light scattering verify the formation of polymer colloids. these initial results indicate the application potential of laser ablation in microgel precursor solution for the fabrication of polymeric carriers for inorganic nanoparticles. preliminary biological tests using zinc chloride demonstrated negative dose effects on primary cell culture with zinc concentrations above 200 μm but no noticeable influence at 100 μm."
        ],
        [
         "239",
         "bioconjugated silicon quantum dots from one-step green synthesis",
         null
        ],
        [
         "243",
         "pulsed laser ablation in liquids: impact of the bubble dynamics on particle formation",
         null
        ],
        [
         "245",
         "impact of preparation method and hydrothermal aging on particle size distribution of pt/γ-al<sub>2</sub>o<sub>3</sub> and its performance in co and no oxidation",
         null
        ],
        [
         "250",
         "impact of single-pulse, low-intensity laser post-processing on structure and activity of mesostructured cobalt oxide for the oxygen evolution reaction",
         null
        ],
        [
         "253",
         "chemical reaction pathways during laser fragmentation of metallic microparticles in organic solvents",
         null
        ],
        [
         "259",
         "gradual modification of ito particle's crystal structure and optical properties by pulsed uv laser irradiation in a free liquid jet",
         "engineering of ito particle properties by laser irradiation."
        ],
        [
         "266",
         "<i>in situ</i> speciation and spatial mapping of zn products during pulsed laser ablation in liquids (plal) by combined synchrotron methods",
         "material ejection in pulsed laser ablation in liquids is analysed by x-ray in situ methods to resolve particle formation and oxidation."
        ],
        [
         "270",
         "ultrafast cold-brewing of coffee by picosecond-pulsed laser extraction",
         "coffee is typically brewed by extracting roasted and milled beans with hot water, but alternative methods such as cold brewing became increasingly popular over the past years. cold-brewed coffee is attributed to health benefits, fewer acids, and bitter substances. but the preparation of cold brew typically needs several hours or even days. to create a cold-brew coffee within a few minutes, we present an approach in which an ultrashort-pulsed laser system is applied at the brewing entity without heating the powder suspension in water, efficiently extracting caffeine and aromatic substances from the powder. already 3 min irradiation at room temperature leads to a caffeine concentration of 25 mg caffeine per 100 ml, comparable to the concentrations achieved by traditional hot brewing methods but comes without heating the suspension. furthermore, the liquid phase’s alkaloid content, analyzed by reversed-phase liquid chromatography coupled to high-resolution mass spectrometry, is dominated by caffeine and trigonelline and is comparable to traditional cold-brewed coffee rather than hot-brewed coffee. furthermore, analyzing the head-space of the prepared coffee variants, using in-tube extraction dynamic head-space followed by gas chromatography coupled to mass spectrometry, gives evidence that the lack of heating leads to the preservation of more (semi-)volatile substances like pyridine, which provide cold-brew coffee its unique taste. this pioneering study may give the impetus to investigate further the possibility of cold-brewing coffee, accelerated by more than one order of magnitude, using ultrafast laser systems."
        ]
       ],
       "shape": {
        "columns": 2,
        "rows": 52
       }
      },
      "text/html": [
       "<div>\n",
       "<style scoped>\n",
       "    .dataframe tbody tr th:only-of-type {\n",
       "        vertical-align: middle;\n",
       "    }\n",
       "\n",
       "    .dataframe tbody tr th {\n",
       "        vertical-align: top;\n",
       "    }\n",
       "\n",
       "    .dataframe thead th {\n",
       "        text-align: right;\n",
       "    }\n",
       "</style>\n",
       "<table border=\"1\" class=\"dataframe\">\n",
       "  <thead>\n",
       "    <tr style=\"text-align: right;\">\n",
       "      <th></th>\n",
       "      <th>title</th>\n",
       "      <th>abstract</th>\n",
       "    </tr>\n",
       "  </thead>\n",
       "  <tbody>\n",
       "    <tr>\n",
       "      <th>4</th>\n",
       "      <td>quantification of mass-specific laser energy i...</td>\n",
       "      <td>&lt;NA&gt;</td>\n",
       "    </tr>\n",
       "    <tr>\n",
       "      <th>8</th>\n",
       "      <td>corrigendum to “quantification of mass-specifi...</td>\n",
       "      <td>&lt;NA&gt;</td>\n",
       "    </tr>\n",
       "    <tr>\n",
       "      <th>17</th>\n",
       "      <td>recent progress in laser materials processing ...</td>\n",
       "      <td>&lt;NA&gt;</td>\n",
       "    </tr>\n",
       "    <tr>\n",
       "      <th>20</th>\n",
       "      <td>laser synthesis and processing of colloids: fu...</td>\n",
       "      <td>&lt;NA&gt;</td>\n",
       "    </tr>\n",
       "    <tr>\n",
       "      <th>22</th>\n",
       "      <td>biocompatible gold submicrometer spheres with ...</td>\n",
       "      <td>this paper highlights a strategy on how totall...</td>\n",
       "    </tr>\n",
       "    <tr>\n",
       "      <th>23</th>\n",
       "      <td>opportunities and challenges for laser synthes...</td>\n",
       "      <td>&lt;NA&gt;</td>\n",
       "    </tr>\n",
       "    <tr>\n",
       "      <th>31</th>\n",
       "      <td>continuous-flow flat jet setup for uniform pul...</td>\n",
       "      <td>&lt;NA&gt;</td>\n",
       "    </tr>\n",
       "    <tr>\n",
       "      <th>41</th>\n",
       "      <td>layered seed-growth of agge football-like micr...</td>\n",
       "      <td>hybrid particles are of great significance in ...</td>\n",
       "    </tr>\n",
       "    <tr>\n",
       "      <th>46</th>\n",
       "      <td>how size determines the value of gold: economi...</td>\n",
       "      <td>gold is one of the most valuable materials, an...</td>\n",
       "    </tr>\n",
       "    <tr>\n",
       "      <th>49</th>\n",
       "      <td>laser ablation in liquids: fundamentals and ap...</td>\n",
       "      <td>&lt;NA&gt;</td>\n",
       "    </tr>\n",
       "    <tr>\n",
       "      <th>50</th>\n",
       "      <td>the multivariate interaction between au and ti...</td>\n",
       "      <td>the interaction between a au particle and a de...</td>\n",
       "    </tr>\n",
       "    <tr>\n",
       "      <th>59</th>\n",
       "      <td>discrimination of effects leading to gas forma...</td>\n",
       "      <td>&lt;NA&gt;</td>\n",
       "    </tr>\n",
       "    <tr>\n",
       "      <th>60</th>\n",
       "      <td>materials synthesis in a bubble</td>\n",
       "      <td>&lt;NA&gt;</td>\n",
       "    </tr>\n",
       "    <tr>\n",
       "      <th>62</th>\n",
       "      <td>discrimination of ablation, shielding, and int...</td>\n",
       "      <td>over the past decade, laser ablation in liquid...</td>\n",
       "    </tr>\n",
       "    <tr>\n",
       "      <th>67</th>\n",
       "      <td>pulsed laser ablation of zinc in tetrahydrofur...</td>\n",
       "      <td>&lt;NA&gt;</td>\n",
       "    </tr>\n",
       "    <tr>\n",
       "      <th>72</th>\n",
       "      <td>germanium sub-microspheres synthesized by pico...</td>\n",
       "      <td>pulsed laser melting in liquid (plml) has emer...</td>\n",
       "    </tr>\n",
       "    <tr>\n",
       "      <th>81</th>\n",
       "      <td>in-situ bioconjugation in stationary media and...</td>\n",
       "      <td>&lt;NA&gt;</td>\n",
       "    </tr>\n",
       "    <tr>\n",
       "      <th>85</th>\n",
       "      <td>debris-free rear-side picosecond laser ablatio...</td>\n",
       "      <td>&lt;NA&gt;</td>\n",
       "    </tr>\n",
       "    <tr>\n",
       "      <th>86</th>\n",
       "      <td>evaluation of essential powder properties thro...</td>\n",
       "      <td>&lt;NA&gt;</td>\n",
       "    </tr>\n",
       "    <tr>\n",
       "      <th>101</th>\n",
       "      <td>influence of beam intensity profile on the aer...</td>\n",
       "      <td>the dependence of nanoparticle size distributi...</td>\n",
       "    </tr>\n",
       "    <tr>\n",
       "      <th>107</th>\n",
       "      <td>dynamics of laser-induced cavitation bubbles a...</td>\n",
       "      <td>no unified model is available yet to explain t...</td>\n",
       "    </tr>\n",
       "    <tr>\n",
       "      <th>108</th>\n",
       "      <td>role of dissolved and molecular oxygen on cu a...</td>\n",
       "      <td>the role of molecular oxygen dissolved in the ...</td>\n",
       "    </tr>\n",
       "    <tr>\n",
       "      <th>113</th>\n",
       "      <td>incubation effect of pre‐irradiation on bubble...</td>\n",
       "      <td>pulsed laser ablation in liquids (plal) is a m...</td>\n",
       "    </tr>\n",
       "    <tr>\n",
       "      <th>123</th>\n",
       "      <td>comparison of ultrashort pulse ablation of gol...</td>\n",
       "      <td>laser ablation in liquids is a highly interdis...</td>\n",
       "    </tr>\n",
       "    <tr>\n",
       "      <th>126</th>\n",
       "      <td>comparison of the productivity and ablation ef...</td>\n",
       "      <td>&lt;NA&gt;</td>\n",
       "    </tr>\n",
       "    <tr>\n",
       "      <th>133</th>\n",
       "      <td>efficient synthesis of submicrometer‐sized act...</td>\n",
       "      <td>one challenge in the development of new drug f...</td>\n",
       "    </tr>\n",
       "    <tr>\n",
       "      <th>134</th>\n",
       "      <td>pulsed laser ablation of wire-shaped target in...</td>\n",
       "      <td>&lt;NA&gt;</td>\n",
       "    </tr>\n",
       "    <tr>\n",
       "      <th>136</th>\n",
       "      <td>on the mechanism and productivity of single-pu...</td>\n",
       "      <td>&lt;NA&gt;</td>\n",
       "    </tr>\n",
       "    <tr>\n",
       "      <th>139</th>\n",
       "      <td>tribological properties of laser-generated har...</td>\n",
       "      <td>&lt;NA&gt;</td>\n",
       "    </tr>\n",
       "    <tr>\n",
       "      <th>141</th>\n",
       "      <td>first on-line analysis of petroleum from singl...</td>\n",
       "      <td>&lt;NA&gt;</td>\n",
       "    </tr>\n",
       "    <tr>\n",
       "      <th>145</th>\n",
       "      <td>the effect of downstream laser fragmentation o...</td>\n",
       "      <td>&lt;NA&gt;</td>\n",
       "    </tr>\n",
       "    <tr>\n",
       "      <th>149</th>\n",
       "      <td>size quenching during laser synthesis of collo...</td>\n",
       "      <td>&lt;NA&gt;</td>\n",
       "    </tr>\n",
       "    <tr>\n",
       "      <th>159</th>\n",
       "      <td>continuous and scalable laser synthesis of ato...</td>\n",
       "      <td>&lt;NA&gt;</td>\n",
       "    </tr>\n",
       "    <tr>\n",
       "      <th>163</th>\n",
       "      <td>development of a low-cost fpga-based measureme...</td>\n",
       "      <td>today, the demand for continuous monitoring of...</td>\n",
       "    </tr>\n",
       "    <tr>\n",
       "      <th>170</th>\n",
       "      <td>spontaneous shape alteration and size separati...</td>\n",
       "      <td>the technique of laser ablation in liquids (la...</td>\n",
       "    </tr>\n",
       "    <tr>\n",
       "      <th>174</th>\n",
       "      <td>the effect of the au loading on the liquid-pha...</td>\n",
       "      <td>&lt;NA&gt;</td>\n",
       "    </tr>\n",
       "    <tr>\n",
       "      <th>176</th>\n",
       "      <td>fluence threshold behaviour on ablation and bu...</td>\n",
       "      <td>the ablation yield and bubble‐formation proces...</td>\n",
       "    </tr>\n",
       "    <tr>\n",
       "      <th>181</th>\n",
       "      <td>acoustic emission control avoids fluence shift...</td>\n",
       "      <td>&lt;NA&gt;</td>\n",
       "    </tr>\n",
       "    <tr>\n",
       "      <th>203</th>\n",
       "      <td>effect of various dispersing agents on the sta...</td>\n",
       "      <td>we report on the substitution of silver nanopa...</td>\n",
       "    </tr>\n",
       "    <tr>\n",
       "      <th>205</th>\n",
       "      <td>x-ray spectroscopic and stroboscopic analysis ...</td>\n",
       "      <td>&lt;NA&gt;</td>\n",
       "    </tr>\n",
       "    <tr>\n",
       "      <th>226</th>\n",
       "      <td>alumina‐protected, durable and photostable zin...</td>\n",
       "      <td>zinc sulfide has unique and easily modifiable ...</td>\n",
       "    </tr>\n",
       "    <tr>\n",
       "      <th>231</th>\n",
       "      <td>synthesis of hybrid microgels by coupling of l...</td>\n",
       "      <td>loading microgels with bioactive nanoparticles...</td>\n",
       "    </tr>\n",
       "    <tr>\n",
       "      <th>239</th>\n",
       "      <td>bioconjugated silicon quantum dots from one-st...</td>\n",
       "      <td>&lt;NA&gt;</td>\n",
       "    </tr>\n",
       "    <tr>\n",
       "      <th>243</th>\n",
       "      <td>pulsed laser ablation in liquids: impact of th...</td>\n",
       "      <td>&lt;NA&gt;</td>\n",
       "    </tr>\n",
       "    <tr>\n",
       "      <th>245</th>\n",
       "      <td>impact of preparation method and hydrothermal ...</td>\n",
       "      <td>&lt;NA&gt;</td>\n",
       "    </tr>\n",
       "    <tr>\n",
       "      <th>250</th>\n",
       "      <td>impact of single-pulse, low-intensity laser po...</td>\n",
       "      <td>&lt;NA&gt;</td>\n",
       "    </tr>\n",
       "    <tr>\n",
       "      <th>253</th>\n",
       "      <td>chemical reaction pathways during laser fragme...</td>\n",
       "      <td>&lt;NA&gt;</td>\n",
       "    </tr>\n",
       "    <tr>\n",
       "      <th>259</th>\n",
       "      <td>gradual modification of ito particle's crystal...</td>\n",
       "      <td>engineering of ito particle properties by lase...</td>\n",
       "    </tr>\n",
       "    <tr>\n",
       "      <th>266</th>\n",
       "      <td>&lt;i&gt;in situ&lt;/i&gt; speciation and spatial mapping ...</td>\n",
       "      <td>material ejection in pulsed laser ablation in ...</td>\n",
       "    </tr>\n",
       "    <tr>\n",
       "      <th>270</th>\n",
       "      <td>ultrafast cold-brewing of coffee by picosecond...</td>\n",
       "      <td>coffee is typically brewed by extracting roast...</td>\n",
       "    </tr>\n",
       "    <tr>\n",
       "      <th>272</th>\n",
       "      <td>origin of laser-induced colloidal gold surface...</td>\n",
       "      <td>&lt;NA&gt;</td>\n",
       "    </tr>\n",
       "    <tr>\n",
       "      <th>283</th>\n",
       "      <td>golden plasmophores with tunable photoluminesc...</td>\n",
       "      <td>among various hybrid nanomaterials, the combin...</td>\n",
       "    </tr>\n",
       "  </tbody>\n",
       "</table>\n",
       "</div>"
      ],
      "text/plain": [
       "                                                 title  \\\n",
       "4    quantification of mass-specific laser energy i...   \n",
       "8    corrigendum to “quantification of mass-specifi...   \n",
       "17   recent progress in laser materials processing ...   \n",
       "20   laser synthesis and processing of colloids: fu...   \n",
       "22   biocompatible gold submicrometer spheres with ...   \n",
       "23   opportunities and challenges for laser synthes...   \n",
       "31   continuous-flow flat jet setup for uniform pul...   \n",
       "41   layered seed-growth of agge football-like micr...   \n",
       "46   how size determines the value of gold: economi...   \n",
       "49   laser ablation in liquids: fundamentals and ap...   \n",
       "50   the multivariate interaction between au and ti...   \n",
       "59   discrimination of effects leading to gas forma...   \n",
       "60                     materials synthesis in a bubble   \n",
       "62   discrimination of ablation, shielding, and int...   \n",
       "67   pulsed laser ablation of zinc in tetrahydrofur...   \n",
       "72   germanium sub-microspheres synthesized by pico...   \n",
       "81   in-situ bioconjugation in stationary media and...   \n",
       "85   debris-free rear-side picosecond laser ablatio...   \n",
       "86   evaluation of essential powder properties thro...   \n",
       "101  influence of beam intensity profile on the aer...   \n",
       "107  dynamics of laser-induced cavitation bubbles a...   \n",
       "108  role of dissolved and molecular oxygen on cu a...   \n",
       "113  incubation effect of pre‐irradiation on bubble...   \n",
       "123  comparison of ultrashort pulse ablation of gol...   \n",
       "126  comparison of the productivity and ablation ef...   \n",
       "133  efficient synthesis of submicrometer‐sized act...   \n",
       "134  pulsed laser ablation of wire-shaped target in...   \n",
       "136  on the mechanism and productivity of single-pu...   \n",
       "139  tribological properties of laser-generated har...   \n",
       "141  first on-line analysis of petroleum from singl...   \n",
       "145  the effect of downstream laser fragmentation o...   \n",
       "149  size quenching during laser synthesis of collo...   \n",
       "159  continuous and scalable laser synthesis of ato...   \n",
       "163  development of a low-cost fpga-based measureme...   \n",
       "170  spontaneous shape alteration and size separati...   \n",
       "174  the effect of the au loading on the liquid-pha...   \n",
       "176  fluence threshold behaviour on ablation and bu...   \n",
       "181  acoustic emission control avoids fluence shift...   \n",
       "203  effect of various dispersing agents on the sta...   \n",
       "205  x-ray spectroscopic and stroboscopic analysis ...   \n",
       "226  alumina‐protected, durable and photostable zin...   \n",
       "231  synthesis of hybrid microgels by coupling of l...   \n",
       "239  bioconjugated silicon quantum dots from one-st...   \n",
       "243  pulsed laser ablation in liquids: impact of th...   \n",
       "245  impact of preparation method and hydrothermal ...   \n",
       "250  impact of single-pulse, low-intensity laser po...   \n",
       "253  chemical reaction pathways during laser fragme...   \n",
       "259  gradual modification of ito particle's crystal...   \n",
       "266  <i>in situ</i> speciation and spatial mapping ...   \n",
       "270  ultrafast cold-brewing of coffee by picosecond...   \n",
       "272  origin of laser-induced colloidal gold surface...   \n",
       "283  golden plasmophores with tunable photoluminesc...   \n",
       "\n",
       "                                              abstract  \n",
       "4                                                 <NA>  \n",
       "8                                                 <NA>  \n",
       "17                                                <NA>  \n",
       "20                                                <NA>  \n",
       "22   this paper highlights a strategy on how totall...  \n",
       "23                                                <NA>  \n",
       "31                                                <NA>  \n",
       "41   hybrid particles are of great significance in ...  \n",
       "46   gold is one of the most valuable materials, an...  \n",
       "49                                                <NA>  \n",
       "50   the interaction between a au particle and a de...  \n",
       "59                                                <NA>  \n",
       "60                                                <NA>  \n",
       "62   over the past decade, laser ablation in liquid...  \n",
       "67                                                <NA>  \n",
       "72   pulsed laser melting in liquid (plml) has emer...  \n",
       "81                                                <NA>  \n",
       "85                                                <NA>  \n",
       "86                                                <NA>  \n",
       "101  the dependence of nanoparticle size distributi...  \n",
       "107  no unified model is available yet to explain t...  \n",
       "108  the role of molecular oxygen dissolved in the ...  \n",
       "113  pulsed laser ablation in liquids (plal) is a m...  \n",
       "123  laser ablation in liquids is a highly interdis...  \n",
       "126                                               <NA>  \n",
       "133  one challenge in the development of new drug f...  \n",
       "134                                               <NA>  \n",
       "136                                               <NA>  \n",
       "139                                               <NA>  \n",
       "141                                               <NA>  \n",
       "145                                               <NA>  \n",
       "149                                               <NA>  \n",
       "159                                               <NA>  \n",
       "163  today, the demand for continuous monitoring of...  \n",
       "170  the technique of laser ablation in liquids (la...  \n",
       "174                                               <NA>  \n",
       "176  the ablation yield and bubble‐formation proces...  \n",
       "181                                               <NA>  \n",
       "203  we report on the substitution of silver nanopa...  \n",
       "205                                               <NA>  \n",
       "226  zinc sulfide has unique and easily modifiable ...  \n",
       "231  loading microgels with bioactive nanoparticles...  \n",
       "239                                               <NA>  \n",
       "243                                               <NA>  \n",
       "245                                               <NA>  \n",
       "250                                               <NA>  \n",
       "253                                               <NA>  \n",
       "259  engineering of ito particle properties by lase...  \n",
       "266  material ejection in pulsed laser ablation in ...  \n",
       "270  coffee is typically brewed by extracting roast...  \n",
       "272                                               <NA>  \n",
       "283  among various hybrid nanomaterials, the combin...  "
      ]
     },
     "execution_count": 152,
     "metadata": {},
     "output_type": "execute_result"
    }
   ],
   "source": [
    "nps = df_abl[df_abl['title'].str.contains(r'\\b\\w*nano\\w*\\b')]\n",
    "print('Articles with nano:', nps['doi'].count(), 'out of', df_abl['doi'].count())\n",
    "df_abl[~df_abl['doi'].isin(nps['doi'])][['title', 'abstract']]"
   ]
  },
  {
   "cell_type": "markdown",
   "metadata": {},
   "source": [
    "Check how many articles have *nano* or *laser* in their title and print those, which don't"
   ]
  },
  {
   "cell_type": "code",
   "execution_count": 153,
   "metadata": {},
   "outputs": [
    {
     "name": "stdout",
     "output_type": "stream",
     "text": [
      "Articles with nano or laser: 285 out of 292\n"
     ]
    },
    {
     "data": {
      "application/vnd.microsoft.datawrangler.viewer.v0+json": {
       "columns": [
        {
         "name": "index",
         "rawType": "int64",
         "type": "integer"
        },
        {
         "name": "title",
         "rawType": "string",
         "type": "string"
        },
        {
         "name": "abstract",
         "rawType": "string",
         "type": "string"
        }
       ],
       "conversionMethod": "pd.DataFrame",
       "ref": "74111a9a-df82-4b18-963c-0e7ca7497cc5",
       "rows": [
        [
         "50",
         "the multivariate interaction between au and tio<sub>2</sub> colloids: the role of surface potential, concentration, and defects",
         "the interaction between a au particle and a defective tio2 surface was simulated over 6000 unique conditions, and the relative importance of the parameters was determined by logistic regression."
        ],
        [
         "60",
         "materials synthesis in a bubble",
         null
        ],
        [
         "123",
         "comparison of ultrashort pulse ablation of gold in air and water by time-resolved experiments",
         "laser ablation in liquids is a highly interdisciplinary method at the intersection of physics and chemistry that offers the unique opportunity to generate surfactant-free and stable nanoparticles from virtually any material. over the last decades, numerous experimental and computational studies aimed to reveal the transient processes governing laser ablation in liquids. most experimental studies investigated the involved processes on timescales ranging from nanoseconds to microseconds. however, the ablation dynamics occurring on a sub-nanosecond timescale are of fundamental importance, as the conditions under which nanoparticles are generated are established within this timeframe. furthermore, experimental investigations of the early timescales are required to test computational predictions. we visualize the complete spatiotemporal picosecond laser-induced ablation dynamics of gold immersed in air and water using ultrafast pump-probe microscopy. transient reflectivity measurements reveal that the water confinement layer significantly influences the ablation dynamics on the entire investigated timescale from picoseconds to microseconds. the influence of the water confinement layer includes the electron injection and subsequent formation of a dense plasma on a picosecond timescale, the confinement of ablation products within hundreds of picoseconds, and the generation of a cavitation bubble on a nanosecond timescale. moreover, we are able to locate the temporal appearance of secondary nanoparticles at about 600 ps after pulse impact. the results support computational predictions and provide valuable insight into the early-stage ablation dynamics governing laser ablation in liquids."
        ],
        [
         "226",
         "alumina‐protected, durable and photostable zinc sulfide particles from scalable atomic layer deposition",
         "zinc sulfide has unique and easily modifiable photophysical properties and is a promising candidate for photocatalysis and optoelectronic devices. however, zns suffers from corrosive decomposition during excitation processes like uv irradiation, which drastically limits its field of potential applications. for the first time, complete photostabilization of individual zns particles by a dense, durable, and only 3‐nm‐thick al2o3 layer, produced by rotary atomic layer deposition (ald) is reported. in contrast to bare zns, the coated particles do not suffer from photocorrosive degradation even under long‐term or high power uv irradiation. the presence of a protection layer covering the entire zns surface is additionally confirmed by microscopic and spectroscopic investigations of particle cross‐sections. further, complete inhibition of the reaction between ag+ ions added as the analyte and the zns surface is observed. durability tests of the as‐prepared al2o3 layer upon prolonged exposure to water reveal a significant decrease in the protection capability of the layer, which is ascribed to the hydrolysis of the amorphous al2o3. a calcination step at 1000 °c after the ald treatment, which leads to crystallization of the amorphous al2o3 layer, successfully suppresses this hydrolysis and produces an insulating, dense, and inert protection layer."
        ],
        [
         "239",
         "bioconjugated silicon quantum dots from one-step green synthesis",
         null
        ],
        [
         "245",
         "impact of preparation method and hydrothermal aging on particle size distribution of pt/γ-al<sub>2</sub>o<sub>3</sub> and its performance in co and no oxidation",
         null
        ],
        [
         "283",
         "golden plasmophores with tunable photoluminescence and outstanding thermal and photothermal stability",
         "among various hybrid nanomaterials, the combination of plasmonic nanoparticles and fluorophores in a single multifunctional nanoplatform, so‐called plasmophores, has attracted significant attention in different fields such as dark field, fluorescence, and photoacoustic imaging, biosensing, photothermal, and photodynamic therapy. herein, author report a facile and controlled synthesis route of hybrid nanoplatforms composed of fluorescent gold nanoclusters (gncs) coupled to plasmonic gold nanorods (gnrs) using controlled silica (sio2) dielectric spacers of different thicknesses from now on referred to as gnr@sio2@gnc plasmophores. the results show different degrees of plasmon‐enhanced fluorescence of the gncs in their plasmophore hybrid system when placed at different distances from the plasmonic cores of the gnrs. on the other hand, these plasmophores show enhanced thermal stability compared to gnrs@ctab (ctab, cetyl trimethyl ammonium bromide). this results also demonstrated that upon annealing at elevated temperatures (800–1000 °c), the gnrs in the plasmophores are more thermally stable and robust than the gnrs@ctab. more surprisingly, despite the commonly reported very low melting temperature of smaller‐size nanocrystals, the gncs in the plasmophores showed high thermal stability and do not exhibit significant structural changes at elevated temperatures (800–1000 °c)."
        ]
       ],
       "shape": {
        "columns": 2,
        "rows": 7
       }
      },
      "text/html": [
       "<div>\n",
       "<style scoped>\n",
       "    .dataframe tbody tr th:only-of-type {\n",
       "        vertical-align: middle;\n",
       "    }\n",
       "\n",
       "    .dataframe tbody tr th {\n",
       "        vertical-align: top;\n",
       "    }\n",
       "\n",
       "    .dataframe thead th {\n",
       "        text-align: right;\n",
       "    }\n",
       "</style>\n",
       "<table border=\"1\" class=\"dataframe\">\n",
       "  <thead>\n",
       "    <tr style=\"text-align: right;\">\n",
       "      <th></th>\n",
       "      <th>title</th>\n",
       "      <th>abstract</th>\n",
       "    </tr>\n",
       "  </thead>\n",
       "  <tbody>\n",
       "    <tr>\n",
       "      <th>50</th>\n",
       "      <td>the multivariate interaction between au and ti...</td>\n",
       "      <td>the interaction between a au particle and a de...</td>\n",
       "    </tr>\n",
       "    <tr>\n",
       "      <th>60</th>\n",
       "      <td>materials synthesis in a bubble</td>\n",
       "      <td>&lt;NA&gt;</td>\n",
       "    </tr>\n",
       "    <tr>\n",
       "      <th>123</th>\n",
       "      <td>comparison of ultrashort pulse ablation of gol...</td>\n",
       "      <td>laser ablation in liquids is a highly interdis...</td>\n",
       "    </tr>\n",
       "    <tr>\n",
       "      <th>226</th>\n",
       "      <td>alumina‐protected, durable and photostable zin...</td>\n",
       "      <td>zinc sulfide has unique and easily modifiable ...</td>\n",
       "    </tr>\n",
       "    <tr>\n",
       "      <th>239</th>\n",
       "      <td>bioconjugated silicon quantum dots from one-st...</td>\n",
       "      <td>&lt;NA&gt;</td>\n",
       "    </tr>\n",
       "    <tr>\n",
       "      <th>245</th>\n",
       "      <td>impact of preparation method and hydrothermal ...</td>\n",
       "      <td>&lt;NA&gt;</td>\n",
       "    </tr>\n",
       "    <tr>\n",
       "      <th>283</th>\n",
       "      <td>golden plasmophores with tunable photoluminesc...</td>\n",
       "      <td>among various hybrid nanomaterials, the combin...</td>\n",
       "    </tr>\n",
       "  </tbody>\n",
       "</table>\n",
       "</div>"
      ],
      "text/plain": [
       "                                                 title  \\\n",
       "50   the multivariate interaction between au and ti...   \n",
       "60                     materials synthesis in a bubble   \n",
       "123  comparison of ultrashort pulse ablation of gol...   \n",
       "226  alumina‐protected, durable and photostable zin...   \n",
       "239  bioconjugated silicon quantum dots from one-st...   \n",
       "245  impact of preparation method and hydrothermal ...   \n",
       "283  golden plasmophores with tunable photoluminesc...   \n",
       "\n",
       "                                              abstract  \n",
       "50   the interaction between a au particle and a de...  \n",
       "60                                                <NA>  \n",
       "123  laser ablation in liquids is a highly interdis...  \n",
       "226  zinc sulfide has unique and easily modifiable ...  \n",
       "239                                               <NA>  \n",
       "245                                               <NA>  \n",
       "283  among various hybrid nanomaterials, the combin...  "
      ]
     },
     "execution_count": 153,
     "metadata": {},
     "output_type": "execute_result"
    }
   ],
   "source": [
    "nps_laser = df_abl[df_abl['title'].str.contains(r'\\b\\w*nano\\w*\\b|\\b\\w*laser\\w*\\b')]\n",
    "print('Articles with nano or laser:', nps_laser['doi'].count(), 'out of', df_abl['doi'].count())\n",
    "df_abl[~df_abl['doi'].isin(nps_laser['doi'])][['title', 'abstract']]"
   ]
  },
  {
   "cell_type": "markdown",
   "metadata": {},
   "source": [
    "It seems like good filter cound contain following restrictions:\n",
    "* Publication date > 1993\n",
    "* Publication type *jurnal_article* or *proceedings_article*\n",
    "* Title contains *nano* or *laser*"
   ]
  },
  {
   "cell_type": "markdown",
   "metadata": {},
   "source": [
    "However, just checking for *nano* or *laser* in title could be too loose, since it will also include all article about some laser applications and all kinds of nano topics.\n",
    "\n",
    "Let's try to find some combinations of words, which will be more restrictive, but still describe majority of laser-ablation articles.\n",
    "\n",
    "First, try to build a strict pattern, which will select articles desctibing laser synthesis of nanoparticles with high probability"
   ]
  },
  {
   "cell_type": "code",
   "execution_count": 154,
   "metadata": {},
   "outputs": [
    {
     "name": "stderr",
     "output_type": "stream",
     "text": [
      "/tmp/ipykernel_10280/4178239602.py:13: UserWarning: This pattern is interpreted as a regular expression, and has match groups. To actually get the groups, use str.extract.\n",
      "  df_cleaned[df_cleaned['title'].str.contains(pattern)][['title', 'publication_date', 'doi']]\n"
     ]
    },
    {
     "data": {
      "application/vnd.microsoft.datawrangler.viewer.v0+json": {
       "columns": [
        {
         "name": "index",
         "rawType": "int64",
         "type": "integer"
        },
        {
         "name": "title",
         "rawType": "string",
         "type": "string"
        },
        {
         "name": "publication_date",
         "rawType": "datetime64[ns]",
         "type": "datetime"
        },
        {
         "name": "doi",
         "rawType": "string",
         "type": "string"
        }
       ],
       "conversionMethod": "pd.DataFrame",
       "ref": "14bfed60-af32-44d3-94f7-bc2a8c708128",
       "rows": [
        [
         "0",
         "trends and current topics in the field of laser ablation and nanoparticle generation in liquids",
         "2011-03-24 00:00:00",
         "10.1021/jp111036a"
        ],
        [
         "1",
         "advanced nanoparticle generation and excitation by lasers in liquids",
         "2013-01-01 00:00:00",
         "10.1039/c2cp90132c"
        ],
        [
         "2",
         "process-stable, highly pure nanomaterials by pilot-scale, continuous high-power laser production (conference presentation)",
         "2017-04-21 00:00:00",
         "10.1117/12.2249517"
        ],
        [
         "3",
         "a quarter-century of nanoparticle generation by lasers in liquids: where are we now, and what’s next?",
         "2017-03-01 00:00:00",
         "10.1016/j.jcis.2016.12.016"
        ],
        [
         "4",
         "quantification of mass-specific laser energy input converted into particle properties during picosecond pulsed laser fragmentation of zinc oxide and boron carbide in liquids",
         "2015-09-01 00:00:00",
         "10.1016/j.apsusc.2014.07.053"
        ],
        [
         "5",
         "laser fragmentation of organic microparticles into colloidal nanoparticles in a free liquid jet",
         "2010-06-18 00:00:00",
         "10.1007/s00339-010-5814-x"
        ],
        [
         "7",
         "in situ bioconjugation: single step approach to tailored nanoparticle‐bioconjugates by ultrashort pulsed laser ablation",
         "2009-04-20 00:00:00",
         "10.1002/adfm.200801526"
        ],
        [
         "8",
         "corrigendum to “quantification of mass-specific laser energy input converted into particle properties during picosecond pulsed laser fragmentation of zinc oxide and boron carbide in liquids” [appl. surf. sci. 348 (september) (2015) 22–29]",
         "2018-03-01 00:00:00",
         "10.1016/j.apsusc.2017.09.051"
        ],
        [
         "9",
         "hydrodynamic size distribution of gold nanoparticles controlled by repetition rate during pulsed laser ablation in water",
         "2011-02-01 00:00:00",
         "10.1016/j.apsusc.2010.12.037"
        ],
        [
         "12",
         "nanoparticles - potential risk during pulsed laser ablation",
         "2007-01-01 00:00:00",
         "10.2351/1.5056646"
        ],
        [
         "13",
         "direct integration of laser-generated nanoparticles into transparent nail polish: the plasmonic “goldfinger”",
         "2017-03-17 00:00:00",
         "10.1021/acs.iecr.7b00039"
        ],
        [
         "14",
         "nanocomposite manufacturing using ultrashort-pulsed laser ablation in solvents and monomers",
         "2008-09-01 00:00:00",
         "10.14314/polimery.2008.657"
        ],
        [
         "15",
         "picosecond laser-induced surface structures on alloys in liquids and their influence on nanoparticle productivity during laser ablation",
         "2020-01-22 00:00:00",
         "10.1364/oe.28.002909"
        ],
        [
         "18",
         "status and demand of research to bring laser generation of nanoparticles in liquids to maturity",
         "2019-09-01 00:00:00",
         "10.1016/j.apsusc.2019.05.117"
        ],
        [
         "20",
         "laser synthesis and processing of colloids: fundamentals and applications",
         "2017-02-13 00:00:00",
         "10.1021/acs.chemrev.6b00468"
        ],
        [
         "21",
         "pilot-scale synthesis of catalysis-relevant nanoparticles by high-power ultrafast laser ablation in liquids (conference presentation)",
         "2017-04-21 00:00:00",
         "10.1117/12.2249261"
        ],
        [
         "23",
         "opportunities and challenges for laser synthesis of colloids",
         "2017-04-26 00:00:00",
         "10.1002/cphc.201700310"
        ],
        [
         "25",
         "embedding laser-generated nanoparticles into bioactive polymers for medical devices",
         "2010-01-01 00:00:00",
         "10.2351/1.5061975"
        ],
        [
         "27",
         "aptamers on laser‐generated gold nanoparticles – a novel approach towards green point‐of‐care – diagnostic tools for biotechnology",
         "2020-08-28 00:00:00",
         "10.1002/cite.202055318"
        ],
        [
         "28",
         "process chain for the fabrication of nanoparticle polymer composites by laser ablation synthesis",
         "2017-04-06 00:00:00",
         "10.1002/ceat.201600506"
        ],
        [
         "29",
         "ablation target cooling by maximizing the nanoparticle productivity in laser synthesis of colloids",
         "2019-02-01 00:00:00",
         "10.1016/j.apsusc.2018.10.030"
        ],
        [
         "30",
         "impact and structure of literature on nanoparticle generation by laser ablation in liquids",
         "2009-09-27 00:00:00",
         "10.1007/s11051-009-9765-0"
        ],
        [
         "32",
         "continuous multigram nanoparticle synthesis by high-power, high-repetition-rate ultrafast laser ablation in liquids",
         "2016-03-23 00:00:00",
         "10.1364/ol.41.001486"
        ],
        [
         "33",
         "nanoparticles as potential risk during femtosecond laser ablation",
         "2007-03-05 00:00:00",
         "10.2351/1.2402526"
        ],
        [
         "34",
         "synergism between specific halide anions and ph effects during nanosecond laser fragmentation of ligand-free gold nanoparticles",
         "2019-04-26 00:00:00",
         "10.1021/acs.langmuir.9b00418"
        ],
        [
         "35",
         "advances in pulsed laser synthesis of nanoparticles in liquids",
         "2022-05-25 00:00:00",
         "10.1007/s11433-022-1909-6"
        ],
        [
         "36",
         "transfer-matrix method for efficient ablation by pulsed laser ablation and nanoparticle generation in liquids",
         "2011-03-01 00:00:00",
         "10.1021/jp109370q"
        ],
        [
         "38",
         "how the physicochemical properties of the bulk material affect the ablation crater profile, mass balance, and bubble dynamics during single‐pulse, nanosecond laser ablation in water",
         "2021-03-04 00:00:00",
         "10.1002/chem.202005087"
        ],
        [
         "39",
         "impact of in situ polymer coating on particle dispersion into solid laser-generated nanocomposites",
         "2011-01-01 00:00:00",
         "10.1039/c0cp02262d"
        ],
        [
         "43",
         "barrierless growth of precursor-free, ultrafast laser-fragmented noble metal nanoparticles by colloidal atom clusters – a kinetic in situ study",
         "2016-02-01 00:00:00",
         "10.1016/j.jcis.2015.10.032"
        ],
        [
         "44",
         "properties of nanoparticles generated during femtosecond laser machining in air and water",
         "2007-02-01 00:00:00",
         "10.1007/s00339-006-3852-1"
        ],
        [
         "45",
         "strategies to harvest the unique properties of laser-generated nanomaterials in biomedical and energy applications",
         "2015-09-01 00:00:00",
         "10.1016/j.apsusc.2015.04.104"
        ],
        [
         "46",
         "how size determines the value of gold: economic aspects of wet chemical and laser‐based metal colloid synthesis",
         "2017-02-27 00:00:00",
         "10.1002/cphc.201601139"
        ],
        [
         "47",
         "influence of gold/silver ratio in ablative nanoparticles on their interaction with aptamers and functionality of the obtained conjugates",
         "2021-11-03 00:00:00",
         "10.1021/acs.bioconjchem.1c00468"
        ],
        [
         "48",
         "influence of processing time on nanoparticle generation during picosecond-pulsed fundamental and second harmonic laser ablation of metals in tetrahydrofuran",
         "2011-05-11 00:00:00",
         "10.1007/s00339-011-6398-9"
        ],
        [
         "55",
         "synthesis of gold, platinum, and gold-platinum alloy nanoparticle colloids with high-power megahertz-repetition-rate lasers: the importance of the beam guidance method",
         "2021-02-11 00:00:00",
         "10.1007/s13204-021-01693-y"
        ],
        [
         "56",
         "pure colloidal metal and ceramic nanoparticles from high-power picosecond laser ablation in water and acetone",
         "2009-10-05 00:00:00",
         "10.1088/0957-4484/20/44/445603"
        ],
        [
         "57",
         "influence of water temperature on the hydrodynamic diameter of gold nanoparticles from laser ablation",
         "2010-01-22 00:00:00",
         "10.1021/jp909897v"
        ],
        [
         "58",
         "colloids created by light: laser-generated nanoparticles for applications in biology and medicine",
         "2017-01-01 00:00:00",
         "10.1016/j.matpr.2017.09.173"
        ],
        [
         "61",
         "ablation efficiency of α-al2o3 in liquid phase and ambient air by nanosecond laser irradiation",
         "2010-02-11 00:00:00",
         "10.1007/s00339-010-5572-9"
        ],
        [
         "62",
         "discrimination of ablation, shielding, and interface layer effects on the steady-state formation of persistent bubbles under liquid flow conditions during laser synthesis of colloids",
         "2021-03-15 00:00:00",
         "10.1007/s41981-021-00144-7"
        ],
        [
         "63",
         "scale-up of nanoparticle production during laser ablation of ceramics in liquid media",
         "2008-01-01 00:00:00",
         "10.2351/1.5061412"
        ],
        [
         "65",
         "how nanoparticle size and bubble merging is governed by short‐range spatially controlled double‐beam laser ablation in liquids",
         "2023-12-19 00:00:00",
         "10.1002/ppsc.202300145"
        ],
        [
         "66",
         "laser synthesis of nanoparticles in organic solvents – products, reactions, and perspectives",
         "2024-06-05 00:00:00",
         "10.3762/bjnano.15.54"
        ],
        [
         "71",
         "monophasic ligand-free alloy nanoparticle synthesis determinants during pulsed laser ablation of bulk alloy and consolidated microparticles in water",
         "2014-01-01 00:00:00",
         "10.1039/c4cp03316g"
        ],
        [
         "73",
         "size control of laser-fabricated surfactant-free gold nanoparticles with highly diluted electrolytes and their subsequent bioconjugation",
         "2013-01-01 00:00:00",
         "10.1039/c2cp42641b"
        ],
        [
         "74",
         "primary particle diameter differentiation and bimodality identification by five analytical methods using gold nanoparticle size distributions synthesized by pulsed laser ablation in liquids",
         "2018-03-01 00:00:00",
         "10.1016/j.apsusc.2017.11.130"
        ],
        [
         "75",
         "pore penetration of porous catalyst supports by in-situ-adsorbed, agglomeration-quenched nanoparticles from pulsed laser ablation in supercritical co2",
         "2021-02-01 00:00:00",
         "10.1016/j.supflu.2020.105100"
        ],
        [
         "76",
         "continuous production and online-characterization of nanoparticles from ultrafast laser ablation and laser cracking",
         "2005-01-01 00:00:00",
         "10.2351/1.5060562"
        ],
        [
         "77",
         "nanoparticle formation in a cavitation bubble after pulsed laser ablation in liquid studied with high time resolution small angle x-ray scattering",
         "2012-09-03 00:00:00",
         "10.1063/1.4750250"
        ]
       ],
       "shape": {
        "columns": 3,
        "rows": 140
       }
      },
      "text/html": [
       "<div>\n",
       "<style scoped>\n",
       "    .dataframe tbody tr th:only-of-type {\n",
       "        vertical-align: middle;\n",
       "    }\n",
       "\n",
       "    .dataframe tbody tr th {\n",
       "        vertical-align: top;\n",
       "    }\n",
       "\n",
       "    .dataframe thead th {\n",
       "        text-align: right;\n",
       "    }\n",
       "</style>\n",
       "<table border=\"1\" class=\"dataframe\">\n",
       "  <thead>\n",
       "    <tr style=\"text-align: right;\">\n",
       "      <th></th>\n",
       "      <th>title</th>\n",
       "      <th>publication_date</th>\n",
       "      <th>doi</th>\n",
       "    </tr>\n",
       "  </thead>\n",
       "  <tbody>\n",
       "    <tr>\n",
       "      <th>0</th>\n",
       "      <td>trends and current topics in the field of lase...</td>\n",
       "      <td>2011-03-24</td>\n",
       "      <td>10.1021/jp111036a</td>\n",
       "    </tr>\n",
       "    <tr>\n",
       "      <th>1</th>\n",
       "      <td>advanced nanoparticle generation and excitatio...</td>\n",
       "      <td>2013-01-01</td>\n",
       "      <td>10.1039/c2cp90132c</td>\n",
       "    </tr>\n",
       "    <tr>\n",
       "      <th>2</th>\n",
       "      <td>process-stable, highly pure nanomaterials by p...</td>\n",
       "      <td>2017-04-21</td>\n",
       "      <td>10.1117/12.2249517</td>\n",
       "    </tr>\n",
       "    <tr>\n",
       "      <th>3</th>\n",
       "      <td>a quarter-century of nanoparticle generation b...</td>\n",
       "      <td>2017-03-01</td>\n",
       "      <td>10.1016/j.jcis.2016.12.016</td>\n",
       "    </tr>\n",
       "    <tr>\n",
       "      <th>4</th>\n",
       "      <td>quantification of mass-specific laser energy i...</td>\n",
       "      <td>2015-09-01</td>\n",
       "      <td>10.1016/j.apsusc.2014.07.053</td>\n",
       "    </tr>\n",
       "    <tr>\n",
       "      <th>...</th>\n",
       "      <td>...</td>\n",
       "      <td>...</td>\n",
       "      <td>...</td>\n",
       "    </tr>\n",
       "    <tr>\n",
       "      <th>276</th>\n",
       "      <td>oxide dispersion-strengthened alloys generated...</td>\n",
       "      <td>2018-09-01</td>\n",
       "      <td>10.1016/j.matdes.2018.05.044</td>\n",
       "    </tr>\n",
       "    <tr>\n",
       "      <th>279</th>\n",
       "      <td>microstructure formation and mechanical proper...</td>\n",
       "      <td>2021-03-01</td>\n",
       "      <td>10.1016/j.actamat.2020.116566</td>\n",
       "    </tr>\n",
       "    <tr>\n",
       "      <th>286</th>\n",
       "      <td>influence of colloidal additivation with surfa...</td>\n",
       "      <td>2023-09-28</td>\n",
       "      <td>10.1002/adem.202301054</td>\n",
       "    </tr>\n",
       "    <tr>\n",
       "      <th>289</th>\n",
       "      <td>ultrasonically deposited boron‐doped silicon d...</td>\n",
       "      <td>2025-01-13</td>\n",
       "      <td>10.1002/admi.202400765</td>\n",
       "    </tr>\n",
       "    <tr>\n",
       "      <th>291</th>\n",
       "      <td>time resolved studies reveal the origin of the...</td>\n",
       "      <td>2022-01-01</td>\n",
       "      <td>10.29026/oea.2022.210053</td>\n",
       "    </tr>\n",
       "  </tbody>\n",
       "</table>\n",
       "<p>140 rows × 3 columns</p>\n",
       "</div>"
      ],
      "text/plain": [
       "                                                 title publication_date  \\\n",
       "0    trends and current topics in the field of lase...       2011-03-24   \n",
       "1    advanced nanoparticle generation and excitatio...       2013-01-01   \n",
       "2    process-stable, highly pure nanomaterials by p...       2017-04-21   \n",
       "3    a quarter-century of nanoparticle generation b...       2017-03-01   \n",
       "4    quantification of mass-specific laser energy i...       2015-09-01   \n",
       "..                                                 ...              ...   \n",
       "276  oxide dispersion-strengthened alloys generated...       2018-09-01   \n",
       "279  microstructure formation and mechanical proper...       2021-03-01   \n",
       "286  influence of colloidal additivation with surfa...       2023-09-28   \n",
       "289  ultrasonically deposited boron‐doped silicon d...       2025-01-13   \n",
       "291  time resolved studies reveal the origin of the...       2022-01-01   \n",
       "\n",
       "                               doi  \n",
       "0                10.1021/jp111036a  \n",
       "1               10.1039/c2cp90132c  \n",
       "2               10.1117/12.2249517  \n",
       "3       10.1016/j.jcis.2016.12.016  \n",
       "4     10.1016/j.apsusc.2014.07.053  \n",
       "..                             ...  \n",
       "276   10.1016/j.matdes.2018.05.044  \n",
       "279  10.1016/j.actamat.2020.116566  \n",
       "286         10.1002/adem.202301054  \n",
       "289         10.1002/admi.202400765  \n",
       "291       10.29026/oea.2022.210053  \n",
       "\n",
       "[140 rows x 3 columns]"
      ]
     },
     "execution_count": 154,
     "metadata": {},
     "output_type": "execute_result"
    }
   ],
   "source": [
    "#patterns\n",
    "parts = [\n",
    "    r'(?=.*laser\\w*)(?=.*\\w*(gener|synth|prod|manufact|fabric)\\w*)(?=.*(nano|colloid|quantum\\sdot)\\w*|.*\\bnps\\b)',\n",
    "    r'(?=.*(nano|particle|cluster)\\w*)(?=.*\\b\\w*(ablat|fragment)\\w*)'\n",
    "]\n",
    "pattern = r'(' + r'|'.join(parts) + r')'\n",
    "# exclude patterns\n",
    "exlude_parts = [\n",
    "    r'(?!.*nanostructur(ing|ed)\\w*)',\n",
    "]\n",
    "pattern += r''.join(exlude_parts)\n",
    "# Check for articles manualy marked to be related to laser ablation with the pattern\n",
    "df_cleaned[df_cleaned['title'].str.contains(pattern)][['title', 'publication_date', 'doi']]"
   ]
  },
  {
   "cell_type": "markdown",
   "metadata": {},
   "source": [
    "Show articles, which were manually marked to be realted to laser ablation, but not matching the strict pattern"
   ]
  },
  {
   "cell_type": "code",
   "execution_count": 155,
   "metadata": {},
   "outputs": [
    {
     "name": "stderr",
     "output_type": "stream",
     "text": [
      "/tmp/ipykernel_10280/2180955188.py:1: UserWarning: This pattern is interpreted as a regular expression, and has match groups. To actually get the groups, use str.extract.\n",
      "  df_cleaned[~df_cleaned['title'].str.contains(pattern)][['title', 'publication_date', 'doi']]\n"
     ]
    },
    {
     "data": {
      "application/vnd.microsoft.datawrangler.viewer.v0+json": {
       "columns": [
        {
         "name": "index",
         "rawType": "int64",
         "type": "integer"
        },
        {
         "name": "title",
         "rawType": "string",
         "type": "string"
        },
        {
         "name": "publication_date",
         "rawType": "datetime64[ns]",
         "type": "datetime"
        },
        {
         "name": "doi",
         "rawType": "string",
         "type": "string"
        }
       ],
       "conversionMethod": "pd.DataFrame",
       "ref": "c2f0807d-07ad-4992-944e-b8b5546a39b7",
       "rows": [
        [
         "6",
         "conjugation efficiency of laser-based bioconjugation of gold nanoparticles with nucleic acids",
         "2009-10-22 00:00:00",
         "10.1021/jp905962f"
        ],
        [
         "10",
         "fully-automatic benchtop machine for the production of nanoparticle suspensions",
         "2021-01-01 00:00:00",
         "10.37904/nanocon.2021.4317"
        ],
        [
         "11",
         "colloidal stability of metal nanoparticles in engine oil under thermal and mechanical load",
         "2017-08-08 00:00:00",
         "10.1002/ceat.201600541"
        ],
        [
         "16",
         "how citrate ligands affect nanoparticle adsorption to microparticle supports",
         "2012-03-29 00:00:00",
         "10.1021/la204839m"
        ],
        [
         "17",
         "recent progress in laser materials processing and synthesis",
         "2020-05-01 00:00:00",
         "10.1016/j.apsusc.2020.145762"
        ],
        [
         "19",
         "colloidal nanoparticles for heterogeneous catalysis",
         "2015-02-16 00:00:00",
         "10.1117/2.1201501.005761"
        ],
        [
         "22",
         "biocompatible gold submicrometer spheres with variable surface texture fabricated by pulsed laser melting in liquid",
         "2014-06-06 00:00:00",
         "10.1246/cl.140455"
        ],
        [
         "24",
         "in situ bioconjugation—novel laser based approach to pure nanoparticle-conjugates",
         "2009-03-01 00:00:00",
         "10.1016/j.apsusc.2008.08.064"
        ],
        [
         "26",
         "health risks of nanoparticulate emissions during femtosecond and picosecond pulsed laser machining",
         "2009-02-12 00:00:00",
         "10.1117/12.810222"
        ],
        [
         "31",
         "continuous-flow flat jet setup for uniform pulsed laser postprocessing of colloids",
         "2020-12-16 00:00:00",
         "10.1021/acs.jpca.0c08787"
        ],
        [
         "37",
         "use of (nano-)additives in laser powder bed fusion of al powder feedstocks: research directions within the last decade",
         "2020-01-01 00:00:00",
         "10.1016/j.procir.2020.09.003"
        ],
        [
         "40",
         "electrochemistry-controlled metal ion release from silicone elastomer nanocomposites through combination of different metal nanoparticles",
         "2011-01-01 00:00:00",
         "10.1039/c0jm04480f"
        ],
        [
         "41",
         "layered seed-growth of agge football-like microspheres via precursor-free picosecond laser synthesis in water",
         "2015-09-03 00:00:00",
         "10.1038/srep13661"
        ],
        [
         "42",
         "nano and microparticles emission during laser cleaning of stone",
         "2006-02-16 00:00:00",
         "10.1117/12.726585"
        ],
        [
         "49",
         "laser ablation in liquids: fundamentals and applications (conference presentation)",
         "2019-03-13 00:00:00",
         "10.1117/12.2507826"
        ],
        [
         "50",
         "the multivariate interaction between au and tio<sub>2</sub> colloids: the role of surface potential, concentration, and defects",
         "2024-01-01 00:00:00",
         "10.1039/d3nr06205h"
        ],
        [
         "51",
         "perspective of surfactant‐free colloidal nanoparticles in heterogeneous catalysis",
         "2019-08-19 00:00:00",
         "10.1002/cctc.201900666"
        ],
        [
         "52",
         "inclusion of supported gold nanoparticles into their semiconductor support",
         "2015-01-01 00:00:00",
         "10.1039/c5cp04296h"
        ],
        [
         "53",
         "cytotoxicity and ion release of alloy nanoparticles",
         "2012-01-01 00:00:00",
         "10.1007/s11051-011-0686-3"
        ],
        [
         "54",
         "metal ion release kinetics from nanoparticle silicone composites",
         "2011-09-01 00:00:00",
         "10.1016/j.jconrel.2011.05.023"
        ],
        [
         "59",
         "discrimination of effects leading to gas formation during pulsed laser ablation in liquids",
         "2019-01-01 00:00:00",
         "10.1016/j.apsusc.2018.09.224"
        ],
        [
         "60",
         "materials synthesis in a bubble",
         "2019-05-01 00:00:00",
         "10.1557/mrs.2019.107"
        ],
        [
         "64",
         "inorganic nanoparticles in reproduction biology: opportunities and challenges",
         "2025-02-06 00:00:00",
         "10.1002/cplu.202400554"
        ],
        [
         "67",
         "pulsed laser ablation of zinc in tetrahydrofuran: bypassing the cavitation bubble",
         "2010-04-02 00:00:00",
         "10.1021/jp911243a"
        ],
        [
         "68",
         "impact of metal nanoparticles on germ cell viability and functionality",
         "2012-07-25 00:00:00",
         "10.1111/j.1439-0531.2012.02099.x"
        ],
        [
         "69",
         "how electrophoretic deposition with ligand-free platinum nanoparticles affects contact angle",
         "2015-07-01 00:00:00",
         "10.4028/www.scientific.net/kem.654.218"
        ],
        [
         "70",
         "ultrafiltration membrane-based purification of bioconjugated gold nanoparticle dispersions",
         "2016-01-01 00:00:00",
         "10.1016/j.seppur.2015.11.033"
        ],
        [
         "72",
         "germanium sub-microspheres synthesized by picosecond pulsed laser melting in liquids: educt size effects",
         "2017-01-13 00:00:00",
         "10.1038/srep40355"
        ],
        [
         "78",
         "integration of gold nanoparticles into nir‐radiation curable powder resin",
         "2016-10-16 00:00:00",
         "10.1002/slct.201601288"
        ],
        [
         "81",
         "in-situ bioconjugation in stationary media and in liquid flow by femtosecond laser ablation",
         "2010-06-16 00:00:00",
         "10.1007/s00339-010-5813-y"
        ],
        [
         "83",
         "adsorption of colloidal platinum nanoparticles to supports: charge transfer and effects of electrostatic and steric interactions",
         "2014-10-01 00:00:00",
         "10.1021/la502588g"
        ],
        [
         "85",
         "debris-free rear-side picosecond laser ablation of thin germanium wafers in water with ethanol",
         "2016-03-01 00:00:00",
         "10.1016/j.apsusc.2016.01.071"
        ],
        [
         "86",
         "evaluation of essential powder properties through complementary particle size analysis methods for laser powder bed fusion of polymers",
         "2020-01-01 00:00:00",
         "10.1016/j.procir.2020.09.023"
        ],
        [
         "88",
         "influence of ligands in metal nanoparticle electrophoresis for the fabrication of biofunctional coatings",
         "2015-09-01 00:00:00",
         "10.1016/j.apsusc.2014.12.159"
        ],
        [
         "89",
         "manipulation of the size and phase composition of yttrium iron garnet nanoparticles by pulsed laser post-processing in liquid",
         "2020-04-17 00:00:00",
         "10.3390/molecules25081869"
        ],
        [
         "91",
         "quantification of colloidal and intracellular gold nanomarkers down to the single particle level using confocal microscopy",
         "2010-02-11 00:00:00",
         "10.1117/12.840985"
        ],
        [
         "92",
         "quantitative visualization of colloidal and intracellular gold nanoparticles by confocal microscopy",
         "2010-01-01 00:00:00",
         "10.1117/1.3461170"
        ],
        [
         "94",
         "solid solution magnetic feni nanostrand–polymer composites by connecting-coarsening assembly",
         "2015-01-01 00:00:00",
         "10.1039/c5tc02160j"
        ],
        [
         "100",
         "improving polymer surfaces using laser dispersion of ceramic micro and nanoparticles",
         "2006-01-01 00:00:00",
         "10.2351/1.5056934"
        ],
        [
         "107",
         "dynamics of laser-induced cavitation bubbles at a solid–liquid interface in high viscosity and high capillary number regimes",
         "2020-01-28 00:00:00",
         "10.1063/1.5116111"
        ],
        [
         "110",
         "nonendosomal cellular uptake of ligand‐free, positively charged gold nanoparticles",
         "2010-01-26 00:00:00",
         "10.1002/cyto.a.20846"
        ],
        [
         "111",
         "charge balancing of model gold-nanoparticle-peptide conjugates controlled by the peptide’s net charge and the ligand to nanoparticle ratio",
         "2014-05-01 00:00:00",
         "10.1021/jp501489t"
        ],
        [
         "113",
         "incubation effect of pre‐irradiation on bubble formation and ablation in laser ablation in liquids",
         "2019-04-05 00:00:00",
         "10.1002/cphc.201900075"
        ],
        [
         "114",
         "defect-selective energy barrier crossing during adsorption of colloidal gold nanoparticles on zinc sulfide crystals under overall electrostatic repulsion",
         "2024-10-22 00:00:00",
         "10.1021/acs.jpcc.4c05728"
        ],
        [
         "115",
         "activity and durability patterns of 45 binary noble metal alloy nanoparticle variants for commercial diesel exhaust aftertreatment",
         "2023-07-24 00:00:00",
         "10.1002/cctc.202300563"
        ],
        [
         "120",
         "platinum‐iridium alloy nanoparticle coatings produced by electrophoretic deposition reduce impedance in 3d neural electrodes",
         "2024-07-24 00:00:00",
         "10.1002/cphc.202300623"
        ],
        [
         "122",
         "<i>in situ</i> non-dlvo stabilization of surfactant-free, plasmonic gold nanoparticles: effect of hofmeister’s anions",
         "2014-04-10 00:00:00",
         "10.1021/la404556a"
        ],
        [
         "123",
         "comparison of ultrashort pulse ablation of gold in air and water by time-resolved experiments",
         "2022-03-23 00:00:00",
         "10.1038/s41377-022-00751-6"
        ],
        [
         "124",
         "alloying colloidal silver nanoparticles with gold disproportionally controls antibacterial and toxic effects",
         "2013-11-17 00:00:00",
         "10.1007/s13404-013-0125-6"
        ],
        [
         "126",
         "comparison of the productivity and ablation efficiency of different laser classes for laser ablation of gold in water and air",
         "2019-05-24 00:00:00",
         "10.1007/s00339-019-2704-8"
        ]
       ],
       "shape": {
        "columns": 3,
        "rows": 152
       }
      },
      "text/html": [
       "<div>\n",
       "<style scoped>\n",
       "    .dataframe tbody tr th:only-of-type {\n",
       "        vertical-align: middle;\n",
       "    }\n",
       "\n",
       "    .dataframe tbody tr th {\n",
       "        vertical-align: top;\n",
       "    }\n",
       "\n",
       "    .dataframe thead th {\n",
       "        text-align: right;\n",
       "    }\n",
       "</style>\n",
       "<table border=\"1\" class=\"dataframe\">\n",
       "  <thead>\n",
       "    <tr style=\"text-align: right;\">\n",
       "      <th></th>\n",
       "      <th>title</th>\n",
       "      <th>publication_date</th>\n",
       "      <th>doi</th>\n",
       "    </tr>\n",
       "  </thead>\n",
       "  <tbody>\n",
       "    <tr>\n",
       "      <th>6</th>\n",
       "      <td>conjugation efficiency of laser-based bioconju...</td>\n",
       "      <td>2009-10-22</td>\n",
       "      <td>10.1021/jp905962f</td>\n",
       "    </tr>\n",
       "    <tr>\n",
       "      <th>10</th>\n",
       "      <td>fully-automatic benchtop machine for the produ...</td>\n",
       "      <td>2021-01-01</td>\n",
       "      <td>10.37904/nanocon.2021.4317</td>\n",
       "    </tr>\n",
       "    <tr>\n",
       "      <th>11</th>\n",
       "      <td>colloidal stability of metal nanoparticles in ...</td>\n",
       "      <td>2017-08-08</td>\n",
       "      <td>10.1002/ceat.201600541</td>\n",
       "    </tr>\n",
       "    <tr>\n",
       "      <th>16</th>\n",
       "      <td>how citrate ligands affect nanoparticle adsorp...</td>\n",
       "      <td>2012-03-29</td>\n",
       "      <td>10.1021/la204839m</td>\n",
       "    </tr>\n",
       "    <tr>\n",
       "      <th>17</th>\n",
       "      <td>recent progress in laser materials processing ...</td>\n",
       "      <td>2020-05-01</td>\n",
       "      <td>10.1016/j.apsusc.2020.145762</td>\n",
       "    </tr>\n",
       "    <tr>\n",
       "      <th>...</th>\n",
       "      <td>...</td>\n",
       "      <td>...</td>\n",
       "      <td>...</td>\n",
       "    </tr>\n",
       "    <tr>\n",
       "      <th>284</th>\n",
       "      <td>size-selective optical printing of silicon nan...</td>\n",
       "      <td>2019-03-07</td>\n",
       "      <td>10.1021/acsphotonics.8b01619</td>\n",
       "    </tr>\n",
       "    <tr>\n",
       "      <th>285</th>\n",
       "      <td>size-selective optical printing of silicon nan...</td>\n",
       "      <td>2020-02-24</td>\n",
       "      <td>10.1117/12.2539265</td>\n",
       "    </tr>\n",
       "    <tr>\n",
       "      <th>287</th>\n",
       "      <td>impact of ligands on structural and optical pr...</td>\n",
       "      <td>2021-06-17</td>\n",
       "      <td>10.1021/jacs.1c01799</td>\n",
       "    </tr>\n",
       "    <tr>\n",
       "      <th>288</th>\n",
       "      <td>nanocomposite concept for electrochemical &lt;i&gt;i...</td>\n",
       "      <td>2022-07-06</td>\n",
       "      <td>10.1021/jacsau.2c00335</td>\n",
       "    </tr>\n",
       "    <tr>\n",
       "      <th>290</th>\n",
       "      <td>photoluminescence of fully inorganic colloidal...</td>\n",
       "      <td>2021-06-24</td>\n",
       "      <td>10.1002/adma.202101549</td>\n",
       "    </tr>\n",
       "  </tbody>\n",
       "</table>\n",
       "<p>152 rows × 3 columns</p>\n",
       "</div>"
      ],
      "text/plain": [
       "                                                 title publication_date  \\\n",
       "6    conjugation efficiency of laser-based bioconju...       2009-10-22   \n",
       "10   fully-automatic benchtop machine for the produ...       2021-01-01   \n",
       "11   colloidal stability of metal nanoparticles in ...       2017-08-08   \n",
       "16   how citrate ligands affect nanoparticle adsorp...       2012-03-29   \n",
       "17   recent progress in laser materials processing ...       2020-05-01   \n",
       "..                                                 ...              ...   \n",
       "284  size-selective optical printing of silicon nan...       2019-03-07   \n",
       "285  size-selective optical printing of silicon nan...       2020-02-24   \n",
       "287  impact of ligands on structural and optical pr...       2021-06-17   \n",
       "288  nanocomposite concept for electrochemical <i>i...       2022-07-06   \n",
       "290  photoluminescence of fully inorganic colloidal...       2021-06-24   \n",
       "\n",
       "                              doi  \n",
       "6               10.1021/jp905962f  \n",
       "10     10.37904/nanocon.2021.4317  \n",
       "11         10.1002/ceat.201600541  \n",
       "16              10.1021/la204839m  \n",
       "17   10.1016/j.apsusc.2020.145762  \n",
       "..                            ...  \n",
       "284  10.1021/acsphotonics.8b01619  \n",
       "285            10.1117/12.2539265  \n",
       "287          10.1021/jacs.1c01799  \n",
       "288        10.1021/jacsau.2c00335  \n",
       "290        10.1002/adma.202101549  \n",
       "\n",
       "[152 rows x 3 columns]"
      ]
     },
     "execution_count": 155,
     "metadata": {},
     "output_type": "execute_result"
    }
   ],
   "source": [
    "df_cleaned[~df_cleaned['title'].str.contains(pattern)][['title', 'publication_date', 'doi']]"
   ]
  },
  {
   "cell_type": "markdown",
   "metadata": {},
   "source": [
    "Now let's check for how pattern deals with articles, which were manually marked to be non-related to laser ablative synthesis of nanoparticles\n",
    "\n",
    "Show articles, which match the strict pattern"
   ]
  },
  {
   "cell_type": "code",
   "execution_count": 156,
   "metadata": {},
   "outputs": [
    {
     "name": "stderr",
     "output_type": "stream",
     "text": [
      "/tmp/ipykernel_10280/2138274369.py:1: UserWarning: This pattern is interpreted as a regular expression, and has match groups. To actually get the groups, use str.extract.\n",
      "  df_non_abl[df_non_abl['title'].str.contains(pattern)][['title', 'publication_date', 'doi']]\n"
     ]
    },
    {
     "data": {
      "application/vnd.microsoft.datawrangler.viewer.v0+json": {
       "columns": [
        {
         "name": "index",
         "rawType": "int64",
         "type": "integer"
        },
        {
         "name": "title",
         "rawType": "string",
         "type": "string"
        },
        {
         "name": "publication_date",
         "rawType": "datetime64[ns]",
         "type": "datetime"
        },
        {
         "name": "doi",
         "rawType": "string",
         "type": "string"
        }
       ],
       "conversionMethod": "pd.DataFrame",
       "ref": "6d5bba66-44bc-4d5d-b62c-c3bd7a62654d",
       "rows": [
        [
         "24",
         "laser‐basierte synthese und (elektro‐)chemische eigenschaften von nickel‐molybdän‐nanopartikeln",
         "2014-08-28 00:00:00",
         "10.1002/cite.201450239"
        ],
        [
         "40",
         "laserfragmentierung von anorganischen und organischen mikropartikel‐suspensionen zu nanopartikel‐kolloiden",
         "2010-02-22 00:00:00",
         "10.1002/cite.200900099"
        ],
        [
         "59",
         "cover picture: opportunities and challenges for laser synthesis of colloids (chemphyschem 9/2017)",
         "2017-05-05 00:00:00",
         "10.1002/cphc.201700410"
        ],
        [
         "180",
         "near-field-enhanced, off-resonant laser sintering of semiconductor particles for additive manufacturing of dispersed au–zno-micro/nano hybrid structures",
         "2014-02-05 00:00:00",
         "10.1007/s00339-014-8270-1"
        ],
        [
         "202",
         "powder preparation during ball milling and laser additive manufacturing of aluminum matrix nanocomposites: powder properties, processability and mechanical property",
         "2022-08-01 00:00:00",
         "10.1016/j.apt.2022.103687"
        ]
       ],
       "shape": {
        "columns": 3,
        "rows": 5
       }
      },
      "text/html": [
       "<div>\n",
       "<style scoped>\n",
       "    .dataframe tbody tr th:only-of-type {\n",
       "        vertical-align: middle;\n",
       "    }\n",
       "\n",
       "    .dataframe tbody tr th {\n",
       "        vertical-align: top;\n",
       "    }\n",
       "\n",
       "    .dataframe thead th {\n",
       "        text-align: right;\n",
       "    }\n",
       "</style>\n",
       "<table border=\"1\" class=\"dataframe\">\n",
       "  <thead>\n",
       "    <tr style=\"text-align: right;\">\n",
       "      <th></th>\n",
       "      <th>title</th>\n",
       "      <th>publication_date</th>\n",
       "      <th>doi</th>\n",
       "    </tr>\n",
       "  </thead>\n",
       "  <tbody>\n",
       "    <tr>\n",
       "      <th>24</th>\n",
       "      <td>laser‐basierte synthese und (elektro‐)chemisch...</td>\n",
       "      <td>2014-08-28</td>\n",
       "      <td>10.1002/cite.201450239</td>\n",
       "    </tr>\n",
       "    <tr>\n",
       "      <th>40</th>\n",
       "      <td>laserfragmentierung von anorganischen und orga...</td>\n",
       "      <td>2010-02-22</td>\n",
       "      <td>10.1002/cite.200900099</td>\n",
       "    </tr>\n",
       "    <tr>\n",
       "      <th>59</th>\n",
       "      <td>cover picture: opportunities and challenges fo...</td>\n",
       "      <td>2017-05-05</td>\n",
       "      <td>10.1002/cphc.201700410</td>\n",
       "    </tr>\n",
       "    <tr>\n",
       "      <th>180</th>\n",
       "      <td>near-field-enhanced, off-resonant laser sinter...</td>\n",
       "      <td>2014-02-05</td>\n",
       "      <td>10.1007/s00339-014-8270-1</td>\n",
       "    </tr>\n",
       "    <tr>\n",
       "      <th>202</th>\n",
       "      <td>powder preparation during ball milling and las...</td>\n",
       "      <td>2022-08-01</td>\n",
       "      <td>10.1016/j.apt.2022.103687</td>\n",
       "    </tr>\n",
       "  </tbody>\n",
       "</table>\n",
       "</div>"
      ],
      "text/plain": [
       "                                                 title publication_date  \\\n",
       "24   laser‐basierte synthese und (elektro‐)chemisch...       2014-08-28   \n",
       "40   laserfragmentierung von anorganischen und orga...       2010-02-22   \n",
       "59   cover picture: opportunities and challenges fo...       2017-05-05   \n",
       "180  near-field-enhanced, off-resonant laser sinter...       2014-02-05   \n",
       "202  powder preparation during ball milling and las...       2022-08-01   \n",
       "\n",
       "                           doi  \n",
       "24      10.1002/cite.201450239  \n",
       "40      10.1002/cite.200900099  \n",
       "59      10.1002/cphc.201700410  \n",
       "180  10.1007/s00339-014-8270-1  \n",
       "202  10.1016/j.apt.2022.103687  "
      ]
     },
     "execution_count": 156,
     "metadata": {},
     "output_type": "execute_result"
    }
   ],
   "source": [
    "df_non_abl[df_non_abl['title'].str.contains(pattern)][['title', 'publication_date', 'doi']]"
   ]
  }
 ],
 "metadata": {
  "kernelspec": {
   "display_name": "venv",
   "language": "python",
   "name": "python3"
  },
  "language_info": {
   "codemirror_mode": {
    "name": "ipython",
    "version": 3
   },
   "file_extension": ".py",
   "mimetype": "text/x-python",
   "name": "python",
   "nbconvert_exporter": "python",
   "pygments_lexer": "ipython3",
   "version": "3.13.2"
  }
 },
 "nbformat": 4,
 "nbformat_minor": 2
}
