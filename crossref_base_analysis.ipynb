{
 "cells": [
  {
   "cell_type": "code",
   "execution_count": 1,
   "metadata": {},
   "outputs": [],
   "source": [
    "%load_ext autoreload\n",
    "%autoreload 2\n",
    "\n",
    "from artfinder import load_csv\n",
    "import pandas as pd\n",
    "import re\n",
    "import logging\n",
    "from typing import cast\n",
    "\n",
    "logging.basicConfig(level=logging.INFO)"
   ]
  },
  {
   "cell_type": "markdown",
   "metadata": {},
   "source": [
    "Load data"
   ]
  },
  {
   "cell_type": "code",
   "execution_count": 2,
   "metadata": {},
   "outputs": [
    {
     "name": "stdout",
     "output_type": "stream",
     "text": [
      "<class 'pandas.core.frame.DataFrame'>\n",
      "RangeIndex: 251 entries, 0 to 250\n",
      "Data columns (total 21 columns):\n",
      " #   Column                  Non-Null Count  Dtype         \n",
      "---  ------                  --------------  -----         \n",
      " 0   publisher               251 non-null    string        \n",
      " 1   license                 149 non-null    object        \n",
      " 2   is_referenced_by_count  251 non-null    int64         \n",
      " 3   link                    203 non-null    object        \n",
      " 4   authors                 251 non-null    object        \n",
      " 5   abstract                78 non-null     string        \n",
      " 6   title                   251 non-null    string        \n",
      " 7   doi                     251 non-null    string        \n",
      " 8   type                    251 non-null    string        \n",
      " 9   journal                 247 non-null    string        \n",
      " 10  issn                    210 non-null    string        \n",
      " 11  volume                  206 non-null    string        \n",
      " 12  issue                   169 non-null    string        \n",
      " 13  start_page              222 non-null    string        \n",
      " 14  end_page                107 non-null    string        \n",
      " 15  publication_date        250 non-null    datetime64[ns]\n",
      " 16  references              197 non-null    object        \n",
      " 17  ablation                251 non-null    bool          \n",
      " 18  pmcid                   0 non-null      object        \n",
      " 19  pmid                    0 non-null      object        \n",
      " 20  keywords                0 non-null      object        \n",
      "dtypes: bool(1), datetime64[ns](1), int64(1), object(7), string(11)\n",
      "memory usage: 39.6+ KB\n"
     ]
    }
   ],
   "source": [
    "df = load_csv('database/processed/kabashin_full.csv')\n",
    "df.info()"
   ]
  },
  {
   "cell_type": "markdown",
   "metadata": {},
   "source": [
    "Get some information, which can be usefull for filtering data"
   ]
  },
  {
   "cell_type": "code",
   "execution_count": 3,
   "metadata": {},
   "outputs": [
    {
     "data": {
      "text/plain": [
       "<StringArray>\n",
       "['proceedings-article', 'journal-article', 'book-chapter', 'posted-content']\n",
       "Length: 4, dtype: string"
      ]
     },
     "execution_count": 3,
     "metadata": {},
     "output_type": "execute_result"
    }
   ],
   "source": [
    "# Check types of data entries\n",
    "df['type'].unique()"
   ]
  },
  {
   "cell_type": "code",
   "execution_count": 4,
   "metadata": {},
   "outputs": [
    {
     "name": "stdout",
     "output_type": "stream",
     "text": [
      "0\n"
     ]
    }
   ],
   "source": [
    "# Check for duplicates\n",
    "print(df['doi'].duplicated().sum())\n",
    "df.drop_duplicates(subset=['doi'], inplace=True)"
   ]
  },
  {
   "cell_type": "markdown",
   "metadata": {},
   "source": [
    "Actually filter articles"
   ]
  },
  {
   "cell_type": "code",
   "execution_count": 5,
   "metadata": {},
   "outputs": [
    {
     "name": "stdout",
     "output_type": "stream",
     "text": [
      "<class 'pandas.core.frame.DataFrame'>\n",
      "RangeIndex: 145 entries, 0 to 144\n",
      "Data columns (total 21 columns):\n",
      " #   Column                  Non-Null Count  Dtype         \n",
      "---  ------                  --------------  -----         \n",
      " 0   publisher               145 non-null    string        \n",
      " 1   license                 91 non-null     object        \n",
      " 2   is_referenced_by_count  145 non-null    int64         \n",
      " 3   link                    117 non-null    object        \n",
      " 4   authors                 145 non-null    object        \n",
      " 5   abstract                52 non-null     string        \n",
      " 6   title                   145 non-null    string        \n",
      " 7   doi                     145 non-null    string        \n",
      " 8   type                    145 non-null    string        \n",
      " 9   journal                 145 non-null    string        \n",
      " 10  issn                    125 non-null    string        \n",
      " 11  volume                  121 non-null    string        \n",
      " 12  issue                   99 non-null     string        \n",
      " 13  start_page              127 non-null    string        \n",
      " 14  end_page                60 non-null     string        \n",
      " 15  publication_date        145 non-null    datetime64[ns]\n",
      " 16  references              118 non-null    object        \n",
      " 17  ablation                145 non-null    bool          \n",
      " 18  pmcid                   0 non-null      object        \n",
      " 19  pmid                    0 non-null      object        \n",
      " 20  keywords                0 non-null      object        \n",
      "dtypes: bool(1), datetime64[ns](1), int64(1), object(7), string(11)\n",
      "memory usage: 22.9+ KB\n"
     ]
    }
   ],
   "source": [
    "# Ablation articles\n",
    "df_abl = df[df['ablation'] == True]\n",
    "# correct articles types\n",
    "df_abl = df_abl[df_abl['type'].isin(['journal-article', 'proceedings-article'])]\n",
    "# Articles after 1993\n",
    "df_abl = df_abl[df_abl['publication_date'] > '1993']\n",
    "# reindex\n",
    "df_abl.reset_index(drop=True, inplace=True)\n",
    "df_abl.info()\n",
    "df_abl = cast(pd.DataFrame, df_abl)"
   ]
  },
  {
   "cell_type": "markdown",
   "metadata": {},
   "source": [
    "Get distribution of publications by year"
   ]
  },
  {
   "cell_type": "code",
   "execution_count": 6,
   "metadata": {},
   "outputs": [
    {
     "data": {
      "text/plain": [
       "<Axes: title={'center': 'Publications by Year'}, xlabel='Year', ylabel='Count'>"
      ]
     },
     "execution_count": 6,
     "metadata": {},
     "output_type": "execute_result"
    },
    {
     "data": {
      "image/png": "[encoded data removed]",
      "text/plain": [
       "<Figure size 640x480 with 1 Axes>"
      ]
     },
     "metadata": {},
     "output_type": "display_data"
    }
   ],
   "source": [
    "df_cleaned = df_abl.dropna(subset=['publication_date'])\n",
    "df_cleaned.groupby(df_cleaned['publication_date'].dt.year)['doi'].count().plot.bar(xlabel='Year', ylabel='Count', title='Publications by Year')"
   ]
  },
  {
   "cell_type": "markdown",
   "metadata": {},
   "source": [
    "Get statistics on publication types"
   ]
  },
  {
   "cell_type": "code",
   "execution_count": 7,
   "metadata": {},
   "outputs": [
    {
     "data": {
      "text/plain": [
       "<Axes: title={'center': 'Publications by Type'}, xlabel='Type', ylabel='Count'>"
      ]
     },
     "execution_count": 7,
     "metadata": {},
     "output_type": "execute_result"
    },
    {
     "data": {
      "image/png": "[encoded data removed]",
      "text/plain": [
       "<Figure size 640x480 with 1 Axes>"
      ]
     },
     "metadata": {},
     "output_type": "display_data"
    }
   ],
   "source": [
    "df_abl.groupby('type')['doi'].count().plot.bar(xlabel='Type', ylabel='Count', title='Publications by Type')"
   ]
  },
  {
   "cell_type": "markdown",
   "metadata": {},
   "source": [
    "Get basic statistic about words from title"
   ]
  },
  {
   "cell_type": "code",
   "execution_count": 8,
   "metadata": {},
   "outputs": [
    {
     "data": {
      "text/plain": [
       "array(['of', 'for', 'and', 'in', 'a', 'to', 'non', 'si', 'au', 'tin',\n",
       "       'as', 'two', 'the', 'by', 'on', 'air', 'peo', 'wet', 'its', 'via',\n",
       "       'an', 'gas', 'due', nan, 'cis', 'at', 'nps', 'ni', 'bi', 'x',\n",
       "       'ray', 'low', 'sup', '68', 'ga', 'pbs', 'zrn', 'sm', 'fe', 'hfn',\n",
       "       'ir'], dtype=object)"
      ]
     },
     "metadata": {},
     "output_type": "display_data"
    },
    {
     "data": {
      "text/plain": [
       "title\n",
       "laser            104\n",
       "nanoparticles    101\n",
       "ablation          44\n",
       "synthesized       34\n",
       "gold              33\n",
       "synthesis         29\n",
       "applications      27\n",
       "femtosecond       26\n",
       "based             23\n",
       "plasmonic         18\n",
       "Name: count, dtype: int64"
      ]
     },
     "execution_count": 8,
     "metadata": {},
     "output_type": "execute_result"
    }
   ],
   "source": [
    "display((df_abl[df_abl['ablation']]['title'].map(lambda x: re.findall(r'\\b\\w{1,3}\\b', x)).explode().unique()))\n",
    "df_abl[df_abl['ablation']]['title'].map(lambda x: re.findall(r'\\b\\w{4,}\\b', x, flags=re.IGNORECASE)).explode().value_counts().head(10)"
   ]
  },
  {
   "cell_type": "markdown",
   "metadata": {},
   "source": [
    "Check how many articles have *nano* in them and print those, who don't"
   ]
  },
  {
   "cell_type": "code",
   "execution_count": 9,
   "metadata": {},
   "outputs": [
    {
     "name": "stdout",
     "output_type": "stream",
     "text": [
      "Articles with nanp: 138\n"
     ]
    },
    {
     "data": {
      "application/vnd.microsoft.datawrangler.viewer.v0+json": {
       "columns": [
        {
         "name": "index",
         "rawType": "int64",
         "type": "integer"
        },
        {
         "name": "title",
         "rawType": "string",
         "type": "string"
        },
        {
         "name": "abstract",
         "rawType": "string",
         "type": "string"
        }
       ],
       "conversionMethod": "pd.DataFrame",
       "ref": "a2949e3f-b4da-470b-953a-e5ad8f9c23a6",
       "rows": [
        [
         "3",
         "femtosecond laser ablation in aqueous solutions: a novel method to synthesize non-toxic metal colloids with controllable size",
         null
        ],
        [
         "39",
         "processing of metals and semiconductors by a femtosecond laser-based microfabrication system",
         null
        ],
        [
         "42",
         "laser-ablative synthesis and photoheating characterization of tin nps for biomedical applications",
         null
        ],
        [
         "54",
         "laser-ablative synthesis of aggregation-induced enhanced emission luminophore dyes in aqueous solutions",
         null
        ],
        [
         "92",
         "graphene–gold metasurface architectures for ultrasensitive plasmonic biosensing",
         null
        ],
        [
         "108",
         "laser-synthesized oxide-passivated bright si quantum dots for bioimaging",
         "crystalline silicon (si) nanoparticles present an extremely promising object for bioimaging based on photoluminescence (pl) in the visible and near-infrared spectral regions, but their efficient pl emission in aqueous suspension is typically observed after wet chemistry procedures leading to residual toxicity issues. here, we introduce ultrapure laser-synthesized si-based quantum dots (qds), which are water-dispersible and exhibit bright exciton pl in the window of relative tissue transparency near 800 nm. based on the laser ablation of crystalline si targets in gaseous helium, followed by ultrasound-assisted dispersion of the deposited films in physiological saline, the proposed method avoids any toxic by-products during the synthesis. we demonstrate efficient contrast of the si qds in living cells by following the exciton pl. we also show that the prepared qds do not provoke any cytoxicity effects while penetrating into the cells and efficiently accumulating near the cell membrane and in the cytoplasm. combined with the possibility of enabling parallel therapeutic channels, ultrapure laser-synthesized si nanostructures present unique object for cancer theranostic applications."
        ],
        [
         "114",
         "manipulating the optically active defect–defect interaction of colloidal quantum dots for carbon dioxide photoreduction",
         null
        ]
       ],
       "shape": {
        "columns": 2,
        "rows": 7
       }
      },
      "text/html": [
       "<div>\n",
       "<style scoped>\n",
       "    .dataframe tbody tr th:only-of-type {\n",
       "        vertical-align: middle;\n",
       "    }\n",
       "\n",
       "    .dataframe tbody tr th {\n",
       "        vertical-align: top;\n",
       "    }\n",
       "\n",
       "    .dataframe thead th {\n",
       "        text-align: right;\n",
       "    }\n",
       "</style>\n",
       "<table border=\"1\" class=\"dataframe\">\n",
       "  <thead>\n",
       "    <tr style=\"text-align: right;\">\n",
       "      <th></th>\n",
       "      <th>title</th>\n",
       "      <th>abstract</th>\n",
       "    </tr>\n",
       "  </thead>\n",
       "  <tbody>\n",
       "    <tr>\n",
       "      <th>3</th>\n",
       "      <td>femtosecond laser ablation in aqueous solution...</td>\n",
       "      <td>&lt;NA&gt;</td>\n",
       "    </tr>\n",
       "    <tr>\n",
       "      <th>39</th>\n",
       "      <td>processing of metals and semiconductors by a f...</td>\n",
       "      <td>&lt;NA&gt;</td>\n",
       "    </tr>\n",
       "    <tr>\n",
       "      <th>42</th>\n",
       "      <td>laser-ablative synthesis and photoheating char...</td>\n",
       "      <td>&lt;NA&gt;</td>\n",
       "    </tr>\n",
       "    <tr>\n",
       "      <th>54</th>\n",
       "      <td>laser-ablative synthesis of aggregation-induce...</td>\n",
       "      <td>&lt;NA&gt;</td>\n",
       "    </tr>\n",
       "    <tr>\n",
       "      <th>92</th>\n",
       "      <td>graphene–gold metasurface architectures for ul...</td>\n",
       "      <td>&lt;NA&gt;</td>\n",
       "    </tr>\n",
       "    <tr>\n",
       "      <th>108</th>\n",
       "      <td>laser-synthesized oxide-passivated bright si q...</td>\n",
       "      <td>crystalline silicon (si) nanoparticles present...</td>\n",
       "    </tr>\n",
       "    <tr>\n",
       "      <th>114</th>\n",
       "      <td>manipulating the optically active defect–defec...</td>\n",
       "      <td>&lt;NA&gt;</td>\n",
       "    </tr>\n",
       "  </tbody>\n",
       "</table>\n",
       "</div>"
      ],
      "text/plain": [
       "                                                 title  \\\n",
       "3    femtosecond laser ablation in aqueous solution...   \n",
       "39   processing of metals and semiconductors by a f...   \n",
       "42   laser-ablative synthesis and photoheating char...   \n",
       "54   laser-ablative synthesis of aggregation-induce...   \n",
       "92   graphene–gold metasurface architectures for ul...   \n",
       "108  laser-synthesized oxide-passivated bright si q...   \n",
       "114  manipulating the optically active defect–defec...   \n",
       "\n",
       "                                              abstract  \n",
       "3                                                 <NA>  \n",
       "39                                                <NA>  \n",
       "42                                                <NA>  \n",
       "54                                                <NA>  \n",
       "92                                                <NA>  \n",
       "108  crystalline silicon (si) nanoparticles present...  \n",
       "114                                               <NA>  "
      ]
     },
     "execution_count": 9,
     "metadata": {},
     "output_type": "execute_result"
    }
   ],
   "source": [
    "nps = df_abl[df_abl['title'].str.contains(r'\\b\\w*nano\\w*\\b')]\n",
    "print('Articles with nanp:', nps['doi'].count())\n",
    "df_abl[~df_abl['doi'].isin(nps['doi'])][['title', 'abstract']]"
   ]
  },
  {
   "cell_type": "markdown",
   "metadata": {},
   "source": [
    "Check how many articles have *nano* or *laser* in their title and print those, who don't"
   ]
  },
  {
   "cell_type": "code",
   "execution_count": 10,
   "metadata": {},
   "outputs": [
    {
     "name": "stdout",
     "output_type": "stream",
     "text": [
      "Articles with nanp: 143\n"
     ]
    },
    {
     "data": {
      "application/vnd.microsoft.datawrangler.viewer.v0+json": {
       "columns": [
        {
         "name": "index",
         "rawType": "int64",
         "type": "integer"
        },
        {
         "name": "title",
         "rawType": "string",
         "type": "string"
        },
        {
         "name": "abstract",
         "rawType": "string",
         "type": "string"
        }
       ],
       "conversionMethod": "pd.DataFrame",
       "ref": "9f6a570a-5571-4e4d-bc71-e9964db5f882",
       "rows": [
        [
         "92",
         "graphene–gold metasurface architectures for ultrasensitive plasmonic biosensing",
         null
        ],
        [
         "114",
         "manipulating the optically active defect–defect interaction of colloidal quantum dots for carbon dioxide photoreduction",
         null
        ]
       ],
       "shape": {
        "columns": 2,
        "rows": 2
       }
      },
      "text/html": [
       "<div>\n",
       "<style scoped>\n",
       "    .dataframe tbody tr th:only-of-type {\n",
       "        vertical-align: middle;\n",
       "    }\n",
       "\n",
       "    .dataframe tbody tr th {\n",
       "        vertical-align: top;\n",
       "    }\n",
       "\n",
       "    .dataframe thead th {\n",
       "        text-align: right;\n",
       "    }\n",
       "</style>\n",
       "<table border=\"1\" class=\"dataframe\">\n",
       "  <thead>\n",
       "    <tr style=\"text-align: right;\">\n",
       "      <th></th>\n",
       "      <th>title</th>\n",
       "      <th>abstract</th>\n",
       "    </tr>\n",
       "  </thead>\n",
       "  <tbody>\n",
       "    <tr>\n",
       "      <th>92</th>\n",
       "      <td>graphene–gold metasurface architectures for ul...</td>\n",
       "      <td>&lt;NA&gt;</td>\n",
       "    </tr>\n",
       "    <tr>\n",
       "      <th>114</th>\n",
       "      <td>manipulating the optically active defect–defec...</td>\n",
       "      <td>&lt;NA&gt;</td>\n",
       "    </tr>\n",
       "  </tbody>\n",
       "</table>\n",
       "</div>"
      ],
      "text/plain": [
       "                                                 title abstract\n",
       "92   graphene–gold metasurface architectures for ul...     <NA>\n",
       "114  manipulating the optically active defect–defec...     <NA>"
      ]
     },
     "execution_count": 10,
     "metadata": {},
     "output_type": "execute_result"
    }
   ],
   "source": [
    "nps_laser = df_abl[df_abl['title'].str.contains(r'\\b\\w*nano\\w*\\b|\\b\\w*laser\\w*\\b')]\n",
    "print('Articles with nanp:', nps_laser['doi'].count())\n",
    "df_abl[~df_abl['doi'].isin(nps_laser['doi'])][['title', 'abstract']]"
   ]
  },
  {
   "cell_type": "markdown",
   "metadata": {},
   "source": [
    "It seems like good filter cound contain following restrictions:\n",
    "* Publication date > 1993\n",
    "* Publication type *jurnal_article* or *proceedings_article*\n",
    "* Title contains *nano* or *laser*"
   ]
  }
 ],
 "metadata": {
  "kernelspec": {
   "display_name": "venv",
   "language": "python",
   "name": "python3"
  },
  "language_info": {
   "codemirror_mode": {
    "name": "ipython",
    "version": 3
   },
   "file_extension": ".py",
   "mimetype": "text/x-python",
   "name": "python",
   "nbconvert_exporter": "python",
   "pygments_lexer": "ipython3",
   "version": "3.13.2"
  }
 },
 "nbformat": 4,
 "nbformat_minor": 2
}
