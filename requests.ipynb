{
 "cells": [
  {
   "cell_type": "code",
   "execution_count": 1,
   "metadata": {},
   "outputs": [],
   "source": [
    "import requests"
   ]
  },
  {
   "cell_type": "code",
   "execution_count": 3,
   "metadata": {},
   "outputs": [
    {
     "name": "stdout",
     "output_type": "stream",
     "text": [
      "200\n",
      "Basic dXNlcjpwYXNzd2Q=\n",
      "utf-8\n"
     ]
    }
   ],
   "source": [
    "with requests.get(\n",
    "    \"https://pubmed.ncbi.nlm.nih.gov/?linkname=pubmed_pubmed_citedin&from_uid=28444919\",\n",
    "    auth=(\"user\", \"passwd\")\n",
    ") as result:\n",
    "    print(result.status_code)\n",
    "    print(result.request.headers['authorization'])\n",
    "    print(result.encoding)"
   ]
  },
  {
   "cell_type": "code",
   "execution_count": 24,
   "metadata": {},
   "outputs": [
    {
     "name": "stdout",
     "output_type": "stream",
     "text": [
      "200\n"
     ]
    }
   ],
   "source": [
    "with requests.get(\n",
    "    \"https://eutils.ncbi.nlm.nih.gov/entrez/eutils/elink.fcgi\",\n",
    "    params={\"dbfrom\": \"pubmed\", \"id\": \"28444919\", \"linkname\": \"pubmed_pubmed_citedin\", \"retmode\": \"json\"}\n",
    ") as result:\n",
    "    print(result.status_code)"
   ]
  },
  {
   "cell_type": "code",
   "execution_count": 31,
   "metadata": {},
   "outputs": [
    {
     "name": "stdout",
     "output_type": "stream",
     "text": [
      "['36677981', '36132830', '35683727', '35559330', '34443925', '32311172', '31508555', '30242274']\n"
     ]
    }
   ],
   "source": [
    "json_res = result.json()\n",
    "print(json_res['linksets'][0]['linksetdbs'][0]['links'])"
   ]
  },
  {
   "cell_type": "code",
   "execution_count": 23,
   "metadata": {},
   "outputs": [
    {
     "name": "stdout",
     "output_type": "stream",
     "text": [
      "user:passwd\n"
     ]
    }
   ],
   "source": [
    "import base64\n",
    "\n",
    "byte_str = base64.b64decode(result.request.headers['authorization'].split(' ')[1])\n",
    "print(byte_str.decode('utf-8'))"
   ]
  }
 ],
 "metadata": {
  "kernelspec": {
   "display_name": "venv",
   "language": "python",
   "name": "python3"
  },
  "language_info": {
   "codemirror_mode": {
    "name": "ipython",
    "version": 3
   },
   "file_extension": ".py",
   "mimetype": "text/x-python",
   "name": "python",
   "nbconvert_exporter": "python",
   "pygments_lexer": "ipython3",
   "version": "3.13.2"
  }
 },
 "nbformat": 4,
 "nbformat_minor": 2
}
