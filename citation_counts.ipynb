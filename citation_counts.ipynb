{
  "cells": [
    {
      "cell_type": "markdown",
      "metadata": {
        "id": "BpO_8Ve2KQmC"
      },
      "source": [
        "## Retrieving citation counts\n",
        "\n",
        "Here we compare counts citation counts from different Crossref endpoints:\n",
        "\n",
        "1. JSON REST API /works endpoint\n",
        "1. XML API query\n",
        "1. Forward links (members only)\n",
        "1. Admin tool (GUI; members only)\n",
        "1. Event Data [TO ADD]\n",
        "\n",
        "### How do citation counts work?\n",
        "\n",
        "For each DOI, we collect the references made to it. These come from reference lists deposited by members that either already contain the target DOI or have a DOI that was matched by us. \n",
        "\n",
        "The set of DOIs that reference a work is delivered via a number of tools that are collectively Cited-by. Below you can see how to access counts and itemized lists of these citations.\n",
        "\n",
        "\n",
        "### How to run this notebook\n",
        "\n",
        "To get the results:\n",
        "\n",
        "1. Edit the values in 'user input' section.\n",
        "\n",
        "1. Run all of the cells.\n",
        "\n",
        "1. In the section 'admin tool' you'll need to visit Crossref's admin tool page and enter the value it gives you.\n",
        "\n",
        "1. Finally, scroll down to the final summary section. Run these cells again to include the admin tool results.\n",
        "\n",
        "If you are a Crossref member with credentials to deposit metadata and access the forward links API, you will need add your role (the login will use my_email@domain.com/role). Also, create a file called 'credentials.txt' that contains the corresponding password and save it in the same directory as this file.\n",
        "\n",
        "Check dependencies. You will need to have the following installed: requests, json, pandas, urllib, xmltodict. The last of these in non-standard, but there is a cell in the Functions and Libraries section that can be uncommented to install it.\n",
        "\n",
        "### Taking it further\n",
        "\n",
        "In case you want to adapt or rerun a call in a different script, each time an API call is made we output the API call used. this should help you understand how to construct the queries you need.\n",
        "\n",
        "You can find documentation about Cited-by at https://www.crossref.org/documentation/cited-by/, including information about retrieving citations at https://www.crossref.org/documentation/cited-by/retrieve-citations/. \n",
        "\n",
        "### A note on language\n",
        "\n",
        "Here's a section for the pedants that matters in a small number of cases. References and citations aren't quite the same thing but are used interchangeably and we aren't very consistent about their usage.\n",
        "\n",
        "- *A reference* is an item in the bibliography of a work. They are not all necessarily mentioned in the text or they may be mentioned several times.\n",
        "- *A citation* refers to the specific place that a reference is mentioned in a work, i.e. in the text itself. \n",
        "\n",
        "At Crossref, we collect reference lists and output their contents through a service called Cited-by, so you can see already that there are issues with linguistic consistency. We don't define whether reference lists should contain only references or only citations, it's left to the interpretation of the members depositing metadata. This means that it's possible that you will see the same entry several times in a reference list (i.e. one for each citation), or items in the reference list that are not cited in the text. "
      ]
    },
    {
      "cell_type": "markdown",
      "metadata": {},
      "source": [
        "## User input\n",
        "\n",
        "Edit the items in this section. They are used further down the notebook."
      ]
    },
    {
      "cell_type": "code",
      "execution_count": 1,
      "metadata": {
        "id": "L5_OS8HFKQmE"
      },
      "outputs": [],
      "source": [
        "# which DOI would you like to check Cited-by counts for?\n",
        "doi = '10.1002/cphc.201700310'\n",
        "\n",
        "# including your email to make API requests polite and to log in for xml queries\n",
        "my_email = 'test@crossref.org'\n",
        "\n",
        "## To be completed by members to access forward links\n",
        "my_role = 'my_role'"
      ]
    },
    {
      "cell_type": "markdown",
      "metadata": {
        "id": "Bl_dP0v2KQmF"
      },
      "source": [
        "## Functions and libraries"
      ]
    },
    {
      "cell_type": "code",
      "execution_count": null,
      "metadata": {},
      "outputs": [],
      "source": [
        "## Uncomment to install xmltodict if needed\n",
        "# ! pip install xmltodict"
      ]
    },
    {
      "cell_type": "code",
      "execution_count": 3,
      "metadata": {
        "id": "w0vjbFNpKQmH"
      },
      "outputs": [],
      "source": [
        "import requests\n",
        "import json\n",
        "from pandas import DataFrame\n",
        "import urllib.parse\n",
        "from urllib.request import urlopen\n",
        "\n",
        "try:\n",
        "    import xmltodict\n",
        "except ModuleNotFoundError:\n",
        "    raise ModuleNotFoundError('''Install xmltodict before continuing! You can do that by uncommenting the previous cell and running it.''')"
      ]
    },
    {
      "cell_type": "code",
      "execution_count": 4,
      "metadata": {
        "id": "GH9U0ELtKQmI"
      },
      "outputs": [],
      "source": [
        "## functions for handling json APIs\n",
        "\n",
        "def print_my_query(url:str, params:dict) -> None:\n",
        "    ''' print a query for users to take home '''\n",
        "    if params:\n",
        "        # hide passwords!\n",
        "        if 'pwd' in params:\n",
        "            params['pwd'] = '[PASSWORD]'\n",
        "        # put the parameters into a list\n",
        "        params_list = [f\"{key}={str(params[key])}\" for key in params]\n",
        "        # print the query\n",
        "        query_url = f\"{url}?\"+\"&\".join(params_list)\n",
        "    else:\n",
        "        # if there are no parameters, just print the query URL\n",
        "        query_url = url\n",
        "    \n",
        "    print(query_url)\n",
        "\n",
        "\n",
        "def filters_to_params(filters:dict) -> str:\n",
        "    ''' a hack for the /works endpoint, which uses filters and parameters\n",
        "\n",
        "    parameters\n",
        "    ----------\n",
        "    filters:dict\n",
        "        e.g. {'from-updated-date': '2023-12-01'}\n",
        "\n",
        "    returns\n",
        "    -------\n",
        "    str:\n",
        "        e.g. 'from-updated-date:2023-12-01'\n",
        "\n",
        "    '''\n",
        "    param = ''\n",
        "    for f in filters:\n",
        "        if len(param) > 0:\n",
        "            param += ','\n",
        "        param += f + ':' + str(filters[f])\n",
        "    return param\n",
        "\n",
        "\n",
        "def query_json_api(url, params=None, filters = None) -> dict:\n",
        "    ''' query some API, expecting JSON output '''\n",
        "\n",
        "    # handle filters (in particular for the Crossref works endpoint)\n",
        "    if filters:\n",
        "        params['filter'] = filters_to_params(filters)\n",
        "\n",
        "    # make the request\n",
        "    if params:\n",
        "        r = requests.get(url, params=params)\n",
        "    else:\n",
        "        r = requests.get(url)\n",
        "\n",
        "    # print the query used\n",
        "    print_my_query(url, params)\n",
        "\n",
        "    # get json\n",
        "    if r.status_code == 200:\n",
        "        # it all worked as expected, get some json\n",
        "        js = r.json()\n",
        "    else:\n",
        "        # if something went wrong, print the output and return an empty dictionary\n",
        "        print(r.text)\n",
        "        js = {}\n",
        "\n",
        "    return js\n"
      ]
    },
    {
      "cell_type": "code",
      "execution_count": 5,
      "metadata": {},
      "outputs": [],
      "source": [
        "# functions specific to XML APIs\n",
        "def prepared_query(url:str, params=None) -> str:\n",
        "    ''' \n",
        "    Get the query as a string. Similar to print_my_query but doesn't print or hide passwords. \n",
        "    Needed for using urllib instead of requests.\n",
        "        \n",
        "    '''\n",
        "    if params:\n",
        "        # put the parameters into a list\n",
        "        params_list = [f\"{key}={str(urllib.parse.quote(params[key]))}\" for key in params]\n",
        "        suffix = \"&\".join(params_list)\n",
        "        # print the query\n",
        "        query_url = url + '?' + suffix\n",
        "    else:\n",
        "        # if there are no parameters, just print the query URL\n",
        "        query_url = url\n",
        "\n",
        "    return query_url\n",
        "\n",
        "\n",
        "def  load_credentials() -> str:\n",
        "    ''' get a password from a file called credentials.txt '''\n",
        "    with open('credentials.txt', 'r') as f:\n",
        "      return f.readline()\n",
        "    \n",
        "\n",
        "def query_xml_api(url:str, params = None) -> dict:\n",
        "    ''' Query an API expecting an XML response. \n",
        "    Using urllib because requests does weird things with the username and password.    \n",
        "    '''\n",
        "\n",
        "    # get a url to query\n",
        "    query_url = prepared_query(url, params)\n",
        "\n",
        "    # query using urllib\n",
        "    with urlopen(query_url) as response:\n",
        "        body = response.read()\n",
        "\n",
        "    # print the query used\n",
        "    print_my_query(url, params)\n",
        "\n",
        "    # turn the response into a dictionaty\n",
        "    return xmltodict.parse(body)\n"
      ]
    },
    {
      "cell_type": "code",
      "execution_count": 6,
      "metadata": {},
      "outputs": [],
      "source": [
        "# other useful functions\n",
        "\n",
        "def save_to_json(data:dict, fname:str) -> None:\n",
        "    ''' save a dictionary to a json file'''\n",
        "    with open(fname, 'w') as f:\n",
        "        json.dump(data, f, indent=2)\n",
        "\n",
        "def duplicate_check(fl_list:list) -> tuple[list, int]:\n",
        "  ''' check a list of forward links and return only the unique values\n",
        "  \n",
        "  inputs\n",
        "  ------\n",
        "  fl_list: list\n",
        "    a list of forward links from the Crossref XML API\n",
        "\n",
        "  returns\n",
        "  -------\n",
        "\n",
        "  \n",
        "  \n",
        "  '''\n",
        "\n",
        "  # let's check for duplicates\n",
        "  linked_dois = []\n",
        "  for work in fl_list:\n",
        "      # get a key, either 'journal_cite' or 'book_cite', it doesn't matter which\n",
        "      ls = list(work.keys())\n",
        "      ls.remove('@doi')\n",
        "      k = ls[0]\n",
        "\n",
        "      # get the DOI of the citation\n",
        "      linked_dois.append(work[k]['doi']['#text'])\n",
        "\n",
        "  # remove dupliates from the list of citing DOIs\n",
        "  unique_fl_dois = list(set(linked_dois))\n",
        "  fl_unique_count = len(unique_fl_dois)\n",
        "  print(f\"{fl_unique_count} unique DOIs found\")\n",
        "\n",
        "  # for duplicates show how many times they occurred\n",
        "  duplicate_fl_dois = [doi for doi in linked_dois if linked_dois.count(doi) > 1]\n",
        "  duplicate_fl_dois = list(set(duplicate_fl_dois))\n",
        "  print(\"The following DOIs were duplicated in the results:\")\n",
        "  for doi in duplicate_fl_dois:\n",
        "      print (f\"{linked_dois.count(doi)}\\t {doi}\")\n",
        "\n",
        "  return unique_fl_dois, fl_unique_count"
      ]
    },
    {
      "cell_type": "markdown",
      "metadata": {
        "id": "Xh7XskhcKQmJ"
      },
      "source": [
        "## REST API JSON\n",
        "\n",
        "Query the works endpoint of the Crossref API, which returns json, including an is-referenced-by-count field.\n"
      ]
    },
    {
      "cell_type": "code",
      "execution_count": 7,
      "metadata": {
        "id": "EYd-X0CRKQmK"
      },
      "outputs": [
        {
          "name": "stdout",
          "output_type": "stream",
          "text": [
            "https://api.crossref.org/v1/works/10.1002/cphc.201700310?mailto=test@crossref.org\n"
          ]
        }
      ],
      "source": [
        "# url of the Crossref json REST API\n",
        "works_url = 'https://api.crossref.org/v1/works'\n",
        "# query parameters\n",
        "json_params = {'mailto': my_email}\n",
        "# make the query\n",
        "js = query_json_api(works_url + '/' + doi, json_params)"
      ]
    },
    {
      "cell_type": "code",
      "execution_count": 8,
      "metadata": {
        "colab": {
          "base_uri": "https://localhost:8080/"
        },
        "id": "3MZ0EkzDKQmK",
        "outputId": "489bc99f-b151-408d-fbd8-5d4b1760d67e"
      },
      "outputs": [
        {
          "name": "stdout",
          "output_type": "stream",
          "text": [
            "31 references found in the Crossref json REST API\n"
          ]
        }
      ],
      "source": [
        "json_count = js['message']['is-referenced-by-count']\n",
        "print(f\"{json_count} references found in the Crossref json REST API\")"
      ]
    },
    {
      "cell_type": "markdown",
      "metadata": {
        "id": "W9lBHlfaKQmN"
      },
      "source": [
        "## Forward link query\n",
        "\n",
        "Get an itemised list of citing items in XML format. This requires member login credentials, although any member can retrieve results for any other member.\n",
        "\n",
        "We run the query twice: once including posted content and once excluding it."
      ]
    },
    {
      "cell_type": "code",
      "execution_count": 9,
      "metadata": {
        "id": "em7oBuApKQmO"
      },
      "outputs": [
        {
          "ename": "FileNotFoundError",
          "evalue": "[Errno 2] No such file or directory: 'credentials.txt'",
          "output_type": "error",
          "traceback": [
            "\u001b[31m---------------------------------------------------------------------------\u001b[39m",
            "\u001b[31mFileNotFoundError\u001b[39m                         Traceback (most recent call last)",
            "\u001b[36mCell\u001b[39m\u001b[36m \u001b[39m\u001b[32mIn[9]\u001b[39m\u001b[32m, line 7\u001b[39m\n\u001b[32m      2\u001b[39m fl_url = \u001b[33m'\u001b[39m\u001b[33mhttps://doi.crossref.org/servlet/getForwardLinks\u001b[39m\u001b[33m'\u001b[39m\n\u001b[32m      4\u001b[39m \u001b[38;5;66;03m# define the parameters\u001b[39;00m\n\u001b[32m      5\u001b[39m fl_params = {\n\u001b[32m      6\u001b[39m     \u001b[33m'\u001b[39m\u001b[33musr\u001b[39m\u001b[33m'\u001b[39m:\u001b[33mf\u001b[39m\u001b[33m\"\u001b[39m\u001b[38;5;132;01m{\u001b[39;00mmy_email\u001b[38;5;132;01m}\u001b[39;00m\u001b[33m/\u001b[39m\u001b[38;5;132;01m{\u001b[39;00mmy_role\u001b[38;5;132;01m}\u001b[39;00m\u001b[33m\"\u001b[39m,\n\u001b[32m----> \u001b[39m\u001b[32m7\u001b[39m     \u001b[33m'\u001b[39m\u001b[33mpwd\u001b[39m\u001b[33m'\u001b[39m: \u001b[43mload_credentials\u001b[49m\u001b[43m(\u001b[49m\u001b[43m)\u001b[49m,\n\u001b[32m      8\u001b[39m     \u001b[33m'\u001b[39m\u001b[33mdoi\u001b[39m\u001b[33m'\u001b[39m: doi,\n\u001b[32m      9\u001b[39m     \u001b[33m'\u001b[39m\u001b[33minclude_postedcontent\u001b[39m\u001b[33m'\u001b[39m: \u001b[33m'\u001b[39m\u001b[33mfalse\u001b[39m\u001b[33m'\u001b[39m\n\u001b[32m     10\u001b[39m }\n\u001b[32m     11\u001b[39m \u001b[38;5;66;03m# parameters for including posted content\u001b[39;00m\n\u001b[32m     12\u001b[39m fl_params_with_posted_content = fl_params.copy()\n",
            "\u001b[36mCell\u001b[39m\u001b[36m \u001b[39m\u001b[32mIn[5]\u001b[39m\u001b[32m, line 23\u001b[39m, in \u001b[36mload_credentials\u001b[39m\u001b[34m()\u001b[39m\n\u001b[32m     21\u001b[39m \u001b[38;5;28;01mdef\u001b[39;00m\u001b[38;5;250m  \u001b[39m\u001b[34mload_credentials\u001b[39m() -> \u001b[38;5;28mstr\u001b[39m:\n\u001b[32m     22\u001b[39m \u001b[38;5;250m    \u001b[39m\u001b[33;03m''' get a password from a file called credentials.txt '''\u001b[39;00m\n\u001b[32m---> \u001b[39m\u001b[32m23\u001b[39m     \u001b[38;5;28;01mwith\u001b[39;00m \u001b[38;5;28;43mopen\u001b[39;49m\u001b[43m(\u001b[49m\u001b[33;43m'\u001b[39;49m\u001b[33;43mcredentials.txt\u001b[39;49m\u001b[33;43m'\u001b[39;49m\u001b[43m,\u001b[49m\u001b[43m \u001b[49m\u001b[33;43m'\u001b[39;49m\u001b[33;43mr\u001b[39;49m\u001b[33;43m'\u001b[39;49m\u001b[43m)\u001b[49m \u001b[38;5;28;01mas\u001b[39;00m f:\n\u001b[32m     24\u001b[39m       \u001b[38;5;28;01mreturn\u001b[39;00m f.readline()\n",
            "\u001b[36mFile \u001b[39m\u001b[32m~/dev/ablation_db/venv/lib/python3.13/site-packages/IPython/core/interactiveshell.py:325\u001b[39m, in \u001b[36m_modified_open\u001b[39m\u001b[34m(file, *args, **kwargs)\u001b[39m\n\u001b[32m    318\u001b[39m \u001b[38;5;28;01mif\u001b[39;00m file \u001b[38;5;129;01min\u001b[39;00m {\u001b[32m0\u001b[39m, \u001b[32m1\u001b[39m, \u001b[32m2\u001b[39m}:\n\u001b[32m    319\u001b[39m     \u001b[38;5;28;01mraise\u001b[39;00m \u001b[38;5;167;01mValueError\u001b[39;00m(\n\u001b[32m    320\u001b[39m         \u001b[33mf\u001b[39m\u001b[33m\"\u001b[39m\u001b[33mIPython won\u001b[39m\u001b[33m'\u001b[39m\u001b[33mt let you open fd=\u001b[39m\u001b[38;5;132;01m{\u001b[39;00mfile\u001b[38;5;132;01m}\u001b[39;00m\u001b[33m by default \u001b[39m\u001b[33m\"\u001b[39m\n\u001b[32m    321\u001b[39m         \u001b[33m\"\u001b[39m\u001b[33mas it is likely to crash IPython. If you know what you are doing, \u001b[39m\u001b[33m\"\u001b[39m\n\u001b[32m    322\u001b[39m         \u001b[33m\"\u001b[39m\u001b[33myou can use builtins\u001b[39m\u001b[33m'\u001b[39m\u001b[33m open.\u001b[39m\u001b[33m\"\u001b[39m\n\u001b[32m    323\u001b[39m     )\n\u001b[32m--> \u001b[39m\u001b[32m325\u001b[39m \u001b[38;5;28;01mreturn\u001b[39;00m \u001b[43mio_open\u001b[49m\u001b[43m(\u001b[49m\u001b[43mfile\u001b[49m\u001b[43m,\u001b[49m\u001b[43m \u001b[49m\u001b[43m*\u001b[49m\u001b[43margs\u001b[49m\u001b[43m,\u001b[49m\u001b[43m \u001b[49m\u001b[43m*\u001b[49m\u001b[43m*\u001b[49m\u001b[43mkwargs\u001b[49m\u001b[43m)\u001b[49m\n",
            "\u001b[31mFileNotFoundError\u001b[39m: [Errno 2] No such file or directory: 'credentials.txt'"
          ]
        }
      ],
      "source": [
        "# forward link query URL\n",
        "fl_url = 'https://doi.crossref.org/servlet/getForwardLinks'\n",
        "\n",
        "# define the parameters\n",
        "fl_params = {\n",
        "    'usr':f\"{my_email}/{my_role}\",\n",
        "    'pwd': load_credentials(),\n",
        "    'doi': doi,\n",
        "    'include_postedcontent': 'false'\n",
        "}\n",
        "# parameters for including posted content\n",
        "fl_params_with_posted_content = fl_params.copy()\n",
        "fl_params_with_posted_content['include_postedcontent'] = 'true'\n",
        "\n",
        "# get results without posted content\n",
        "fl_xml = query_xml_api(fl_url, fl_params)\n",
        "\n",
        "# get results with posted content\n",
        "fl_xml_with_posted_content = query_xml_api(fl_url, fl_params_with_posted_content)\n",
        "\n",
        "# delete the password as we don't need it any more\n",
        "del fl_params['pwd']\n"
      ]
    },
    {
      "cell_type": "code",
      "execution_count": 10,
      "metadata": {
        "colab": {
          "base_uri": "https://localhost:8080/"
        },
        "id": "4iL_oxtUKQmP",
        "outputId": "98cf46be-2128-486f-897c-4c2648e12e06"
      },
      "outputs": [
        {
          "ename": "NameError",
          "evalue": "name 'fl_xml' is not defined",
          "output_type": "error",
          "traceback": [
            "\u001b[31m---------------------------------------------------------------------------\u001b[39m",
            "\u001b[31mNameError\u001b[39m                                 Traceback (most recent call last)",
            "\u001b[36mCell\u001b[39m\u001b[36m \u001b[39m\u001b[32mIn[10]\u001b[39m\u001b[32m, line 3\u001b[39m\n\u001b[32m      1\u001b[39m \u001b[38;5;66;03m# get the list of citations\u001b[39;00m\n\u001b[32m      2\u001b[39m \u001b[38;5;28;01mtry\u001b[39;00m:\n\u001b[32m----> \u001b[39m\u001b[32m3\u001b[39m   fl_list = \u001b[43mfl_xml\u001b[49m[\u001b[33m'\u001b[39m\u001b[33mcrossref_result\u001b[39m\u001b[33m'\u001b[39m][\u001b[33m'\u001b[39m\u001b[33mquery_result\u001b[39m\u001b[33m'\u001b[39m][\u001b[33m'\u001b[39m\u001b[33mbody\u001b[39m\u001b[33m'\u001b[39m][\u001b[33m'\u001b[39m\u001b[33mforward_link\u001b[39m\u001b[33m'\u001b[39m]\n\u001b[32m      4\u001b[39m \u001b[38;5;28;01mexcept\u001b[39;00m \u001b[38;5;167;01mTypeError\u001b[39;00m:\n\u001b[32m      5\u001b[39m   \u001b[38;5;66;03m# if there are no entries, 'body' is Null, let's handle that\u001b[39;00m\n\u001b[32m      6\u001b[39m   fl_list = []\n",
            "\u001b[31mNameError\u001b[39m: name 'fl_xml' is not defined"
          ]
        }
      ],
      "source": [
        "# get the list of citations\n",
        "try:\n",
        "  fl_list = fl_xml['crossref_result']['query_result']['body']['forward_link']\n",
        "except TypeError:\n",
        "  # if there are no entries, 'body' is Null, let's handle that\n",
        "  fl_list = []\n",
        "fl_count = len(fl_list)\n",
        "\n",
        "# if there's only one entry it comes back as a dict, not a list. Let's fix that\n",
        "if type(fl_list) == dict:\n",
        "  fl_list = [fl_list]\n",
        "\n",
        "print(f\"{fl_count} forward links found\")"
      ]
    },
    {
      "cell_type": "code",
      "execution_count": null,
      "metadata": {
        "colab": {
          "base_uri": "https://localhost:8080/"
        },
        "id": "eFHnYNzo0ZAL",
        "outputId": "7ac35b0a-2dd4-4281-8bc4-ec1fe2cb7d94"
      },
      "outputs": [],
      "source": [
        "# get the list of citations (including posted content)\n",
        "try:\n",
        "  fl_list_pc = fl_xml_with_posted_content['crossref_result']['query_result']['body']['forward_link']\n",
        "except TypeError:\n",
        "  # if there are no entries, 'body' is Null, let's handle that\n",
        "  fl_list_pc = []\n",
        "fl_count_with_posted_content = len(fl_list_pc)\n",
        "\n",
        "# if there's only one entry it comes back as a dict, not a list. Let's fix that\n",
        "if type(fl_list_pc) == dict:\n",
        "  fl_list_pc = [fl_list_pc]\n",
        "\n",
        "print(f\"{fl_count_with_posted_content} forward links found\")"
      ]
    },
    {
      "cell_type": "code",
      "execution_count": null,
      "metadata": {
        "colab": {
          "base_uri": "https://localhost:8080/"
        },
        "id": "g_duDYn61cZj",
        "outputId": "3198d104-cdcc-45e9-b5f9-60a6d195614e"
      },
      "outputs": [],
      "source": [
        "# check for duplicates\n",
        "print('Without posted content:')\n",
        "unique_fl_dois, fl_unique_count = duplicate_check(fl_list)\n",
        "\n",
        "print('\\nWith posted content:')\n",
        "unique_fl_dois_with_pc, fl_with_pc_unique_count = duplicate_check(fl_list_pc)"
      ]
    },
    {
      "cell_type": "code",
      "execution_count": null,
      "metadata": {
        "id": "xnAtT7t2KQmQ"
      },
      "outputs": [],
      "source": [
        "# option to save the results\n",
        "save_to_json(fl_xml, 'forward links.json')"
      ]
    },
    {
      "cell_type": "markdown",
      "metadata": {
        "id": "5T86gPgkKQmR"
      },
      "source": [
        "## XML API\n",
        "\n",
        "Get metadata about the DOI in XML format, which includes a citedby-count value as part of the crm-items."
      ]
    },
    {
      "cell_type": "code",
      "execution_count": null,
      "metadata": {
        "colab": {
          "base_uri": "https://localhost:8080/",
          "height": 211
        },
        "id": "9Ml9_Y3wKQmR",
        "outputId": "137ffb2a-38e3-4f30-84de-956ce57a3e29"
      },
      "outputs": [],
      "source": [
        "xml_url = 'https://doi.crossref.org/search/doi'\n",
        "\n",
        "xml_params = {\n",
        "    'pid': my_email,\n",
        "    'format': 'unixsd',\n",
        "    'doi': doi\n",
        "}\n",
        "\n",
        "xml = query_xml_api(xml_url, params = xml_params)"
      ]
    },
    {
      "cell_type": "code",
      "execution_count": null,
      "metadata": {
        "id": "WWKadDfWKQmS"
      },
      "outputs": [],
      "source": [
        "save_to_json(xml, 'xml query results.json')"
      ]
    },
    {
      "cell_type": "code",
      "execution_count": null,
      "metadata": {
        "colab": {
          "base_uri": "https://localhost:8080/"
        },
        "id": "Btm8iSCYKQmS",
        "outputId": "b93fcd56-756e-41f4-a576-48512fdddbf9"
      },
      "outputs": [],
      "source": [
        "crm_items = xml['crossref_result']['query_result']['body']['query']['crm-item']\n",
        "count = [item['#text'] for item in crm_items if item['@name']=='citedby-count']\n",
        "xml_count = count[0]\n",
        "\n",
        "print(f\"{xml_count} citations found in the Crossref XML API\")"
      ]
    },
    {
      "cell_type": "markdown",
      "metadata": {},
      "source": [
        "## Event Data\n",
        "\n",
        "Crossref Event Data gathers citations contained in reference lists through a source called 'crossref'. Note that the service is not at production level: data may be missing and there may be timeouts. In addition, references prior to October 2022 are unlikely to be included. "
      ]
    },
    {
      "cell_type": "code",
      "execution_count": null,
      "metadata": {},
      "outputs": [],
      "source": [
        "event_data_url = 'https://api.eventdata.crossref.org/v1/events'\n",
        "\n",
        "event_data_params ={\n",
        "    'mailto': my_email,\n",
        "    'source': 'crossref',\n",
        "    'obj-id': doi\n",
        "}\n",
        "\n",
        "events = query_json_api(event_data_url, event_data_params)\n",
        "events_count = len(events['message']['events'])\n",
        "\n",
        "save_to_json(events, 'event data.json')\n",
        "\n",
        "print(f\"{events_count} references found in Event Data\")"
      ]
    },
    {
      "cell_type": "markdown",
      "metadata": {
        "id": "n_NAyKbLNxOe"
      },
      "source": [
        "## Admin tool\n",
        "\n",
        "Go to https://doi.crossref.org/servlet/submissionAdmin?sf=citedByLinks and put in the DOI (run the next cell to display it again).\n",
        "\n",
        "Then, two cells below, add the number returned as the value of 'admin_count' and execute the cell."
      ]
    },
    {
      "cell_type": "code",
      "execution_count": null,
      "metadata": {
        "colab": {
          "base_uri": "https://localhost:8080/",
          "height": 35
        },
        "id": "hKuA5LZtNxdq",
        "outputId": "7c246c69-9263-45cf-ef96-fe00dfb1e017"
      },
      "outputs": [],
      "source": [
        "doi"
      ]
    },
    {
      "cell_type": "code",
      "execution_count": null,
      "metadata": {
        "id": "7QDUb7rWOD_a"
      },
      "outputs": [],
      "source": [
        "admin_count = -1"
      ]
    },
    {
      "cell_type": "markdown",
      "metadata": {
        "id": "L6D9iKvjKQmU"
      },
      "source": [
        "## Summary\n",
        "\n",
        "Use Pandas to give a nicely formatted summary table."
      ]
    },
    {
      "cell_type": "code",
      "execution_count": null,
      "metadata": {
        "id": "ifUK5hzCKQmU"
      },
      "outputs": [],
      "source": [
        "counts = {\n",
        "    'json api': json_count,\n",
        "    'forward links': fl_count,\n",
        "    'unique forward links': fl_unique_count,\n",
        "    'unique forward links with posted content': fl_with_pc_unique_count,\n",
        "    'xml api': xml_count,\n",
        "    'admin tool': admin_count,\n",
        "    'events': events_count\n",
        "}"
      ]
    },
    {
      "cell_type": "code",
      "execution_count": null,
      "metadata": {
        "colab": {
          "base_uri": "https://localhost:8080/",
          "height": 81
        },
        "id": "zPJoxFyEKQmU",
        "outputId": "ab668279-6110-40a8-e643-cfe8076102bf"
      },
      "outputs": [],
      "source": [
        "counts_ps = DataFrame([counts], index=[doi])\n",
        "counts_ps"
      ]
    },
    {
      "cell_type": "code",
      "execution_count": null,
      "metadata": {
        "id": "0zXj2FVCKQmV"
      },
      "outputs": [],
      "source": []
    }
  ],
  "metadata": {
    "colab": {
      "provenance": [],
      "toc_visible": true
    },
    "kernelspec": {
      "display_name": "venv",
      "language": "python",
      "name": "python3"
    },
    "language_info": {
      "codemirror_mode": {
        "name": "ipython",
        "version": 3
      },
      "file_extension": ".py",
      "mimetype": "text/x-python",
      "name": "python",
      "nbconvert_exporter": "python",
      "pygments_lexer": "ipython3",
      "version": "3.13.2"
    }
  },
  "nbformat": 4,
  "nbformat_minor": 0
}
