{
 "cells": [
  {
   "cell_type": "code",
   "execution_count": 7,
   "id": "84e7de48",
   "metadata": {},
   "outputs": [
    {
     "name": "stdout",
     "output_type": "stream",
     "text": [
      "The autoreload extension is already loaded. To reload it, use:\n",
      "  %reload_ext autoreload\n"
     ]
    },
    {
     "data": {},
     "metadata": {},
     "output_type": "display_data"
    },
    {
     "data": {},
     "metadata": {},
     "output_type": "display_data"
    }
   ],
   "source": [
    "%load_ext autoreload\n",
    "%autoreload 2\n",
    "\n",
    "import logging\n",
    "import logging.config\n",
    "\n",
    "import artfinder\n",
    "import pandas as pd\n",
    "\n",
    "from artfinder.article import load_csv\n",
    "from artfinder.crossref import CrossrefFilterValidator\n",
    "\n",
    "cr = artfinder.Crossref()\n",
    "af = artfinder.ArtFinder()\n"
   ]
  },
  {
   "cell_type": "code",
   "execution_count": 2,
   "id": "1e45b071",
   "metadata": {},
   "outputs": [
    {
     "name": "stdout",
     "output_type": "stream",
     "text": [
      "Fetched 1 items.\n",
      "Fetched https://api.crossref.org/works\n"
     ]
    },
    {
     "data": {
      "text/plain": [
       "'alumina reduction by laser ablation using a continuous-wave co2 laser toward aluminum energy cycle'"
      ]
     },
     "execution_count": 2,
     "metadata": {},
     "output_type": "execute_result"
    }
   ],
   "source": [
    "af.find_article(title='laser ablation copper co2 reduction').title"
   ]
  },
  {
   "cell_type": "code",
   "execution_count": 7,
   "id": "e843fa5e",
   "metadata": {},
   "outputs": [
    {
     "name": "stdout",
     "output_type": "stream",
     "text": [
      "Found 216 items.\n",
      "Fetched https://api.crossref.org/works\n"
     ]
    },
    {
     "data": {
      "text/plain": [
       "216"
      ]
     },
     "execution_count": 7,
     "metadata": {},
     "output_type": "execute_result"
    }
   ],
   "source": [
    "af.isearch('TiN nanoparticles', author='popov', pub_since='2018')"
   ]
  },
  {
   "cell_type": "code",
   "execution_count": 8,
   "id": "f369c533",
   "metadata": {},
   "outputs": [
    {
     "data": {},
     "metadata": {},
     "output_type": "display_data"
    },
    {
     "data": {},
     "metadata": {},
     "output_type": "display_data"
    },
    {
     "data": {},
     "metadata": {},
     "output_type": "display_data"
    },
    {
     "data": {},
     "metadata": {},
     "output_type": "display_data"
    },
    {
     "data": {
      "text/plain": [
       "'Found 79 items.'"
      ]
     },
     "metadata": {},
     "output_type": "display_data"
    },
    {
     "data": {
      "text/plain": [
       "''"
      ]
     },
     "metadata": {},
     "output_type": "display_data"
    },
    {
     "data": {
      "text/plain": [
       "''"
      ]
     },
     "metadata": {},
     "output_type": "display_data"
    },
    {
     "name": "stdout",
     "output_type": "stream",
     "text": [
      "<class 'pandas.core.frame.DataFrame'>\n",
      "RangeIndex: 79 entries, 0 to 78\n",
      "Data columns (total 20 columns):\n",
      " #   Column                  Non-Null Count  Dtype         \n",
      "---  ------                  --------------  -----         \n",
      " 0   title                   79 non-null     string        \n",
      " 1   authors                 79 non-null     object        \n",
      " 2   journal                 79 non-null     string        \n",
      " 3   publication_date        79 non-null     datetime64[ns]\n",
      " 4   link                    63 non-null     object        \n",
      " 5   doi                     79 non-null     string        \n",
      " 6   type                    79 non-null     string        \n",
      " 7   keywords                0 non-null      object        \n",
      " 8   is_referenced_by_count  79 non-null     int64         \n",
      " 9   abstract                39 non-null     string        \n",
      " 10  publisher               79 non-null     string        \n",
      " 11  issn                    64 non-null     string        \n",
      " 12  volume                  63 non-null     string        \n",
      " 13  issue                   57 non-null     string        \n",
      " 14  start_page              68 non-null     string        \n",
      " 15  end_page                23 non-null     string        \n",
      " 16  references              67 non-null     object        \n",
      " 17  pmid                    0 non-null      object        \n",
      " 18  pmcid                   0 non-null      object        \n",
      " 19  license                 59 non-null     object        \n",
      "dtypes: datetime64[ns](1), int64(1), object(7), string(11)\n",
      "memory usage: 12.5+ KB\n"
     ]
    }
   ],
   "source": [
    "df = af.search('TiN nanoparticles', author='kabashin', pub_since='2018', max_results=None)\n",
    "df.info()"
   ]
  },
  {
   "cell_type": "code",
   "execution_count": 9,
   "id": "a5516d7f",
   "metadata": {},
   "outputs": [
    {
     "data": {},
     "metadata": {},
     "output_type": "display_data"
    },
    {
     "data": {
      "text/plain": [
       "''"
      ]
     },
     "metadata": {},
     "output_type": "display_data"
    }
   ],
   "source": [
    "new_obj = af.get_refs(df[:2])"
   ]
  },
  {
   "cell_type": "code",
   "execution_count": 30,
   "id": "13a36039",
   "metadata": {},
   "outputs": [
    {
     "ename": "TypeError",
     "evalue": "'NoneType' object is not subscriptable",
     "output_type": "error",
     "traceback": [
      "\u001b[31m---------------------------------------------------------------------------\u001b[39m",
      "\u001b[31mTypeError\u001b[39m                                 Traceback (most recent call last)",
      "\u001b[36mCell\u001b[39m\u001b[36m \u001b[39m\u001b[32mIn[30]\u001b[39m\u001b[32m, line 1\u001b[39m\n\u001b[32m----> \u001b[39m\u001b[32m1\u001b[39m \u001b[43mnew_obj\u001b[49m\u001b[43m[\u001b[49m\u001b[32;43m0\u001b[39;49m\u001b[43m]\u001b[49m\n",
      "\u001b[31mTypeError\u001b[39m: 'NoneType' object is not subscriptable"
     ]
    }
   ],
   "source": [
    "new_obj[0]"
   ]
  }
 ],
 "metadata": {
  "kernelspec": {
   "display_name": "Python 3 (ipykernel)",
   "language": "python",
   "name": "python3"
  },
  "language_info": {
   "codemirror_mode": {
    "name": "ipython",
    "version": 3
   },
   "file_extension": ".py",
   "mimetype": "text/x-python",
   "name": "python",
   "nbconvert_exporter": "python",
   "pygments_lexer": "ipython3",
   "version": "3.13.3"
  }
 },
 "nbformat": 4,
 "nbformat_minor": 5
}
