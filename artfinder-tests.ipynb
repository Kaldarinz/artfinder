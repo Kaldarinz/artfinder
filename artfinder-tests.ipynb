{
 "cells": [
  {
   "cell_type": "code",
   "execution_count": 7,
   "id": "84e7de48",
   "metadata": {},
   "outputs": [
    {
     "name": "stdout",
     "output_type": "stream",
     "text": [
      "The autoreload extension is already loaded. To reload it, use:\n",
      "  %reload_ext autoreload\n"
     ]
    },
    {
     "data": {},
     "metadata": {},
     "output_type": "display_data"
    }
   ],
   "source": [
    "%load_ext autoreload\n",
    "%autoreload 2\n",
    "\n",
    "import logging\n",
    "import logging.config\n",
    "\n",
    "import artfinder\n",
    "import pandas as pd\n",
    "\n",
    "from artfinder.article import load_csv\n",
    "from artfinder.crossref import CrossrefFilterValidator\n",
    "\n",
    "cr = artfinder.Crossref()\n",
    "af = artfinder.ArtFinder()\n"
   ]
  },
  {
   "cell_type": "code",
   "execution_count": null,
   "id": "1e45b071",
   "metadata": {},
   "outputs": [],
   "source": [
    "af.find_article(title='laser ablation copper co2 reduction')"
   ]
  },
  {
   "cell_type": "code",
   "execution_count": 15,
   "id": "e843fa5e",
   "metadata": {},
   "outputs": [
    {
     "data": {},
     "metadata": {},
     "output_type": "display_data"
    },
    {
     "data": {},
     "metadata": {},
     "output_type": "display_data"
    },
    {
     "data": {},
     "metadata": {},
     "output_type": "display_data"
    },
    {
     "data": {},
     "metadata": {},
     "output_type": "display_data"
    },
    {
     "data": {},
     "metadata": {},
     "output_type": "display_data"
    },
    {
     "data": {
      "text/plain": [
       "'Found 216 items.'"
      ]
     },
     "metadata": {},
     "output_type": "display_data"
    },
    {
     "data": {
      "text/plain": [
       "'Fetching completed.'"
      ]
     },
     "metadata": {},
     "output_type": "display_data"
    },
    {
     "data": {
      "text/plain": [
       "216"
      ]
     },
     "execution_count": 15,
     "metadata": {},
     "output_type": "execute_result"
    }
   ],
   "source": [
    "af.isearch('TiN nanoparticles', author='popov', pub_since='2018')"
   ]
  },
  {
   "cell_type": "code",
   "execution_count": 2,
   "id": "f369c533",
   "metadata": {},
   "outputs": [
    {
     "data": {},
     "metadata": {},
     "output_type": "display_data"
    },
    {
     "data": {},
     "metadata": {},
     "output_type": "display_data"
    },
    {
     "data": {},
     "metadata": {},
     "output_type": "display_data"
    },
    {
     "data": {},
     "metadata": {},
     "output_type": "display_data"
    },
    {
     "data": {},
     "metadata": {},
     "output_type": "display_data"
    },
    {
     "data": {
      "text/plain": [
       "'Found 79 items.'"
      ]
     },
     "metadata": {},
     "output_type": "display_data"
    },
    {
     "data": {},
     "metadata": {},
     "output_type": "display_data"
    },
    {
     "data": {
      "text/plain": [
       "'Fetching completed.'"
      ]
     },
     "metadata": {},
     "output_type": "display_data"
    },
    {
     "name": "stdout",
     "output_type": "stream",
     "text": [
      "<class 'pandas.core.frame.DataFrame'>\n",
      "RangeIndex: 79 entries, 0 to 78\n",
      "Data columns (total 20 columns):\n",
      " #   Column                  Non-Null Count  Dtype         \n",
      "---  ------                  --------------  -----         \n",
      " 0   title                   79 non-null     string        \n",
      " 1   authors                 79 non-null     object        \n",
      " 2   journal                 79 non-null     string        \n",
      " 3   publication_date        79 non-null     datetime64[ns]\n",
      " 4   link                    63 non-null     object        \n",
      " 5   doi                     79 non-null     string        \n",
      " 6   type                    79 non-null     string        \n",
      " 7   keywords                0 non-null      object        \n",
      " 8   is_referenced_by_count  79 non-null     int64         \n",
      " 9   abstract                39 non-null     string        \n",
      " 10  publisher               79 non-null     string        \n",
      " 11  issn                    64 non-null     string        \n",
      " 12  volume                  63 non-null     string        \n",
      " 13  issue                   57 non-null     string        \n",
      " 14  start_page              68 non-null     string        \n",
      " 15  end_page                23 non-null     string        \n",
      " 16  references              67 non-null     object        \n",
      " 17  pmid                    0 non-null      object        \n",
      " 18  pmcid                   0 non-null      object        \n",
      " 19  license                 59 non-null     object        \n",
      "dtypes: datetime64[ns](1), int64(1), object(7), string(11)\n",
      "memory usage: 12.5+ KB\n"
     ]
    }
   ],
   "source": [
    "df = af.search('TiN nanoparticles', author='kabashin', pub_since='2018', max_results=None)\n",
    "df.info()"
   ]
  },
  {
   "cell_type": "code",
   "execution_count": 8,
   "id": "a5516d7f",
   "metadata": {},
   "outputs": [
    {
     "name": "stdout",
     "output_type": "stream",
     "text": [
      "36 links. 17 downloaded. 2 restricted. 1 missing. 2 failed. 14 remaining.\n",
      "bi‐modal nonlinear optical contrast from si nanoparticles for cancer theranostics.pdf: Access denied. HTTP status: 403\n",
      "in vivo evaluation of safety, biodistribution and pharmacokinetics of laser-synthesized gold nanoparticles.pdf: File downloaded: /home/anton/dev/study/ablation_db/pdfs/in vivo evaluation of safety, biodistribution and pharmacokinetics of laser-synthesized gold nanoparticles.pdf\n",
      "laser-ablative aqueous synthesis and characterization of elemental boron nanoparticles for biomedical applications.pdf: Downloading: 13.78% (352.0/2554.4 kb)\n",
      "tungsten disulfide nanoparticles produced by femtosecond laser ablation in water for nanophotonic applications.pdf: File downloaded: /home/anton/dev/study/ablation_db/pdfs/tungsten disulfide nanoparticles produced by femtosecond laser ablation in water for nanophotonic applications.pdf\n",
      "biocompatibility of bare nanoparticles based on silicon and gold for nervous cells.pdf: File not found. HTTP status: 404\n",
      "\n"
     ]
    },
    {
     "name": "stderr",
     "output_type": "stream",
     "text": [
      "Exception in thread Thread-10 (get_func):\n",
      "Traceback (most recent call last):\n",
      "  File \u001b[35m\"/usr/lib/python3.13/threading.py\"\u001b[0m, line \u001b[35m1041\u001b[0m, in \u001b[35m_bootstrap_inner\u001b[0m\n",
      "    \u001b[31mself.run\u001b[0m\u001b[1;31m()\u001b[0m\n",
      "    \u001b[31m~~~~~~~~\u001b[0m\u001b[1;31m^^\u001b[0m\n",
      "  File \u001b[35m\"/home/anton/dev/study/ablation_db/venv/lib/python3.13/site-packages/ipykernel/ipkernel.py\"\u001b[0m, line \u001b[35m766\u001b[0m, in \u001b[35mrun_closure\u001b[0m\n",
      "    \u001b[31m_threading_Thread_run\u001b[0m\u001b[1;31m(self)\u001b[0m\n",
      "    \u001b[31m~~~~~~~~~~~~~~~~~~~~~\u001b[0m\u001b[1;31m^^^^^^\u001b[0m\n",
      "  File \u001b[35m\"/usr/lib/python3.13/threading.py\"\u001b[0m, line \u001b[35m992\u001b[0m, in \u001b[35mrun\u001b[0m\n",
      "    \u001b[31mself._target\u001b[0m\u001b[1;31m(*self._args, **self._kwargs)\u001b[0m\n",
      "    \u001b[31m~~~~~~~~~~~~\u001b[0m\u001b[1;31m^^^^^^^^^^^^^^^^^^^^^^^^^^^^^\u001b[0m\n",
      "  File \u001b[35m\"/home/anton/dev/study/ablation_db/artfinder/http_requests.py\"\u001b[0m, line \u001b[35m643\u001b[0m, in \u001b[35mget_func\u001b[0m\n",
      "    result = asyncio.run(func(*args, **kwargs))\n",
      "  File \u001b[35m\"/usr/lib/python3.13/asyncio/runners.py\"\u001b[0m, line \u001b[35m195\u001b[0m, in \u001b[35mrun\u001b[0m\n",
      "    return \u001b[31mrunner.run\u001b[0m\u001b[1;31m(main)\u001b[0m\n",
      "           \u001b[31m~~~~~~~~~~\u001b[0m\u001b[1;31m^^^^^^\u001b[0m\n",
      "  File \u001b[35m\"/usr/lib/python3.13/asyncio/runners.py\"\u001b[0m, line \u001b[35m118\u001b[0m, in \u001b[35mrun\u001b[0m\n",
      "    return \u001b[31mself._loop.run_until_complete\u001b[0m\u001b[1;31m(task)\u001b[0m\n",
      "           \u001b[31m~~~~~~~~~~~~~~~~~~~~~~~~~~~~~\u001b[0m\u001b[1;31m^^^^^^\u001b[0m\n",
      "  File \u001b[35m\"/usr/lib/python3.13/asyncio/base_events.py\"\u001b[0m, line \u001b[35m719\u001b[0m, in \u001b[35mrun_until_complete\u001b[0m\n",
      "    return \u001b[31mfuture.result\u001b[0m\u001b[1;31m()\u001b[0m\n",
      "           \u001b[31m~~~~~~~~~~~~~\u001b[0m\u001b[1;31m^^\u001b[0m\n",
      "  File \u001b[35m\"/home/anton/dev/study/ablation_db/artfinder/http_requests.py\"\u001b[0m, line \u001b[35m459\u001b[0m, in \u001b[35m_download_files\u001b[0m\n",
      "    await asyncio.gather(*tasks)\n",
      "  File \u001b[35m\"/home/anton/dev/study/ablation_db/artfinder/http_requests.py\"\u001b[0m, line \u001b[35m496\u001b[0m, in \u001b[35mdownload_file\u001b[0m\n",
      "    with \u001b[31mself.printer.get_line\u001b[0m\u001b[1;31m()\u001b[0m as progress_line:\n",
      "         \u001b[31m~~~~~~~~~~~~~~~~~~~~~\u001b[0m\u001b[1;31m^^\u001b[0m\n",
      "  File \u001b[35m\"/home/anton/dev/study/ablation_db/artfinder/helpers.py\"\u001b[0m, line \u001b[35m693\u001b[0m, in \u001b[35m__exit__\u001b[0m\n",
      "    raise exc_value\n",
      "  File \u001b[35m\"/home/anton/dev/study/ablation_db/artfinder/http_requests.py\"\u001b[0m, line \u001b[35m504\u001b[0m, in \u001b[35mdownload_file\u001b[0m\n",
      "    with \u001b[31mopen\u001b[0m\u001b[1;31m(save_path, \"wb\")\u001b[0m as f:\n",
      "         \u001b[31m~~~~\u001b[0m\u001b[1;31m^^^^^^^^^^^^^^^^^\u001b[0m\n",
      "\u001b[1;35mFileNotFoundError\u001b[0m: \u001b[35m[Errno 2] No such file or directory: '/home/anton/dev/study/ablation_db/pdfs/nanoparticles based on mil-101 metal-organic frameworks as efficient carriers of therapeutic <sup>188</sup>re radionuclide for nuclear medicine.pdf'\u001b[0m\n"
     ]
    },
    {
     "ename": "KeyboardInterrupt",
     "evalue": "",
     "output_type": "error",
     "traceback": [
      "\u001b[31m---------------------------------------------------------------------------\u001b[39m",
      "\u001b[31mKeyboardInterrupt\u001b[39m                         Traceback (most recent call last)",
      "\u001b[36mCell\u001b[39m\u001b[36m \u001b[39m\u001b[32mIn[8]\u001b[39m\u001b[32m, line 1\u001b[39m\n\u001b[32m----> \u001b[39m\u001b[32m1\u001b[39m \u001b[43maf\u001b[49m\u001b[43m.\u001b[49m\u001b[43mdownload_pdf\u001b[49m\u001b[43m(\u001b[49m\u001b[43mdf\u001b[49m\u001b[43m)\u001b[49m\n",
      "\u001b[36mFile \u001b[39m\u001b[32m<string>:35\u001b[39m, in \u001b[36mdownload_pdf\u001b[39m\u001b[34m(self, articles, path, name, max_connections)\u001b[39m\n",
      "\u001b[36mFile \u001b[39m\u001b[32m<string>:6\u001b[39m, in \u001b[36mdownload_files\u001b[39m\u001b[34m(self)\u001b[39m\n",
      "\u001b[36mFile \u001b[39m\u001b[32m~/dev/study/ablation_db/artfinder/http_requests.py:649\u001b[39m, in \u001b[36m_execute_coro\u001b[39m\u001b[34m(func, *args, **kwargs)\u001b[39m\n\u001b[32m    647\u001b[39m thread.start()\n\u001b[32m    648\u001b[39m thread.join()\n\u001b[32m--> \u001b[39m\u001b[32m649\u001b[39m \u001b[38;5;28;01mreturn\u001b[39;00m \u001b[43mresult_queue\u001b[49m\u001b[43m.\u001b[49m\u001b[43mget\u001b[49m\u001b[43m(\u001b[49m\u001b[43m)\u001b[49m\n",
      "\u001b[36mFile \u001b[39m\u001b[32m/usr/lib/python3.13/queue.py:202\u001b[39m, in \u001b[36mQueue.get\u001b[39m\u001b[34m(self, block, timeout)\u001b[39m\n\u001b[32m    200\u001b[39m \u001b[38;5;28;01melif\u001b[39;00m timeout \u001b[38;5;129;01mis\u001b[39;00m \u001b[38;5;28;01mNone\u001b[39;00m:\n\u001b[32m    201\u001b[39m     \u001b[38;5;28;01mwhile\u001b[39;00m \u001b[38;5;129;01mnot\u001b[39;00m \u001b[38;5;28mself\u001b[39m._qsize():\n\u001b[32m--> \u001b[39m\u001b[32m202\u001b[39m         \u001b[38;5;28;43mself\u001b[39;49m\u001b[43m.\u001b[49m\u001b[43mnot_empty\u001b[49m\u001b[43m.\u001b[49m\u001b[43mwait\u001b[49m\u001b[43m(\u001b[49m\u001b[43m)\u001b[49m\n\u001b[32m    203\u001b[39m         \u001b[38;5;28;01mif\u001b[39;00m \u001b[38;5;28mself\u001b[39m.is_shutdown \u001b[38;5;129;01mand\u001b[39;00m \u001b[38;5;129;01mnot\u001b[39;00m \u001b[38;5;28mself\u001b[39m._qsize():\n\u001b[32m    204\u001b[39m             \u001b[38;5;28;01mraise\u001b[39;00m ShutDown\n",
      "\u001b[36mFile \u001b[39m\u001b[32m/usr/lib/python3.13/threading.py:359\u001b[39m, in \u001b[36mCondition.wait\u001b[39m\u001b[34m(self, timeout)\u001b[39m\n\u001b[32m    357\u001b[39m \u001b[38;5;28;01mtry\u001b[39;00m:    \u001b[38;5;66;03m# restore state no matter what (e.g., KeyboardInterrupt)\u001b[39;00m\n\u001b[32m    358\u001b[39m     \u001b[38;5;28;01mif\u001b[39;00m timeout \u001b[38;5;129;01mis\u001b[39;00m \u001b[38;5;28;01mNone\u001b[39;00m:\n\u001b[32m--> \u001b[39m\u001b[32m359\u001b[39m         \u001b[43mwaiter\u001b[49m\u001b[43m.\u001b[49m\u001b[43macquire\u001b[49m\u001b[43m(\u001b[49m\u001b[43m)\u001b[49m\n\u001b[32m    360\u001b[39m         gotit = \u001b[38;5;28;01mTrue\u001b[39;00m\n\u001b[32m    361\u001b[39m     \u001b[38;5;28;01melse\u001b[39;00m:\n",
      "\u001b[31mKeyboardInterrupt\u001b[39m: "
     ]
    }
   ],
   "source": [
    "af.download_pdf(df)"
   ]
  }
 ],
 "metadata": {
  "kernelspec": {
   "display_name": "venv",
   "language": "python",
   "name": "python3"
  },
  "language_info": {
   "codemirror_mode": {
    "name": "ipython",
    "version": 3
   },
   "file_extension": ".py",
   "mimetype": "text/x-python",
   "name": "python",
   "nbconvert_exporter": "python",
   "pygments_lexer": "ipython3",
   "version": "3.13.3"
  }
 },
 "nbformat": 4,
 "nbformat_minor": 5
}
