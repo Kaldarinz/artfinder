{
 "cells": [
  {
   "cell_type": "code",
   "execution_count": 1,
   "metadata": {},
   "outputs": [],
   "source": [
    "%load_ext autoreload\n",
    "%autoreload 2\n",
    "\n",
    "from crossref.restful import Works, Journals\n",
    "from artfinder import CrossrefArticle, Crossref\n",
    "import pandas as pd\n",
    "import datetime\n",
    "import re\n",
    "import logging\n",
    "\n",
    "logging.basicConfig(level=logging.INFO)"
   ]
  },
  {
   "cell_type": "markdown",
   "metadata": {},
   "source": [
    "Make a search query and construct pandas dataframe with results"
   ]
  },
  {
   "cell_type": "code",
   "execution_count": 2,
   "metadata": {},
   "outputs": [
    {
     "name": "stderr",
     "output_type": "stream",
     "text": [
      "INFO:crossref.restful:GET request to https://api.crossref.org/works, data={'query.author': 'Kabashin', 'cursor': '*', 'rows': 100}, headers={'user-agent': 'artfinder/undefined (undefined; mailto:aapopov1@mephi.ru) BasedOn: CrossrefAPI/1.6.0'}\n"
     ]
    },
    {
     "name": "stderr",
     "output_type": "stream",
     "text": [
      "INFO:crossref.restful:Sleep for 0.02 seconds\n",
      "INFO:crossref.restful:GET request to https://api.crossref.org/works, data={'query.author': 'Kabashin', 'cursor': 'DnF1ZXJ5VGhlbkZldGNoBgAAAAAwCIZtFmJnOVJRVU1xUzlLa2ZpTkltazIzencAAAAAMlWnOxZPY3FES3VMU1R5R3JIWHlwQUZBcktnAAAAADGU5YoWUnBjZWFMRGtRSEtfOUZieGxBaklIUQAAAAAyr8p3Fjc3VnRybUJuUTJlZzI5LUZWOGtVbWcAAAAAD3i50xZpcXRGT3lZOVQ1bUFtcEdTS2xJUTRRAAAAADRe9JsWY2hqVHNHWVVRYkdqcWtJNUJXbkk4Zw==', 'rows': 100}, headers={'user-agent': 'artfinder/undefined (undefined; mailto:aapopov1@mephi.ru) BasedOn: CrossrefAPI/1.6.0'}\n",
      "INFO:crossref.restful:Sleep for 0.02 seconds\n",
      "INFO:crossref.restful:GET request to https://api.crossref.org/works, data={'query.author': 'Kabashin', 'cursor': 'DnF1ZXJ5VGhlbkZldGNoBgAAAAAwCIZtFmJnOVJRVU1xUzlLa2ZpTkltazIzencAAAAAMlWnOxZPY3FES3VMU1R5R3JIWHlwQUZBcktnAAAAADGU5YoWUnBjZWFMRGtRSEtfOUZieGxBaklIUQAAAAAyr8p3Fjc3VnRybUJuUTJlZzI5LUZWOGtVbWcAAAAAD3i50xZpcXRGT3lZOVQ1bUFtcEdTS2xJUTRRAAAAADRe9JsWY2hqVHNHWVVRYkdqcWtJNUJXbkk4Zw==', 'rows': 100}, headers={'user-agent': 'artfinder/undefined (undefined; mailto:aapopov1@mephi.ru) BasedOn: CrossrefAPI/1.6.0'}\n",
      "INFO:crossref.restful:Sleep for 0.02 seconds\n",
      "INFO:crossref.restful:GET request to https://api.crossref.org/works, data={'query.author': 'Kabashin', 'cursor': 'DnF1ZXJ5VGhlbkZldGNoBgAAAAAwCIZtFmJnOVJRVU1xUzlLa2ZpTkltazIzencAAAAAMlWnOxZPY3FES3VMU1R5R3JIWHlwQUZBcktnAAAAADGU5YoWUnBjZWFMRGtRSEtfOUZieGxBaklIUQAAAAAyr8p3Fjc3VnRybUJuUTJlZzI5LUZWOGtVbWcAAAAAD3i50xZpcXRGT3lZOVQ1bUFtcEdTS2xJUTRRAAAAADRe9JsWY2hqVHNHWVVRYkdqcWtJNUJXbkk4Zw==', 'rows': 100}, headers={'user-agent': 'artfinder/undefined (undefined; mailto:aapopov1@mephi.ru) BasedOn: CrossrefAPI/1.6.0'}\n",
      "INFO:crossref.restful:Sleep for 0.02 seconds\n"
     ]
    },
    {
     "name": "stdout",
     "output_type": "stream",
     "text": [
      "<class 'pandas.core.frame.DataFrame'>\n",
      "RangeIndex: 251 entries, 0 to 250\n",
      "Data columns (total 17 columns):\n",
      " #   Column                  Non-Null Count  Dtype         \n",
      "---  ------                  --------------  -----         \n",
      " 0   publisher               251 non-null    string        \n",
      " 1   license                 149 non-null    object        \n",
      " 2   is_referenced_by_count  251 non-null    int64         \n",
      " 3   link                    203 non-null    object        \n",
      " 4   authors                 251 non-null    object        \n",
      " 5   abstract                78 non-null     string        \n",
      " 6   title                   251 non-null    string        \n",
      " 7   doi                     251 non-null    string        \n",
      " 8   type                    251 non-null    string        \n",
      " 9   journal                 247 non-null    string        \n",
      " 10  issn                    210 non-null    string        \n",
      " 11  volume                  206 non-null    string        \n",
      " 12  issue                   169 non-null    string        \n",
      " 13  start_page              222 non-null    string        \n",
      " 14  end_page                107 non-null    string        \n",
      " 15  publication_date        250 non-null    datetime64[ns]\n",
      " 16  references              197 non-null    object        \n",
      "dtypes: datetime64[ns](1), int64(1), object(4), string(11)\n",
      "memory usage: 33.5+ KB\n"
     ]
    }
   ],
   "source": [
    "crosref = Crossref(app='artfinder', email='aapopov1@mephi.ru')\n",
    "df = crosref.query(author='Kabashin').get_df()\n",
    "df.info()"
   ]
  },
  {
   "cell_type": "markdown",
   "metadata": {},
   "source": [
    "Save data"
   ]
  },
  {
   "cell_type": "code",
   "execution_count": null,
   "metadata": {},
   "outputs": [],
   "source": [
    "path_to_save = ''\n",
    "df.to_csv(path_to_save, index=False)"
   ]
  }
 ],
 "metadata": {
  "kernelspec": {
   "display_name": "venv",
   "language": "python",
   "name": "python3"
  },
  "language_info": {
   "codemirror_mode": {
    "name": "ipython",
    "version": 3
   },
   "file_extension": ".py",
   "mimetype": "text/x-python",
   "name": "python",
   "nbconvert_exporter": "python",
   "pygments_lexer": "ipython3",
   "version": "3.13.2"
  }
 },
 "nbformat": 4,
 "nbformat_minor": 2
}
