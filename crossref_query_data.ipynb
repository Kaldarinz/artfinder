{
 "cells": [
  {
   "cell_type": "code",
   "execution_count": 50,
   "metadata": {},
   "outputs": [
    {
     "name": "stdout",
     "output_type": "stream",
     "text": [
      "The autoreload extension is already loaded. To reload it, use:\n",
      "  %reload_ext autoreload\n"
     ]
    }
   ],
   "source": [
    "%load_ext autoreload\n",
    "%autoreload 2\n",
    "\n",
    "from artfinder import CrossrefArticle, Crossref\n",
    "from crossref.restful import Works\n",
    "import pandas as pd\n",
    "import datetime\n",
    "import re\n",
    "import logging\n",
    "\n",
    "logging.basicConfig(level=logging.INFO)"
   ]
  },
  {
   "cell_type": "markdown",
   "metadata": {},
   "source": [
    "Make a search query and construct pandas dataframe with results\n",
    "* Valid fields for query are in Crossref.FIELDS_QUERY\n",
    "* Valid fields for filter are in Crossref.FILTER_VALIDATOR\n",
    "* Specifying the same filter several times results in OR semantics, while specifying different filters results in AND semantics\n",
    "* [RESP-API documentation](https://github.com/CrossRef/rest-api-doc?tab=readme-ov-file#queries)\n",
    "\n"
   ]
  },
  {
   "cell_type": "code",
   "execution_count": 51,
   "metadata": {},
   "outputs": [
    {
     "name": "stderr",
     "output_type": "stream",
     "text": [
      "INFO:crossref.restful:GET request to https://api.crossref.org/works, data={'query.author': 'Barcikowski', 'filter': 'from-pub-date:1993,type:proceedings-article,type:journal-article', 'cursor': '*', 'rows': 100}, headers={'user-agent': 'artfinder/undefined (undefined; mailto:aapopov1@mephi.ru) BasedOn: CrossrefAPI/1.6.0'}\n"
     ]
    },
    {
     "name": "stderr",
     "output_type": "stream",
     "text": [
      "INFO:crossref.restful:Sleep for 0.02 seconds\n",
      "INFO:crossref.restful:GET request to https://api.crossref.org/works, data={'query.author': 'Barcikowski', 'filter': 'from-pub-date:1993,type:proceedings-article,type:journal-article', 'cursor': 'DnF1ZXJ5VGhlbkZldGNoBgAAAAAHhflEFi10RWc3ay1xUzB1LXA4djZWbEdpQ1EAAAAAE3AWCBZWX2tkV3YyWVFVcV9hOFZHWGN4cURnAAAAADMpzKEWTUpsaGN0RGFRbS1yN0ZYWTJ3MG5pUQAAAAAysi22Fjc3VnRybUJuUTJlZzI5LUZWOGtVbWcAAAAAHznOwhZwMUUtd3VRM1RzU3RxcXpMUVg3MFZBAAAAADRhZWIWY2hqVHNHWVVRYkdqcWtJNUJXbkk4Zw==', 'rows': 100}, headers={'user-agent': 'artfinder/undefined (undefined; mailto:aapopov1@mephi.ru) BasedOn: CrossrefAPI/1.6.0'}\n",
      "INFO:crossref.restful:Sleep for 0.02 seconds\n",
      "INFO:crossref.restful:GET request to https://api.crossref.org/works, data={'query.author': 'Barcikowski', 'filter': 'from-pub-date:1993,type:proceedings-article,type:journal-article', 'cursor': 'DnF1ZXJ5VGhlbkZldGNoBgAAAAAHhflEFi10RWc3ay1xUzB1LXA4djZWbEdpQ1EAAAAAE3AWCBZWX2tkV3YyWVFVcV9hOFZHWGN4cURnAAAAADMpzKEWTUpsaGN0RGFRbS1yN0ZYWTJ3MG5pUQAAAAAysi22Fjc3VnRybUJuUTJlZzI5LUZWOGtVbWcAAAAAHznOwhZwMUUtd3VRM1RzU3RxcXpMUVg3MFZBAAAAADRhZWIWY2hqVHNHWVVRYkdqcWtJNUJXbkk4Zw==', 'rows': 100}, headers={'user-agent': 'artfinder/undefined (undefined; mailto:aapopov1@mephi.ru) BasedOn: CrossrefAPI/1.6.0'}\n",
      "INFO:crossref.restful:Sleep for 0.02 seconds\n",
      "INFO:crossref.restful:GET request to https://api.crossref.org/works, data={'query.author': 'Barcikowski', 'filter': 'from-pub-date:1993,type:proceedings-article,type:journal-article', 'cursor': 'DnF1ZXJ5VGhlbkZldGNoBgAAAAAHhflEFi10RWc3ay1xUzB1LXA4djZWbEdpQ1EAAAAAE3AWCBZWX2tkV3YyWVFVcV9hOFZHWGN4cURnAAAAADMpzKEWTUpsaGN0RGFRbS1yN0ZYWTJ3MG5pUQAAAAAysi22Fjc3VnRybUJuUTJlZzI5LUZWOGtVbWcAAAAAHznOwhZwMUUtd3VRM1RzU3RxcXpMUVg3MFZBAAAAADRhZWIWY2hqVHNHWVVRYkdqcWtJNUJXbkk4Zw==', 'rows': 100}, headers={'user-agent': 'artfinder/undefined (undefined; mailto:aapopov1@mephi.ru) BasedOn: CrossrefAPI/1.6.0'}\n",
      "INFO:crossref.restful:Sleep for 0.02 seconds\n",
      "INFO:crossref.restful:GET request to https://api.crossref.org/works, data={'query.author': 'Barcikowski', 'filter': 'from-pub-date:1993,type:proceedings-article,type:journal-article', 'cursor': 'DnF1ZXJ5VGhlbkZldGNoBgAAAAAHhflEFi10RWc3ay1xUzB1LXA4djZWbEdpQ1EAAAAAE3AWCBZWX2tkV3YyWVFVcV9hOFZHWGN4cURnAAAAADMpzKEWTUpsaGN0RGFRbS1yN0ZYWTJ3MG5pUQAAAAAysi22Fjc3VnRybUJuUTJlZzI5LUZWOGtVbWcAAAAAHznOwhZwMUUtd3VRM1RzU3RxcXpMUVg3MFZBAAAAADRhZWIWY2hqVHNHWVVRYkdqcWtJNUJXbkk4Zw==', 'rows': 100}, headers={'user-agent': 'artfinder/undefined (undefined; mailto:aapopov1@mephi.ru) BasedOn: CrossrefAPI/1.6.0'}\n",
      "INFO:crossref.restful:Sleep for 0.02 seconds\n",
      "INFO:crossref.restful:GET request to https://api.crossref.org/works, data={'query.author': 'Barcikowski', 'filter': 'from-pub-date:1993,type:proceedings-article,type:journal-article', 'cursor': 'DnF1ZXJ5VGhlbkZldGNoBgAAAAAHhflEFi10RWc3ay1xUzB1LXA4djZWbEdpQ1EAAAAAE3AWCBZWX2tkV3YyWVFVcV9hOFZHWGN4cURnAAAAADMpzKEWTUpsaGN0RGFRbS1yN0ZYWTJ3MG5pUQAAAAAysi22Fjc3VnRybUJuUTJlZzI5LUZWOGtVbWcAAAAAHznOwhZwMUUtd3VRM1RzU3RxcXpMUVg3MFZBAAAAADRhZWIWY2hqVHNHWVVRYkdqcWtJNUJXbkk4Zw==', 'rows': 100}, headers={'user-agent': 'artfinder/undefined (undefined; mailto:aapopov1@mephi.ru) BasedOn: CrossrefAPI/1.6.0'}\n",
      "INFO:crossref.restful:Sleep for 0.02 seconds\n",
      "INFO:crossref.restful:GET request to https://api.crossref.org/works, data={'query.author': 'Barcikowski', 'filter': 'from-pub-date:1993,type:proceedings-article,type:journal-article', 'cursor': 'DnF1ZXJ5VGhlbkZldGNoBgAAAAAHhflEFi10RWc3ay1xUzB1LXA4djZWbEdpQ1EAAAAAE3AWCBZWX2tkV3YyWVFVcV9hOFZHWGN4cURnAAAAADMpzKEWTUpsaGN0RGFRbS1yN0ZYWTJ3MG5pUQAAAAAysi22Fjc3VnRybUJuUTJlZzI5LUZWOGtVbWcAAAAAHznOwhZwMUUtd3VRM1RzU3RxcXpMUVg3MFZBAAAAADRhZWIWY2hqVHNHWVVRYkdqcWtJNUJXbkk4Zw==', 'rows': 100}, headers={'user-agent': 'artfinder/undefined (undefined; mailto:aapopov1@mephi.ru) BasedOn: CrossrefAPI/1.6.0'}\n",
      "INFO:crossref.restful:Sleep for 0.02 seconds\n"
     ]
    },
    {
     "name": "stdout",
     "output_type": "stream",
     "text": [
      "<class 'pandas.core.frame.DataFrame'>\n",
      "RangeIndex: 548 entries, 0 to 547\n",
      "Data columns (total 17 columns):\n",
      " #   Column                  Non-Null Count  Dtype         \n",
      "---  ------                  --------------  -----         \n",
      " 0   publisher               548 non-null    string        \n",
      " 1   license                 348 non-null    object        \n",
      " 2   is_referenced_by_count  548 non-null    object        \n",
      " 3   link                    486 non-null    object        \n",
      " 4   authors                 548 non-null    object        \n",
      " 5   abstract                184 non-null    string        \n",
      " 6   title                   548 non-null    string        \n",
      " 7   doi                     548 non-null    string        \n",
      " 8   type                    548 non-null    string        \n",
      " 9   journal                 548 non-null    string        \n",
      " 10  issn                    491 non-null    string        \n",
      " 11  volume                  480 non-null    string        \n",
      " 12  issue                   369 non-null    string        \n",
      " 13  start_page              456 non-null    string        \n",
      " 14  end_page                318 non-null    string        \n",
      " 15  publication_date        548 non-null    datetime64[ns]\n",
      " 16  references              446 non-null    object        \n",
      "dtypes: datetime64[ns](1), object(5), string(11)\n",
      "memory usage: 72.9+ KB\n"
     ]
    }
   ],
   "source": [
    "crosref = Crossref(app='artfinder', email='aapopov1@mephi.ru')\n",
    "df = crosref.query(author='Barcikowski').filter(from_pub_date='1993', type=['proceedings-article', 'journal-article']).get_df()\n",
    "df.info()"
   ]
  },
  {
   "cell_type": "code",
   "execution_count": 52,
   "metadata": {},
   "outputs": [
    {
     "data": {
      "text/plain": [
       "<StringArray>\n",
       "['journal-article', 'proceedings-article']\n",
       "Length: 2, dtype: string"
      ]
     },
     "execution_count": 52,
     "metadata": {},
     "output_type": "execute_result"
    }
   ],
   "source": [
    "df['type'].unique()"
   ]
  },
  {
   "cell_type": "markdown",
   "metadata": {},
   "source": [
    "Save for marking data"
   ]
  },
  {
   "cell_type": "code",
   "execution_count": null,
   "metadata": {},
   "outputs": [],
   "source": [
    "path_for_processing = ''\n",
    "df[['title', 'abstract', 'doi']].to_excel(path_for_processing, index=False)"
   ]
  },
  {
   "cell_type": "markdown",
   "metadata": {},
   "source": [
    "Save data"
   ]
  },
  {
   "cell_type": "code",
   "execution_count": 55,
   "metadata": {},
   "outputs": [],
   "source": [
    "path_to_save = 'database/barcikowski.csv'\n",
    "df.to_csv(path_to_save, index=False)"
   ]
  }
 ],
 "metadata": {
  "kernelspec": {
   "display_name": "venv",
   "language": "python",
   "name": "python3"
  },
  "language_info": {
   "codemirror_mode": {
    "name": "ipython",
    "version": 3
   },
   "file_extension": ".py",
   "mimetype": "text/x-python",
   "name": "python",
   "nbconvert_exporter": "python",
   "pygments_lexer": "ipython3",
   "version": "3.13.2"
  }
 },
 "nbformat": 4,
 "nbformat_minor": 2
}
