{
 "cells": [
  {
   "cell_type": "markdown",
   "metadata": {},
   "source": [
    "# Basic querying of articles\n",
    "\n",
    "1. Query articles\n",
    "2. Store them in Pandas DataFreame. Some dataprocessing is actually made at this step. It includes:\n",
    "   1. Convert *authors*, *titles*, *abstract*, *journal* and *publisher* strings to lowercase.\n",
    "   2. Convert *publication_date* to correct datetime format.\n",
    "   3. Convert, which are actualli strings to pandas string format.\n",
    "   4. All other datatypes are set to correct python datatypes.\n",
    "3. Save to to *.csv* file.\n",
    "4. Optionally save to *.xlsx* for manual marking."
   ]
  },
  {
   "cell_type": "code",
   "execution_count": null,
   "metadata": {},
   "outputs": [],
   "source": [
    "%load_ext autoreload\n",
    "%autoreload 2\n",
    "\n",
    "from artfinder import Crossref\n",
    "import logging\n",
    "import os\n",
    "\n",
    "logging.basicConfig(level=logging.INFO)\n",
    "\n",
    "crosref = Crossref(app='artfinder', email='aapopov1@mephi.ru')"
   ]
  },
  {
   "cell_type": "markdown",
   "metadata": {},
   "source": [
    "## Make a search query and construct pandas dataframe with results\n",
    "* Valid fields for query are in Crossref.FIELDS_QUERY\n",
    "* Valid fields for filter are in Crossref.FILTER_VALIDATOR\n",
    "* Specifying the same filter several times results in OR semantics, while specifying different filters results in AND semantics\n",
    "* [RESP-API documentation](https://github.com/CrossRef/rest-api-doc?tab=readme-ov-file#queries)\n",
    "\n"
   ]
  },
  {
   "cell_type": "code",
   "execution_count": 2,
   "metadata": {},
   "outputs": [
    {
     "name": "stderr",
     "output_type": "stream",
     "text": [
      "DEBUG:crossref.restful:Request URL: https://api.crossref.org/works\n",
      "DEBUG:urllib3.connectionpool:Starting new HTTPS connection (1): api.crossref.org:443\n"
     ]
    },
    {
     "name": "stderr",
     "output_type": "stream",
     "text": [
      "DEBUG:urllib3.connectionpool:https://api.crossref.org:443 \"GET /works?query.author=Barcikowski&filter=from-pub-date%3A1993%2Ctype%3Aproceedings-article%2Ctype%3Ajournal-article&cursor=%2A&rows=100 HTTP/1.1\" 200 None\n",
      "DEBUG:urllib3.connectionpool:Starting new HTTPS connection (1): api.crossref.org:443\n",
      "DEBUG:urllib3.connectionpool:https://api.crossref.org:443 \"GET /works?query.author=Barcikowski&filter=from-pub-date%3A1993%2Ctype%3Aproceedings-article%2Ctype%3Ajournal-article&cursor=DnF1ZXJ5VGhlbkZldGNoBgAAAAAwY8h2FmJnOVJRVU1xUzlLa2ZpTkltazIzencAAAAAE8594hZWX2tkV3YyWVFVcV9hOFZHWGN4cURnAAAAADHzY9IWUnBjZWFMRGtRSEtfOUZieGxBaklIUQAAAAAuagrwFmZPZjNDVWhLUnh1RDFtUWM4WFIzUHcAAAAAD9P7ZBZpcXRGT3lZOVQ1bUFtcEdTS2xJUTRRAAAAABGAnIYWZjkwZGpsbmpTUG10QXVtRFhYcXlaUQ%3D%3D&rows=100 HTTP/1.1\" 200 None\n",
      "DEBUG:urllib3.connectionpool:Starting new HTTPS connection (1): api.crossref.org:443\n",
      "DEBUG:urllib3.connectionpool:https://api.crossref.org:443 \"GET /works?query.author=Barcikowski&filter=from-pub-date%3A1993%2Ctype%3Aproceedings-article%2Ctype%3Ajournal-article&cursor=DnF1ZXJ5VGhlbkZldGNoBgAAAAAwY8h2FmJnOVJRVU1xUzlLa2ZpTkltazIzencAAAAAE8594hZWX2tkV3YyWVFVcV9hOFZHWGN4cURnAAAAADHzY9IWUnBjZWFMRGtRSEtfOUZieGxBaklIUQAAAAAuagrwFmZPZjNDVWhLUnh1RDFtUWM4WFIzUHcAAAAAD9P7ZBZpcXRGT3lZOVQ1bUFtcEdTS2xJUTRRAAAAABGAnIYWZjkwZGpsbmpTUG10QXVtRFhYcXlaUQ%3D%3D&rows=100 HTTP/1.1\" 200 None\n",
      "DEBUG:urllib3.connectionpool:Starting new HTTPS connection (1): api.crossref.org:443\n",
      "DEBUG:urllib3.connectionpool:https://api.crossref.org:443 \"GET /works?query.author=Barcikowski&filter=from-pub-date%3A1993%2Ctype%3Aproceedings-article%2Ctype%3Ajournal-article&cursor=DnF1ZXJ5VGhlbkZldGNoBgAAAAAwY8h2FmJnOVJRVU1xUzlLa2ZpTkltazIzencAAAAAE8594hZWX2tkV3YyWVFVcV9hOFZHWGN4cURnAAAAADHzY9IWUnBjZWFMRGtRSEtfOUZieGxBaklIUQAAAAAuagrwFmZPZjNDVWhLUnh1RDFtUWM4WFIzUHcAAAAAD9P7ZBZpcXRGT3lZOVQ1bUFtcEdTS2xJUTRRAAAAABGAnIYWZjkwZGpsbmpTUG10QXVtRFhYcXlaUQ%3D%3D&rows=100 HTTP/1.1\" 200 None\n",
      "DEBUG:urllib3.connectionpool:Starting new HTTPS connection (1): api.crossref.org:443\n",
      "DEBUG:urllib3.connectionpool:https://api.crossref.org:443 \"GET /works?query.author=Barcikowski&filter=from-pub-date%3A1993%2Ctype%3Aproceedings-article%2Ctype%3Ajournal-article&cursor=DnF1ZXJ5VGhlbkZldGNoBgAAAAAwY8h2FmJnOVJRVU1xUzlLa2ZpTkltazIzencAAAAAE8594hZWX2tkV3YyWVFVcV9hOFZHWGN4cURnAAAAADHzY9IWUnBjZWFMRGtRSEtfOUZieGxBaklIUQAAAAAuagrwFmZPZjNDVWhLUnh1RDFtUWM4WFIzUHcAAAAAD9P7ZBZpcXRGT3lZOVQ1bUFtcEdTS2xJUTRRAAAAABGAnIYWZjkwZGpsbmpTUG10QXVtRFhYcXlaUQ%3D%3D&rows=100 HTTP/1.1\" 200 None\n",
      "DEBUG:urllib3.connectionpool:Starting new HTTPS connection (1): api.crossref.org:443\n",
      "DEBUG:urllib3.connectionpool:https://api.crossref.org:443 \"GET /works?query.author=Barcikowski&filter=from-pub-date%3A1993%2Ctype%3Aproceedings-article%2Ctype%3Ajournal-article&cursor=DnF1ZXJ5VGhlbkZldGNoBgAAAAAwY8h2FmJnOVJRVU1xUzlLa2ZpTkltazIzencAAAAAE8594hZWX2tkV3YyWVFVcV9hOFZHWGN4cURnAAAAADHzY9IWUnBjZWFMRGtRSEtfOUZieGxBaklIUQAAAAAuagrwFmZPZjNDVWhLUnh1RDFtUWM4WFIzUHcAAAAAD9P7ZBZpcXRGT3lZOVQ1bUFtcEdTS2xJUTRRAAAAABGAnIYWZjkwZGpsbmpTUG10QXVtRFhYcXlaUQ%3D%3D&rows=100 HTTP/1.1\" 200 None\n",
      "DEBUG:urllib3.connectionpool:Starting new HTTPS connection (1): api.crossref.org:443\n",
      "DEBUG:urllib3.connectionpool:https://api.crossref.org:443 \"GET /works?query.author=Barcikowski&filter=from-pub-date%3A1993%2Ctype%3Aproceedings-article%2Ctype%3Ajournal-article&cursor=DnF1ZXJ5VGhlbkZldGNoBgAAAAAwY8h2FmJnOVJRVU1xUzlLa2ZpTkltazIzencAAAAAE8594hZWX2tkV3YyWVFVcV9hOFZHWGN4cURnAAAAADHzY9IWUnBjZWFMRGtRSEtfOUZieGxBaklIUQAAAAAuagrwFmZPZjNDVWhLUnh1RDFtUWM4WFIzUHcAAAAAD9P7ZBZpcXRGT3lZOVQ1bUFtcEdTS2xJUTRRAAAAABGAnIYWZjkwZGpsbmpTUG10QXVtRFhYcXlaUQ%3D%3D&rows=100 HTTP/1.1\" 200 None\n"
     ]
    },
    {
     "name": "stdout",
     "output_type": "stream",
     "text": [
      "<class 'pandas.core.frame.DataFrame'>\n",
      "RangeIndex: 549 entries, 0 to 548\n",
      "Data columns (total 17 columns):\n",
      " #   Column                  Non-Null Count  Dtype         \n",
      "---  ------                  --------------  -----         \n",
      " 0   publisher               549 non-null    string        \n",
      " 1   license                 349 non-null    object        \n",
      " 2   is_referenced_by_count  549 non-null    object        \n",
      " 3   link                    486 non-null    object        \n",
      " 4   authors                 549 non-null    object        \n",
      " 5   abstract                185 non-null    string        \n",
      " 6   title                   549 non-null    string        \n",
      " 7   doi                     549 non-null    string        \n",
      " 8   type                    549 non-null    string        \n",
      " 9   journal                 549 non-null    string        \n",
      " 10  issn                    492 non-null    string        \n",
      " 11  volume                  480 non-null    string        \n",
      " 12  issue                   369 non-null    string        \n",
      " 13  start_page              456 non-null    string        \n",
      " 14  end_page                318 non-null    string        \n",
      " 15  publication_date        549 non-null    datetime64[ns]\n",
      " 16  references              447 non-null    object        \n",
      "dtypes: datetime64[ns](1), object(5), string(11)\n",
      "memory usage: 73.0+ KB\n"
     ]
    }
   ],
   "source": [
    "author_name = 'Barcikowski'\n",
    "df = crosref.query(author=author_name).filter(from_pub_date='1993', type=['proceedings-article', 'journal-article']).get_df()\n",
    "df.info()"
   ]
  },
  {
   "cell_type": "markdown",
   "metadata": {},
   "source": [
    "## Save data"
   ]
  },
  {
   "cell_type": "code",
   "execution_count": 5,
   "metadata": {},
   "outputs": [],
   "source": [
    "path_to_save = os.path.join('database', author_name + '.csv')\n",
    "df.to_csv(path_to_save, index=False)"
   ]
  },
  {
   "cell_type": "markdown",
   "metadata": {},
   "source": [
    "### Save for marking data"
   ]
  },
  {
   "cell_type": "code",
   "execution_count": null,
   "metadata": {},
   "outputs": [],
   "source": [
    "path_for_processing = ''\n",
    "df[['title', 'abstract', 'doi']].to_excel(path_for_processing, index=False)"
   ]
  }
 ],
 "metadata": {
  "kernelspec": {
   "display_name": "venv",
   "language": "python",
   "name": "python3"
  },
  "language_info": {
   "codemirror_mode": {
    "name": "ipython",
    "version": 3
   },
   "file_extension": ".py",
   "mimetype": "text/x-python",
   "name": "python",
   "nbconvert_exporter": "python",
   "pygments_lexer": "ipython3",
   "version": "3.13.2"
  }
 },
 "nbformat": 4,
 "nbformat_minor": 2
}
