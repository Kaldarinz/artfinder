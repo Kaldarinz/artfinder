{
 "cells": [
  {
   "cell_type": "code",
   "execution_count": 1,
   "metadata": {},
   "outputs": [],
   "source": [
    "import pymedx_custom\n",
    "import logging\n",
    "import pandas as pd\n",
    "from pymedx_custom import PubMed\n",
    "from pymedx_custom.helpers import pretty_print_xml, getContent\n",
    "import logging\n",
    "logging.basicConfig(level=logging.DEBUG,datefmt='%H:%M:%S' , format='%(asctime)s.%(msecs)03d - %(module)s/%(funcName)s:%(lineno)d - %(levelname)s - %(message)s')\n",
    "\n",
    "pubmed = PubMed()"
   ]
  },
  {
   "cell_type": "code",
   "execution_count": null,
   "metadata": {},
   "outputs": [],
   "source": [
    "citin_articles = pubmed.getCitingArticles('28444919')"
   ]
  },
  {
   "cell_type": "code",
   "execution_count": null,
   "metadata": {},
   "outputs": [],
   "source": [
    "for i, article in enumerate(citin_articles):\n",
    "    print(f'{i+1}. {article.title} Refs: {len(article.references)}')"
   ]
  },
  {
   "cell_type": "markdown",
   "metadata": {},
   "source": [
    "Get publications by Author"
   ]
  },
  {
   "cell_type": "code",
   "execution_count": null,
   "metadata": {},
   "outputs": [
    {
     "name": "stderr",
     "output_type": "stream",
     "text": [
      "11:08:48.539 - api/_get:291 - DEBUG - Attempt 1/10\n",
      "11:08:48.539 - api/_get:296 - DEBUG - Requesting https://eutils.ncbi.nlm.nih.gov/entrez/eutils/esearch.fcgi with parameters {'tool': 'my_tool', 'email': 'my_email@example.com', 'db': 'pubmed', 'term': 'Barcikowski', 'retmax': 1, 'retmode': 'json'}\n",
      "11:08:48.541 - connectionpool/_new_conn:1049 - DEBUG - Starting new HTTPS connection (1): eutils.ncbi.nlm.nih.gov:443\n",
      "11:08:50.165 - connectionpool/_make_request:544 - DEBUG - https://eutils.ncbi.nlm.nih.gov:443 \"GET /entrez/eutils/esearch.fcgi?tool=my_tool&email=my_email%40example.com&db=pubmed&term=Barcikowski&retmax=1&retmode=json HTTP/1.1\" 200 None\n",
      "11:08:50.167 - api/_get:300 - DEBUG - Response status code: 200\n",
      "11:08:50.168 - api/_get:291 - DEBUG - Attempt 1/10\n",
      "11:08:50.169 - api/_get:296 - DEBUG - Requesting https://eutils.ncbi.nlm.nih.gov/entrez/eutils/esearch.fcgi with parameters {'tool': 'my_tool', 'email': 'my_email@example.com', 'db': 'pubmed', 'term': 'Barcikowski', 'retmax': 9999, 'datetype': 'edat', 'retmode': 'json'}\n",
      "11:08:50.170 - connectionpool/_new_conn:1049 - DEBUG - Starting new HTTPS connection (1): eutils.ncbi.nlm.nih.gov:443\n",
      "11:08:51.074 - connectionpool/_make_request:544 - DEBUG - https://eutils.ncbi.nlm.nih.gov:443 \"GET /entrez/eutils/esearch.fcgi?tool=my_tool&email=my_email%40example.com&db=pubmed&term=Barcikowski&retmax=9999&datetype=edat&retmode=json HTTP/1.1\" 200 None\n",
      "11:08:51.076 - api/_get:300 - DEBUG - Response status code: 200\n",
      "11:08:51.078 - api/_get:291 - DEBUG - Attempt 1/10\n",
      "11:08:51.078 - api/_get:296 - DEBUG - Requesting https://eutils.ncbi.nlm.nih.gov/entrez/eutils/efetch.fcgi with parameters {'tool': 'my_tool', 'email': 'my_email@example.com', 'db': 'pubmed', 'id': ['39995759', '39913862', '39435622', '39381778', '39143861', '39121414', '38887526', '38842467', '38336925', '38221893', '37699973', '37661312', '37334753', '36878868', '36650990', '36625361', '36562550', '36562474', '36562328', '36546553', '36282676', '36260482', '36222171', '36148583', '36008988', '35911453', '35830817', '35637878', '35437923', '35396555', '35380738', '35322802', '34921500', '34829358', '34730343', '34576548', '34500981', '34483264', '34443925', '34441354', '34357777', '34323466', '34165866', '34138547', '33969854', '33886276', '33801512', '33671802', '33501323', '33496348', '33430089', '36733463', '33325722', '32806535', '35021724', '36132793', '32722350', '32579650', '32434157', '32318345', '32316700', '32311172', '32121969', '31756030', '31703230', '31657401', '31482557', '31414685', '35515245', '31025868', '30916056', '30821886', '30646687', '30552609', '30137113', '30011881', '29865158', '29561559', '29375156', '29030573', '28841187', '28487921', '28444919', '28426069', '28384503', '28372426', '28319290', '28282112', '28229137', '28205515', '28195418', '28191931', '28122149', '28092122', '28084408', '28029740', '28010764', '32263450', '27673209', '27651318', '27554174', '27489980', '27404114', '27381215', '27273693', '27192268', '27004738', '26932059', '26925538', '26753543', '26745990', '26555960', '26549694', '26485929', '26467473', '26334136', '26329185', '26174920', '26491773', '25821705', '25680787', '25343348', '25271711', '25247135', '25226205', '24991505', '24759541', '24755991', '24720469', '24593606', '24289310', '24171189', '23852964', '23308190', '23247630', '23236461', '23198287', '23183423', '23148085', '23138867', '23132176', '22827393', '22834824', '22706626', '22475043', '22448125', '22417054', '22252263', '22101718', '22014272', '21854460', '21645564', '21346297', '21312225', '21298127', '21286815', '20857188', '20731831', '20615017', '20394393', '20104575', '19946462', '19852831', '19801779', '19793239', '19133434', '25364310', '16827627', '16776814', '15766802', '15127327', '15004429', '14998652', '14998651', '14666149', '12535582', '11905150', '11812629', '11409301', '10371119', '9986923', '9628377', '9592946', '9387855', '9444780', '8917905', '7540332', '9243540', '8499881', '1878334', '2046229', '1797573', '2350900', '2486513', '2808568', '2486203', '3394359', '3394358', '3394355', '3444289', '3448422', '3506521', '3737432', '3725596', '3835513', '3835512', '4038515', '6438863', '6387653', '6359095', '7030035', '7433268', '7415340', '583179', '471799', '573025', '724549', '693343', '643709', '673944', '735267', '683905', '651115', '604967', '410144', '859777', '951313', '26821676', '26821675', '1033092', '943707', '26829636', '1241670', '1177424', '1135441', '4426293', '4472555', '4410139', '4417213', '4760154', '4795379', '4714778', '4580250', '4808019', '4332284', '5160770', '5160769', '5160768', '5360623', '5193884'], 'retmode': 'xml'}\n",
      "11:08:51.082 - connectionpool/_new_conn:1049 - DEBUG - Starting new HTTPS connection (1): eutils.ncbi.nlm.nih.gov:443\n",
      "11:08:52.871 - connectionpool/_make_request:544 - DEBUG - https://eutils.ncbi.nlm.nih.gov:443 \"GET /entrez/eutils/efetch.fcgi?tool=my_tool&email=my_email%40example.com&db=pubmed&id=39995759&id=39913862&id=39435622&id=39381778&id=39143861&id=39121414&id=38887526&id=38842467&id=38336925&id=38221893&id=37699973&id=37661312&id=37334753&id=36878868&id=36650990&id=36625361&id=36562550&id=36562474&id=36562328&id=36546553&id=36282676&id=36260482&id=36222171&id=36148583&id=36008988&id=35911453&id=35830817&id=35637878&id=35437923&id=35396555&id=35380738&id=35322802&id=34921500&id=34829358&id=34730343&id=34576548&id=34500981&id=34483264&id=34443925&id=34441354&id=34357777&id=34323466&id=34165866&id=34138547&id=33969854&id=33886276&id=33801512&id=33671802&id=33501323&id=33496348&id=33430089&id=36733463&id=33325722&id=32806535&id=35021724&id=36132793&id=32722350&id=32579650&id=32434157&id=32318345&id=32316700&id=32311172&id=32121969&id=31756030&id=31703230&id=31657401&id=31482557&id=31414685&id=35515245&id=31025868&id=30916056&id=30821886&id=30646687&id=30552609&id=30137113&id=30011881&id=29865158&id=29561559&id=29375156&id=29030573&id=28841187&id=28487921&id=28444919&id=28426069&id=28384503&id=28372426&id=28319290&id=28282112&id=28229137&id=28205515&id=28195418&id=28191931&id=28122149&id=28092122&id=28084408&id=28029740&id=28010764&id=32263450&id=27673209&id=27651318&id=27554174&id=27489980&id=27404114&id=27381215&id=27273693&id=27192268&id=27004738&id=26932059&id=26925538&id=26753543&id=26745990&id=26555960&id=26549694&id=26485929&id=26467473&id=26334136&id=26329185&id=26174920&id=26491773&id=25821705&id=25680787&id=25343348&id=25271711&id=25247135&id=25226205&id=24991505&id=24759541&id=24755991&id=24720469&id=24593606&id=24289310&id=24171189&id=23852964&id=23308190&id=23247630&id=23236461&id=23198287&id=23183423&id=23148085&id=23138867&id=23132176&id=22827393&id=22834824&id=22706626&id=22475043&id=22448125&id=22417054&id=22252263&id=22101718&id=22014272&id=21854460&id=21645564&id=21346297&id=21312225&id=21298127&id=21286815&id=20857188&id=20731831&id=20615017&id=20394393&id=20104575&id=19946462&id=19852831&id=19801779&id=19793239&id=19133434&id=25364310&id=16827627&id=16776814&id=15766802&id=15127327&id=15004429&id=14998652&id=14998651&id=14666149&id=12535582&id=11905150&id=11812629&id=11409301&id=10371119&id=9986923&id=9628377&id=9592946&id=9387855&id=9444780&id=8917905&id=7540332&id=9243540&id=8499881&id=1878334&id=2046229&id=1797573&id=2350900&id=2486513&id=2808568&id=2486203&id=3394359&id=3394358&id=3394355&id=3444289&id=3448422&id=3506521&id=3737432&id=3725596&id=3835513&id=3835512&id=4038515&id=6438863&id=6387653&id=6359095&id=7030035&id=7433268&id=7415340&id=583179&id=471799&id=573025&id=724549&id=693343&id=643709&id=673944&id=735267&id=683905&id=651115&id=604967&id=410144&id=859777&id=951313&id=26821676&id=26821675&id=1033092&id=943707&id=26829636&id=1241670&id=1177424&id=1135441&id=4426293&id=4472555&id=4410139&id=4417213&id=4760154&id=4795379&id=4714778&id=4580250&id=4808019&id=4332284&id=5160770&id=5160769&id=5160768&id=5360623&id=5193884&retmode=xml HTTP/1.1\" 200 None\n",
      "11:08:56.200 - api/_get:300 - DEBUG - Response status code: 200\n",
      "11:08:56.591 - api/_getArticles:430 - INFO - Unrecognized articles: 1\n",
      "11:08:56.591 - api/_get:291 - DEBUG - Attempt 1/10\n",
      "11:08:56.592 - api/_get:296 - DEBUG - Requesting https://eutils.ncbi.nlm.nih.gov/entrez/eutils/efetch.fcgi with parameters {'tool': 'my_tool', 'email': 'my_email@example.com', 'db': 'pubmed', 'id': ['5701610', '5586689', '5335529', '5882280', '5850122', '5832657', '14306316', '14306315', '14306300', '14262504', '5850074', '14274564', '14111816', '13686876', '13686877', '13796672', '13796670', '13796669', '13796671', '13447105', '14386852', '13082633', '13067173', '13042905'], 'retmode': 'xml'}\n",
      "11:08:56.592 - connectionpool/_new_conn:1049 - DEBUG - Starting new HTTPS connection (1): eutils.ncbi.nlm.nih.gov:443\n",
      "11:08:57.557 - connectionpool/_make_request:544 - DEBUG - https://eutils.ncbi.nlm.nih.gov:443 \"GET /entrez/eutils/efetch.fcgi?tool=my_tool&email=my_email%40example.com&db=pubmed&id=5701610&id=5586689&id=5335529&id=5882280&id=5850122&id=5832657&id=14306316&id=14306315&id=14306300&id=14262504&id=5850074&id=14274564&id=14111816&id=13686876&id=13686877&id=13796672&id=13796670&id=13796669&id=13796671&id=13447105&id=14386852&id=13082633&id=13067173&id=13042905&retmode=xml HTTP/1.1\" 200 None\n",
      "11:08:57.983 - api/_get:300 - DEBUG - Response status code: 200\n"
     ]
    },
    {
     "name": "stdout",
     "output_type": "stream",
     "text": [
      "Total articles: 273\n"
     ]
    }
   ],
   "source": [
    "author = \"Barcikowski[Au]\"\n",
    "articles = list(pubmed.query(author))\n",
    "dict_articles = [x.toDict() for x in articles]\n",
    "print(f\"Total articles: {len(dict_articles)}\")\n",
    "df = pd.DataFrame(dict_articles)"
   ]
  },
  {
   "cell_type": "markdown",
   "metadata": {},
   "source": [
    "Load current db"
   ]
  },
  {
   "cell_type": "code",
   "execution_count": null,
   "metadata": {},
   "outputs": [],
   "source": [
    "all_adrticles = pd.read_csv('articles.csv')"
   ]
  },
  {
   "cell_type": "markdown",
   "metadata": {},
   "source": [
    "merge new articles to the whole db"
   ]
  },
  {
   "cell_type": "code",
   "execution_count": null,
   "metadata": {},
   "outputs": [],
   "source": [
    "pd.concat([all_adrticles, df],ignore_index=True).to_csv('articles1.csv', index=False)\n"
   ]
  },
  {
   "cell_type": "code",
   "execution_count": null,
   "metadata": {},
   "outputs": [],
   "source": [
    "db = pd.read_csv('articles1.csv')\n"
   ]
  },
  {
   "cell_type": "code",
   "execution_count": null,
   "metadata": {},
   "outputs": [
    {
     "data": {
      "text/plain": [
       "164    10.1002/cphc.201700310\n",
       "Name: doi, dtype: object"
      ]
     },
     "execution_count": 16,
     "metadata": {},
     "output_type": "execute_result"
    }
   ],
   "source": [
    "pd.set_option('display.max_rows', None)\n",
    "db.loc[db['pubmed_id'] == 28444919]['doi']"
   ]
  }
 ],
 "metadata": {
  "kernelspec": {
   "display_name": "venv",
   "language": "python",
   "name": "python3"
  },
  "language_info": {
   "codemirror_mode": {
    "name": "ipython",
    "version": 3
   },
   "file_extension": ".py",
   "mimetype": "text/x-python",
   "name": "python",
   "nbconvert_exporter": "python",
   "pygments_lexer": "ipython3",
   "version": "3.13.2"
  }
 },
 "nbformat": 4,
 "nbformat_minor": 2
}
