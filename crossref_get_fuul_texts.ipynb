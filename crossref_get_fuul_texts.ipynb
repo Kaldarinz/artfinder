{
 "cells": [
  {
   "cell_type": "code",
   "execution_count": 1,
   "metadata": {},
   "outputs": [],
   "source": [
    "%load_ext autoreload\n",
    "%autoreload 2\n",
    "\n",
    "from artfinder import Crossref, load_csv, strict_filter\n",
    "import pandas as pd\n",
    "import logging\n",
    "\n",
    "logging.basicConfig(level=logging.INFO)\n",
    "crosref = Crossref(app='artfinder', email='aapopov1@mephi.ru')"
   ]
  },
  {
   "cell_type": "code",
   "execution_count": 2,
   "metadata": {},
   "outputs": [
    {
     "name": "stdout",
     "output_type": "stream",
     "text": [
      "<class 'pandas.core.frame.DataFrame'>\n",
      "RangeIndex: 548 entries, 0 to 547\n",
      "Data columns (total 21 columns):\n",
      " #   Column                  Non-Null Count  Dtype         \n",
      "---  ------                  --------------  -----         \n",
      " 0   publisher               548 non-null    string        \n",
      " 1   license                 348 non-null    object        \n",
      " 2   is_referenced_by_count  548 non-null    int64         \n",
      " 3   link                    486 non-null    object        \n",
      " 4   authors                 548 non-null    object        \n",
      " 5   abstract                184 non-null    string        \n",
      " 6   title                   548 non-null    string        \n",
      " 7   doi                     548 non-null    string        \n",
      " 8   type                    548 non-null    string        \n",
      " 9   journal                 548 non-null    string        \n",
      " 10  issn                    491 non-null    string        \n",
      " 11  volume                  480 non-null    string        \n",
      " 12  issue                   369 non-null    string        \n",
      " 13  start_page              456 non-null    string        \n",
      " 14  end_page                318 non-null    string        \n",
      " 15  publication_date        548 non-null    datetime64[ns]\n",
      " 16  references              446 non-null    object        \n",
      " 17  pmcid                   0 non-null      float64       \n",
      " 18  pmid                    0 non-null      float64       \n",
      " 19  keywords                0 non-null      float64       \n",
      " 20  ablation                548 non-null    bool          \n",
      "dtypes: bool(1), datetime64[ns](1), float64(3), int64(1), object(4), string(11)\n",
      "memory usage: 86.3+ KB\n"
     ]
    }
   ],
   "source": [
    "df = load_csv('database/processed/barcikowski_full.csv')\n",
    "df.info()"
   ]
  },
  {
   "cell_type": "code",
   "execution_count": 3,
   "metadata": {},
   "outputs": [
    {
     "name": "stdout",
     "output_type": "stream",
     "text": [
      "Found 64 unique references.\n"
     ]
    },
    {
     "data": {},
     "metadata": {},
     "output_type": "display_data"
    }
   ],
   "source": [
    "results, failed = crosref.get_refs(df[:5])"
   ]
  },
  {
   "cell_type": "code",
   "execution_count": null,
   "metadata": {},
   "outputs": [
    {
     "name": "stdout",
     "output_type": "stream",
     "text": [
      "<class 'pandas.core.frame.DataFrame'>\n",
      "Index: 12237 entries, 0 to 0\n",
      "Data columns (total 17 columns):\n",
      " #   Column                  Non-Null Count  Dtype         \n",
      "---  ------                  --------------  -----         \n",
      " 0   publisher               12237 non-null  string        \n",
      " 1   license                 7843 non-null   object        \n",
      " 2   is_referenced_by_count  12237 non-null  object        \n",
      " 3   link                    11762 non-null  object        \n",
      " 4   authors                 12237 non-null  object        \n",
      " 5   abstract                3002 non-null   string        \n",
      " 6   title                   12201 non-null  string        \n",
      " 7   doi                     12237 non-null  string        \n",
      " 8   type                    12237 non-null  string        \n",
      " 9   journal                 12152 non-null  string        \n",
      " 10  issn                    12024 non-null  string        \n",
      " 11  volume                  11885 non-null  string        \n",
      " 12  issue                   10285 non-null  string        \n",
      " 13  start_page              10940 non-null  string        \n",
      " 14  end_page                9546 non-null   string        \n",
      " 15  publication_date        12224 non-null  datetime64[ns]\n",
      " 16  references              10971 non-null  object        \n",
      "dtypes: datetime64[ns](1), object(5), string(11)\n",
      "memory usage: 1.7+ MB\n"
     ]
    }
   ],
   "source": [
    "results.info()"
   ]
  },
  {
   "cell_type": "code",
   "execution_count": null,
   "metadata": {},
   "outputs": [
    {
     "name": "stdout",
     "output_type": "stream",
     "text": [
      "Zero\n"
     ]
    },
    {
     "data": {
      "text/plain": [
       "'two'"
      ]
     },
     "metadata": {},
     "output_type": "display_data"
    }
   ],
   "source": [
    "import time\n",
    "print(\"Zero\")\n",
    "ds = display(\"one\", display_id=True)\n",
    "time.sleep(1)\n",
    "ds.update(\"two\")"
   ]
  },
  {
   "cell_type": "code",
   "execution_count": null,
   "metadata": {},
   "outputs": [
    {
     "name": "stdout",
     "output_type": "stream",
     "text": [
      "a\n",
      "b\n",
      "c\n"
     ]
    }
   ],
   "source": [
    "dd = display('', display_id=True)\n",
    "lst = ['a', 'b', 'c']\n",
    "dd.update([print(x) for x in lst])"
   ]
  },
  {
   "cell_type": "code",
   "execution_count": 18,
   "metadata": {},
   "outputs": [
    {
     "name": "stdout",
     "output_type": "stream",
     "text": [
      "a\n",
      "b\n",
      "c\n"
     ]
    }
   ],
   "source": [
    "dd.update([print(x) for x in lst])"
   ]
  },
  {
   "cell_type": "code",
   "execution_count": 4,
   "metadata": {},
   "outputs": [
    {
     "name": "stdout",
     "output_type": "stream",
     "text": [
      "<DisplayHandle display_id=4cf6b9fdd17ddeb272ae6c1e858c41b6>\n"
     ]
    }
   ],
   "source": [
    "print(ds)"
   ]
  },
  {
   "cell_type": "code",
   "execution_count": null,
   "metadata": {},
   "outputs": [],
   "source": [
    "articles = results[results['type'].isin(['journal-article', 'proceedings-article'])]"
   ]
  },
  {
   "cell_type": "code",
   "execution_count": null,
   "metadata": {},
   "outputs": [],
   "source": [
    "articles = articles[articles['publication_date'] > '1993']"
   ]
  },
  {
   "cell_type": "code",
   "execution_count": null,
   "metadata": {},
   "outputs": [
    {
     "name": "stderr",
     "output_type": "stream",
     "text": [
      "/tmp/ipykernel_8102/1427495497.py:1: FutureWarning: A value is trying to be set on a copy of a DataFrame or Series through chained assignment using an inplace method.\n",
      "The behavior will change in pandas 3.0. This inplace method will never work because the intermediate object on which we are setting values always behaves as a copy.\n",
      "\n",
      "For example, when doing 'df[col].method(value, inplace=True)', try using 'df.method({col: value}, inplace=True)' or df[col] = df[col].method(value) instead, to perform the operation inplace on the original object.\n",
      "\n",
      "\n",
      "  articles['title'].fillna('', inplace=True)\n"
     ]
    }
   ],
   "source": [
    "articles['title'].fillna('', inplace=True)"
   ]
  },
  {
   "cell_type": "code",
   "execution_count": null,
   "metadata": {},
   "outputs": [],
   "source": [
    "articles.to_csv('database/barcikowski_unfiltered_refs_level1_raw.csv', index=False)"
   ]
  },
  {
   "cell_type": "code",
   "execution_count": null,
   "metadata": {},
   "outputs": [],
   "source": [
    "kaba = load_csv('database/processed/kabashin_full.csv')\n",
    "barc = load_csv('database/processed/barcikowski_full.csv')"
   ]
  },
  {
   "cell_type": "code",
   "execution_count": null,
   "metadata": {},
   "outputs": [],
   "source": [
    "kaba_barc = pd.concat([kaba, barc], ignore_index=True)"
   ]
  },
  {
   "cell_type": "code",
   "execution_count": null,
   "metadata": {},
   "outputs": [],
   "source": [
    "kaba_barc.drop_duplicates(subset=['doi'], inplace=True)"
   ]
  },
  {
   "cell_type": "code",
   "execution_count": null,
   "metadata": {},
   "outputs": [],
   "source": [
    "strict_refs = articles[articles['title'].map(lambda x: strict_filter(x))]"
   ]
  },
  {
   "cell_type": "code",
   "execution_count": null,
   "metadata": {},
   "outputs": [
    {
     "name": "stdout",
     "output_type": "stream",
     "text": [
      "<class 'pandas.core.frame.DataFrame'>\n",
      "Index: 869 entries, 0 to 0\n",
      "Data columns (total 17 columns):\n",
      " #   Column                  Non-Null Count  Dtype         \n",
      "---  ------                  --------------  -----         \n",
      " 0   publisher               869 non-null    string        \n",
      " 1   license                 568 non-null    object        \n",
      " 2   is_referenced_by_count  869 non-null    object        \n",
      " 3   link                    840 non-null    object        \n",
      " 4   authors                 869 non-null    object        \n",
      " 5   abstract                174 non-null    string        \n",
      " 6   title                   869 non-null    string        \n",
      " 7   doi                     869 non-null    string        \n",
      " 8   type                    869 non-null    string        \n",
      " 9   journal                 869 non-null    string        \n",
      " 10  issn                    869 non-null    string        \n",
      " 11  volume                  863 non-null    string        \n",
      " 12  issue                   678 non-null    string        \n",
      " 13  start_page              765 non-null    string        \n",
      " 14  end_page                621 non-null    string        \n",
      " 15  publication_date        869 non-null    datetime64[ns]\n",
      " 16  references              816 non-null    object        \n",
      "dtypes: datetime64[ns](1), object(5), string(11)\n",
      "memory usage: 122.2+ KB\n"
     ]
    }
   ],
   "source": [
    "strict_refs[~strict_refs['doi'].isin(kaba_barc['doi'])].info()"
   ]
  }
 ],
 "metadata": {
  "kernelspec": {
   "display_name": "venv",
   "language": "python",
   "name": "python3"
  },
  "language_info": {
   "codemirror_mode": {
    "name": "ipython",
    "version": 3
   },
   "file_extension": ".py",
   "mimetype": "text/x-python",
   "name": "python",
   "nbconvert_exporter": "python",
   "pygments_lexer": "ipython3",
   "version": "3.13.2"
  }
 },
 "nbformat": 4,
 "nbformat_minor": 2
}
