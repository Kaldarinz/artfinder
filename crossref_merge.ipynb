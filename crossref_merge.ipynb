{
 "cells": [
  {
   "cell_type": "code",
   "execution_count": 1,
   "metadata": {},
   "outputs": [],
   "source": [
    "%load_ext autoreload\n",
    "%autoreload 2\n",
    "\n",
    "from artfinder import load_csv\n",
    "import pandas as pd\n",
    "import re\n",
    "import logging\n",
    "from typing import cast\n",
    "\n",
    "logging.basicConfig(level=logging.INFO)"
   ]
  },
  {
   "cell_type": "markdown",
   "metadata": {},
   "source": [
    "Load data"
   ]
  },
  {
   "cell_type": "code",
   "execution_count": 2,
   "metadata": {},
   "outputs": [
    {
     "name": "stdout",
     "output_type": "stream",
     "text": [
      "<class 'pandas.core.frame.DataFrame'>\n",
      "RangeIndex: 548 entries, 0 to 547\n",
      "Data columns (total 20 columns):\n",
      " #   Column                  Non-Null Count  Dtype         \n",
      "---  ------                  --------------  -----         \n",
      " 0   publisher               548 non-null    string        \n",
      " 1   license                 348 non-null    object        \n",
      " 2   is_referenced_by_count  548 non-null    int64         \n",
      " 3   link                    486 non-null    object        \n",
      " 4   authors                 548 non-null    object        \n",
      " 5   abstract                184 non-null    string        \n",
      " 6   title                   548 non-null    string        \n",
      " 7   doi                     548 non-null    string        \n",
      " 8   type                    548 non-null    string        \n",
      " 9   journal                 548 non-null    string        \n",
      " 10  issn                    491 non-null    string        \n",
      " 11  volume                  480 non-null    string        \n",
      " 12  issue                   369 non-null    string        \n",
      " 13  start_page              456 non-null    string        \n",
      " 14  end_page                318 non-null    string        \n",
      " 15  publication_date        548 non-null    datetime64[ns]\n",
      " 16  references              446 non-null    object        \n",
      " 17  pmid                    0 non-null      object        \n",
      " 18  pmcid                   0 non-null      object        \n",
      " 19  keywords                0 non-null      object        \n",
      "dtypes: datetime64[ns](1), int64(1), object(7), string(11)\n",
      "memory usage: 85.8+ KB\n"
     ]
    }
   ],
   "source": [
    "df = load_csv('database/barcikowski.csv')\n",
    "df.info()"
   ]
  },
  {
   "cell_type": "markdown",
   "metadata": {},
   "source": [
    "Load marked data\n"
   ]
  },
  {
   "cell_type": "code",
   "execution_count": 4,
   "metadata": {},
   "outputs": [
    {
     "name": "stdout",
     "output_type": "stream",
     "text": [
      "<class 'pandas.core.frame.DataFrame'>\n",
      "RangeIndex: 548 entries, 0 to 547\n",
      "Data columns (total 4 columns):\n",
      " #   Column    Non-Null Count  Dtype \n",
      "---  ------    --------------  ----- \n",
      " 0   title     548 non-null    object\n",
      " 1   abstract  184 non-null    object\n",
      " 2   doi       548 non-null    object\n",
      " 3   ablation  548 non-null    bool  \n",
      "dtypes: bool(1), object(3)\n",
      "memory usage: 13.5+ KB\n"
     ]
    }
   ],
   "source": [
    "marked = pd.read_excel('database/processed/barcikowski.xlsx')\n",
    "marked['ablation'] = marked['ablation'].astype(bool)\n",
    "marked.info()"
   ]
  },
  {
   "cell_type": "markdown",
   "metadata": {},
   "source": [
    "Merge data"
   ]
  },
  {
   "cell_type": "code",
   "execution_count": 6,
   "metadata": {},
   "outputs": [
    {
     "name": "stdout",
     "output_type": "stream",
     "text": [
      "<class 'pandas.core.frame.DataFrame'>\n",
      "RangeIndex: 548 entries, 0 to 547\n",
      "Data columns (total 21 columns):\n",
      " #   Column                  Non-Null Count  Dtype         \n",
      "---  ------                  --------------  -----         \n",
      " 0   publisher               548 non-null    string        \n",
      " 1   license                 348 non-null    object        \n",
      " 2   is_referenced_by_count  548 non-null    int64         \n",
      " 3   link                    486 non-null    object        \n",
      " 4   authors                 548 non-null    object        \n",
      " 5   abstract                184 non-null    string        \n",
      " 6   title                   548 non-null    string        \n",
      " 7   doi                     548 non-null    object        \n",
      " 8   type                    548 non-null    string        \n",
      " 9   journal                 548 non-null    string        \n",
      " 10  issn                    491 non-null    string        \n",
      " 11  volume                  480 non-null    string        \n",
      " 12  issue                   369 non-null    string        \n",
      " 13  start_page              456 non-null    string        \n",
      " 14  end_page                318 non-null    string        \n",
      " 15  publication_date        548 non-null    datetime64[ns]\n",
      " 16  references              446 non-null    object        \n",
      " 17  pmid                    0 non-null      object        \n",
      " 18  pmcid                   0 non-null      object        \n",
      " 19  keywords                0 non-null      object        \n",
      " 20  ablation                548 non-null    bool          \n",
      "dtypes: bool(1), datetime64[ns](1), int64(1), object(8), string(10)\n",
      "memory usage: 86.3+ KB\n"
     ]
    }
   ],
   "source": [
    "df = df.merge(marked[['doi', 'ablation']], on='doi', how='left')\n",
    "df.info()"
   ]
  },
  {
   "cell_type": "markdown",
   "metadata": {},
   "source": [
    "Save data"
   ]
  },
  {
   "cell_type": "code",
   "execution_count": 8,
   "metadata": {},
   "outputs": [],
   "source": [
    "path_to_save_data = 'database/processed/barcikowski_full.csv'\n",
    "df.to_csv(path_to_save_data, index=False)"
   ]
  }
 ],
 "metadata": {
  "kernelspec": {
   "display_name": "venv",
   "language": "python",
   "name": "python3"
  },
  "language_info": {
   "codemirror_mode": {
    "name": "ipython",
    "version": 3
   },
   "file_extension": ".py",
   "mimetype": "text/x-python",
   "name": "python",
   "nbconvert_exporter": "python",
   "pygments_lexer": "ipython3",
   "version": "3.13.2"
  }
 },
 "nbformat": 4,
 "nbformat_minor": 2
}
