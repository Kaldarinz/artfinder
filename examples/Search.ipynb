{
 "cells": [
  {
   "cell_type": "markdown",
   "metadata": {},
   "source": [
    "# This example demonstrates basic search functionality of the package\n",
    "\n",
    "1. Single article search\n",
    "2. Basic search for articles, e.g. by author, topic or date of publishing.\n",
    "3. Getting list of references from a given article or several articles."
   ]
  },
  {
   "cell_type": "code",
   "execution_count": 2,
   "metadata": {},
   "outputs": [
    {
     "ename": "ModuleNotFoundError",
     "evalue": "No module named 'artfinder'",
     "output_type": "error",
     "traceback": [
      "\u001b[31m---------------------------------------------------------------------------\u001b[39m",
      "\u001b[31mModuleNotFoundError\u001b[39m                       Traceback (most recent call last)",
      "\u001b[36mCell\u001b[39m\u001b[36m \u001b[39m\u001b[32mIn[2]\u001b[39m\u001b[32m, line 4\u001b[39m\n\u001b[32m      1\u001b[39m get_ipython().run_line_magic(\u001b[33m'\u001b[39m\u001b[33mload_ext\u001b[39m\u001b[33m'\u001b[39m, \u001b[33m'\u001b[39m\u001b[33mautoreload\u001b[39m\u001b[33m'\u001b[39m)\n\u001b[32m      2\u001b[39m get_ipython().run_line_magic(\u001b[33m'\u001b[39m\u001b[33mautoreload\u001b[39m\u001b[33m'\u001b[39m, \u001b[33m'\u001b[39m\u001b[33m2\u001b[39m\u001b[33m'\u001b[39m)\n\u001b[32m----> \u001b[39m\u001b[32m4\u001b[39m \u001b[38;5;28;01mimport\u001b[39;00m\u001b[38;5;250m \u001b[39m\u001b[34;01martfinder\u001b[39;00m\n\u001b[32m      6\u001b[39m \u001b[38;5;66;03m# You can optionally provide an email address.\u001b[39;00m\n\u001b[32m      7\u001b[39m \u001b[38;5;66;03m# Citation databases can use it to inform you if you are using their API inappropriately.\u001b[39;00m\n\u001b[32m      8\u001b[39m \u001b[38;5;66;03m# In most cases providing an email will put you in a sort of \"polite pool\" for the API.\u001b[39;00m\n\u001b[32m      9\u001b[39m email = \u001b[33m'\u001b[39m\u001b[33myour@email.com\u001b[39m\u001b[33m'\u001b[39m\n",
      "\u001b[31mModuleNotFoundError\u001b[39m: No module named 'artfinder'"
     ]
    }
   ],
   "source": [
    "%load_ext autoreload\n",
    "%autoreload 2\n",
    "\n",
    "import artfinder\n",
    "\n",
    "# You can optionally provide an email address.\n",
    "# Citation databases can use it to inform you if you are using their API inappropriately.\n",
    "# In most cases providing an email will put you in a sort of \"polite pool\" for the API.\n",
    "email = 'your@email.com'\n",
    "af = artfinder.ArtFinder(email)"
   ]
  },
  {
   "cell_type": "markdown",
   "metadata": {},
   "source": [
    "## Single article search\n",
    "* You can use title or doi for searching\n",
    "* You will get at most one article as a result\n"
   ]
  },
  {
   "cell_type": "code",
   "execution_count": 1,
   "metadata": {},
   "outputs": [
    {
     "ename": "NameError",
     "evalue": "name 'af' is not defined",
     "output_type": "error",
     "traceback": [
      "\u001b[31m---------------------------------------------------------------------------\u001b[39m",
      "\u001b[31mNameError\u001b[39m                                 Traceback (most recent call last)",
      "\u001b[36mCell\u001b[39m\u001b[36m \u001b[39m\u001b[32mIn[1]\u001b[39m\u001b[32m, line 1\u001b[39m\n\u001b[32m----> \u001b[39m\u001b[32m1\u001b[39m \u001b[43maf\u001b[49m.find_article(doi=\u001b[33m'\u001b[39m\u001b[33m10.1021/acs.chemrev.6b00468\u001b[39m\u001b[33m'\u001b[39m)\n",
      "\u001b[31mNameError\u001b[39m: name 'af' is not defined"
     ]
    }
   ],
   "source": [
    "af.find_article(doi='10.1021/acs.chemrev.6b00468')"
   ]
  },
  {
   "cell_type": "code",
   "execution_count": 2,
   "metadata": {},
   "outputs": [
    {
     "name": "stderr",
     "output_type": "stream",
     "text": [
      "DEBUG:crossref.restful:Request URL: https://api.crossref.org/works\n",
      "DEBUG:urllib3.connectionpool:Starting new HTTPS connection (1): api.crossref.org:443\n"
     ]
    },
    {
     "name": "stderr",
     "output_type": "stream",
     "text": [
      "DEBUG:urllib3.connectionpool:https://api.crossref.org:443 \"GET /works?query.author=Barcikowski&filter=from-pub-date%3A1993%2Ctype%3Aproceedings-article%2Ctype%3Ajournal-article&cursor=%2A&rows=100 HTTP/1.1\" 200 None\n",
      "DEBUG:urllib3.connectionpool:Starting new HTTPS connection (1): api.crossref.org:443\n",
      "DEBUG:urllib3.connectionpool:https://api.crossref.org:443 \"GET /works?query.author=Barcikowski&filter=from-pub-date%3A1993%2Ctype%3Aproceedings-article%2Ctype%3Ajournal-article&cursor=DnF1ZXJ5VGhlbkZldGNoBgAAAAAwY8h2FmJnOVJRVU1xUzlLa2ZpTkltazIzencAAAAAE8594hZWX2tkV3YyWVFVcV9hOFZHWGN4cURnAAAAADHzY9IWUnBjZWFMRGtRSEtfOUZieGxBaklIUQAAAAAuagrwFmZPZjNDVWhLUnh1RDFtUWM4WFIzUHcAAAAAD9P7ZBZpcXRGT3lZOVQ1bUFtcEdTS2xJUTRRAAAAABGAnIYWZjkwZGpsbmpTUG10QXVtRFhYcXlaUQ%3D%3D&rows=100 HTTP/1.1\" 200 None\n",
      "DEBUG:urllib3.connectionpool:Starting new HTTPS connection (1): api.crossref.org:443\n",
      "DEBUG:urllib3.connectionpool:https://api.crossref.org:443 \"GET /works?query.author=Barcikowski&filter=from-pub-date%3A1993%2Ctype%3Aproceedings-article%2Ctype%3Ajournal-article&cursor=DnF1ZXJ5VGhlbkZldGNoBgAAAAAwY8h2FmJnOVJRVU1xUzlLa2ZpTkltazIzencAAAAAE8594hZWX2tkV3YyWVFVcV9hOFZHWGN4cURnAAAAADHzY9IWUnBjZWFMRGtRSEtfOUZieGxBaklIUQAAAAAuagrwFmZPZjNDVWhLUnh1RDFtUWM4WFIzUHcAAAAAD9P7ZBZpcXRGT3lZOVQ1bUFtcEdTS2xJUTRRAAAAABGAnIYWZjkwZGpsbmpTUG10QXVtRFhYcXlaUQ%3D%3D&rows=100 HTTP/1.1\" 200 None\n",
      "DEBUG:urllib3.connectionpool:Starting new HTTPS connection (1): api.crossref.org:443\n",
      "DEBUG:urllib3.connectionpool:https://api.crossref.org:443 \"GET /works?query.author=Barcikowski&filter=from-pub-date%3A1993%2Ctype%3Aproceedings-article%2Ctype%3Ajournal-article&cursor=DnF1ZXJ5VGhlbkZldGNoBgAAAAAwY8h2FmJnOVJRVU1xUzlLa2ZpTkltazIzencAAAAAE8594hZWX2tkV3YyWVFVcV9hOFZHWGN4cURnAAAAADHzY9IWUnBjZWFMRGtRSEtfOUZieGxBaklIUQAAAAAuagrwFmZPZjNDVWhLUnh1RDFtUWM4WFIzUHcAAAAAD9P7ZBZpcXRGT3lZOVQ1bUFtcEdTS2xJUTRRAAAAABGAnIYWZjkwZGpsbmpTUG10QXVtRFhYcXlaUQ%3D%3D&rows=100 HTTP/1.1\" 200 None\n",
      "DEBUG:urllib3.connectionpool:Starting new HTTPS connection (1): api.crossref.org:443\n",
      "DEBUG:urllib3.connectionpool:https://api.crossref.org:443 \"GET /works?query.author=Barcikowski&filter=from-pub-date%3A1993%2Ctype%3Aproceedings-article%2Ctype%3Ajournal-article&cursor=DnF1ZXJ5VGhlbkZldGNoBgAAAAAwY8h2FmJnOVJRVU1xUzlLa2ZpTkltazIzencAAAAAE8594hZWX2tkV3YyWVFVcV9hOFZHWGN4cURnAAAAADHzY9IWUnBjZWFMRGtRSEtfOUZieGxBaklIUQAAAAAuagrwFmZPZjNDVWhLUnh1RDFtUWM4WFIzUHcAAAAAD9P7ZBZpcXRGT3lZOVQ1bUFtcEdTS2xJUTRRAAAAABGAnIYWZjkwZGpsbmpTUG10QXVtRFhYcXlaUQ%3D%3D&rows=100 HTTP/1.1\" 200 None\n",
      "DEBUG:urllib3.connectionpool:Starting new HTTPS connection (1): api.crossref.org:443\n",
      "DEBUG:urllib3.connectionpool:https://api.crossref.org:443 \"GET /works?query.author=Barcikowski&filter=from-pub-date%3A1993%2Ctype%3Aproceedings-article%2Ctype%3Ajournal-article&cursor=DnF1ZXJ5VGhlbkZldGNoBgAAAAAwY8h2FmJnOVJRVU1xUzlLa2ZpTkltazIzencAAAAAE8594hZWX2tkV3YyWVFVcV9hOFZHWGN4cURnAAAAADHzY9IWUnBjZWFMRGtRSEtfOUZieGxBaklIUQAAAAAuagrwFmZPZjNDVWhLUnh1RDFtUWM4WFIzUHcAAAAAD9P7ZBZpcXRGT3lZOVQ1bUFtcEdTS2xJUTRRAAAAABGAnIYWZjkwZGpsbmpTUG10QXVtRFhYcXlaUQ%3D%3D&rows=100 HTTP/1.1\" 200 None\n",
      "DEBUG:urllib3.connectionpool:Starting new HTTPS connection (1): api.crossref.org:443\n",
      "DEBUG:urllib3.connectionpool:https://api.crossref.org:443 \"GET /works?query.author=Barcikowski&filter=from-pub-date%3A1993%2Ctype%3Aproceedings-article%2Ctype%3Ajournal-article&cursor=DnF1ZXJ5VGhlbkZldGNoBgAAAAAwY8h2FmJnOVJRVU1xUzlLa2ZpTkltazIzencAAAAAE8594hZWX2tkV3YyWVFVcV9hOFZHWGN4cURnAAAAADHzY9IWUnBjZWFMRGtRSEtfOUZieGxBaklIUQAAAAAuagrwFmZPZjNDVWhLUnh1RDFtUWM4WFIzUHcAAAAAD9P7ZBZpcXRGT3lZOVQ1bUFtcEdTS2xJUTRRAAAAABGAnIYWZjkwZGpsbmpTUG10QXVtRFhYcXlaUQ%3D%3D&rows=100 HTTP/1.1\" 200 None\n"
     ]
    },
    {
     "name": "stdout",
     "output_type": "stream",
     "text": [
      "<class 'pandas.core.frame.DataFrame'>\n",
      "RangeIndex: 549 entries, 0 to 548\n",
      "Data columns (total 17 columns):\n",
      " #   Column                  Non-Null Count  Dtype         \n",
      "---  ------                  --------------  -----         \n",
      " 0   publisher               549 non-null    string        \n",
      " 1   license                 349 non-null    object        \n",
      " 2   is_referenced_by_count  549 non-null    object        \n",
      " 3   link                    486 non-null    object        \n",
      " 4   authors                 549 non-null    object        \n",
      " 5   abstract                185 non-null    string        \n",
      " 6   title                   549 non-null    string        \n",
      " 7   doi                     549 non-null    string        \n",
      " 8   type                    549 non-null    string        \n",
      " 9   journal                 549 non-null    string        \n",
      " 10  issn                    492 non-null    string        \n",
      " 11  volume                  480 non-null    string        \n",
      " 12  issue                   369 non-null    string        \n",
      " 13  start_page              456 non-null    string        \n",
      " 14  end_page                318 non-null    string        \n",
      " 15  publication_date        549 non-null    datetime64[ns]\n",
      " 16  references              447 non-null    object        \n",
      "dtypes: datetime64[ns](1), object(5), string(11)\n",
      "memory usage: 73.0+ KB\n"
     ]
    }
   ],
   "source": [
    "author_name = 'Barcikowski'\n",
    "df = crosref.query(author=author_name).filter(from_pub_date='1993', type=['proceedings-article', 'journal-article']).get_df()\n",
    "df.info()"
   ]
  },
  {
   "cell_type": "markdown",
   "metadata": {},
   "source": [
    "## Save data"
   ]
  },
  {
   "cell_type": "code",
   "execution_count": 5,
   "metadata": {},
   "outputs": [],
   "source": [
    "path_to_save = os.path.join('database', author_name + '.csv')\n",
    "df.to_csv(path_to_save, index=False)"
   ]
  },
  {
   "cell_type": "markdown",
   "metadata": {},
   "source": [
    "### Save for marking data"
   ]
  },
  {
   "cell_type": "code",
   "execution_count": null,
   "metadata": {},
   "outputs": [],
   "source": [
    "path_for_processing = ''\n",
    "df[['title', 'abstract', 'doi']].to_excel(path_for_processing, index=False)"
   ]
  }
 ],
 "metadata": {
  "kernelspec": {
   "display_name": "venv",
   "language": "python",
   "name": "python3"
  },
  "language_info": {
   "codemirror_mode": {
    "name": "ipython",
    "version": 3
   },
   "file_extension": ".py",
   "mimetype": "text/x-python",
   "name": "python",
   "nbconvert_exporter": "python",
   "pygments_lexer": "ipython3",
   "version": "3.13.3"
  }
 },
 "nbformat": 4,
 "nbformat_minor": 2
}
