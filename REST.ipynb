{
 "cells": [
  {
   "cell_type": "code",
   "execution_count": 1,
   "metadata": {},
   "outputs": [],
   "source": [
    "import requests"
   ]
  },
  {
   "cell_type": "markdown",
   "metadata": {},
   "source": [
    "GET stuff"
   ]
  },
  {
   "cell_type": "code",
   "execution_count": 22,
   "metadata": {},
   "outputs": [
    {
     "name": "stdout",
     "output_type": "stream",
     "text": [
      "Date => Tue, 11 Mar 2025 15:08:06 GMT\n",
      "Content-Type => application/json; charset=utf-8\n",
      "Transfer-Encoding => chunked\n",
      "Connection => keep-alive\n",
      "Content-Encoding => gzip\n",
      "Cf-Ray => 91ebf719bbef8eab-AMS\n",
      "Report-To => {\"group\":\"heroku-nel\",\"max_age\":3600,\"endpoints\":[{\"url\":\"https://nel.heroku.com/reports?ts=1740720508&sid=e11707d5-02a7-43ef-b45e-2cf4d2036f7d&s=FZr0Hrm5CFttWpbHg34FHIOw4wfhjh948ifcp0XSs38%3D\"}]}\n",
      "Reporting-Endpoints => heroku-nel=https://nel.heroku.com/reports?ts=1740720508&sid=e11707d5-02a7-43ef-b45e-2cf4d2036f7d&s=FZr0Hrm5CFttWpbHg34FHIOw4wfhjh948ifcp0XSs38%3D\n",
      "Nel => {\"report_to\":\"heroku-nel\",\"max_age\":3600,\"success_fraction\":0.005,\"failure_fraction\":0.05,\"response_headers\":[\"Via\"]}\n",
      "X-Powered-By => Express\n",
      "X-Ratelimit-Limit => 1000\n",
      "X-Ratelimit-Remaining => 999\n",
      "X-Ratelimit-Reset => 1740720515\n",
      "Vary => Origin, Accept-Encoding\n",
      "Access-Control-Allow-Credentials => true\n",
      "Cache-Control => max-age=43200\n",
      "Pragma => no-cache\n",
      "Expires => -1\n",
      "X-Content-Type-Options => nosniff\n",
      "Etag => W/\"63-+s0zIP5ZEQN9hypVJUneLybJ+L0\"\n",
      "Via => 1.1 vegur\n",
      "Cf-Cache-Status => HIT\n",
      "Age => 21067\n",
      "Server => cloudflare\n",
      "alt-svc => h3=\":443\"; ma=86400\n",
      "server-timing => cfL4;desc=\"?proto=TCP&rtt=85489&min_rtt=80499&rtt_var=31805&sent=5&recv=8&lost=0&retrans=0&sent_bytes=2840&recv_bytes=785&delivery_rate=37651&cwnd=253&unsent_bytes=0&cid=777d976315af99d4&ts=122&x=0\"\n"
     ]
    }
   ],
   "source": [
    "api_url = \"https://jsonplaceholder.typicode.com/todos/2\"\n",
    "with requests.get(api_url, timeout=1) as response:\n",
    "    response.raise_for_status()\n",
    "    for header in response.headers:\n",
    "        print(header, \"=>\", response.headers[header])"
   ]
  },
  {
   "cell_type": "markdown",
   "metadata": {},
   "source": [
    "POST stuff"
   ]
  },
  {
   "cell_type": "code",
   "execution_count": 19,
   "metadata": {},
   "outputs": [
    {
     "name": "stdout",
     "output_type": "stream",
     "text": [
      "{'userId': 1, 'title': 'Buy milk', 'completed': False, 'id': 201}\n"
     ]
    }
   ],
   "source": [
    "api_url = \"https://jsonplaceholder.typicode.com/todos\"\n",
    "todo = {\"userId\": 1, \"title\": \"Buy milk\", \"completed\": False}\n",
    "with requests.post(api_url, json=todo, timeout=1) as response:\n",
    "    print(response.json())"
   ]
  },
  {
   "cell_type": "markdown",
   "metadata": {},
   "source": [
    "Get list of possilbe endpoints"
   ]
  },
  {
   "cell_type": "code",
   "execution_count": 23,
   "metadata": {},
   "outputs": [
    {
     "ename": "KeyError",
     "evalue": "'allow'",
     "output_type": "error",
     "traceback": [
      "\u001b[31m---------------------------------------------------------------------------\u001b[39m",
      "\u001b[31mKeyError\u001b[39m                                  Traceback (most recent call last)",
      "\u001b[36mCell\u001b[39m\u001b[36m \u001b[39m\u001b[32mIn[23]\u001b[39m\u001b[32m, line 3\u001b[39m\n\u001b[32m      1\u001b[39m api_url = \u001b[33m\"\u001b[39m\u001b[33mhttps://jsonplaceholder.typicode.com/todos\u001b[39m\u001b[33m\"\u001b[39m\n\u001b[32m      2\u001b[39m \u001b[38;5;28;01mwith\u001b[39;00m requests.options(api_url) \u001b[38;5;28;01mas\u001b[39;00m response:\n\u001b[32m----> \u001b[39m\u001b[32m3\u001b[39m     \u001b[38;5;28mprint\u001b[39m(\u001b[43mresponse\u001b[49m\u001b[43m.\u001b[49m\u001b[43mheaders\u001b[49m\u001b[43m[\u001b[49m\u001b[33;43m\"\u001b[39;49m\u001b[33;43mAllow\u001b[39;49m\u001b[33;43m\"\u001b[39;49m\u001b[43m]\u001b[49m)\n",
      "\u001b[36mFile \u001b[39m\u001b[32m~/dev/study/ablation_db/venv/lib/python3.13/site-packages/requests/structures.py:52\u001b[39m, in \u001b[36mCaseInsensitiveDict.__getitem__\u001b[39m\u001b[34m(self, key)\u001b[39m\n\u001b[32m     51\u001b[39m \u001b[38;5;28;01mdef\u001b[39;00m\u001b[38;5;250m \u001b[39m\u001b[34m__getitem__\u001b[39m(\u001b[38;5;28mself\u001b[39m, key):\n\u001b[32m---> \u001b[39m\u001b[32m52\u001b[39m     \u001b[38;5;28;01mreturn\u001b[39;00m \u001b[38;5;28;43mself\u001b[39;49m\u001b[43m.\u001b[49m\u001b[43m_store\u001b[49m\u001b[43m[\u001b[49m\u001b[43mkey\u001b[49m\u001b[43m.\u001b[49m\u001b[43mlower\u001b[49m\u001b[43m(\u001b[49m\u001b[43m)\u001b[49m\u001b[43m]\u001b[49m[\u001b[32m1\u001b[39m]\n",
      "\u001b[31mKeyError\u001b[39m: 'allow'"
     ]
    }
   ],
   "source": [
    "api_url = \"https://jsonplaceholder.typicode.com/todos\"\n",
    "with requests.options(api_url) as response:\n",
    "    print(response.headers[\"Allow\"])"
   ]
  }
 ],
 "metadata": {
  "kernelspec": {
   "display_name": "venv",
   "language": "python",
   "name": "python3"
  },
  "language_info": {
   "codemirror_mode": {
    "name": "ipython",
    "version": 3
   },
   "file_extension": ".py",
   "mimetype": "text/x-python",
   "name": "python",
   "nbconvert_exporter": "python",
   "pygments_lexer": "ipython3",
   "version": "3.12.3"
  }
 },
 "nbformat": 4,
 "nbformat_minor": 2
}
