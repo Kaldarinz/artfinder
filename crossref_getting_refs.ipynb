{
 "cells": [
  {
   "cell_type": "code",
   "execution_count": 23,
   "metadata": {},
   "outputs": [
    {
     "name": "stdout",
     "output_type": "stream",
     "text": [
      "The autoreload extension is already loaded. To reload it, use:\n",
      "  %reload_ext autoreload\n"
     ]
    }
   ],
   "source": [
    "%load_ext autoreload\n",
    "%autoreload 2\n",
    "\n",
    "from artfinder import CrossrefArticle, Crossref, load_csv\n",
    "import pandas as pd\n",
    "import datetime\n",
    "import re\n",
    "import logging\n",
    "from json import dumps\n",
    "\n",
    "logging.basicConfig(level=logging.INFO)\n",
    "crosref = Crossref(app='artfinder', email='aapopov1@mephi.ru')"
   ]
  },
  {
   "cell_type": "code",
   "execution_count": 10,
   "metadata": {},
   "outputs": [
    {
     "name": "stdout",
     "output_type": "stream",
     "text": [
      "<class 'pandas.core.frame.DataFrame'>\n",
      "RangeIndex: 251 entries, 0 to 250\n",
      "Data columns (total 21 columns):\n",
      " #   Column                  Non-Null Count  Dtype         \n",
      "---  ------                  --------------  -----         \n",
      " 0   publisher               251 non-null    string        \n",
      " 1   license                 149 non-null    object        \n",
      " 2   is_referenced_by_count  251 non-null    int64         \n",
      " 3   link                    203 non-null    object        \n",
      " 4   authors                 251 non-null    object        \n",
      " 5   abstract                78 non-null     string        \n",
      " 6   title                   251 non-null    string        \n",
      " 7   doi                     251 non-null    string        \n",
      " 8   type                    251 non-null    string        \n",
      " 9   journal                 247 non-null    string        \n",
      " 10  issn                    210 non-null    string        \n",
      " 11  volume                  206 non-null    string        \n",
      " 12  issue                   169 non-null    string        \n",
      " 13  start_page              222 non-null    string        \n",
      " 14  end_page                107 non-null    string        \n",
      " 15  publication_date        250 non-null    datetime64[ns]\n",
      " 16  references              197 non-null    object        \n",
      " 17  ablation                251 non-null    bool          \n",
      " 18  pmid                    0 non-null      object        \n",
      " 19  pmcid                   0 non-null      object        \n",
      " 20  keywords                0 non-null      object        \n",
      "dtypes: bool(1), datetime64[ns](1), int64(1), object(7), string(11)\n",
      "memory usage: 39.6+ KB\n"
     ]
    }
   ],
   "source": [
    "df = load_csv('database/processed/kabashin_full.csv')\n",
    "df.info()"
   ]
  },
  {
   "cell_type": "code",
   "execution_count": 11,
   "metadata": {},
   "outputs": [
    {
     "name": "stdout",
     "output_type": "stream",
     "text": [
      "Total references: 7595\n",
      "Unique references: 4181\n"
     ]
    },
    {
     "data": {
      "text/plain": [
       "['10.1063/1.1628830',\n",
       " '10.1021/ac8007219',\n",
       " '10.1021/ph5002186',\n",
       " '10.1016/j.jcrysgro.2004.04.120',\n",
       " '10.1038/s41563-022-01287-1',\n",
       " '10.1021/jp002340c',\n",
       " '10.2967/jnumed.112.107540',\n",
       " '10.1016/S0304-3835(99)00105-6',\n",
       " '10.1070/RC1995v064n10ABEH000188',\n",
       " '10.1259/bjr/13169882']"
      ]
     },
     "execution_count": 11,
     "metadata": {},
     "output_type": "execute_result"
    }
   ],
   "source": [
    "all_refs = []\n",
    "for ret_list in df['references']:\n",
    "    if ret_list is not None:\n",
    "        all_refs.extend(ret_list)\n",
    "\n",
    "print(f\"Total references: {len(all_refs)}\")\n",
    "all_refs = list(set(all_refs))\n",
    "print(f\"Unique references: {len(all_refs)}\")\n",
    "all_refs[:10]"
   ]
  },
  {
   "cell_type": "code",
   "execution_count": 15,
   "metadata": {},
   "outputs": [
    {
     "name": "stderr",
     "output_type": "stream",
     "text": [
      "INFO:artfinder.api:Found 4181 unique references.\n"
     ]
    },
    {
     "name": "stdout",
     "output_type": "stream",
     "text": [
      "106/4181: https://api.crossref.org/works/10.1038/nrd838-008-4737-27.0035)83:12<2580::AID-CNCR25>3.0.CO;2-C\r"
     ]
    },
    {
     "name": "stderr",
     "output_type": "stream",
     "text": [
      "ERROR:artfinder.api:Error parsing https://api.crossref.org/works/10.1201/b12252: list index out of range\n"
     ]
    },
    {
     "name": "stdout",
     "output_type": "stream",
     "text": [
      "149/4181: https://api.crossref.org/works/10.1016/j.actbio.2018.06.01004.063\r"
     ]
    },
    {
     "name": "stderr",
     "output_type": "stream",
     "text": [
      "ERROR:artfinder.api:Error parsing https://api.crossref.org/works/10.1002/9783527641901: list index out of range\n"
     ]
    },
    {
     "name": "stdout",
     "output_type": "stream",
     "text": [
      "176/4181: https://api.crossref.org/works/10.1002/adom.20180167208.0131734\r"
     ]
    },
    {
     "name": "stderr",
     "output_type": "stream",
     "text": [
      "ERROR:artfinder.api:Error parsing https://api.crossref.org/works/10.1002/(ISSN)1096-9101: list index out of range\n"
     ]
    },
    {
     "name": "stdout",
     "output_type": "stream",
     "text": [
      "368/4181: https://api.crossref.org/works/10.1002/anie.20211753063037-047638\r"
     ]
    },
    {
     "name": "stderr",
     "output_type": "stream",
     "text": [
      "ERROR:artfinder.api:Error parsing https://api.crossref.org/works/10.1017/CBO9780511794193: list index out of range\n"
     ]
    },
    {
     "name": "stdout",
     "output_type": "stream",
     "text": [
      "476/4181: https://api.crossref.org/works/10.1039/c3tb20285b83)90153-40.11921223\r"
     ]
    },
    {
     "name": "stderr",
     "output_type": "stream",
     "text": [
      "ERROR:artfinder.api:Error parsing https://api.crossref.org/works/10.1201/b17170: list index out of range\n"
     ]
    },
    {
     "name": "stdout",
     "output_type": "stream",
     "text": [
      "492/4181: https://api.crossref.org/works/10.1021/acsami.6b0364052-y3901\r"
     ]
    },
    {
     "name": "stderr",
     "output_type": "stream",
     "text": [
      "ERROR:artfinder.api:Error parsing https://api.crossref.org/works/10.1201/9781315206554: list index out of range\n"
     ]
    },
    {
     "name": "stdout",
     "output_type": "stream",
     "text": [
      "519/4181: https://api.crossref.org/works/10.1021/nn2009112c522.1101697\r"
     ]
    },
    {
     "name": "stderr",
     "output_type": "stream",
     "text": [
      "ERROR:artfinder.api:Error parsing https://api.crossref.org/works/10.1201/b14668: list index out of range\n"
     ]
    },
    {
     "name": "stdout",
     "output_type": "stream",
     "text": [
      "534/4181: https://api.crossref.org/works/10.1021/jp10936140271319.012\r"
     ]
    },
    {
     "name": "stderr",
     "output_type": "stream",
     "text": [
      "ERROR:artfinder.api:Error parsing https://api.crossref.org/works/10.1007/0-387-37825-1: list index out of range\n"
     ]
    },
    {
     "name": "stdout",
     "output_type": "stream",
     "text": [
      "540/4181: https://api.crossref.org/works/10.1109/JQE.2005.8479037.081\r"
     ]
    },
    {
     "name": "stderr",
     "output_type": "stream",
     "text": [
      "ERROR:artfinder.api:Error parsing https://api.crossref.org/works/10.1017/CBO9780511606168: list index out of range\n"
     ]
    },
    {
     "name": "stdout",
     "output_type": "stream",
     "text": [
      "557/4181: https://api.crossref.org/works/10.2174/1874471011104040283-8\r"
     ]
    },
    {
     "name": "stderr",
     "output_type": "stream",
     "text": [
      "ERROR:artfinder.api:Error parsing https://api.crossref.org/works/10.1142/8056: list index out of range\n"
     ]
    },
    {
     "name": "stdout",
     "output_type": "stream",
     "text": [
      "604/4181: https://api.crossref.org/works/10.1103/PhysRevLett.26.10120414\r"
     ]
    },
    {
     "name": "stderr",
     "output_type": "stream",
     "text": [
      "ERROR:artfinder.api:Error parsing https://api.crossref.org/works/10.1039/9781788010283: list index out of range\n"
     ]
    },
    {
     "name": "stdout",
     "output_type": "stream",
     "text": [
      "663/4181: https://api.crossref.org/works/10.1016/j.jelechem.2004.02.013048\r"
     ]
    },
    {
     "name": "stderr",
     "output_type": "stream",
     "text": [
      "ERROR:artfinder.api:Error fetching https://api.crossref.org/works/10.1016/j.biomaterals.2017.10.048: 404\n"
     ]
    },
    {
     "name": "stdout",
     "output_type": "stream",
     "text": [
      "703/4181: https://api.crossref.org/works/10.1116/1.5908015b23143-569-032806.104607\r"
     ]
    },
    {
     "name": "stderr",
     "output_type": "stream",
     "text": [
      "ERROR:artfinder.api:Error parsing https://api.crossref.org/works/10.1201/9781315185231: list index out of range\n"
     ]
    },
    {
     "name": "stdout",
     "output_type": "stream",
     "text": [
      "725/4181: https://api.crossref.org/works/10.3390/app1003087499)01329-32\r"
     ]
    },
    {
     "name": "stderr",
     "output_type": "stream",
     "text": [
      "ERROR:artfinder.api:Error parsing https://api.crossref.org/works/10.1002/(ISSN)1521-4095: list index out of range\n"
     ]
    },
    {
     "name": "stdout",
     "output_type": "stream",
     "text": [
      "847/4181: https://api.crossref.org/works/10.1111/j.1742-4658.2008.06438.x149<147::AID-ADMA147>3.0.CO;2-U\r"
     ]
    },
    {
     "name": "stderr",
     "output_type": "stream",
     "text": [
      "ERROR:artfinder.api:Error parsing https://api.crossref.org/works/10.1007/978-94-011-6017-9: list index out of range\n"
     ]
    },
    {
     "name": "stdout",
     "output_type": "stream",
     "text": [
      "1023/4181: https://api.crossref.org/works/10.1364/JOT.81.00025071-833-70471\r"
     ]
    },
    {
     "name": "stderr",
     "output_type": "stream",
     "text": [
      "ERROR:artfinder.api:Error parsing https://api.crossref.org/works/10.1002/9783527629954: list index out of range\n"
     ]
    },
    {
     "name": "stdout",
     "output_type": "stream",
     "text": [
      "1177/4181: https://api.crossref.org/works/10.1016/j.cplett.2007.12.0424586.x.20\r"
     ]
    },
    {
     "name": "stderr",
     "output_type": "stream",
     "text": [
      "ERROR:artfinder.api:Error parsing https://api.crossref.org/works/10.1142/p815: list index out of range\n"
     ]
    },
    {
     "name": "stdout",
     "output_type": "stream",
     "text": [
      "1229/4181: https://api.crossref.org/works/10.1016/0022-3093(93)90286-701.039\r"
     ]
    },
    {
     "name": "stderr",
     "output_type": "stream",
     "text": [
      "ERROR:artfinder.api:Error parsing https://api.crossref.org/works/10.1007/978-1-4419-5860-0: list index out of range\n"
     ]
    },
    {
     "name": "stdout",
     "output_type": "stream",
     "text": [
      "1312/4181: https://api.crossref.org/works/10.1103/PhysRevE.84.0219095-5308.x\r"
     ]
    },
    {
     "name": "stderr",
     "output_type": "stream",
     "text": [
      "ERROR:artfinder.api:Error parsing https://api.crossref.org/works/10.1017/CBO9780511535468: list index out of range\n"
     ]
    },
    {
     "name": "stdout",
     "output_type": "stream",
     "text": [
      "1467/4181: https://api.crossref.org/works/10.1063/1.4812323/13/12/33216002152025\r"
     ]
    },
    {
     "name": "stderr",
     "output_type": "stream",
     "text": [
      "ERROR:artfinder.api:Error parsing https://api.crossref.org/works/10.1017/CBO9780511626531: list index out of range\n"
     ]
    },
    {
     "name": "stdout",
     "output_type": "stream",
     "text": [
      "1654/4181: https://api.crossref.org/works/10.1038/nphoton.2012.244-4011.34104<263::AID-MOP19>3.0.CO;2-8\r"
     ]
    },
    {
     "name": "stderr",
     "output_type": "stream",
     "text": [
      "ERROR:artfinder.api:Error parsing https://api.crossref.org/works/10.1039/9781847558220: list index out of range\n"
     ]
    },
    {
     "name": "stdout",
     "output_type": "stream",
     "text": [
      "1660/4181: https://api.crossref.org/works/10.1158/0008-5472.CAN-05-3521\r"
     ]
    },
    {
     "name": "stderr",
     "output_type": "stream",
     "text": [
      "ERROR:artfinder.api:Error parsing https://api.crossref.org/works/10.1002/9780470286364: list index out of range\n"
     ]
    },
    {
     "name": "stdout",
     "output_type": "stream",
     "text": [
      "1705/4181: https://api.crossref.org/works/10.1016/S0360-3016(02)04392-402\r"
     ]
    },
    {
     "name": "stderr",
     "output_type": "stream",
     "text": [
      "ERROR:artfinder.api:Error parsing https://api.crossref.org/works/10.1142/p116: list index out of range\n"
     ]
    },
    {
     "name": "stdout",
     "output_type": "stream",
     "text": [
      "2079/4181: https://api.crossref.org/works/10.1016/S0169-4332(00)00849-7202351::AID-CNCR2820630334>3.0.CO;2-2\r"
     ]
    },
    {
     "name": "stderr",
     "output_type": "stream",
     "text": [
      "ERROR:artfinder.api:Error fetching https://api.crossref.org/works/10.1016/j.cccn.2005.03.014: 429\n",
      "ERROR:artfinder.api:Error fetching https://api.crossref.org/works/10.1021/jp045167j: 429\n"
     ]
    },
    {
     "name": "stdout",
     "output_type": "stream",
     "text": [
      "2081/4181: https://api.crossref.org/works/10.1039/c2nr11763k1\r"
     ]
    },
    {
     "name": "stderr",
     "output_type": "stream",
     "text": [
      "ERROR:artfinder.api:Error fetching https://api.crossref.org/works/10.1039/C5SC02546J: 429\n"
     ]
    },
    {
     "name": "stdout",
     "output_type": "stream",
     "text": [
      "2083/4181: https://api.crossref.org/works/10.1088/0957-4484/27/46/462001\r"
     ]
    },
    {
     "name": "stderr",
     "output_type": "stream",
     "text": [
      "ERROR:artfinder.api:Error fetching https://api.crossref.org/works/10.1021/js960085v: 429\n",
      "ERROR:artfinder.api:Error fetching https://api.crossref.org/works/10.1021/ja044446h: 429\n",
      "ERROR:artfinder.api:Error fetching https://api.crossref.org/works/10.1016/0030-4018(79)90076-2: 429\n",
      "ERROR:artfinder.api:Error fetching https://api.crossref.org/works/10.1016/j.biomaterials.2017.10.048: 429\n"
     ]
    },
    {
     "name": "stdout",
     "output_type": "stream",
     "text": [
      "2085/4181: https://api.crossref.org/works/10.1016/j.jmb.2008.07.0851-0\r"
     ]
    },
    {
     "name": "stderr",
     "output_type": "stream",
     "text": [
      "ERROR:artfinder.api:Error fetching https://api.crossref.org/works/10.1021/nn1003937: 429\n",
      "ERROR:artfinder.api:Error fetching https://api.crossref.org/works/10.1021/acsphotonics.7b01038: 429\n",
      "ERROR:artfinder.api:Error fetching https://api.crossref.org/works/10.1590/S0104-66322011000300001: 429\n"
     ]
    },
    {
     "name": "stdout",
     "output_type": "stream",
     "text": [
      "2087/4181: https://api.crossref.org/works/10.1038/s41467-021-21595-5\r"
     ]
    },
    {
     "name": "stderr",
     "output_type": "stream",
     "text": [
      "ERROR:artfinder.api:Error fetching https://api.crossref.org/works/10.1038/srep33126: 429\n",
      "ERROR:artfinder.api:Error fetching https://api.crossref.org/works/10.1016/S0925-4005(03)00113-8: 429\n",
      "ERROR:artfinder.api:Error fetching https://api.crossref.org/works/10.1016/j.nima.2022.167537: 429\n",
      "ERROR:artfinder.api:Error fetching https://api.crossref.org/works/10.1002/anie.200501256: 429\n"
     ]
    },
    {
     "name": "stdout",
     "output_type": "stream",
     "text": [
      "2088/4181: https://api.crossref.org/works/10.1016/S0927-0256(01)00263-4\r"
     ]
    },
    {
     "name": "stderr",
     "output_type": "stream",
     "text": [
      "ERROR:artfinder.api:Error fetching https://api.crossref.org/works/10.1126/science.1226204: 429\n",
      "ERROR:artfinder.api:Error fetching https://api.crossref.org/works/10.1016/j.jconrel.2022.04.016: 429\n"
     ]
    },
    {
     "name": "stdout",
     "output_type": "stream",
     "text": [
      "2090/4181: https://api.crossref.org/works/10.1364/JOSAA.402023617-6\r"
     ]
    },
    {
     "name": "stderr",
     "output_type": "stream",
     "text": [
      "ERROR:artfinder.api:Error fetching https://api.crossref.org/works/10.2351/1.4712658: 429\n",
      "ERROR:artfinder.api:Error fetching https://api.crossref.org/works/10.1021/ja002956f: 429\n"
     ]
    },
    {
     "name": "stdout",
     "output_type": "stream",
     "text": [
      "2091/4181: https://api.crossref.org/works/10.1021/acsnano.2c03310\r"
     ]
    },
    {
     "name": "stderr",
     "output_type": "stream",
     "text": [
      "ERROR:artfinder.api:Error fetching https://api.crossref.org/works/10.1103/PhysRevB.72.195206: 429\n"
     ]
    },
    {
     "name": "stdout",
     "output_type": "stream",
     "text": [
      "2092/4181: https://api.crossref.org/works/10.1021/la300819u\r"
     ]
    },
    {
     "name": "stderr",
     "output_type": "stream",
     "text": [
      "ERROR:artfinder.api:Error fetching https://api.crossref.org/works/10.1007/s11947-011-0516-8: 429\n"
     ]
    },
    {
     "name": "stdout",
     "output_type": "stream",
     "text": [
      "2093/4181: https://api.crossref.org/works/10.1016/0079-6786(79)90001-3\r"
     ]
    },
    {
     "name": "stderr",
     "output_type": "stream",
     "text": [
      "ERROR:artfinder.api:Error fetching https://api.crossref.org/works/10.1021/acsnano.5b05419: 429\n"
     ]
    },
    {
     "name": "stdout",
     "output_type": "stream",
     "text": [
      "2095/4181: https://api.crossref.org/works/10.1016/j.solmat.2015.12.027\r"
     ]
    },
    {
     "name": "stderr",
     "output_type": "stream",
     "text": [
      "ERROR:artfinder.api:Error fetching https://api.crossref.org/works/10.1038/ncomms4402: 429\n",
      "ERROR:artfinder.api:Error fetching https://api.crossref.org/works/10.1007/s13534-018-0062-7: 429\n"
     ]
    },
    {
     "name": "stdout",
     "output_type": "stream",
     "text": [
      "2096/4181: https://api.crossref.org/works/10.1364/OE.19.022377\r"
     ]
    },
    {
     "name": "stderr",
     "output_type": "stream",
     "text": [
      "ERROR:artfinder.api:Error fetching https://api.crossref.org/works/10.1016/j.scitotenv.2021.149662: 429\n"
     ]
    },
    {
     "name": "stdout",
     "output_type": "stream",
     "text": [
      "2097/4181: https://api.crossref.org/works/10.1063/1.2360186\r"
     ]
    },
    {
     "name": "stderr",
     "output_type": "stream",
     "text": [
      "ERROR:artfinder.api:Error fetching https://api.crossref.org/works/10.1103/PhysRevB.66.155411: 429\n"
     ]
    },
    {
     "name": "stdout",
     "output_type": "stream",
     "text": [
      "2098/4181: https://api.crossref.org/works/10.1103/PhysRevLett.80.4406\r"
     ]
    },
    {
     "name": "stderr",
     "output_type": "stream",
     "text": [
      "ERROR:artfinder.api:Error fetching https://api.crossref.org/works/10.1063/1.367373: 429\n"
     ]
    },
    {
     "name": "stdout",
     "output_type": "stream",
     "text": [
      "2099/4181: https://api.crossref.org/works/10.1364/OE.19.009035\r"
     ]
    },
    {
     "name": "stderr",
     "output_type": "stream",
     "text": [
      "ERROR:artfinder.api:Error fetching https://api.crossref.org/works/10.1016/j.vacuum.2024.113739: 429\n"
     ]
    },
    {
     "name": "stdout",
     "output_type": "stream",
     "text": [
      "2100/4181: https://api.crossref.org/works/10.1039/C4CS00330F\r"
     ]
    },
    {
     "name": "stderr",
     "output_type": "stream",
     "text": [
      "ERROR:artfinder.api:Error fetching https://api.crossref.org/works/10.1016/j.aca.2021.338623: 429\n"
     ]
    },
    {
     "name": "stdout",
     "output_type": "stream",
     "text": [
      "2101/4181: https://api.crossref.org/works/10.1134/1.1823072\r"
     ]
    },
    {
     "name": "stderr",
     "output_type": "stream",
     "text": [
      "ERROR:artfinder.api:Error fetching https://api.crossref.org/works/10.1039/df9511100055: 429\n"
     ]
    },
    {
     "name": "stdout",
     "output_type": "stream",
     "text": [
      "2102/4181: https://api.crossref.org/works/10.1038/nrc1566\r"
     ]
    },
    {
     "name": "stderr",
     "output_type": "stream",
     "text": [
      "ERROR:artfinder.api:Error fetching https://api.crossref.org/works/10.1016/j.apcatb.2009.06.021: 429\n"
     ]
    },
    {
     "name": "stdout",
     "output_type": "stream",
     "text": [
      "2103/4181: https://api.crossref.org/works/10.1088/0022-3727/42/11/113001\r"
     ]
    },
    {
     "name": "stderr",
     "output_type": "stream",
     "text": [
      "ERROR:artfinder.api:Error fetching https://api.crossref.org/works/10.1021/nl202606g: 429\n"
     ]
    },
    {
     "name": "stdout",
     "output_type": "stream",
     "text": [
      "2104/4181: https://api.crossref.org/works/10.1109/JSEN.2023.3268168\r"
     ]
    },
    {
     "name": "stderr",
     "output_type": "stream",
     "text": [
      "ERROR:artfinder.api:Error fetching https://api.crossref.org/works/10.1016/j.addr.2014.03.001: 429\n",
      "ERROR:artfinder.api:Error fetching https://api.crossref.org/works/10.1021/nn4000644: 429\n"
     ]
    },
    {
     "name": "stdout",
     "output_type": "stream",
     "text": [
      "2106/4181: https://api.crossref.org/works/10.1016/S0169-4332(02)01280-1\r"
     ]
    },
    {
     "name": "stderr",
     "output_type": "stream",
     "text": [
      "ERROR:artfinder.api:Error fetching https://api.crossref.org/works/10.1006/abio.1998.2759: 429\n"
     ]
    },
    {
     "name": "stdout",
     "output_type": "stream",
     "text": [
      "2107/4181: https://api.crossref.org/works/10.1039/C3DT52004H\r"
     ]
    },
    {
     "name": "stderr",
     "output_type": "stream",
     "text": [
      "ERROR:artfinder.api:Error fetching https://api.crossref.org/works/10.1016/S0009-2614(99)00642-9: 429\n"
     ]
    },
    {
     "name": "stdout",
     "output_type": "stream",
     "text": [
      "2108/4181: https://api.crossref.org/works/10.1038/nature07012\r"
     ]
    },
    {
     "name": "stderr",
     "output_type": "stream",
     "text": [
      "ERROR:artfinder.api:Error fetching https://api.crossref.org/works/10.1038/s41592-021-01261-w: 429\n"
     ]
    },
    {
     "name": "stdout",
     "output_type": "stream",
     "text": [
      "2109/4181: https://api.crossref.org/works/10.1021/nn203293t\r"
     ]
    },
    {
     "name": "stderr",
     "output_type": "stream",
     "text": [
      "ERROR:artfinder.api:Error fetching https://api.crossref.org/works/10.1038/nrc3925: 429\n"
     ]
    },
    {
     "name": "stdout",
     "output_type": "stream",
     "text": [
      "2110/4181: https://api.crossref.org/works/10.1021/ac0702084\r"
     ]
    },
    {
     "name": "stderr",
     "output_type": "stream",
     "text": [
      "ERROR:artfinder.api:Error fetching https://api.crossref.org/works/10.3390/s22062116: 429\n",
      "ERROR:artfinder.api:Error fetching https://api.crossref.org/works/10.3390/nano10071289: 429\n"
     ]
    },
    {
     "name": "stdout",
     "output_type": "stream",
     "text": [
      "2112/4181: https://api.crossref.org/works/10.1021/acs.jpclett.6b00571r.2016.03.097\r"
     ]
    },
    {
     "name": "stderr",
     "output_type": "stream",
     "text": [
      "ERROR:artfinder.api:Error fetching https://api.crossref.org/works/10.1364/OME.8.003036: 429\n"
     ]
    },
    {
     "name": "stdout",
     "output_type": "stream",
     "text": [
      "2113/4181: https://api.crossref.org/works/10.3390/cancers7010353\r"
     ]
    },
    {
     "name": "stderr",
     "output_type": "stream",
     "text": [
      "ERROR:artfinder.api:Error fetching https://api.crossref.org/works/10.1021/acs.bioconjchem.6b00512: 429\n",
      "ERROR:artfinder.api:Error fetching https://api.crossref.org/works/10.1364/AO.33.005197: 429\n"
     ]
    },
    {
     "name": "stdout",
     "output_type": "stream",
     "text": [
      "2115/4181: https://api.crossref.org/works/10.1088/0957-4484/25/2/025101\r"
     ]
    },
    {
     "name": "stderr",
     "output_type": "stream",
     "text": [
      "ERROR:artfinder.api:Error fetching https://api.crossref.org/works/10.1039/C7RA00134G: 429\n"
     ]
    },
    {
     "name": "stdout",
     "output_type": "stream",
     "text": [
      "2116/4181: https://api.crossref.org/works/10.1002/pssa.200306520\r"
     ]
    },
    {
     "name": "stderr",
     "output_type": "stream",
     "text": [
      "ERROR:artfinder.api:Error fetching https://api.crossref.org/works/10.1016/j.ccr.2005.01.030: 429\n"
     ]
    },
    {
     "name": "stdout",
     "output_type": "stream",
     "text": [
      "2117/4181: https://api.crossref.org/works/10.1016/0038-1098(75)90876-5\r"
     ]
    },
    {
     "name": "stderr",
     "output_type": "stream",
     "text": [
      "ERROR:artfinder.api:Error fetching https://api.crossref.org/works/10.1002/bbpc.19840881010: 429\n"
     ]
    },
    {
     "name": "stdout",
     "output_type": "stream",
     "text": [
      "2118/4181: https://api.crossref.org/works/10.1080/17458080802570625\r"
     ]
    },
    {
     "name": "stderr",
     "output_type": "stream",
     "text": [
      "ERROR:artfinder.api:Error fetching https://api.crossref.org/works/10.1016/S0039-6028(83)80051-X: 429\n"
     ]
    },
    {
     "name": "stdout",
     "output_type": "stream",
     "text": [
      "2119/4181: https://api.crossref.org/works/10.1109/JSTQE.2013.2286076\r"
     ]
    },
    {
     "name": "stderr",
     "output_type": "stream",
     "text": [
      "ERROR:artfinder.api:Error fetching https://api.crossref.org/works/10.1039/c2lc40455a: 429\n"
     ]
    },
    {
     "name": "stdout",
     "output_type": "stream",
     "text": [
      "2120/4181: https://api.crossref.org/works/10.1109/NAP.2018.8914938\r"
     ]
    },
    {
     "name": "stderr",
     "output_type": "stream",
     "text": [
      "ERROR:artfinder.api:Error fetching https://api.crossref.org/works/10.1063/1.5027133: 429\n"
     ]
    },
    {
     "name": "stdout",
     "output_type": "stream",
     "text": [
      "2122/4181: https://api.crossref.org/works/10.1016/j.scitotenv.2020.137222\r"
     ]
    },
    {
     "name": "stderr",
     "output_type": "stream",
     "text": [
      "ERROR:artfinder.api:Error fetching https://api.crossref.org/works/10.1038/s41467-022-29716-4: 429\n",
      "ERROR:artfinder.api:Error fetching https://api.crossref.org/works/10.1021/la980380q: 429\n"
     ]
    },
    {
     "name": "stdout",
     "output_type": "stream",
     "text": [
      "2123/4181: https://api.crossref.org/works/10.1002/adom.201900680\r"
     ]
    },
    {
     "name": "stderr",
     "output_type": "stream",
     "text": [
      "ERROR:artfinder.api:Error fetching https://api.crossref.org/works/10.7150/thno.36777: 429\n"
     ]
    },
    {
     "name": "stdout",
     "output_type": "stream",
     "text": [
      "2124/4181: https://api.crossref.org/works/10.1039/c2an15947c\r"
     ]
    },
    {
     "name": "stderr",
     "output_type": "stream",
     "text": [
      "ERROR:artfinder.api:Error fetching https://api.crossref.org/works/10.1016/0013-4686(92)87004-J: 429\n"
     ]
    },
    {
     "name": "stdout",
     "output_type": "stream",
     "text": [
      "2125/4181: https://api.crossref.org/works/10.1364/OL.36.004092\r"
     ]
    },
    {
     "name": "stderr",
     "output_type": "stream",
     "text": [
      "ERROR:artfinder.api:Error fetching https://api.crossref.org/works/10.1002/cyto.a.20769: 429\n"
     ]
    },
    {
     "name": "stdout",
     "output_type": "stream",
     "text": [
      "2126/4181: https://api.crossref.org/works/10.1134/S1023193510020102\r"
     ]
    },
    {
     "name": "stderr",
     "output_type": "stream",
     "text": [
      "ERROR:artfinder.api:Error fetching https://api.crossref.org/works/10.1002/jlcr.3627: 429\n"
     ]
    },
    {
     "name": "stdout",
     "output_type": "stream",
     "text": [
      "2127/4181: https://api.crossref.org/works/10.1007/s00340-002-0870-3\r"
     ]
    },
    {
     "name": "stderr",
     "output_type": "stream",
     "text": [
      "ERROR:artfinder.api:Error fetching https://api.crossref.org/works/10.1002/anbr.202200065: 429\n"
     ]
    },
    {
     "name": "stdout",
     "output_type": "stream",
     "text": [
      "2128/4181: https://api.crossref.org/works/10.1039/D0NA00806K\r"
     ]
    },
    {
     "name": "stderr",
     "output_type": "stream",
     "text": [
      "ERROR:artfinder.api:Error fetching https://api.crossref.org/works/10.1021/cr60056a006: 429\n"
     ]
    },
    {
     "name": "stdout",
     "output_type": "stream",
     "text": [
      "2129/4181: https://api.crossref.org/works/10.1364/OL.41.005446\r"
     ]
    },
    {
     "name": "stderr",
     "output_type": "stream",
     "text": [
      "ERROR:artfinder.api:Error fetching https://api.crossref.org/works/10.3103/S1068335621070058: 429\n"
     ]
    },
    {
     "name": "stdout",
     "output_type": "stream",
     "text": [
      "2130/4181: https://api.crossref.org/works/10.1088/1361-6528/aa8d89\r"
     ]
    },
    {
     "name": "stderr",
     "output_type": "stream",
     "text": [
      "ERROR:artfinder.api:Error fetching https://api.crossref.org/works/10.1021/nn500266b: 429\n"
     ]
    },
    {
     "name": "stdout",
     "output_type": "stream",
     "text": [
      "2131/4181: https://api.crossref.org/works/10.1021/acsnano.7b01530\r"
     ]
    },
    {
     "name": "stderr",
     "output_type": "stream",
     "text": [
      "ERROR:artfinder.api:Error fetching https://api.crossref.org/works/10.1146/annurev.ms.19.080189.002351: 429\n"
     ]
    },
    {
     "name": "stdout",
     "output_type": "stream",
     "text": [
      "2132/4181: https://api.crossref.org/works/10.1039/c2jm16851k\r"
     ]
    },
    {
     "name": "stderr",
     "output_type": "stream",
     "text": [
      "ERROR:artfinder.api:Error fetching https://api.crossref.org/works/10.1021/nl302200w: 429\n"
     ]
    },
    {
     "name": "stdout",
     "output_type": "stream",
     "text": [
      "2133/4181: https://api.crossref.org/works/10.1149/1.1391909\r"
     ]
    },
    {
     "name": "stderr",
     "output_type": "stream",
     "text": [
      "ERROR:artfinder.api:Error fetching https://api.crossref.org/works/10.1098/rsta.2005.1735: 429\n"
     ]
    },
    {
     "name": "stdout",
     "output_type": "stream",
     "text": [
      "2134/4181: https://api.crossref.org/works/10.1038/nnano.2009.242\r"
     ]
    },
    {
     "name": "stderr",
     "output_type": "stream",
     "text": [
      "ERROR:artfinder.api:Error fetching https://api.crossref.org/works/10.1103/PhysRevB.71.033406: 429\n"
     ]
    },
    {
     "name": "stdout",
     "output_type": "stream",
     "text": [
      "2135/4181: https://api.crossref.org/works/10.1002/cmmi.232\r"
     ]
    },
    {
     "name": "stderr",
     "output_type": "stream",
     "text": [
      "ERROR:artfinder.api:Error fetching https://api.crossref.org/works/10.1021/acs.chemmater.5b00128: 429\n"
     ]
    },
    {
     "name": "stdout",
     "output_type": "stream",
     "text": [
      "2136/4181: https://api.crossref.org/works/10.1016/j.nano.2016.08.016\r"
     ]
    },
    {
     "name": "stderr",
     "output_type": "stream",
     "text": [
      "ERROR:artfinder.api:Error fetching https://api.crossref.org/works/10.1021/cm980408j: 429\n"
     ]
    },
    {
     "name": "stdout",
     "output_type": "stream",
     "text": [
      "2137/4181: https://api.crossref.org/works/10.1080/1061186021000054933\r"
     ]
    },
    {
     "name": "stderr",
     "output_type": "stream",
     "text": [
      "ERROR:artfinder.api:Error fetching https://api.crossref.org/works/10.1002/adfm.202113353: 429\n"
     ]
    },
    {
     "name": "stdout",
     "output_type": "stream",
     "text": [
      "2138/4181: https://api.crossref.org/works/10.1126/science.121.3141.345\r"
     ]
    },
    {
     "name": "stderr",
     "output_type": "stream",
     "text": [
      "ERROR:artfinder.api:Error fetching https://api.crossref.org/works/10.1103/PhysRevLett.97.177401: 429\n"
     ]
    },
    {
     "name": "stdout",
     "output_type": "stream",
     "text": [
      "2139/4181: https://api.crossref.org/works/10.1063/1.125493\r"
     ]
    },
    {
     "name": "stderr",
     "output_type": "stream",
     "text": [
      "ERROR:artfinder.api:Error fetching https://api.crossref.org/works/10.1007/s00340-013-5737-2: 429\n"
     ]
    },
    {
     "name": "stdout",
     "output_type": "stream",
     "text": [
      "2140/4181: https://api.crossref.org/works/10.1016/0039-6028(76)90450-7\r"
     ]
    },
    {
     "name": "stderr",
     "output_type": "stream",
     "text": [
      "ERROR:artfinder.api:Error fetching https://api.crossref.org/works/10.1002/advs.201900471: 429\n"
     ]
    },
    {
     "name": "stdout",
     "output_type": "stream",
     "text": [
      "2141/4181: https://api.crossref.org/works/10.1063/1.2136070\r"
     ]
    },
    {
     "name": "stderr",
     "output_type": "stream",
     "text": [
      "ERROR:artfinder.api:Error fetching https://api.crossref.org/works/10.1007/s12274-014-0697-3: 429\n"
     ]
    },
    {
     "name": "stdout",
     "output_type": "stream",
     "text": [
      "2142/4181: https://api.crossref.org/works/10.1016/S0925-4005(03)00524-0\r"
     ]
    },
    {
     "name": "stderr",
     "output_type": "stream",
     "text": [
      "ERROR:artfinder.api:Error fetching https://api.crossref.org/works/10.1103/PhysRevLett.78.729: 429\n"
     ]
    },
    {
     "name": "stdout",
     "output_type": "stream",
     "text": [
      "2143/4181: https://api.crossref.org/works/10.1088/0957-4484/21/31/315101\r"
     ]
    },
    {
     "name": "stderr",
     "output_type": "stream",
     "text": [
      "ERROR:artfinder.api:Error fetching https://api.crossref.org/works/10.1021/acs.jpclett.2c00751: 429\n"
     ]
    },
    {
     "name": "stdout",
     "output_type": "stream",
     "text": [
      "2144/4181: https://api.crossref.org/works/10.1007/s00216-009-2883-9\r"
     ]
    },
    {
     "name": "stderr",
     "output_type": "stream",
     "text": [
      "ERROR:artfinder.api:Error fetching https://api.crossref.org/works/10.1002/pssb.19660150224: 429\n"
     ]
    },
    {
     "name": "stdout",
     "output_type": "stream",
     "text": [
      "2145/4181: https://api.crossref.org/works/10.1016/S0169-4332(99)00279-2\r"
     ]
    },
    {
     "name": "stderr",
     "output_type": "stream",
     "text": [
      "ERROR:artfinder.api:Error fetching https://api.crossref.org/works/10.1016/j.ejmp.2021.08.008: 429\n"
     ]
    },
    {
     "name": "stdout",
     "output_type": "stream",
     "text": [
      "2146/4181: https://api.crossref.org/works/10.1002/smll.201002291\r"
     ]
    },
    {
     "name": "stderr",
     "output_type": "stream",
     "text": [
      "ERROR:artfinder.api:Error fetching https://api.crossref.org/works/10.1039/c1cc11784j: 429\n"
     ]
    },
    {
     "name": "stdout",
     "output_type": "stream",
     "text": [
      "2147/4181: https://api.crossref.org/works/10.1016/S0142-9612(01)00094-1\r"
     ]
    },
    {
     "name": "stderr",
     "output_type": "stream",
     "text": [
      "ERROR:artfinder.api:Error fetching https://api.crossref.org/works/10.1038/s41598-018-19897-8: 429\n"
     ]
    },
    {
     "name": "stdout",
     "output_type": "stream",
     "text": [
      "2148/4181: https://api.crossref.org/works/10.1111/j.1440-1746.2006.04449.x\r"
     ]
    },
    {
     "name": "stderr",
     "output_type": "stream",
     "text": [
      "ERROR:artfinder.api:Error fetching https://api.crossref.org/works/10.3390/mi12040426: 429\n"
     ]
    },
    {
     "name": "stdout",
     "output_type": "stream",
     "text": [
      "2149/4181: https://api.crossref.org/works/10.1088/1361-6528/aa5b7c\r"
     ]
    },
    {
     "name": "stderr",
     "output_type": "stream",
     "text": [
      "ERROR:artfinder.api:Error fetching https://api.crossref.org/works/10.1103/PhysRevLett.116.061102: 429\n"
     ]
    },
    {
     "name": "stdout",
     "output_type": "stream",
     "text": [
      "2150/4181: https://api.crossref.org/works/10.1016/0924-4247(91)87085-H\r"
     ]
    },
    {
     "name": "stderr",
     "output_type": "stream",
     "text": [
      "ERROR:artfinder.api:Error fetching https://api.crossref.org/works/10.1039/C7AN01680H: 429\n"
     ]
    },
    {
     "name": "stdout",
     "output_type": "stream",
     "text": [
      "2151/4181: https://api.crossref.org/works/10.1002/adfm.201902692\r"
     ]
    },
    {
     "name": "stderr",
     "output_type": "stream",
     "text": [
      "ERROR:artfinder.api:Error fetching https://api.crossref.org/works/10.1038/cdd.2017.44: 429\n"
     ]
    },
    {
     "name": "stdout",
     "output_type": "stream",
     "text": [
      "2152/4181: https://api.crossref.org/works/10.1002/adma.201606372\r"
     ]
    },
    {
     "name": "stderr",
     "output_type": "stream",
     "text": [
      "ERROR:artfinder.api:Error fetching https://api.crossref.org/works/10.1016/j.apsusc.2020.146952: 429\n"
     ]
    },
    {
     "name": "stdout",
     "output_type": "stream",
     "text": [
      "2153/4181: https://api.crossref.org/works/10.1016/j.biomaterials.2004.07.026\r"
     ]
    },
    {
     "name": "stderr",
     "output_type": "stream",
     "text": [
      "ERROR:artfinder.api:Error fetching https://api.crossref.org/works/10.2174/0929867023371355: 429\n"
     ]
    },
    {
     "name": "stdout",
     "output_type": "stream",
     "text": [
      "2154/4181: https://api.crossref.org/works/10.1038/s41598-019-41642-y\r"
     ]
    },
    {
     "name": "stderr",
     "output_type": "stream",
     "text": [
      "ERROR:artfinder.api:Error fetching https://api.crossref.org/works/10.1038/nrclinonc.2015.120: 429\n"
     ]
    },
    {
     "name": "stdout",
     "output_type": "stream",
     "text": [
      "2155/4181: https://api.crossref.org/works/10.1201/9781315274287\r"
     ]
    },
    {
     "name": "stderr",
     "output_type": "stream",
     "text": [
      "ERROR:artfinder.api:Error fetching https://api.crossref.org/works/10.5604/01.3001.0014.7760: 429\n"
     ]
    },
    {
     "name": "stdout",
     "output_type": "stream",
     "text": [
      "2156/4181: https://api.crossref.org/works/10.1021/jp104398f\r"
     ]
    },
    {
     "name": "stderr",
     "output_type": "stream",
     "text": [
      "ERROR:artfinder.api:Error fetching https://api.crossref.org/works/10.1021/ie400615f: 429\n"
     ]
    },
    {
     "name": "stdout",
     "output_type": "stream",
     "text": [
      "2157/4181: https://api.crossref.org/works/10.3367/UFNr.0111.197312a.0579\r"
     ]
    },
    {
     "name": "stderr",
     "output_type": "stream",
     "text": [
      "ERROR:artfinder.api:Error fetching https://api.crossref.org/works/10.1016/j.apsusc.2005.03.062: 429\n"
     ]
    },
    {
     "name": "stdout",
     "output_type": "stream",
     "text": [
      "2158/4181: https://api.crossref.org/works/10.1088/0022-3727/39/16/S04\r"
     ]
    },
    {
     "name": "stderr",
     "output_type": "stream",
     "text": [
      "ERROR:artfinder.api:Error fetching https://api.crossref.org/works/10.1103/PhysRevLett.36.591: 429\n"
     ]
    },
    {
     "name": "stdout",
     "output_type": "stream",
     "text": [
      "2159/4181: https://api.crossref.org/works/10.1002/lpor.202000215\r"
     ]
    },
    {
     "name": "stderr",
     "output_type": "stream",
     "text": [
      "ERROR:artfinder.api:Error fetching https://api.crossref.org/works/10.1021/nl403949h: 429\n"
     ]
    },
    {
     "name": "stdout",
     "output_type": "stream",
     "text": [
      "2160/4181: https://api.crossref.org/works/10.1016/j.gce.2022.05.002\r"
     ]
    },
    {
     "name": "stderr",
     "output_type": "stream",
     "text": [
      "ERROR:artfinder.api:Error fetching https://api.crossref.org/works/10.1006/jcat.1998.2050: 429\n"
     ]
    },
    {
     "name": "stdout",
     "output_type": "stream",
     "text": [
      "2161/4181: https://api.crossref.org/works/10.1016/j.biomaterials.2012.10.054\r"
     ]
    },
    {
     "name": "stderr",
     "output_type": "stream",
     "text": [
      "ERROR:artfinder.api:Error fetching https://api.crossref.org/works/10.1021/acscatal.8b03447: 429\n"
     ]
    },
    {
     "name": "stdout",
     "output_type": "stream",
     "text": [
      "2162/4181: https://api.crossref.org/works/10.1116/1.577661\r"
     ]
    },
    {
     "name": "stderr",
     "output_type": "stream",
     "text": [
      "ERROR:artfinder.api:Error fetching https://api.crossref.org/works/10.1038/s41596-020-0357-x: 429\n"
     ]
    },
    {
     "name": "stdout",
     "output_type": "stream",
     "text": [
      "2163/4181: https://api.crossref.org/works/10.1016/j.jhazmat.2016.05.063\r"
     ]
    },
    {
     "name": "stderr",
     "output_type": "stream",
     "text": [
      "ERROR:artfinder.api:Error fetching https://api.crossref.org/works/10.1088/1742-6596/59/1/074: 429\n"
     ]
    },
    {
     "name": "stdout",
     "output_type": "stream",
     "text": [
      "2164/4181: https://api.crossref.org/works/10.1021/nl0155274\r"
     ]
    },
    {
     "name": "stderr",
     "output_type": "stream",
     "text": [
      "ERROR:artfinder.api:Error fetching https://api.crossref.org/works/10.1116/1.588026: 429\n"
     ]
    },
    {
     "name": "stdout",
     "output_type": "stream",
     "text": [
      "2165/4181: https://api.crossref.org/works/10.1007/978-81-322-2607-9\r"
     ]
    },
    {
     "name": "stderr",
     "output_type": "stream",
     "text": [
      "ERROR:artfinder.api:Error fetching https://api.crossref.org/works/10.1142/p450: 429\n"
     ]
    },
    {
     "name": "stdout",
     "output_type": "stream",
     "text": [
      "2166/4181: https://api.crossref.org/works/10.1016/j.matchar.2006.02.005\r"
     ]
    },
    {
     "name": "stderr",
     "output_type": "stream",
     "text": [
      "ERROR:artfinder.api:Error fetching https://api.crossref.org/works/10.1021/jp047134+: 429\n"
     ]
    },
    {
     "name": "stdout",
     "output_type": "stream",
     "text": [
      "2167/4181: https://api.crossref.org/works/10.1117/12.271674\r"
     ]
    },
    {
     "name": "stderr",
     "output_type": "stream",
     "text": [
      "ERROR:artfinder.api:Error fetching https://api.crossref.org/works/10.1016/j.bios.2004.09.011: 429\n"
     ]
    },
    {
     "name": "stdout",
     "output_type": "stream",
     "text": [
      "2168/4181: https://api.crossref.org/works/10.1016/S1369-7021(07)70078-0\r"
     ]
    },
    {
     "name": "stderr",
     "output_type": "stream",
     "text": [
      "ERROR:artfinder.api:Error fetching https://api.crossref.org/works/10.1364/AO.48.002491: 429\n"
     ]
    },
    {
     "name": "stdout",
     "output_type": "stream",
     "text": [
      "2169/4181: https://api.crossref.org/works/10.1002/celc.201402436\r"
     ]
    },
    {
     "name": "stderr",
     "output_type": "stream",
     "text": [
      "ERROR:artfinder.api:Error fetching https://api.crossref.org/works/10.1039/C5CP00831J: 429\n"
     ]
    },
    {
     "name": "stdout",
     "output_type": "stream",
     "text": [
      "2170/4181: https://api.crossref.org/works/10.3389/fchem.2023.1153936\r"
     ]
    },
    {
     "name": "stderr",
     "output_type": "stream",
     "text": [
      "ERROR:artfinder.api:Error fetching https://api.crossref.org/works/10.1364/OE.16.010815: 429\n"
     ]
    },
    {
     "name": "stdout",
     "output_type": "stream",
     "text": [
      "2171/4181: https://api.crossref.org/works/10.1088/0034-4885/76/3/036502\r"
     ]
    },
    {
     "name": "stderr",
     "output_type": "stream",
     "text": [
      "ERROR:artfinder.api:Error fetching https://api.crossref.org/works/10.1117/1.JBO.23.12.125002: 429\n"
     ]
    },
    {
     "name": "stdout",
     "output_type": "stream",
     "text": [
      "2172/4181: https://api.crossref.org/works/10.1016/j.aca.2019.12.067\r"
     ]
    },
    {
     "name": "stderr",
     "output_type": "stream",
     "text": [
      "ERROR:artfinder.api:Error fetching https://api.crossref.org/works/10.1039/C6CS00616G: 429\n"
     ]
    },
    {
     "name": "stdout",
     "output_type": "stream",
     "text": [
      "2184/4181: https://api.crossref.org/works/10.1021/nl1042006b0262722652\r"
     ]
    },
    {
     "name": "stderr",
     "output_type": "stream",
     "text": [
      "ERROR:artfinder.api:Error fetching https://api.crossref.org/works/10.1103/PhysRevLett.97.230602: 429\n",
      "ERROR:artfinder.api:Error fetching https://api.crossref.org/works/10.1051/EPN:2007011: 429\n"
     ]
    },
    {
     "name": "stdout",
     "output_type": "stream",
     "text": [
      "2186/4181: https://api.crossref.org/works/10.1039/jm9920201105\r"
     ]
    },
    {
     "name": "stderr",
     "output_type": "stream",
     "text": [
      "ERROR:artfinder.api:Error fetching https://api.crossref.org/works/10.1111/trf.13449: 429\n"
     ]
    },
    {
     "name": "stdout",
     "output_type": "stream",
     "text": [
      "2187/4181: https://api.crossref.org/works/10.1038/ncomms10545\r"
     ]
    },
    {
     "name": "stderr",
     "output_type": "stream",
     "text": [
      "ERROR:artfinder.api:Error fetching https://api.crossref.org/works/10.1021/cm060750t: 429\n",
      "ERROR:artfinder.api:Error fetching https://api.crossref.org/works/10.1103/PhysRevB.68.155427: 429\n"
     ]
    },
    {
     "name": "stdout",
     "output_type": "stream",
     "text": [
      "2188/4181: https://api.crossref.org/works/10.1103/PhysRevLett.78.4289\r"
     ]
    },
    {
     "name": "stderr",
     "output_type": "stream",
     "text": [
      "ERROR:artfinder.api:Error fetching https://api.crossref.org/works/10.1089/ars.2012.5000: 429\n",
      "ERROR:artfinder.api:Error fetching https://api.crossref.org/works/10.1103/PhysRevLett.90.057401: 429\n"
     ]
    },
    {
     "name": "stdout",
     "output_type": "stream",
     "text": [
      "2189/4181: https://api.crossref.org/works/10.1021/nl0497373\r"
     ]
    },
    {
     "name": "stderr",
     "output_type": "stream",
     "text": [
      "ERROR:artfinder.api:Error fetching https://api.crossref.org/works/10.3390/bios13030411: 429\n",
      "ERROR:artfinder.api:Error fetching https://api.crossref.org/works/10.1063/1.1621457: 429\n"
     ]
    },
    {
     "name": "stdout",
     "output_type": "stream",
     "text": [
      "2190/4181: https://api.crossref.org/works/10.1016/j.nantod.2010.06.008\r"
     ]
    },
    {
     "name": "stderr",
     "output_type": "stream",
     "text": [
      "ERROR:artfinder.api:Error fetching https://api.crossref.org/works/10.1103/PhysRevLett.99.038301: 429\n"
     ]
    },
    {
     "name": "stdout",
     "output_type": "stream",
     "text": [
      "2191/4181: https://api.crossref.org/works/10.1002/bies.10112\r"
     ]
    },
    {
     "name": "stderr",
     "output_type": "stream",
     "text": [
      "ERROR:artfinder.api:Error fetching https://api.crossref.org/works/10.1016/S0169-4332(00)00849-7: 429\n",
      "ERROR:artfinder.api:Error fetching https://api.crossref.org/works/10.1103/PhysRevB.28.3214: 429\n",
      "ERROR:artfinder.api:Error fetching https://api.crossref.org/works/10.1038/nmat3454: 429\n"
     ]
    },
    {
     "name": "stdout",
     "output_type": "stream",
     "text": [
      "2192/4181: https://api.crossref.org/works/10.1016/j.biomaterials.2010.08.012\r"
     ]
    },
    {
     "name": "stderr",
     "output_type": "stream",
     "text": [
      "ERROR:artfinder.api:Error fetching https://api.crossref.org/works/10.1088/0957-4484/27/46/462001: 429\n",
      "ERROR:artfinder.api:Error fetching https://api.crossref.org/works/10.1039/c2nr11763k: 429\n",
      "ERROR:artfinder.api:Error fetching https://api.crossref.org/works/10.1016/0039-6028(78)90371-0: 429\n"
     ]
    },
    {
     "name": "stdout",
     "output_type": "stream",
     "text": [
      "2194/4181: https://api.crossref.org/works/10.1002/sia.2223v\r"
     ]
    },
    {
     "name": "stderr",
     "output_type": "stream",
     "text": [
      "ERROR:artfinder.api:Error fetching https://api.crossref.org/works/10.1021/acsanm.4c00890: 429\n",
      "ERROR:artfinder.api:Error fetching https://api.crossref.org/works/10.1016/j.jmb.2008.07.085: 429\n"
     ]
    },
    {
     "name": "stdout",
     "output_type": "stream",
     "text": [
      "2195/4181: https://api.crossref.org/works/10.1134/S0020168517050156\r"
     ]
    },
    {
     "name": "stderr",
     "output_type": "stream",
     "text": [
      "ERROR:artfinder.api:Error fetching https://api.crossref.org/works/10.1038/s41467-021-21595-5: 429\n"
     ]
    },
    {
     "name": "stdout",
     "output_type": "stream",
     "text": [
      "2196/4181: https://api.crossref.org/works/10.1080/17458080.2019.1692178\r"
     ]
    },
    {
     "name": "stderr",
     "output_type": "stream",
     "text": [
      "ERROR:artfinder.api:Error fetching https://api.crossref.org/works/10.1016/S0927-0256(01)00263-4: 429\n"
     ]
    },
    {
     "name": "stdout",
     "output_type": "stream",
     "text": [
      "2198/4181: https://api.crossref.org/works/10.1007/s0033901008931.007\r"
     ]
    },
    {
     "name": "stderr",
     "output_type": "stream",
     "text": [
      "ERROR:artfinder.api:Error fetching https://api.crossref.org/works/10.1038/s41560-020-0617-6: 429\n",
      "ERROR:artfinder.api:Error fetching https://api.crossref.org/works/10.1364/JOSAA.402023: 429\n"
     ]
    },
    {
     "name": "stdout",
     "output_type": "stream",
     "text": [
      "2199/4181: https://api.crossref.org/works/10.1016/0013-4686(93)85058-7\r"
     ]
    },
    {
     "name": "stderr",
     "output_type": "stream",
     "text": [
      "ERROR:artfinder.api:Error fetching https://api.crossref.org/works/10.1021/acsnano.2c03310: 429\n"
     ]
    },
    {
     "name": "stdout",
     "output_type": "stream",
     "text": [
      "2200/4181: https://api.crossref.org/works/10.1364/AO.33.007501\r"
     ]
    },
    {
     "name": "stderr",
     "output_type": "stream",
     "text": [
      "ERROR:artfinder.api:Error fetching https://api.crossref.org/works/10.1021/la300819u: 429\n"
     ]
    },
    {
     "name": "stdout",
     "output_type": "stream",
     "text": [
      "2201/4181: https://api.crossref.org/works/10.1021/ja025814p\r"
     ]
    },
    {
     "name": "stderr",
     "output_type": "stream",
     "text": [
      "ERROR:artfinder.api:Error fetching https://api.crossref.org/works/10.1016/0079-6786(79)90001-3: 429\n"
     ]
    },
    {
     "name": "stdout",
     "output_type": "stream",
     "text": [
      "2202/4181: https://api.crossref.org/works/10.1016/j.ultramic.2006.03.006\r"
     ]
    },
    {
     "name": "stderr",
     "output_type": "stream",
     "text": [
      "ERROR:artfinder.api:Error fetching https://api.crossref.org/works/10.1002/andp.19494400312: 429\n"
     ]
    },
    {
     "name": "stdout",
     "output_type": "stream",
     "text": [
      "2203/4181: https://api.crossref.org/works/10.1016/S0040-6090(02)00732-0\r"
     ]
    },
    {
     "name": "stderr",
     "output_type": "stream",
     "text": [
      "ERROR:artfinder.api:Error fetching https://api.crossref.org/works/10.1016/j.solmat.2015.12.027: 429\n"
     ]
    },
    {
     "name": "stdout",
     "output_type": "stream",
     "text": [
      "2205/4181: https://api.crossref.org/works/10.1016/j.snb.2010.12.005\r"
     ]
    },
    {
     "name": "stderr",
     "output_type": "stream",
     "text": [
      "ERROR:artfinder.api:Error fetching https://api.crossref.org/works/10.1364/OE.19.022377: 429\n",
      "ERROR:artfinder.api:Error fetching https://api.crossref.org/works/10.1063/1.2360186: 429\n"
     ]
    },
    {
     "name": "stdout",
     "output_type": "stream",
     "text": [
      "2206/4181: https://api.crossref.org/works/10.1177/1091581812465969\r"
     ]
    },
    {
     "name": "stderr",
     "output_type": "stream",
     "text": [
      "ERROR:artfinder.api:Error fetching https://api.crossref.org/works/10.1103/PhysRevLett.80.4406: 429\n"
     ]
    },
    {
     "name": "stdout",
     "output_type": "stream",
     "text": [
      "2207/4181: https://api.crossref.org/works/10.1016/S0920-5861(96)00208-8\r"
     ]
    },
    {
     "name": "stderr",
     "output_type": "stream",
     "text": [
      "ERROR:artfinder.api:Error fetching https://api.crossref.org/works/10.1364/OE.19.009035: 429\n"
     ]
    },
    {
     "name": "stdout",
     "output_type": "stream",
     "text": [
      "2208/4181: https://api.crossref.org/works/10.1103/PhysRevB.67.085415\r"
     ]
    },
    {
     "name": "stderr",
     "output_type": "stream",
     "text": [
      "ERROR:artfinder.api:Error fetching https://api.crossref.org/works/10.1039/C4CS00330F: 429\n",
      "ERROR:artfinder.api:Error fetching https://api.crossref.org/works/10.1134/1.1823072: 429\n"
     ]
    },
    {
     "name": "stdout",
     "output_type": "stream",
     "text": [
      "2210/4181: https://api.crossref.org/works/10.1038/nphys12842\r"
     ]
    },
    {
     "name": "stderr",
     "output_type": "stream",
     "text": [
      "ERROR:artfinder.api:Error fetching https://api.crossref.org/works/10.1038/nrc1566: 429\n"
     ]
    },
    {
     "name": "stdout",
     "output_type": "stream",
     "text": [
      "2211/4181: https://api.crossref.org/works/10.3390/s18072056\r"
     ]
    },
    {
     "name": "stderr",
     "output_type": "stream",
     "text": [
      "ERROR:artfinder.api:Error fetching https://api.crossref.org/works/10.1088/0022-3727/42/11/113001: 429\n"
     ]
    },
    {
     "name": "stdout",
     "output_type": "stream",
     "text": [
      "2212/4181: https://api.crossref.org/works/10.7150/thno.45017\r"
     ]
    },
    {
     "name": "stderr",
     "output_type": "stream",
     "text": [
      "ERROR:artfinder.api:Error fetching https://api.crossref.org/works/10.1109/JSEN.2023.3268168: 429\n"
     ]
    },
    {
     "name": "stdout",
     "output_type": "stream",
     "text": [
      "2213/4181: https://api.crossref.org/works/10.1021/ja0299598\r"
     ]
    },
    {
     "name": "stderr",
     "output_type": "stream",
     "text": [
      "ERROR:artfinder.api:Error fetching https://api.crossref.org/works/10.1016/0925-4005(95)01714-3: 429\n"
     ]
    },
    {
     "name": "stdout",
     "output_type": "stream",
     "text": [
      "2215/4181: https://api.crossref.org/works/10.1016/j.matlet.2006.04.010\r"
     ]
    },
    {
     "name": "stderr",
     "output_type": "stream",
     "text": [
      "ERROR:artfinder.api:Error fetching https://api.crossref.org/works/10.1016/S0169-4332(02)01280-1: 429\n",
      "ERROR:artfinder.api:Error fetching https://api.crossref.org/works/10.1039/C3DT52004H: 429\n"
     ]
    },
    {
     "name": "stdout",
     "output_type": "stream",
     "text": [
      "2216/4181: https://api.crossref.org/works/10.3390/ijms19061563\r"
     ]
    },
    {
     "name": "stderr",
     "output_type": "stream",
     "text": [
      "ERROR:artfinder.api:Error fetching https://api.crossref.org/works/10.1038/nature07012: 429\n"
     ]
    },
    {
     "name": "stdout",
     "output_type": "stream",
     "text": [
      "2218/4181: https://api.crossref.org/works/10.1103/PhysRevA.16.2437\r"
     ]
    },
    {
     "name": "stderr",
     "output_type": "stream",
     "text": [
      "ERROR:artfinder.api:Error fetching https://api.crossref.org/works/10.1021/nn203293t: 429\n",
      "ERROR:artfinder.api:Error fetching https://api.crossref.org/works/10.1021/jp503323u: 429\n"
     ]
    },
    {
     "name": "stdout",
     "output_type": "stream",
     "text": [
      "2219/4181: https://api.crossref.org/works/10.1103/PhysRevB.81.165401\r"
     ]
    },
    {
     "name": "stderr",
     "output_type": "stream",
     "text": [
      "ERROR:artfinder.api:Error fetching https://api.crossref.org/works/10.1021/ac0702084: 429\n"
     ]
    },
    {
     "name": "stdout",
     "output_type": "stream",
     "text": [
      "2220/4181: https://api.crossref.org/works/10.1016/S0079-6638(08)00202-3\r"
     ]
    },
    {
     "name": "stderr",
     "output_type": "stream",
     "text": [
      "ERROR:artfinder.api:Error fetching https://api.crossref.org/works/10.1016/j.ijheatmasstransfer.2016.03.097: 429\n"
     ]
    },
    {
     "name": "stdout",
     "output_type": "stream",
     "text": [
      "2221/4181: https://api.crossref.org/works/10.1371/journal.pone.0024374\r"
     ]
    },
    {
     "name": "stderr",
     "output_type": "stream",
     "text": [
      "ERROR:artfinder.api:Error fetching https://api.crossref.org/works/10.1021/acs.jpclett.6b00571: 429\n"
     ]
    },
    {
     "name": "stdout",
     "output_type": "stream",
     "text": [
      "2223/4181: https://api.crossref.org/works/10.1016/S0021-9797(02)00134-0\r"
     ]
    },
    {
     "name": "stderr",
     "output_type": "stream",
     "text": [
      "ERROR:artfinder.api:Error fetching https://api.crossref.org/works/10.3390/cancers7010353: 429\n",
      "ERROR:artfinder.api:Error fetching https://api.crossref.org/works/10.1088/0957-4484/25/2/025101: 429\n"
     ]
    },
    {
     "name": "stdout",
     "output_type": "stream",
     "text": [
      "2224/4181: https://api.crossref.org/works/10.1007/s00339-018-1716-0\r"
     ]
    },
    {
     "name": "stderr",
     "output_type": "stream",
     "text": [
      "ERROR:artfinder.api:Error fetching https://api.crossref.org/works/10.1002/pssa.200306520: 429\n"
     ]
    },
    {
     "name": "stdout",
     "output_type": "stream",
     "text": [
      "2225/4181: https://api.crossref.org/works/10.1016/0013-4686(92)80058-T\r"
     ]
    },
    {
     "name": "stderr",
     "output_type": "stream",
     "text": [
      "ERROR:artfinder.api:Error fetching https://api.crossref.org/works/10.1016/0038-1098(75)90876-5: 429\n"
     ]
    },
    {
     "name": "stdout",
     "output_type": "stream",
     "text": [
      "2226/4181: https://api.crossref.org/works/10.1073/pnas.2208830119\r"
     ]
    },
    {
     "name": "stderr",
     "output_type": "stream",
     "text": [
      "ERROR:artfinder.api:Error fetching https://api.crossref.org/works/10.1080/17458080802570625: 429\n"
     ]
    },
    {
     "name": "stdout",
     "output_type": "stream",
     "text": [
      "2228/4181: https://api.crossref.org/works/10.3390/mi101208535.041605\r"
     ]
    },
    {
     "name": "stderr",
     "output_type": "stream",
     "text": [
      "ERROR:artfinder.api:Error fetching https://api.crossref.org/works/10.1109/JSTQE.2013.2286076: 429\n",
      "ERROR:artfinder.api:Error fetching https://api.crossref.org/works/10.1109/NAP.2018.8914938: 429\n"
     ]
    },
    {
     "name": "stdout",
     "output_type": "stream",
     "text": [
      "2229/4181: https://api.crossref.org/works/10.1016/j.biomaterials.2015.10.048\r"
     ]
    },
    {
     "name": "stderr",
     "output_type": "stream",
     "text": [
      "ERROR:artfinder.api:Error fetching https://api.crossref.org/works/10.1039/b808500e: 429\n"
     ]
    },
    {
     "name": "stdout",
     "output_type": "stream",
     "text": [
      "2230/4181: https://api.crossref.org/works/10.1021/nl062090x\r"
     ]
    },
    {
     "name": "stderr",
     "output_type": "stream",
     "text": [
      "ERROR:artfinder.api:Error fetching https://api.crossref.org/works/10.1016/j.scitotenv.2020.137222: 429\n"
     ]
    },
    {
     "name": "stdout",
     "output_type": "stream",
     "text": [
      "2231/4181: https://api.crossref.org/works/10.1038/nnano.2008.83\r"
     ]
    },
    {
     "name": "stderr",
     "output_type": "stream",
     "text": [
      "ERROR:artfinder.api:Error fetching https://api.crossref.org/works/10.1002/adom.201900680: 429\n"
     ]
    },
    {
     "name": "stdout",
     "output_type": "stream",
     "text": [
      "2233/4181: https://api.crossref.org/works/10.1088/0957-4484/25/15/155301\r"
     ]
    },
    {
     "name": "stderr",
     "output_type": "stream",
     "text": [
      "ERROR:artfinder.api:Error fetching https://api.crossref.org/works/10.1039/c2an15947c: 429\n",
      "ERROR:artfinder.api:Error fetching https://api.crossref.org/works/10.1364/OL.36.004092: 429\n"
     ]
    },
    {
     "name": "stdout",
     "output_type": "stream",
     "text": [
      "2235/4181: https://api.crossref.org/works/10.1177/15330346040030010450317-021247\r"
     ]
    },
    {
     "name": "stderr",
     "output_type": "stream",
     "text": [
      "ERROR:artfinder.api:Error fetching https://api.crossref.org/works/10.1007/s00340-002-0870-3: 429\n",
      "ERROR:artfinder.api:Error fetching https://api.crossref.org/works/10.1134/S1023193510020102: 429\n"
     ]
    },
    {
     "name": "stdout",
     "output_type": "stream",
     "text": [
      "2236/4181: https://api.crossref.org/works/10.1016/S0168-3659(99)00248-5\r"
     ]
    },
    {
     "name": "stderr",
     "output_type": "stream",
     "text": [
      "ERROR:artfinder.api:Error fetching https://api.crossref.org/works/10.1039/D0NA00806K: 429\n"
     ]
    },
    {
     "name": "stdout",
     "output_type": "stream",
     "text": [
      "2237/4181: https://api.crossref.org/works/10.1039/c0cs00184h\r"
     ]
    },
    {
     "name": "stderr",
     "output_type": "stream",
     "text": [
      "ERROR:artfinder.api:Error fetching https://api.crossref.org/works/10.1364/OL.41.005446: 429\n"
     ]
    },
    {
     "name": "stdout",
     "output_type": "stream",
     "text": [
      "2238/4181: https://api.crossref.org/works/10.1016/j.apsusc.2007.02.034\r"
     ]
    },
    {
     "name": "stderr",
     "output_type": "stream",
     "text": [
      "ERROR:artfinder.api:Error fetching https://api.crossref.org/works/10.1088/1361-6528/aa8d89: 429\n"
     ]
    },
    {
     "name": "stdout",
     "output_type": "stream",
     "text": [
      "2240/4181: https://api.crossref.org/works/10.1038/nnano.2016.301\r"
     ]
    },
    {
     "name": "stderr",
     "output_type": "stream",
     "text": [
      "ERROR:artfinder.api:Error fetching https://api.crossref.org/works/10.1039/c2jm16851k: 429\n"
     ]
    },
    {
     "name": "stdout",
     "output_type": "stream",
     "text": [
      "2241/4181: https://api.crossref.org/works/10.1002/wnan.3\r"
     ]
    },
    {
     "name": "stderr",
     "output_type": "stream",
     "text": [
      "ERROR:artfinder.api:Error fetching https://api.crossref.org/works/10.1149/1.1391909: 429\n"
     ]
    },
    {
     "name": "stdout",
     "output_type": "stream",
     "text": [
      "2242/4181: https://api.crossref.org/works/10.1002/pssa.201026264\r"
     ]
    },
    {
     "name": "stderr",
     "output_type": "stream",
     "text": [
      "ERROR:artfinder.api:Error fetching https://api.crossref.org/works/10.1038/nnano.2009.242: 429\n"
     ]
    },
    {
     "name": "stdout",
     "output_type": "stream",
     "text": [
      "2243/4181: https://api.crossref.org/works/10.1002/adma.202007761\r"
     ]
    },
    {
     "name": "stderr",
     "output_type": "stream",
     "text": [
      "ERROR:artfinder.api:Error fetching https://api.crossref.org/works/10.1002/cmmi.232: 429\n"
     ]
    },
    {
     "name": "stdout",
     "output_type": "stream",
     "text": [
      "2244/4181: https://api.crossref.org/works/10.1111/j.1600-0749.1989.tb00203.x\r"
     ]
    },
    {
     "name": "stderr",
     "output_type": "stream",
     "text": [
      "ERROR:artfinder.api:Error fetching https://api.crossref.org/works/10.1016/j.nano.2016.08.016: 429\n"
     ]
    },
    {
     "name": "stdout",
     "output_type": "stream",
     "text": [
      "2245/4181: https://api.crossref.org/works/10.1021/nn900002m\r"
     ]
    },
    {
     "name": "stderr",
     "output_type": "stream",
     "text": [
      "ERROR:artfinder.api:Error fetching https://api.crossref.org/works/10.1080/1061186021000054933: 429\n"
     ]
    },
    {
     "name": "stdout",
     "output_type": "stream",
     "text": [
      "2246/4181: https://api.crossref.org/works/10.1016/j.nucmedbio.2006.12.004\r"
     ]
    },
    {
     "name": "stderr",
     "output_type": "stream",
     "text": [
      "ERROR:artfinder.api:Error fetching https://api.crossref.org/works/10.1126/science.121.3141.345: 429\n"
     ]
    },
    {
     "name": "stdout",
     "output_type": "stream",
     "text": [
      "2247/4181: https://api.crossref.org/works/10.2147/OTT.S42815\r"
     ]
    },
    {
     "name": "stderr",
     "output_type": "stream",
     "text": [
      "ERROR:artfinder.api:Error fetching https://api.crossref.org/works/10.1063/1.125493: 429\n"
     ]
    },
    {
     "name": "stdout",
     "output_type": "stream",
     "text": [
      "2248/4181: https://api.crossref.org/works/10.1021/nl201432g\r"
     ]
    },
    {
     "name": "stderr",
     "output_type": "stream",
     "text": [
      "ERROR:artfinder.api:Error fetching https://api.crossref.org/works/10.1016/0039-6028(76)90450-7: 429\n"
     ]
    },
    {
     "name": "stdout",
     "output_type": "stream",
     "text": [
      "2249/4181: https://api.crossref.org/works/10.1021/acssensors.8b00461\r"
     ]
    },
    {
     "name": "stderr",
     "output_type": "stream",
     "text": [
      "ERROR:artfinder.api:Error fetching https://api.crossref.org/works/10.1063/1.2136070: 429\n"
     ]
    },
    {
     "name": "stdout",
     "output_type": "stream",
     "text": [
      "2250/4181: https://api.crossref.org/works/10.1021/am503831m\r"
     ]
    },
    {
     "name": "stderr",
     "output_type": "stream",
     "text": [
      "ERROR:artfinder.api:Error fetching https://api.crossref.org/works/10.1021/acsnano.7b01530: 429\n",
      "ERROR:artfinder.api:Error fetching https://api.crossref.org/works/10.1016/S0925-4005(03)00524-0: 429\n"
     ]
    },
    {
     "name": "stdout",
     "output_type": "stream",
     "text": [
      "2251/4181: https://api.crossref.org/works/10.1021/la800305j\r"
     ]
    },
    {
     "name": "stderr",
     "output_type": "stream",
     "text": [
      "ERROR:artfinder.api:Error fetching https://api.crossref.org/works/10.1088/0957-4484/21/31/315101: 429\n"
     ]
    },
    {
     "name": "stdout",
     "output_type": "stream",
     "text": [
      "2252/4181: https://api.crossref.org/works/10.1063/1.1324732\r"
     ]
    },
    {
     "name": "stderr",
     "output_type": "stream",
     "text": [
      "ERROR:artfinder.api:Error fetching https://api.crossref.org/works/10.1007/s00216-009-2883-9: 429\n"
     ]
    },
    {
     "name": "stdout",
     "output_type": "stream",
     "text": [
      "2253/4181: https://api.crossref.org/works/10.1117/1.1924713\r"
     ]
    },
    {
     "name": "stderr",
     "output_type": "stream",
     "text": [
      "ERROR:artfinder.api:Error fetching https://api.crossref.org/works/10.1016/S0169-4332(99)00279-2: 429\n"
     ]
    },
    {
     "name": "stdout",
     "output_type": "stream",
     "text": [
      "2254/4181: https://api.crossref.org/works/10.1143/JPSJ.9.359\r"
     ]
    },
    {
     "name": "stderr",
     "output_type": "stream",
     "text": [
      "ERROR:artfinder.api:Error fetching https://api.crossref.org/works/10.1002/smll.201002291: 429\n"
     ]
    },
    {
     "name": "stdout",
     "output_type": "stream",
     "text": [
      "2255/4181: https://api.crossref.org/works/10.1021/jp001336y\r"
     ]
    },
    {
     "name": "stderr",
     "output_type": "stream",
     "text": [
      "ERROR:artfinder.api:Error fetching https://api.crossref.org/works/10.1016/S0142-9612(01)00094-1: 429\n"
     ]
    },
    {
     "name": "stdout",
     "output_type": "stream",
     "text": [
      "2256/4181: https://api.crossref.org/works/10.1016/j.bmcl.2013.04.002\r"
     ]
    },
    {
     "name": "stderr",
     "output_type": "stream",
     "text": [
      "ERROR:artfinder.api:Error fetching https://api.crossref.org/works/10.1111/j.1440-1746.2006.04449.x: 429\n"
     ]
    },
    {
     "name": "stdout",
     "output_type": "stream",
     "text": [
      "2257/4181: https://api.crossref.org/works/10.1039/c2nr33599a\r"
     ]
    },
    {
     "name": "stderr",
     "output_type": "stream",
     "text": [
      "ERROR:artfinder.api:Error fetching https://api.crossref.org/works/10.1088/1361-6528/aa5b7c: 429\n"
     ]
    },
    {
     "name": "stdout",
     "output_type": "stream",
     "text": [
      "2258/4181: https://api.crossref.org/works/10.1111/j.1151-2916.1982.tb10465.x\r"
     ]
    },
    {
     "name": "stderr",
     "output_type": "stream",
     "text": [
      "ERROR:artfinder.api:Error fetching https://api.crossref.org/works/10.1016/0924-4247(91)87085-H: 429\n"
     ]
    },
    {
     "name": "stdout",
     "output_type": "stream",
     "text": [
      "2260/4181: https://api.crossref.org/works/10.1016/j.molliq.2018.04.012\r"
     ]
    },
    {
     "name": "stderr",
     "output_type": "stream",
     "text": [
      "ERROR:artfinder.api:Error fetching https://api.crossref.org/works/10.1002/adfm.201902692: 429\n",
      "ERROR:artfinder.api:Error fetching https://api.crossref.org/works/10.1002/adma.201606372: 429\n"
     ]
    },
    {
     "name": "stdout",
     "output_type": "stream",
     "text": [
      "2261/4181: https://api.crossref.org/works/10.1038/s41467-019-13051-2\r"
     ]
    },
    {
     "name": "stderr",
     "output_type": "stream",
     "text": [
      "ERROR:artfinder.api:Error fetching https://api.crossref.org/works/10.1016/j.biomaterials.2004.07.026: 429\n"
     ]
    },
    {
     "name": "stdout",
     "output_type": "stream",
     "text": [
      "2262/4181: https://api.crossref.org/works/10.3390/nano12091456\r"
     ]
    },
    {
     "name": "stderr",
     "output_type": "stream",
     "text": [
      "ERROR:artfinder.api:Error fetching https://api.crossref.org/works/10.1038/s41598-019-41642-y: 429\n"
     ]
    },
    {
     "name": "stdout",
     "output_type": "stream",
     "text": [
      "2263/4181: https://api.crossref.org/works/10.1182/blood-2014-08-596403\r"
     ]
    },
    {
     "name": "stderr",
     "output_type": "stream",
     "text": [
      "ERROR:artfinder.api:Error fetching https://api.crossref.org/works/10.1201/9781315274287: 429\n"
     ]
    },
    {
     "name": "stdout",
     "output_type": "stream",
     "text": [
      "2264/4181: https://api.crossref.org/works/10.3390/ma5040661\r"
     ]
    },
    {
     "name": "stderr",
     "output_type": "stream",
     "text": [
      "ERROR:artfinder.api:Error fetching https://api.crossref.org/works/10.1021/jp104398f: 429\n"
     ]
    },
    {
     "name": "stdout",
     "output_type": "stream",
     "text": [
      "2265/4181: https://api.crossref.org/works/10.1039/D0BM00549E\r"
     ]
    },
    {
     "name": "stderr",
     "output_type": "stream",
     "text": [
      "ERROR:artfinder.api:Error fetching https://api.crossref.org/works/10.3367/UFNr.0111.197312a.0579: 429\n"
     ]
    },
    {
     "name": "stdout",
     "output_type": "stream",
     "text": [
      "2266/4181: https://api.crossref.org/works/10.1038/nmeth.3925\r"
     ]
    },
    {
     "name": "stderr",
     "output_type": "stream",
     "text": [
      "ERROR:artfinder.api:Error fetching https://api.crossref.org/works/10.1002/lpor.202000215: 429\n"
     ]
    },
    {
     "name": "stdout",
     "output_type": "stream",
     "text": [
      "2267/4181: https://api.crossref.org/works/10.1021/la0497649\r"
     ]
    },
    {
     "name": "stderr",
     "output_type": "stream",
     "text": [
      "ERROR:artfinder.api:Error fetching https://api.crossref.org/works/10.1088/0022-3727/39/16/S04: 429\n"
     ]
    },
    {
     "name": "stdout",
     "output_type": "stream",
     "text": [
      "2268/4181: https://api.crossref.org/works/10.1364/OE.16.007460\r"
     ]
    },
    {
     "name": "stderr",
     "output_type": "stream",
     "text": [
      "ERROR:artfinder.api:Error fetching https://api.crossref.org/works/10.1016/j.gce.2022.05.002: 429\n"
     ]
    },
    {
     "name": "stdout",
     "output_type": "stream",
     "text": [
      "2269/4181: https://api.crossref.org/works/10.1098/rspa.1974.0012\r"
     ]
    },
    {
     "name": "stderr",
     "output_type": "stream",
     "text": [
      "ERROR:artfinder.api:Error fetching https://api.crossref.org/works/10.1016/j.biomaterials.2012.10.054: 429\n"
     ]
    },
    {
     "name": "stdout",
     "output_type": "stream",
     "text": [
      "2270/4181: https://api.crossref.org/works/10.4172/2157-7439.1000193\r"
     ]
    },
    {
     "name": "stderr",
     "output_type": "stream",
     "text": [
      "ERROR:artfinder.api:Error fetching https://api.crossref.org/works/10.1116/1.577661: 429\n"
     ]
    },
    {
     "name": "stdout",
     "output_type": "stream",
     "text": [
      "2271/4181: https://api.crossref.org/works/10.1016/j.optlaseng.2005.10.012\r"
     ]
    },
    {
     "name": "stderr",
     "output_type": "stream",
     "text": [
      "ERROR:artfinder.api:Error fetching https://api.crossref.org/works/10.1016/j.jhazmat.2016.05.063: 429\n"
     ]
    },
    {
     "name": "stdout",
     "output_type": "stream",
     "text": [
      "2272/4181: https://api.crossref.org/works/10.1021/la0509394\r"
     ]
    },
    {
     "name": "stderr",
     "output_type": "stream",
     "text": [
      "ERROR:artfinder.api:Error fetching https://api.crossref.org/works/10.1021/nl0155274: 429\n"
     ]
    },
    {
     "name": "stdout",
     "output_type": "stream",
     "text": [
      "2273/4181: https://api.crossref.org/works/10.1021/la200231f\r"
     ]
    },
    {
     "name": "stderr",
     "output_type": "stream",
     "text": [
      "ERROR:artfinder.api:Error fetching https://api.crossref.org/works/10.1007/978-81-322-2607-9: 429\n"
     ]
    },
    {
     "name": "stdout",
     "output_type": "stream",
     "text": [
      "2274/4181: https://api.crossref.org/works/10.7150/thno.7341\r"
     ]
    },
    {
     "name": "stderr",
     "output_type": "stream",
     "text": [
      "ERROR:artfinder.api:Error fetching https://api.crossref.org/works/10.1016/j.matchar.2006.02.005: 429\n"
     ]
    },
    {
     "name": "stdout",
     "output_type": "stream",
     "text": [
      "2276/4181: https://api.crossref.org/works/10.1007/BF02409409cs.0c00751\r"
     ]
    },
    {
     "name": "stderr",
     "output_type": "stream",
     "text": [
      "ERROR:artfinder.api:Error fetching https://api.crossref.org/works/10.1016/S1369-7021(07)70078-0: 429\n",
      "ERROR:artfinder.api:Error fetching https://api.crossref.org/works/10.1117/12.271674: 429\n"
     ]
    },
    {
     "name": "stdout",
     "output_type": "stream",
     "text": [
      "2288/4181: https://api.crossref.org/works/10.1016/S0969-8043(99)00093-79.x\r"
     ]
    },
    {
     "name": "stderr",
     "output_type": "stream",
     "text": [
      "ERROR:artfinder.api:Error fetching https://api.crossref.org/works/10.1002/celc.201402436: 429\n",
      "ERROR:artfinder.api:Error fetching https://api.crossref.org/works/10.3389/fchem.2023.1153936: 429\n"
     ]
    },
    {
     "name": "stdout",
     "output_type": "stream",
     "text": [
      "2290/4181: https://api.crossref.org/works/10.1039/c9ay01039dt.21.1530\r"
     ]
    },
    {
     "name": "stderr",
     "output_type": "stream",
     "text": [
      "ERROR:artfinder.api:Error fetching https://api.crossref.org/works/10.1088/0034-4885/76/3/036502: 429\n"
     ]
    },
    {
     "name": "stdout",
     "output_type": "stream",
     "text": [
      "2291/4181: https://api.crossref.org/works/10.1016/j.bios.2007.05.007\r"
     ]
    },
    {
     "name": "stderr",
     "output_type": "stream",
     "text": [
      "ERROR:artfinder.api:Error fetching https://api.crossref.org/works/10.1088/0031-9155/50/11/011: 429\n",
      "ERROR:artfinder.api:Error fetching https://api.crossref.org/works/10.1016/j.aca.2019.12.067: 429\n"
     ]
    },
    {
     "name": "stdout",
     "output_type": "stream",
     "text": [
      "2292/4181: https://api.crossref.org/works/10.1016/j.chemosphere.2021.133464\r"
     ]
    },
    {
     "name": "stderr",
     "output_type": "stream",
     "text": [
      "ERROR:artfinder.api:Error fetching https://api.crossref.org/works/10.1103/PhysRevB.37.6991: 429\n"
     ]
    },
    {
     "name": "stdout",
     "output_type": "stream",
     "text": [
      "2293/4181: https://api.crossref.org/works/10.1016/j.jpowsour.2014.09.140\r"
     ]
    },
    {
     "name": "stderr",
     "output_type": "stream",
     "text": [
      "ERROR:artfinder.api:Error fetching https://api.crossref.org/works/10.3390/ma8063128: 429\n"
     ]
    },
    {
     "name": "stdout",
     "output_type": "stream",
     "text": [
      "2294/4181: https://api.crossref.org/works/10.1063/1.1773383\r"
     ]
    },
    {
     "name": "stderr",
     "output_type": "stream",
     "text": [
      "ERROR:artfinder.api:Error fetching https://api.crossref.org/works/10.1038/s41929-022-00865-5: 429\n",
      "ERROR:artfinder.api:Error fetching https://api.crossref.org/works/10.1021/acs.nanolett.0c01105: 429\n"
     ]
    },
    {
     "name": "stdout",
     "output_type": "stream",
     "text": [
      "2295/4181: https://api.crossref.org/works/10.1016/S0079-6727(97)00002-5\r"
     ]
    },
    {
     "name": "stderr",
     "output_type": "stream",
     "text": [
      "ERROR:artfinder.api:Error fetching https://api.crossref.org/works/10.1366/000370202760355226: 429\n",
      "ERROR:artfinder.api:Error fetching https://api.crossref.org/works/10.1007/s11172-005-0045-6: 429\n",
      "ERROR:artfinder.api:Error fetching https://api.crossref.org/works/10.1016/j.apsusc.2019.07.052: 429\n"
     ]
    },
    {
     "name": "stdout",
     "output_type": "stream",
     "text": [
      "2296/4181: https://api.crossref.org/works/10.1016/j.cej.2023.141314\r"
     ]
    },
    {
     "name": "stderr",
     "output_type": "stream",
     "text": [
      "ERROR:artfinder.api:Error fetching https://api.crossref.org/works/10.1021/acsnano.6b02627: 429\n",
      "ERROR:artfinder.api:Error fetching https://api.crossref.org/works/10.1021/acsami.3c11098: 429\n",
      "ERROR:artfinder.api:Error fetching https://api.crossref.org/works/10.1021/nl1042006: 429\n"
     ]
    },
    {
     "name": "stdout",
     "output_type": "stream",
     "text": [
      "2298/4181: https://api.crossref.org/works/10.1016/j.matdes.2022.110391\r"
     ]
    },
    {
     "name": "stderr",
     "output_type": "stream",
     "text": [
      "ERROR:artfinder.api:Error fetching https://api.crossref.org/works/10.1039/jm9920201105: 429\n",
      "ERROR:artfinder.api:Error fetching https://api.crossref.org/works/10.1086/152538: 429\n"
     ]
    },
    {
     "name": "stdout",
     "output_type": "stream",
     "text": [
      "2300/4181: https://api.crossref.org/works/10.1016/B978-0-323-48063-5.00011-3\r"
     ]
    },
    {
     "name": "stderr",
     "output_type": "stream",
     "text": [
      "ERROR:artfinder.api:Error fetching https://api.crossref.org/works/10.1080/17458080.2019.1692178: 429\n"
     ]
    },
    {
     "name": "stdout",
     "output_type": "stream",
     "text": [
      "2301/4181: https://api.crossref.org/works/10.1007/s00339-004-2841-5\r"
     ]
    },
    {
     "name": "stderr",
     "output_type": "stream",
     "text": [
      "ERROR:artfinder.api:Error fetching https://api.crossref.org/works/10.1038/ncomms10545: 429\n"
     ]
    },
    {
     "name": "stdout",
     "output_type": "stream",
     "text": [
      "2302/4181: https://api.crossref.org/works/10.1063/1.346318\r"
     ]
    },
    {
     "name": "stderr",
     "output_type": "stream",
     "text": [
      "ERROR:artfinder.api:Error fetching https://api.crossref.org/works/10.1103/PhysRevLett.78.4289: 429\n"
     ]
    },
    {
     "name": "stdout",
     "output_type": "stream",
     "text": [
      "2303/4181: https://api.crossref.org/works/10.1364/JOSA.56.001059\r"
     ]
    },
    {
     "name": "stderr",
     "output_type": "stream",
     "text": [
      "ERROR:artfinder.api:Error fetching https://api.crossref.org/works/10.1039/C6CP00906A: 429\n",
      "ERROR:artfinder.api:Error fetching https://api.crossref.org/works/10.1021/nl0497373: 429\n"
     ]
    },
    {
     "name": "stdout",
     "output_type": "stream",
     "text": [
      "2304/4181: https://api.crossref.org/works/10.1021/ac402935p\r"
     ]
    },
    {
     "name": "stderr",
     "output_type": "stream",
     "text": [
      "ERROR:artfinder.api:Error fetching https://api.crossref.org/works/10.1016/j.nantod.2010.06.008: 429\n",
      "ERROR:artfinder.api:Error fetching https://api.crossref.org/works/10.1002/bies.10112: 429\n"
     ]
    },
    {
     "name": "stdout",
     "output_type": "stream",
     "text": [
      "2305/4181: https://api.crossref.org/works/10.1021/ma201016q\r"
     ]
    },
    {
     "name": "stderr",
     "output_type": "stream",
     "text": [
      "ERROR:artfinder.api:Error fetching https://api.crossref.org/works/10.1016/j.biomaterials.2010.08.012: 429\n"
     ]
    },
    {
     "name": "stdout",
     "output_type": "stream",
     "text": [
      "2306/4181: https://api.crossref.org/works/10.1016/j.ijpharm.2008.07.027\r"
     ]
    },
    {
     "name": "stderr",
     "output_type": "stream",
     "text": [
      "ERROR:artfinder.api:Error fetching https://api.crossref.org/works/10.1021/jp058204v: 429\n"
     ]
    },
    {
     "name": "stdout",
     "output_type": "stream",
     "text": [
      "2307/4181: https://api.crossref.org/works/10.1021/acs.biomac.5b00920\r"
     ]
    },
    {
     "name": "stderr",
     "output_type": "stream",
     "text": [
      "ERROR:artfinder.api:Error fetching https://api.crossref.org/works/10.1002/sia.2223: 429\n"
     ]
    },
    {
     "name": "stdout",
     "output_type": "stream",
     "text": [
      "2309/4181: https://api.crossref.org/works/10.1021/acsnano.9b091812-x\r"
     ]
    },
    {
     "name": "stderr",
     "output_type": "stream",
     "text": [
      "ERROR:artfinder.api:Error fetching https://api.crossref.org/works/10.1134/S0020168517050156: 429\n",
      "ERROR:artfinder.api:Error fetching https://api.crossref.org/works/10.1016/j.apsb.2018.01.007: 429\n"
     ]
    },
    {
     "name": "stdout",
     "output_type": "stream",
     "text": [
      "2311/4181: https://api.crossref.org/works/10.1002/adma.20030522100818-5\r"
     ]
    },
    {
     "name": "stderr",
     "output_type": "stream",
     "text": [
      "ERROR:artfinder.api:Error fetching https://api.crossref.org/works/10.1016/0013-4686(93)85058-7: 429\n"
     ]
    },
    {
     "name": "stdout",
     "output_type": "stream",
     "text": [
      "2313/4181: https://api.crossref.org/works/10.1021/la035157u21.113992\r"
     ]
    },
    {
     "name": "stderr",
     "output_type": "stream",
     "text": [
      "ERROR:artfinder.api:Error fetching https://api.crossref.org/works/10.1021/ja025814p: 429\n",
      "ERROR:artfinder.api:Error fetching https://api.crossref.org/works/10.1364/AO.33.007501: 429\n"
     ]
    },
    {
     "name": "stdout",
     "output_type": "stream",
     "text": [
      "2315/4181: https://api.crossref.org/works/10.1088/2040-8978/18/8/085004\r"
     ]
    },
    {
     "name": "stderr",
     "output_type": "stream",
     "text": [
      "ERROR:artfinder.api:Error fetching https://api.crossref.org/works/10.1016/S0040-6090(02)00732-0: 429\n",
      "ERROR:artfinder.api:Error fetching https://api.crossref.org/works/10.1016/j.ultramic.2006.03.006: 429\n",
      "ERROR:artfinder.api:Error fetching https://api.crossref.org/works/10.1007/s003390100893: 429\n"
     ]
    },
    {
     "name": "stdout",
     "output_type": "stream",
     "text": [
      "2316/4181: https://api.crossref.org/works/10.1111/jace.2003.86.issue-1\r"
     ]
    },
    {
     "name": "stderr",
     "output_type": "stream",
     "text": [
      "ERROR:artfinder.api:Error fetching https://api.crossref.org/works/10.1021/nl903868w: 429\n"
     ]
    },
    {
     "name": "stdout",
     "output_type": "stream",
     "text": [
      "2317/4181: https://api.crossref.org/works/10.1016/0040-6090(94)05673-2\r"
     ]
    },
    {
     "name": "stderr",
     "output_type": "stream",
     "text": [
      "ERROR:artfinder.api:Error fetching https://api.crossref.org/works/10.1016/j.snb.2010.12.005: 429\n"
     ]
    },
    {
     "name": "stdout",
     "output_type": "stream",
     "text": [
      "2318/4181: https://api.crossref.org/works/10.1126/science.278.5339.840\r"
     ]
    },
    {
     "name": "stderr",
     "output_type": "stream",
     "text": [
      "ERROR:artfinder.api:Error fetching https://api.crossref.org/works/10.1016/S0920-5861(96)00208-8: 429\n"
     ]
    },
    {
     "name": "stdout",
     "output_type": "stream",
     "text": [
      "2319/4181: https://api.crossref.org/works/10.1063/1.479235\r"
     ]
    },
    {
     "name": "stderr",
     "output_type": "stream",
     "text": [
      "ERROR:artfinder.api:Error fetching https://api.crossref.org/works/10.1177/1091581812465969: 429\n"
     ]
    },
    {
     "name": "stdout",
     "output_type": "stream",
     "text": [
      "2320/4181: https://api.crossref.org/works/10.1103/PhysRevLett.82.2278\r"
     ]
    },
    {
     "name": "stderr",
     "output_type": "stream",
     "text": [
      "ERROR:artfinder.api:Error fetching https://api.crossref.org/works/10.1103/PhysRevB.67.085415: 429\n"
     ]
    },
    {
     "name": "stdout",
     "output_type": "stream",
     "text": [
      "2322/4181: https://api.crossref.org/works/10.1088/0957-4484/15/9/035\r"
     ]
    },
    {
     "name": "stderr",
     "output_type": "stream",
     "text": [
      "ERROR:artfinder.api:Error fetching https://api.crossref.org/works/10.1038/nphys1284: 429\n",
      "ERROR:artfinder.api:Error fetching https://api.crossref.org/works/10.2147/IJN.S61212: 429\n"
     ]
    },
    {
     "name": "stdout",
     "output_type": "stream",
     "text": [
      "2323/4181: https://api.crossref.org/works/10.1103/PhysRevB.76.115411\r"
     ]
    },
    {
     "name": "stderr",
     "output_type": "stream",
     "text": [
      "ERROR:artfinder.api:Error fetching https://api.crossref.org/works/10.3390/s18072056: 429\n"
     ]
    },
    {
     "name": "stdout",
     "output_type": "stream",
     "text": [
      "2325/4181: https://api.crossref.org/works/10.1103/PhysRevB.90.07540405\r"
     ]
    },
    {
     "name": "stderr",
     "output_type": "stream",
     "text": [
      "ERROR:artfinder.api:Error fetching https://api.crossref.org/works/10.7150/thno.45017: 429\n",
      "ERROR:artfinder.api:Error fetching https://api.crossref.org/works/10.1021/ja0299598: 429\n"
     ]
    },
    {
     "name": "stdout",
     "output_type": "stream",
     "text": [
      "2327/4181: https://api.crossref.org/works/10.1016/j.colsurfb.2010.09.022\r"
     ]
    },
    {
     "name": "stderr",
     "output_type": "stream",
     "text": [
      "ERROR:artfinder.api:Error fetching https://api.crossref.org/works/10.1016/j.matlet.2006.04.010: 429\n",
      "ERROR:artfinder.api:Error fetching https://api.crossref.org/works/10.1038/physci241020a0: 429\n"
     ]
    },
    {
     "name": "stdout",
     "output_type": "stream",
     "text": [
      "2329/4181: https://api.crossref.org/works/10.1063/1.362646416\r"
     ]
    },
    {
     "name": "stderr",
     "output_type": "stream",
     "text": [
      "ERROR:artfinder.api:Error fetching https://api.crossref.org/works/10.3390/ijms19061563: 429\n"
     ]
    },
    {
     "name": "stdout",
     "output_type": "stream",
     "text": [
      "2331/4181: https://api.crossref.org/works/10.1021/ac400245j17.06.086\r"
     ]
    },
    {
     "name": "stderr",
     "output_type": "stream",
     "text": [
      "ERROR:artfinder.api:Error fetching https://api.crossref.org/works/10.1103/PhysRevA.16.2437: 429\n",
      "ERROR:artfinder.api:Error fetching https://api.crossref.org/works/10.1117/1.3086608: 429\n"
     ]
    },
    {
     "name": "stdout",
     "output_type": "stream",
     "text": [
      "2332/4181: https://api.crossref.org/works/10.1016/j.mtnano.2021.100119\r"
     ]
    },
    {
     "name": "stderr",
     "output_type": "stream",
     "text": [
      "ERROR:artfinder.api:Error fetching https://api.crossref.org/works/10.1103/PhysRevB.81.165401: 429\n",
      "ERROR:artfinder.api:Error fetching https://api.crossref.org/works/10.1016/S0079-6638(08)00202-3: 429\n"
     ]
    },
    {
     "name": "stdout",
     "output_type": "stream",
     "text": [
      "2333/4181: https://api.crossref.org/works/10.1038/s41560-019-0517-9\r"
     ]
    },
    {
     "name": "stderr",
     "output_type": "stream",
     "text": [
      "ERROR:artfinder.api:Error fetching https://api.crossref.org/works/10.1371/journal.pone.0024374: 429\n"
     ]
    },
    {
     "name": "stdout",
     "output_type": "stream",
     "text": [
      "2335/4181: https://api.crossref.org/works/10.1063/1.17143420513\r"
     ]
    },
    {
     "name": "stderr",
     "output_type": "stream",
     "text": [
      "ERROR:artfinder.api:Error fetching https://api.crossref.org/works/10.1063/1.116450: 429\n",
      "ERROR:artfinder.api:Error fetching https://api.crossref.org/works/10.1016/S0021-9797(02)00134-0: 429\n"
     ]
    },
    {
     "name": "stdout",
     "output_type": "stream",
     "text": [
      "2337/4181: https://api.crossref.org/works/10.1021/acscatal.2c01750\r"
     ]
    },
    {
     "name": "stderr",
     "output_type": "stream",
     "text": [
      "ERROR:artfinder.api:Error fetching https://api.crossref.org/works/10.1007/s00339-018-1716-0: 429\n",
      "ERROR:artfinder.api:Error fetching https://api.crossref.org/works/10.1016/0013-4686(92)80058-T: 429\n"
     ]
    },
    {
     "name": "stdout",
     "output_type": "stream",
     "text": [
      "2339/4181: https://api.crossref.org/works/10.1021/ja049038s5.01.016\r"
     ]
    },
    {
     "name": "stderr",
     "output_type": "stream",
     "text": [
      "ERROR:artfinder.api:Error fetching https://api.crossref.org/works/10.1073/pnas.2208830119: 429\n",
      "ERROR:artfinder.api:Error fetching https://api.crossref.org/works/10.1103/PhysRevE.65.041605: 429\n"
     ]
    },
    {
     "name": "stdout",
     "output_type": "stream",
     "text": [
      "2340/4181: https://api.crossref.org/works/10.1252/jcej.31.808\r"
     ]
    },
    {
     "name": "stderr",
     "output_type": "stream",
     "text": [
      "ERROR:artfinder.api:Error fetching https://api.crossref.org/works/10.3390/mi10120853: 429\n"
     ]
    },
    {
     "name": "stdout",
     "output_type": "stream",
     "text": [
      "2341/4181: https://api.crossref.org/works/10.1039/c3cs60479a\r"
     ]
    },
    {
     "name": "stderr",
     "output_type": "stream",
     "text": [
      "ERROR:artfinder.api:Error fetching https://api.crossref.org/works/10.1016/j.biomaterials.2015.10.048: 429\n"
     ]
    },
    {
     "name": "stdout",
     "output_type": "stream",
     "text": [
      "2343/4181: https://api.crossref.org/works/10.1021/acscatal.2c0015772-8\r"
     ]
    },
    {
     "name": "stderr",
     "output_type": "stream",
     "text": [
      "ERROR:artfinder.api:Error fetching https://api.crossref.org/works/10.1021/nl062090x: 429\n"
     ]
    },
    {
     "name": "stdout",
     "output_type": "stream",
     "text": [
      "2345/4181: https://api.crossref.org/works/10.1038/3510462035976\r"
     ]
    },
    {
     "name": "stderr",
     "output_type": "stream",
     "text": [
      "ERROR:artfinder.api:Error fetching https://api.crossref.org/works/10.1038/nnano.2008.83: 429\n"
     ]
    },
    {
     "name": "stdout",
     "output_type": "stream",
     "text": [
      "2346/4181: https://api.crossref.org/works/10.1063/1.1764608\r"
     ]
    },
    {
     "name": "stderr",
     "output_type": "stream",
     "text": [
      "ERROR:artfinder.api:Error fetching https://api.crossref.org/works/10.1021/ja809218s: 429\n",
      "ERROR:artfinder.api:Error fetching https://api.crossref.org/works/10.1088/0957-4484/25/15/155301: 429\n"
     ]
    },
    {
     "name": "stdout",
     "output_type": "stream",
     "text": [
      "2347/4181: https://api.crossref.org/works/10.2217/17435889.1.2.201\r"
     ]
    },
    {
     "name": "stderr",
     "output_type": "stream",
     "text": [
      "ERROR:artfinder.api:Error fetching https://api.crossref.org/works/10.1146/annurev-physchem-050317-021247: 429\n"
     ]
    },
    {
     "name": "stdout",
     "output_type": "stream",
     "text": [
      "2349/4181: https://api.crossref.org/works/10.1002/smll.2016008721-y\r"
     ]
    },
    {
     "name": "stderr",
     "output_type": "stream",
     "text": [
      "ERROR:artfinder.api:Error fetching https://api.crossref.org/works/10.1177/153303460400300104: 429\n"
     ]
    },
    {
     "name": "stdout",
     "output_type": "stream",
     "text": [
      "2350/4181: https://api.crossref.org/works/10.1021/acs.nanolett.1c02199\r"
     ]
    },
    {
     "name": "stderr",
     "output_type": "stream",
     "text": [
      "ERROR:artfinder.api:Error fetching https://api.crossref.org/works/10.1016/S0168-3659(99)00248-5: 429\n"
     ]
    },
    {
     "name": "stdout",
     "output_type": "stream",
     "text": [
      "2351/4181: https://api.crossref.org/works/10.1039/C3NR06800E\r"
     ]
    },
    {
     "name": "stderr",
     "output_type": "stream",
     "text": [
      "ERROR:artfinder.api:Error fetching https://api.crossref.org/works/10.1039/c0cs00184h: 429\n"
     ]
    },
    {
     "name": "stdout",
     "output_type": "stream",
     "text": [
      "2352/4181: https://api.crossref.org/works/10.1021/acsabm.8b00488\r"
     ]
    },
    {
     "name": "stderr",
     "output_type": "stream",
     "text": [
      "ERROR:artfinder.api:Error fetching https://api.crossref.org/works/10.1016/j.apsusc.2007.02.034: 429\n",
      "ERROR:artfinder.api:Error fetching https://api.crossref.org/works/10.1364/OPEX.12.003509: 429\n"
     ]
    },
    {
     "name": "stdout",
     "output_type": "stream",
     "text": [
      "2353/4181: https://api.crossref.org/works/10.1016/j.apsusc.2015.03.117\r"
     ]
    },
    {
     "name": "stderr",
     "output_type": "stream",
     "text": [
      "ERROR:artfinder.api:Error fetching https://api.crossref.org/works/10.1038/nnano.2016.301: 429\n"
     ]
    },
    {
     "name": "stdout",
     "output_type": "stream",
     "text": [
      "2354/4181: https://api.crossref.org/works/10.1061/(ASCE)EY.1943-7897.0000400\r"
     ]
    },
    {
     "name": "stderr",
     "output_type": "stream",
     "text": [
      "ERROR:artfinder.api:Error fetching https://api.crossref.org/works/10.1002/wnan.3: 429\n",
      "ERROR:artfinder.api:Error fetching https://api.crossref.org/works/10.1002/pssa.201026264: 429\n"
     ]
    },
    {
     "name": "stdout",
     "output_type": "stream",
     "text": [
      "2355/4181: https://api.crossref.org/works/10.1016/j.apsusc.2014.01.083\r"
     ]
    },
    {
     "name": "stderr",
     "output_type": "stream",
     "text": [
      "ERROR:artfinder.api:Error fetching https://api.crossref.org/works/10.1002/adma.202007761: 429\n"
     ]
    },
    {
     "name": "stdout",
     "output_type": "stream",
     "text": [
      "2356/4181: https://api.crossref.org/works/10.1116/1.4811824\r"
     ]
    },
    {
     "name": "stderr",
     "output_type": "stream",
     "text": [
      "ERROR:artfinder.api:Error fetching https://api.crossref.org/works/10.1111/j.1600-0749.1989.tb00203.x: 429\n"
     ]
    },
    {
     "name": "stdout",
     "output_type": "stream",
     "text": [
      "2357/4181: https://api.crossref.org/works/10.1099/ijs.0.070839-0\r"
     ]
    },
    {
     "name": "stderr",
     "output_type": "stream",
     "text": [
      "ERROR:artfinder.api:Error fetching https://api.crossref.org/works/10.1021/nn900002m: 429\n"
     ]
    },
    {
     "name": "stdout",
     "output_type": "stream",
     "text": [
      "2358/4181: https://api.crossref.org/works/10.1016/S0006-3495(01)75844-4\r"
     ]
    },
    {
     "name": "stderr",
     "output_type": "stream",
     "text": [
      "ERROR:artfinder.api:Error fetching https://api.crossref.org/works/10.1016/j.nucmedbio.2006.12.004: 429\n"
     ]
    },
    {
     "name": "stdout",
     "output_type": "stream",
     "text": [
      "2360/4181: https://api.crossref.org/works/10.1111/j.1151-2916.2001.tb01136.x\r"
     ]
    },
    {
     "name": "stderr",
     "output_type": "stream",
     "text": [
      "ERROR:artfinder.api:Error fetching https://api.crossref.org/works/10.2147/OTT.S42815: 429\n",
      "ERROR:artfinder.api:Error fetching https://api.crossref.org/works/10.1021/nl201432g: 429\n"
     ]
    },
    {
     "name": "stdout",
     "output_type": "stream",
     "text": [
      "2361/4181: https://api.crossref.org/works/10.1002/9780470439098\r"
     ]
    },
    {
     "name": "stderr",
     "output_type": "stream",
     "text": [
      "ERROR:artfinder.api:Error fetching https://api.crossref.org/works/10.1021/acssensors.8b00461: 429\n"
     ]
    },
    {
     "name": "stdout",
     "output_type": "stream",
     "text": [
      "2362/4181: https://api.crossref.org/works/10.1002/cncr.27746\r"
     ]
    },
    {
     "name": "stderr",
     "output_type": "stream",
     "text": [
      "ERROR:artfinder.api:Error fetching https://api.crossref.org/works/10.1021/am503831m: 429\n"
     ]
    },
    {
     "name": "stdout",
     "output_type": "stream",
     "text": [
      "2364/4181: https://api.crossref.org/works/10.1364/OPN.31.4.000032709855\r"
     ]
    },
    {
     "name": "stderr",
     "output_type": "stream",
     "text": [
      "ERROR:artfinder.api:Error fetching https://api.crossref.org/works/10.1021/la800305j: 429\n",
      "ERROR:artfinder.api:Error fetching https://api.crossref.org/works/10.1063/1.1324732: 429\n"
     ]
    },
    {
     "name": "stdout",
     "output_type": "stream",
     "text": [
      "2365/4181: https://api.crossref.org/works/10.1103/PhysRevLett.69.2176\r"
     ]
    },
    {
     "name": "stderr",
     "output_type": "stream",
     "text": [
      "ERROR:artfinder.api:Error fetching https://api.crossref.org/works/10.1117/1.1924713: 429\n"
     ]
    },
    {
     "name": "stdout",
     "output_type": "stream",
     "text": [
      "2367/4181: https://api.crossref.org/works/10.1385/08960328250.3240\r"
     ]
    },
    {
     "name": "stderr",
     "output_type": "stream",
     "text": [
      "ERROR:artfinder.api:Error fetching https://api.crossref.org/works/10.1143/JPSJ.9.359: 429\n"
     ]
    },
    {
     "name": "stdout",
     "output_type": "stream",
     "text": [
      "2368/4181: https://api.crossref.org/works/10.1016/j.pmatsci.2007.01.001\r"
     ]
    },
    {
     "name": "stderr",
     "output_type": "stream",
     "text": [
      "ERROR:artfinder.api:Error fetching https://api.crossref.org/works/10.1016/j.bmcl.2013.04.002: 429\n",
      "ERROR:artfinder.api:Error fetching https://api.crossref.org/works/10.1021/jp001336y: 429\n"
     ]
    },
    {
     "name": "stdout",
     "output_type": "stream",
     "text": [
      "2369/4181: https://api.crossref.org/works/10.1364/OE.17.002255\r"
     ]
    },
    {
     "name": "stderr",
     "output_type": "stream",
     "text": [
      "ERROR:artfinder.api:Error fetching https://api.crossref.org/works/10.1039/c2nr33599a: 429\n"
     ]
    },
    {
     "name": "stdout",
     "output_type": "stream",
     "text": [
      "2371/4181: https://api.crossref.org/works/10.1016/j.cpc.2011.10.0027.12.182\r"
     ]
    },
    {
     "name": "stderr",
     "output_type": "stream",
     "text": [
      "ERROR:artfinder.api:Error fetching https://api.crossref.org/works/10.1021/acsami.8b01627: 429\n"
     ]
    },
    {
     "name": "stdout",
     "output_type": "stream",
     "text": [
      "2372/4181: https://api.crossref.org/works/10.2109/jcersj.99.923\r"
     ]
    },
    {
     "name": "stderr",
     "output_type": "stream",
     "text": [
      "ERROR:artfinder.api:Error fetching https://api.crossref.org/works/10.1016/j.molliq.2018.04.012: 429\n"
     ]
    },
    {
     "name": "stdout",
     "output_type": "stream",
     "text": [
      "2373/4181: https://api.crossref.org/works/10.1126/science.1232009\r"
     ]
    },
    {
     "name": "stderr",
     "output_type": "stream",
     "text": [
      "ERROR:artfinder.api:Error fetching https://api.crossref.org/works/10.1038/s41467-019-13051-2: 429\n"
     ]
    },
    {
     "name": "stdout",
     "output_type": "stream",
     "text": [
      "2374/4181: https://api.crossref.org/works/10.1149/1.2100805\r"
     ]
    },
    {
     "name": "stderr",
     "output_type": "stream",
     "text": [
      "ERROR:artfinder.api:Error fetching https://api.crossref.org/works/10.3390/nano12091456: 429\n"
     ]
    },
    {
     "name": "stdout",
     "output_type": "stream",
     "text": [
      "2375/4181: https://api.crossref.org/works/10.1021/ja991662v\r"
     ]
    },
    {
     "name": "stderr",
     "output_type": "stream",
     "text": [
      "ERROR:artfinder.api:Error fetching https://api.crossref.org/works/10.1182/blood-2014-08-596403: 429\n",
      "ERROR:artfinder.api:Error fetching https://api.crossref.org/works/10.1111/j.1151-2916.1982.tb10465.x: 429\n"
     ]
    },
    {
     "name": "stdout",
     "output_type": "stream",
     "text": [
      "2376/4181: https://api.crossref.org/works/10.3390/nano11030592\r"
     ]
    },
    {
     "name": "stderr",
     "output_type": "stream",
     "text": [
      "ERROR:artfinder.api:Error fetching https://api.crossref.org/works/10.3390/ma5040661: 429\n"
     ]
    },
    {
     "name": "stdout",
     "output_type": "stream",
     "text": [
      "2378/4181: https://api.crossref.org/works/10.1016/j.apenergy.2016.08.054\r"
     ]
    },
    {
     "name": "stderr",
     "output_type": "stream",
     "text": [
      "ERROR:artfinder.api:Error fetching https://api.crossref.org/works/10.1039/D0BM00549E: 429\n",
      "ERROR:artfinder.api:Error fetching https://api.crossref.org/works/10.1038/nmeth.3925: 429\n"
     ]
    },
    {
     "name": "stdout",
     "output_type": "stream",
     "text": [
      "2381/4181: https://api.crossref.org/works/10.1103/PhysRevLett.106.133901\r"
     ]
    },
    {
     "name": "stderr",
     "output_type": "stream",
     "text": [
      "ERROR:artfinder.api:Error fetching https://api.crossref.org/works/10.1364/OE.16.007460: 429\n",
      "ERROR:artfinder.api:Error fetching https://api.crossref.org/works/10.1021/la0497649: 429\n"
     ]
    },
    {
     "name": "stdout",
     "output_type": "stream",
     "text": [
      "2392/4181: https://api.crossref.org/works/10.1158/0008-5472.CAN-08-2345\r"
     ]
    },
    {
     "name": "stderr",
     "output_type": "stream",
     "text": [
      "ERROR:artfinder.api:Error fetching https://api.crossref.org/works/10.1098/rspa.1974.0012: 429\n",
      "ERROR:artfinder.api:Error fetching https://api.crossref.org/works/10.4172/2157-7439.1000193: 429\n"
     ]
    },
    {
     "name": "stdout",
     "output_type": "stream",
     "text": [
      "2394/4181: https://api.crossref.org/works/10.18632/oncotarget.15700\r"
     ]
    },
    {
     "name": "stderr",
     "output_type": "stream",
     "text": [
      "ERROR:artfinder.api:Error fetching https://api.crossref.org/works/10.1016/j.optlaseng.2005.10.012: 429\n"
     ]
    },
    {
     "name": "stdout",
     "output_type": "stream",
     "text": [
      "2395/4181: https://api.crossref.org/works/10.1016/j.chemosphere.2018.10.214\r"
     ]
    },
    {
     "name": "stderr",
     "output_type": "stream",
     "text": [
      "ERROR:artfinder.api:Error fetching https://api.crossref.org/works/10.1021/la0509394: 429\n"
     ]
    },
    {
     "name": "stdout",
     "output_type": "stream",
     "text": [
      "2396/4181: https://api.crossref.org/works/10.1053/j.seminoncol.2004.07.005\r"
     ]
    },
    {
     "name": "stderr",
     "output_type": "stream",
     "text": [
      "ERROR:artfinder.api:Error fetching https://api.crossref.org/works/10.7150/thno.7341: 429\n",
      "ERROR:artfinder.api:Error fetching https://api.crossref.org/works/10.1021/la200231f: 429\n"
     ]
    },
    {
     "name": "stdout",
     "output_type": "stream",
     "text": [
      "2397/4181: https://api.crossref.org/works/10.1007/s13404-013-0119-4\r"
     ]
    },
    {
     "name": "stderr",
     "output_type": "stream",
     "text": [
      "ERROR:artfinder.api:Error fetching https://api.crossref.org/works/10.1021/acsphotonics.0c00751: 429\n"
     ]
    },
    {
     "name": "stdout",
     "output_type": "stream",
     "text": [
      "2398/4181: https://api.crossref.org/works/10.1038/ncomms1805\r"
     ]
    },
    {
     "name": "stderr",
     "output_type": "stream",
     "text": [
      "ERROR:artfinder.api:Error fetching https://api.crossref.org/works/10.1007/BF02409409: 429\n"
     ]
    },
    {
     "name": "stdout",
     "output_type": "stream",
     "text": [
      "2399/4181: https://api.crossref.org/works/10.3390/nano7080230\r"
     ]
    },
    {
     "name": "stderr",
     "output_type": "stream",
     "text": [
      "ERROR:artfinder.api:Error fetching https://api.crossref.org/works/10.1002/adma.201506140: 429\n"
     ]
    },
    {
     "name": "stdout",
     "output_type": "stream",
     "text": [
      "2400/4181: https://api.crossref.org/works/10.1021/ja0680257\r"
     ]
    },
    {
     "name": "stderr",
     "output_type": "stream",
     "text": [
      "ERROR:artfinder.api:Error fetching https://api.crossref.org/works/10.1007/s00340-002-1087-1: 429\n",
      "ERROR:artfinder.api:Error fetching https://api.crossref.org/works/10.1063/1.476374: 429\n",
      "ERROR:artfinder.api:Error fetching https://api.crossref.org/works/10.1039/C6RA08313G: 429\n",
      "ERROR:artfinder.api:Error fetching https://api.crossref.org/works/10.1002/9783527647705: 429\n"
     ]
    },
    {
     "name": "stdout",
     "output_type": "stream",
     "text": [
      "2401/4181: https://api.crossref.org/works/10.2217/nnm.11.190\r"
     ]
    },
    {
     "name": "stderr",
     "output_type": "stream",
     "text": [
      "ERROR:artfinder.api:Error fetching https://api.crossref.org/works/10.1034/j.1600-0749.2002.00059.x: 429\n",
      "ERROR:artfinder.api:Error fetching https://api.crossref.org/works/10.1021/nl049681c: 429\n"
     ]
    },
    {
     "name": "stdout",
     "output_type": "stream",
     "text": [
      "2402/4181: https://api.crossref.org/works/10.1002/adom.201600250\r"
     ]
    },
    {
     "name": "stderr",
     "output_type": "stream",
     "text": [
      "ERROR:artfinder.api:Error fetching https://api.crossref.org/works/10.1021/jp001803b: 429\n",
      "ERROR:artfinder.api:Error fetching https://api.crossref.org/works/10.1016/j.snb.2004.08.030: 429\n"
     ]
    },
    {
     "name": "stdout",
     "output_type": "stream",
     "text": [
      "2404/4181: https://api.crossref.org/works/10.1186/s41181-016-0008-2\r"
     ]
    },
    {
     "name": "stderr",
     "output_type": "stream",
     "text": [
      "ERROR:artfinder.api:Error fetching https://api.crossref.org/works/10.1117/12.199682: 429\n"
     ]
    },
    {
     "name": "stdout",
     "output_type": "stream",
     "text": [
      "2405/4181: https://api.crossref.org/works/10.1021/ac991011h\r"
     ]
    },
    {
     "name": "stderr",
     "output_type": "stream",
     "text": [
      "ERROR:artfinder.api:Error fetching https://api.crossref.org/works/10.1088/1748-6041/4/2/025001: 429\n"
     ]
    },
    {
     "name": "stdout",
     "output_type": "stream",
     "text": [
      "2406/4181: https://api.crossref.org/works/10.1088/1742-6596/59/1/003\r"
     ]
    },
    {
     "name": "stderr",
     "output_type": "stream",
     "text": [
      "ERROR:artfinder.api:Error fetching https://api.crossref.org/works/10.1016/S0969-8043(99)00093-7: 429\n"
     ]
    },
    {
     "name": "stdout",
     "output_type": "stream",
     "text": [
      "2407/4181: https://api.crossref.org/works/10.1364/OE.16.021305\r"
     ]
    },
    {
     "name": "stderr",
     "output_type": "stream",
     "text": [
      "ERROR:artfinder.api:Error fetching https://api.crossref.org/works/10.1103/PhysRevLett.21.1530: 429\n",
      "ERROR:artfinder.api:Error fetching https://api.crossref.org/works/10.1039/c9ay01039d: 429\n"
     ]
    },
    {
     "name": "stdout",
     "output_type": "stream",
     "text": [
      "2408/4181: https://api.crossref.org/works/10.3390/photonics5030023\r"
     ]
    },
    {
     "name": "stderr",
     "output_type": "stream",
     "text": [
      "ERROR:artfinder.api:Error fetching https://api.crossref.org/works/10.1016/j.chemosphere.2021.133464: 429\n"
     ]
    },
    {
     "name": "stdout",
     "output_type": "stream",
     "text": [
      "2410/4181: https://api.crossref.org/works/10.1016/j.aca.2004.04.060\r"
     ]
    },
    {
     "name": "stderr",
     "output_type": "stream",
     "text": [
      "ERROR:artfinder.api:Error fetching https://api.crossref.org/works/10.1016/j.jpowsour.2014.09.140: 429\n"
     ]
    },
    {
     "name": "stdout",
     "output_type": "stream",
     "text": [
      "2411/4181: https://api.crossref.org/works/10.1103/PhysRevB.69.024108\r"
     ]
    },
    {
     "name": "stderr",
     "output_type": "stream",
     "text": [
      "ERROR:artfinder.api:Error fetching https://api.crossref.org/works/10.1063/1.1773383: 429\n",
      "ERROR:artfinder.api:Error fetching https://api.crossref.org/works/10.1016/S0079-6727(97)00002-5: 429\n"
     ]
    },
    {
     "name": "stdout",
     "output_type": "stream",
     "text": [
      "2412/4181: https://api.crossref.org/works/10.1126/science.1237303\r"
     ]
    },
    {
     "name": "stderr",
     "output_type": "stream",
     "text": [
      "ERROR:artfinder.api:Error fetching https://api.crossref.org/works/10.1016/j.cej.2023.141314: 429\n"
     ]
    },
    {
     "name": "stdout",
     "output_type": "stream",
     "text": [
      "2413/4181: https://api.crossref.org/works/10.1038/nphoton.2010.89\r"
     ]
    },
    {
     "name": "stderr",
     "output_type": "stream",
     "text": [
      "ERROR:artfinder.api:Error fetching https://api.crossref.org/works/10.1016/j.bios.2007.05.007: 429\n",
      "ERROR:artfinder.api:Error fetching https://api.crossref.org/works/10.1038/nrc1071: 429\n"
     ]
    },
    {
     "name": "stdout",
     "output_type": "stream",
     "text": [
      "2415/4181: https://api.crossref.org/works/10.1016/j.jcis.2016.09.065\r"
     ]
    },
    {
     "name": "stderr",
     "output_type": "stream",
     "text": [
      "ERROR:artfinder.api:Error fetching https://api.crossref.org/works/10.1016/j.matdes.2022.110391: 429\n"
     ]
    },
    {
     "name": "stdout",
     "output_type": "stream",
     "text": [
      "2417/4181: https://api.crossref.org/works/10.1038/srep32913X(01)00403-7\r"
     ]
    },
    {
     "name": "stderr",
     "output_type": "stream",
     "text": [
      "ERROR:artfinder.api:Error fetching https://api.crossref.org/works/10.1016/B978-0-323-48063-5.00011-3: 429\n",
      "ERROR:artfinder.api:Error fetching https://api.crossref.org/works/10.1143/JJAP.43.L554: 429\n"
     ]
    },
    {
     "name": "stdout",
     "output_type": "stream",
     "text": [
      "2418/4181: https://api.crossref.org/works/10.1016/j.ejpb.2014.12.021\r"
     ]
    },
    {
     "name": "stderr",
     "output_type": "stream",
     "text": [
      "ERROR:artfinder.api:Error fetching https://api.crossref.org/works/10.1063/1.346318: 429\n"
     ]
    },
    {
     "name": "stdout",
     "output_type": "stream",
     "text": [
      "2419/4181: https://api.crossref.org/works/10.1016/S0142-9612(03)00374-0\r"
     ]
    },
    {
     "name": "stderr",
     "output_type": "stream",
     "text": [
      "ERROR:artfinder.api:Error fetching https://api.crossref.org/works/10.1007/s00339-004-2841-5: 429\n",
      "ERROR:artfinder.api:Error fetching https://api.crossref.org/works/10.1364/JOSA.56.001059: 429\n"
     ]
    },
    {
     "name": "stdout",
     "output_type": "stream",
     "text": [
      "2420/4181: https://api.crossref.org/works/10.1021/nl8036323\r"
     ]
    },
    {
     "name": "stderr",
     "output_type": "stream",
     "text": [
      "ERROR:artfinder.api:Error fetching https://api.crossref.org/works/10.1021/ac402935p: 429\n"
     ]
    },
    {
     "name": "stdout",
     "output_type": "stream",
     "text": [
      "2421/4181: https://api.crossref.org/works/10.1038/s41567-018-0233-6\r"
     ]
    },
    {
     "name": "stderr",
     "output_type": "stream",
     "text": [
      "ERROR:artfinder.api:Error fetching https://api.crossref.org/works/10.1021/ma201016q: 429\n"
     ]
    },
    {
     "name": "stdout",
     "output_type": "stream",
     "text": [
      "2423/4181: https://api.crossref.org/works/10.1016/S0022-3093(97)00199-3\r"
     ]
    },
    {
     "name": "stderr",
     "output_type": "stream",
     "text": [
      "ERROR:artfinder.api:Error fetching https://api.crossref.org/works/10.1016/j.ijpharm.2008.07.027: 429\n",
      "ERROR:artfinder.api:Error fetching https://api.crossref.org/works/10.1021/acs.biomac.5b00920: 429\n"
     ]
    },
    {
     "name": "stdout",
     "output_type": "stream",
     "text": [
      "2424/4181: https://api.crossref.org/works/10.1021/acs.jpcc.6b04405\r"
     ]
    },
    {
     "name": "stderr",
     "output_type": "stream",
     "text": [
      "ERROR:artfinder.api:Error fetching https://api.crossref.org/works/10.1038/s41929-020-00512-x: 429\n"
     ]
    },
    {
     "name": "stdout",
     "output_type": "stream",
     "text": [
      "2426/4181: https://api.crossref.org/works/10.1016/S0925-4005(98)00321-9\r"
     ]
    },
    {
     "name": "stderr",
     "output_type": "stream",
     "text": [
      "ERROR:artfinder.api:Error fetching https://api.crossref.org/works/10.1016/S1470-2045(02)00818-5: 429\n",
      "ERROR:artfinder.api:Error fetching https://api.crossref.org/works/10.1021/acsnano.9b09181: 429\n"
     ]
    },
    {
     "name": "stdout",
     "output_type": "stream",
     "text": [
      "2427/4181: https://api.crossref.org/works/10.1007/s00339-006-3852-1\r"
     ]
    },
    {
     "name": "stderr",
     "output_type": "stream",
     "text": [
      "ERROR:artfinder.api:Error fetching https://api.crossref.org/works/10.1002/adma.200305221: 429\n"
     ]
    },
    {
     "name": "stdout",
     "output_type": "stream",
     "text": [
      "2429/4181: https://api.crossref.org/works/10.4103/jcrt.JCRT_373_19012.08.044\r"
     ]
    },
    {
     "name": "stderr",
     "output_type": "stream",
     "text": [
      "ERROR:artfinder.api:Error fetching https://api.crossref.org/works/10.1016/j.addr.2021.113992: 429\n",
      "ERROR:artfinder.api:Error fetching https://api.crossref.org/works/10.1021/la035157u: 429\n"
     ]
    },
    {
     "name": "stdout",
     "output_type": "stream",
     "text": [
      "2432/4181: https://api.crossref.org/works/10.1259/bjr.20150210/6/065003\r"
     ]
    },
    {
     "name": "stderr",
     "output_type": "stream",
     "text": [
      "ERROR:artfinder.api:Error fetching https://api.crossref.org/works/10.1016/j.apsusc.2017.03.148: 429\n",
      "ERROR:artfinder.api:Error fetching https://api.crossref.org/works/10.1088/2040-8978/18/8/085004: 429\n"
     ]
    },
    {
     "name": "stdout",
     "output_type": "stream",
     "text": [
      "2435/4181: https://api.crossref.org/works/10.1002/jbio.201100112\r"
     ]
    },
    {
     "name": "stderr",
     "output_type": "stream",
     "text": [
      "ERROR:artfinder.api:Error fetching https://api.crossref.org/works/10.1016/0040-6090(94)05673-2: 429\n",
      "ERROR:artfinder.api:Error fetching https://api.crossref.org/works/10.1126/science.278.5339.840: 429\n"
     ]
    },
    {
     "name": "stdout",
     "output_type": "stream",
     "text": [
      "2436/4181: https://api.crossref.org/works/10.1038/s41377-020-0336-6\r"
     ]
    },
    {
     "name": "stderr",
     "output_type": "stream",
     "text": [
      "ERROR:artfinder.api:Error fetching https://api.crossref.org/works/10.1063/1.479235: 429\n"
     ]
    },
    {
     "name": "stdout",
     "output_type": "stream",
     "text": [
      "2437/4181: https://api.crossref.org/works/10.1039/c2cp42650a\r"
     ]
    },
    {
     "name": "stderr",
     "output_type": "stream",
     "text": [
      "ERROR:artfinder.api:Error fetching https://api.crossref.org/works/10.1103/PhysRevLett.82.2278: 429\n",
      "ERROR:artfinder.api:Error fetching https://api.crossref.org/works/10.1038/nphoton.2011.285: 429\n"
     ]
    },
    {
     "name": "stdout",
     "output_type": "stream",
     "text": [
      "2439/4181: https://api.crossref.org/works/10.1007/s11468-015-9959-5\r"
     ]
    },
    {
     "name": "stderr",
     "output_type": "stream",
     "text": [
      "ERROR:artfinder.api:Error fetching https://api.crossref.org/works/10.1088/0957-4484/15/9/035: 429\n",
      "ERROR:artfinder.api:Error fetching https://api.crossref.org/works/10.1103/PhysRevB.76.115411: 429\n"
     ]
    },
    {
     "name": "stdout",
     "output_type": "stream",
     "text": [
      "2442/4181: https://api.crossref.org/works/10.1002/adma.2021026902-2\r"
     ]
    },
    {
     "name": "stderr",
     "output_type": "stream",
     "text": [
      "ERROR:artfinder.api:Error fetching https://api.crossref.org/works/10.1103/PhysRevB.90.075404: 429\n",
      "ERROR:artfinder.api:Error fetching https://api.crossref.org/works/10.1016/j.apsusc.2012.10.105: 429\n"
     ]
    },
    {
     "name": "stdout",
     "output_type": "stream",
     "text": [
      "2443/4181: https://api.crossref.org/works/10.1038/nmeth.1221\r"
     ]
    },
    {
     "name": "stderr",
     "output_type": "stream",
     "text": [
      "ERROR:artfinder.api:Error fetching https://api.crossref.org/works/10.1016/j.colsurfb.2010.09.022: 429\n",
      "ERROR:artfinder.api:Error fetching https://api.crossref.org/works/10.1103/PhysRevLett.56.2712: 429\n"
     ]
    },
    {
     "name": "stdout",
     "output_type": "stream",
     "text": [
      "2444/4181: https://api.crossref.org/works/10.1016/j.mseb.2004.06.022\r"
     ]
    },
    {
     "name": "stderr",
     "output_type": "stream",
     "text": [
      "ERROR:artfinder.api:Error fetching https://api.crossref.org/works/10.1155/2013/942916: 429\n"
     ]
    },
    {
     "name": "stdout",
     "output_type": "stream",
     "text": [
      "2445/4181: https://api.crossref.org/works/10.1002/smll.200700153\r"
     ]
    },
    {
     "name": "stderr",
     "output_type": "stream",
     "text": [
      "ERROR:artfinder.api:Error fetching https://api.crossref.org/works/10.1111/jace.2003.86.issue-1: 429\n",
      "ERROR:artfinder.api:Error fetching https://api.crossref.org/works/10.1063/1.3626464: 429\n"
     ]
    },
    {
     "name": "stdout",
     "output_type": "stream",
     "text": [
      "2447/4181: https://api.crossref.org/works/10.1038/35003530.001644\r"
     ]
    },
    {
     "name": "stderr",
     "output_type": "stream",
     "text": [
      "ERROR:artfinder.api:Error fetching https://api.crossref.org/works/10.1016/j.jcis.2017.06.086: 429\n"
     ]
    },
    {
     "name": "stdout",
     "output_type": "stream",
     "text": [
      "2449/4181: https://api.crossref.org/works/10.1016/j.jlumin.2015.09.015\r"
     ]
    },
    {
     "name": "stderr",
     "output_type": "stream",
     "text": [
      "ERROR:artfinder.api:Error fetching https://api.crossref.org/works/10.1021/ac400245j: 429\n"
     ]
    },
    {
     "name": "stdout",
     "output_type": "stream",
     "text": [
      "2450/4181: https://api.crossref.org/works/10.1016/S0925-4005(00)00724-3\r"
     ]
    },
    {
     "name": "stderr",
     "output_type": "stream",
     "text": [
      "ERROR:artfinder.api:Error fetching https://api.crossref.org/works/10.1016/j.mtnano.2021.100119: 429\n",
      "ERROR:artfinder.api:Error fetching https://api.crossref.org/works/10.1038/s41560-019-0517-9: 429\n"
     ]
    },
    {
     "name": "stdout",
     "output_type": "stream",
     "text": [
      "2451/4181: https://api.crossref.org/works/10.1002/adma.201704528\r"
     ]
    },
    {
     "name": "stderr",
     "output_type": "stream",
     "text": [
      "ERROR:artfinder.api:Error fetching https://api.crossref.org/works/10.1007/s003390050513: 429\n"
     ]
    },
    {
     "name": "stdout",
     "output_type": "stream",
     "text": [
      "2453/4181: https://api.crossref.org/works/10.1021/ja20101750.06.009\r"
     ]
    },
    {
     "name": "stderr",
     "output_type": "stream",
     "text": [
      "ERROR:artfinder.api:Error fetching https://api.crossref.org/works/10.1063/1.1714342: 429\n",
      "ERROR:artfinder.api:Error fetching https://api.crossref.org/works/10.2217/nnm.14.169: 429\n"
     ]
    },
    {
     "name": "stdout",
     "output_type": "stream",
     "text": [
      "2455/4181: https://api.crossref.org/works/10.1021/nn103526206.10.009\r"
     ]
    },
    {
     "name": "stderr",
     "output_type": "stream",
     "text": [
      "ERROR:artfinder.api:Error fetching https://api.crossref.org/works/10.1021/acscatal.2c01750: 429\n"
     ]
    },
    {
     "name": "stdout",
     "output_type": "stream",
     "text": [
      "2456/4181: https://api.crossref.org/works/10.1364/OL.37.002064\r"
     ]
    },
    {
     "name": "stderr",
     "output_type": "stream",
     "text": [
      "ERROR:artfinder.api:Error fetching https://api.crossref.org/works/10.1016/j.pep.2005.01.016: 429\n"
     ]
    },
    {
     "name": "stdout",
     "output_type": "stream",
     "text": [
      "2457/4181: https://api.crossref.org/works/10.1016/j.jcis.2023.08.137\r"
     ]
    },
    {
     "name": "stderr",
     "output_type": "stream",
     "text": [
      "ERROR:artfinder.api:Error fetching https://api.crossref.org/works/10.1016/j.apsusc.2015.03.117: 429\n",
      "ERROR:artfinder.api:Error fetching https://api.crossref.org/works/10.1021/ja049038s: 429\n"
     ]
    },
    {
     "name": "stdout",
     "output_type": "stream",
     "text": [
      "2458/4181: https://api.crossref.org/works/10.1063/1.4903345\r"
     ]
    },
    {
     "name": "stderr",
     "output_type": "stream",
     "text": [
      "ERROR:artfinder.api:Error fetching https://api.crossref.org/works/10.1252/jcej.31.808: 429\n",
      "ERROR:artfinder.api:Error fetching https://api.crossref.org/works/10.1039/c3cs60479a: 429\n"
     ]
    },
    {
     "name": "stdout",
     "output_type": "stream",
     "text": [
      "2460/4181: https://api.crossref.org/works/10.1134/S0021364014090057\r"
     ]
    },
    {
     "name": "stderr",
     "output_type": "stream",
     "text": [
      "ERROR:artfinder.api:Error fetching https://api.crossref.org/works/10.1016/0030-4018(94)90072-8: 429\n",
      "ERROR:artfinder.api:Error fetching https://api.crossref.org/works/10.1021/acscatal.2c00157: 429\n"
     ]
    },
    {
     "name": "stdout",
     "output_type": "stream",
     "text": [
      "2461/4181: https://api.crossref.org/works/10.1039/C7TA00101K\r"
     ]
    },
    {
     "name": "stderr",
     "output_type": "stream",
     "text": [
      "ERROR:artfinder.api:Error fetching https://api.crossref.org/works/10.1002/9780470135976: 429\n"
     ]
    },
    {
     "name": "stdout",
     "output_type": "stream",
     "text": [
      "2463/4181: https://api.crossref.org/works/10.1038/nmat3537.9267\r"
     ]
    },
    {
     "name": "stderr",
     "output_type": "stream",
     "text": [
      "ERROR:artfinder.api:Error fetching https://api.crossref.org/works/10.1038/35104620: 429\n"
     ]
    },
    {
     "name": "stdout",
     "output_type": "stream",
     "text": [
      "2464/4181: https://api.crossref.org/works/10.1016/j.memsci.2019.117215\r"
     ]
    },
    {
     "name": "stderr",
     "output_type": "stream",
     "text": [
      "ERROR:artfinder.api:Error fetching https://api.crossref.org/works/10.2217/17435889.1.2.201: 429\n",
      "ERROR:artfinder.api:Error fetching https://api.crossref.org/works/10.1063/1.1764608: 429\n"
     ]
    },
    {
     "name": "stdout",
     "output_type": "stream",
     "text": [
      "2466/4181: https://api.crossref.org/works/10.3390/s706079711.209\r"
     ]
    },
    {
     "name": "stderr",
     "output_type": "stream",
     "text": [
      "ERROR:artfinder.api:Error fetching https://api.crossref.org/works/10.1007/s00340-003-1121-y: 429\n",
      "ERROR:artfinder.api:Error fetching https://api.crossref.org/works/10.1002/smll.201600872: 429\n"
     ]
    },
    {
     "name": "stdout",
     "output_type": "stream",
     "text": [
      "2468/4181: https://api.crossref.org/works/10.1103/PhysRevLett.34.138\r"
     ]
    },
    {
     "name": "stderr",
     "output_type": "stream",
     "text": [
      "ERROR:artfinder.api:Error fetching https://api.crossref.org/works/10.1021/acs.nanolett.1c02199: 429\n"
     ]
    },
    {
     "name": "stdout",
     "output_type": "stream",
     "text": [
      "2469/4181: https://api.crossref.org/works/10.1021/acsami.9b20916\r"
     ]
    },
    {
     "name": "stderr",
     "output_type": "stream",
     "text": [
      "ERROR:artfinder.api:Error fetching https://api.crossref.org/works/10.1039/C3NR06800E: 429\n",
      "ERROR:artfinder.api:Error fetching https://api.crossref.org/works/10.1021/acsabm.8b00488: 429\n"
     ]
    },
    {
     "name": "stdout",
     "output_type": "stream",
     "text": [
      "2470/4181: https://api.crossref.org/works/10.1103/PhysRevB.48.12357\r"
     ]
    },
    {
     "name": "stderr",
     "output_type": "stream",
     "text": [
      "ERROR:artfinder.api:Error fetching https://api.crossref.org/works/10.1061/(ASCE)EY.1943-7897.0000400: 429\n"
     ]
    },
    {
     "name": "stdout",
     "output_type": "stream",
     "text": [
      "2472/4181: https://api.crossref.org/works/10.1016/j.mattod.2014.10.039\r"
     ]
    },
    {
     "name": "stderr",
     "output_type": "stream",
     "text": [
      "ERROR:artfinder.api:Error fetching https://api.crossref.org/works/10.1016/j.apsusc.2014.01.083: 429\n",
      "ERROR:artfinder.api:Error fetching https://api.crossref.org/works/10.1116/1.4811824: 429\n"
     ]
    },
    {
     "name": "stdout",
     "output_type": "stream",
     "text": [
      "2474/4181: https://api.crossref.org/works/10.1021/nl048096915.12.007\r"
     ]
    },
    {
     "name": "stderr",
     "output_type": "stream",
     "text": [
      "ERROR:artfinder.api:Error fetching https://api.crossref.org/works/10.1099/ijs.0.070839-0: 429\n"
     ]
    },
    {
     "name": "stdout",
     "output_type": "stream",
     "text": [
      "2475/4181: https://api.crossref.org/works/10.1039/C7CC00041C\r"
     ]
    },
    {
     "name": "stderr",
     "output_type": "stream",
     "text": [
      "ERROR:artfinder.api:Error fetching https://api.crossref.org/works/10.1016/S0006-3495(01)75844-4: 429\n"
     ]
    },
    {
     "name": "stdout",
     "output_type": "stream",
     "text": [
      "2476/4181: https://api.crossref.org/works/10.1016/j.biomaterials.2018.08.014\r"
     ]
    },
    {
     "name": "stderr",
     "output_type": "stream",
     "text": [
      "ERROR:artfinder.api:Error fetching https://api.crossref.org/works/10.1038/s41598-017-11491-8: 429\n"
     ]
    },
    {
     "name": "stdout",
     "output_type": "stream",
     "text": [
      "2478/4181: https://api.crossref.org/works/10.1002/smll.201804105\r"
     ]
    },
    {
     "name": "stderr",
     "output_type": "stream",
     "text": [
      "ERROR:artfinder.api:Error fetching https://api.crossref.org/works/10.1111/j.1151-2916.2001.tb01136.x: 429\n",
      "ERROR:artfinder.api:Error fetching https://api.crossref.org/works/10.1002/9780470439098: 429\n"
     ]
    },
    {
     "name": "stdout",
     "output_type": "stream",
     "text": [
      "2479/4181: https://api.crossref.org/works/10.1016/S0065-2571(00)00013-3\r"
     ]
    },
    {
     "name": "stderr",
     "output_type": "stream",
     "text": [
      "ERROR:artfinder.api:Error fetching https://api.crossref.org/works/10.1080/21691401.2019.1709855: 429\n"
     ]
    },
    {
     "name": "stdout",
     "output_type": "stream",
     "text": [
      "2480/4181: https://api.crossref.org/works/10.1038/nmat2398\r"
     ]
    },
    {
     "name": "stderr",
     "output_type": "stream",
     "text": [
      "ERROR:artfinder.api:Error fetching https://api.crossref.org/works/10.1002/cncr.27746: 429\n"
     ]
    },
    {
     "name": "stdout",
     "output_type": "stream",
     "text": [
      "2481/4181: https://api.crossref.org/works/10.1016/0925-4005(93)85234-2\r"
     ]
    },
    {
     "name": "stderr",
     "output_type": "stream",
     "text": [
      "ERROR:artfinder.api:Error fetching https://api.crossref.org/works/10.1364/OPN.31.4.000032: 429\n"
     ]
    },
    {
     "name": "stdout",
     "output_type": "stream",
     "text": [
      "2482/4181: https://api.crossref.org/works/10.1063/1.2961332\r"
     ]
    },
    {
     "name": "stderr",
     "output_type": "stream",
     "text": [
      "ERROR:artfinder.api:Error fetching https://api.crossref.org/works/10.1103/PhysRevLett.69.2176: 429\n",
      "ERROR:artfinder.api:Error fetching https://api.crossref.org/works/10.1103/PhysRevB.30.3240: 429\n"
     ]
    },
    {
     "name": "stdout",
     "output_type": "stream",
     "text": [
      "2485/4181: https://api.crossref.org/works/10.1021/jp102174y7\r"
     ]
    },
    {
     "name": "stderr",
     "output_type": "stream",
     "text": [
      "ERROR:artfinder.api:Error fetching https://api.crossref.org/works/10.1385/0896032825: 429\n",
      "ERROR:artfinder.api:Error fetching https://api.crossref.org/works/10.1016/j.pmatsci.2007.01.001: 429\n"
     ]
    },
    {
     "name": "stdout",
     "output_type": "stream",
     "text": [
      "2498/4181: https://api.crossref.org/works/10.1039/D0TB00240B.9227728-785800\r"
     ]
    },
    {
     "name": "stderr",
     "output_type": "stream",
     "text": [
      "ERROR:artfinder.api:Error fetching https://api.crossref.org/works/10.1364/OE.17.002255: 429\n",
      "ERROR:artfinder.api:Error fetching https://api.crossref.org/works/10.1016/j.chemosphere.2017.12.182: 429\n"
     ]
    },
    {
     "name": "stdout",
     "output_type": "stream",
     "text": [
      "2499/4181: https://api.crossref.org/works/10.1063/1.1557752\r"
     ]
    },
    {
     "name": "stderr",
     "output_type": "stream",
     "text": [
      "ERROR:artfinder.api:Error fetching https://api.crossref.org/works/10.1016/j.cpc.2011.10.002: 429\n"
     ]
    },
    {
     "name": "stdout",
     "output_type": "stream",
     "text": [
      "2500/4181: https://api.crossref.org/works/10.1016/j.mtnano.2024.100508\r"
     ]
    },
    {
     "name": "stderr",
     "output_type": "stream",
     "text": [
      "ERROR:artfinder.api:Error fetching https://api.crossref.org/works/10.2109/jcersj.99.923: 429\n",
      "ERROR:artfinder.api:Error fetching https://api.crossref.org/works/10.1126/science.1232009: 429\n"
     ]
    },
    {
     "name": "stdout",
     "output_type": "stream",
     "text": [
      "2501/4181: https://api.crossref.org/works/10.1186/s12859-017-1934-z\r"
     ]
    },
    {
     "name": "stderr",
     "output_type": "stream",
     "text": [
      "ERROR:artfinder.api:Error fetching https://api.crossref.org/works/10.1149/1.2100805: 429\n"
     ]
    },
    {
     "name": "stdout",
     "output_type": "stream",
     "text": [
      "2502/4181: https://api.crossref.org/works/10.1021/acs.chemmater.8b00565\r"
     ]
    },
    {
     "name": "stderr",
     "output_type": "stream",
     "text": [
      "ERROR:artfinder.api:Error fetching https://api.crossref.org/works/10.1021/ja991662v: 429\n"
     ]
    },
    {
     "name": "stdout",
     "output_type": "stream",
     "text": [
      "2503/4181: https://api.crossref.org/works/10.1186/s12951-020-00669-4\r"
     ]
    },
    {
     "name": "stderr",
     "output_type": "stream",
     "text": [
      "ERROR:artfinder.api:Error fetching https://api.crossref.org/works/10.3390/nano11030592: 429\n"
     ]
    },
    {
     "name": "stdout",
     "output_type": "stream",
     "text": [
      "2504/4181: https://api.crossref.org/works/10.1166/jnn.2016.12327\r"
     ]
    },
    {
     "name": "stderr",
     "output_type": "stream",
     "text": [
      "ERROR:artfinder.api:Error fetching https://api.crossref.org/works/10.1021/nl8029114: 429\n",
      "ERROR:artfinder.api:Error fetching https://api.crossref.org/works/10.1364/OL.5.000176: 429\n",
      "ERROR:artfinder.api:Error fetching https://api.crossref.org/works/10.1016/j.apenergy.2016.08.054: 429\n",
      "ERROR:artfinder.api:Error fetching https://api.crossref.org/works/10.1063/1.4872245: 429\n"
     ]
    },
    {
     "name": "stdout",
     "output_type": "stream",
     "text": [
      "2505/4181: https://api.crossref.org/works/10.1016/j.enconman.2016.01.009\r"
     ]
    },
    {
     "name": "stderr",
     "output_type": "stream",
     "text": [
      "ERROR:artfinder.api:Error fetching https://api.crossref.org/works/10.2967/jnumed.113.133447: 429\n",
      "ERROR:artfinder.api:Error fetching https://api.crossref.org/works/10.1103/PhysRevLett.106.133901: 429\n"
     ]
    },
    {
     "name": "stdout",
     "output_type": "stream",
     "text": [
      "2506/4181: https://api.crossref.org/works/10.1103/PhysRevB.17.1095\r"
     ]
    },
    {
     "name": "stderr",
     "output_type": "stream",
     "text": [
      "ERROR:artfinder.api:Error fetching https://api.crossref.org/works/10.1007/s11468-023-01852-7: 429\n"
     ]
    },
    {
     "name": "stdout",
     "output_type": "stream",
     "text": [
      "2507/4181: https://api.crossref.org/works/10.1002/SMMD.20220009\r"
     ]
    },
    {
     "name": "stderr",
     "output_type": "stream",
     "text": [
      "ERROR:artfinder.api:Error fetching https://api.crossref.org/works/10.1021/ja909303g: 429\n"
     ]
    },
    {
     "name": "stdout",
     "output_type": "stream",
     "text": [
      "2509/4181: https://api.crossref.org/works/10.1007/978-1-4615-8705-74-5\r"
     ]
    },
    {
     "name": "stderr",
     "output_type": "stream",
     "text": [
      "ERROR:artfinder.api:Error fetching https://api.crossref.org/works/10.1103/PhysRevA.13.2287: 429\n",
      "ERROR:artfinder.api:Error fetching https://api.crossref.org/works/10.1063/1.4923456: 429\n"
     ]
    },
    {
     "name": "stdout",
     "output_type": "stream",
     "text": [
      "2510/4181: https://api.crossref.org/works/10.1007/s00339-004-2682-2\r"
     ]
    },
    {
     "name": "stderr",
     "output_type": "stream",
     "text": [
      "ERROR:artfinder.api:Error fetching https://api.crossref.org/works/10.1021/acsnano.1c10550: 429\n"
     ]
    },
    {
     "name": "stdout",
     "output_type": "stream",
     "text": [
      "2511/4181: https://api.crossref.org/works/10.1039/C6NR03507H\r"
     ]
    },
    {
     "name": "stderr",
     "output_type": "stream",
     "text": [
      "ERROR:artfinder.api:Error fetching https://api.crossref.org/works/10.1053/j.seminoncol.2004.07.005: 429\n",
      "ERROR:artfinder.api:Error fetching https://api.crossref.org/works/10.1016/j.ijpharm.2020.119314: 429\n",
      "ERROR:artfinder.api:Error fetching https://api.crossref.org/works/10.1021/acs.inorgchem.6b01004: 429\n"
     ]
    },
    {
     "name": "stdout",
     "output_type": "stream",
     "text": [
      "2513/4181: https://api.crossref.org/works/10.1103/PhysRevB.100.121301\r"
     ]
    },
    {
     "name": "stderr",
     "output_type": "stream",
     "text": [
      "ERROR:artfinder.api:Error fetching https://api.crossref.org/works/10.1080/15476286.2016.1236173: 429\n"
     ]
    },
    {
     "name": "stdout",
     "output_type": "stream",
     "text": [
      "2514/4181: https://api.crossref.org/works/10.1063/1.481465\r"
     ]
    },
    {
     "name": "stderr",
     "output_type": "stream",
     "text": [
      "ERROR:artfinder.api:Error fetching https://api.crossref.org/works/10.1103/PhysRevLett.79.2971: 429\n"
     ]
    },
    {
     "name": "stdout",
     "output_type": "stream",
     "text": [
      "2515/4181: https://api.crossref.org/works/10.1063/1.2435801\r"
     ]
    },
    {
     "name": "stderr",
     "output_type": "stream",
     "text": [
      "ERROR:artfinder.api:Error fetching https://api.crossref.org/works/10.1063/1.2364857: 429\n",
      "ERROR:artfinder.api:Error fetching https://api.crossref.org/works/10.1158/0008-5472.CAN-08-2345: 429\n"
     ]
    },
    {
     "name": "stdout",
     "output_type": "stream",
     "text": [
      "2517/4181: https://api.crossref.org/works/10.1021/acsphotonics.0c00915\r"
     ]
    },
    {
     "name": "stderr",
     "output_type": "stream",
     "text": [
      "ERROR:artfinder.api:Error fetching https://api.crossref.org/works/10.18632/oncotarget.15700: 429\n",
      "ERROR:artfinder.api:Error fetching https://api.crossref.org/works/10.1016/j.chemosphere.2018.10.214: 429\n"
     ]
    },
    {
     "name": "stdout",
     "output_type": "stream",
     "text": [
      "2518/4181: https://api.crossref.org/works/10.1016/j.critrevonc.2011.04.012\r"
     ]
    },
    {
     "name": "stderr",
     "output_type": "stream",
     "text": [
      "ERROR:artfinder.api:Error fetching https://api.crossref.org/works/10.1007/s13404-013-0119-4: 429\n"
     ]
    },
    {
     "name": "stdout",
     "output_type": "stream",
     "text": [
      "2520/4181: https://api.crossref.org/works/10.1007/s10534-016-9931-7\r"
     ]
    },
    {
     "name": "stderr",
     "output_type": "stream",
     "text": [
      "ERROR:artfinder.api:Error fetching https://api.crossref.org/works/10.1038/ncomms1805: 429\n"
     ]
    },
    {
     "name": "stdout",
     "output_type": "stream",
     "text": [
      "2521/4181: https://api.crossref.org/works/10.1016/S1359-6446(97)01163-X\r"
     ]
    },
    {
     "name": "stderr",
     "output_type": "stream",
     "text": [
      "ERROR:artfinder.api:Error fetching https://api.crossref.org/works/10.1021/ja0680257: 429\n",
      "ERROR:artfinder.api:Error fetching https://api.crossref.org/works/10.3390/nano7080230: 429\n"
     ]
    },
    {
     "name": "stdout",
     "output_type": "stream",
     "text": [
      "2523/4181: https://api.crossref.org/works/10.1021/acs.nanolett.4c010221\r"
     ]
    },
    {
     "name": "stderr",
     "output_type": "stream",
     "text": [
      "ERROR:artfinder.api:Error fetching https://api.crossref.org/works/10.1002/adom.201600250: 429\n",
      "ERROR:artfinder.api:Error fetching https://api.crossref.org/works/10.2217/nnm.11.190: 429\n",
      "ERROR:artfinder.api:Error fetching https://api.crossref.org/works/10.1021/nn901903b: 429\n"
     ]
    },
    {
     "name": "stdout",
     "output_type": "stream",
     "text": [
      "2525/4181: https://api.crossref.org/works/10.3390/ph100200565/5/005\r"
     ]
    },
    {
     "name": "stderr",
     "output_type": "stream",
     "text": [
      "ERROR:artfinder.api:Error fetching https://api.crossref.org/works/10.1186/s41181-016-0008-2: 429\n"
     ]
    },
    {
     "name": "stdout",
     "output_type": "stream",
     "text": [
      "2526/4181: https://api.crossref.org/works/10.1021/nl049126a\r"
     ]
    },
    {
     "name": "stderr",
     "output_type": "stream",
     "text": [
      "ERROR:artfinder.api:Error fetching https://api.crossref.org/works/10.1364/OE.21.009017: 429\n"
     ]
    },
    {
     "name": "stdout",
     "output_type": "stream",
     "text": [
      "2527/4181: https://api.crossref.org/works/10.1016/0022-4596(92)90040-3\r"
     ]
    },
    {
     "name": "stderr",
     "output_type": "stream",
     "text": [
      "ERROR:artfinder.api:Error fetching https://api.crossref.org/works/10.1021/ac991011h: 429\n",
      "ERROR:artfinder.api:Error fetching https://api.crossref.org/works/10.1088/1742-6596/59/1/003: 429\n"
     ]
    },
    {
     "name": "stdout",
     "output_type": "stream",
     "text": [
      "2529/4181: https://api.crossref.org/works/10.1364/OE.23.028206\r"
     ]
    },
    {
     "name": "stderr",
     "output_type": "stream",
     "text": [
      "ERROR:artfinder.api:Error fetching https://api.crossref.org/works/10.1364/OE.16.021305: 429\n"
     ]
    },
    {
     "name": "stdout",
     "output_type": "stream",
     "text": [
      "2531/4181: https://api.crossref.org/works/10.1117/12.4073468.02.085\r"
     ]
    },
    {
     "name": "stderr",
     "output_type": "stream",
     "text": [
      "ERROR:artfinder.api:Error fetching https://api.crossref.org/works/10.3390/photonics5030023: 429\n",
      "ERROR:artfinder.api:Error fetching https://api.crossref.org/works/10.1016/j.aca.2004.04.060: 429\n",
      "ERROR:artfinder.api:Error fetching https://api.crossref.org/works/10.1007/BF00324203: 429\n"
     ]
    },
    {
     "name": "stdout",
     "output_type": "stream",
     "text": [
      "2534/4181: https://api.crossref.org/works/10.1080/17425247.2018.1504018\r"
     ]
    },
    {
     "name": "stderr",
     "output_type": "stream",
     "text": [
      "ERROR:artfinder.api:Error fetching https://api.crossref.org/works/10.1126/science.1237303: 429\n",
      "ERROR:artfinder.api:Error fetching https://api.crossref.org/works/10.1103/PhysRevB.69.024108: 429\n"
     ]
    },
    {
     "name": "stdout",
     "output_type": "stream",
     "text": [
      "2538/4181: https://api.crossref.org/works/10.1016/j.talanta.2006.02.0683\r"
     ]
    },
    {
     "name": "stderr",
     "output_type": "stream",
     "text": [
      "ERROR:artfinder.api:Error fetching https://api.crossref.org/works/10.1038/nphoton.2010.89: 429\n",
      "ERROR:artfinder.api:Error fetching https://api.crossref.org/works/10.1103/PhysRevA.78.043811: 429\n"
     ]
    },
    {
     "name": "stdout",
     "output_type": "stream",
     "text": [
      "2540/4181: https://api.crossref.org/works/10.1007/s11082-019-2168-2\r"
     ]
    },
    {
     "name": "stderr",
     "output_type": "stream",
     "text": [
      "ERROR:artfinder.api:Error fetching https://api.crossref.org/works/10.1016/j.jcis.2016.09.065: 429\n",
      "ERROR:artfinder.api:Error fetching https://api.crossref.org/works/10.1016/S0168-583X(01)00403-7: 429\n",
      "ERROR:artfinder.api:Error fetching https://api.crossref.org/works/10.1038/srep32913: 429\n"
     ]
    },
    {
     "name": "stdout",
     "output_type": "stream",
     "text": [
      "2541/4181: https://api.crossref.org/works/10.1038/s41598-018-31933-1\r"
     ]
    },
    {
     "name": "stderr",
     "output_type": "stream",
     "text": [
      "ERROR:artfinder.api:Error fetching https://api.crossref.org/works/10.1016/j.ejpb.2014.12.021: 429\n"
     ]
    },
    {
     "name": "stdout",
     "output_type": "stream",
     "text": [
      "2542/4181: https://api.crossref.org/works/10.1111/j.1151-2916.1982.tb10464.x\r"
     ]
    },
    {
     "name": "stderr",
     "output_type": "stream",
     "text": [
      "ERROR:artfinder.api:Error fetching https://api.crossref.org/works/10.1016/S0142-9612(03)00374-0: 429\n"
     ]
    },
    {
     "name": "stdout",
     "output_type": "stream",
     "text": [
      "2543/4181: https://api.crossref.org/works/10.1039/c2ra22518b\r"
     ]
    },
    {
     "name": "stderr",
     "output_type": "stream",
     "text": [
      "ERROR:artfinder.api:Error fetching https://api.crossref.org/works/10.1021/nl8036323: 429\n"
     ]
    },
    {
     "name": "stdout",
     "output_type": "stream",
     "text": [
      "2544/4181: https://api.crossref.org/works/10.2174/18744710113066660023\r"
     ]
    },
    {
     "name": "stderr",
     "output_type": "stream",
     "text": [
      "ERROR:artfinder.api:Error fetching https://api.crossref.org/works/10.1038/s41567-018-0233-6: 429\n"
     ]
    },
    {
     "name": "stdout",
     "output_type": "stream",
     "text": [
      "2545/4181: https://api.crossref.org/works/10.1007/BF01567637\r"
     ]
    },
    {
     "name": "stderr",
     "output_type": "stream",
     "text": [
      "ERROR:artfinder.api:Error fetching https://api.crossref.org/works/10.1016/S0022-3093(97)00199-3: 429\n"
     ]
    },
    {
     "name": "stdout",
     "output_type": "stream",
     "text": [
      "2546/4181: https://api.crossref.org/works/10.1088/1468-6996/16/2/023501\r"
     ]
    },
    {
     "name": "stderr",
     "output_type": "stream",
     "text": [
      "ERROR:artfinder.api:Error fetching https://api.crossref.org/works/10.1021/acs.jpcc.6b04405: 429\n"
     ]
    },
    {
     "name": "stdout",
     "output_type": "stream",
     "text": [
      "2547/4181: https://api.crossref.org/works/10.1021/ac2001498\r"
     ]
    },
    {
     "name": "stderr",
     "output_type": "stream",
     "text": [
      "ERROR:artfinder.api:Error fetching https://api.crossref.org/works/10.1038/ncomms1649: 429\n"
     ]
    },
    {
     "name": "stdout",
     "output_type": "stream",
     "text": [
      "2548/4181: https://api.crossref.org/works/10.1021/jp0442551\r"
     ]
    },
    {
     "name": "stderr",
     "output_type": "stream",
     "text": [
      "ERROR:artfinder.api:Error fetching https://api.crossref.org/works/10.1016/S0925-4005(98)00321-9: 429\n",
      "ERROR:artfinder.api:Error fetching https://api.crossref.org/works/10.1007/s00339-006-3852-1: 429\n"
     ]
    },
    {
     "name": "stdout",
     "output_type": "stream",
     "text": [
      "2549/4181: https://api.crossref.org/works/10.1089/ten.teb.2015.0535\r"
     ]
    },
    {
     "name": "stderr",
     "output_type": "stream",
     "text": [
      "ERROR:artfinder.api:Error fetching https://api.crossref.org/works/10.4103/jcrt.JCRT_373_19: 429\n",
      "ERROR:artfinder.api:Error fetching https://api.crossref.org/works/10.1016/j.biomaterials.2012.08.044: 429\n"
     ]
    },
    {
     "name": "stdout",
     "output_type": "stream",
     "text": [
      "2551/4181: https://api.crossref.org/works/10.1021/cs501038q1608810\r"
     ]
    },
    {
     "name": "stderr",
     "output_type": "stream",
     "text": [
      "ERROR:artfinder.api:Error fetching https://api.crossref.org/works/10.1021/jp071080x: 429\n"
     ]
    },
    {
     "name": "stdout",
     "output_type": "stream",
     "text": [
      "2553/4181: https://api.crossref.org/works/10.1002/aenm.20110018200193\r"
     ]
    },
    {
     "name": "stderr",
     "output_type": "stream",
     "text": [
      "ERROR:artfinder.api:Error fetching https://api.crossref.org/works/10.1088/2040-8978/16/6/065003: 429\n"
     ]
    },
    {
     "name": "stdout",
     "output_type": "stream",
     "text": [
      "2554/4181: https://api.crossref.org/works/10.1002/adma.201104891\r"
     ]
    },
    {
     "name": "stderr",
     "output_type": "stream",
     "text": [
      "ERROR:artfinder.api:Error fetching https://api.crossref.org/works/10.1259/bjr.20150210: 429\n"
     ]
    },
    {
     "name": "stdout",
     "output_type": "stream",
     "text": [
      "2555/4181: https://api.crossref.org/works/10.1021/cr010436c\r"
     ]
    },
    {
     "name": "stderr",
     "output_type": "stream",
     "text": [
      "ERROR:artfinder.api:Error fetching https://api.crossref.org/works/10.1155/2016/3810175: 429\n",
      "ERROR:artfinder.api:Error fetching https://api.crossref.org/works/10.1039/D2CB00094F: 429\n"
     ]
    },
    {
     "name": "stdout",
     "output_type": "stream",
     "text": [
      "2557/4181: https://api.crossref.org/works/10.1103/PhysRevA.48.45768\r"
     ]
    },
    {
     "name": "stderr",
     "output_type": "stream",
     "text": [
      "ERROR:artfinder.api:Error fetching https://api.crossref.org/works/10.1002/jbio.201100112: 429\n"
     ]
    },
    {
     "name": "stdout",
     "output_type": "stream",
     "text": [
      "2558/4181: https://api.crossref.org/works/10.1002/adma.201304497\r"
     ]
    },
    {
     "name": "stderr",
     "output_type": "stream",
     "text": [
      "ERROR:artfinder.api:Error fetching https://api.crossref.org/works/10.1038/s41377-020-0336-6: 429\n"
     ]
    },
    {
     "name": "stdout",
     "output_type": "stream",
     "text": [
      "2559/4181: https://api.crossref.org/works/10.1038/nmat3505\r"
     ]
    },
    {
     "name": "stderr",
     "output_type": "stream",
     "text": [
      "ERROR:artfinder.api:Error fetching https://api.crossref.org/works/10.1039/c2cp42650a: 429\n"
     ]
    },
    {
     "name": "stdout",
     "output_type": "stream",
     "text": [
      "2560/4181: https://api.crossref.org/works/10.1016/0021-9517(86)90282-4\r"
     ]
    },
    {
     "name": "stderr",
     "output_type": "stream",
     "text": [
      "ERROR:artfinder.api:Error fetching https://api.crossref.org/works/10.1557/PROC-705-Y3.6: 429\n"
     ]
    },
    {
     "name": "stdout",
     "output_type": "stream",
     "text": [
      "2561/4181: https://api.crossref.org/works/10.1002/mp.15824\r"
     ]
    },
    {
     "name": "stderr",
     "output_type": "stream",
     "text": [
      "ERROR:artfinder.api:Error fetching https://api.crossref.org/works/10.1007/s11468-015-9959-5: 429\n",
      "ERROR:artfinder.api:Error fetching https://api.crossref.org/works/10.1007/s12274-017-1692-2: 429\n"
     ]
    },
    {
     "name": "stdout",
     "output_type": "stream",
     "text": [
      "2563/4181: https://api.crossref.org/works/10.1038/srep2540008.04.013\r"
     ]
    },
    {
     "name": "stderr",
     "output_type": "stream",
     "text": [
      "ERROR:artfinder.api:Error fetching https://api.crossref.org/works/10.1021/nn901657w: 429\n",
      "ERROR:artfinder.api:Error fetching https://api.crossref.org/works/10.1002/adma.202102690: 429\n"
     ]
    },
    {
     "name": "stdout",
     "output_type": "stream",
     "text": [
      "2564/4181: https://api.crossref.org/works/10.1016/S0040-6090(01)01035-5\r"
     ]
    },
    {
     "name": "stderr",
     "output_type": "stream",
     "text": [
      "ERROR:artfinder.api:Error fetching https://api.crossref.org/works/10.1038/nmeth.1221: 429\n"
     ]
    },
    {
     "name": "stdout",
     "output_type": "stream",
     "text": [
      "2565/4181: https://api.crossref.org/works/10.1016/S0304-3991(03)00119-0\r"
     ]
    },
    {
     "name": "stderr",
     "output_type": "stream",
     "text": [
      "ERROR:artfinder.api:Error fetching https://api.crossref.org/works/10.1016/j.mseb.2004.06.022: 429\n"
     ]
    },
    {
     "name": "stdout",
     "output_type": "stream",
     "text": [
      "2566/4181: https://api.crossref.org/works/10.1063/1.2187432\r"
     ]
    },
    {
     "name": "stderr",
     "output_type": "stream",
     "text": [
      "ERROR:artfinder.api:Error fetching https://api.crossref.org/works/10.1002/smll.200700153: 429\n"
     ]
    },
    {
     "name": "stdout",
     "output_type": "stream",
     "text": [
      "2567/4181: https://api.crossref.org/works/10.1023/A:1009654300686\r"
     ]
    },
    {
     "name": "stderr",
     "output_type": "stream",
     "text": [
      "ERROR:artfinder.api:Error fetching https://api.crossref.org/works/10.1364/JOSAA.20.001644: 429\n"
     ]
    },
    {
     "name": "stdout",
     "output_type": "stream",
     "text": [
      "2568/4181: https://api.crossref.org/works/10.1016/j.jcis.2008.04.043\r"
     ]
    },
    {
     "name": "stderr",
     "output_type": "stream",
     "text": [
      "ERROR:artfinder.api:Error fetching https://api.crossref.org/works/10.1038/35003530: 429\n"
     ]
    },
    {
     "name": "stdout",
     "output_type": "stream",
     "text": [
      "2569/4181: https://api.crossref.org/works/10.1016/j.joule.2018.09.021\r"
     ]
    },
    {
     "name": "stderr",
     "output_type": "stream",
     "text": [
      "ERROR:artfinder.api:Error fetching https://api.crossref.org/works/10.1038/nmat3151: 429\n"
     ]
    },
    {
     "name": "stdout",
     "output_type": "stream",
     "text": [
      "2570/4181: https://api.crossref.org/works/10.1021/nl0700346\r"
     ]
    },
    {
     "name": "stderr",
     "output_type": "stream",
     "text": [
      "ERROR:artfinder.api:Error fetching https://api.crossref.org/works/10.1016/j.jlumin.2015.09.015: 429\n",
      "ERROR:artfinder.api:Error fetching https://api.crossref.org/works/10.1016/S0925-4005(00)00724-3: 429\n"
     ]
    },
    {
     "name": "stdout",
     "output_type": "stream",
     "text": [
      "2573/4181: https://api.crossref.org/works/10.1016/j.jpha.2023.06.00146\r"
     ]
    },
    {
     "name": "stderr",
     "output_type": "stream",
     "text": [
      "ERROR:artfinder.api:Error fetching https://api.crossref.org/works/10.1002/adma.201704528: 429\n",
      "ERROR:artfinder.api:Error fetching https://api.crossref.org/works/10.1021/ja2010175: 429\n",
      "ERROR:artfinder.api:Error fetching https://api.crossref.org/works/10.1016/j.cap.2010.06.009: 429\n"
     ]
    },
    {
     "name": "stdout",
     "output_type": "stream",
     "text": [
      "2575/4181: https://api.crossref.org/works/10.1016/j.talanta.2017.02.061\r"
     ]
    },
    {
     "name": "stderr",
     "output_type": "stream",
     "text": [
      "ERROR:artfinder.api:Error fetching https://api.crossref.org/works/10.1016/j.jcis.2006.10.009: 429\n"
     ]
    },
    {
     "name": "stdout",
     "output_type": "stream",
     "text": [
      "2576/4181: https://api.crossref.org/works/10.1016/j.freeradbiomed.2013.07.024\r"
     ]
    },
    {
     "name": "stderr",
     "output_type": "stream",
     "text": [
      "ERROR:artfinder.api:Error fetching https://api.crossref.org/works/10.1364/OL.37.002064: 429\n"
     ]
    },
    {
     "name": "stdout",
     "output_type": "stream",
     "text": [
      "2577/4181: https://api.crossref.org/works/10.1038/s41467-020-18835-5\r"
     ]
    },
    {
     "name": "stderr",
     "output_type": "stream",
     "text": [
      "ERROR:artfinder.api:Error fetching https://api.crossref.org/works/10.1021/nn1035262: 429\n"
     ]
    },
    {
     "name": "stdout",
     "output_type": "stream",
     "text": [
      "2580/4181: https://api.crossref.org/works/10.1016/j.rser.2016.05.022301\r"
     ]
    },
    {
     "name": "stderr",
     "output_type": "stream",
     "text": [
      "ERROR:artfinder.api:Error fetching https://api.crossref.org/works/10.1063/1.4903345: 429\n"
     ]
    },
    {
     "name": "stdout",
     "output_type": "stream",
     "text": [
      "2581/4181: https://api.crossref.org/works/10.1002/adma.v25.19\r"
     ]
    },
    {
     "name": "stderr",
     "output_type": "stream",
     "text": [
      "ERROR:artfinder.api:Error fetching https://api.crossref.org/works/10.1007/s00253-011-3634-3: 429\n"
     ]
    },
    {
     "name": "stdout",
     "output_type": "stream",
     "text": [
      "2582/4181: https://api.crossref.org/works/10.1017/S0022112004009309\r"
     ]
    },
    {
     "name": "stderr",
     "output_type": "stream",
     "text": [
      "ERROR:artfinder.api:Error fetching https://api.crossref.org/works/10.1134/S0021364014090057: 429\n"
     ]
    },
    {
     "name": "stdout",
     "output_type": "stream",
     "text": [
      "2583/4181: https://api.crossref.org/works/10.1103/PhysRevLett.75.1739\r"
     ]
    },
    {
     "name": "stderr",
     "output_type": "stream",
     "text": [
      "ERROR:artfinder.api:Error fetching https://api.crossref.org/works/10.1039/C7TA00101K: 429\n",
      "ERROR:artfinder.api:Error fetching https://api.crossref.org/works/10.1016/j.jcis.2023.08.137: 429\n"
     ]
    },
    {
     "name": "stdout",
     "output_type": "stream",
     "text": [
      "2584/4181: https://api.crossref.org/works/10.1557/PROC-538-491\r"
     ]
    },
    {
     "name": "stderr",
     "output_type": "stream",
     "text": [
      "ERROR:artfinder.api:Error fetching https://api.crossref.org/works/10.1166/jnn.2014.9267: 429\n",
      "ERROR:artfinder.api:Error fetching https://api.crossref.org/works/10.1038/nmat3537: 429\n"
     ]
    },
    {
     "name": "stdout",
     "output_type": "stream",
     "text": [
      "2586/4181: https://api.crossref.org/works/10.1007/s00339-005-3242-0\r"
     ]
    },
    {
     "name": "stderr",
     "output_type": "stream",
     "text": [
      "ERROR:artfinder.api:Error fetching https://api.crossref.org/works/10.1016/j.memsci.2019.117215: 429\n",
      "ERROR:artfinder.api:Error fetching https://api.crossref.org/works/10.1038/nnano.2011.209: 429\n"
     ]
    },
    {
     "name": "stdout",
     "output_type": "stream",
     "text": [
      "2587/4181: https://api.crossref.org/works/10.1016/j.actbio.2013.03.034\r"
     ]
    },
    {
     "name": "stderr",
     "output_type": "stream",
     "text": [
      "ERROR:artfinder.api:Error fetching https://api.crossref.org/works/10.3390/s7060797: 429\n"
     ]
    },
    {
     "name": "stdout",
     "output_type": "stream",
     "text": [
      "2589/4181: https://api.crossref.org/works/10.1016/j.ijpharm.2011.11.013\r"
     ]
    },
    {
     "name": "stderr",
     "output_type": "stream",
     "text": [
      "ERROR:artfinder.api:Error fetching https://api.crossref.org/works/10.1007/s00253-005-0179-3: 429\n",
      "ERROR:artfinder.api:Error fetching https://api.crossref.org/works/10.1103/PhysRevLett.34.138: 429\n"
     ]
    },
    {
     "name": "stdout",
     "output_type": "stream",
     "text": [
      "2603/4181: https://api.crossref.org/works/10.1038/s41598-017-04804-400700\r"
     ]
    },
    {
     "name": "stderr",
     "output_type": "stream",
     "text": [
      "ERROR:artfinder.api:Error fetching https://api.crossref.org/works/10.1038/nphoton.2008.78: 429\n"
     ]
    },
    {
     "name": "stdout",
     "output_type": "stream",
     "text": [
      "2604/4181: https://api.crossref.org/works/10.1097/01.rli.0000184756.66360.d3\r"
     ]
    },
    {
     "name": "stderr",
     "output_type": "stream",
     "text": [
      "ERROR:artfinder.api:Error fetching https://api.crossref.org/works/10.1016/j.mattod.2014.10.039: 429\n",
      "ERROR:artfinder.api:Error fetching https://api.crossref.org/works/10.1016/j.ctrv.2015.12.007: 429\n"
     ]
    },
    {
     "name": "stdout",
     "output_type": "stream",
     "text": [
      "2606/4181: https://api.crossref.org/works/10.1016/j.apsusc.2020.147940\r"
     ]
    },
    {
     "name": "stderr",
     "output_type": "stream",
     "text": [
      "ERROR:artfinder.api:Error fetching https://api.crossref.org/works/10.1021/acsami.9b20916: 429\n",
      "ERROR:artfinder.api:Error fetching https://api.crossref.org/works/10.1021/nl0480969: 429\n",
      "ERROR:artfinder.api:Error fetching https://api.crossref.org/works/10.1039/C7CC00041C: 429\n",
      "ERROR:artfinder.api:Error fetching https://api.crossref.org/works/10.1103/PhysRevB.48.12357: 429\n"
     ]
    },
    {
     "name": "stdout",
     "output_type": "stream",
     "text": [
      "2607/4181: https://api.crossref.org/works/10.1002/cyto.a.20846\r"
     ]
    },
    {
     "name": "stderr",
     "output_type": "stream",
     "text": [
      "ERROR:artfinder.api:Error fetching https://api.crossref.org/works/10.1016/j.biomaterials.2018.08.014: 429\n"
     ]
    },
    {
     "name": "stdout",
     "output_type": "stream",
     "text": [
      "2608/4181: https://api.crossref.org/works/10.1039/C6NR01435F\r"
     ]
    },
    {
     "name": "stderr",
     "output_type": "stream",
     "text": [
      "ERROR:artfinder.api:Error fetching https://api.crossref.org/works/10.1002/cphc.201601183: 429\n"
     ]
    },
    {
     "name": "stdout",
     "output_type": "stream",
     "text": [
      "2609/4181: https://api.crossref.org/works/10.1063/1.5051618\r"
     ]
    },
    {
     "name": "stderr",
     "output_type": "stream",
     "text": [
      "ERROR:artfinder.api:Error fetching https://api.crossref.org/works/10.1016/S0065-2571(00)00013-3: 429\n",
      "ERROR:artfinder.api:Error fetching https://api.crossref.org/works/10.1002/smll.201804105: 429\n",
      "ERROR:artfinder.api:Error fetching https://api.crossref.org/works/10.1038/nmat2398: 429\n",
      "ERROR:artfinder.api:Error fetching https://api.crossref.org/works/10.1016/0925-4005(93)85234-2: 429\n"
     ]
    },
    {
     "name": "stdout",
     "output_type": "stream",
     "text": [
      "2610/4181: https://api.crossref.org/works/10.1103/PhysRevLett.110.106801\r"
     ]
    },
    {
     "name": "stderr",
     "output_type": "stream",
     "text": [
      "ERROR:artfinder.api:Error fetching https://api.crossref.org/works/10.1063/1.2961332: 429\n"
     ]
    },
    {
     "name": "stdout",
     "output_type": "stream",
     "text": [
      "2611/4181: https://api.crossref.org/works/10.1007/s003390000537\r"
     ]
    },
    {
     "name": "stderr",
     "output_type": "stream",
     "text": [
      "ERROR:artfinder.api:Error fetching https://api.crossref.org/works/10.1117/12.2217777: 429\n",
      "ERROR:artfinder.api:Error fetching https://api.crossref.org/works/10.1039/B702213A: 429\n"
     ]
    },
    {
     "name": "stdout",
     "output_type": "stream",
     "text": [
      "2613/4181: https://api.crossref.org/works/10.1088/0022-3727/42/10/102001\r"
     ]
    },
    {
     "name": "stderr",
     "output_type": "stream",
     "text": [
      "ERROR:artfinder.api:Error fetching https://api.crossref.org/works/10.1021/jp102174y: 429\n",
      "ERROR:artfinder.api:Error fetching https://api.crossref.org/works/10.1021/acsmaterialslett.3c00035: 429\n"
     ]
    },
    {
     "name": "stdout",
     "output_type": "stream",
     "text": [
      "2615/4181: https://api.crossref.org/works/10.2351/7.0000075\r"
     ]
    },
    {
     "name": "stderr",
     "output_type": "stream",
     "text": [
      "ERROR:artfinder.api:Error fetching https://api.crossref.org/works/10.1103/PhysRevB.91.134114: 429\n",
      "ERROR:artfinder.api:Error fetching https://api.crossref.org/works/10.1016/j.bbagen.2013.07.015: 429\n",
      "ERROR:artfinder.api:Error fetching https://api.crossref.org/works/10.1063/1.4885141: 429\n",
      "ERROR:artfinder.api:Error fetching https://api.crossref.org/works/10.1021/nl300044a: 429\n"
     ]
    },
    {
     "name": "stdout",
     "output_type": "stream",
     "text": [
      "2617/4181: https://api.crossref.org/works/10.1364/OL.42333100321\r"
     ]
    },
    {
     "name": "stderr",
     "output_type": "stream",
     "text": [
      "ERROR:artfinder.api:Error fetching https://api.crossref.org/works/10.1103/PhysRevB.90.205422: 429\n"
     ]
    },
    {
     "name": "stdout",
     "output_type": "stream",
     "text": [
      "2619/4181: https://api.crossref.org/works/10.1016/j.ab.2004.03.0284\r"
     ]
    },
    {
     "name": "stderr",
     "output_type": "stream",
     "text": [
      "ERROR:artfinder.api:Error fetching https://api.crossref.org/works/10.1039/C3CS60353A: 429\n"
     ]
    },
    {
     "name": "stdout",
     "output_type": "stream",
     "text": [
      "2620/4181: https://api.crossref.org/works/10.1039/C7TB00195A\r"
     ]
    },
    {
     "name": "stderr",
     "output_type": "stream",
     "text": [
      "ERROR:artfinder.api:Error fetching https://api.crossref.org/works/10.2174/2211556009666200413085800: 429\n",
      "ERROR:artfinder.api:Error fetching https://api.crossref.org/works/10.1021/bm990006k: 429\n"
     ]
    },
    {
     "name": "stdout",
     "output_type": "stream",
     "text": [
      "2621/4181: https://api.crossref.org/works/10.1007/s10853-008-2445-0\r"
     ]
    },
    {
     "name": "stderr",
     "output_type": "stream",
     "text": [
      "ERROR:artfinder.api:Error fetching https://api.crossref.org/works/10.1016/0925-4005(93)85158-7: 429\n"
     ]
    },
    {
     "name": "stdout",
     "output_type": "stream",
     "text": [
      "2622/4181: https://api.crossref.org/works/10.1021/nl203030f\r"
     ]
    },
    {
     "name": "stderr",
     "output_type": "stream",
     "text": [
      "ERROR:artfinder.api:Error fetching https://api.crossref.org/works/10.1038/srep00681: 429\n",
      "ERROR:artfinder.api:Error fetching https://api.crossref.org/works/10.3389/fbioe.2022.922772: 429\n"
     ]
    },
    {
     "name": "stdout",
     "output_type": "stream",
     "text": [
      "2623/4181: https://api.crossref.org/works/10.1364/OME.7.004171\r"
     ]
    },
    {
     "name": "stderr",
     "output_type": "stream",
     "text": [
      "ERROR:artfinder.api:Error fetching https://api.crossref.org/works/10.1039/D0TB00240B: 429\n"
     ]
    },
    {
     "name": "stdout",
     "output_type": "stream",
     "text": [
      "2626/4181: https://api.crossref.org/works/10.1016/j.apsusc.2015.01.082\r"
     ]
    },
    {
     "name": "stderr",
     "output_type": "stream",
     "text": [
      "ERROR:artfinder.api:Error fetching https://api.crossref.org/works/10.1016/j.mtnano.2024.100508: 429\n",
      "ERROR:artfinder.api:Error fetching https://api.crossref.org/works/10.1063/1.1557752: 429\n"
     ]
    },
    {
     "name": "stdout",
     "output_type": "stream",
     "text": [
      "2627/4181: https://api.crossref.org/works/10.1126/science.1125907\r"
     ]
    },
    {
     "name": "stderr",
     "output_type": "stream",
     "text": [
      "ERROR:artfinder.api:Error fetching https://api.crossref.org/works/10.1021/acs.chemmater.8b00565: 429\n"
     ]
    },
    {
     "name": "stdout",
     "output_type": "stream",
     "text": [
      "2628/4181: https://api.crossref.org/works/10.1586/erd.12.43\r"
     ]
    },
    {
     "name": "stderr",
     "output_type": "stream",
     "text": [
      "ERROR:artfinder.api:Error fetching https://api.crossref.org/works/10.1186/s12859-017-1934-z: 429\n",
      "ERROR:artfinder.api:Error fetching https://api.crossref.org/works/10.1186/s12951-020-00669-4: 429\n"
     ]
    },
    {
     "name": "stdout",
     "output_type": "stream",
     "text": [
      "2629/4181: https://api.crossref.org/works/10.1038/s41557-018-0035-6\r"
     ]
    },
    {
     "name": "stderr",
     "output_type": "stream",
     "text": [
      "ERROR:artfinder.api:Error fetching https://api.crossref.org/works/10.1166/jnn.2016.12327: 429\n"
     ]
    },
    {
     "name": "stdout",
     "output_type": "stream",
     "text": [
      "2631/4181: https://api.crossref.org/works/10.1088/1757-899X/487/1/012026\r"
     ]
    },
    {
     "name": "stderr",
     "output_type": "stream",
     "text": [
      "ERROR:artfinder.api:Error fetching https://api.crossref.org/works/10.1016/j.enconman.2016.01.009: 429\n",
      "ERROR:artfinder.api:Error fetching https://api.crossref.org/works/10.1103/PhysRevB.17.1095: 429\n",
      "ERROR:artfinder.api:Error fetching https://api.crossref.org/works/10.1002/SMMD.20220009: 429\n"
     ]
    },
    {
     "name": "stdout",
     "output_type": "stream",
     "text": [
      "2633/4181: https://api.crossref.org/works/10.1126/science.275.5303.1102\r"
     ]
    },
    {
     "name": "stderr",
     "output_type": "stream",
     "text": [
      "ERROR:artfinder.api:Error fetching https://api.crossref.org/works/10.1016/0022-0728(89)87164-5: 429\n"
     ]
    },
    {
     "name": "stdout",
     "output_type": "stream",
     "text": [
      "2635/4181: https://api.crossref.org/works/10.1021/acs.langmuir.9b03975\r"
     ]
    },
    {
     "name": "stderr",
     "output_type": "stream",
     "text": [
      "ERROR:artfinder.api:Error fetching https://api.crossref.org/works/10.1007/s00339-004-2682-2: 429\n",
      "ERROR:artfinder.api:Error fetching https://api.crossref.org/works/10.1007/978-1-4615-8705-7: 429\n",
      "ERROR:artfinder.api:Error fetching https://api.crossref.org/works/10.1039/C6NR03507H: 429\n"
     ]
    },
    {
     "name": "stdout",
     "output_type": "stream",
     "text": [
      "2640/4181: https://api.crossref.org/works/10.1021/jp045771u9(02)00100-0\r"
     ]
    },
    {
     "name": "stderr",
     "output_type": "stream",
     "text": [
      "ERROR:artfinder.api:Error fetching https://api.crossref.org/works/10.1002/adma.200601224: 429\n"
     ]
    },
    {
     "name": "stdout",
     "output_type": "stream",
     "text": [
      "2641/4181: https://api.crossref.org/works/10.1039/c0cp02588g\r"
     ]
    },
    {
     "name": "stderr",
     "output_type": "stream",
     "text": [
      "ERROR:artfinder.api:Error fetching https://api.crossref.org/works/10.1103/PhysRevB.100.121301: 429\n"
     ]
    },
    {
     "name": "stdout",
     "output_type": "stream",
     "text": [
      "2642/4181: https://api.crossref.org/works/10.1021/cm0101632\r"
     ]
    },
    {
     "name": "stderr",
     "output_type": "stream",
     "text": [
      "ERROR:artfinder.api:Error fetching https://api.crossref.org/works/10.1063/1.2435801: 429\n",
      "ERROR:artfinder.api:Error fetching https://api.crossref.org/works/10.1063/1.481465: 429\n"
     ]
    },
    {
     "name": "stdout",
     "output_type": "stream",
     "text": [
      "2644/4181: https://api.crossref.org/works/10.1080/13642818508240574\r"
     ]
    },
    {
     "name": "stderr",
     "output_type": "stream",
     "text": [
      "ERROR:artfinder.api:Error fetching https://api.crossref.org/works/10.1063/1.2798384: 429\n",
      "ERROR:artfinder.api:Error fetching https://api.crossref.org/works/10.1021/acsphotonics.0c00915: 429\n",
      "ERROR:artfinder.api:Error fetching https://api.crossref.org/works/10.1016/j.critrevonc.2011.04.012: 429\n"
     ]
    },
    {
     "name": "stdout",
     "output_type": "stream",
     "text": [
      "2645/4181: https://api.crossref.org/works/10.3390/cancers13194777\r"
     ]
    },
    {
     "name": "stderr",
     "output_type": "stream",
     "text": [
      "ERROR:artfinder.api:Error fetching https://api.crossref.org/works/10.1259/bjr.20150207: 429\n"
     ]
    },
    {
     "name": "stdout",
     "output_type": "stream",
     "text": [
      "2646/4181: https://api.crossref.org/works/10.1002/anie.200804355\r"
     ]
    },
    {
     "name": "stderr",
     "output_type": "stream",
     "text": [
      "ERROR:artfinder.api:Error fetching https://api.crossref.org/works/10.1007/s10534-016-9931-7: 429\n"
     ]
    },
    {
     "name": "stdout",
     "output_type": "stream",
     "text": [
      "2648/4181: https://api.crossref.org/works/10.1021/cr970022c684\r"
     ]
    },
    {
     "name": "stderr",
     "output_type": "stream",
     "text": [
      "ERROR:artfinder.api:Error fetching https://api.crossref.org/works/10.1016/S1359-6446(97)01163-X: 429\n",
      "ERROR:artfinder.api:Error fetching https://api.crossref.org/works/10.1103/PhysRevLett.98.195701: 429\n"
     ]
    },
    {
     "name": "stdout",
     "output_type": "stream",
     "text": [
      "2650/4181: https://api.crossref.org/works/10.3390/nano140504109.07.029\r"
     ]
    },
    {
     "name": "stderr",
     "output_type": "stream",
     "text": [
      "ERROR:artfinder.api:Error fetching https://api.crossref.org/works/10.1021/acs.nanolett.4c01022: 429\n",
      "ERROR:artfinder.api:Error fetching https://api.crossref.org/works/10.1088/0963-9659/5/5/005: 429\n"
     ]
    },
    {
     "name": "stdout",
     "output_type": "stream",
     "text": [
      "2652/4181: https://api.crossref.org/works/10.1103/PhysRevLett.90.027402\r"
     ]
    },
    {
     "name": "stderr",
     "output_type": "stream",
     "text": [
      "ERROR:artfinder.api:Error fetching https://api.crossref.org/works/10.3390/ph10020056: 429\n",
      "ERROR:artfinder.api:Error fetching https://api.crossref.org/works/10.1021/nl049126a: 429\n"
     ]
    },
    {
     "name": "stdout",
     "output_type": "stream",
     "text": [
      "2653/4181: https://api.crossref.org/works/10.1186/s13550-019-0509-6\r"
     ]
    },
    {
     "name": "stderr",
     "output_type": "stream",
     "text": [
      "ERROR:artfinder.api:Error fetching https://api.crossref.org/works/10.1016/0022-4596(92)90040-3: 429\n",
      "ERROR:artfinder.api:Error fetching https://api.crossref.org/works/10.1364/OE.23.028206: 429\n",
      "ERROR:artfinder.api:Error fetching https://api.crossref.org/works/10.1021/jp0718348: 429\n"
     ]
    },
    {
     "name": "stdout",
     "output_type": "stream",
     "text": [
      "2655/4181: https://api.crossref.org/works/10.1039/C5NR01592H69\r"
     ]
    },
    {
     "name": "stderr",
     "output_type": "stream",
     "text": [
      "ERROR:artfinder.api:Error fetching https://api.crossref.org/works/10.1016/j.snb.2018.02.085: 429\n"
     ]
    },
    {
     "name": "stdout",
     "output_type": "stream",
     "text": [
      "2657/4181: https://api.crossref.org/works/10.1016/j.revip.2021.100051\r"
     ]
    },
    {
     "name": "stderr",
     "output_type": "stream",
     "text": [
      "ERROR:artfinder.api:Error fetching https://api.crossref.org/works/10.1117/12.407346: 429\n"
     ]
    },
    {
     "name": "stdout",
     "output_type": "stream",
     "text": [
      "2658/4181: https://api.crossref.org/works/10.1038/s41598-019-50721-z\r"
     ]
    },
    {
     "name": "stderr",
     "output_type": "stream",
     "text": [
      "ERROR:artfinder.api:Error fetching https://api.crossref.org/works/10.1016/j.nantod.2011.06.003: 429\n",
      "ERROR:artfinder.api:Error fetching https://api.crossref.org/works/10.1063/1.3676040: 429\n"
     ]
    },
    {
     "name": "stdout",
     "output_type": "stream",
     "text": [
      "2660/4181: https://api.crossref.org/works/10.3390/nano13131998\r"
     ]
    },
    {
     "name": "stderr",
     "output_type": "stream",
     "text": [
      "ERROR:artfinder.api:Error fetching https://api.crossref.org/works/10.1080/17425247.2018.1504018: 429\n"
     ]
    },
    {
     "name": "stdout",
     "output_type": "stream",
     "text": [
      "2661/4181: https://api.crossref.org/works/10.1021/jp900067s\r"
     ]
    },
    {
     "name": "stderr",
     "output_type": "stream",
     "text": [
      "ERROR:artfinder.api:Error fetching https://api.crossref.org/works/10.1021/acsami.2c07940: 429\n"
     ]
    },
    {
     "name": "stdout",
     "output_type": "stream",
     "text": [
      "2662/4181: https://api.crossref.org/works/10.1038/nphoton.2013.342\r"
     ]
    },
    {
     "name": "stderr",
     "output_type": "stream",
     "text": [
      "ERROR:artfinder.api:Error fetching https://api.crossref.org/works/10.1016/j.apenergy.2018.07.113: 429\n"
     ]
    },
    {
     "name": "stdout",
     "output_type": "stream",
     "text": [
      "2663/4181: https://api.crossref.org/works/10.1063/5.0160175\r"
     ]
    },
    {
     "name": "stderr",
     "output_type": "stream",
     "text": [
      "ERROR:artfinder.api:Error fetching https://api.crossref.org/works/10.1002/cmtd.202200066: 429\n"
     ]
    },
    {
     "name": "stdout",
     "output_type": "stream",
     "text": [
      "2664/4181: https://api.crossref.org/works/10.1103/PhysRevB.71.035424\r"
     ]
    },
    {
     "name": "stderr",
     "output_type": "stream",
     "text": [
      "ERROR:artfinder.api:Error fetching https://api.crossref.org/works/10.1016/j.talanta.2006.02.068: 429\n"
     ]
    },
    {
     "name": "stdout",
     "output_type": "stream",
     "text": [
      "2665/4181: https://api.crossref.org/works/10.5772/59894\r"
     ]
    },
    {
     "name": "stderr",
     "output_type": "stream",
     "text": [
      "ERROR:artfinder.api:Error fetching https://api.crossref.org/works/10.1007/s11082-019-2168-2: 429\n",
      "ERROR:artfinder.api:Error fetching https://api.crossref.org/works/10.2967/jnumed.109.073239: 429\n"
     ]
    },
    {
     "name": "stdout",
     "output_type": "stream",
     "text": [
      "2667/4181: https://api.crossref.org/works/10.1002/(SICI)1521-3862(199805)04:03&lt;92::AID-CVDE92&gt;3.0.CO;2-C\r"
     ]
    },
    {
     "name": "stderr",
     "output_type": "stream",
     "text": [
      "ERROR:artfinder.api:Error fetching https://api.crossref.org/works/10.1111/j.1151-2916.1982.tb10464.x: 429\n",
      "ERROR:artfinder.api:Error fetching https://api.crossref.org/works/10.1038/s41598-018-31933-1: 429\n"
     ]
    },
    {
     "name": "stdout",
     "output_type": "stream",
     "text": [
      "2668/4181: https://api.crossref.org/works/10.1063/5.0199104\r"
     ]
    },
    {
     "name": "stderr",
     "output_type": "stream",
     "text": [
      "ERROR:artfinder.api:Error fetching https://api.crossref.org/works/10.1039/c2ra22518b: 429\n"
     ]
    },
    {
     "name": "stdout",
     "output_type": "stream",
     "text": [
      "2669/4181: https://api.crossref.org/works/10.3109/02656739209005027\r"
     ]
    },
    {
     "name": "stderr",
     "output_type": "stream",
     "text": [
      "ERROR:artfinder.api:Error fetching https://api.crossref.org/works/10.2174/18744710113066660023: 429\n"
     ]
    },
    {
     "name": "stdout",
     "output_type": "stream",
     "text": [
      "2670/4181: https://api.crossref.org/works/10.1016/S0022-2313(98)00101-X\r"
     ]
    },
    {
     "name": "stderr",
     "output_type": "stream",
     "text": [
      "ERROR:artfinder.api:Error fetching https://api.crossref.org/works/10.1007/BF01567637: 429\n"
     ]
    },
    {
     "name": "stdout",
     "output_type": "stream",
     "text": [
      "2671/4181: https://api.crossref.org/works/10.1088/0031-9155/55/15/013\r"
     ]
    },
    {
     "name": "stderr",
     "output_type": "stream",
     "text": [
      "ERROR:artfinder.api:Error fetching https://api.crossref.org/works/10.1088/1468-6996/16/2/023501: 429\n"
     ]
    },
    {
     "name": "stdout",
     "output_type": "stream",
     "text": [
      "2673/4181: https://api.crossref.org/works/10.1016/S0169-4332(96)00442-4\r"
     ]
    },
    {
     "name": "stderr",
     "output_type": "stream",
     "text": [
      "ERROR:artfinder.api:Error fetching https://api.crossref.org/works/10.1021/ac2001498: 429\n",
      "ERROR:artfinder.api:Error fetching https://api.crossref.org/works/10.1021/jp0442551: 429\n"
     ]
    },
    {
     "name": "stdout",
     "output_type": "stream",
     "text": [
      "2674/4181: https://api.crossref.org/works/10.1021/acs.jpcc.7b08180\r"
     ]
    },
    {
     "name": "stderr",
     "output_type": "stream",
     "text": [
      "ERROR:artfinder.api:Error fetching https://api.crossref.org/works/10.1089/ten.teb.2015.0535: 429\n",
      "ERROR:artfinder.api:Error fetching https://api.crossref.org/works/10.1017/CBO9780511608810: 429\n"
     ]
    },
    {
     "name": "stdout",
     "output_type": "stream",
     "text": [
      "2677/4181: https://api.crossref.org/works/10.1021/jp909897v82745001\r"
     ]
    },
    {
     "name": "stderr",
     "output_type": "stream",
     "text": [
      "ERROR:artfinder.api:Error fetching https://api.crossref.org/works/10.1021/acs.chemrev.5b00193: 429\n",
      "ERROR:artfinder.api:Error fetching https://api.crossref.org/works/10.1021/cs501038q: 429\n",
      "ERROR:artfinder.api:Error fetching https://api.crossref.org/works/10.1002/aenm.201100182: 429\n"
     ]
    },
    {
     "name": "stdout",
     "output_type": "stream",
     "text": [
      "2679/4181: https://api.crossref.org/works/10.1038/nrneph.2016.156\r"
     ]
    },
    {
     "name": "stderr",
     "output_type": "stream",
     "text": [
      "ERROR:artfinder.api:Error fetching https://api.crossref.org/works/10.1002/adma.201104891: 429\n"
     ]
    },
    {
     "name": "stdout",
     "output_type": "stream",
     "text": [
      "2681/4181: https://api.crossref.org/works/10.1016/0038-1098(81)90337-9\r"
     ]
    },
    {
     "name": "stderr",
     "output_type": "stream",
     "text": [
      "ERROR:artfinder.api:Error fetching https://api.crossref.org/works/10.1021/cr010436c: 429\n",
      "ERROR:artfinder.api:Error fetching https://api.crossref.org/works/10.1016/j.tsf.2019.137438: 429\n"
     ]
    },
    {
     "name": "stdout",
     "output_type": "stream",
     "text": [
      "2684/4181: https://api.crossref.org/works/10.1088/0957-4484/18/9/095601\r"
     ]
    },
    {
     "name": "stderr",
     "output_type": "stream",
     "text": [
      "ERROR:artfinder.api:Error fetching https://api.crossref.org/works/10.1103/PhysRevA.48.4576: 429\n"
     ]
    },
    {
     "name": "stdout",
     "output_type": "stream",
     "text": [
      "2686/4181: https://api.crossref.org/works/10.1126/science.aaz3985\r"
     ]
    },
    {
     "name": "stderr",
     "output_type": "stream",
     "text": [
      "ERROR:artfinder.api:Error fetching https://api.crossref.org/works/10.1002/adma.201304497: 429\n"
     ]
    },
    {
     "name": "stdout",
     "output_type": "stream",
     "text": [
      "2687/4181: https://api.crossref.org/works/10.1016/j.energy.2016.10.027\r"
     ]
    },
    {
     "name": "stderr",
     "output_type": "stream",
     "text": [
      "ERROR:artfinder.api:Error fetching https://api.crossref.org/works/10.1038/nmat3505: 429\n",
      "ERROR:artfinder.api:Error fetching https://api.crossref.org/works/10.1016/0021-9517(86)90282-4: 429\n"
     ]
    },
    {
     "name": "stdout",
     "output_type": "stream",
     "text": [
      "2688/4181: https://api.crossref.org/works/10.1088/1742-6596/100/8/082034\r"
     ]
    },
    {
     "name": "stderr",
     "output_type": "stream",
     "text": [
      "ERROR:artfinder.api:Error fetching https://api.crossref.org/works/10.1002/mp.15824: 429\n",
      "ERROR:artfinder.api:Error fetching https://api.crossref.org/works/10.1016/j.addr.2008.04.013: 429\n",
      "ERROR:artfinder.api:Error fetching https://api.crossref.org/works/10.1038/srep25400: 429\n"
     ]
    },
    {
     "name": "stdout",
     "output_type": "stream",
     "text": [
      "2690/4181: https://api.crossref.org/works/10.1002/cbic.200800072\r"
     ]
    },
    {
     "name": "stderr",
     "output_type": "stream",
     "text": [
      "ERROR:artfinder.api:Error fetching https://api.crossref.org/works/10.1016/S0040-6090(01)01035-5: 429\n"
     ]
    },
    {
     "name": "stdout",
     "output_type": "stream",
     "text": [
      "2691/4181: https://api.crossref.org/works/10.1557/opl.2011.368\r"
     ]
    },
    {
     "name": "stderr",
     "output_type": "stream",
     "text": [
      "ERROR:artfinder.api:Error fetching https://api.crossref.org/works/10.1016/S0304-3991(03)00119-0: 429\n",
      "ERROR:artfinder.api:Error fetching https://api.crossref.org/works/10.1063/1.2187432: 429\n"
     ]
    },
    {
     "name": "stdout",
     "output_type": "stream",
     "text": [
      "2693/4181: https://api.crossref.org/works/10.1007/s00216-003-2101-0039\r"
     ]
    },
    {
     "name": "stderr",
     "output_type": "stream",
     "text": [
      "ERROR:artfinder.api:Error fetching https://api.crossref.org/works/10.1023/A:1009654300686: 429\n",
      "ERROR:artfinder.api:Error fetching https://api.crossref.org/works/10.1016/j.jcis.2008.04.043: 429\n"
     ]
    },
    {
     "name": "stdout",
     "output_type": "stream",
     "text": [
      "2708/4181: https://api.crossref.org/works/10.3390/jpm11080771818800444\r"
     ]
    },
    {
     "name": "stderr",
     "output_type": "stream",
     "text": [
      "ERROR:artfinder.api:Error fetching https://api.crossref.org/works/10.1021/nl0700346: 429\n",
      "ERROR:artfinder.api:Error fetching https://api.crossref.org/works/10.1016/j.joule.2018.09.021: 429\n"
     ]
    },
    {
     "name": "stdout",
     "output_type": "stream",
     "text": [
      "2709/4181: https://api.crossref.org/works/10.1016/0022-2313(93)90144-C\r"
     ]
    },
    {
     "name": "stderr",
     "output_type": "stream",
     "text": [
      "ERROR:artfinder.api:Error fetching https://api.crossref.org/works/10.1016/j.apsusc.2010.10.146: 429\n"
     ]
    },
    {
     "name": "stdout",
     "output_type": "stream",
     "text": [
      "2710/4181: https://api.crossref.org/works/10.1016/0956-5663(95)96965-2\r"
     ]
    },
    {
     "name": "stderr",
     "output_type": "stream",
     "text": [
      "ERROR:artfinder.api:Error fetching https://api.crossref.org/works/10.1016/j.jjcc.2010.01.001: 429\n",
      "ERROR:artfinder.api:Error fetching https://api.crossref.org/works/10.1016/j.jpha.2023.06.001: 429\n",
      "ERROR:artfinder.api:Error fetching https://api.crossref.org/works/10.1016/j.talanta.2017.02.061: 429\n"
     ]
    },
    {
     "name": "stdout",
     "output_type": "stream",
     "text": [
      "2711/4181: https://api.crossref.org/works/10.1103/PhysRevB.75.235414\r"
     ]
    },
    {
     "name": "stderr",
     "output_type": "stream",
     "text": [
      "ERROR:artfinder.api:Error fetching https://api.crossref.org/works/10.1021/nn102941b: 429\n",
      "ERROR:artfinder.api:Error fetching https://api.crossref.org/works/10.1016/j.freeradbiomed.2013.07.024: 429\n"
     ]
    },
    {
     "name": "stdout",
     "output_type": "stream",
     "text": [
      "2712/4181: https://api.crossref.org/works/10.1088/0031-9155/57/24/8309\r"
     ]
    },
    {
     "name": "stderr",
     "output_type": "stream",
     "text": [
      "ERROR:artfinder.api:Error fetching https://api.crossref.org/works/10.1038/s41467-020-18835-5: 429\n",
      "ERROR:artfinder.api:Error fetching https://api.crossref.org/works/10.1088/0957-0233/19/1/015301: 429\n"
     ]
    },
    {
     "name": "stdout",
     "output_type": "stream",
     "text": [
      "2713/4181: https://api.crossref.org/works/10.1063/1.3261734\r"
     ]
    },
    {
     "name": "stderr",
     "output_type": "stream",
     "text": [
      "ERROR:artfinder.api:Error fetching https://api.crossref.org/works/10.1038/332615a0: 429\n",
      "ERROR:artfinder.api:Error fetching https://api.crossref.org/works/10.1016/j.rser.2016.05.022: 429\n"
     ]
    },
    {
     "name": "stdout",
     "output_type": "stream",
     "text": [
      "2714/4181: https://api.crossref.org/works/10.1039/D0CY01323D\r"
     ]
    },
    {
     "name": "stderr",
     "output_type": "stream",
     "text": [
      "ERROR:artfinder.api:Error fetching https://api.crossref.org/works/10.1002/adma.v25.19: 429\n",
      "ERROR:artfinder.api:Error fetching https://api.crossref.org/works/10.1017/S0022112004009309: 429\n"
     ]
    },
    {
     "name": "stdout",
     "output_type": "stream",
     "text": [
      "2715/4181: https://api.crossref.org/works/10.1063/1.108331\r"
     ]
    },
    {
     "name": "stderr",
     "output_type": "stream",
     "text": [
      "ERROR:artfinder.api:Error fetching https://api.crossref.org/works/10.1103/PhysRevLett.75.1739: 429\n",
      "ERROR:artfinder.api:Error fetching https://api.crossref.org/works/10.1557/PROC-538-491: 429\n"
     ]
    },
    {
     "name": "stdout",
     "output_type": "stream",
     "text": [
      "2717/4181: https://api.crossref.org/works/10.1158/1078-0432.CCR-10-2055\r"
     ]
    },
    {
     "name": "stderr",
     "output_type": "stream",
     "text": [
      "ERROR:artfinder.api:Error fetching https://api.crossref.org/works/10.1007/s00339-005-3242-0: 429\n",
      "ERROR:artfinder.api:Error fetching https://api.crossref.org/works/10.2147/IJN.S42242: 429\n"
     ]
    },
    {
     "name": "stdout",
     "output_type": "stream",
     "text": [
      "2719/4181: https://api.crossref.org/works/10.1063/1.45332504.04.043\r"
     ]
    },
    {
     "name": "stderr",
     "output_type": "stream",
     "text": [
      "ERROR:artfinder.api:Error fetching https://api.crossref.org/works/10.1016/j.ijpharm.2011.11.013: 429\n"
     ]
    },
    {
     "name": "stdout",
     "output_type": "stream",
     "text": [
      "2720/4181: https://api.crossref.org/works/10.1007/s00339-007-4001-1\r"
     ]
    },
    {
     "name": "stderr",
     "output_type": "stream",
     "text": [
      "ERROR:artfinder.api:Error fetching https://api.crossref.org/works/10.1017/S0033583500005758: 429\n",
      "ERROR:artfinder.api:Error fetching https://api.crossref.org/works/10.1016/j.actbio.2013.03.034: 429\n",
      "ERROR:artfinder.api:Error fetching https://api.crossref.org/works/10.1002/adma.200500328: 429\n"
     ]
    },
    {
     "name": "stdout",
     "output_type": "stream",
     "text": [
      "2721/4181: https://api.crossref.org/works/10.1016/j.biomaterials.2016.08.040\r"
     ]
    },
    {
     "name": "stderr",
     "output_type": "stream",
     "text": [
      "ERROR:artfinder.api:Error fetching https://api.crossref.org/works/10.1364/OL.34.002858: 429\n"
     ]
    },
    {
     "name": "stdout",
     "output_type": "stream",
     "text": [
      "2723/4181: https://api.crossref.org/works/10.1002/1438-5171(200112)2:4<261::AID-SIMO261>3.0.CO;2-P\r"
     ]
    },
    {
     "name": "stderr",
     "output_type": "stream",
     "text": [
      "ERROR:artfinder.api:Error fetching https://api.crossref.org/works/10.1038/s41598-019-53936-2: 429\n"
     ]
    },
    {
     "name": "stdout",
     "output_type": "stream",
     "text": [
      "2724/4181: https://api.crossref.org/works/10.1021/jp057170o\r"
     ]
    },
    {
     "name": "stderr",
     "output_type": "stream",
     "text": [
      "ERROR:artfinder.api:Error fetching https://api.crossref.org/works/10.1002/smll.v5:6: 429\n",
      "ERROR:artfinder.api:Error fetching https://api.crossref.org/works/10.1126/science.aaq1684: 429\n"
     ]
    },
    {
     "name": "stdout",
     "output_type": "stream",
     "text": [
      "2725/4181: https://api.crossref.org/works/10.1016/j.bios.2017.12.001\r"
     ]
    },
    {
     "name": "stderr",
     "output_type": "stream",
     "text": [
      "ERROR:artfinder.api:Error fetching https://api.crossref.org/works/10.1021/acs.bioconjchem.9b00700: 429\n"
     ]
    },
    {
     "name": "stdout",
     "output_type": "stream",
     "text": [
      "2726/4181: https://api.crossref.org/works/10.1111/php.12111\r"
     ]
    },
    {
     "name": "stderr",
     "output_type": "stream",
     "text": [
      "ERROR:artfinder.api:Error fetching https://api.crossref.org/works/10.1021/la060093j: 429\n"
     ]
    },
    {
     "name": "stdout",
     "output_type": "stream",
     "text": [
      "2727/4181: https://api.crossref.org/works/10.1021/cm0206439\r"
     ]
    },
    {
     "name": "stderr",
     "output_type": "stream",
     "text": [
      "ERROR:artfinder.api:Error fetching https://api.crossref.org/works/10.1039/c2ce06677g: 429\n"
     ]
    },
    {
     "name": "stdout",
     "output_type": "stream",
     "text": [
      "2728/4181: https://api.crossref.org/works/10.1364/OE.15.001745\r"
     ]
    },
    {
     "name": "stderr",
     "output_type": "stream",
     "text": [
      "ERROR:artfinder.api:Error fetching https://api.crossref.org/works/10.2147/IJN.S290438: 429\n"
     ]
    },
    {
     "name": "stdout",
     "output_type": "stream",
     "text": [
      "2730/4181: https://api.crossref.org/works/10.1016/j.eurpolymj.2012.12.009\r"
     ]
    },
    {
     "name": "stderr",
     "output_type": "stream",
     "text": [
      "ERROR:artfinder.api:Error fetching https://api.crossref.org/works/10.1007/s11051-008-9541-6: 429\n",
      "ERROR:artfinder.api:Error fetching https://api.crossref.org/works/10.1063/1.2402944: 429\n"
     ]
    },
    {
     "name": "stdout",
     "output_type": "stream",
     "text": [
      "2731/4181: https://api.crossref.org/works/10.1002/adhm.202000802\r"
     ]
    },
    {
     "name": "stderr",
     "output_type": "stream",
     "text": [
      "ERROR:artfinder.api:Error fetching https://api.crossref.org/works/10.1103/PhysRevB.84.113405: 429\n"
     ]
    },
    {
     "name": "stdout",
     "output_type": "stream",
     "text": [
      "2732/4181: https://api.crossref.org/works/10.1016/j.solener.2017.05.007\r"
     ]
    },
    {
     "name": "stderr",
     "output_type": "stream",
     "text": [
      "ERROR:artfinder.api:Error fetching https://api.crossref.org/works/10.1002/adma.201703309: 429\n"
     ]
    },
    {
     "name": "stdout",
     "output_type": "stream",
     "text": [
      "2733/4181: https://api.crossref.org/works/10.1364/OE.26.031617\r"
     ]
    },
    {
     "name": "stderr",
     "output_type": "stream",
     "text": [
      "ERROR:artfinder.api:Error fetching https://api.crossref.org/works/10.1038/s41598-017-04804-4: 429\n",
      "ERROR:artfinder.api:Error fetching https://api.crossref.org/works/10.1097/01.rli.0000184756.66360.d3: 429\n"
     ]
    },
    {
     "name": "stdout",
     "output_type": "stream",
     "text": [
      "2735/4181: https://api.crossref.org/works/10.1016/j.femsre.2004.12.002\r"
     ]
    },
    {
     "name": "stderr",
     "output_type": "stream",
     "text": [
      "ERROR:artfinder.api:Error fetching https://api.crossref.org/works/10.1039/c1sm05314k: 429\n",
      "ERROR:artfinder.api:Error fetching https://api.crossref.org/works/10.1016/j.apsusc.2020.147940: 429\n"
     ]
    },
    {
     "name": "stdout",
     "output_type": "stream",
     "text": [
      "2736/4181: https://api.crossref.org/works/10.1002/aic.15125\r"
     ]
    },
    {
     "name": "stderr",
     "output_type": "stream",
     "text": [
      "ERROR:artfinder.api:Error fetching https://api.crossref.org/works/10.1002/cyto.a.20846: 429\n"
     ]
    },
    {
     "name": "stdout",
     "output_type": "stream",
     "text": [
      "2737/4181: https://api.crossref.org/works/10.1007/978-3-642-27994-2\r"
     ]
    },
    {
     "name": "stderr",
     "output_type": "stream",
     "text": [
      "ERROR:artfinder.api:Error fetching https://api.crossref.org/works/10.1039/C6NR01435F: 429\n"
     ]
    },
    {
     "name": "stdout",
     "output_type": "stream",
     "text": [
      "2739/4181: https://api.crossref.org/works/10.1364/OL.42.00263110171\r"
     ]
    },
    {
     "name": "stderr",
     "output_type": "stream",
     "text": [
      "ERROR:artfinder.api:Error fetching https://api.crossref.org/works/10.1063/1.5051618: 429\n"
     ]
    },
    {
     "name": "stdout",
     "output_type": "stream",
     "text": [
      "2740/4181: https://api.crossref.org/works/10.1007/s10482-010-9511-8\r"
     ]
    },
    {
     "name": "stderr",
     "output_type": "stream",
     "text": [
      "ERROR:artfinder.api:Error fetching https://api.crossref.org/works/10.1103/PhysRevLett.110.106801: 429\n",
      "ERROR:artfinder.api:Error fetching https://api.crossref.org/works/10.1007/s003390000537: 429\n"
     ]
    },
    {
     "name": "stdout",
     "output_type": "stream",
     "text": [
      "2745/4181: https://api.crossref.org/works/10.1016/j.jconrel.2019.12.045\r"
     ]
    },
    {
     "name": "stderr",
     "output_type": "stream",
     "text": [
      "ERROR:artfinder.api:Error fetching https://api.crossref.org/works/10.1016/j.solmat.2015.12.030: 429\n",
      "ERROR:artfinder.api:Error fetching https://api.crossref.org/works/10.1088/0022-3727/42/10/102001: 429\n"
     ]
    },
    {
     "name": "stdout",
     "output_type": "stream",
     "text": [
      "2749/4181: https://api.crossref.org/works/10.1002/pssa.20180089773\r"
     ]
    },
    {
     "name": "stderr",
     "output_type": "stream",
     "text": [
      "ERROR:artfinder.api:Error fetching https://api.crossref.org/works/10.1021/la025795x: 429\n",
      "ERROR:artfinder.api:Error fetching https://api.crossref.org/works/10.2351/7.0000075: 429\n",
      "ERROR:artfinder.api:Error fetching https://api.crossref.org/works/10.1364/OL.423331: 429\n",
      "ERROR:artfinder.api:Error fetching https://api.crossref.org/works/10.1002/adfm.200400321: 429\n",
      "ERROR:artfinder.api:Error fetching https://api.crossref.org/works/10.17185/duepublico/70584: 429\n",
      "ERROR:artfinder.api:Error fetching https://api.crossref.org/works/10.1016/j.ab.2004.03.028: 429\n"
     ]
    },
    {
     "name": "stdout",
     "output_type": "stream",
     "text": [
      "2750/4181: https://api.crossref.org/works/10.1021/la060990n\r"
     ]
    },
    {
     "name": "stderr",
     "output_type": "stream",
     "text": [
      "ERROR:artfinder.api:Error fetching https://api.crossref.org/works/10.1039/C7TB00195A: 429\n"
     ]
    },
    {
     "name": "stdout",
     "output_type": "stream",
     "text": [
      "2752/4181: https://api.crossref.org/works/10.1364/OE.14.007063\r"
     ]
    },
    {
     "name": "stderr",
     "output_type": "stream",
     "text": [
      "ERROR:artfinder.api:Error fetching https://api.crossref.org/works/10.1007/s10853-008-2445-0: 429\n",
      "ERROR:artfinder.api:Error fetching https://api.crossref.org/works/10.1021/nl203030f: 429\n"
     ]
    },
    {
     "name": "stdout",
     "output_type": "stream",
     "text": [
      "2754/4181: https://api.crossref.org/works/10.1063/1.103561j\r"
     ]
    },
    {
     "name": "stderr",
     "output_type": "stream",
     "text": [
      "ERROR:artfinder.api:Error fetching https://api.crossref.org/works/10.1364/OME.7.004171: 429\n"
     ]
    },
    {
     "name": "stdout",
     "output_type": "stream",
     "text": [
      "2755/4181: https://api.crossref.org/works/10.1364/OE.21.027411\r"
     ]
    },
    {
     "name": "stderr",
     "output_type": "stream",
     "text": [
      "ERROR:artfinder.api:Error fetching https://api.crossref.org/works/10.1021/jp0460083: 429\n"
     ]
    },
    {
     "name": "stdout",
     "output_type": "stream",
     "text": [
      "2756/4181: https://api.crossref.org/works/10.1073/pnas.1906929116\r"
     ]
    },
    {
     "name": "stderr",
     "output_type": "stream",
     "text": [
      "ERROR:artfinder.api:Error fetching https://api.crossref.org/works/10.1021/la052102e: 429\n"
     ]
    },
    {
     "name": "stdout",
     "output_type": "stream",
     "text": [
      "2757/4181: https://api.crossref.org/works/10.1103/RevModPhys.82.2257\r"
     ]
    },
    {
     "name": "stderr",
     "output_type": "stream",
     "text": [
      "ERROR:artfinder.api:Error fetching https://api.crossref.org/works/10.1016/j.apsusc.2015.01.082: 429\n",
      "ERROR:artfinder.api:Error fetching https://api.crossref.org/works/10.1126/science.1125907: 429\n",
      "ERROR:artfinder.api:Error fetching https://api.crossref.org/works/10.1586/erd.12.43: 429\n"
     ]
    },
    {
     "name": "stdout",
     "output_type": "stream",
     "text": [
      "2758/4181: https://api.crossref.org/works/10.7150/thno.11520\r"
     ]
    },
    {
     "name": "stderr",
     "output_type": "stream",
     "text": [
      "ERROR:artfinder.api:Error fetching https://api.crossref.org/works/10.1038/s41557-018-0035-6: 429\n"
     ]
    },
    {
     "name": "stdout",
     "output_type": "stream",
     "text": [
      "2760/4181: https://api.crossref.org/works/10.1021/acsphotonics.7b00299\r"
     ]
    },
    {
     "name": "stderr",
     "output_type": "stream",
     "text": [
      "ERROR:artfinder.api:Error fetching https://api.crossref.org/works/10.1063/1.3558916: 429\n"
     ]
    },
    {
     "name": "stdout",
     "output_type": "stream",
     "text": [
      "2761/4181: https://api.crossref.org/works/10.1098/rspa.1984.0023\r"
     ]
    },
    {
     "name": "stderr",
     "output_type": "stream",
     "text": [
      "ERROR:artfinder.api:Error fetching https://api.crossref.org/works/10.1088/1757-899X/487/1/012026: 429\n"
     ]
    },
    {
     "name": "stdout",
     "output_type": "stream",
     "text": [
      "2763/4181: https://api.crossref.org/works/10.1103/PhysRevLett.108.147401\r"
     ]
    },
    {
     "name": "stderr",
     "output_type": "stream",
     "text": [
      "ERROR:artfinder.api:Error fetching https://api.crossref.org/works/10.1039/C9EN00018F: 429\n",
      "ERROR:artfinder.api:Error fetching https://api.crossref.org/works/10.1126/science.275.5303.1102: 429\n"
     ]
    },
    {
     "name": "stdout",
     "output_type": "stream",
     "text": [
      "2765/4181: https://api.crossref.org/works/10.1038/ncomms7150\r"
     ]
    },
    {
     "name": "stderr",
     "output_type": "stream",
     "text": [
      "ERROR:artfinder.api:Error fetching https://api.crossref.org/works/10.1021/acs.jpcc.7b02301: 429\n",
      "ERROR:artfinder.api:Error fetching https://api.crossref.org/works/10.1021/acs.langmuir.9b03975: 429\n"
     ]
    },
    {
     "name": "stdout",
     "output_type": "stream",
     "text": [
      "2766/4181: https://api.crossref.org/works/10.1016/j.jconrel.2016.05.020\r"
     ]
    },
    {
     "name": "stderr",
     "output_type": "stream",
     "text": [
      "ERROR:artfinder.api:Error fetching https://api.crossref.org/works/10.1002/adfm.202103978: 429\n"
     ]
    },
    {
     "name": "stdout",
     "output_type": "stream",
     "text": [
      "2767/4181: https://api.crossref.org/works/10.1039/C4MT00340C\r"
     ]
    },
    {
     "name": "stderr",
     "output_type": "stream",
     "text": [
      "ERROR:artfinder.api:Error fetching https://api.crossref.org/works/10.1073/pnas.97.3.996: 429\n"
     ]
    },
    {
     "name": "stdout",
     "output_type": "stream",
     "text": [
      "2768/4181: https://api.crossref.org/works/10.1021/jacs.8b13165\r"
     ]
    },
    {
     "name": "stderr",
     "output_type": "stream",
     "text": [
      "ERROR:artfinder.api:Error fetching https://api.crossref.org/works/10.1016/S0167-5729(02)00100-0: 429\n"
     ]
    },
    {
     "name": "stdout",
     "output_type": "stream",
     "text": [
      "2769/4181: https://api.crossref.org/works/10.1016/j.jece.2023.109784\r"
     ]
    },
    {
     "name": "stderr",
     "output_type": "stream",
     "text": [
      "ERROR:artfinder.api:Error fetching https://api.crossref.org/works/10.1021/jp045771u: 429\n",
      "ERROR:artfinder.api:Error fetching https://api.crossref.org/works/10.1002/jrs.2121: 429\n"
     ]
    },
    {
     "name": "stdout",
     "output_type": "stream",
     "text": [
      "2771/4181: https://api.crossref.org/works/10.4028/www.scientific.net/AMR.979.370\r"
     ]
    },
    {
     "name": "stderr",
     "output_type": "stream",
     "text": [
      "ERROR:artfinder.api:Error fetching https://api.crossref.org/works/10.1039/c0cp02588g: 429\n",
      "ERROR:artfinder.api:Error fetching https://api.crossref.org/works/10.1021/cm0101632: 429\n"
     ]
    },
    {
     "name": "stdout",
     "output_type": "stream",
     "text": [
      "2773/4181: https://api.crossref.org/works/10.1021/jp109400v2021.109236\r"
     ]
    },
    {
     "name": "stderr",
     "output_type": "stream",
     "text": [
      "ERROR:artfinder.api:Error fetching https://api.crossref.org/works/10.1021/nl052396o: 429\n",
      "ERROR:artfinder.api:Error fetching https://api.crossref.org/works/10.1080/13642818508240574: 429\n"
     ]
    },
    {
     "name": "stdout",
     "output_type": "stream",
     "text": [
      "2774/4181: https://api.crossref.org/works/10.1038/s41551-018-0283-1\r"
     ]
    },
    {
     "name": "stderr",
     "output_type": "stream",
     "text": [
      "ERROR:artfinder.api:Error fetching https://api.crossref.org/works/10.3390/cancers13194777: 429\n"
     ]
    },
    {
     "name": "stdout",
     "output_type": "stream",
     "text": [
      "2775/4181: https://api.crossref.org/works/10.1002/adhm.201701392\r"
     ]
    },
    {
     "name": "stderr",
     "output_type": "stream",
     "text": [
      "ERROR:artfinder.api:Error fetching https://api.crossref.org/works/10.1002/anie.200804355: 429\n"
     ]
    },
    {
     "name": "stdout",
     "output_type": "stream",
     "text": [
      "2777/4181: https://api.crossref.org/works/10.1021/nn102166t8(01)01556-5\r"
     ]
    },
    {
     "name": "stderr",
     "output_type": "stream",
     "text": [
      "ERROR:artfinder.api:Error fetching https://api.crossref.org/works/10.1364/OL.41.002684: 429\n",
      "ERROR:artfinder.api:Error fetching https://api.crossref.org/works/10.1021/cr970022c: 429\n"
     ]
    },
    {
     "name": "stdout",
     "output_type": "stream",
     "text": [
      "2779/4181: https://api.crossref.org/works/10.1007/s12274-014-0599-493-8\r"
     ]
    },
    {
     "name": "stderr",
     "output_type": "stream",
     "text": [
      "ERROR:artfinder.api:Error fetching https://api.crossref.org/works/10.3390/nano14050410: 429\n",
      "ERROR:artfinder.api:Error fetching https://api.crossref.org/works/10.1016/j.radonc.2019.07.029: 429\n"
     ]
    },
    {
     "name": "stdout",
     "output_type": "stream",
     "text": [
      "2781/4181: https://api.crossref.org/works/10.1063/1.4972190\r"
     ]
    },
    {
     "name": "stderr",
     "output_type": "stream",
     "text": [
      "ERROR:artfinder.api:Error fetching https://api.crossref.org/works/10.1103/PhysRevLett.90.027402: 429\n"
     ]
    },
    {
     "name": "stdout",
     "output_type": "stream",
     "text": [
      "2782/4181: https://api.crossref.org/works/10.1016/j.snb.2011.08.039\r"
     ]
    },
    {
     "name": "stderr",
     "output_type": "stream",
     "text": [
      "ERROR:artfinder.api:Error fetching https://api.crossref.org/works/10.1186/s13550-019-0509-6: 429\n",
      "ERROR:artfinder.api:Error fetching https://api.crossref.org/works/10.1016/S0169-4332(02)00437-3: 429\n"
     ]
    },
    {
     "name": "stdout",
     "output_type": "stream",
     "text": [
      "2783/4181: https://api.crossref.org/works/10.1021/j150557a019\r"
     ]
    },
    {
     "name": "stderr",
     "output_type": "stream",
     "text": [
      "ERROR:artfinder.api:Error fetching https://api.crossref.org/works/10.3390/nano10010069: 429\n"
     ]
    },
    {
     "name": "stdout",
     "output_type": "stream",
     "text": [
      "2785/4181: https://api.crossref.org/works/10.1021/jp030173l76.165430\r"
     ]
    },
    {
     "name": "stderr",
     "output_type": "stream",
     "text": [
      "ERROR:artfinder.api:Error fetching https://api.crossref.org/works/10.1039/D0BM02037K: 429\n",
      "ERROR:artfinder.api:Error fetching https://api.crossref.org/works/10.1039/C5NR01592H: 429\n"
     ]
    },
    {
     "name": "stdout",
     "output_type": "stream",
     "text": [
      "2788/4181: https://api.crossref.org/works/10.1016/j.optlastec.2024.111781\r"
     ]
    },
    {
     "name": "stderr",
     "output_type": "stream",
     "text": [
      "ERROR:artfinder.api:Error fetching https://api.crossref.org/works/10.1016/j.revip.2021.100051: 429\n"
     ]
    },
    {
     "name": "stdout",
     "output_type": "stream",
     "text": [
      "2790/4181: https://api.crossref.org/works/10.1103/PhysRevLett.80.4474\r"
     ]
    },
    {
     "name": "stderr",
     "output_type": "stream",
     "text": [
      "ERROR:artfinder.api:Error fetching https://api.crossref.org/works/10.1038/s41598-019-50721-z: 429\n"
     ]
    },
    {
     "name": "stdout",
     "output_type": "stream",
     "text": [
      "2791/4181: https://api.crossref.org/works/10.1364/OE.18.009780\r"
     ]
    },
    {
     "name": "stderr",
     "output_type": "stream",
     "text": [
      "ERROR:artfinder.api:Error fetching https://api.crossref.org/works/10.1021/la970382v: 429\n",
      "ERROR:artfinder.api:Error fetching https://api.crossref.org/works/10.3390/nano13131998: 429\n"
     ]
    },
    {
     "name": "stdout",
     "output_type": "stream",
     "text": [
      "2792/4181: https://api.crossref.org/works/10.1103/PhysRevB.90.245306\r"
     ]
    },
    {
     "name": "stderr",
     "output_type": "stream",
     "text": [
      "ERROR:artfinder.api:Error fetching https://api.crossref.org/works/10.1021/jp900067s: 429\n",
      "ERROR:artfinder.api:Error fetching https://api.crossref.org/works/10.1038/nphoton.2013.342: 429\n",
      "ERROR:artfinder.api:Error fetching https://api.crossref.org/works/10.1063/5.0160175: 429\n"
     ]
    },
    {
     "name": "stdout",
     "output_type": "stream",
     "text": [
      "2794/4181: https://api.crossref.org/works/10.1002/cmmi.16132(02)00450-6\r"
     ]
    },
    {
     "name": "stderr",
     "output_type": "stream",
     "text": [
      "ERROR:artfinder.api:Error fetching https://api.crossref.org/works/10.1103/PhysRevB.71.035424: 429\n"
     ]
    },
    {
     "name": "stdout",
     "output_type": "stream",
     "text": [
      "2795/4181: https://api.crossref.org/works/10.1039/b200587e\r"
     ]
    },
    {
     "name": "stderr",
     "output_type": "stream",
     "text": [
      "ERROR:artfinder.api:Error fetching https://api.crossref.org/works/10.5772/59894: 429\n",
      "ERROR:artfinder.api:Error fetching https://api.crossref.org/works/10.1039/C4RA00630E: 429\n"
     ]
    },
    {
     "name": "stdout",
     "output_type": "stream",
     "text": [
      "2798/4181: https://api.crossref.org/works/10.1063/1.1288228al.2013.09.022\r"
     ]
    },
    {
     "name": "stderr",
     "output_type": "stream",
     "text": [
      "ERROR:artfinder.api:Error fetching https://api.crossref.org/works/10.1002/(SICI)1521-3862(199805)04:03&lt;92::AID-CVDE92&gt;3.0.CO;2-C: 429\n",
      "ERROR:artfinder.api:Error fetching https://api.crossref.org/works/10.1063/5.0199104: 429\n"
     ]
    },
    {
     "name": "stdout",
     "output_type": "stream",
     "text": [
      "2812/4181: https://api.crossref.org/works/10.1021/cm500077z9-9625-y.0487\r"
     ]
    },
    {
     "name": "stderr",
     "output_type": "stream",
     "text": [
      "ERROR:artfinder.api:Error fetching https://api.crossref.org/works/10.1016/S0022-2313(98)00101-X: 429\n",
      "ERROR:artfinder.api:Error fetching https://api.crossref.org/works/10.3109/02656739209005027: 429\n"
     ]
    },
    {
     "name": "stdout",
     "output_type": "stream",
     "text": [
      "2813/4181: https://api.crossref.org/works/10.1364/OE.22.014425\r"
     ]
    },
    {
     "name": "stderr",
     "output_type": "stream",
     "text": [
      "ERROR:artfinder.api:Error fetching https://api.crossref.org/works/10.1088/0031-9155/55/15/013: 429\n"
     ]
    },
    {
     "name": "stdout",
     "output_type": "stream",
     "text": [
      "2814/4181: https://api.crossref.org/works/10.1039/b816603j\r"
     ]
    },
    {
     "name": "stderr",
     "output_type": "stream",
     "text": [
      "ERROR:artfinder.api:Error fetching https://api.crossref.org/works/10.1016/S0169-4332(96)00442-4: 429\n",
      "ERROR:artfinder.api:Error fetching https://api.crossref.org/works/10.1021/acs.jpcc.7b08180: 429\n",
      "ERROR:artfinder.api:Error fetching https://api.crossref.org/works/10.1364/OL.31.002483: 429\n"
     ]
    },
    {
     "name": "stdout",
     "output_type": "stream",
     "text": [
      "2815/4181: https://api.crossref.org/works/10.1038/s41560-019-0431-1\r"
     ]
    },
    {
     "name": "stderr",
     "output_type": "stream",
     "text": [
      "ERROR:artfinder.api:Error fetching https://api.crossref.org/works/10.1117/1.JBO.19.8.085001: 429\n",
      "ERROR:artfinder.api:Error fetching https://api.crossref.org/works/10.1166/jnn.2014.8274: 429\n"
     ]
    },
    {
     "name": "stdout",
     "output_type": "stream",
     "text": [
      "2816/4181: https://api.crossref.org/works/10.1021/acs.nanolett.2c00548\r"
     ]
    },
    {
     "name": "stderr",
     "output_type": "stream",
     "text": [
      "ERROR:artfinder.api:Error fetching https://api.crossref.org/works/10.1021/jp909897v: 429\n"
     ]
    },
    {
     "name": "stdout",
     "output_type": "stream",
     "text": [
      "2817/4181: https://api.crossref.org/works/10.1126/science.1066541\r"
     ]
    },
    {
     "name": "stderr",
     "output_type": "stream",
     "text": [
      "ERROR:artfinder.api:Error fetching https://api.crossref.org/works/10.1038/nrneph.2016.156: 429\n",
      "ERROR:artfinder.api:Error fetching https://api.crossref.org/works/10.4014/jmb.1310.10013: 429\n",
      "ERROR:artfinder.api:Error fetching https://api.crossref.org/works/10.1116/1.570218: 429\n"
     ]
    },
    {
     "name": "stdout",
     "output_type": "stream",
     "text": [
      "2818/4181: https://api.crossref.org/works/10.1038/srep14788\r"
     ]
    },
    {
     "name": "stderr",
     "output_type": "stream",
     "text": [
      "ERROR:artfinder.api:Error fetching https://api.crossref.org/works/10.1016/0038-1098(81)90337-9: 429\n",
      "ERROR:artfinder.api:Error fetching https://api.crossref.org/works/10.1016/j.bmc.2017.08.052: 429\n"
     ]
    },
    {
     "name": "stdout",
     "output_type": "stream",
     "text": [
      "2819/4181: https://api.crossref.org/works/10.1007/PL00006966\r"
     ]
    },
    {
     "name": "stderr",
     "output_type": "stream",
     "text": [
      "ERROR:artfinder.api:Error fetching https://api.crossref.org/works/10.1088/0957-4484/18/9/095601: 429\n"
     ]
    },
    {
     "name": "stdout",
     "output_type": "stream",
     "text": [
      "2820/4181: https://api.crossref.org/works/10.1016/j.addr.2015.09.012\r"
     ]
    },
    {
     "name": "stderr",
     "output_type": "stream",
     "text": [
      "ERROR:artfinder.api:Error fetching https://api.crossref.org/works/10.1021/ja020393x: 429\n"
     ]
    },
    {
     "name": "stdout",
     "output_type": "stream",
     "text": [
      "2821/4181: https://api.crossref.org/works/10.1088/0957-4484/21/8/085103\r"
     ]
    },
    {
     "name": "stderr",
     "output_type": "stream",
     "text": [
      "ERROR:artfinder.api:Error fetching https://api.crossref.org/works/10.1039/b705973f: 429\n"
     ]
    },
    {
     "name": "stdout",
     "output_type": "stream",
     "text": [
      "2822/4181: https://api.crossref.org/works/10.1017/CBO9781139013475\r"
     ]
    },
    {
     "name": "stderr",
     "output_type": "stream",
     "text": [
      "ERROR:artfinder.api:Error fetching https://api.crossref.org/works/10.1126/science.aaz3985: 429\n"
     ]
    },
    {
     "name": "stdout",
     "output_type": "stream",
     "text": [
      "2824/4181: https://api.crossref.org/works/10.1016/j.msec.2019.01.066\r"
     ]
    },
    {
     "name": "stderr",
     "output_type": "stream",
     "text": [
      "ERROR:artfinder.api:Error fetching https://api.crossref.org/works/10.1016/j.energy.2016.10.027: 429\n",
      "ERROR:artfinder.api:Error fetching https://api.crossref.org/works/10.1088/1742-6596/100/8/082034: 429\n",
      "ERROR:artfinder.api:Error fetching https://api.crossref.org/works/10.1021/jp400599g: 429\n",
      "ERROR:artfinder.api:Error fetching https://api.crossref.org/works/10.1002/cbic.200800072: 429\n"
     ]
    },
    {
     "name": "stdout",
     "output_type": "stream",
     "text": [
      "2825/4181: https://api.crossref.org/works/10.1021/acsanm.0c00779\r"
     ]
    },
    {
     "name": "stderr",
     "output_type": "stream",
     "text": [
      "ERROR:artfinder.api:Error fetching https://api.crossref.org/works/10.1557/opl.2011.368: 429\n"
     ]
    },
    {
     "name": "stdout",
     "output_type": "stream",
     "text": [
      "2827/4181: https://api.crossref.org/works/10.1103/PhysRevB.95.1554236\r"
     ]
    },
    {
     "name": "stderr",
     "output_type": "stream",
     "text": [
      "ERROR:artfinder.api:Error fetching https://api.crossref.org/works/10.1016/j.ijrobp.2015.05.039: 429\n"
     ]
    },
    {
     "name": "stdout",
     "output_type": "stream",
     "text": [
      "2831/4181: https://api.crossref.org/works/10.1016/S0257-8972(01)01183-5\r"
     ]
    },
    {
     "name": "stderr",
     "output_type": "stream",
     "text": [
      "ERROR:artfinder.api:Error fetching https://api.crossref.org/works/10.1007/s00216-003-2101-0: 429\n",
      "ERROR:artfinder.api:Error fetching https://api.crossref.org/works/10.3390/molecules28196874: 429\n",
      "ERROR:artfinder.api:Error fetching https://api.crossref.org/works/10.1016/j.apsusc.2017.05.010: 429\n",
      "ERROR:artfinder.api:Error fetching https://api.crossref.org/works/10.1038/s41467-018-02819-7.: 429\n",
      "ERROR:artfinder.api:Error fetching https://api.crossref.org/works/10.1002/jlcr.3736: 429\n"
     ]
    },
    {
     "name": "stdout",
     "output_type": "stream",
     "text": [
      "2832/4181: https://api.crossref.org/works/10.1016/j.jconrel.2020.07.014\r"
     ]
    },
    {
     "name": "stderr",
     "output_type": "stream",
     "text": [
      "ERROR:artfinder.api:Error fetching https://api.crossref.org/works/10.1038/nphys620: 429\n"
     ]
    },
    {
     "name": "stdout",
     "output_type": "stream",
     "text": [
      "2834/4181: https://api.crossref.org/works/10.1016/S0009-2614(00)00956-8\r"
     ]
    },
    {
     "name": "stderr",
     "output_type": "stream",
     "text": [
      "ERROR:artfinder.api:Error fetching https://api.crossref.org/works/10.1007/978-1-61779-108-6: 429\n",
      "ERROR:artfinder.api:Error fetching https://api.crossref.org/works/10.4155/tde.11.102: 429\n"
     ]
    },
    {
     "name": "stdout",
     "output_type": "stream",
     "text": [
      "2836/4181: https://api.crossref.org/works/10.1016/j.colsurfa.2013.04.032\r"
     ]
    },
    {
     "name": "stderr",
     "output_type": "stream",
     "text": [
      "ERROR:artfinder.api:Error fetching https://api.crossref.org/works/10.1139/cjpp-2012-0255: 429\n",
      "ERROR:artfinder.api:Error fetching https://api.crossref.org/works/10.1063/1.4882998: 429\n"
     ]
    },
    {
     "name": "stdout",
     "output_type": "stream",
     "text": [
      "2837/4181: https://api.crossref.org/works/10.1016/j.ceramint.2008.04.027\r"
     ]
    },
    {
     "name": "stderr",
     "output_type": "stream",
     "text": [
      "ERROR:artfinder.api:Error fetching https://api.crossref.org/works/10.1039/a905178c: 429\n",
      "ERROR:artfinder.api:Error fetching https://api.crossref.org/works/10.1021/acs.nanolett.7b00444: 429\n"
     ]
    },
    {
     "name": "stdout",
     "output_type": "stream",
     "text": [
      "2839/4181: https://api.crossref.org/works/10.1021/nl503522y.2007.09.018\r"
     ]
    },
    {
     "name": "stderr",
     "output_type": "stream",
     "text": [
      "ERROR:artfinder.api:Error fetching https://api.crossref.org/works/10.1021/acsnano.0c01468: 429\n",
      "ERROR:artfinder.api:Error fetching https://api.crossref.org/works/10.1002/adhm.201600818: 429\n"
     ]
    },
    {
     "name": "stdout",
     "output_type": "stream",
     "text": [
      "2841/4181: https://api.crossref.org/works/10.1016/j.tips.2017.11.003\r"
     ]
    },
    {
     "name": "stderr",
     "output_type": "stream",
     "text": [
      "ERROR:artfinder.api:Error fetching https://api.crossref.org/works/10.1021/jp000679t: 429\n",
      "ERROR:artfinder.api:Error fetching https://api.crossref.org/works/10.3390/jpm11080771: 429\n"
     ]
    },
    {
     "name": "stdout",
     "output_type": "stream",
     "text": [
      "2844/4181: https://api.crossref.org/works/10.1021/jp20412292(00)00780-7\r"
     ]
    },
    {
     "name": "stderr",
     "output_type": "stream",
     "text": [
      "ERROR:artfinder.api:Error fetching https://api.crossref.org/works/10.1016/0956-5663(95)96965-2: 429\n",
      "ERROR:artfinder.api:Error fetching https://api.crossref.org/works/10.1016/0022-2313(93)90144-C: 429\n",
      "ERROR:artfinder.api:Error fetching https://api.crossref.org/works/10.1103/PhysRevB.75.235414: 429\n"
     ]
    },
    {
     "name": "stdout",
     "output_type": "stream",
     "text": [
      "2853/4181: https://api.crossref.org/works/10.1002/app.490912021.04.021\r"
     ]
    },
    {
     "name": "stderr",
     "output_type": "stream",
     "text": [
      "ERROR:artfinder.api:Error fetching https://api.crossref.org/works/10.1088/0031-9155/57/24/8309: 429\n",
      "ERROR:artfinder.api:Error fetching https://api.crossref.org/works/10.1063/1.3261734: 429\n",
      "ERROR:artfinder.api:Error fetching https://api.crossref.org/works/10.1063/1.108331: 429\n",
      "ERROR:artfinder.api:Error fetching https://api.crossref.org/works/10.1038/s41598-019-40769-2: 429\n",
      "ERROR:artfinder.api:Error fetching https://api.crossref.org/works/10.1016/j.tsf.2004.04.043: 429\n",
      "ERROR:artfinder.api:Error fetching https://api.crossref.org/works/10.1039/D0CY01323D: 429\n",
      "ERROR:artfinder.api:Error fetching https://api.crossref.org/works/10.1158/1078-0432.CCR-10-2055: 429\n"
     ]
    },
    {
     "name": "stdout",
     "output_type": "stream",
     "text": [
      "2854/4181: https://api.crossref.org/works/10.1007/s00339-013-8007-6\r"
     ]
    },
    {
     "name": "stderr",
     "output_type": "stream",
     "text": [
      "ERROR:artfinder.api:Error fetching https://api.crossref.org/works/10.1063/1.453325: 429\n",
      "ERROR:artfinder.api:Error fetching https://api.crossref.org/works/10.1007/s00339-007-4001-1: 429\n"
     ]
    },
    {
     "name": "stdout",
     "output_type": "stream",
     "text": [
      "2856/4181: https://api.crossref.org/works/10.1038/nrd1413090(98)00861-X\r"
     ]
    },
    {
     "name": "stderr",
     "output_type": "stream",
     "text": [
      "ERROR:artfinder.api:Error fetching https://api.crossref.org/works/10.1016/j.biomaterials.2016.08.040: 429\n"
     ]
    },
    {
     "name": "stdout",
     "output_type": "stream",
     "text": [
      "2857/4181: https://api.crossref.org/works/10.1007/978-3-642-31334-9\r"
     ]
    },
    {
     "name": "stderr",
     "output_type": "stream",
     "text": [
      "ERROR:artfinder.api:Error fetching https://api.crossref.org/works/10.3389/fonc.2021.676575: 429\n"
     ]
    },
    {
     "name": "stdout",
     "output_type": "stream",
     "text": [
      "2858/4181: https://api.crossref.org/works/10.1016/0038-1098(76)90228-3\r"
     ]
    },
    {
     "name": "stderr",
     "output_type": "stream",
     "text": [
      "ERROR:artfinder.api:Error fetching https://api.crossref.org/works/10.1002/1438-5171(200112)2:4<261::AID-SIMO261>3.0.CO;2-P: 429\n"
     ]
    },
    {
     "name": "stdout",
     "output_type": "stream",
     "text": [
      "2859/4181: https://api.crossref.org/works/10.1021/nl015706l\r"
     ]
    },
    {
     "name": "stderr",
     "output_type": "stream",
     "text": [
      "ERROR:artfinder.api:Error fetching https://api.crossref.org/works/10.1021/jp057170o: 429\n"
     ]
    },
    {
     "name": "stdout",
     "output_type": "stream",
     "text": [
      "2860/4181: https://api.crossref.org/works/10.1063/1.4807830\r"
     ]
    },
    {
     "name": "stderr",
     "output_type": "stream",
     "text": [
      "ERROR:artfinder.api:Error fetching https://api.crossref.org/works/10.1016/j.bios.2017.12.001: 429\n"
     ]
    },
    {
     "name": "stdout",
     "output_type": "stream",
     "text": [
      "2861/4181: https://api.crossref.org/works/10.1364/OL.36.000775\r"
     ]
    },
    {
     "name": "stderr",
     "output_type": "stream",
     "text": [
      "ERROR:artfinder.api:Error fetching https://api.crossref.org/works/10.1021/cm0206439: 429\n",
      "ERROR:artfinder.api:Error fetching https://api.crossref.org/works/10.1111/php.12111: 429\n",
      "ERROR:artfinder.api:Error fetching https://api.crossref.org/works/10.1364/OE.15.001745: 429\n"
     ]
    },
    {
     "name": "stdout",
     "output_type": "stream",
     "text": [
      "2863/4181: https://api.crossref.org/works/10.1039/C1CS15166E\r"
     ]
    },
    {
     "name": "stderr",
     "output_type": "stream",
     "text": [
      "ERROR:artfinder.api:Error fetching https://api.crossref.org/works/10.1364/OL.404304: 429\n"
     ]
    },
    {
     "name": "stdout",
     "output_type": "stream",
     "text": [
      "2865/4181: https://api.crossref.org/works/10.1021/jp004434s\r"
     ]
    },
    {
     "name": "stderr",
     "output_type": "stream",
     "text": [
      "ERROR:artfinder.api:Error fetching https://api.crossref.org/works/10.1016/j.eurpolymj.2012.12.009: 429\n"
     ]
    },
    {
     "name": "stdout",
     "output_type": "stream",
     "text": [
      "2866/4181: https://api.crossref.org/works/10.1021/jp5111482\r"
     ]
    },
    {
     "name": "stderr",
     "output_type": "stream",
     "text": [
      "ERROR:artfinder.api:Error fetching https://api.crossref.org/works/10.1002/adhm.202000802: 429\n"
     ]
    },
    {
     "name": "stdout",
     "output_type": "stream",
     "text": [
      "2867/4181: https://api.crossref.org/works/10.1021/cm0342041\r"
     ]
    },
    {
     "name": "stderr",
     "output_type": "stream",
     "text": [
      "ERROR:artfinder.api:Error fetching https://api.crossref.org/works/10.1016/j.solener.2017.05.007: 429\n",
      "ERROR:artfinder.api:Error fetching https://api.crossref.org/works/10.1364/OE.26.031617: 429\n"
     ]
    },
    {
     "name": "stdout",
     "output_type": "stream",
     "text": [
      "2869/4181: https://api.crossref.org/works/10.1016/j.cej.2019.122720\r"
     ]
    },
    {
     "name": "stderr",
     "output_type": "stream",
     "text": [
      "ERROR:artfinder.api:Error fetching https://api.crossref.org/works/10.1002/smll.200500492: 429\n",
      "ERROR:artfinder.api:Error fetching https://api.crossref.org/works/10.1016/j.femsre.2004.12.002: 429\n"
     ]
    },
    {
     "name": "stdout",
     "output_type": "stream",
     "text": [
      "2871/4181: https://api.crossref.org/works/10.1103/PhysRevB.35.8166\r"
     ]
    },
    {
     "name": "stderr",
     "output_type": "stream",
     "text": [
      "ERROR:artfinder.api:Error fetching https://api.crossref.org/works/10.1002/aic.15125: 429\n",
      "ERROR:artfinder.api:Error fetching https://api.crossref.org/works/10.1007/978-3-642-27994-2: 429\n"
     ]
    },
    {
     "name": "stdout",
     "output_type": "stream",
     "text": [
      "2873/4181: https://api.crossref.org/works/10.1038/nmat21629G\r"
     ]
    },
    {
     "name": "stderr",
     "output_type": "stream",
     "text": [
      "ERROR:artfinder.api:Error fetching https://api.crossref.org/works/10.1134/S0006350922010171: 429\n",
      "ERROR:artfinder.api:Error fetching https://api.crossref.org/works/10.1364/OL.42.002631: 429\n"
     ]
    },
    {
     "name": "stdout",
     "output_type": "stream",
     "text": [
      "2874/4181: https://api.crossref.org/works/10.1021/bm0600825\r"
     ]
    },
    {
     "name": "stderr",
     "output_type": "stream",
     "text": [
      "ERROR:artfinder.api:Error fetching https://api.crossref.org/works/10.1007/s10482-010-9511-8: 429\n"
     ]
    },
    {
     "name": "stdout",
     "output_type": "stream",
     "text": [
      "2875/4181: https://api.crossref.org/works/10.1016/S0257-8972(00)00726-X\r"
     ]
    },
    {
     "name": "stderr",
     "output_type": "stream",
     "text": [
      "ERROR:artfinder.api:Error fetching https://api.crossref.org/works/10.1103/PhysRev.106.874: 429\n",
      "ERROR:artfinder.api:Error fetching https://api.crossref.org/works/10.1021/ac500289c: 429\n"
     ]
    },
    {
     "name": "stdout",
     "output_type": "stream",
     "text": [
      "2877/4181: https://api.crossref.org/works/10.1016/S0266-3538(03)00178-7\r"
     ]
    },
    {
     "name": "stderr",
     "output_type": "stream",
     "text": [
      "ERROR:artfinder.api:Error fetching https://api.crossref.org/works/10.1002/anie.201813134: 429\n"
     ]
    },
    {
     "name": "stdout",
     "output_type": "stream",
     "text": [
      "2878/4181: https://api.crossref.org/works/10.1016/j.jcis.2015.11.058\r"
     ]
    },
    {
     "name": "stderr",
     "output_type": "stream",
     "text": [
      "ERROR:artfinder.api:Error fetching https://api.crossref.org/works/10.1016/0022-2313(93)90097-7: 429\n"
     ]
    },
    {
     "name": "stdout",
     "output_type": "stream",
     "text": [
      "2879/4181: https://api.crossref.org/works/10.1038/nphoton.2011.154\r"
     ]
    },
    {
     "name": "stderr",
     "output_type": "stream",
     "text": [
      "ERROR:artfinder.api:Error fetching https://api.crossref.org/works/10.1016/j.jconrel.2019.12.045: 429\n",
      "ERROR:artfinder.api:Error fetching https://api.crossref.org/works/10.1038/nphoton.2009.173: 429\n"
     ]
    },
    {
     "name": "stdout",
     "output_type": "stream",
     "text": [
      "2882/4181: https://api.crossref.org/works/10.3390/molecules25030440.028\r"
     ]
    },
    {
     "name": "stderr",
     "output_type": "stream",
     "text": [
      "ERROR:artfinder.api:Error fetching https://api.crossref.org/works/10.1002/adma.201704367: 429\n",
      "ERROR:artfinder.api:Error fetching https://api.crossref.org/works/10.1039/c1cp20324j: 429\n"
     ]
    },
    {
     "name": "stdout",
     "output_type": "stream",
     "text": [
      "2883/4181: https://api.crossref.org/works/10.1186/s13045-018-0683-4\r"
     ]
    },
    {
     "name": "stderr",
     "output_type": "stream",
     "text": [
      "ERROR:artfinder.api:Error fetching https://api.crossref.org/works/10.1021/la060990n: 429\n",
      "ERROR:artfinder.api:Error fetching https://api.crossref.org/works/10.1002/pssa.201800897: 429\n"
     ]
    },
    {
     "name": "stdout",
     "output_type": "stream",
     "text": [
      "2885/4181: https://api.crossref.org/works/10.1016/0022-1759(83)90303-4\r"
     ]
    },
    {
     "name": "stderr",
     "output_type": "stream",
     "text": [
      "ERROR:artfinder.api:Error fetching https://api.crossref.org/works/10.1021/jp075582m: 429\n"
     ]
    },
    {
     "name": "stdout",
     "output_type": "stream",
     "text": [
      "2886/4181: https://api.crossref.org/works/10.1038/s41598-018-37519-1\r"
     ]
    },
    {
     "name": "stderr",
     "output_type": "stream",
     "text": [
      "ERROR:artfinder.api:Error fetching https://api.crossref.org/works/10.1364/OE.14.007063: 429\n"
     ]
    },
    {
     "name": "stdout",
     "output_type": "stream",
     "text": [
      "2887/4181: https://api.crossref.org/works/10.1103/PhysRevE.55.3393\r"
     ]
    },
    {
     "name": "stderr",
     "output_type": "stream",
     "text": [
      "ERROR:artfinder.api:Error fetching https://api.crossref.org/works/10.1021/ie060672j: 429\n"
     ]
    },
    {
     "name": "stdout",
     "output_type": "stream",
     "text": [
      "2888/4181: https://api.crossref.org/works/10.1063/1.3012365\r"
     ]
    },
    {
     "name": "stderr",
     "output_type": "stream",
     "text": [
      "ERROR:artfinder.api:Error fetching https://api.crossref.org/works/10.1063/1.103561: 429\n"
     ]
    },
    {
     "name": "stdout",
     "output_type": "stream",
     "text": [
      "2889/4181: https://api.crossref.org/works/10.1016/j.bios.2007.05.003\r"
     ]
    },
    {
     "name": "stderr",
     "output_type": "stream",
     "text": [
      "ERROR:artfinder.api:Error fetching https://api.crossref.org/works/10.1073/pnas.1906929116: 429\n",
      "ERROR:artfinder.api:Error fetching https://api.crossref.org/works/10.1364/OE.21.027411: 429\n"
     ]
    },
    {
     "name": "stdout",
     "output_type": "stream",
     "text": [
      "2892/4181: https://api.crossref.org/works/10.1021/acs.analchem.5b01271\r"
     ]
    },
    {
     "name": "stderr",
     "output_type": "stream",
     "text": [
      "ERROR:artfinder.api:Error fetching https://api.crossref.org/works/10.1103/RevModPhys.82.2257: 429\n"
     ]
    },
    {
     "name": "stdout",
     "output_type": "stream",
     "text": [
      "2894/4181: https://api.crossref.org/works/10.1016/j.ccr.2022.214486420\r"
     ]
    },
    {
     "name": "stderr",
     "output_type": "stream",
     "text": [
      "ERROR:artfinder.api:Error fetching https://api.crossref.org/works/10.7150/thno.11520: 429\n"
     ]
    },
    {
     "name": "stdout",
     "output_type": "stream",
     "text": [
      "2895/4181: https://api.crossref.org/works/10.1007/s00339-003-2489-6\r"
     ]
    },
    {
     "name": "stderr",
     "output_type": "stream",
     "text": [
      "ERROR:artfinder.api:Error fetching https://api.crossref.org/works/10.1021/acsnano.1c06586: 429\n",
      "ERROR:artfinder.api:Error fetching https://api.crossref.org/works/10.1021/acsphotonics.7b00299: 429\n"
     ]
    },
    {
     "name": "stdout",
     "output_type": "stream",
     "text": [
      "2896/4181: https://api.crossref.org/works/10.1021/la204289k\r"
     ]
    },
    {
     "name": "stderr",
     "output_type": "stream",
     "text": [
      "ERROR:artfinder.api:Error fetching https://api.crossref.org/works/10.1098/rspa.1984.0023: 429\n"
     ]
    },
    {
     "name": "stdout",
     "output_type": "stream",
     "text": [
      "2897/4181: https://api.crossref.org/works/10.3390/coatings8100354\r"
     ]
    },
    {
     "name": "stderr",
     "output_type": "stream",
     "text": [
      "ERROR:artfinder.api:Error fetching https://api.crossref.org/works/10.1366/0003702971940774: 429\n",
      "ERROR:artfinder.api:Error fetching https://api.crossref.org/works/10.1103/PhysRevLett.108.147401: 429\n"
     ]
    },
    {
     "name": "stdout",
     "output_type": "stream",
     "text": [
      "2898/4181: https://api.crossref.org/works/10.1063/1.4803535\r"
     ]
    },
    {
     "name": "stderr",
     "output_type": "stream",
     "text": [
      "ERROR:artfinder.api:Error fetching https://api.crossref.org/works/10.1063/1.111766: 429\n"
     ]
    },
    {
     "name": "stdout",
     "output_type": "stream",
     "text": [
      "2899/4181: https://api.crossref.org/works/10.1364/JOSAB.25.001673\r"
     ]
    },
    {
     "name": "stderr",
     "output_type": "stream",
     "text": [
      "ERROR:artfinder.api:Error fetching https://api.crossref.org/works/10.1038/ncomms7150: 429\n"
     ]
    },
    {
     "name": "stdout",
     "output_type": "stream",
     "text": [
      "2900/4181: https://api.crossref.org/works/10.1038/nnano.2008.231\r"
     ]
    },
    {
     "name": "stderr",
     "output_type": "stream",
     "text": [
      "ERROR:artfinder.api:Error fetching https://api.crossref.org/works/10.1016/j.jconrel.2016.05.020: 429\n"
     ]
    },
    {
     "name": "stdout",
     "output_type": "stream",
     "text": [
      "2902/4181: https://api.crossref.org/works/10.1007/978-3-662-09109-82\r"
     ]
    },
    {
     "name": "stderr",
     "output_type": "stream",
     "text": [
      "ERROR:artfinder.api:Error fetching https://api.crossref.org/works/10.1039/C4MT00340C: 429\n",
      "ERROR:artfinder.api:Error fetching https://api.crossref.org/works/10.1021/jacs.8b13165: 429\n"
     ]
    },
    {
     "name": "stdout",
     "output_type": "stream",
     "text": [
      "2917/4181: https://api.crossref.org/works/10.1039/C1NR11269D023.11220311.059\r"
     ]
    },
    {
     "name": "stderr",
     "output_type": "stream",
     "text": [
      "ERROR:artfinder.api:Error fetching https://api.crossref.org/works/10.1016/j.jece.2023.109784: 429\n",
      "ERROR:artfinder.api:Error fetching https://api.crossref.org/works/10.1002/advs.202307060: 429\n",
      "ERROR:artfinder.api:Error fetching https://api.crossref.org/works/10.4028/www.scientific.net/AMR.979.370: 429\n"
     ]
    },
    {
     "name": "stdout",
     "output_type": "stream",
     "text": [
      "2918/4181: https://api.crossref.org/works/10.1002/pssc.200673557\r"
     ]
    },
    {
     "name": "stderr",
     "output_type": "stream",
     "text": [
      "ERROR:artfinder.api:Error fetching https://api.crossref.org/works/10.1021/jp109400v: 429\n",
      "ERROR:artfinder.api:Error fetching https://api.crossref.org/works/10.1016/j.dyepig.2021.109236: 429\n"
     ]
    },
    {
     "name": "stdout",
     "output_type": "stream",
     "text": [
      "2919/4181: https://api.crossref.org/works/10.21870/0131-3878-2020-29-1-102-119\r"
     ]
    },
    {
     "name": "stderr",
     "output_type": "stream",
     "text": [
      "ERROR:artfinder.api:Error fetching https://api.crossref.org/works/10.1038/s41551-018-0283-1: 429\n",
      "ERROR:artfinder.api:Error fetching https://api.crossref.org/works/10.1002/adhm.201701392: 429\n"
     ]
    },
    {
     "name": "stdout",
     "output_type": "stream",
     "text": [
      "2920/4181: https://api.crossref.org/works/10.1164/ajrccm.164.9.2101036\r"
     ]
    },
    {
     "name": "stderr",
     "output_type": "stream",
     "text": [
      "ERROR:artfinder.api:Error fetching https://api.crossref.org/works/10.1021/nn102166t: 429\n"
     ]
    },
    {
     "name": "stdout",
     "output_type": "stream",
     "text": [
      "2921/4181: https://api.crossref.org/works/10.1166/sam.2012.1310\r"
     ]
    },
    {
     "name": "stderr",
     "output_type": "stream",
     "text": [
      "ERROR:artfinder.api:Error fetching https://api.crossref.org/works/10.1016/S0030-4018(01)01556-5: 429\n",
      "ERROR:artfinder.api:Error fetching https://api.crossref.org/works/10.1007/s12274-014-0599-4: 429\n",
      "ERROR:artfinder.api:Error fetching https://api.crossref.org/works/10.1016/S0169-4332(02)00393-8: 429\n"
     ]
    },
    {
     "name": "stdout",
     "output_type": "stream",
     "text": [
      "2922/4181: https://api.crossref.org/works/10.1002/lpor.201300013\r"
     ]
    },
    {
     "name": "stderr",
     "output_type": "stream",
     "text": [
      "ERROR:artfinder.api:Error fetching https://api.crossref.org/works/10.1021/nn405495q: 429\n"
     ]
    },
    {
     "name": "stdout",
     "output_type": "stream",
     "text": [
      "2923/4181: https://api.crossref.org/works/10.1016/j.actbio.2013.07.030\r"
     ]
    },
    {
     "name": "stderr",
     "output_type": "stream",
     "text": [
      "ERROR:artfinder.api:Error fetching https://api.crossref.org/works/10.1063/1.4972190: 429\n",
      "ERROR:artfinder.api:Error fetching https://api.crossref.org/works/10.1007/PL00006966: 429\n",
      "ERROR:artfinder.api:Error fetching https://api.crossref.org/works/10.1016/j.snb.2011.08.039: 429\n"
     ]
    },
    {
     "name": "stdout",
     "output_type": "stream",
     "text": [
      "2924/4181: https://api.crossref.org/works/10.1002/1521-4095(200110)13:19<1501::AID-ADMA1501>3.0.CO;2-Z\r"
     ]
    },
    {
     "name": "stderr",
     "output_type": "stream",
     "text": [
      "ERROR:artfinder.api:Error fetching https://api.crossref.org/works/10.1021/j150557a019: 429\n"
     ]
    },
    {
     "name": "stdout",
     "output_type": "stream",
     "text": [
      "2925/4181: https://api.crossref.org/works/10.1111/j.1751-1097.1986.tb05592.x\r"
     ]
    },
    {
     "name": "stderr",
     "output_type": "stream",
     "text": [
      "ERROR:artfinder.api:Error fetching https://api.crossref.org/works/10.1103/PhysRevB.76.165430: 429\n"
     ]
    },
    {
     "name": "stdout",
     "output_type": "stream",
     "text": [
      "2926/4181: https://api.crossref.org/works/10.1063/1.1894590\r"
     ]
    },
    {
     "name": "stderr",
     "output_type": "stream",
     "text": [
      "ERROR:artfinder.api:Error fetching https://api.crossref.org/works/10.1021/jp030173l: 429\n"
     ]
    },
    {
     "name": "stdout",
     "output_type": "stream",
     "text": [
      "2928/4181: https://api.crossref.org/works/10.1117/12.20516163230\r"
     ]
    },
    {
     "name": "stderr",
     "output_type": "stream",
     "text": [
      "ERROR:artfinder.api:Error fetching https://api.crossref.org/works/10.1145/42411.42415: 429\n",
      "ERROR:artfinder.api:Error fetching https://api.crossref.org/works/10.1103/PhysRevB.42.7163: 429\n",
      "ERROR:artfinder.api:Error fetching https://api.crossref.org/works/10.1116/1.2794071: 429\n",
      "ERROR:artfinder.api:Error fetching https://api.crossref.org/works/10.1016/j.optlastec.2024.111781: 429\n"
     ]
    },
    {
     "name": "stdout",
     "output_type": "stream",
     "text": [
      "2932/4181: https://api.crossref.org/works/10.2478/pjmpe-2022-0004003854\r"
     ]
    },
    {
     "name": "stderr",
     "output_type": "stream",
     "text": [
      "ERROR:artfinder.api:Error fetching https://api.crossref.org/works/10.1103/PhysRevLett.80.4474: 429\n"
     ]
    },
    {
     "name": "stdout",
     "output_type": "stream",
     "text": [
      "2933/4181: https://api.crossref.org/works/10.1002/(SICI)1096-987X(19960115)17:1<49::AID-JCC5>3.0.CO;2-0\r"
     ]
    },
    {
     "name": "stderr",
     "output_type": "stream",
     "text": [
      "ERROR:artfinder.api:Error fetching https://api.crossref.org/works/10.1364/OE.18.009780: 429\n"
     ]
    },
    {
     "name": "stdout",
     "output_type": "stream",
     "text": [
      "2935/4181: https://api.crossref.org/works/10.1103/PhysRevB.87.235428\r"
     ]
    },
    {
     "name": "stderr",
     "output_type": "stream",
     "text": [
      "ERROR:artfinder.api:Error fetching https://api.crossref.org/works/10.1002/cmmi.1613: 429\n",
      "ERROR:artfinder.api:Error fetching https://api.crossref.org/works/10.1103/PhysRevB.90.245306: 429\n",
      "ERROR:artfinder.api:Error fetching https://api.crossref.org/works/10.1039/b200587e: 429\n",
      "ERROR:artfinder.api:Error fetching https://api.crossref.org/works/10.1016/S0169-4332(02)00450-6: 429\n",
      "ERROR:artfinder.api:Error fetching https://api.crossref.org/works/10.1039/b313149a: 429\n"
     ]
    },
    {
     "name": "stdout",
     "output_type": "stream",
     "text": [
      "2936/4181: https://api.crossref.org/works/10.1007/s40820-021-00613-7\r"
     ]
    },
    {
     "name": "stderr",
     "output_type": "stream",
     "text": [
      "ERROR:artfinder.api:Error fetching https://api.crossref.org/works/10.1016/j.antiviral.2013.09.022: 429\n"
     ]
    },
    {
     "name": "stdout",
     "output_type": "stream",
     "text": [
      "2938/4181: https://api.crossref.org/works/10.1002/adfm.202200273.2019.119373\r"
     ]
    },
    {
     "name": "stderr",
     "output_type": "stream",
     "text": [
      "ERROR:artfinder.api:Error fetching https://api.crossref.org/works/10.1103/PhysRevLett.102.146807: 429\n"
     ]
    },
    {
     "name": "stdout",
     "output_type": "stream",
     "text": [
      "2939/4181: https://api.crossref.org/works/10.1364/OL.40.001924\r"
     ]
    },
    {
     "name": "stderr",
     "output_type": "stream",
     "text": [
      "ERROR:artfinder.api:Error fetching https://api.crossref.org/works/10.1063/1.1288228: 429\n"
     ]
    },
    {
     "name": "stdout",
     "output_type": "stream",
     "text": [
      "2940/4181: https://api.crossref.org/works/10.3390/bios13010102\r"
     ]
    },
    {
     "name": "stderr",
     "output_type": "stream",
     "text": [
      "ERROR:artfinder.api:Error fetching https://api.crossref.org/works/10.1038/lsa.2017.152: 429\n"
     ]
    },
    {
     "name": "stdout",
     "output_type": "stream",
     "text": [
      "2941/4181: https://api.crossref.org/works/10.1021/cr068126n\r"
     ]
    },
    {
     "name": "stderr",
     "output_type": "stream",
     "text": [
      "ERROR:artfinder.api:Error fetching https://api.crossref.org/works/10.1007/s11051-022-05497-1: 429\n",
      "ERROR:artfinder.api:Error fetching https://api.crossref.org/works/10.1016/0040-6090(90)90274-H: 429\n",
      "ERROR:artfinder.api:Error fetching https://api.crossref.org/works/10.1103/PhysRevB.82.045404: 429\n"
     ]
    },
    {
     "name": "stdout",
     "output_type": "stream",
     "text": [
      "2943/4181: https://api.crossref.org/works/10.1021/acsphotonics.7b01176245\r"
     ]
    },
    {
     "name": "stderr",
     "output_type": "stream",
     "text": [
      "ERROR:artfinder.api:Error fetching https://api.crossref.org/works/10.1016/j.jhazmat.2007.09.035: 429\n",
      "ERROR:artfinder.api:Error fetching https://api.crossref.org/works/10.1039/C4NR03393K: 429\n"
     ]
    },
    {
     "name": "stdout",
     "output_type": "stream",
     "text": [
      "2945/4181: https://api.crossref.org/works/10.1186/s41181-018-0038-z1.002\r"
     ]
    },
    {
     "name": "stderr",
     "output_type": "stream",
     "text": [
      "ERROR:artfinder.api:Error fetching https://api.crossref.org/works/10.1021/cm035049t: 429\n"
     ]
    },
    {
     "name": "stdout",
     "output_type": "stream",
     "text": [
      "2946/4181: https://api.crossref.org/works/10.1103/PhysRevB.56.9552\r"
     ]
    },
    {
     "name": "stderr",
     "output_type": "stream",
     "text": [
      "ERROR:artfinder.api:Error fetching https://api.crossref.org/works/10.1002/lpor.202200057: 429\n"
     ]
    },
    {
     "name": "stdout",
     "output_type": "stream",
     "text": [
      "2948/4181: https://api.crossref.org/works/10.1366/000370209789806849\r"
     ]
    },
    {
     "name": "stderr",
     "output_type": "stream",
     "text": [
      "ERROR:artfinder.api:Error fetching https://api.crossref.org/works/10.1016/j.solener.2015.05.048: 429\n",
      "ERROR:artfinder.api:Error fetching https://api.crossref.org/works/10.1186/s12951-019-0524-9: 429\n",
      "ERROR:artfinder.api:Error fetching https://api.crossref.org/works/10.1039/b004936k: 429\n"
     ]
    },
    {
     "name": "stdout",
     "output_type": "stream",
     "text": [
      "2957/4181: https://api.crossref.org/works/10.1016/j.biomaterials.2013.03.097\r"
     ]
    },
    {
     "name": "stderr",
     "output_type": "stream",
     "text": [
      "ERROR:artfinder.api:Error fetching https://api.crossref.org/works/10.1021/cm500077z: 429\n",
      "ERROR:artfinder.api:Error fetching https://api.crossref.org/works/10.1007/s11051-009-9625-y: 429\n",
      "ERROR:artfinder.api:Error fetching https://api.crossref.org/works/10.1364/OE.22.014425: 429\n",
      "ERROR:artfinder.api:Error fetching https://api.crossref.org/works/10.1038/s41560-019-0431-1: 429\n"
     ]
    },
    {
     "name": "stdout",
     "output_type": "stream",
     "text": [
      "2958/4181: https://api.crossref.org/works/10.1002/adma.201300635\r"
     ]
    },
    {
     "name": "stderr",
     "output_type": "stream",
     "text": [
      "ERROR:artfinder.api:Error fetching https://api.crossref.org/works/10.1039/b816603j: 429\n",
      "ERROR:artfinder.api:Error fetching https://api.crossref.org/works/10.1126/science.1066541: 429\n",
      "ERROR:artfinder.api:Error fetching https://api.crossref.org/works/10.1021/acs.nanolett.2c00548: 429\n"
     ]
    },
    {
     "name": "stdout",
     "output_type": "stream",
     "text": [
      "2959/4181: https://api.crossref.org/works/10.1021/acsami.9b06359\r"
     ]
    },
    {
     "name": "stderr",
     "output_type": "stream",
     "text": [
      "ERROR:artfinder.api:Error fetching https://api.crossref.org/works/10.1038/srep14788: 429\n",
      "ERROR:artfinder.api:Error fetching https://api.crossref.org/works/10.1016/j.addr.2015.09.012: 429\n"
     ]
    },
    {
     "name": "stdout",
     "output_type": "stream",
     "text": [
      "2960/4181: https://api.crossref.org/works/10.1016/j.nantod.2016.02.002\r"
     ]
    },
    {
     "name": "stderr",
     "output_type": "stream",
     "text": [
      "ERROR:artfinder.api:Error fetching https://api.crossref.org/works/10.1088/0957-4484/21/8/085103: 429\n",
      "ERROR:artfinder.api:Error fetching https://api.crossref.org/works/10.1017/CBO9781139013475: 429\n"
     ]
    },
    {
     "name": "stdout",
     "output_type": "stream",
     "text": [
      "2962/4181: https://api.crossref.org/works/10.1002/andp.19073281003\r"
     ]
    },
    {
     "name": "stderr",
     "output_type": "stream",
     "text": [
      "ERROR:artfinder.api:Error fetching https://api.crossref.org/works/10.1021/acsami.2c03673: 429\n"
     ]
    },
    {
     "name": "stdout",
     "output_type": "stream",
     "text": [
      "2963/4181: https://api.crossref.org/works/10.3390/cancers14102412\r"
     ]
    },
    {
     "name": "stderr",
     "output_type": "stream",
     "text": [
      "ERROR:artfinder.api:Error fetching https://api.crossref.org/works/10.1016/j.msec.2019.01.066: 429\n"
     ]
    },
    {
     "name": "stdout",
     "output_type": "stream",
     "text": [
      "2965/4181: https://api.crossref.org/works/10.1016/j.apsusc.2011.07.017\r"
     ]
    },
    {
     "name": "stderr",
     "output_type": "stream",
     "text": [
      "ERROR:artfinder.api:Error fetching https://api.crossref.org/works/10.1021/acsanm.0c00779: 429\n",
      "ERROR:artfinder.api:Error fetching https://api.crossref.org/works/10.1021/acs.chemrev.5b00346: 429\n",
      "ERROR:artfinder.api:Error fetching https://api.crossref.org/works/10.1103/PhysRevB.95.155423: 429\n"
     ]
    },
    {
     "name": "stdout",
     "output_type": "stream",
     "text": [
      "2966/4181: https://api.crossref.org/works/10.1007/BF00692122\r"
     ]
    },
    {
     "name": "stderr",
     "output_type": "stream",
     "text": [
      "ERROR:artfinder.api:Error fetching https://api.crossref.org/works/10.1126/science.1223504: 429\n"
     ]
    },
    {
     "name": "stdout",
     "output_type": "stream",
     "text": [
      "2967/4181: https://api.crossref.org/works/10.1039/C6NR00918B\r"
     ]
    },
    {
     "name": "stderr",
     "output_type": "stream",
     "text": [
      "ERROR:artfinder.api:Error fetching https://api.crossref.org/works/10.1016/j.apsusc.2020.146702: 429\n"
     ]
    },
    {
     "name": "stdout",
     "output_type": "stream",
     "text": [
      "2969/4181: https://api.crossref.org/works/10.1016/j.snb.2021.13060817\r"
     ]
    },
    {
     "name": "stderr",
     "output_type": "stream",
     "text": [
      "ERROR:artfinder.api:Error fetching https://api.crossref.org/works/10.1172/JCI38746: 429\n"
     ]
    },
    {
     "name": "stdout",
     "output_type": "stream",
     "text": [
      "2970/4181: https://api.crossref.org/works/10.1016/j.nantod.2008.10.014\r"
     ]
    },
    {
     "name": "stderr",
     "output_type": "stream",
     "text": [
      "ERROR:artfinder.api:Error fetching https://api.crossref.org/works/10.1016/S0257-8972(01)01183-5: 429\n"
     ]
    },
    {
     "name": "stdout",
     "output_type": "stream",
     "text": [
      "2971/4181: https://api.crossref.org/works/10.1149/1.1836536\r"
     ]
    },
    {
     "name": "stderr",
     "output_type": "stream",
     "text": [
      "ERROR:artfinder.api:Error fetching https://api.crossref.org/works/10.1016/j.jconrel.2020.07.014: 429\n",
      "ERROR:artfinder.api:Error fetching https://api.crossref.org/works/10.1016/j.tsf.2018.03.028: 429\n"
     ]
    },
    {
     "name": "stdout",
     "output_type": "stream",
     "text": [
      "2973/4181: https://api.crossref.org/works/10.1088/0960-1317/5/2/015074\r"
     ]
    },
    {
     "name": "stderr",
     "output_type": "stream",
     "text": [
      "ERROR:artfinder.api:Error fetching https://api.crossref.org/works/10.1016/S0009-2614(00)00956-8: 429\n",
      "ERROR:artfinder.api:Error fetching https://api.crossref.org/works/10.3389/fphys.2017.00979: 429\n"
     ]
    },
    {
     "name": "stdout",
     "output_type": "stream",
     "text": [
      "2975/4181: https://api.crossref.org/works/10.1016/j.apradiso.2015.08.014\r"
     ]
    },
    {
     "name": "stderr",
     "output_type": "stream",
     "text": [
      "ERROR:artfinder.api:Error fetching https://api.crossref.org/works/10.1016/j.colsurfa.2013.04.032: 429\n"
     ]
    },
    {
     "name": "stdout",
     "output_type": "stream",
     "text": [
      "2976/4181: https://api.crossref.org/works/10.1142/S1793545818300033\r"
     ]
    },
    {
     "name": "stderr",
     "output_type": "stream",
     "text": [
      "ERROR:artfinder.api:Error fetching https://api.crossref.org/works/10.1016/j.ceramint.2008.04.027: 429\n"
     ]
    },
    {
     "name": "stdout",
     "output_type": "stream",
     "text": [
      "2977/4181: https://api.crossref.org/works/10.1021/nn300464r\r"
     ]
    },
    {
     "name": "stderr",
     "output_type": "stream",
     "text": [
      "ERROR:artfinder.api:Error fetching https://api.crossref.org/works/10.1016/j.carbpol.2007.09.018: 429\n"
     ]
    },
    {
     "name": "stdout",
     "output_type": "stream",
     "text": [
      "2978/4181: https://api.crossref.org/works/10.1038/s41467-021-21196-2\r"
     ]
    },
    {
     "name": "stderr",
     "output_type": "stream",
     "text": [
      "ERROR:artfinder.api:Error fetching https://api.crossref.org/works/10.1021/nl503522y: 429\n",
      "ERROR:artfinder.api:Error fetching https://api.crossref.org/works/10.1007/s00339-011-6469-y: 429\n"
     ]
    },
    {
     "name": "stdout",
     "output_type": "stream",
     "text": [
      "2980/4181: https://api.crossref.org/works/10.1038/ncomms13687011.12.021\r"
     ]
    },
    {
     "name": "stderr",
     "output_type": "stream",
     "text": [
      "ERROR:artfinder.api:Error fetching https://api.crossref.org/works/10.1063/1.2977587: 429\n",
      "ERROR:artfinder.api:Error fetching https://api.crossref.org/works/10.1016/j.tips.2017.11.003: 429\n"
     ]
    },
    {
     "name": "stdout",
     "output_type": "stream",
     "text": [
      "2981/4181: https://api.crossref.org/works/10.1063/1.1626793\r"
     ]
    },
    {
     "name": "stderr",
     "output_type": "stream",
     "text": [
      "ERROR:artfinder.api:Error fetching https://api.crossref.org/works/10.1016/S0169-4332(00)00780-7: 429\n"
     ]
    },
    {
     "name": "stdout",
     "output_type": "stream",
     "text": [
      "2982/4181: https://api.crossref.org/works/10.1002/wnan.1380\r"
     ]
    },
    {
     "name": "stderr",
     "output_type": "stream",
     "text": [
      "ERROR:artfinder.api:Error fetching https://api.crossref.org/works/10.1021/jp2041229: 429\n"
     ]
    },
    {
     "name": "stdout",
     "output_type": "stream",
     "text": [
      "2983/4181: https://api.crossref.org/works/10.1016/S0925-4005(99)00034-9\r"
     ]
    },
    {
     "name": "stderr",
     "output_type": "stream",
     "text": [
      "ERROR:artfinder.api:Error fetching https://api.crossref.org/works/10.1364/OE.14.008419: 429\n"
     ]
    },
    {
     "name": "stdout",
     "output_type": "stream",
     "text": [
      "2984/4181: https://api.crossref.org/works/10.1007/978-3-319-12217-5_12\r"
     ]
    },
    {
     "name": "stderr",
     "output_type": "stream",
     "text": [
      "ERROR:artfinder.api:Error fetching https://api.crossref.org/works/10.1038/s41565-022-01145-w: 429\n"
     ]
    },
    {
     "name": "stdout",
     "output_type": "stream",
     "text": [
      "2986/4181: https://api.crossref.org/works/10.1103/PhysRevB.64.0354177-1\r"
     ]
    },
    {
     "name": "stderr",
     "output_type": "stream",
     "text": [
      "ERROR:artfinder.api:Error fetching https://api.crossref.org/works/10.1002/cssc.201501593: 429\n",
      "ERROR:artfinder.api:Error fetching https://api.crossref.org/works/10.1016/j.mee.2006.01.035: 429\n"
     ]
    },
    {
     "name": "stdout",
     "output_type": "stream",
     "text": [
      "2987/4181: https://api.crossref.org/works/10.1039/b809196j\r"
     ]
    },
    {
     "name": "stderr",
     "output_type": "stream",
     "text": [
      "ERROR:artfinder.api:Error fetching https://api.crossref.org/works/10.1002/chem.201405555: 429\n",
      "ERROR:artfinder.api:Error fetching https://api.crossref.org/works/10.1364/OE.17.020847: 429\n"
     ]
    },
    {
     "name": "stdout",
     "output_type": "stream",
     "text": [
      "2989/4181: https://api.crossref.org/works/10.1103/PhysRevB.96.205429101\r"
     ]
    },
    {
     "name": "stderr",
     "output_type": "stream",
     "text": [
      "ERROR:artfinder.api:Error fetching https://api.crossref.org/works/10.1038/nnano.2008.215: 429\n"
     ]
    },
    {
     "name": "stdout",
     "output_type": "stream",
     "text": [
      "2990/4181: https://api.crossref.org/works/10.1007/s13205-018-1286-z\r"
     ]
    },
    {
     "name": "stderr",
     "output_type": "stream",
     "text": [
      "ERROR:artfinder.api:Error fetching https://api.crossref.org/works/10.1016/j.radonc.2021.04.021: 429\n"
     ]
    },
    {
     "name": "stdout",
     "output_type": "stream",
     "text": [
      "2991/4181: https://api.crossref.org/works/10.1364/OE.24.028279\r"
     ]
    },
    {
     "name": "stderr",
     "output_type": "stream",
     "text": [
      "ERROR:artfinder.api:Error fetching https://api.crossref.org/works/10.1002/app.49091: 429\n"
     ]
    },
    {
     "name": "stdout",
     "output_type": "stream",
     "text": [
      "2993/4181: https://api.crossref.org/works/10.1364/OL.35.002209\r"
     ]
    },
    {
     "name": "stderr",
     "output_type": "stream",
     "text": [
      "ERROR:artfinder.api:Error fetching https://api.crossref.org/works/10.1007/s00339-013-8007-6: 429\n"
     ]
    },
    {
     "name": "stdout",
     "output_type": "stream",
     "text": [
      "2994/4181: https://api.crossref.org/works/10.1103/PhysRevLett.82.197\r"
     ]
    },
    {
     "name": "stderr",
     "output_type": "stream",
     "text": [
      "ERROR:artfinder.api:Error fetching https://api.crossref.org/works/10.1016/S0040-6090(98)00861-X: 429\n",
      "ERROR:artfinder.api:Error fetching https://api.crossref.org/works/10.1038/nrd1413: 429\n"
     ]
    },
    {
     "name": "stdout",
     "output_type": "stream",
     "text": [
      "2997/4181: https://api.crossref.org/works/10.1021/jf060275jc\r"
     ]
    },
    {
     "name": "stderr",
     "output_type": "stream",
     "text": [
      "ERROR:artfinder.api:Error fetching https://api.crossref.org/works/10.1007/978-3-642-31334-9: 429\n"
     ]
    },
    {
     "name": "stdout",
     "output_type": "stream",
     "text": [
      "2999/4181: https://api.crossref.org/works/10.3390/nano1112319214000100007\r"
     ]
    },
    {
     "name": "stderr",
     "output_type": "stream",
     "text": [
      "ERROR:artfinder.api:Error fetching https://api.crossref.org/works/10.1007/s00339-003-2489-6: 429\n"
     ]
    },
    {
     "name": "stdout",
     "output_type": "stream",
     "text": [
      "3000/4181: https://api.crossref.org/works/10.1016/S0022-0728(78)80239-3\r"
     ]
    },
    {
     "name": "stderr",
     "output_type": "stream",
     "text": [
      "ERROR:artfinder.api:Error fetching https://api.crossref.org/works/10.1016/0038-1098(76)90228-3: 429\n",
      "ERROR:artfinder.api:Error fetching https://api.crossref.org/works/10.1021/nl015706l: 429\n",
      "ERROR:artfinder.api:Error fetching https://api.crossref.org/works/10.1063/1.4807830: 429\n"
     ]
    },
    {
     "name": "stdout",
     "output_type": "stream",
     "text": [
      "3001/4181: https://api.crossref.org/works/10.1023/A:1022219003551\r"
     ]
    },
    {
     "name": "stderr",
     "output_type": "stream",
     "text": [
      "ERROR:artfinder.api:Error fetching https://api.crossref.org/works/10.1038/nmat2986: 429\n"
     ]
    },
    {
     "name": "stdout",
     "output_type": "stream",
     "text": [
      "3002/4181: https://api.crossref.org/works/10.1016/S0021-9258(19)50881-X\r"
     ]
    },
    {
     "name": "stderr",
     "output_type": "stream",
     "text": [
      "ERROR:artfinder.api:Error fetching https://api.crossref.org/works/10.1364/OL.36.000775: 429\n"
     ]
    },
    {
     "name": "stdout",
     "output_type": "stream",
     "text": [
      "3003/4181: https://api.crossref.org/works/10.1016/j.nantod.2014.12.003\r"
     ]
    },
    {
     "name": "stderr",
     "output_type": "stream",
     "text": [
      "ERROR:artfinder.api:Error fetching https://api.crossref.org/works/10.1039/C1CS15166E: 429\n",
      "ERROR:artfinder.api:Error fetching https://api.crossref.org/works/10.1063/1.3607975: 429\n",
      "ERROR:artfinder.api:Error fetching https://api.crossref.org/works/10.1021/jp004434s: 429\n"
     ]
    },
    {
     "name": "stdout",
     "output_type": "stream",
     "text": [
      "3006/4181: https://api.crossref.org/works/10.1364/OE.14.00564147.1927\r"
     ]
    },
    {
     "name": "stderr",
     "output_type": "stream",
     "text": [
      "ERROR:artfinder.api:Error fetching https://api.crossref.org/works/10.1021/jp5111482: 429\n"
     ]
    },
    {
     "name": "stdout",
     "output_type": "stream",
     "text": [
      "3007/4181: https://api.crossref.org/works/10.1107/S0567740877007389\r"
     ]
    },
    {
     "name": "stderr",
     "output_type": "stream",
     "text": [
      "ERROR:artfinder.api:Error fetching https://api.crossref.org/works/10.1021/cm0342041: 429\n"
     ]
    },
    {
     "name": "stdout",
     "output_type": "stream",
     "text": [
      "3025/4181: https://api.crossref.org/works/10.1166/jnn.2009.SE38/1/01208701.011\r"
     ]
    },
    {
     "name": "stderr",
     "output_type": "stream",
     "text": [
      "ERROR:artfinder.api:Error fetching https://api.crossref.org/works/10.1016/j.cej.2019.122720: 429\n",
      "ERROR:artfinder.api:Error fetching https://api.crossref.org/works/10.1002/anie.201005657: 429\n",
      "ERROR:artfinder.api:Error fetching https://api.crossref.org/works/10.1080/095008398178228: 429\n",
      "ERROR:artfinder.api:Error fetching https://api.crossref.org/works/10.1039/C5RA07319G: 429\n",
      "ERROR:artfinder.api:Error fetching https://api.crossref.org/works/10.1103/PhysRevB.35.8166: 429\n",
      "ERROR:artfinder.api:Error fetching https://api.crossref.org/works/10.21870/0131-3878-2020-29-1-102-119: 429\n",
      "ERROR:artfinder.api:Error fetching https://api.crossref.org/works/10.1038/nmat2162: 429\n",
      "ERROR:artfinder.api:Error fetching https://api.crossref.org/works/10.1021/bm0600825: 429\n",
      "ERROR:artfinder.api:Error fetching https://api.crossref.org/works/10.1016/S0257-8972(00)00726-X: 429\n",
      "ERROR:artfinder.api:Error fetching https://api.crossref.org/works/10.1016/S0266-3538(03)00178-7: 429\n",
      "ERROR:artfinder.api:Error fetching https://api.crossref.org/works/10.1021/ma062225l: 429\n"
     ]
    },
    {
     "name": "stdout",
     "output_type": "stream",
     "text": [
      "3026/4181: https://api.crossref.org/works/10.1007/s11468-019-01064-y\r"
     ]
    },
    {
     "name": "stderr",
     "output_type": "stream",
     "text": [
      "ERROR:artfinder.api:Error fetching https://api.crossref.org/works/10.1016/j.jcis.2015.11.058: 429\n"
     ]
    },
    {
     "name": "stdout",
     "output_type": "stream",
     "text": [
      "3027/4181: https://api.crossref.org/works/10.1016/j.cej.2022.136214\r"
     ]
    },
    {
     "name": "stderr",
     "output_type": "stream",
     "text": [
      "ERROR:artfinder.api:Error fetching https://api.crossref.org/works/10.1002/ejic.201800321: 429\n"
     ]
    },
    {
     "name": "stdout",
     "output_type": "stream",
     "text": [
      "3028/4181: https://api.crossref.org/works/10.1016/j.fct.2014.02.006\r"
     ]
    },
    {
     "name": "stderr",
     "output_type": "stream",
     "text": [
      "ERROR:artfinder.api:Error fetching https://api.crossref.org/works/10.1016/j.ijpharm.2004.12.028: 429\n",
      "ERROR:artfinder.api:Error fetching https://api.crossref.org/works/10.1038/nphoton.2011.154: 429\n",
      "ERROR:artfinder.api:Error fetching https://api.crossref.org/works/10.3390/molecules25030440: 429\n"
     ]
    },
    {
     "name": "stdout",
     "output_type": "stream",
     "text": [
      "3030/4181: https://api.crossref.org/works/10.7150/thno.22172\r"
     ]
    },
    {
     "name": "stderr",
     "output_type": "stream",
     "text": [
      "ERROR:artfinder.api:Error fetching https://api.crossref.org/works/10.1186/s13045-018-0683-4: 429\n",
      "ERROR:artfinder.api:Error fetching https://api.crossref.org/works/10.1093/rpd/ncac093: 429\n"
     ]
    },
    {
     "name": "stdout",
     "output_type": "stream",
     "text": [
      "3032/4181: https://api.crossref.org/works/10.3390/bios120704572)00015-0\r"
     ]
    },
    {
     "name": "stderr",
     "output_type": "stream",
     "text": [
      "ERROR:artfinder.api:Error fetching https://api.crossref.org/works/10.1063/1.3012365: 429\n"
     ]
    },
    {
     "name": "stdout",
     "output_type": "stream",
     "text": [
      "3033/4181: https://api.crossref.org/works/10.1103/PhysRevB.6.4370\r"
     ]
    },
    {
     "name": "stderr",
     "output_type": "stream",
     "text": [
      "ERROR:artfinder.api:Error fetching https://api.crossref.org/works/10.1016/0022-1759(83)90303-4: 429\n",
      "ERROR:artfinder.api:Error fetching https://api.crossref.org/works/10.1038/s41598-018-37519-1: 429\n",
      "ERROR:artfinder.api:Error fetching https://api.crossref.org/works/10.1103/PhysRevE.55.3393: 429\n"
     ]
    },
    {
     "name": "stdout",
     "output_type": "stream",
     "text": [
      "3036/4181: https://api.crossref.org/works/10.1007/s00339-021-04917-8\r"
     ]
    },
    {
     "name": "stderr",
     "output_type": "stream",
     "text": [
      "ERROR:artfinder.api:Error fetching https://api.crossref.org/works/10.1016/j.bios.2007.05.003: 429\n"
     ]
    },
    {
     "name": "stdout",
     "output_type": "stream",
     "text": [
      "3038/4181: https://api.crossref.org/works/10.3390/bios11060201\r"
     ]
    },
    {
     "name": "stderr",
     "output_type": "stream",
     "text": [
      "ERROR:artfinder.api:Error fetching https://api.crossref.org/works/10.1016/j.addr.2008.03.017: 429\n"
     ]
    },
    {
     "name": "stdout",
     "output_type": "stream",
     "text": [
      "3039/4181: https://api.crossref.org/works/10.1063/1.359925\r"
     ]
    },
    {
     "name": "stderr",
     "output_type": "stream",
     "text": [
      "ERROR:artfinder.api:Error fetching https://api.crossref.org/works/10.1016/j.apsusc.2019.144420: 429\n",
      "ERROR:artfinder.api:Error fetching https://api.crossref.org/works/10.1016/j.ccr.2022.214486: 429\n"
     ]
    },
    {
     "name": "stdout",
     "output_type": "stream",
     "text": [
      "3040/4181: https://api.crossref.org/works/10.1016/j.radphyschem.2011.12.021\r"
     ]
    },
    {
     "name": "stderr",
     "output_type": "stream",
     "text": [
      "ERROR:artfinder.api:Error fetching https://api.crossref.org/works/10.1021/la204289k: 429\n",
      "ERROR:artfinder.api:Error fetching https://api.crossref.org/works/10.1021/acs.analchem.5b01271: 429\n",
      "ERROR:artfinder.api:Error fetching https://api.crossref.org/works/10.1016/j.apsusc.2013.01.103: 429\n",
      "ERROR:artfinder.api:Error fetching https://api.crossref.org/works/10.3390/coatings8100354: 429\n"
     ]
    },
    {
     "name": "stdout",
     "output_type": "stream",
     "text": [
      "3042/4181: https://api.crossref.org/works/10.1021/nl400570pev.5b00046\r"
     ]
    },
    {
     "name": "stderr",
     "output_type": "stream",
     "text": [
      "ERROR:artfinder.api:Error fetching https://api.crossref.org/works/10.1063/1.4803535: 429\n"
     ]
    },
    {
     "name": "stdout",
     "output_type": "stream",
     "text": [
      "3043/4181: https://api.crossref.org/works/10.1016/S0925-4005(98)00325-6\r"
     ]
    },
    {
     "name": "stderr",
     "output_type": "stream",
     "text": [
      "ERROR:artfinder.api:Error fetching https://api.crossref.org/works/10.1364/JOSAB.25.001673: 429\n"
     ]
    },
    {
     "name": "stdout",
     "output_type": "stream",
     "text": [
      "3045/4181: https://api.crossref.org/works/10.3103/S1068335623220141\r"
     ]
    },
    {
     "name": "stderr",
     "output_type": "stream",
     "text": [
      "ERROR:artfinder.api:Error fetching https://api.crossref.org/works/10.1038/nnano.2008.231: 429\n",
      "ERROR:artfinder.api:Error fetching https://api.crossref.org/works/10.1103/PhysRevB.69.054102: 429\n",
      "ERROR:artfinder.api:Error fetching https://api.crossref.org/works/10.1002/adfm.200701073: 429\n",
      "ERROR:artfinder.api:Error fetching https://api.crossref.org/works/10.1007/978-3-662-09109-8: 429\n"
     ]
    },
    {
     "name": "stdout",
     "output_type": "stream",
     "text": [
      "3047/4181: https://api.crossref.org/works/10.1016/S0081-1947(08)60135-6\r"
     ]
    },
    {
     "name": "stderr",
     "output_type": "stream",
     "text": [
      "ERROR:artfinder.api:Error fetching https://api.crossref.org/works/10.1016/j.matchemphys.2016.02.072: 429\n"
     ]
    },
    {
     "name": "stdout",
     "output_type": "stream",
     "text": [
      "3048/4181: https://api.crossref.org/works/10.1063/1.1480106\r"
     ]
    },
    {
     "name": "stderr",
     "output_type": "stream",
     "text": [
      "ERROR:artfinder.api:Error fetching https://api.crossref.org/works/10.1038/s41467-024-48838-5: 429\n"
     ]
    },
    {
     "name": "stdout",
     "output_type": "stream",
     "text": [
      "3049/4181: https://api.crossref.org/works/10.1039/C5NR02491A\r"
     ]
    },
    {
     "name": "stderr",
     "output_type": "stream",
     "text": [
      "ERROR:artfinder.api:Error fetching https://api.crossref.org/works/10.1007/s00339-014-8633-7: 429\n"
     ]
    },
    {
     "name": "stdout",
     "output_type": "stream",
     "text": [
      "3050/4181: https://api.crossref.org/works/10.1021/bm060381u\r"
     ]
    },
    {
     "name": "stderr",
     "output_type": "stream",
     "text": [
      "ERROR:artfinder.api:Error fetching https://api.crossref.org/works/10.1562/2006-05-03-IR-891: 429\n"
     ]
    },
    {
     "name": "stdout",
     "output_type": "stream",
     "text": [
      "3055/4181: https://api.crossref.org/works/10.2217/17435889.3.3.329.11.055\r"
     ]
    },
    {
     "name": "stderr",
     "output_type": "stream",
     "text": [
      "ERROR:artfinder.api:Error fetching https://api.crossref.org/works/10.1002/smll.202270251: 429\n",
      "ERROR:artfinder.api:Error fetching https://api.crossref.org/works/10.4172/2329-6771.1000115: 429\n",
      "ERROR:artfinder.api:Error fetching https://api.crossref.org/works/10.1088/0034-4885/79/3/036401: 429\n"
     ]
    },
    {
     "name": "stdout",
     "output_type": "stream",
     "text": [
      "3062/4181: https://api.crossref.org/works/10.1016/j.bbamcr.2008.07.010\r"
     ]
    },
    {
     "name": "stderr",
     "output_type": "stream",
     "text": [
      "ERROR:artfinder.api:Error fetching https://api.crossref.org/works/10.1002/adma.201300635: 429\n",
      "ERROR:artfinder.api:Error fetching https://api.crossref.org/works/10.1016/0038-1098(92)90815-Q: 429\n",
      "ERROR:artfinder.api:Error fetching https://api.crossref.org/works/10.1021/ac403284f: 429\n",
      "ERROR:artfinder.api:Error fetching https://api.crossref.org/works/10.1007/s00339-017-1372-9: 429\n",
      "ERROR:artfinder.api:Error fetching https://api.crossref.org/works/10.1111/mve.12149: 429\n",
      "ERROR:artfinder.api:Error fetching https://api.crossref.org/works/10.1016/j.biomaterials.2010.11.059: 429\n",
      "ERROR:artfinder.api:Error fetching https://api.crossref.org/works/10.1016/j.solmat.2023.112203: 429\n"
     ]
    },
    {
     "name": "stdout",
     "output_type": "stream",
     "text": [
      "3063/4181: https://api.crossref.org/works/10.1103/PhysRevB.65.092103\r"
     ]
    },
    {
     "name": "stderr",
     "output_type": "stream",
     "text": [
      "ERROR:artfinder.api:Error fetching https://api.crossref.org/works/10.1039/C1NR11269D: 429\n"
     ]
    },
    {
     "name": "stdout",
     "output_type": "stream",
     "text": [
      "3064/4181: https://api.crossref.org/works/10.1016/j.apsusc.2004.02..013\r"
     ]
    },
    {
     "name": "stderr",
     "output_type": "stream",
     "text": [
      "ERROR:artfinder.api:Error fetching https://api.crossref.org/works/10.1002/pssc.200673557: 429\n",
      "ERROR:artfinder.api:Error fetching https://api.crossref.org/works/10.1164/ajrccm.164.9.2101036: 429\n"
     ]
    },
    {
     "name": "stdout",
     "output_type": "stream",
     "text": [
      "3065/4181: https://api.crossref.org/works/10.1038/nmat2546\r"
     ]
    },
    {
     "name": "stderr",
     "output_type": "stream",
     "text": [
      "ERROR:artfinder.api:Error fetching https://api.crossref.org/works/10.1038/nphoton.2017.5: 429\n"
     ]
    },
    {
     "name": "stdout",
     "output_type": "stream",
     "text": [
      "3067/4181: https://api.crossref.org/works/10.1021/ja303306u9-00968-z\r"
     ]
    },
    {
     "name": "stderr",
     "output_type": "stream",
     "text": [
      "ERROR:artfinder.api:Error fetching https://api.crossref.org/works/10.1166/sam.2012.1310: 429\n"
     ]
    },
    {
     "name": "stdout",
     "output_type": "stream",
     "text": [
      "3068/4181: https://api.crossref.org/works/10.1021/acsnano.1c04321\r"
     ]
    },
    {
     "name": "stderr",
     "output_type": "stream",
     "text": [
      "ERROR:artfinder.api:Error fetching https://api.crossref.org/works/10.1002/lpor.201300013: 429\n"
     ]
    },
    {
     "name": "stdout",
     "output_type": "stream",
     "text": [
      "3069/4181: https://api.crossref.org/works/10.1038/s41565-019-0442-x\r"
     ]
    },
    {
     "name": "stderr",
     "output_type": "stream",
     "text": [
      "ERROR:artfinder.api:Error fetching https://api.crossref.org/works/10.1016/j.actbio.2013.07.030: 429\n",
      "ERROR:artfinder.api:Error fetching https://api.crossref.org/works/10.1002/1521-4095(200110)13:19<1501::AID-ADMA1501>3.0.CO;2-Z: 429\n",
      "ERROR:artfinder.api:Error fetching https://api.crossref.org/works/10.1111/j.1751-1097.1986.tb05592.x: 429\n"
     ]
    },
    {
     "name": "stdout",
     "output_type": "stream",
     "text": [
      "3071/4181: https://api.crossref.org/works/10.1016/j.tsf.2019.02.0341286\r"
     ]
    },
    {
     "name": "stderr",
     "output_type": "stream",
     "text": [
      "ERROR:artfinder.api:Error fetching https://api.crossref.org/works/10.1063/1.1894590: 429\n",
      "ERROR:artfinder.api:Error fetching https://api.crossref.org/works/10.1002/adfm.201603230: 429\n"
     ]
    },
    {
     "name": "stdout",
     "output_type": "stream",
     "text": [
      "3073/4181: https://api.crossref.org/works/10.1016/j.ccr.2019.213139\r"
     ]
    },
    {
     "name": "stderr",
     "output_type": "stream",
     "text": [
      "ERROR:artfinder.api:Error fetching https://api.crossref.org/works/10.1117/12.2051616: 429\n"
     ]
    },
    {
     "name": "stdout",
     "output_type": "stream",
     "text": [
      "3074/4181: https://api.crossref.org/works/10.1002/adma.201700996\r"
     ]
    },
    {
     "name": "stderr",
     "output_type": "stream",
     "text": [
      "ERROR:artfinder.api:Error fetching https://api.crossref.org/works/10.1021/nl071418z: 429\n"
     ]
    },
    {
     "name": "stdout",
     "output_type": "stream",
     "text": [
      "3076/4181: https://api.crossref.org/works/10.1126/science.277.5329.1078\r"
     ]
    },
    {
     "name": "stderr",
     "output_type": "stream",
     "text": [
      "ERROR:artfinder.api:Error fetching https://api.crossref.org/works/10.1016/j.jmat.2015.03.003: 429\n",
      "ERROR:artfinder.api:Error fetching https://api.crossref.org/works/10.1080/09553002.2018.1495854: 429\n"
     ]
    },
    {
     "name": "stdout",
     "output_type": "stream",
     "text": [
      "3078/4181: https://api.crossref.org/works/10.1116/1.50547802\r"
     ]
    },
    {
     "name": "stderr",
     "output_type": "stream",
     "text": [
      "ERROR:artfinder.api:Error fetching https://api.crossref.org/works/10.1002/(SICI)1096-987X(19960115)17:1<49::AID-JCC5>3.0.CO;2-0: 429\n",
      "ERROR:artfinder.api:Error fetching https://api.crossref.org/works/10.2478/pjmpe-2022-0004: 429\n"
     ]
    },
    {
     "name": "stdout",
     "output_type": "stream",
     "text": [
      "3079/4181: https://api.crossref.org/works/10.1007/s11082-021-03356-2\r"
     ]
    },
    {
     "name": "stderr",
     "output_type": "stream",
     "text": [
      "ERROR:artfinder.api:Error fetching https://api.crossref.org/works/10.1016/j.ejmp.2014.12.003: 429\n"
     ]
    },
    {
     "name": "stdout",
     "output_type": "stream",
     "text": [
      "3080/4181: https://api.crossref.org/works/10.1007/b100321\r"
     ]
    },
    {
     "name": "stderr",
     "output_type": "stream",
     "text": [
      "ERROR:artfinder.api:Error fetching https://api.crossref.org/works/10.1103/PhysRevB.87.235428: 429\n"
     ]
    },
    {
     "name": "stdout",
     "output_type": "stream",
     "text": [
      "3082/4181: https://api.crossref.org/works/10.2147/IJN.S18192808.08.038\r"
     ]
    },
    {
     "name": "stderr",
     "output_type": "stream",
     "text": [
      "ERROR:artfinder.api:Error fetching https://api.crossref.org/works/10.1007/s40820-021-00613-7: 429\n"
     ]
    },
    {
     "name": "stdout",
     "output_type": "stream",
     "text": [
      "3083/4181: https://api.crossref.org/works/10.1021/acs.chemrev.9b00201\r"
     ]
    },
    {
     "name": "stderr",
     "output_type": "stream",
     "text": [
      "ERROR:artfinder.api:Error fetching https://api.crossref.org/works/10.1016/j.biomaterials.2019.119373: 429\n",
      "ERROR:artfinder.api:Error fetching https://api.crossref.org/works/10.1002/adfm.202200273: 429\n"
     ]
    },
    {
     "name": "stdout",
     "output_type": "stream",
     "text": [
      "3084/4181: https://api.crossref.org/works/10.3390/ijms19020407\r"
     ]
    },
    {
     "name": "stderr",
     "output_type": "stream",
     "text": [
      "ERROR:artfinder.api:Error fetching https://api.crossref.org/works/10.3390/bios13010102: 429\n",
      "ERROR:artfinder.api:Error fetching https://api.crossref.org/works/10.1364/OL.40.001924: 429\n"
     ]
    },
    {
     "name": "stdout",
     "output_type": "stream",
     "text": [
      "3088/4181: https://api.crossref.org/works/10.1103/PhysRevE.75.026609\r"
     ]
    },
    {
     "name": "stderr",
     "output_type": "stream",
     "text": [
      "ERROR:artfinder.api:Error fetching https://api.crossref.org/works/10.1021/acsphotonics.7b01176: 429\n",
      "ERROR:artfinder.api:Error fetching https://api.crossref.org/works/10.1016/j.apradiso.2016.11.002: 429\n"
     ]
    },
    {
     "name": "stdout",
     "output_type": "stream",
     "text": [
      "3089/4181: https://api.crossref.org/works/10.1016/j.taap.2010.02.013\r"
     ]
    },
    {
     "name": "stderr",
     "output_type": "stream",
     "text": [
      "ERROR:artfinder.api:Error fetching https://api.crossref.org/works/10.1186/s41181-018-0038-z: 429\n"
     ]
    },
    {
     "name": "stdout",
     "output_type": "stream",
     "text": [
      "3090/4181: https://api.crossref.org/works/10.1002/jbm.a.34294\r"
     ]
    },
    {
     "name": "stderr",
     "output_type": "stream",
     "text": [
      "ERROR:artfinder.api:Error fetching https://api.crossref.org/works/10.1021/cr068126n: 429\n"
     ]
    },
    {
     "name": "stdout",
     "output_type": "stream",
     "text": [
      "3091/4181: https://api.crossref.org/works/10.1063/1.3063051\r"
     ]
    },
    {
     "name": "stderr",
     "output_type": "stream",
     "text": [
      "ERROR:artfinder.api:Error fetching https://api.crossref.org/works/10.1103/PhysRevB.56.9552: 429\n",
      "ERROR:artfinder.api:Error fetching https://api.crossref.org/works/10.1366/000370209789806849: 429\n",
      "ERROR:artfinder.api:Error fetching https://api.crossref.org/works/10.1021/ar00104a002: 429\n"
     ]
    },
    {
     "name": "stdout",
     "output_type": "stream",
     "text": [
      "3093/4181: https://api.crossref.org/works/10.1038/s41598-018-19258-5\r"
     ]
    },
    {
     "name": "stderr",
     "output_type": "stream",
     "text": [
      "ERROR:artfinder.api:Error fetching https://api.crossref.org/works/10.1070/QE1998v028n05ABEH001245: 429\n",
      "ERROR:artfinder.api:Error fetching https://api.crossref.org/works/10.1088/1742-6596/1851/1/012007: 429\n"
     ]
    },
    {
     "name": "stdout",
     "output_type": "stream",
     "text": [
      "3095/4181: https://api.crossref.org/works/10.3390/cancers13040604\r"
     ]
    },
    {
     "name": "stderr",
     "output_type": "stream",
     "text": [
      "ERROR:artfinder.api:Error fetching https://api.crossref.org/works/10.1016/j.scitotenv.2018.03.132: 429\n",
      "ERROR:artfinder.api:Error fetching https://api.crossref.org/works/10.1038/natrevmats.2016.48: 429\n"
     ]
    },
    {
     "name": "stdout",
     "output_type": "stream",
     "text": [
      "3097/4181: https://api.crossref.org/works/10.1016/j.jconrel.2010.01.036\r"
     ]
    },
    {
     "name": "stderr",
     "output_type": "stream",
     "text": [
      "ERROR:artfinder.api:Error fetching https://api.crossref.org/works/10.1016/j.ejmp.2015.01.006: 429\n"
     ]
    },
    {
     "name": "stdout",
     "output_type": "stream",
     "text": [
      "3098/4181: https://api.crossref.org/works/10.1016/j.matlet.2005.05.013\r"
     ]
    },
    {
     "name": "stderr",
     "output_type": "stream",
     "text": [
      "ERROR:artfinder.api:Error fetching https://api.crossref.org/works/10.1364/OE.18.014353: 429\n",
      "ERROR:artfinder.api:Error fetching https://api.crossref.org/works/10.1063/1.1412834: 429\n"
     ]
    },
    {
     "name": "stdout",
     "output_type": "stream",
     "text": [
      "3101/4181: https://api.crossref.org/works/10.1103/PhysRevLett.85.3966\r"
     ]
    },
    {
     "name": "stderr",
     "output_type": "stream",
     "text": [
      "ERROR:artfinder.api:Error fetching https://api.crossref.org/works/10.1016/S0038-1098(00)00463-4: 429\n"
     ]
    },
    {
     "name": "stdout",
     "output_type": "stream",
     "text": [
      "3103/4181: https://api.crossref.org/works/10.1016/j.cap.2007.10.0667\r"
     ]
    },
    {
     "name": "stderr",
     "output_type": "stream",
     "text": [
      "ERROR:artfinder.api:Error fetching https://api.crossref.org/works/10.1002/jrs.1486: 429\n"
     ]
    },
    {
     "name": "stdout",
     "output_type": "stream",
     "text": [
      "3104/4181: https://api.crossref.org/works/10.1002/anie.201908289\r"
     ]
    },
    {
     "name": "stderr",
     "output_type": "stream",
     "text": [
      "ERROR:artfinder.api:Error fetching https://api.crossref.org/works/10.1021/acsami.9b06359: 429\n",
      "ERROR:artfinder.api:Error fetching https://api.crossref.org/works/10.1016/j.biomaterials.2013.03.097: 429\n"
     ]
    },
    {
     "name": "stdout",
     "output_type": "stream",
     "text": [
      "3105/4181: https://api.crossref.org/works/10.1021/acsnano.0c03457\r"
     ]
    },
    {
     "name": "stderr",
     "output_type": "stream",
     "text": [
      "ERROR:artfinder.api:Error fetching https://api.crossref.org/works/10.1016/j.nantod.2016.02.002: 429\n"
     ]
    },
    {
     "name": "stdout",
     "output_type": "stream",
     "text": [
      "3106/4181: https://api.crossref.org/works/10.1021/cm0492336\r"
     ]
    },
    {
     "name": "stderr",
     "output_type": "stream",
     "text": [
      "ERROR:artfinder.api:Error fetching https://api.crossref.org/works/10.1002/andp.19073281003: 429\n",
      "ERROR:artfinder.api:Error fetching https://api.crossref.org/works/10.3390/cancers14102412: 429\n"
     ]
    },
    {
     "name": "stdout",
     "output_type": "stream",
     "text": [
      "3108/4181: https://api.crossref.org/works/10.1016/0169-4332(95)00171-9\r"
     ]
    },
    {
     "name": "stderr",
     "output_type": "stream",
     "text": [
      "ERROR:artfinder.api:Error fetching https://api.crossref.org/works/10.1007/BF00692122: 429\n",
      "ERROR:artfinder.api:Error fetching https://api.crossref.org/works/10.1016/j.apsusc.2011.07.017: 429\n",
      "ERROR:artfinder.api:Error fetching https://api.crossref.org/works/10.1021/bm061140p: 429\n"
     ]
    },
    {
     "name": "stdout",
     "output_type": "stream",
     "text": [
      "3111/4181: https://api.crossref.org/works/10.1504/IJNBM.2007.0165175\r"
     ]
    },
    {
     "name": "stderr",
     "output_type": "stream",
     "text": [
      "ERROR:artfinder.api:Error fetching https://api.crossref.org/works/10.1107/S0567740877007389: 429\n",
      "ERROR:artfinder.api:Error fetching https://api.crossref.org/works/10.1039/C6NR00918B: 429\n"
     ]
    },
    {
     "name": "stdout",
     "output_type": "stream",
     "text": [
      "3130/4181: https://api.crossref.org/works/10.1021/jp0480302080202272.046\r"
     ]
    },
    {
     "name": "stderr",
     "output_type": "stream",
     "text": [
      "ERROR:artfinder.api:Error fetching https://api.crossref.org/works/10.1021/acs.jpclett.9b03117: 429\n",
      "ERROR:artfinder.api:Error fetching https://api.crossref.org/works/10.1142/S1793545818300033: 429\n",
      "ERROR:artfinder.api:Error fetching https://api.crossref.org/works/10.1016/j.snb.2021.130608: 429\n",
      "ERROR:artfinder.api:Error fetching https://api.crossref.org/works/10.1149/1.1836536: 429\n",
      "ERROR:artfinder.api:Error fetching https://api.crossref.org/works/10.1016/j.nantod.2008.10.014: 429\n",
      "ERROR:artfinder.api:Error fetching https://api.crossref.org/works/10.1021/nn300464r: 429\n",
      "ERROR:artfinder.api:Error fetching https://api.crossref.org/works/10.1016/0009-2614(94)00271-1: 429\n",
      "ERROR:artfinder.api:Error fetching https://api.crossref.org/works/10.1016/j.apsusc.2014.10.074: 429\n",
      "ERROR:artfinder.api:Error fetching https://api.crossref.org/works/10.1016/j.apradiso.2015.08.014: 429\n",
      "ERROR:artfinder.api:Error fetching https://api.crossref.org/works/10.1088/0960-1317/5/2/015: 429\n",
      "ERROR:artfinder.api:Error fetching https://api.crossref.org/works/10.1038/s41467-021-21196-2: 429\n",
      "ERROR:artfinder.api:Error fetching https://api.crossref.org/works/10.1016/j.talanta.2011.12.021: 429\n"
     ]
    },
    {
     "name": "stdout",
     "output_type": "stream",
     "text": [
      "3132/4181: https://api.crossref.org/works/10.1088/0953-4075/49/9/095402\r"
     ]
    },
    {
     "name": "stderr",
     "output_type": "stream",
     "text": [
      "ERROR:artfinder.api:Error fetching https://api.crossref.org/works/10.1038/ncomms13687: 429\n",
      "ERROR:artfinder.api:Error fetching https://api.crossref.org/works/10.1063/1.1626793: 429\n",
      "ERROR:artfinder.api:Error fetching https://api.crossref.org/works/10.1002/wnan.1380: 429\n",
      "ERROR:artfinder.api:Error fetching https://api.crossref.org/works/10.1016/S0925-4005(99)00034-9: 429\n"
     ]
    },
    {
     "name": "stdout",
     "output_type": "stream",
     "text": [
      "3134/4181: https://api.crossref.org/works/10.1016/S0956-5663(98)00088-83000.x\r"
     ]
    },
    {
     "name": "stderr",
     "output_type": "stream",
     "text": [
      "ERROR:artfinder.api:Error fetching https://api.crossref.org/works/10.1007/978-3-319-12217-5_12: 429\n",
      "ERROR:artfinder.api:Error fetching https://api.crossref.org/works/10.1016/S0142-9612(03)00037-1: 429\n"
     ]
    },
    {
     "name": "stdout",
     "output_type": "stream",
     "text": [
      "3137/4181: https://api.crossref.org/works/10.1364/OE.20.02626170114\r"
     ]
    },
    {
     "name": "stderr",
     "output_type": "stream",
     "text": [
      "ERROR:artfinder.api:Error fetching https://api.crossref.org/works/10.1103/PhysRevLett.96.166101: 429\n",
      "ERROR:artfinder.api:Error fetching https://api.crossref.org/works/10.1039/b809196j: 429\n",
      "ERROR:artfinder.api:Error fetching https://api.crossref.org/works/10.1103/PhysRevB.64.035417: 429\n",
      "ERROR:artfinder.api:Error fetching https://api.crossref.org/works/10.1103/PhysRevB.96.205429: 429\n"
     ]
    },
    {
     "name": "stdout",
     "output_type": "stream",
     "text": [
      "3141/4181: https://api.crossref.org/works/10.1021/la204839m5\r"
     ]
    },
    {
     "name": "stderr",
     "output_type": "stream",
     "text": [
      "ERROR:artfinder.api:Error fetching https://api.crossref.org/works/10.1007/s13205-018-1286-z: 429\n"
     ]
    },
    {
     "name": "stdout",
     "output_type": "stream",
     "text": [
      "3142/4181: https://api.crossref.org/works/10.1117/12.2214883\r"
     ]
    },
    {
     "name": "stderr",
     "output_type": "stream",
     "text": [
      "ERROR:artfinder.api:Error fetching https://api.crossref.org/works/10.1364/OE.24.028279: 429\n"
     ]
    },
    {
     "name": "stdout",
     "output_type": "stream",
     "text": [
      "3144/4181: https://api.crossref.org/works/10.1021/acs.nanolett.6b00084\r"
     ]
    },
    {
     "name": "stderr",
     "output_type": "stream",
     "text": [
      "ERROR:artfinder.api:Error fetching https://api.crossref.org/works/10.1364/OL.35.002209: 429\n",
      "ERROR:artfinder.api:Error fetching https://api.crossref.org/works/10.1039/c3nr01419c: 429\n",
      "ERROR:artfinder.api:Error fetching https://api.crossref.org/works/10.1246/cl.1983.1047: 429\n",
      "ERROR:artfinder.api:Error fetching https://api.crossref.org/works/10.1016/j.radphyschem.2011.12.021: 429\n",
      "ERROR:artfinder.api:Error fetching https://api.crossref.org/works/10.1103/PhysRevLett.82.197: 429\n"
     ]
    },
    {
     "name": "stdout",
     "output_type": "stream",
     "text": [
      "3145/4181: https://api.crossref.org/works/10.1016/j.ab.2006.10.030\r"
     ]
    },
    {
     "name": "stderr",
     "output_type": "stream",
     "text": [
      "ERROR:artfinder.api:Error fetching https://api.crossref.org/works/10.1021/am5000068: 429\n"
     ]
    },
    {
     "name": "stdout",
     "output_type": "stream",
     "text": [
      "3147/4181: https://api.crossref.org/works/10.1038/nature04242ba1ae\r"
     ]
    },
    {
     "name": "stderr",
     "output_type": "stream",
     "text": [
      "ERROR:artfinder.api:Error fetching https://api.crossref.org/works/10.1021/jf060275j: 429\n",
      "ERROR:artfinder.api:Error fetching https://api.crossref.org/works/10.1590/S0104-66322014000100007: 429\n"
     ]
    },
    {
     "name": "stdout",
     "output_type": "stream",
     "text": [
      "3149/4181: https://api.crossref.org/works/10.1021/ja971209o2017.03.007\r"
     ]
    },
    {
     "name": "stderr",
     "output_type": "stream",
     "text": [
      "ERROR:artfinder.api:Error fetching https://api.crossref.org/works/10.3390/nano11123192: 429\n",
      "ERROR:artfinder.api:Error fetching https://api.crossref.org/works/10.1023/A:1022219003551: 429\n",
      "ERROR:artfinder.api:Error fetching https://api.crossref.org/works/10.1016/S0022-0728(78)80239-3: 429\n"
     ]
    },
    {
     "name": "stdout",
     "output_type": "stream",
     "text": [
      "3150/4181: https://api.crossref.org/works/10.1021/nl8036905\r"
     ]
    },
    {
     "name": "stderr",
     "output_type": "stream",
     "text": [
      "ERROR:artfinder.api:Error fetching https://api.crossref.org/works/10.1016/S0021-9258(19)50881-X: 429\n"
     ]
    },
    {
     "name": "stdout",
     "output_type": "stream",
     "text": [
      "3151/4181: https://api.crossref.org/works/10.1039/B612040G\r"
     ]
    },
    {
     "name": "stderr",
     "output_type": "stream",
     "text": [
      "ERROR:artfinder.api:Error fetching https://api.crossref.org/works/10.1016/j.nantod.2014.12.003: 429\n"
     ]
    },
    {
     "name": "stdout",
     "output_type": "stream",
     "text": [
      "3152/4181: https://api.crossref.org/works/10.1063/1.2390641\r"
     ]
    },
    {
     "name": "stderr",
     "output_type": "stream",
     "text": [
      "ERROR:artfinder.api:Error fetching https://api.crossref.org/works/10.1063/1.1569033: 429\n"
     ]
    },
    {
     "name": "stdout",
     "output_type": "stream",
     "text": [
      "3153/4181: https://api.crossref.org/works/10.1080/15548627.2018.1509171\r"
     ]
    },
    {
     "name": "stderr",
     "output_type": "stream",
     "text": [
      "ERROR:artfinder.api:Error fetching https://api.crossref.org/works/10.1103/PhysRevLett.47.1927: 429\n"
     ]
    },
    {
     "name": "stdout",
     "output_type": "stream",
     "text": [
      "3154/4181: https://api.crossref.org/works/10.1007/s00216-004-2708-9\r"
     ]
    },
    {
     "name": "stderr",
     "output_type": "stream",
     "text": [
      "ERROR:artfinder.api:Error fetching https://api.crossref.org/works/10.1364/OE.14.005641: 429\n"
     ]
    },
    {
     "name": "stdout",
     "output_type": "stream",
     "text": [
      "3161/4181: https://api.crossref.org/works/10.1016/j.apsusc.2004.11.084958\r"
     ]
    },
    {
     "name": "stderr",
     "output_type": "stream",
     "text": [
      "ERROR:artfinder.api:Error fetching https://api.crossref.org/works/10.1016/j.polymertesting.2019.01.011: 429\n",
      "ERROR:artfinder.api:Error fetching https://api.crossref.org/works/10.1016/j.jpowsour.2015.04.083: 429\n",
      "ERROR:artfinder.api:Error fetching https://api.crossref.org/works/10.1038/s41563-019-0566-2: 429\n"
     ]
    },
    {
     "name": "stdout",
     "output_type": "stream",
     "text": [
      "3166/4181: https://api.crossref.org/works/10.1038/nature2576940334\r"
     ]
    },
    {
     "name": "stderr",
     "output_type": "stream",
     "text": [
      "ERROR:artfinder.api:Error fetching https://api.crossref.org/works/10.14319/ijcto.0202.5: 429\n",
      "ERROR:artfinder.api:Error fetching https://api.crossref.org/works/10.1016/j.desal.2023.116749: 429\n",
      "ERROR:artfinder.api:Error fetching https://api.crossref.org/works/10.1126/science.1126493: 429\n",
      "ERROR:artfinder.api:Error fetching https://api.crossref.org/works/10.1039/c39940000801: 429\n",
      "ERROR:artfinder.api:Error fetching https://api.crossref.org/works/10.1016/j.drudis.2008.04.013: 429\n"
     ]
    },
    {
     "name": "stdout",
     "output_type": "stream",
     "text": [
      "3167/4181: https://api.crossref.org/works/10.1007/s00216-010-3676-x\r"
     ]
    },
    {
     "name": "stderr",
     "output_type": "stream",
     "text": [
      "ERROR:artfinder.api:Error fetching https://api.crossref.org/works/10.1021/jp911161g: 429\n",
      "ERROR:artfinder.api:Error fetching https://api.crossref.org/works/10.1002/jccs.199800109: 429\n"
     ]
    },
    {
     "name": "stdout",
     "output_type": "stream",
     "text": [
      "3168/4181: https://api.crossref.org/works/10.1016/j.chembiol.2005.09.008\r"
     ]
    },
    {
     "name": "stderr",
     "output_type": "stream",
     "text": [
      "ERROR:artfinder.api:Error fetching https://api.crossref.org/works/10.1021/acs.jpcc.0c01092: 429\n",
      "ERROR:artfinder.api:Error fetching https://api.crossref.org/works/10.1103/PhysRevLett.61.2886: 429\n",
      "ERROR:artfinder.api:Error fetching https://api.crossref.org/works/10.1016/j.joule.2023.04.005: 429\n"
     ]
    },
    {
     "name": "stdout",
     "output_type": "stream",
     "text": [
      "3169/4181: https://api.crossref.org/works/10.3103/S1068335622060021\r"
     ]
    },
    {
     "name": "stderr",
     "output_type": "stream",
     "text": [
      "ERROR:artfinder.api:Error fetching https://api.crossref.org/works/10.1016/S0924-4247(00)00386-1: 429\n"
     ]
    },
    {
     "name": "stdout",
     "output_type": "stream",
     "text": [
      "3171/4181: https://api.crossref.org/works/10.1063/1.124645.68.115405\r"
     ]
    },
    {
     "name": "stderr",
     "output_type": "stream",
     "text": [
      "ERROR:artfinder.api:Error fetching https://api.crossref.org/works/10.1080/02726340801921627: 429\n"
     ]
    },
    {
     "name": "stdout",
     "output_type": "stream",
     "text": [
      "3172/4181: https://api.crossref.org/works/10.1021/nl200921c\r"
     ]
    },
    {
     "name": "stderr",
     "output_type": "stream",
     "text": [
      "ERROR:artfinder.api:Error fetching https://api.crossref.org/works/10.1088/1742-6596/653/1/012087: 429\n"
     ]
    },
    {
     "name": "stdout",
     "output_type": "stream",
     "text": [
      "3173/4181: https://api.crossref.org/works/10.1364/JOSAB.23.002535\r"
     ]
    },
    {
     "name": "stderr",
     "output_type": "stream",
     "text": [
      "ERROR:artfinder.api:Error fetching https://api.crossref.org/works/10.3390/nano10020234: 429\n",
      "ERROR:artfinder.api:Error fetching https://api.crossref.org/works/10.1007/s11468-019-01064-y: 429\n"
     ]
    },
    {
     "name": "stdout",
     "output_type": "stream",
     "text": [
      "3174/4181: https://api.crossref.org/works/10.1038/s41467-024-45266-3\r"
     ]
    },
    {
     "name": "stderr",
     "output_type": "stream",
     "text": [
      "ERROR:artfinder.api:Error fetching https://api.crossref.org/works/10.1166/jnn.2009.SE38: 429\n"
     ]
    },
    {
     "name": "stdout",
     "output_type": "stream",
     "text": [
      "3175/4181: https://api.crossref.org/works/10.1016/j.biomaterials.2016.10.040\r"
     ]
    },
    {
     "name": "stderr",
     "output_type": "stream",
     "text": [
      "ERROR:artfinder.api:Error fetching https://api.crossref.org/works/10.1016/j.cej.2022.136214: 429\n",
      "ERROR:artfinder.api:Error fetching https://api.crossref.org/works/10.1016/j.fct.2014.02.006: 429\n"
     ]
    },
    {
     "name": "stdout",
     "output_type": "stream",
     "text": [
      "3178/4181: https://api.crossref.org/works/10.1088/1468-6996/12/2/02500523\r"
     ]
    },
    {
     "name": "stderr",
     "output_type": "stream",
     "text": [
      "ERROR:artfinder.api:Error fetching https://api.crossref.org/works/10.1021/nl0480060: 429\n"
     ]
    },
    {
     "name": "stdout",
     "output_type": "stream",
     "text": [
      "3179/4181: https://api.crossref.org/works/10.1021/ac202957h\r"
     ]
    },
    {
     "name": "stderr",
     "output_type": "stream",
     "text": [
      "ERROR:artfinder.api:Error fetching https://api.crossref.org/works/10.7150/thno.22172: 429\n"
     ]
    },
    {
     "name": "stdout",
     "output_type": "stream",
     "text": [
      "3180/4181: https://api.crossref.org/works/10.1016/S0030-4018(99)00676-8\r"
     ]
    },
    {
     "name": "stderr",
     "output_type": "stream",
     "text": [
      "ERROR:artfinder.api:Error fetching https://api.crossref.org/works/10.3390/bios12070457: 429\n",
      "ERROR:artfinder.api:Error fetching https://api.crossref.org/works/10.1016/S0958-1669(02)00015-0: 429\n"
     ]
    },
    {
     "name": "stdout",
     "output_type": "stream",
     "text": [
      "3181/4181: https://api.crossref.org/works/10.1080/00914037.2016.1252350\r"
     ]
    },
    {
     "name": "stderr",
     "output_type": "stream",
     "text": [
      "ERROR:artfinder.api:Error fetching https://api.crossref.org/works/10.1103/PhysRevB.6.4370: 429\n"
     ]
    },
    {
     "name": "stdout",
     "output_type": "stream",
     "text": [
      "3182/4181: https://api.crossref.org/works/10.1364/BOE.8.001638\r"
     ]
    },
    {
     "name": "stderr",
     "output_type": "stream",
     "text": [
      "ERROR:artfinder.api:Error fetching https://api.crossref.org/works/10.1002/adma.200701772: 429\n"
     ]
    },
    {
     "name": "stdout",
     "output_type": "stream",
     "text": [
      "3183/4181: https://api.crossref.org/works/10.1002/adma.19950070907\r"
     ]
    },
    {
     "name": "stderr",
     "output_type": "stream",
     "text": [
      "ERROR:artfinder.api:Error fetching https://api.crossref.org/works/10.1103/PhysRevB.91.054113: 429\n"
     ]
    },
    {
     "name": "stdout",
     "output_type": "stream",
     "text": [
      "3184/4181: https://api.crossref.org/works/10.1515/aot-2018-0010\r"
     ]
    },
    {
     "name": "stderr",
     "output_type": "stream",
     "text": [
      "ERROR:artfinder.api:Error fetching https://api.crossref.org/works/10.1007/s00339-021-04917-8: 429\n"
     ]
    },
    {
     "name": "stdout",
     "output_type": "stream",
     "text": [
      "3186/4181: https://api.crossref.org/works/10.1002/lpor.202100328.043\r"
     ]
    },
    {
     "name": "stderr",
     "output_type": "stream",
     "text": [
      "ERROR:artfinder.api:Error fetching https://api.crossref.org/works/10.1118/1.4934370: 429\n"
     ]
    },
    {
     "name": "stdout",
     "output_type": "stream",
     "text": [
      "3188/4181: https://api.crossref.org/works/10.1016/S0022-0728(99)00154-0\r"
     ]
    },
    {
     "name": "stderr",
     "output_type": "stream",
     "text": [
      "ERROR:artfinder.api:Error fetching https://api.crossref.org/works/10.3390/bios11060201: 429\n",
      "ERROR:artfinder.api:Error fetching https://api.crossref.org/works/10.1063/1.359925: 429\n",
      "ERROR:artfinder.api:Error fetching https://api.crossref.org/works/10.1021/acs.chemrev.5b00046: 429\n",
      "ERROR:artfinder.api:Error fetching https://api.crossref.org/works/10.1021/nl400570p: 429\n"
     ]
    },
    {
     "name": "stdout",
     "output_type": "stream",
     "text": [
      "3192/4181: https://api.crossref.org/works/10.1038/nnano.2007.4116-4\r"
     ]
    },
    {
     "name": "stderr",
     "output_type": "stream",
     "text": [
      "ERROR:artfinder.api:Error fetching https://api.crossref.org/works/10.1016/S0925-4005(98)00325-6: 429\n"
     ]
    },
    {
     "name": "stdout",
     "output_type": "stream",
     "text": [
      "3193/4181: https://api.crossref.org/works/10.1016/j.bios.2007.07.015\r"
     ]
    },
    {
     "name": "stderr",
     "output_type": "stream",
     "text": [
      "ERROR:artfinder.api:Error fetching https://api.crossref.org/works/10.1002/adma.202000678: 429\n"
     ]
    },
    {
     "name": "stdout",
     "output_type": "stream",
     "text": [
      "3194/4181: https://api.crossref.org/works/10.2172/1118958\r"
     ]
    },
    {
     "name": "stderr",
     "output_type": "stream",
     "text": [
      "ERROR:artfinder.api:Error fetching https://api.crossref.org/works/10.3103/S1068335623220141: 429\n"
     ]
    },
    {
     "name": "stdout",
     "output_type": "stream",
     "text": [
      "3195/4181: https://api.crossref.org/works/10.1002/jps.20999\r"
     ]
    },
    {
     "name": "stderr",
     "output_type": "stream",
     "text": [
      "ERROR:artfinder.api:Error fetching https://api.crossref.org/works/10.1021/acsnano.0c05215: 429\n",
      "ERROR:artfinder.api:Error fetching https://api.crossref.org/works/10.1016/S0081-1947(08)60135-6: 429\n"
     ]
    },
    {
     "name": "stdout",
     "output_type": "stream",
     "text": [
      "3196/4181: https://api.crossref.org/works/10.1088/0963-9659/5/2/006\r"
     ]
    },
    {
     "name": "stderr",
     "output_type": "stream",
     "text": [
      "ERROR:artfinder.api:Error fetching https://api.crossref.org/works/10.1063/1.1480106: 429\n",
      "ERROR:artfinder.api:Error fetching https://api.crossref.org/works/10.1007/BF01395428: 429\n"
     ]
    },
    {
     "name": "stdout",
     "output_type": "stream",
     "text": [
      "3197/4181: https://api.crossref.org/works/10.1186/s12951-015-0154-9\r"
     ]
    },
    {
     "name": "stderr",
     "output_type": "stream",
     "text": [
      "ERROR:artfinder.api:Error fetching https://api.crossref.org/works/10.1039/C5NR02491A: 429\n",
      "ERROR:artfinder.api:Error fetching https://api.crossref.org/works/10.1021/bm060381u: 429\n"
     ]
    },
    {
     "name": "stdout",
     "output_type": "stream",
     "text": [
      "3199/4181: https://api.crossref.org/works/10.3390/nano90507673961\r"
     ]
    },
    {
     "name": "stderr",
     "output_type": "stream",
     "text": [
      "ERROR:artfinder.api:Error fetching https://api.crossref.org/works/10.1038/ncomms8072: 429\n",
      "ERROR:artfinder.api:Error fetching https://api.crossref.org/works/10.1520/GTJ11417J: 429\n"
     ]
    },
    {
     "name": "stdout",
     "output_type": "stream",
     "text": [
      "3202/4181: https://api.crossref.org/works/10.1364/OE.17.021191083\r"
     ]
    },
    {
     "name": "stderr",
     "output_type": "stream",
     "text": [
      "ERROR:artfinder.api:Error fetching https://api.crossref.org/works/10.1021/la9707540: 429\n"
     ]
    },
    {
     "name": "stdout",
     "output_type": "stream",
     "text": [
      "3203/4181: https://api.crossref.org/works/10.1016/j.actbio.2019.02.031\r"
     ]
    },
    {
     "name": "stderr",
     "output_type": "stream",
     "text": [
      "ERROR:artfinder.api:Error fetching https://api.crossref.org/works/10.2217/17435889.3.3.329: 429\n",
      "ERROR:artfinder.api:Error fetching https://api.crossref.org/works/10.1016/j.micromeso.2015.11.055: 429\n"
     ]
    },
    {
     "name": "stdout",
     "output_type": "stream",
     "text": [
      "3206/4181: https://api.crossref.org/works/10.1021/jp040442n6\r"
     ]
    },
    {
     "name": "stderr",
     "output_type": "stream",
     "text": [
      "ERROR:artfinder.api:Error fetching https://api.crossref.org/works/10.1016/j.aca.2008.05.022: 429\n"
     ]
    },
    {
     "name": "stdout",
     "output_type": "stream",
     "text": [
      "3208/4181: https://api.crossref.org/works/10.1016/j.enconman.2014.04.009\r"
     ]
    },
    {
     "name": "stderr",
     "output_type": "stream",
     "text": [
      "ERROR:artfinder.api:Error fetching https://api.crossref.org/works/10.1364/OE.18.003187: 429\n"
     ]
    },
    {
     "name": "stdout",
     "output_type": "stream",
     "text": [
      "3209/4181: https://api.crossref.org/works/10.1016/S0924-2244(00)00021-2\r"
     ]
    },
    {
     "name": "stderr",
     "output_type": "stream",
     "text": [
      "ERROR:artfinder.api:Error fetching https://api.crossref.org/works/10.1007/s003399900302: 429\n",
      "ERROR:artfinder.api:Error fetching https://api.crossref.org/works/10.1016/j.aca.2021.338907: 429\n",
      "ERROR:artfinder.api:Error fetching https://api.crossref.org/works/10.1063/1.2132086: 429\n"
     ]
    },
    {
     "name": "stdout",
     "output_type": "stream",
     "text": [
      "3210/4181: https://api.crossref.org/works/10.1016/S0925-4005(98)00326-8\r"
     ]
    },
    {
     "name": "stderr",
     "output_type": "stream",
     "text": [
      "ERROR:artfinder.api:Error fetching https://api.crossref.org/works/10.1093/jaoac/83.5.1141: 429\n",
      "ERROR:artfinder.api:Error fetching https://api.crossref.org/works/10.1016/j.bbamcr.2008.07.010: 429\n"
     ]
    },
    {
     "name": "stdout",
     "output_type": "stream",
     "text": [
      "3212/4181: https://api.crossref.org/works/10.1007/s11051-005-9065-2\r"
     ]
    },
    {
     "name": "stderr",
     "output_type": "stream",
     "text": [
      "ERROR:artfinder.api:Error fetching https://api.crossref.org/works/10.1016/j.apsusc.2004.02..013: 429\n",
      "ERROR:artfinder.api:Error fetching https://api.crossref.org/works/10.1103/PhysRevB.65.092103: 429\n",
      "ERROR:artfinder.api:Error fetching https://api.crossref.org/works/10.1038/nmat2546: 429\n"
     ]
    },
    {
     "name": "stdout",
     "output_type": "stream",
     "text": [
      "3215/4181: https://api.crossref.org/works/10.1021/ar2001952118\r"
     ]
    },
    {
     "name": "stderr",
     "output_type": "stream",
     "text": [
      "ERROR:artfinder.api:Error fetching https://api.crossref.org/works/10.1007/s11468-019-00968-z: 429\n"
     ]
    },
    {
     "name": "stdout",
     "output_type": "stream",
     "text": [
      "3216/4181: https://api.crossref.org/works/10.1038/s41563-023-01630-0\r"
     ]
    },
    {
     "name": "stderr",
     "output_type": "stream",
     "text": [
      "ERROR:artfinder.api:Error fetching https://api.crossref.org/works/10.1021/ja303306u: 429\n"
     ]
    },
    {
     "name": "stdout",
     "output_type": "stream",
     "text": [
      "3234/4181: https://api.crossref.org/works/10.1021/cm80084180108500330-4-155136\r"
     ]
    },
    {
     "name": "stderr",
     "output_type": "stream",
     "text": [
      "ERROR:artfinder.api:Error fetching https://api.crossref.org/works/10.1021/acsenergylett.8b01286: 429\n",
      "ERROR:artfinder.api:Error fetching https://api.crossref.org/works/10.1038/s41565-019-0442-x: 429\n",
      "ERROR:artfinder.api:Error fetching https://api.crossref.org/works/10.1021/acsnano.1c04321: 429\n",
      "ERROR:artfinder.api:Error fetching https://api.crossref.org/works/10.1016/j.tsf.2019.02.034: 429\n",
      "ERROR:artfinder.api:Error fetching https://api.crossref.org/works/10.1002/adfm.200801548: 429\n",
      "ERROR:artfinder.api:Error fetching https://api.crossref.org/works/10.1016/j.ccr.2019.213139: 429\n",
      "ERROR:artfinder.api:Error fetching https://api.crossref.org/works/10.1109/JSEN.2006.884982: 429\n"
     ]
    },
    {
     "name": "stdout",
     "output_type": "stream",
     "text": [
      "3235/4181: https://api.crossref.org/works/10.1016/j.nucmedbio.2021.11.005\r"
     ]
    },
    {
     "name": "stderr",
     "output_type": "stream",
     "text": [
      "ERROR:artfinder.api:Error fetching https://api.crossref.org/works/10.1126/science.277.5329.1078: 429\n",
      "ERROR:artfinder.api:Error fetching https://api.crossref.org/works/10.1116/1.5054780: 429\n",
      "ERROR:artfinder.api:Error fetching https://api.crossref.org/works/10.1002/adma.201700996: 429\n",
      "ERROR:artfinder.api:Error fetching https://api.crossref.org/works/10.1117/12.2551432: 429\n",
      "ERROR:artfinder.api:Error fetching https://api.crossref.org/works/10.1007/s11082-021-03356-2: 429\n"
     ]
    },
    {
     "name": "stdout",
     "output_type": "stream",
     "text": [
      "3236/4181: https://api.crossref.org/works/10.1038/s41578-018-0026-7\r"
     ]
    },
    {
     "name": "stderr",
     "output_type": "stream",
     "text": [
      "ERROR:artfinder.api:Error fetching https://api.crossref.org/works/10.1053/j.gastro.2008.08.038: 429\n",
      "ERROR:artfinder.api:Error fetching https://api.crossref.org/works/10.2147/IJN.S181928: 429\n",
      "ERROR:artfinder.api:Error fetching https://api.crossref.org/works/10.1007/b100321: 429\n",
      "ERROR:artfinder.api:Error fetching https://api.crossref.org/works/10.1021/acs.chemrev.9b00201: 429\n"
     ]
    },
    {
     "name": "stdout",
     "output_type": "stream",
     "text": [
      "3238/4181: https://api.crossref.org/works/10.1016/j.jconrel.2020.12.004\r"
     ]
    },
    {
     "name": "stderr",
     "output_type": "stream",
     "text": [
      "ERROR:artfinder.api:Error fetching https://api.crossref.org/works/10.3390/ijms19020407: 429\n"
     ]
    },
    {
     "name": "stdout",
     "output_type": "stream",
     "text": [
      "3239/4181: https://api.crossref.org/works/10.1016/j.ccr.2023.215450\r"
     ]
    },
    {
     "name": "stderr",
     "output_type": "stream",
     "text": [
      "ERROR:artfinder.api:Error fetching https://api.crossref.org/works/10.1038/ncomms2538: 429\n"
     ]
    },
    {
     "name": "stdout",
     "output_type": "stream",
     "text": [
      "3242/4181: https://api.crossref.org/works/10.1134/1.171067700223.2015.06.012\r"
     ]
    },
    {
     "name": "stderr",
     "output_type": "stream",
     "text": [
      "ERROR:artfinder.api:Error fetching https://api.crossref.org/works/10.1039/C2CP42668D: 429\n",
      "ERROR:artfinder.api:Error fetching https://api.crossref.org/works/10.1016/j.taap.2010.02.013: 429\n",
      "ERROR:artfinder.api:Error fetching https://api.crossref.org/works/10.1103/PhysRevE.75.026609: 429\n",
      "ERROR:artfinder.api:Error fetching https://api.crossref.org/works/10.1063/1.370004: 429\n"
     ]
    },
    {
     "name": "stdout",
     "output_type": "stream",
     "text": [
      "3246/4181: https://api.crossref.org/works/10.1016/j.cpc.2009.07.010.132\r"
     ]
    },
    {
     "name": "stderr",
     "output_type": "stream",
     "text": [
      "ERROR:artfinder.api:Error fetching https://api.crossref.org/works/10.1002/jbm.a.34294: 429\n"
     ]
    },
    {
     "name": "stdout",
     "output_type": "stream",
     "text": [
      "3247/4181: https://api.crossref.org/works/10.2147/IJN.S130455\r"
     ]
    },
    {
     "name": "stderr",
     "output_type": "stream",
     "text": [
      "ERROR:artfinder.api:Error fetching https://api.crossref.org/works/10.1063/1.3063051: 429\n"
     ]
    },
    {
     "name": "stdout",
     "output_type": "stream",
     "text": [
      "3248/4181: https://api.crossref.org/works/10.1128/AAC.48.6.2173-2178.2004\r"
     ]
    },
    {
     "name": "stderr",
     "output_type": "stream",
     "text": [
      "ERROR:artfinder.api:Error fetching https://api.crossref.org/works/10.1063/1.1683772: 429\n",
      "ERROR:artfinder.api:Error fetching https://api.crossref.org/works/10.1038/s41598-018-19258-5: 429\n",
      "ERROR:artfinder.api:Error fetching https://api.crossref.org/works/10.1016/j.jconrel.2010.01.036: 429\n",
      "ERROR:artfinder.api:Error fetching https://api.crossref.org/works/10.3390/cancers13040604: 429\n"
     ]
    },
    {
     "name": "stdout",
     "output_type": "stream",
     "text": [
      "3249/4181: https://api.crossref.org/works/10.1021/am200428v\r"
     ]
    },
    {
     "name": "stderr",
     "output_type": "stream",
     "text": [
      "ERROR:artfinder.api:Error fetching https://api.crossref.org/works/10.1371/journal.pone.0141593: 429\n",
      "ERROR:artfinder.api:Error fetching https://api.crossref.org/works/10.1016/j.matlet.2005.05.013: 429\n"
     ]
    },
    {
     "name": "stdout",
     "output_type": "stream",
     "text": [
      "3251/4181: https://api.crossref.org/works/10.1063/1.1555693t.2012.03.065\r"
     ]
    },
    {
     "name": "stderr",
     "output_type": "stream",
     "text": [
      "ERROR:artfinder.api:Error fetching https://api.crossref.org/works/10.1166/jbn.2014.1916: 429\n"
     ]
    },
    {
     "name": "stdout",
     "output_type": "stream",
     "text": [
      "3253/4181: https://api.crossref.org/works/10.1103/PhysRevE.59.67421\r"
     ]
    },
    {
     "name": "stderr",
     "output_type": "stream",
     "text": [
      "ERROR:artfinder.api:Error fetching https://api.crossref.org/works/10.1103/PhysRevLett.85.3966: 429\n",
      "ERROR:artfinder.api:Error fetching https://api.crossref.org/works/10.1103/PhysRevB.93.235407: 429\n",
      "ERROR:artfinder.api:Error fetching https://api.crossref.org/works/10.1016/j.cap.2007.10.066: 429\n"
     ]
    },
    {
     "name": "stdout",
     "output_type": "stream",
     "text": [
      "3254/4181: https://api.crossref.org/works/10.1016/S1359-6454(01)00287-7\r"
     ]
    },
    {
     "name": "stderr",
     "output_type": "stream",
     "text": [
      "ERROR:artfinder.api:Error fetching https://api.crossref.org/works/10.1002/anie.201908289: 429\n"
     ]
    },
    {
     "name": "stdout",
     "output_type": "stream",
     "text": [
      "3255/4181: https://api.crossref.org/works/10.1063/1.2836252\r"
     ]
    },
    {
     "name": "stderr",
     "output_type": "stream",
     "text": [
      "ERROR:artfinder.api:Error fetching https://api.crossref.org/works/10.1021/acsnano.0c03457: 429\n"
     ]
    },
    {
     "name": "stdout",
     "output_type": "stream",
     "text": [
      "3256/4181: https://api.crossref.org/works/10.1038/nnano.2013.100\r"
     ]
    },
    {
     "name": "stderr",
     "output_type": "stream",
     "text": [
      "ERROR:artfinder.api:Error fetching https://api.crossref.org/works/10.1021/nl1044583: 429\n",
      "ERROR:artfinder.api:Error fetching https://api.crossref.org/works/10.1021/cm0492336: 429\n"
     ]
    },
    {
     "name": "stdout",
     "output_type": "stream",
     "text": [
      "3257/4181: https://api.crossref.org/works/10.1063/1.1725879\r"
     ]
    },
    {
     "name": "stderr",
     "output_type": "stream",
     "text": [
      "ERROR:artfinder.api:Error fetching https://api.crossref.org/works/10.3390/molecules25010018: 429\n"
     ]
    },
    {
     "name": "stdout",
     "output_type": "stream",
     "text": [
      "3258/4181: https://api.crossref.org/works/10.1016/0883-2897(87)90039-0\r"
     ]
    },
    {
     "name": "stderr",
     "output_type": "stream",
     "text": [
      "ERROR:artfinder.api:Error fetching https://api.crossref.org/works/10.1016/0169-4332(95)00171-9: 429\n"
     ]
    },
    {
     "name": "stdout",
     "output_type": "stream",
     "text": [
      "3266/4181: https://api.crossref.org/works/10.1016/0030-4018(93)90610-H02\r"
     ]
    },
    {
     "name": "stderr",
     "output_type": "stream",
     "text": [
      "ERROR:artfinder.api:Error fetching https://api.crossref.org/works/10.3390/ma16237469: 429\n",
      "ERROR:artfinder.api:Error fetching https://api.crossref.org/works/10.1016/j.ejpb.2007.05.015: 429\n",
      "ERROR:artfinder.api:Error fetching https://api.crossref.org/works/10.1504/IJNBM.2007.016517: 429\n"
     ]
    },
    {
     "name": "stdout",
     "output_type": "stream",
     "text": [
      "3271/4181: https://api.crossref.org/works/10.1002/pssb.2005411314-z074\r"
     ]
    },
    {
     "name": "stderr",
     "output_type": "stream",
     "text": [
      "ERROR:artfinder.api:Error fetching https://api.crossref.org/works/10.1088/1742-6596/59/1/135: 429\n",
      "ERROR:artfinder.api:Error fetching https://api.crossref.org/works/10.1002/pssr.201300103: 429\n",
      "ERROR:artfinder.api:Error fetching https://api.crossref.org/works/10.1016/j.apcatb.2013.12.026: 429\n",
      "ERROR:artfinder.api:Error fetching https://api.crossref.org/works/10.1038/s41551-017-0131-8: 429\n",
      "ERROR:artfinder.api:Error fetching https://api.crossref.org/works/10.1364/OE.25.006983: 429\n",
      "ERROR:artfinder.api:Error fetching https://api.crossref.org/works/10.1007/s11664-000-0097-1: 429\n"
     ]
    },
    {
     "name": "stdout",
     "output_type": "stream",
     "text": [
      "3272/4181: https://api.crossref.org/works/10.1073/pnas.2232479100\r"
     ]
    },
    {
     "name": "stderr",
     "output_type": "stream",
     "text": [
      "ERROR:artfinder.api:Error fetching https://api.crossref.org/works/10.3389/fonc.2021.601820: 429\n",
      "ERROR:artfinder.api:Error fetching https://api.crossref.org/works/10.1016/S0925-4005(03)00034-0: 429\n",
      "ERROR:artfinder.api:Error fetching https://api.crossref.org/works/10.1016/j.physb.2010.10.045: 429\n"
     ]
    },
    {
     "name": "stdout",
     "output_type": "stream",
     "text": [
      "3274/4181: https://api.crossref.org/works/10.1021/nl0342895ics.7b01062\r"
     ]
    },
    {
     "name": "stderr",
     "output_type": "stream",
     "text": [
      "ERROR:artfinder.api:Error fetching https://api.crossref.org/works/10.1021/nl049038q: 429\n"
     ]
    },
    {
     "name": "stdout",
     "output_type": "stream",
     "text": [
      "3275/4181: https://api.crossref.org/works/10.1016/j.rser.2010.12.018\r"
     ]
    },
    {
     "name": "stderr",
     "output_type": "stream",
     "text": [
      "ERROR:artfinder.api:Error fetching https://api.crossref.org/works/10.1038/s41598-019-48748-3: 429\n"
     ]
    },
    {
     "name": "stdout",
     "output_type": "stream",
     "text": [
      "3276/4181: https://api.crossref.org/works/10.1021/acsami.0c21198\r"
     ]
    },
    {
     "name": "stderr",
     "output_type": "stream",
     "text": [
      "ERROR:artfinder.api:Error fetching https://api.crossref.org/works/10.1016/j.apsusc.2003.11.038: 429\n",
      "ERROR:artfinder.api:Error fetching https://api.crossref.org/works/10.1007/s00204-018-2173-4: 429\n"
     ]
    },
    {
     "name": "stdout",
     "output_type": "stream",
     "text": [
      "3277/4181: https://api.crossref.org/works/10.1016/j.materresbull.2017.03.031\r"
     ]
    },
    {
     "name": "stderr",
     "output_type": "stream",
     "text": [
      "ERROR:artfinder.api:Error fetching https://api.crossref.org/works/10.1142/S0217751X92003082: 429\n"
     ]
    },
    {
     "name": "stdout",
     "output_type": "stream",
     "text": [
      "3278/4181: https://api.crossref.org/works/10.1103/PhysRevB.78.205405\r"
     ]
    },
    {
     "name": "stderr",
     "output_type": "stream",
     "text": [
      "ERROR:artfinder.api:Error fetching https://api.crossref.org/works/10.1007/978-3-319-67199-4: 429\n",
      "ERROR:artfinder.api:Error fetching https://api.crossref.org/works/10.1016/j.apradiso.2011.02.046: 429\n"
     ]
    },
    {
     "name": "stdout",
     "output_type": "stream",
     "text": [
      "3279/4181: https://api.crossref.org/works/10.1364/OL.35.003408\r"
     ]
    },
    {
     "name": "stderr",
     "output_type": "stream",
     "text": [
      "ERROR:artfinder.api:Error fetching https://api.crossref.org/works/10.1134/S1066362208020227: 429\n",
      "ERROR:artfinder.api:Error fetching https://api.crossref.org/works/10.1021/acsami.9b19648: 429\n"
     ]
    },
    {
     "name": "stdout",
     "output_type": "stream",
     "text": [
      "3282/4181: https://api.crossref.org/works/10.1088/0022-3727/37/20/022\r"
     ]
    },
    {
     "name": "stderr",
     "output_type": "stream",
     "text": [
      "ERROR:artfinder.api:Error fetching https://api.crossref.org/works/10.1021/jp0480302: 429\n"
     ]
    },
    {
     "name": "stdout",
     "output_type": "stream",
     "text": [
      "3284/4181: https://api.crossref.org/works/10.1039/C1JM13692E\r"
     ]
    },
    {
     "name": "stderr",
     "output_type": "stream",
     "text": [
      "ERROR:artfinder.api:Error fetching https://api.crossref.org/works/10.1021/acsphotonics.8b01194: 429\n",
      "ERROR:artfinder.api:Error fetching https://api.crossref.org/works/10.1088/0953-4075/49/9/095402: 429\n",
      "ERROR:artfinder.api:Error fetching https://api.crossref.org/works/10.1046/j.1365-2036.1996.22163000.x: 429\n"
     ]
    },
    {
     "name": "stdout",
     "output_type": "stream",
     "text": [
      "3285/4181: https://api.crossref.org/works/10.3390/polym3031377\r"
     ]
    },
    {
     "name": "stderr",
     "output_type": "stream",
     "text": [
      "ERROR:artfinder.api:Error fetching https://api.crossref.org/works/10.1016/S0956-5663(98)00088-8: 429\n"
     ]
    },
    {
     "name": "stdout",
     "output_type": "stream",
     "text": [
      "3287/4181: https://api.crossref.org/works/10.1038/338596a0.2011.04.002\r"
     ]
    },
    {
     "name": "stderr",
     "output_type": "stream",
     "text": [
      "ERROR:artfinder.api:Error fetching https://api.crossref.org/works/10.1021/la303482s: 429\n"
     ]
    },
    {
     "name": "stdout",
     "output_type": "stream",
     "text": [
      "3288/4181: https://api.crossref.org/works/10.1016/j.solidstatesciences.2014.01.010\r"
     ]
    },
    {
     "name": "stderr",
     "output_type": "stream",
     "text": [
      "ERROR:artfinder.api:Error fetching https://api.crossref.org/works/10.1134/S0030400X08070114: 429\n"
     ]
    },
    {
     "name": "stdout",
     "output_type": "stream",
     "text": [
      "3289/4181: https://api.crossref.org/works/10.1002/adfm.202003338\r"
     ]
    },
    {
     "name": "stderr",
     "output_type": "stream",
     "text": [
      "ERROR:artfinder.api:Error fetching https://api.crossref.org/works/10.1364/OE.20.026261: 429\n"
     ]
    },
    {
     "name": "stdout",
     "output_type": "stream",
     "text": [
      "3290/4181: https://api.crossref.org/works/10.1002/cyto.a.22342\r"
     ]
    },
    {
     "name": "stderr",
     "output_type": "stream",
     "text": [
      "ERROR:artfinder.api:Error fetching https://api.crossref.org/works/10.1007/BF00533485: 429\n"
     ]
    },
    {
     "name": "stdout",
     "output_type": "stream",
     "text": [
      "3292/4181: https://api.crossref.org/works/10.1016/j.apsusc.2011.11.072\r"
     ]
    },
    {
     "name": "stderr",
     "output_type": "stream",
     "text": [
      "ERROR:artfinder.api:Error fetching https://api.crossref.org/works/10.1021/la204839m: 429\n",
      "ERROR:artfinder.api:Error fetching https://api.crossref.org/works/10.1021/ja401612x: 429\n",
      "ERROR:artfinder.api:Error fetching https://api.crossref.org/works/10.1021/la100015t: 429\n",
      "ERROR:artfinder.api:Error fetching https://api.crossref.org/works/10.1117/12.2214883: 429\n"
     ]
    },
    {
     "name": "stdout",
     "output_type": "stream",
     "text": [
      "3297/4181: https://api.crossref.org/works/10.18632/oncotarget.16625661\r"
     ]
    },
    {
     "name": "stderr",
     "output_type": "stream",
     "text": [
      "ERROR:artfinder.api:Error fetching https://api.crossref.org/works/10.1016/0040-6090(96)08671-3: 429\n",
      "ERROR:artfinder.api:Error fetching https://api.crossref.org/works/10.1021/acs.nanolett.6b00084: 429\n"
     ]
    },
    {
     "name": "stdout",
     "output_type": "stream",
     "text": [
      "3298/4181: https://api.crossref.org/works/10.1016/B978-0-444-86165-8.50006-2\r"
     ]
    },
    {
     "name": "stderr",
     "output_type": "stream",
     "text": [
      "ERROR:artfinder.api:Error fetching https://api.crossref.org/works/10.1016/j.ab.2006.10.030: 429\n"
     ]
    },
    {
     "name": "stdout",
     "output_type": "stream",
     "text": [
      "3300/4181: https://api.crossref.org/works/10.1002/jbio.201700225\r"
     ]
    },
    {
     "name": "stderr",
     "output_type": "stream",
     "text": [
      "ERROR:artfinder.api:Error fetching https://api.crossref.org/works/10.1088/1361-6463/aba1ae: 429\n",
      "ERROR:artfinder.api:Error fetching https://api.crossref.org/works/10.1038/nature04242: 429\n",
      "ERROR:artfinder.api:Error fetching https://api.crossref.org/works/10.1016/j.drudis.2017.03.007: 429\n",
      "ERROR:artfinder.api:Error fetching https://api.crossref.org/works/10.1021/ja971209o: 429\n"
     ]
    },
    {
     "name": "stdout",
     "output_type": "stream",
     "text": [
      "3301/4181: https://api.crossref.org/works/10.1103/PhysRevLett.106.196405\r"
     ]
    },
    {
     "name": "stderr",
     "output_type": "stream",
     "text": [
      "ERROR:artfinder.api:Error fetching https://api.crossref.org/works/10.1021/nl8036905: 429\n",
      "ERROR:artfinder.api:Error fetching https://api.crossref.org/works/10.1039/B612040G: 429\n"
     ]
    },
    {
     "name": "stdout",
     "output_type": "stream",
     "text": [
      "3303/4181: https://api.crossref.org/works/10.2967/jnumed.112.108043\r"
     ]
    },
    {
     "name": "stderr",
     "output_type": "stream",
     "text": [
      "ERROR:artfinder.api:Error fetching https://api.crossref.org/works/10.1063/1.2390641: 429\n",
      "ERROR:artfinder.api:Error fetching https://api.crossref.org/works/10.1080/15548627.2018.1509171: 429\n"
     ]
    },
    {
     "name": "stdout",
     "output_type": "stream",
     "text": [
      "3306/4181: https://api.crossref.org/works/10.1016/j.yexcr.2004.12.021\r"
     ]
    },
    {
     "name": "stderr",
     "output_type": "stream",
     "text": [
      "ERROR:artfinder.api:Error fetching https://api.crossref.org/works/10.1007/s00216-004-2708-9: 429\n"
     ]
    },
    {
     "name": "stdout",
     "output_type": "stream",
     "text": [
      "3307/4181: https://api.crossref.org/works/10.1016/S0925-4005(03)00157-6\r"
     ]
    },
    {
     "name": "stderr",
     "output_type": "stream",
     "text": [
      "ERROR:artfinder.api:Error fetching https://api.crossref.org/works/10.1070/QE2001v031n05ABEH001958: 429\n",
      "ERROR:artfinder.api:Error fetching https://api.crossref.org/works/10.1021/la981078k: 429\n"
     ]
    },
    {
     "name": "stdout",
     "output_type": "stream",
     "text": [
      "3312/4181: https://api.crossref.org/works/10.1016/j.snb.2005.04.007001\r"
     ]
    },
    {
     "name": "stderr",
     "output_type": "stream",
     "text": [
      "ERROR:artfinder.api:Error fetching https://api.crossref.org/works/10.1103/PhysRev.95.359: 429\n"
     ]
    },
    {
     "name": "stdout",
     "output_type": "stream",
     "text": [
      "3313/4181: https://api.crossref.org/works/10.1038/srep25380\r"
     ]
    },
    {
     "name": "stderr",
     "output_type": "stream",
     "text": [
      "ERROR:artfinder.api:Error fetching https://api.crossref.org/works/10.1088/0022-3727/40/2/006: 429\n",
      "ERROR:artfinder.api:Error fetching https://api.crossref.org/works/10.1016/j.apsusc.2004.11.084: 429\n",
      "ERROR:artfinder.api:Error fetching https://api.crossref.org/works/10.1039/D1NA00406A: 429\n"
     ]
    },
    {
     "name": "stdout",
     "output_type": "stream",
     "text": [
      "3314/4181: https://api.crossref.org/works/10.1002/anie.202205585\r"
     ]
    },
    {
     "name": "stderr",
     "output_type": "stream",
     "text": [
      "ERROR:artfinder.api:Error fetching https://api.crossref.org/works/10.1103/PhysRevA.46.1614: 429\n",
      "ERROR:artfinder.api:Error fetching https://api.crossref.org/works/10.1016/j.physe.2012.03.006: 429\n",
      "ERROR:artfinder.api:Error fetching https://api.crossref.org/works/10.1023/A:1008993814033: 429\n"
     ]
    },
    {
     "name": "stdout",
     "output_type": "stream",
     "text": [
      "3316/4181: https://api.crossref.org/works/10.1016/j.apsusc.2018.11.111\r"
     ]
    },
    {
     "name": "stderr",
     "output_type": "stream",
     "text": [
      "ERROR:artfinder.api:Error fetching https://api.crossref.org/works/10.1021/jp9021344: 429\n",
      "ERROR:artfinder.api:Error fetching https://api.crossref.org/works/10.1021/nn201227b: 429\n",
      "ERROR:artfinder.api:Error fetching https://api.crossref.org/works/10.1038/nature25769: 429\n"
     ]
    },
    {
     "name": "stdout",
     "output_type": "stream",
     "text": [
      "3319/4181: https://api.crossref.org/works/10.1021/nl025538c1(02)00523-39\r"
     ]
    },
    {
     "name": "stderr",
     "output_type": "stream",
     "text": [
      "ERROR:artfinder.api:Error fetching https://api.crossref.org/works/10.1007/s00216-010-3676-x: 429\n"
     ]
    },
    {
     "name": "stdout",
     "output_type": "stream",
     "text": [
      "3320/4181: https://api.crossref.org/works/10.1021/nl303445u\r"
     ]
    },
    {
     "name": "stderr",
     "output_type": "stream",
     "text": [
      "ERROR:artfinder.api:Error fetching https://api.crossref.org/works/10.1016/j.chembiol.2005.09.008: 429\n"
     ]
    },
    {
     "name": "stdout",
     "output_type": "stream",
     "text": [
      "3339/4181: https://api.crossref.org/works/10.1002/wnan.15710807001751815\r"
     ]
    },
    {
     "name": "stderr",
     "output_type": "stream",
     "text": [
      "ERROR:artfinder.api:Error fetching https://api.crossref.org/works/10.1063/1.124645: 429\n",
      "ERROR:artfinder.api:Error fetching https://api.crossref.org/works/10.1038/s41467-024-45266-3: 429\n",
      "ERROR:artfinder.api:Error fetching https://api.crossref.org/works/10.3103/S1068335622060021: 429\n",
      "ERROR:artfinder.api:Error fetching https://api.crossref.org/works/10.1016/j.biomaterials.2016.10.040: 429\n",
      "ERROR:artfinder.api:Error fetching https://api.crossref.org/works/10.1103/PhysRevB.68.115405: 429\n",
      "ERROR:artfinder.api:Error fetching https://api.crossref.org/works/10.1021/acs.bioconjchem.9b00123: 429\n",
      "ERROR:artfinder.api:Error fetching https://api.crossref.org/works/10.1021/nl200921c: 429\n",
      "ERROR:artfinder.api:Error fetching https://api.crossref.org/works/10.1021/ac202957h: 429\n",
      "ERROR:artfinder.api:Error fetching https://api.crossref.org/works/10.1007/s10973-018-7099-9: 429\n",
      "ERROR:artfinder.api:Error fetching https://api.crossref.org/works/10.1088/1468-6996/12/2/025005: 429\n"
     ]
    },
    {
     "name": "stdout",
     "output_type": "stream",
     "text": [
      "3340/4181: https://api.crossref.org/works/10.1186/s11671-021-03632-w\r"
     ]
    },
    {
     "name": "stderr",
     "output_type": "stream",
     "text": [
      "ERROR:artfinder.api:Error fetching https://api.crossref.org/works/10.1016/S0030-4018(99)00676-8: 429\n",
      "ERROR:artfinder.api:Error fetching https://api.crossref.org/works/10.1364/BOE.8.001638: 429\n",
      "ERROR:artfinder.api:Error fetching https://api.crossref.org/works/10.1002/adma.19950070907: 429\n",
      "ERROR:artfinder.api:Error fetching https://api.crossref.org/works/10.1515/aot-2018-0010: 429\n"
     ]
    },
    {
     "name": "stdout",
     "output_type": "stream",
     "text": [
      "3341/4181: https://api.crossref.org/works/10.1016/j.bios.2013.06.026\r"
     ]
    },
    {
     "name": "stderr",
     "output_type": "stream",
     "text": [
      "ERROR:artfinder.api:Error fetching https://api.crossref.org/works/10.1080/00914037.2016.1252350: 429\n"
     ]
    },
    {
     "name": "stdout",
     "output_type": "stream",
     "text": [
      "3343/4181: https://api.crossref.org/works/10.2174/092986711795843272\r"
     ]
    },
    {
     "name": "stderr",
     "output_type": "stream",
     "text": [
      "ERROR:artfinder.api:Error fetching https://api.crossref.org/works/10.1016/j.rser.2017.03.043: 429\n",
      "ERROR:artfinder.api:Error fetching https://api.crossref.org/works/10.1002/lpor.202100328: 429\n"
     ]
    },
    {
     "name": "stdout",
     "output_type": "stream",
     "text": [
      "3344/4181: https://api.crossref.org/works/10.1007/s10967-007-0230-1\r"
     ]
    },
    {
     "name": "stderr",
     "output_type": "stream",
     "text": [
      "ERROR:artfinder.api:Error fetching https://api.crossref.org/works/10.1364/JOSAB.23.002535: 429\n"
     ]
    },
    {
     "name": "stdout",
     "output_type": "stream",
     "text": [
      "3346/4181: https://api.crossref.org/works/10.1016/j.apenergy.2017.06.075\r"
     ]
    },
    {
     "name": "stderr",
     "output_type": "stream",
     "text": [
      "ERROR:artfinder.api:Error fetching https://api.crossref.org/works/10.1007/s00339-013-8086-4: 429\n",
      "ERROR:artfinder.api:Error fetching https://api.crossref.org/works/10.1016/S0022-0728(99)00154-0: 429\n",
      "ERROR:artfinder.api:Error fetching https://api.crossref.org/works/10.1002/anie.201909182: 429\n",
      "ERROR:artfinder.api:Error fetching https://api.crossref.org/works/10.1038/s41699-020-0155-x: 429\n"
     ]
    },
    {
     "name": "stdout",
     "output_type": "stream",
     "text": [
      "3350/4181: https://api.crossref.org/works/10.1103/PhysRevLett.59.2133-5\r"
     ]
    },
    {
     "name": "stderr",
     "output_type": "stream",
     "text": [
      "ERROR:artfinder.api:Error fetching https://api.crossref.org/works/10.1063/1.3331409: 429\n"
     ]
    },
    {
     "name": "stdout",
     "output_type": "stream",
     "text": [
      "3351/4181: https://api.crossref.org/works/10.1038/s41592-022-01491-6\r"
     ]
    },
    {
     "name": "stderr",
     "output_type": "stream",
     "text": [
      "ERROR:artfinder.api:Error fetching https://api.crossref.org/works/10.1038/nnano.2007.411: 429\n"
     ]
    },
    {
     "name": "stdout",
     "output_type": "stream",
     "text": [
      "3352/4181: https://api.crossref.org/works/10.1366/10-06176\r"
     ]
    },
    {
     "name": "stderr",
     "output_type": "stream",
     "text": [
      "ERROR:artfinder.api:Error fetching https://api.crossref.org/works/10.2172/1118958: 429\n",
      "ERROR:artfinder.api:Error fetching https://api.crossref.org/works/10.1016/j.bios.2007.07.015: 429\n"
     ]
    },
    {
     "name": "stdout",
     "output_type": "stream",
     "text": [
      "3353/4181: https://api.crossref.org/works/10.1070/QE1989v019n04ABEH007915\r"
     ]
    },
    {
     "name": "stderr",
     "output_type": "stream",
     "text": [
      "ERROR:artfinder.api:Error fetching https://api.crossref.org/works/10.1186/s12951-015-0154-9: 429\n",
      "ERROR:artfinder.api:Error fetching https://api.crossref.org/works/10.1088/0963-9659/5/2/006: 429\n",
      "ERROR:artfinder.api:Error fetching https://api.crossref.org/works/10.1002/jps.20999: 429\n"
     ]
    },
    {
     "name": "stdout",
     "output_type": "stream",
     "text": [
      "3354/4181: https://api.crossref.org/works/10.1007/s11051-011-0612-8\r"
     ]
    },
    {
     "name": "stderr",
     "output_type": "stream",
     "text": [
      "ERROR:artfinder.api:Error fetching https://api.crossref.org/works/10.1021/acsnano.1c03961: 429\n"
     ]
    },
    {
     "name": "stdout",
     "output_type": "stream",
     "text": [
      "3356/4181: https://api.crossref.org/works/10.1080/00958972.2014.999672\r"
     ]
    },
    {
     "name": "stderr",
     "output_type": "stream",
     "text": [
      "ERROR:artfinder.api:Error fetching https://api.crossref.org/works/10.3390/nano9050767: 429\n"
     ]
    },
    {
     "name": "stdout",
     "output_type": "stream",
     "text": [
      "3357/4181: https://api.crossref.org/works/10.1016/S1010-6030(01)00583-4\r"
     ]
    },
    {
     "name": "stderr",
     "output_type": "stream",
     "text": [
      "ERROR:artfinder.api:Error fetching https://api.crossref.org/works/10.1364/JOSAB.10.000083: 429\n",
      "ERROR:artfinder.api:Error fetching https://api.crossref.org/works/10.1364/OE.17.021191: 429\n"
     ]
    },
    {
     "name": "stdout",
     "output_type": "stream",
     "text": [
      "3358/4181: https://api.crossref.org/works/10.1016/j.progpolymsci.2013.02.001\r"
     ]
    },
    {
     "name": "stderr",
     "output_type": "stream",
     "text": [
      "ERROR:artfinder.api:Error fetching https://api.crossref.org/works/10.3390/s18051621: 429\n",
      "ERROR:artfinder.api:Error fetching https://api.crossref.org/works/10.1016/j.actbio.2019.02.031: 429\n"
     ]
    },
    {
     "name": "stdout",
     "output_type": "stream",
     "text": [
      "3359/4181: https://api.crossref.org/works/10.1063/5.0074139\r"
     ]
    },
    {
     "name": "stderr",
     "output_type": "stream",
     "text": [
      "ERROR:artfinder.api:Error fetching https://api.crossref.org/works/10.1038/ncomms9846: 429\n"
     ]
    },
    {
     "name": "stdout",
     "output_type": "stream",
     "text": [
      "3361/4181: https://api.crossref.org/works/10.1016/j.jcat.2011.12.011\r"
     ]
    },
    {
     "name": "stderr",
     "output_type": "stream",
     "text": [
      "ERROR:artfinder.api:Error fetching https://api.crossref.org/works/10.1021/jp040442n: 429\n",
      "ERROR:artfinder.api:Error fetching https://api.crossref.org/works/10.1021/ma100307m: 429\n"
     ]
    },
    {
     "name": "stdout",
     "output_type": "stream",
     "text": [
      "3362/4181: https://api.crossref.org/works/10.1002/andp.19474360704\r"
     ]
    },
    {
     "name": "stderr",
     "output_type": "stream",
     "text": [
      "ERROR:artfinder.api:Error fetching https://api.crossref.org/works/10.1039/b811392k: 429\n",
      "ERROR:artfinder.api:Error fetching https://api.crossref.org/works/10.1016/j.enconman.2014.04.009: 429\n"
     ]
    },
    {
     "name": "stdout",
     "output_type": "stream",
     "text": [
      "3373/4181: https://api.crossref.org/works/10.1002/9781118354162260-x-90002-0\r"
     ]
    },
    {
     "name": "stderr",
     "output_type": "stream",
     "text": [
      "ERROR:artfinder.api:Error fetching https://api.crossref.org/works/10.1364/OL.34.000401: 429\n",
      "ERROR:artfinder.api:Error fetching https://api.crossref.org/works/10.1016/S0925-4005(98)00326-8: 429\n",
      "ERROR:artfinder.api:Error fetching https://api.crossref.org/works/10.1016/S0924-2244(00)00021-2: 429\n"
     ]
    },
    {
     "name": "stdout",
     "output_type": "stream",
     "text": [
      "3377/4181: https://api.crossref.org/works/10.1002/smll.20040009300671-1\r"
     ]
    },
    {
     "name": "stderr",
     "output_type": "stream",
     "text": [
      "ERROR:artfinder.api:Error fetching https://api.crossref.org/works/10.1021/ar2001952: 429\n",
      "ERROR:artfinder.api:Error fetching https://api.crossref.org/works/10.1016/S0092-640X(70)80017-1: 429\n",
      "ERROR:artfinder.api:Error fetching https://api.crossref.org/works/10.7150/thno.14988: 429\n",
      "ERROR:artfinder.api:Error fetching https://api.crossref.org/works/10.1021/nn302502u: 429\n",
      "ERROR:artfinder.api:Error fetching https://api.crossref.org/works/10.1007/s11051-005-9065-2: 429\n",
      "ERROR:artfinder.api:Error fetching https://api.crossref.org/works/10.1038/s41563-023-01630-0: 429\n",
      "ERROR:artfinder.api:Error fetching https://api.crossref.org/works/10.1063/1.3142426: 429\n",
      "ERROR:artfinder.api:Error fetching https://api.crossref.org/works/10.1364/AO.46.008118: 429\n",
      "ERROR:artfinder.api:Error fetching https://api.crossref.org/works/10.3390/nano11123232: 429\n"
     ]
    },
    {
     "name": "stdout",
     "output_type": "stream",
     "text": [
      "3378/4181: https://api.crossref.org/works/10.1364/OL.30.002727\r"
     ]
    },
    {
     "name": "stderr",
     "output_type": "stream",
     "text": [
      "ERROR:artfinder.api:Error fetching https://api.crossref.org/works/10.1016/j.yrtph.2015.11.015: 429\n"
     ]
    },
    {
     "name": "stdout",
     "output_type": "stream",
     "text": [
      "3380/4181: https://api.crossref.org/works/10.1002/inf2.1209351\r"
     ]
    },
    {
     "name": "stderr",
     "output_type": "stream",
     "text": [
      "ERROR:artfinder.api:Error fetching https://api.crossref.org/works/10.1021/nl4018385: 429\n",
      "ERROR:artfinder.api:Error fetching https://api.crossref.org/works/10.1103/PhysRevLett.84.4721: 429\n"
     ]
    },
    {
     "name": "stdout",
     "output_type": "stream",
     "text": [
      "3381/4181: https://api.crossref.org/works/10.1063/1.3673849\r"
     ]
    },
    {
     "name": "stderr",
     "output_type": "stream",
     "text": [
      "ERROR:artfinder.api:Error fetching https://api.crossref.org/works/10.1021/ja0558241: 429\n"
     ]
    },
    {
     "name": "stdout",
     "output_type": "stream",
     "text": [
      "3382/4181: https://api.crossref.org/works/10.1016/j.optcom.2007.03.059\r"
     ]
    },
    {
     "name": "stderr",
     "output_type": "stream",
     "text": [
      "ERROR:artfinder.api:Error fetching https://api.crossref.org/works/10.1038/ncomms7939: 429\n",
      "ERROR:artfinder.api:Error fetching https://api.crossref.org/works/10.1186/s13045-019-0833-3: 429\n",
      "ERROR:artfinder.api:Error fetching https://api.crossref.org/works/10.1146/annurev-anchem-060908-155136: 429\n"
     ]
    },
    {
     "name": "stdout",
     "output_type": "stream",
     "text": [
      "3384/4181: https://api.crossref.org/works/10.1002/adfm.20180031000075-3\r"
     ]
    },
    {
     "name": "stderr",
     "output_type": "stream",
     "text": [
      "ERROR:artfinder.api:Error fetching https://api.crossref.org/works/10.1021/la8015063: 429\n",
      "ERROR:artfinder.api:Error fetching https://api.crossref.org/works/10.1016/S0301-0104(99)00330-4: 429\n"
     ]
    },
    {
     "name": "stdout",
     "output_type": "stream",
     "text": [
      "3386/4181: https://api.crossref.org/works/10.7150/thno.549306.01.017\r"
     ]
    },
    {
     "name": "stderr",
     "output_type": "stream",
     "text": [
      "ERROR:artfinder.api:Error fetching https://api.crossref.org/works/10.1063/1.4865553: 429\n"
     ]
    },
    {
     "name": "stdout",
     "output_type": "stream",
     "text": [
      "3387/4181: https://api.crossref.org/works/10.2147/IJN.S187153\r"
     ]
    },
    {
     "name": "stderr",
     "output_type": "stream",
     "text": [
      "ERROR:artfinder.api:Error fetching https://api.crossref.org/works/10.1364/OL.37.003603: 429\n"
     ]
    },
    {
     "name": "stdout",
     "output_type": "stream",
     "text": [
      "3388/4181: https://api.crossref.org/works/10.1016/S0169-4332(03)00100-4\r"
     ]
    },
    {
     "name": "stderr",
     "output_type": "stream",
     "text": [
      "ERROR:artfinder.api:Error fetching https://api.crossref.org/works/10.1002/adma.200701085: 429\n"
     ]
    },
    {
     "name": "stdout",
     "output_type": "stream",
     "text": [
      "3389/4181: https://api.crossref.org/works/10.1038/srep23435\r"
     ]
    },
    {
     "name": "stderr",
     "output_type": "stream",
     "text": [
      "ERROR:artfinder.api:Error fetching https://api.crossref.org/works/10.1021/ef900765h: 429\n"
     ]
    },
    {
     "name": "stdout",
     "output_type": "stream",
     "text": [
      "3390/4181: https://api.crossref.org/works/10.1016/j.mex.2020.100894\r"
     ]
    },
    {
     "name": "stderr",
     "output_type": "stream",
     "text": [
      "ERROR:artfinder.api:Error fetching https://api.crossref.org/works/10.1021/cm8008418: 429\n"
     ]
    },
    {
     "name": "stdout",
     "output_type": "stream",
     "text": [
      "3391/4181: https://api.crossref.org/works/10.1016/j.msec.2012.09.005\r"
     ]
    },
    {
     "name": "stderr",
     "output_type": "stream",
     "text": [
      "ERROR:artfinder.api:Error fetching https://api.crossref.org/works/10.1016/j.nucmedbio.2021.11.005: 429\n"
     ]
    },
    {
     "name": "stdout",
     "output_type": "stream",
     "text": [
      "3392/4181: https://api.crossref.org/works/10.1080/00029890.2007.11920481\r"
     ]
    },
    {
     "name": "stderr",
     "output_type": "stream",
     "text": [
      "ERROR:artfinder.api:Error fetching https://api.crossref.org/works/10.1038/s41578-018-0026-7: 429\n"
     ]
    },
    {
     "name": "stdout",
     "output_type": "stream",
     "text": [
      "3393/4181: https://api.crossref.org/works/10.1016/j.pmatsci.2022.101042\r"
     ]
    },
    {
     "name": "stderr",
     "output_type": "stream",
     "text": [
      "ERROR:artfinder.api:Error fetching https://api.crossref.org/works/10.1364/AO.42.006905: 429\n"
     ]
    },
    {
     "name": "stdout",
     "output_type": "stream",
     "text": [
      "3395/4181: https://api.crossref.org/works/10.1002/adma.2023123486\r"
     ]
    },
    {
     "name": "stderr",
     "output_type": "stream",
     "text": [
      "ERROR:artfinder.api:Error fetching https://api.crossref.org/works/10.1016/j.jconrel.2020.12.004: 429\n"
     ]
    },
    {
     "name": "stdout",
     "output_type": "stream",
     "text": [
      "3398/4181: https://api.crossref.org/works/10.1109/JPROC.2009.20150606\r"
     ]
    },
    {
     "name": "stderr",
     "output_type": "stream",
     "text": [
      "ERROR:artfinder.api:Error fetching https://api.crossref.org/works/10.1134/1.1710677: 429\n",
      "ERROR:artfinder.api:Error fetching https://api.crossref.org/works/10.1016/j.ccr.2023.215450: 429\n",
      "ERROR:artfinder.api:Error fetching https://api.crossref.org/works/10.1016/j.biomaterials.2015.06.012: 429\n",
      "ERROR:artfinder.api:Error fetching https://api.crossref.org/works/10.1002/advs.201500223: 429\n"
     ]
    },
    {
     "name": "stdout",
     "output_type": "stream",
     "text": [
      "3401/4181: https://api.crossref.org/works/10.1021/jp0272015A\r"
     ]
    },
    {
     "name": "stderr",
     "output_type": "stream",
     "text": [
      "ERROR:artfinder.api:Error fetching https://api.crossref.org/works/10.1039/C8NR04538K: 429\n",
      "ERROR:artfinder.api:Error fetching https://api.crossref.org/works/10.1016/j.jallcom.2017.01.132: 429\n"
     ]
    },
    {
     "name": "stdout",
     "output_type": "stream",
     "text": [
      "3402/4181: https://api.crossref.org/works/10.1103/PhysRevLett.45.201\r"
     ]
    },
    {
     "name": "stderr",
     "output_type": "stream",
     "text": [
      "ERROR:artfinder.api:Error fetching https://api.crossref.org/works/10.1063/1.338115: 429\n"
     ]
    },
    {
     "name": "stdout",
     "output_type": "stream",
     "text": [
      "3404/4181: https://api.crossref.org/works/10.1186/s11671-018-2457-x09.02.008\r"
     ]
    },
    {
     "name": "stderr",
     "output_type": "stream",
     "text": [
      "ERROR:artfinder.api:Error fetching https://api.crossref.org/works/10.1016/j.cpc.2009.07.010: 429\n",
      "ERROR:artfinder.api:Error fetching https://api.crossref.org/works/10.2147/IJN.S130455: 429\n",
      "ERROR:artfinder.api:Error fetching https://api.crossref.org/works/10.1021/am200428v: 429\n",
      "ERROR:artfinder.api:Error fetching https://api.crossref.org/works/10.1128/AAC.48.6.2173-2178.2004: 429\n"
     ]
    },
    {
     "name": "stdout",
     "output_type": "stream",
     "text": [
      "3405/4181: https://api.crossref.org/works/10.1016/j.cplett.2003.10.004\r"
     ]
    },
    {
     "name": "stderr",
     "output_type": "stream",
     "text": [
      "ERROR:artfinder.api:Error fetching https://api.crossref.org/works/10.1016/j.ceramint.2012.03.065: 429\n"
     ]
    },
    {
     "name": "stdout",
     "output_type": "stream",
     "text": [
      "3406/4181: https://api.crossref.org/works/10.1143/JJAP.35.L781\r"
     ]
    },
    {
     "name": "stderr",
     "output_type": "stream",
     "text": [
      "ERROR:artfinder.api:Error fetching https://api.crossref.org/works/10.1063/1.1555693: 429\n"
     ]
    },
    {
     "name": "stdout",
     "output_type": "stream",
     "text": [
      "3408/4181: https://api.crossref.org/works/10.1007/s00259-002-1038-499910)215:2<871::AID-PSSB871>3.0.CO;2-9\r"
     ]
    },
    {
     "name": "stderr",
     "output_type": "stream",
     "text": [
      "ERROR:artfinder.api:Error fetching https://api.crossref.org/works/10.1016/j.sna.2012.08.041: 429\n",
      "ERROR:artfinder.api:Error fetching https://api.crossref.org/works/10.1103/PhysRevE.59.6742: 429\n"
     ]
    },
    {
     "name": "stdout",
     "output_type": "stream",
     "text": [
      "3410/4181: https://api.crossref.org/works/10.2217/nnm-2016-0228\r"
     ]
    },
    {
     "name": "stderr",
     "output_type": "stream",
     "text": [
      "ERROR:artfinder.api:Error fetching https://api.crossref.org/works/10.1016/S1359-6454(01)00287-7: 429\n"
     ]
    },
    {
     "name": "stdout",
     "output_type": "stream",
     "text": [
      "3411/4181: https://api.crossref.org/works/10.1016/S0169-4332(02)00936-4\r"
     ]
    },
    {
     "name": "stderr",
     "output_type": "stream",
     "text": [
      "ERROR:artfinder.api:Error fetching https://api.crossref.org/works/10.1063/1.2836252: 429\n"
     ]
    },
    {
     "name": "stdout",
     "output_type": "stream",
     "text": [
      "3412/4181: https://api.crossref.org/works/10.1021/jp963192m\r"
     ]
    },
    {
     "name": "stderr",
     "output_type": "stream",
     "text": [
      "ERROR:artfinder.api:Error fetching https://api.crossref.org/works/10.1038/nnano.2013.100: 429\n"
     ]
    },
    {
     "name": "stdout",
     "output_type": "stream",
     "text": [
      "3417/4181: https://api.crossref.org/works/10.1016/S0030-4018(98)00240-5\r"
     ]
    },
    {
     "name": "stderr",
     "output_type": "stream",
     "text": [
      "ERROR:artfinder.api:Error fetching https://api.crossref.org/works/10.1063/1.1725879: 429\n",
      "ERROR:artfinder.api:Error fetching https://api.crossref.org/works/10.1021/jp8010074: 429\n",
      "ERROR:artfinder.api:Error fetching https://api.crossref.org/works/10.1016/0883-2897(87)90039-0: 429\n",
      "ERROR:artfinder.api:Error fetching https://api.crossref.org/works/10.1126/science.272.5270.1924: 429\n"
     ]
    },
    {
     "name": "stdout",
     "output_type": "stream",
     "text": [
      "3418/4181: https://api.crossref.org/works/10.1021/ja984446f\r"
     ]
    },
    {
     "name": "stderr",
     "output_type": "stream",
     "text": [
      "ERROR:artfinder.api:Error fetching https://api.crossref.org/works/10.1007/978-3-540-39848-6_20: 429\n"
     ]
    },
    {
     "name": "stdout",
     "output_type": "stream",
     "text": [
      "3419/4181: https://api.crossref.org/works/10.1021/acsami.7b03816\r"
     ]
    },
    {
     "name": "stderr",
     "output_type": "stream",
     "text": [
      "ERROR:artfinder.api:Error fetching https://api.crossref.org/works/10.1117/12.548821: 429\n",
      "ERROR:artfinder.api:Error fetching https://api.crossref.org/works/10.1016/S0969-8051(99)00079-7: 429\n"
     ]
    },
    {
     "name": "stdout",
     "output_type": "stream",
     "text": [
      "3420/4181: https://api.crossref.org/works/10.1524/zkri.1934.88.1.150\r"
     ]
    },
    {
     "name": "stderr",
     "output_type": "stream",
     "text": [
      "ERROR:artfinder.api:Error fetching https://api.crossref.org/works/10.1088/2040-8978/15/11/114002: 429\n",
      "ERROR:artfinder.api:Error fetching https://api.crossref.org/works/10.1016/0030-4018(93)90610-H: 429\n",
      "ERROR:artfinder.api:Error fetching https://api.crossref.org/works/10.1103/PhysRevB.71.115409: 429\n"
     ]
    },
    {
     "name": "stdout",
     "output_type": "stream",
     "text": [
      "3424/4181: https://api.crossref.org/works/10.1016/j.snb.2008.06.011\r"
     ]
    },
    {
     "name": "stderr",
     "output_type": "stream",
     "text": [
      "ERROR:artfinder.api:Error fetching https://api.crossref.org/works/10.1016/j.apsusc.2015.01.108: 429\n",
      "ERROR:artfinder.api:Error fetching https://api.crossref.org/works/10.1117/1.JBO.20.7.076017: 429\n"
     ]
    },
    {
     "name": "stdout",
     "output_type": "stream",
     "text": [
      "3445/4181: https://api.crossref.org/works/10.1002/adma.2011005431396-604.007\r"
     ]
    },
    {
     "name": "stderr",
     "output_type": "stream",
     "text": [
      "ERROR:artfinder.api:Error fetching https://api.crossref.org/works/10.1021/acs.langmuir.2c01074: 429\n",
      "ERROR:artfinder.api:Error fetching https://api.crossref.org/works/10.1007/s12678-011-0064-z: 429\n",
      "ERROR:artfinder.api:Error fetching https://api.crossref.org/works/10.1002/pssb.200541131: 429\n",
      "ERROR:artfinder.api:Error fetching https://api.crossref.org/works/10.1016/j.rser.2010.12.018: 429\n",
      "ERROR:artfinder.api:Error fetching https://api.crossref.org/works/10.1103/PhysRevB.78.205405: 429\n",
      "ERROR:artfinder.api:Error fetching https://api.crossref.org/works/10.1021/nl0342895: 429\n",
      "ERROR:artfinder.api:Error fetching https://api.crossref.org/works/10.1073/pnas.2232479100: 429\n",
      "ERROR:artfinder.api:Error fetching https://api.crossref.org/works/10.1016/j.materresbull.2017.03.031: 429\n",
      "ERROR:artfinder.api:Error fetching https://api.crossref.org/works/10.1021/acsami.0c21198: 429\n",
      "ERROR:artfinder.api:Error fetching https://api.crossref.org/works/10.1021/acsphotonics.7b01062: 429\n",
      "ERROR:artfinder.api:Error fetching https://api.crossref.org/works/10.1364/OL.35.003408: 429\n",
      "ERROR:artfinder.api:Error fetching https://api.crossref.org/works/10.1038/ncomms3381: 429\n",
      "ERROR:artfinder.api:Error fetching https://api.crossref.org/works/10.1039/C8NR03962C: 429\n",
      "ERROR:artfinder.api:Error fetching https://api.crossref.org/works/10.1088/0022-3727/37/20/022: 429\n",
      "ERROR:artfinder.api:Error fetching https://api.crossref.org/works/10.1007/BF00324265: 429\n"
     ]
    },
    {
     "name": "stdout",
     "output_type": "stream",
     "text": [
      "3447/4181: https://api.crossref.org/works/10.1364/OL.29.002378108\r"
     ]
    },
    {
     "name": "stderr",
     "output_type": "stream",
     "text": [
      "ERROR:artfinder.api:Error fetching https://api.crossref.org/works/10.1039/C1JM13692E: 429\n",
      "ERROR:artfinder.api:Error fetching https://api.crossref.org/works/10.3390/polym3031377: 429\n"
     ]
    },
    {
     "name": "stdout",
     "output_type": "stream",
     "text": [
      "3448/4181: https://api.crossref.org/works/10.1016/S0013-4686(03)00270-6\r"
     ]
    },
    {
     "name": "stderr",
     "output_type": "stream",
     "text": [
      "ERROR:artfinder.api:Error fetching https://api.crossref.org/works/10.1016/j.brachy.2011.04.002: 429\n"
     ]
    },
    {
     "name": "stdout",
     "output_type": "stream",
     "text": [
      "3450/4181: https://api.crossref.org/works/10.1364/AO.36.008153699\r"
     ]
    },
    {
     "name": "stderr",
     "output_type": "stream",
     "text": [
      "ERROR:artfinder.api:Error fetching https://api.crossref.org/works/10.1016/j.solidstatesciences.2014.01.010: 429\n",
      "ERROR:artfinder.api:Error fetching https://api.crossref.org/works/10.1038/338596a0: 429\n",
      "ERROR:artfinder.api:Error fetching https://api.crossref.org/works/10.1002/adfm.202003338: 429\n"
     ]
    },
    {
     "name": "stdout",
     "output_type": "stream",
     "text": [
      "3451/4181: https://api.crossref.org/works/10.1021/jp047134\r"
     ]
    },
    {
     "name": "stderr",
     "output_type": "stream",
     "text": [
      "ERROR:artfinder.api:Error fetching https://api.crossref.org/works/10.1002/cyto.a.22342: 429\n"
     ]
    },
    {
     "name": "stdout",
     "output_type": "stream",
     "text": [
      "3453/4181: https://api.crossref.org/works/10.1039/C5RA20861K021.111504\r"
     ]
    },
    {
     "name": "stderr",
     "output_type": "stream",
     "text": [
      "ERROR:artfinder.api:Error fetching https://api.crossref.org/works/10.1016/0165-1633(86)90076-6: 429\n"
     ]
    },
    {
     "name": "stdout",
     "output_type": "stream",
     "text": [
      "3455/4181: https://api.crossref.org/works/10.1134/S0026893317060140\r"
     ]
    },
    {
     "name": "stderr",
     "output_type": "stream",
     "text": [
      "ERROR:artfinder.api:Error fetching https://api.crossref.org/works/10.1016/j.apsusc.2011.11.072: 429\n"
     ]
    },
    {
     "name": "stdout",
     "output_type": "stream",
     "text": [
      "3457/4181: https://api.crossref.org/works/10.1080/1082607960801510703\r"
     ]
    },
    {
     "name": "stderr",
     "output_type": "stream",
     "text": [
      "ERROR:artfinder.api:Error fetching https://api.crossref.org/works/10.1115/1.3197562: 429\n",
      "ERROR:artfinder.api:Error fetching https://api.crossref.org/works/10.1021/ja0296935: 429\n",
      "ERROR:artfinder.api:Error fetching https://api.crossref.org/works/10.1007/978-3-642-54668-6_6: 429\n"
     ]
    },
    {
     "name": "stdout",
     "output_type": "stream",
     "text": [
      "3458/4181: https://api.crossref.org/works/10.1021/acsami.1c01089\r"
     ]
    },
    {
     "name": "stderr",
     "output_type": "stream",
     "text": [
      "ERROR:artfinder.api:Error fetching https://api.crossref.org/works/10.1016/j.apsusc.2020.145661: 429\n",
      "ERROR:artfinder.api:Error fetching https://api.crossref.org/works/10.1016/B978-0-444-86165-8.50006-2: 429\n"
     ]
    },
    {
     "name": "stdout",
     "output_type": "stream",
     "text": [
      "3460/4181: https://api.crossref.org/works/10.1016/j.jallcom.2022.165494\r"
     ]
    },
    {
     "name": "stderr",
     "output_type": "stream",
     "text": [
      "ERROR:artfinder.api:Error fetching https://api.crossref.org/works/10.3390/polym14061259: 429\n"
     ]
    },
    {
     "name": "stdout",
     "output_type": "stream",
     "text": [
      "3461/4181: https://api.crossref.org/works/10.1063/1.2222070\r"
     ]
    },
    {
     "name": "stderr",
     "output_type": "stream",
     "text": [
      "ERROR:artfinder.api:Error fetching https://api.crossref.org/works/10.1002/jbio.201700225: 429\n"
     ]
    },
    {
     "name": "stdout",
     "output_type": "stream",
     "text": [
      "3462/4181: https://api.crossref.org/works/10.1016/j.ijhydene.2016.05.181\r"
     ]
    },
    {
     "name": "stderr",
     "output_type": "stream",
     "text": [
      "ERROR:artfinder.api:Error fetching https://api.crossref.org/works/10.1103/PhysRevLett.106.196405: 429\n",
      "ERROR:artfinder.api:Error fetching https://api.crossref.org/works/10.1021/jp9046648: 429\n"
     ]
    },
    {
     "name": "stdout",
     "output_type": "stream",
     "text": [
      "3463/4181: https://api.crossref.org/works/10.1039/C8CS00699G\r"
     ]
    },
    {
     "name": "stderr",
     "output_type": "stream",
     "text": [
      "ERROR:artfinder.api:Error fetching https://api.crossref.org/works/10.2967/jnumed.112.108043: 429\n",
      "ERROR:artfinder.api:Error fetching https://api.crossref.org/works/10.18632/oncotarget.16625: 429\n"
     ]
    },
    {
     "name": "stdout",
     "output_type": "stream",
     "text": [
      "3464/4181: https://api.crossref.org/works/10.1103/PhysRevB.77.075133\r"
     ]
    },
    {
     "name": "stderr",
     "output_type": "stream",
     "text": [
      "ERROR:artfinder.api:Error fetching https://api.crossref.org/works/10.1007/s11837-011-0063-9: 429\n"
     ]
    },
    {
     "name": "stdout",
     "output_type": "stream",
     "text": [
      "3465/4181: https://api.crossref.org/works/10.1007/BF02256427\r"
     ]
    },
    {
     "name": "stderr",
     "output_type": "stream",
     "text": [
      "ERROR:artfinder.api:Error fetching https://api.crossref.org/works/10.1016/j.yexcr.2004.12.021: 429\n"
     ]
    },
    {
     "name": "stdout",
     "output_type": "stream",
     "text": [
      "3466/4181: https://api.crossref.org/works/10.1021/acs.nanolett.5b00930\r"
     ]
    },
    {
     "name": "stderr",
     "output_type": "stream",
     "text": [
      "ERROR:artfinder.api:Error fetching https://api.crossref.org/works/10.1016/S0925-4005(03)00157-6: 429\n",
      "ERROR:artfinder.api:Error fetching https://api.crossref.org/works/10.1023/A:1001963914433: 429\n"
     ]
    },
    {
     "name": "stdout",
     "output_type": "stream",
     "text": [
      "3471/4181: https://api.crossref.org/works/10.1063/1.1511801009235442-5\r"
     ]
    },
    {
     "name": "stderr",
     "output_type": "stream",
     "text": [
      "ERROR:artfinder.api:Error fetching https://api.crossref.org/works/10.1021/la9900425: 429\n"
     ]
    },
    {
     "name": "stdout",
     "output_type": "stream",
     "text": [
      "3478/4181: https://api.crossref.org/works/10.1039/C2CP90132C0595.1755022\r"
     ]
    },
    {
     "name": "stderr",
     "output_type": "stream",
     "text": [
      "ERROR:artfinder.api:Error fetching https://api.crossref.org/works/10.1103/RevModPhys.90.021001: 429\n",
      "ERROR:artfinder.api:Error fetching https://api.crossref.org/works/10.1063/1.2352723: 429\n"
     ]
    },
    {
     "name": "stdout",
     "output_type": "stream",
     "text": [
      "3479/4181: https://api.crossref.org/works/10.1098/rsta.2009.0273\r"
     ]
    },
    {
     "name": "stderr",
     "output_type": "stream",
     "text": [
      "ERROR:artfinder.api:Error fetching https://api.crossref.org/works/10.1016/j.addr.2022.114538: 429\n"
     ]
    },
    {
     "name": "stdout",
     "output_type": "stream",
     "text": [
      "3482/4181: https://api.crossref.org/works/10.1021/acsnano.9b04610572809\r"
     ]
    },
    {
     "name": "stderr",
     "output_type": "stream",
     "text": [
      "ERROR:artfinder.api:Error fetching https://api.crossref.org/works/10.1038/srep25380: 429\n",
      "ERROR:artfinder.api:Error fetching https://api.crossref.org/works/10.1021/nl303445u: 429\n",
      "ERROR:artfinder.api:Error fetching https://api.crossref.org/works/10.1016/S0040-6031(02)00523-3: 429\n",
      "ERROR:artfinder.api:Error fetching https://api.crossref.org/works/10.1016/j.apsusc.2018.11.111: 429\n",
      "ERROR:artfinder.api:Error fetching https://api.crossref.org/works/10.1517/17425250902873796: 429\n",
      "ERROR:artfinder.api:Error fetching https://api.crossref.org/works/10.1002/anie.202205585: 429\n",
      "ERROR:artfinder.api:Error fetching https://api.crossref.org/works/10.1016/j.jelechem.2008.01.029: 429\n",
      "ERROR:artfinder.api:Error fetching https://api.crossref.org/works/10.1016/j.snb.2005.04.007: 429\n",
      "ERROR:artfinder.api:Error fetching https://api.crossref.org/works/10.1007/s10967-015-4108-3: 429\n"
     ]
    },
    {
     "name": "stdout",
     "output_type": "stream",
     "text": [
      "3484/4181: https://api.crossref.org/works/10.1126/science.270.5235.467\r"
     ]
    },
    {
     "name": "stderr",
     "output_type": "stream",
     "text": [
      "ERROR:artfinder.api:Error fetching https://api.crossref.org/works/10.1063/1.4875019: 429\n",
      "ERROR:artfinder.api:Error fetching https://api.crossref.org/works/10.1038/35044012: 429\n"
     ]
    },
    {
     "name": "stdout",
     "output_type": "stream",
     "text": [
      "3485/4181: https://api.crossref.org/works/10.1016/j.addr.2014.06.007\r"
     ]
    },
    {
     "name": "stderr",
     "output_type": "stream",
     "text": [
      "ERROR:artfinder.api:Error fetching https://api.crossref.org/works/10.1016/j.jfoodeng.2015.02.005: 429\n"
     ]
    },
    {
     "name": "stdout",
     "output_type": "stream",
     "text": [
      "3486/4181: https://api.crossref.org/works/10.1364/OL.22.001403\r"
     ]
    },
    {
     "name": "stderr",
     "output_type": "stream",
     "text": [
      "ERROR:artfinder.api:Error fetching https://api.crossref.org/works/10.1088/0957-4484/14/5/305: 429\n",
      "ERROR:artfinder.api:Error fetching https://api.crossref.org/works/10.1016/j.heliyon.2022.e09800: 429\n",
      "ERROR:artfinder.api:Error fetching https://api.crossref.org/works/10.1016/S0009-2614(02)01656-1: 429\n"
     ]
    },
    {
     "name": "stdout",
     "output_type": "stream",
     "text": [
      "3488/4181: https://api.crossref.org/works/10.1200/JCO.1998.16.4.1574\r"
     ]
    },
    {
     "name": "stderr",
     "output_type": "stream",
     "text": [
      "ERROR:artfinder.api:Error fetching https://api.crossref.org/works/10.1088/1742-6596/59/1/161: 429\n",
      "ERROR:artfinder.api:Error fetching https://api.crossref.org/works/10.1039/C7RA10732C: 429\n"
     ]
    },
    {
     "name": "stdout",
     "output_type": "stream",
     "text": [
      "3490/4181: https://api.crossref.org/works/10.1038/s41560-021-00927-1\r"
     ]
    },
    {
     "name": "stderr",
     "output_type": "stream",
     "text": [
      "ERROR:artfinder.api:Error fetching https://api.crossref.org/works/10.1007/s00418-003-0566-8: 429\n"
     ]
    },
    {
     "name": "stdout",
     "output_type": "stream",
     "text": [
      "3491/4181: https://api.crossref.org/works/10.1039/C9NH00332K\r"
     ]
    },
    {
     "name": "stderr",
     "output_type": "stream",
     "text": [
      "ERROR:artfinder.api:Error fetching https://api.crossref.org/works/10.1021/nl025538c: 429\n"
     ]
    },
    {
     "name": "stdout",
     "output_type": "stream",
     "text": [
      "3492/4181: https://api.crossref.org/works/10.1038/nnano.2008.34\r"
     ]
    },
    {
     "name": "stderr",
     "output_type": "stream",
     "text": [
      "ERROR:artfinder.api:Error fetching https://api.crossref.org/works/10.1021/acs.nanolett.8b04245: 429\n",
      "ERROR:artfinder.api:Error fetching https://api.crossref.org/works/10.1021/acsomega.3c01025: 429\n"
     ]
    },
    {
     "name": "stdout",
     "output_type": "stream",
     "text": [
      "3493/4181: https://api.crossref.org/works/10.1016/S0022-2860(96)09467-7\r"
     ]
    },
    {
     "name": "stderr",
     "output_type": "stream",
     "text": [
      "ERROR:artfinder.api:Error fetching https://api.crossref.org/works/10.1021/cm2032866: 429\n"
     ]
    },
    {
     "name": "stdout",
     "output_type": "stream",
     "text": [
      "3494/4181: https://api.crossref.org/works/10.1103/PhysRevB.101.245430\r"
     ]
    },
    {
     "name": "stderr",
     "output_type": "stream",
     "text": [
      "ERROR:artfinder.api:Error fetching https://api.crossref.org/works/10.1039/C9NR05371A: 429\n"
     ]
    },
    {
     "name": "stdout",
     "output_type": "stream",
     "text": [
      "3495/4181: https://api.crossref.org/works/10.1002/pssr.v7.6\r"
     ]
    },
    {
     "name": "stderr",
     "output_type": "stream",
     "text": [
      "ERROR:artfinder.api:Error fetching https://api.crossref.org/works/10.2147/IJN.S203259: 429\n"
     ]
    },
    {
     "name": "stdout",
     "output_type": "stream",
     "text": [
      "3496/4181: https://api.crossref.org/works/10.1016/j.snb.2003.10.033\r"
     ]
    },
    {
     "name": "stderr",
     "output_type": "stream",
     "text": [
      "ERROR:artfinder.api:Error fetching https://api.crossref.org/works/10.1038/35570: 429\n"
     ]
    },
    {
     "name": "stdout",
     "output_type": "stream",
     "text": [
      "3499/4181: https://api.crossref.org/works/10.1098/rspa.1936.0051\r"
     ]
    },
    {
     "name": "stderr",
     "output_type": "stream",
     "text": [
      "ERROR:artfinder.api:Error fetching https://api.crossref.org/works/10.1021/acs.nanolett.7b01518: 429\n"
     ]
    },
    {
     "name": "stdout",
     "output_type": "stream",
     "text": [
      "3501/4181: https://api.crossref.org/works/10.1038/srep083563-01447-y\r"
     ]
    },
    {
     "name": "stderr",
     "output_type": "stream",
     "text": [
      "ERROR:artfinder.api:Error fetching https://api.crossref.org/works/10.1134/S1063776108070017: 429\n"
     ]
    },
    {
     "name": "stdout",
     "output_type": "stream",
     "text": [
      "3502/4181: https://api.crossref.org/works/10.1007/s11694-008-9064-y\r"
     ]
    },
    {
     "name": "stderr",
     "output_type": "stream",
     "text": [
      "ERROR:artfinder.api:Error fetching https://api.crossref.org/works/10.1186/s11671-021-03632-w: 429\n",
      "ERROR:artfinder.api:Error fetching https://api.crossref.org/works/10.1016/j.bios.2013.06.026: 429\n",
      "ERROR:artfinder.api:Error fetching https://api.crossref.org/works/10.13189/cor.2016.040302: 429\n"
     ]
    },
    {
     "name": "stdout",
     "output_type": "stream",
     "text": [
      "3503/4181: https://api.crossref.org/works/10.1259/bjr.20210593\r"
     ]
    },
    {
     "name": "stderr",
     "output_type": "stream",
     "text": [
      "ERROR:artfinder.api:Error fetching https://api.crossref.org/works/10.1002/wnan.1571: 429\n"
     ]
    },
    {
     "name": "stdout",
     "output_type": "stream",
     "text": [
      "3505/4181: https://api.crossref.org/works/10.1007/s00339-008-4484-47-5\r"
     ]
    },
    {
     "name": "stderr",
     "output_type": "stream",
     "text": [
      "ERROR:artfinder.api:Error fetching https://api.crossref.org/works/10.1007/s10967-007-0230-1: 429\n",
      "ERROR:artfinder.api:Error fetching https://api.crossref.org/works/10.2174/092986711795843272: 429\n"
     ]
    },
    {
     "name": "stdout",
     "output_type": "stream",
     "text": [
      "3506/4181: https://api.crossref.org/works/10.1016/j.saa.2022.121349\r"
     ]
    },
    {
     "name": "stderr",
     "output_type": "stream",
     "text": [
      "ERROR:artfinder.api:Error fetching https://api.crossref.org/works/10.4155/fmc-2016-0022: 429\n"
     ]
    },
    {
     "name": "stdout",
     "output_type": "stream",
     "text": [
      "3508/4181: https://api.crossref.org/works/10.1103/PhysRevLett.96.123904\r"
     ]
    },
    {
     "name": "stderr",
     "output_type": "stream",
     "text": [
      "ERROR:artfinder.api:Error fetching https://api.crossref.org/works/10.1016/j.apenergy.2017.06.075: 429\n",
      "ERROR:artfinder.api:Error fetching https://api.crossref.org/works/10.1016/S1748-0132(07)70113-5: 429\n",
      "ERROR:artfinder.api:Error fetching https://api.crossref.org/works/10.1021/ac0706527: 429\n"
     ]
    },
    {
     "name": "stdout",
     "output_type": "stream",
     "text": [
      "3509/4181: https://api.crossref.org/works/10.1038/nphoton.2009.111\r"
     ]
    },
    {
     "name": "stderr",
     "output_type": "stream",
     "text": [
      "ERROR:artfinder.api:Error fetching https://api.crossref.org/works/10.1038/s41467-020-20276-z: 429\n"
     ]
    },
    {
     "name": "stdout",
     "output_type": "stream",
     "text": [
      "3510/4181: https://api.crossref.org/works/10.1016/S1369-7021(12)70017-2\r"
     ]
    },
    {
     "name": "stderr",
     "output_type": "stream",
     "text": [
      "ERROR:artfinder.api:Error fetching https://api.crossref.org/works/10.1103/PhysRevLett.59.213: 429\n",
      "ERROR:artfinder.api:Error fetching https://api.crossref.org/works/10.1038/s41592-022-01491-6: 429\n"
     ]
    },
    {
     "name": "stdout",
     "output_type": "stream",
     "text": [
      "3512/4181: https://api.crossref.org/works/10.1364/OE.23.008995\r"
     ]
    },
    {
     "name": "stderr",
     "output_type": "stream",
     "text": [
      "ERROR:artfinder.api:Error fetching https://api.crossref.org/works/10.1366/10-06176: 429\n",
      "ERROR:artfinder.api:Error fetching https://api.crossref.org/works/10.1070/QE1989v019n04ABEH007915: 429\n"
     ]
    },
    {
     "name": "stdout",
     "output_type": "stream",
     "text": [
      "3514/4181: https://api.crossref.org/works/10.1002/adma.202200756\r"
     ]
    },
    {
     "name": "stderr",
     "output_type": "stream",
     "text": [
      "ERROR:artfinder.api:Error fetching https://api.crossref.org/works/10.1007/s11051-011-0612-8: 429\n"
     ]
    },
    {
     "name": "stdout",
     "output_type": "stream",
     "text": [
      "3516/4181: https://api.crossref.org/works/10.1021/nn800596w(75)90003-8\r"
     ]
    },
    {
     "name": "stderr",
     "output_type": "stream",
     "text": [
      "ERROR:artfinder.api:Error fetching https://api.crossref.org/works/10.1063/1.346408: 429\n",
      "ERROR:artfinder.api:Error fetching https://api.crossref.org/works/10.1080/00958972.2014.999672: 429\n"
     ]
    },
    {
     "name": "stdout",
     "output_type": "stream",
     "text": [
      "3521/4181: https://api.crossref.org/works/10.1002/elan.20140044085.2013\r"
     ]
    },
    {
     "name": "stderr",
     "output_type": "stream",
     "text": [
      "ERROR:artfinder.api:Error fetching https://api.crossref.org/works/10.1515/ntrev-2016-0047: 429\n",
      "ERROR:artfinder.api:Error fetching https://api.crossref.org/works/10.1016/S1010-6030(01)00583-4: 429\n",
      "ERROR:artfinder.api:Error fetching https://api.crossref.org/works/10.1016/j.progpolymsci.2013.02.001: 429\n",
      "ERROR:artfinder.api:Error fetching https://api.crossref.org/works/10.1063/5.0074139: 429\n"
     ]
    },
    {
     "name": "stdout",
     "output_type": "stream",
     "text": [
      "3522/4181: https://api.crossref.org/works/10.1002/jmr.660\r"
     ]
    },
    {
     "name": "stderr",
     "output_type": "stream",
     "text": [
      "ERROR:artfinder.api:Error fetching https://api.crossref.org/works/10.1016/j.jcat.2011.12.011: 429\n",
      "ERROR:artfinder.api:Error fetching https://api.crossref.org/works/10.1016/j.chemosphere.2018.08.114: 429\n"
     ]
    },
    {
     "name": "stdout",
     "output_type": "stream",
     "text": [
      "3523/4181: https://api.crossref.org/works/10.1039/C8NR07730D\r"
     ]
    },
    {
     "name": "stderr",
     "output_type": "stream",
     "text": [
      "ERROR:artfinder.api:Error fetching https://api.crossref.org/works/10.1002/andp.19474360704: 429\n"
     ]
    },
    {
     "name": "stdout",
     "output_type": "stream",
     "text": [
      "3524/4181: https://api.crossref.org/works/10.1021/jp4065505\r"
     ]
    },
    {
     "name": "stderr",
     "output_type": "stream",
     "text": [
      "ERROR:artfinder.api:Error fetching https://api.crossref.org/works/10.1002/adma.202008484: 429\n",
      "ERROR:artfinder.api:Error fetching https://api.crossref.org/works/10.1007/s003390051357: 429\n"
     ]
    },
    {
     "name": "stdout",
     "output_type": "stream",
     "text": [
      "3525/4181: https://api.crossref.org/works/10.1080/17434440.2020.1741348\r"
     ]
    },
    {
     "name": "stderr",
     "output_type": "stream",
     "text": [
      "ERROR:artfinder.api:Error fetching https://api.crossref.org/works/10.1016/B978-0-443-18786-5.00002-0: 429\n"
     ]
    },
    {
     "name": "stdout",
     "output_type": "stream",
     "text": [
      "3528/4181: https://api.crossref.org/works/10.1002/adma.20110495107\r"
     ]
    },
    {
     "name": "stderr",
     "output_type": "stream",
     "text": [
      "ERROR:artfinder.api:Error fetching https://api.crossref.org/works/10.3390/biology11010138: 429\n",
      "ERROR:artfinder.api:Error fetching https://api.crossref.org/works/10.1021/nl0516862: 429\n"
     ]
    },
    {
     "name": "stdout",
     "output_type": "stream",
     "text": [
      "3550/4181: https://api.crossref.org/works/10.1002/advs.2022062361-93.0429538514871\r"
     ]
    },
    {
     "name": "stderr",
     "output_type": "stream",
     "text": [
      "ERROR:artfinder.api:Error fetching https://api.crossref.org/works/10.1038/s41592-021-01260-x: 429\n",
      "ERROR:artfinder.api:Error fetching https://api.crossref.org/works/10.1002/inf2.12093: 429\n",
      "ERROR:artfinder.api:Error fetching https://api.crossref.org/works/10.1016/S0925-4005(03)00075-3: 429\n",
      "ERROR:artfinder.api:Error fetching https://api.crossref.org/works/10.1002/smll.200400093: 429\n",
      "ERROR:artfinder.api:Error fetching https://api.crossref.org/works/10.1016/j.optcom.2007.03.059: 429\n",
      "ERROR:artfinder.api:Error fetching https://api.crossref.org/works/10.1063/1.1778218: 429\n",
      "ERROR:artfinder.api:Error fetching https://api.crossref.org/works/10.1155/2019/5080267: 429\n",
      "ERROR:artfinder.api:Error fetching https://api.crossref.org/works/10.1063/1.3673849: 429\n",
      "ERROR:artfinder.api:Error fetching https://api.crossref.org/works/10.1063/1.1502016: 429\n",
      "ERROR:artfinder.api:Error fetching https://api.crossref.org/works/10.1364/OL.30.002727: 429\n",
      "ERROR:artfinder.api:Error fetching https://api.crossref.org/works/10.1364/OE.14.010851: 429\n",
      "ERROR:artfinder.api:Error fetching https://api.crossref.org/works/10.1016/S0009-2614(02)00671-1: 429\n",
      "ERROR:artfinder.api:Error fetching https://api.crossref.org/works/10.1177/0748233719888077: 429\n"
     ]
    },
    {
     "name": "stdout",
     "output_type": "stream",
     "text": [
      "3552/4181: https://api.crossref.org/works/10.1070/QE2009v039n03ABEH013979\r"
     ]
    },
    {
     "name": "stderr",
     "output_type": "stream",
     "text": [
      "ERROR:artfinder.api:Error fetching https://api.crossref.org/works/10.1002/adfm.201800310: 429\n",
      "ERROR:artfinder.api:Error fetching https://api.crossref.org/works/10.1016/j.nimb.2016.01.017: 429\n",
      "ERROR:artfinder.api:Error fetching https://api.crossref.org/works/10.7150/thno.54930: 429\n"
     ]
    },
    {
     "name": "stdout",
     "output_type": "stream",
     "text": [
      "3553/4181: https://api.crossref.org/works/10.1364/OE.24.008266\r"
     ]
    },
    {
     "name": "stderr",
     "output_type": "stream",
     "text": [
      "ERROR:artfinder.api:Error fetching https://api.crossref.org/works/10.1016/0925-4005(95)01692-9: 429\n",
      "ERROR:artfinder.api:Error fetching https://api.crossref.org/works/10.1002/9781118354162: 429\n"
     ]
    },
    {
     "name": "stdout",
     "output_type": "stream",
     "text": [
      "3554/4181: https://api.crossref.org/works/10.1016/j.saa.2019.117931\r"
     ]
    },
    {
     "name": "stderr",
     "output_type": "stream",
     "text": [
      "ERROR:artfinder.api:Error fetching https://api.crossref.org/works/10.2147/IJN.S187153: 429\n"
     ]
    },
    {
     "name": "stdout",
     "output_type": "stream",
     "text": [
      "3555/4181: https://api.crossref.org/works/10.1016/j.bios.2021.112971\r"
     ]
    },
    {
     "name": "stderr",
     "output_type": "stream",
     "text": [
      "ERROR:artfinder.api:Error fetching https://api.crossref.org/works/10.1038/srep23435: 429\n",
      "ERROR:artfinder.api:Error fetching https://api.crossref.org/works/10.1016/S0169-4332(03)00100-4: 429\n",
      "ERROR:artfinder.api:Error fetching https://api.crossref.org/works/10.1016/j.mex.2020.100894: 429\n"
     ]
    },
    {
     "name": "stdout",
     "output_type": "stream",
     "text": [
      "3557/4181: https://api.crossref.org/works/10.1038/nprot.2007.41.002\r"
     ]
    },
    {
     "name": "stderr",
     "output_type": "stream",
     "text": [
      "ERROR:artfinder.api:Error fetching https://api.crossref.org/works/10.1016/j.msec.2012.09.005: 429\n"
     ]
    },
    {
     "name": "stdout",
     "output_type": "stream",
     "text": [
      "3560/4181: https://api.crossref.org/works/10.1158/1078-0432.CCR-16-12972\r"
     ]
    },
    {
     "name": "stderr",
     "output_type": "stream",
     "text": [
      "ERROR:artfinder.api:Error fetching https://api.crossref.org/works/10.1080/00029890.2007.11920481: 429\n"
     ]
    },
    {
     "name": "stdout",
     "output_type": "stream",
     "text": [
      "3561/4181: https://api.crossref.org/works/10.1016/j.bios.2007.07.001\r"
     ]
    },
    {
     "name": "stderr",
     "output_type": "stream",
     "text": [
      "ERROR:artfinder.api:Error fetching https://api.crossref.org/works/10.1103/PhysRevB.45.586: 429\n"
     ]
    },
    {
     "name": "stdout",
     "output_type": "stream",
     "text": [
      "3562/4181: https://api.crossref.org/works/10.1039/D2NR07028F\r"
     ]
    },
    {
     "name": "stderr",
     "output_type": "stream",
     "text": [
      "ERROR:artfinder.api:Error fetching https://api.crossref.org/works/10.1016/j.pmatsci.2022.101042: 429\n",
      "ERROR:artfinder.api:Error fetching https://api.crossref.org/works/10.1002/adma.202312348: 429\n",
      "ERROR:artfinder.api:Error fetching https://api.crossref.org/works/10.1016/j.yrtph.2019.104426: 429\n"
     ]
    },
    {
     "name": "stdout",
     "output_type": "stream",
     "text": [
      "3563/4181: https://api.crossref.org/works/10.1038/srep03336\r"
     ]
    },
    {
     "name": "stderr",
     "output_type": "stream",
     "text": [
      "ERROR:artfinder.api:Error fetching https://api.crossref.org/works/10.1080/14786440209462857: 429\n"
     ]
    },
    {
     "name": "stdout",
     "output_type": "stream",
     "text": [
      "3564/4181: https://api.crossref.org/works/10.3389/fonc.2015.00261\r"
     ]
    },
    {
     "name": "stderr",
     "output_type": "stream",
     "text": [
      "ERROR:artfinder.api:Error fetching https://api.crossref.org/works/10.1109/JPROC.2009.2015060: 429\n"
     ]
    },
    {
     "name": "stdout",
     "output_type": "stream",
     "text": [
      "3565/4181: https://api.crossref.org/works/10.1002/wnan.42\r"
     ]
    },
    {
     "name": "stderr",
     "output_type": "stream",
     "text": [
      "ERROR:artfinder.api:Error fetching https://api.crossref.org/works/10.1039/C7TC05961B: 429\n",
      "ERROR:artfinder.api:Error fetching https://api.crossref.org/works/10.1039/C4AN00978A: 429\n"
     ]
    },
    {
     "name": "stdout",
     "output_type": "stream",
     "text": [
      "3566/4181: https://api.crossref.org/works/10.1002/adfm.201605176\r"
     ]
    },
    {
     "name": "stderr",
     "output_type": "stream",
     "text": [
      "ERROR:artfinder.api:Error fetching https://api.crossref.org/works/10.1021/jp0272015: 429\n"
     ]
    },
    {
     "name": "stdout",
     "output_type": "stream",
     "text": [
      "3567/4181: https://api.crossref.org/works/10.1371/journal.pone.0049579\r"
     ]
    },
    {
     "name": "stderr",
     "output_type": "stream",
     "text": [
      "ERROR:artfinder.api:Error fetching https://api.crossref.org/works/10.1103/PhysRevLett.45.201: 429\n"
     ]
    },
    {
     "name": "stdout",
     "output_type": "stream",
     "text": [
      "3568/4181: https://api.crossref.org/works/10.1002/elan.201200540\r"
     ]
    },
    {
     "name": "stderr",
     "output_type": "stream",
     "text": [
      "ERROR:artfinder.api:Error fetching https://api.crossref.org/works/10.1016/j.biomaterials.2009.02.008: 429\n",
      "ERROR:artfinder.api:Error fetching https://api.crossref.org/works/10.1186/s11671-018-2457-x: 429\n"
     ]
    },
    {
     "name": "stdout",
     "output_type": "stream",
     "text": [
      "3569/4181: https://api.crossref.org/works/10.1002/anie.200604646\r"
     ]
    },
    {
     "name": "stderr",
     "output_type": "stream",
     "text": [
      "ERROR:artfinder.api:Error fetching https://api.crossref.org/works/10.1016/j.cplett.2003.10.004: 429\n"
     ]
    },
    {
     "name": "stdout",
     "output_type": "stream",
     "text": [
      "3570/4181: https://api.crossref.org/works/10.1042/EBC20150012\r"
     ]
    },
    {
     "name": "stderr",
     "output_type": "stream",
     "text": [
      "ERROR:artfinder.api:Error fetching https://api.crossref.org/works/10.1143/JJAP.35.L781: 429\n"
     ]
    },
    {
     "name": "stdout",
     "output_type": "stream",
     "text": [
      "3571/4181: https://api.crossref.org/works/10.1063/1.351465\r"
     ]
    },
    {
     "name": "stderr",
     "output_type": "stream",
     "text": [
      "ERROR:artfinder.api:Error fetching https://api.crossref.org/works/10.1002/(SICI)1521-3951(199910)215:2<871::AID-PSSB871>3.0.CO;2-9: 429\n"
     ]
    },
    {
     "name": "stdout",
     "output_type": "stream",
     "text": [
      "3576/4181: https://api.crossref.org/works/10.1007/s00340-003-1214-7633\r"
     ]
    },
    {
     "name": "stderr",
     "output_type": "stream",
     "text": [
      "ERROR:artfinder.api:Error fetching https://api.crossref.org/works/10.1007/s00259-002-1038-4: 429\n"
     ]
    },
    {
     "name": "stdout",
     "output_type": "stream",
     "text": [
      "3583/4181: https://api.crossref.org/works/10.1364/OE.22.02029205.0067328-123\r"
     ]
    },
    {
     "name": "stderr",
     "output_type": "stream",
     "text": [
      "ERROR:artfinder.api:Error fetching https://api.crossref.org/works/10.1016/S0169-4332(02)00936-4: 429\n",
      "ERROR:artfinder.api:Error fetching https://api.crossref.org/works/10.1007/s003390051417: 429\n"
     ]
    },
    {
     "name": "stdout",
     "output_type": "stream",
     "text": [
      "3584/4181: https://api.crossref.org/works/10.1016/j.rinp.2023.106539\r"
     ]
    },
    {
     "name": "stderr",
     "output_type": "stream",
     "text": [
      "ERROR:artfinder.api:Error fetching https://api.crossref.org/works/10.2217/nnm-2016-0228: 429\n"
     ]
    },
    {
     "name": "stdout",
     "output_type": "stream",
     "text": [
      "3586/4181: https://api.crossref.org/works/10.1021/acs.jpcc.6b00013\r"
     ]
    },
    {
     "name": "stderr",
     "output_type": "stream",
     "text": [
      "ERROR:artfinder.api:Error fetching https://api.crossref.org/works/10.1016/S0030-4018(98)00240-5: 429\n",
      "ERROR:artfinder.api:Error fetching https://api.crossref.org/works/10.1038/srep40572: 429\n",
      "ERROR:artfinder.api:Error fetching https://api.crossref.org/works/10.1524/zkri.1934.88.1.150: 429\n",
      "ERROR:artfinder.api:Error fetching https://api.crossref.org/works/10.3390/ijms22031099: 429\n",
      "ERROR:artfinder.api:Error fetching https://api.crossref.org/works/10.1021/acsami.7b03816: 429\n",
      "ERROR:artfinder.api:Error fetching https://api.crossref.org/works/10.1002/jrs.3074: 429\n",
      "ERROR:artfinder.api:Error fetching https://api.crossref.org/works/10.1021/jp963192m: 429\n",
      "ERROR:artfinder.api:Error fetching https://api.crossref.org/works/10.1021/ja984446f: 429\n",
      "ERROR:artfinder.api:Error fetching https://api.crossref.org/works/10.1364/OE.18.003546: 429\n"
     ]
    },
    {
     "name": "stdout",
     "output_type": "stream",
     "text": [
      "3589/4181: https://api.crossref.org/works/10.1038/s41467-020-18428-2-02\r"
     ]
    },
    {
     "name": "stderr",
     "output_type": "stream",
     "text": [
      "ERROR:artfinder.api:Error fetching https://api.crossref.org/works/10.1007/s10948-018-4841-2: 429\n",
      "ERROR:artfinder.api:Error fetching https://api.crossref.org/works/10.1007/s11468-011-9249-9: 429\n",
      "ERROR:artfinder.api:Error fetching https://api.crossref.org/works/10.1039/C8NH00299A: 429\n"
     ]
    },
    {
     "name": "stdout",
     "output_type": "stream",
     "text": [
      "3590/4181: https://api.crossref.org/works/10.1016/0030-4018(76)90116-4\r"
     ]
    },
    {
     "name": "stderr",
     "output_type": "stream",
     "text": [
      "ERROR:artfinder.api:Error fetching https://api.crossref.org/works/10.1016/j.snb.2008.06.011: 429\n",
      "ERROR:artfinder.api:Error fetching https://api.crossref.org/works/10.1021/cs400643f: 429\n"
     ]
    },
    {
     "name": "stdout",
     "output_type": "stream",
     "text": [
      "3591/4181: https://api.crossref.org/works/10.1039/C4AN01899K\r"
     ]
    },
    {
     "name": "stderr",
     "output_type": "stream",
     "text": [
      "ERROR:artfinder.api:Error fetching https://api.crossref.org/works/10.1109/JSTQE.2016.2526602: 429\n"
     ]
    },
    {
     "name": "stdout",
     "output_type": "stream",
     "text": [
      "3592/4181: https://api.crossref.org/works/10.1016/j.mseb.2022.115746\r"
     ]
    },
    {
     "name": "stderr",
     "output_type": "stream",
     "text": [
      "ERROR:artfinder.api:Error fetching https://api.crossref.org/works/10.1021/acsami.7b02520: 429\n",
      "ERROR:artfinder.api:Error fetching https://api.crossref.org/works/10.1088/0953-4075/38/7/L02: 429\n"
     ]
    },
    {
     "name": "stdout",
     "output_type": "stream",
     "text": [
      "3594/4181: https://api.crossref.org/works/10.1103/PhysRevB.58.11085\r"
     ]
    },
    {
     "name": "stderr",
     "output_type": "stream",
     "text": [
      "ERROR:artfinder.api:Error fetching https://api.crossref.org/works/10.1103/PhysRevB.91.035413: 429\n"
     ]
    },
    {
     "name": "stdout",
     "output_type": "stream",
     "text": [
      "3595/4181: https://api.crossref.org/works/10.1002/cncr.23155\r"
     ]
    },
    {
     "name": "stderr",
     "output_type": "stream",
     "text": [
      "ERROR:artfinder.api:Error fetching https://api.crossref.org/works/10.1038/s41551-019-0465-5: 429\n",
      "ERROR:artfinder.api:Error fetching https://api.crossref.org/works/10.2217/imt.14.16: 429\n"
     ]
    },
    {
     "name": "stdout",
     "output_type": "stream",
     "text": [
      "3597/4181: https://api.crossref.org/works/10.1021/acs.biomac.7b01469\r"
     ]
    },
    {
     "name": "stderr",
     "output_type": "stream",
     "text": [
      "ERROR:artfinder.api:Error fetching https://api.crossref.org/works/10.1088/0957-4484/27/45/455101: 429\n"
     ]
    },
    {
     "name": "stdout",
     "output_type": "stream",
     "text": [
      "3598/4181: https://api.crossref.org/works/10.1007/s11468-016-0206-5\r"
     ]
    },
    {
     "name": "stderr",
     "output_type": "stream",
     "text": [
      "ERROR:artfinder.api:Error fetching https://api.crossref.org/works/10.1039/C4NR00708E: 429\n",
      "ERROR:artfinder.api:Error fetching https://api.crossref.org/works/10.1039/c2an16310a: 429\n"
     ]
    },
    {
     "name": "stdout",
     "output_type": "stream",
     "text": [
      "3599/4181: https://api.crossref.org/works/10.2217/nnm.11.77\r"
     ]
    },
    {
     "name": "stderr",
     "output_type": "stream",
     "text": [
      "ERROR:artfinder.api:Error fetching https://api.crossref.org/works/10.1007/s11051-011-0633-3: 429\n"
     ]
    },
    {
     "name": "stdout",
     "output_type": "stream",
     "text": [
      "3600/4181: https://api.crossref.org/works/10.1143/JJAP.35.4780\r"
     ]
    },
    {
     "name": "stderr",
     "output_type": "stream",
     "text": [
      "ERROR:artfinder.api:Error fetching https://api.crossref.org/works/10.1186/s12929-021-00784-w: 429\n"
     ]
    },
    {
     "name": "stdout",
     "output_type": "stream",
     "text": [
      "3604/4181: https://api.crossref.org/works/10.1016/j.elspec.2012.10.011\r"
     ]
    },
    {
     "name": "stderr",
     "output_type": "stream",
     "text": [
      "ERROR:artfinder.api:Error fetching https://api.crossref.org/works/10.1016/j.biomaterials.2017.04.007: 429\n"
     ]
    },
    {
     "name": "stdout",
     "output_type": "stream",
     "text": [
      "3605/4181: https://api.crossref.org/works/10.1021/acs.chemrev.5b00112\r"
     ]
    },
    {
     "name": "stderr",
     "output_type": "stream",
     "text": [
      "ERROR:artfinder.api:Error fetching https://api.crossref.org/works/10.1063/1.4829148: 429\n"
     ]
    },
    {
     "name": "stdout",
     "output_type": "stream",
     "text": [
      "3609/4181: https://api.crossref.org/works/10.1038/s41551-020-0581-2067\r"
     ]
    },
    {
     "name": "stderr",
     "output_type": "stream",
     "text": [
      "ERROR:artfinder.api:Error fetching https://api.crossref.org/works/10.1002/adma.201904894: 429\n",
      "ERROR:artfinder.api:Error fetching https://api.crossref.org/works/10.1016/j.bios.2019.111396: 429\n",
      "ERROR:artfinder.api:Error fetching https://api.crossref.org/works/10.1039/C4AN01495B: 429\n"
     ]
    },
    {
     "name": "stdout",
     "output_type": "stream",
     "text": [
      "3611/4181: https://api.crossref.org/works/10.1103/PhysRevLett.116.183902\r"
     ]
    },
    {
     "name": "stderr",
     "output_type": "stream",
     "text": [
      "ERROR:artfinder.api:Error fetching https://api.crossref.org/works/10.1002/adma.201100543: 429\n",
      "ERROR:artfinder.api:Error fetching https://api.crossref.org/works/10.1073/pnas.152463399: 429\n",
      "ERROR:artfinder.api:Error fetching https://api.crossref.org/works/10.1039/c1cs15166e: 429\n"
     ]
    },
    {
     "name": "stdout",
     "output_type": "stream",
     "text": [
      "3612/4181: https://api.crossref.org/works/10.1007/s00339-005-3319-9\r"
     ]
    },
    {
     "name": "stderr",
     "output_type": "stream",
     "text": [
      "ERROR:artfinder.api:Error fetching https://api.crossref.org/works/10.1364/OL.29.002378: 429\n"
     ]
    },
    {
     "name": "stdout",
     "output_type": "stream",
     "text": [
      "3613/4181: https://api.crossref.org/works/10.1016/j.febslet.2005.04.058\r"
     ]
    },
    {
     "name": "stderr",
     "output_type": "stream",
     "text": [
      "ERROR:artfinder.api:Error fetching https://api.crossref.org/works/10.1021/acsnano.3c09699: 429\n",
      "ERROR:artfinder.api:Error fetching https://api.crossref.org/works/10.1073/pnas.1018382108: 429\n",
      "ERROR:artfinder.api:Error fetching https://api.crossref.org/works/10.1016/S0013-4686(03)00270-6: 429\n",
      "ERROR:artfinder.api:Error fetching https://api.crossref.org/works/10.1364/AO.36.008153: 429\n"
     ]
    },
    {
     "name": "stdout",
     "output_type": "stream",
     "text": [
      "3614/4181: https://api.crossref.org/works/10.1021/acs.langmuir.9b00150\r"
     ]
    },
    {
     "name": "stderr",
     "output_type": "stream",
     "text": [
      "ERROR:artfinder.api:Error fetching https://api.crossref.org/works/10.1021/jp047134: 429\n",
      "ERROR:artfinder.api:Error fetching https://api.crossref.org/works/10.1016/0030-4018(72)90224-6: 429\n"
     ]
    },
    {
     "name": "stdout",
     "output_type": "stream",
     "text": [
      "3616/4181: https://api.crossref.org/works/10.1088/0022-3727/42/12/125305\r"
     ]
    },
    {
     "name": "stderr",
     "output_type": "stream",
     "text": [
      "ERROR:artfinder.api:Error fetching https://api.crossref.org/works/10.1039/C5RA20861K: 429\n",
      "ERROR:artfinder.api:Error fetching https://api.crossref.org/works/10.1016/j.solmat.2021.111504: 429\n"
     ]
    },
    {
     "name": "stdout",
     "output_type": "stream",
     "text": [
      "3618/4181: https://api.crossref.org/works/10.1016/j.crgsc.2021.100116\r"
     ]
    },
    {
     "name": "stderr",
     "output_type": "stream",
     "text": [
      "ERROR:artfinder.api:Error fetching https://api.crossref.org/works/10.1038/s41566-020-0648-3: 429\n"
     ]
    },
    {
     "name": "stdout",
     "output_type": "stream",
     "text": [
      "3620/4181: https://api.crossref.org/works/10.1016/0169-4332(89)90970-7\r"
     ]
    },
    {
     "name": "stderr",
     "output_type": "stream",
     "text": [
      "ERROR:artfinder.api:Error fetching https://api.crossref.org/works/10.1134/S0026893317060140: 429\n",
      "ERROR:artfinder.api:Error fetching https://api.crossref.org/works/10.1088/0957-4484/17/15/003: 429\n"
     ]
    },
    {
     "name": "stdout",
     "output_type": "stream",
     "text": [
      "3625/4181: https://api.crossref.org/works/10.3390/antiox120613021\r"
     ]
    },
    {
     "name": "stderr",
     "output_type": "stream",
     "text": [
      "ERROR:artfinder.api:Error fetching https://api.crossref.org/works/10.1088/0953-8984/10/35/024: 429\n",
      "ERROR:artfinder.api:Error fetching https://api.crossref.org/works/10.1021/acsami.1c01089: 429\n",
      "ERROR:artfinder.api:Error fetching https://api.crossref.org/works/10.1080/10826079608015107: 429\n",
      "ERROR:artfinder.api:Error fetching https://api.crossref.org/works/10.1016/j.jallcom.2022.165494: 429\n"
     ]
    },
    {
     "name": "stdout",
     "output_type": "stream",
     "text": [
      "3627/4181: https://api.crossref.org/works/10.1021/cm8004425nchem-071114-040352\r"
     ]
    },
    {
     "name": "stderr",
     "output_type": "stream",
     "text": [
      "ERROR:artfinder.api:Error fetching https://api.crossref.org/works/10.1016/j.ijhydene.2016.05.181: 429\n",
      "ERROR:artfinder.api:Error fetching https://api.crossref.org/works/10.1063/1.2222070: 429\n"
     ]
    },
    {
     "name": "stdout",
     "output_type": "stream",
     "text": [
      "3628/4181: https://api.crossref.org/works/10.1063/1.121199\r"
     ]
    },
    {
     "name": "stderr",
     "output_type": "stream",
     "text": [
      "ERROR:artfinder.api:Error fetching https://api.crossref.org/works/10.1039/C8CS00699G: 429\n",
      "ERROR:artfinder.api:Error fetching https://api.crossref.org/works/10.1103/PhysRevB.77.075133: 429\n"
     ]
    },
    {
     "name": "stdout",
     "output_type": "stream",
     "text": [
      "3629/4181: https://api.crossref.org/works/10.1063/1.359440\r"
     ]
    },
    {
     "name": "stderr",
     "output_type": "stream",
     "text": [
      "ERROR:artfinder.api:Error fetching https://api.crossref.org/works/10.1007/BF02256427: 429\n",
      "ERROR:artfinder.api:Error fetching https://api.crossref.org/works/10.1021/acs.nanolett.5b00930: 429\n"
     ]
    },
    {
     "name": "stdout",
     "output_type": "stream",
     "text": [
      "3632/4181: https://api.crossref.org/works/10.1016/j.optcom.2018.09.069\r"
     ]
    },
    {
     "name": "stderr",
     "output_type": "stream",
     "text": [
      "ERROR:artfinder.api:Error fetching https://api.crossref.org/works/10.1021/ja0645943: 429\n",
      "ERROR:artfinder.api:Error fetching https://api.crossref.org/works/10.1039/C4CS00282B: 429\n"
     ]
    },
    {
     "name": "stdout",
     "output_type": "stream",
     "text": [
      "3655/4181: https://api.crossref.org/works/10.1007/s00339-004-3081-4.0603\r"
     ]
    },
    {
     "name": "stderr",
     "output_type": "stream",
     "text": [
      "ERROR:artfinder.api:Error fetching https://api.crossref.org/works/10.1016/j.jelechem.2003.12.022: 429\n",
      "ERROR:artfinder.api:Error fetching https://api.crossref.org/works/10.1098/rsta.2009.0273: 429\n",
      "ERROR:artfinder.api:Error fetching https://api.crossref.org/works/10.1093/jac/42.1.13: 429\n",
      "ERROR:artfinder.api:Error fetching https://api.crossref.org/works/10.1103/PhysRevLett.67.1755: 429\n",
      "ERROR:artfinder.api:Error fetching https://api.crossref.org/works/10.1063/1.1511801: 429\n",
      "ERROR:artfinder.api:Error fetching https://api.crossref.org/works/10.1016/j.colsurfb.2011.11.046: 429\n",
      "ERROR:artfinder.api:Error fetching https://api.crossref.org/works/10.1080/17435390.2019.1572809: 429\n",
      "ERROR:artfinder.api:Error fetching https://api.crossref.org/works/10.1002/smll.200900923: 429\n",
      "ERROR:artfinder.api:Error fetching https://api.crossref.org/works/10.1016/0009-2614(81)85442-5: 429\n",
      "ERROR:artfinder.api:Error fetching https://api.crossref.org/works/10.1021/acsnano.5b01717: 429\n",
      "ERROR:artfinder.api:Error fetching https://api.crossref.org/works/10.1002/adma.201303426: 429\n",
      "ERROR:artfinder.api:Error fetching https://api.crossref.org/works/10.1002/adma.200700595: 429\n",
      "ERROR:artfinder.api:Error fetching https://api.crossref.org/works/10.1039/C2CP90132C: 429\n"
     ]
    },
    {
     "name": "stdout",
     "output_type": "stream",
     "text": [
      "3656/4181: https://api.crossref.org/works/10.1007/s003400050617\r"
     ]
    },
    {
     "name": "stderr",
     "output_type": "stream",
     "text": [
      "ERROR:artfinder.api:Error fetching https://api.crossref.org/works/10.1021/acsnano.9b04610: 429\n",
      "ERROR:artfinder.api:Error fetching https://api.crossref.org/works/10.1126/science.270.5235.467: 429\n"
     ]
    },
    {
     "name": "stdout",
     "output_type": "stream",
     "text": [
      "3657/4181: https://api.crossref.org/works/10.1070/QE1997v027n07ABEH001013\r"
     ]
    },
    {
     "name": "stderr",
     "output_type": "stream",
     "text": [
      "ERROR:artfinder.api:Error fetching https://api.crossref.org/works/10.1016/j.sna.2009.01.025: 429\n"
     ]
    },
    {
     "name": "stdout",
     "output_type": "stream",
     "text": [
      "3658/4181: https://api.crossref.org/works/10.1364/OE.21.031632\r"
     ]
    },
    {
     "name": "stderr",
     "output_type": "stream",
     "text": [
      "ERROR:artfinder.api:Error fetching https://api.crossref.org/works/10.1016/j.addr.2014.06.007: 429\n",
      "ERROR:artfinder.api:Error fetching https://api.crossref.org/works/10.1364/OL.22.001403: 429\n",
      "ERROR:artfinder.api:Error fetching https://api.crossref.org/works/10.1039/C1CS15237H: 429\n"
     ]
    },
    {
     "name": "stdout",
     "output_type": "stream",
     "text": [
      "3659/4181: https://api.crossref.org/works/10.1038/nnano.2016.269\r"
     ]
    },
    {
     "name": "stderr",
     "output_type": "stream",
     "text": [
      "ERROR:artfinder.api:Error fetching https://api.crossref.org/works/10.1200/JCO.1998.16.4.1574: 429\n",
      "ERROR:artfinder.api:Error fetching https://api.crossref.org/works/10.1063/1.1446217: 429\n",
      "ERROR:artfinder.api:Error fetching https://api.crossref.org/works/10.1038/s41560-021-00927-1: 429\n"
     ]
    },
    {
     "name": "stdout",
     "output_type": "stream",
     "text": [
      "3662/4181: https://api.crossref.org/works/10.1126/science.1156965070266\r"
     ]
    },
    {
     "name": "stderr",
     "output_type": "stream",
     "text": [
      "ERROR:artfinder.api:Error fetching https://api.crossref.org/works/10.1039/C9NH00332K: 429\n"
     ]
    },
    {
     "name": "stdout",
     "output_type": "stream",
     "text": [
      "3664/4181: https://api.crossref.org/works/10.1039/jm9930301137017.05.068\r"
     ]
    },
    {
     "name": "stderr",
     "output_type": "stream",
     "text": [
      "ERROR:artfinder.api:Error fetching https://api.crossref.org/works/10.1038/nnano.2008.34: 429\n"
     ]
    },
    {
     "name": "stdout",
     "output_type": "stream",
     "text": [
      "3665/4181: https://api.crossref.org/works/10.1063/1.1703071\r"
     ]
    },
    {
     "name": "stderr",
     "output_type": "stream",
     "text": [
      "ERROR:artfinder.api:Error fetching https://api.crossref.org/works/10.1016/S0022-2860(96)09467-7: 429\n",
      "ERROR:artfinder.api:Error fetching https://api.crossref.org/works/10.1002/pssr.v7.6: 429\n"
     ]
    },
    {
     "name": "stdout",
     "output_type": "stream",
     "text": [
      "3666/4181: https://api.crossref.org/works/10.1039/C4TA04878D\r"
     ]
    },
    {
     "name": "stderr",
     "output_type": "stream",
     "text": [
      "ERROR:artfinder.api:Error fetching https://api.crossref.org/works/10.1103/PhysRevB.101.245430: 429\n",
      "ERROR:artfinder.api:Error fetching https://api.crossref.org/works/10.1016/j.snb.2003.10.033: 429\n"
     ]
    },
    {
     "name": "stdout",
     "output_type": "stream",
     "text": [
      "3667/4181: https://api.crossref.org/works/10.1088/0370-1328/73/1/307\r"
     ]
    },
    {
     "name": "stderr",
     "output_type": "stream",
     "text": [
      "ERROR:artfinder.api:Error fetching https://api.crossref.org/works/10.1039/C7NR09525B: 429\n"
     ]
    },
    {
     "name": "stdout",
     "output_type": "stream",
     "text": [
      "3668/4181: https://api.crossref.org/works/10.1103/PhysRevB.64.085314\r"
     ]
    },
    {
     "name": "stderr",
     "output_type": "stream",
     "text": [
      "ERROR:artfinder.api:Error fetching https://api.crossref.org/works/10.1039/c0cs00014k: 429\n"
     ]
    },
    {
     "name": "stdout",
     "output_type": "stream",
     "text": [
      "3670/4181: https://api.crossref.org/works/10.1002/adma.201501754100678\r"
     ]
    },
    {
     "name": "stderr",
     "output_type": "stream",
     "text": [
      "ERROR:artfinder.api:Error fetching https://api.crossref.org/works/10.1098/rspa.1936.0051: 429\n",
      "ERROR:artfinder.api:Error fetching https://api.crossref.org/works/10.1038/s42005-023-01447-y: 429\n",
      "ERROR:artfinder.api:Error fetching https://api.crossref.org/works/10.1038/srep08356: 429\n"
     ]
    },
    {
     "name": "stdout",
     "output_type": "stream",
     "text": [
      "3671/4181: https://api.crossref.org/works/10.1103/PhysRevB.94.125406\r"
     ]
    },
    {
     "name": "stderr",
     "output_type": "stream",
     "text": [
      "ERROR:artfinder.api:Error fetching https://api.crossref.org/works/10.1007/s11694-008-9064-y: 429\n"
     ]
    },
    {
     "name": "stdout",
     "output_type": "stream",
     "text": [
      "3672/4181: https://api.crossref.org/works/10.1021/acs.nanolett.5b04588\r"
     ]
    },
    {
     "name": "stderr",
     "output_type": "stream",
     "text": [
      "ERROR:artfinder.api:Error fetching https://api.crossref.org/works/10.1259/bjr.20210593: 429\n",
      "ERROR:artfinder.api:Error fetching https://api.crossref.org/works/10.1016/0955-2863(90)90097-5: 429\n"
     ]
    },
    {
     "name": "stdout",
     "output_type": "stream",
     "text": [
      "3673/4181: https://api.crossref.org/works/10.1016/S1011-1344(01)00124-5\r"
     ]
    },
    {
     "name": "stderr",
     "output_type": "stream",
     "text": [
      "ERROR:artfinder.api:Error fetching https://api.crossref.org/works/10.1007/s00339-008-4484-4: 429\n"
     ]
    },
    {
     "name": "stdout",
     "output_type": "stream",
     "text": [
      "3675/4181: https://api.crossref.org/works/10.1039/C6NR07904K\r"
     ]
    },
    {
     "name": "stderr",
     "output_type": "stream",
     "text": [
      "ERROR:artfinder.api:Error fetching https://api.crossref.org/works/10.1016/j.saa.2022.121349: 429\n",
      "ERROR:artfinder.api:Error fetching https://api.crossref.org/works/10.1371/journal.pcbi.1000138: 429\n"
     ]
    },
    {
     "name": "stdout",
     "output_type": "stream",
     "text": [
      "3680/4181: https://api.crossref.org/works/10.1016/j.ijfoodmicro.2015.03.021\r"
     ]
    },
    {
     "name": "stderr",
     "output_type": "stream",
     "text": [
      "ERROR:artfinder.api:Error fetching https://api.crossref.org/works/10.1103/PhysRevLett.96.123904: 429\n"
     ]
    },
    {
     "name": "stdout",
     "output_type": "stream",
     "text": [
      "3688/4181: https://api.crossref.org/works/10.1016/0021-9797(68)90272-51\r"
     ]
    },
    {
     "name": "stderr",
     "output_type": "stream",
     "text": [
      "ERROR:artfinder.api:Error fetching https://api.crossref.org/works/10.1063/1.1558672: 429\n",
      "ERROR:artfinder.api:Error fetching https://api.crossref.org/works/10.1016/S1369-7021(12)70017-2: 429\n",
      "ERROR:artfinder.api:Error fetching https://api.crossref.org/works/10.1038/nphoton.2009.111: 429\n"
     ]
    },
    {
     "name": "stdout",
     "output_type": "stream",
     "text": [
      "3690/4181: https://api.crossref.org/works/10.1126/scitranslmed.aaa1616\r"
     ]
    },
    {
     "name": "stderr",
     "output_type": "stream",
     "text": [
      "ERROR:artfinder.api:Error fetching https://api.crossref.org/works/10.1021/nn800596w: 429\n",
      "ERROR:artfinder.api:Error fetching https://api.crossref.org/works/10.1364/OE.23.008995: 429\n",
      "ERROR:artfinder.api:Error fetching https://api.crossref.org/works/10.1364/OE.19.022113: 429\n",
      "ERROR:artfinder.api:Error fetching https://api.crossref.org/works/10.1016/0079-6727(75)90003-8: 429\n",
      "ERROR:artfinder.api:Error fetching https://api.crossref.org/works/10.1002/adma.202200756: 429\n",
      "ERROR:artfinder.api:Error fetching https://api.crossref.org/works/10.1126/science.281.5385.2013: 429\n",
      "ERROR:artfinder.api:Error fetching https://api.crossref.org/works/10.1103/PhysRevLett.78.1667: 429\n"
     ]
    },
    {
     "name": "stdout",
     "output_type": "stream",
     "text": [
      "3691/4181: https://api.crossref.org/works/10.1021/acsnano.0c07430\r"
     ]
    },
    {
     "name": "stderr",
     "output_type": "stream",
     "text": [
      "ERROR:artfinder.api:Error fetching https://api.crossref.org/works/10.1038/s41467-022-29817-0: 429\n",
      "ERROR:artfinder.api:Error fetching https://api.crossref.org/works/10.1053/j.gastro.2005.03.034: 429\n"
     ]
    },
    {
     "name": "stdout",
     "output_type": "stream",
     "text": [
      "3693/4181: https://api.crossref.org/works/10.1063/1.556029.5\r"
     ]
    },
    {
     "name": "stderr",
     "output_type": "stream",
     "text": [
      "ERROR:artfinder.api:Error fetching https://api.crossref.org/works/10.1002/elan.201400440: 429\n",
      "ERROR:artfinder.api:Error fetching https://api.crossref.org/works/10.1039/C8NR07730D: 429\n",
      "ERROR:artfinder.api:Error fetching https://api.crossref.org/works/10.1002/jmr.660: 429\n"
     ]
    },
    {
     "name": "stdout",
     "output_type": "stream",
     "text": [
      "3694/4181: https://api.crossref.org/works/10.1021/cr100313v\r"
     ]
    },
    {
     "name": "stderr",
     "output_type": "stream",
     "text": [
      "ERROR:artfinder.api:Error fetching https://api.crossref.org/works/10.1021/jp4065505: 429\n",
      "ERROR:artfinder.api:Error fetching https://api.crossref.org/works/10.1080/17434440.2020.1741348: 429\n"
     ]
    },
    {
     "name": "stdout",
     "output_type": "stream",
     "text": [
      "3695/4181: https://api.crossref.org/works/10.1063/5.0101658\r"
     ]
    },
    {
     "name": "stderr",
     "output_type": "stream",
     "text": [
      "ERROR:artfinder.api:Error fetching https://api.crossref.org/works/10.1021/jp062123x: 429\n"
     ]
    },
    {
     "name": "stdout",
     "output_type": "stream",
     "text": [
      "3696/4181: https://api.crossref.org/works/10.1016/j.apsusc.2009.04.131\r"
     ]
    },
    {
     "name": "stderr",
     "output_type": "stream",
     "text": [
      "ERROR:artfinder.api:Error fetching https://api.crossref.org/works/10.1002/adma.201104951: 429\n",
      "ERROR:artfinder.api:Error fetching https://api.crossref.org/works/10.1177/0268355513505507: 429\n"
     ]
    },
    {
     "name": "stdout",
     "output_type": "stream",
     "text": [
      "3698/4181: https://api.crossref.org/works/10.2217/nnm.1613c\r"
     ]
    },
    {
     "name": "stderr",
     "output_type": "stream",
     "text": [
      "ERROR:artfinder.api:Error fetching https://api.crossref.org/works/10.1103/PhysRevB.70.014501: 429\n"
     ]
    },
    {
     "name": "stdout",
     "output_type": "stream",
     "text": [
      "3700/4181: https://api.crossref.org/works/10.1002/marc.200400253v.2012.01.001\r"
     ]
    },
    {
     "name": "stderr",
     "output_type": "stream",
     "text": [
      "ERROR:artfinder.api:Error fetching https://api.crossref.org/works/10.1016/j.bios.2020.112845: 429\n",
      "ERROR:artfinder.api:Error fetching https://api.crossref.org/works/10.1016/j.bios.2010.07.128: 429\n",
      "ERROR:artfinder.api:Error fetching https://api.crossref.org/works/10.1109/TBME.2011.2124460: 429\n"
     ]
    },
    {
     "name": "stdout",
     "output_type": "stream",
     "text": [
      "3702/4181: https://api.crossref.org/works/10.1016/S0169-4332(02)00430-0\r"
     ]
    },
    {
     "name": "stderr",
     "output_type": "stream",
     "text": [
      "ERROR:artfinder.api:Error fetching https://api.crossref.org/works/10.1103/PhysRevB.86.235147: 429\n"
     ]
    },
    {
     "name": "stdout",
     "output_type": "stream",
     "text": [
      "3703/4181: https://api.crossref.org/works/10.1021/ja0386905\r"
     ]
    },
    {
     "name": "stderr",
     "output_type": "stream",
     "text": [
      "ERROR:artfinder.api:Error fetching https://api.crossref.org/works/10.1126/science.1137201: 429\n",
      "ERROR:artfinder.api:Error fetching https://api.crossref.org/works/10.1039/c2dt30672g: 429\n"
     ]
    },
    {
     "name": "stdout",
     "output_type": "stream",
     "text": [
      "3704/4181: https://api.crossref.org/works/10.1103/PhysRevB.39.9852\r"
     ]
    },
    {
     "name": "stderr",
     "output_type": "stream",
     "text": [
      "ERROR:artfinder.api:Error fetching https://api.crossref.org/works/10.1016/j.susc.2004.06.047: 429\n"
     ]
    },
    {
     "name": "stdout",
     "output_type": "stream",
     "text": [
      "3712/4181: https://api.crossref.org/works/10.1038/3509816922-00433-02002\r"
     ]
    },
    {
     "name": "stderr",
     "output_type": "stream",
     "text": [
      "ERROR:artfinder.api:Error fetching https://api.crossref.org/works/10.1103/PhysRevB.56.6958: 429\n"
     ]
    },
    {
     "name": "stdout",
     "output_type": "stream",
     "text": [
      "3713/4181: https://api.crossref.org/works/10.1021/acs.jpcc.6b12858\r"
     ]
    },
    {
     "name": "stderr",
     "output_type": "stream",
     "text": [
      "ERROR:artfinder.api:Error fetching https://api.crossref.org/works/10.1016/j.biomaterials.2019.119538: 429\n",
      "ERROR:artfinder.api:Error fetching https://api.crossref.org/works/10.1021/ac00259a060: 429\n",
      "ERROR:artfinder.api:Error fetching https://api.crossref.org/works/10.12737/article_5cf237bf846b67.57514871: 429\n"
     ]
    },
    {
     "name": "stdout",
     "output_type": "stream",
     "text": [
      "3714/4181: https://api.crossref.org/works/10.1038/nnano.2012.51\r"
     ]
    },
    {
     "name": "stderr",
     "output_type": "stream",
     "text": [
      "ERROR:artfinder.api:Error fetching https://api.crossref.org/works/10.3390/nano12040649: 429\n"
     ]
    },
    {
     "name": "stdout",
     "output_type": "stream",
     "text": [
      "3715/4181: https://api.crossref.org/works/10.1016/j.pquantelec.2010.04.001\r"
     ]
    },
    {
     "name": "stderr",
     "output_type": "stream",
     "text": [
      "ERROR:artfinder.api:Error fetching https://api.crossref.org/works/10.1142/p874: 429\n",
      "ERROR:artfinder.api:Error fetching https://api.crossref.org/works/10.1039/C6NR01437B: 429\n",
      "ERROR:artfinder.api:Error fetching https://api.crossref.org/works/10.1063/1.3599618: 429\n"
     ]
    },
    {
     "name": "stdout",
     "output_type": "stream",
     "text": [
      "3716/4181: https://api.crossref.org/works/10.1007/s00339-018-1817-9\r"
     ]
    },
    {
     "name": "stderr",
     "output_type": "stream",
     "text": [
      "ERROR:artfinder.api:Error fetching https://api.crossref.org/works/10.1021/bc034153y: 429\n",
      "ERROR:artfinder.api:Error fetching https://api.crossref.org/works/10.1016/j.ijhydene.2011.03.042: 429\n"
     ]
    },
    {
     "name": "stdout",
     "output_type": "stream",
     "text": [
      "3717/4181: https://api.crossref.org/works/10.1088/0957-4484/23/7/078001\r"
     ]
    },
    {
     "name": "stderr",
     "output_type": "stream",
     "text": [
      "ERROR:artfinder.api:Error fetching https://api.crossref.org/works/10.1016/j.chemphys.2004.08.005: 429\n",
      "ERROR:artfinder.api:Error fetching https://api.crossref.org/works/10.1073/pnas.0802289105: 429\n"
     ]
    },
    {
     "name": "stdout",
     "output_type": "stream",
     "text": [
      "3718/4181: https://api.crossref.org/works/10.1016/B978-0-08-100557-6.00001-8\r"
     ]
    },
    {
     "name": "stderr",
     "output_type": "stream",
     "text": [
      "ERROR:artfinder.api:Error fetching https://api.crossref.org/works/10.1038/nphoton.2017.39: 429\n",
      "ERROR:artfinder.api:Error fetching https://api.crossref.org/works/10.1007/s00339-013-8081-9: 429\n"
     ]
    },
    {
     "name": "stdout",
     "output_type": "stream",
     "text": [
      "3719/4181: https://api.crossref.org/works/10.1088/0957-0233/23/1/012001\r"
     ]
    },
    {
     "name": "stderr",
     "output_type": "stream",
     "text": [
      "ERROR:artfinder.api:Error fetching https://api.crossref.org/works/10.1002/advs.202206236: 429\n"
     ]
    },
    {
     "name": "stdout",
     "output_type": "stream",
     "text": [
      "3721/4181: https://api.crossref.org/works/10.1016/j.bios.2005.02.0169-1\r"
     ]
    },
    {
     "name": "stderr",
     "output_type": "stream",
     "text": [
      "ERROR:artfinder.api:Error fetching https://api.crossref.org/works/10.1070/QE2009v039n03ABEH013979: 429\n",
      "ERROR:artfinder.api:Error fetching https://api.crossref.org/works/10.1016/j.jallcom.2005.11.017: 429\n"
     ]
    },
    {
     "name": "stdout",
     "output_type": "stream",
     "text": [
      "3722/4181: https://api.crossref.org/works/10.1016/j.solener.2020.08.068\r"
     ]
    },
    {
     "name": "stderr",
     "output_type": "stream",
     "text": [
      "ERROR:artfinder.api:Error fetching https://api.crossref.org/works/10.1364/OE.24.008266: 429\n"
     ]
    },
    {
     "name": "stdout",
     "output_type": "stream",
     "text": [
      "3724/4181: https://api.crossref.org/works/10.1158/1078-0432.CCR-11-29388\r"
     ]
    },
    {
     "name": "stderr",
     "output_type": "stream",
     "text": [
      "ERROR:artfinder.api:Error fetching https://api.crossref.org/works/10.1016/j.bios.2021.112971: 429\n",
      "ERROR:artfinder.api:Error fetching https://api.crossref.org/works/10.1016/j.saa.2019.117931: 429\n"
     ]
    },
    {
     "name": "stdout",
     "output_type": "stream",
     "text": [
      "3729/4181: https://api.crossref.org/works/10.1016/j.physleta.2004.07.029\r"
     ]
    },
    {
     "name": "stderr",
     "output_type": "stream",
     "text": [
      "ERROR:artfinder.api:Error fetching https://api.crossref.org/works/10.1038/nprot.2007.41: 429\n",
      "ERROR:artfinder.api:Error fetching https://api.crossref.org/works/10.1103/PhysRevLett.116.103002: 429\n",
      "ERROR:artfinder.api:Error fetching https://api.crossref.org/works/10.1016/j.nbt.2013.05.002: 429\n"
     ]
    },
    {
     "name": "stdout",
     "output_type": "stream",
     "text": [
      "3730/4181: https://api.crossref.org/works/10.1063/1.321468\r"
     ]
    },
    {
     "name": "stderr",
     "output_type": "stream",
     "text": [
      "ERROR:artfinder.api:Error fetching https://api.crossref.org/works/10.1016/j.optcom.2018.04.070: 429\n"
     ]
    },
    {
     "name": "stdout",
     "output_type": "stream",
     "text": [
      "3731/4181: https://api.crossref.org/works/10.1039/C5DT03111G\r"
     ]
    },
    {
     "name": "stderr",
     "output_type": "stream",
     "text": [
      "ERROR:artfinder.api:Error fetching https://api.crossref.org/works/10.1016/j.bios.2007.07.001: 429\n",
      "ERROR:artfinder.api:Error fetching https://api.crossref.org/works/10.1158/1078-0432.CCR-16-1297: 429\n"
     ]
    },
    {
     "name": "stdout",
     "output_type": "stream",
     "text": [
      "3732/4181: https://api.crossref.org/works/10.1016/j.apsusc.2018.10.064\r"
     ]
    },
    {
     "name": "stderr",
     "output_type": "stream",
     "text": [
      "ERROR:artfinder.api:Error fetching https://api.crossref.org/works/10.3389/fonc.2015.00261: 429\n"
     ]
    },
    {
     "name": "stdout",
     "output_type": "stream",
     "text": [
      "3733/4181: https://api.crossref.org/works/10.1364/OE.20.012997\r"
     ]
    },
    {
     "name": "stderr",
     "output_type": "stream",
     "text": [
      "ERROR:artfinder.api:Error fetching https://api.crossref.org/works/10.1038/srep03336: 429\n",
      "ERROR:artfinder.api:Error fetching https://api.crossref.org/works/10.1002/wnan.42: 429\n"
     ]
    },
    {
     "name": "stdout",
     "output_type": "stream",
     "text": [
      "3736/4181: https://api.crossref.org/works/10.1111/jace.128560.06.011\r"
     ]
    },
    {
     "name": "stderr",
     "output_type": "stream",
     "text": [
      "ERROR:artfinder.api:Error fetching https://api.crossref.org/works/10.1039/D2NR07028F: 429\n"
     ]
    },
    {
     "name": "stdout",
     "output_type": "stream",
     "text": [
      "3737/4181: https://api.crossref.org/works/10.1021/jp0441240\r"
     ]
    },
    {
     "name": "stderr",
     "output_type": "stream",
     "text": [
      "ERROR:artfinder.api:Error fetching https://api.crossref.org/works/10.1002/adfm.201605176: 429\n",
      "ERROR:artfinder.api:Error fetching https://api.crossref.org/works/10.1371/journal.pone.0049579: 429\n"
     ]
    },
    {
     "name": "stdout",
     "output_type": "stream",
     "text": [
      "3760/4181: https://api.crossref.org/works/10.1093/clinids/12.Supplement_1.S307.082\r"
     ]
    },
    {
     "name": "stderr",
     "output_type": "stream",
     "text": [
      "ERROR:artfinder.api:Error fetching https://api.crossref.org/works/10.1021/acs.chemmater.1c00732: 429\n",
      "ERROR:artfinder.api:Error fetching https://api.crossref.org/works/10.3109/08958378.2012.745633: 429\n",
      "ERROR:artfinder.api:Error fetching https://api.crossref.org/works/10.1063/1.332415: 429\n",
      "ERROR:artfinder.api:Error fetching https://api.crossref.org/works/10.1007/s00340-003-1214-7: 429\n",
      "ERROR:artfinder.api:Error fetching https://api.crossref.org/works/10.1038/srep07034: 429\n",
      "ERROR:artfinder.api:Error fetching https://api.crossref.org/works/10.1002/elsc.200700066: 429\n",
      "ERROR:artfinder.api:Error fetching https://api.crossref.org/works/10.1042/EBC20150012: 429\n",
      "ERROR:artfinder.api:Error fetching https://api.crossref.org/works/10.1063/1.2812122: 429\n",
      "ERROR:artfinder.api:Error fetching https://api.crossref.org/works/10.1016/j.addr.2010.05.006: 429\n",
      "ERROR:artfinder.api:Error fetching https://api.crossref.org/works/10.1021/bc049951i: 429\n",
      "ERROR:artfinder.api:Error fetching https://api.crossref.org/works/10.1063/1.351465: 429\n",
      "ERROR:artfinder.api:Error fetching https://api.crossref.org/works/10.1002/elan.201200540: 429\n",
      "ERROR:artfinder.api:Error fetching https://api.crossref.org/works/10.1002/pro6.1149: 429\n"
     ]
    },
    {
     "name": "stdout",
     "output_type": "stream",
     "text": [
      "3761/4181: https://api.crossref.org/works/10.1016/S0167-2738(01)01035-9\r"
     ]
    },
    {
     "name": "stderr",
     "output_type": "stream",
     "text": [
      "ERROR:artfinder.api:Error fetching https://api.crossref.org/works/10.1364/OE.22.020292: 429\n",
      "ERROR:artfinder.api:Error fetching https://api.crossref.org/works/10.1002/anie.200604646: 429\n",
      "ERROR:artfinder.api:Error fetching https://api.crossref.org/works/10.32607/20758251-2016-8-4-118-123: 429\n"
     ]
    },
    {
     "name": "stdout",
     "output_type": "stream",
     "text": [
      "3763/4181: https://api.crossref.org/works/10.1039/C3TC31819Bc02390\r"
     ]
    },
    {
     "name": "stderr",
     "output_type": "stream",
     "text": [
      "ERROR:artfinder.api:Error fetching https://api.crossref.org/works/10.1002/ijch.201200016: 429\n",
      "ERROR:artfinder.api:Error fetching https://api.crossref.org/works/10.1016/j.rinp.2023.106539: 429\n",
      "ERROR:artfinder.api:Error fetching https://api.crossref.org/works/10.1038/nnano.2016.269: 429\n",
      "ERROR:artfinder.api:Error fetching https://api.crossref.org/works/10.1016/j.talanta.2008.09.042: 429\n",
      "ERROR:artfinder.api:Error fetching https://api.crossref.org/works/10.1021/acs.jpcc.6b00013: 429\n",
      "ERROR:artfinder.api:Error fetching https://api.crossref.org/works/10.1016/0891-5849(89)90147-0: 429\n"
     ]
    },
    {
     "name": "stdout",
     "output_type": "stream",
     "text": [
      "3766/4181: https://api.crossref.org/works/10.1117/1.3122371.2013.79\r"
     ]
    },
    {
     "name": "stderr",
     "output_type": "stream",
     "text": [
      "ERROR:artfinder.api:Error fetching https://api.crossref.org/works/10.1038/s41467-020-18428-2: 429\n"
     ]
    },
    {
     "name": "stdout",
     "output_type": "stream",
     "text": [
      "3769/4181: https://api.crossref.org/works/10.1021/acs.jpcb.9b08567881-4\r"
     ]
    },
    {
     "name": "stderr",
     "output_type": "stream",
     "text": [
      "ERROR:artfinder.api:Error fetching https://api.crossref.org/works/10.1016/0030-4018(76)90116-4: 429\n"
     ]
    },
    {
     "name": "stdout",
     "output_type": "stream",
     "text": [
      "3770/4181: https://api.crossref.org/works/10.3103/S106833561712003X\r"
     ]
    },
    {
     "name": "stderr",
     "output_type": "stream",
     "text": [
      "ERROR:artfinder.api:Error fetching https://api.crossref.org/works/10.1016/j.mseb.2022.115746: 429\n",
      "ERROR:artfinder.api:Error fetching https://api.crossref.org/works/10.1039/C4AN01899K: 429\n",
      "ERROR:artfinder.api:Error fetching https://api.crossref.org/works/10.1103/PhysRevB.58.11085: 429\n"
     ]
    },
    {
     "name": "stdout",
     "output_type": "stream",
     "text": [
      "3771/4181: https://api.crossref.org/works/10.1021/jp027269k\r"
     ]
    },
    {
     "name": "stderr",
     "output_type": "stream",
     "text": [
      "ERROR:artfinder.api:Error fetching https://api.crossref.org/works/10.1201/9781420012026: 429\n",
      "ERROR:artfinder.api:Error fetching https://api.crossref.org/works/10.1002/cncr.23155: 429\n"
     ]
    },
    {
     "name": "stdout",
     "output_type": "stream",
     "text": [
      "3772/4181: https://api.crossref.org/works/10.1364/JOSAB.30.002589\r"
     ]
    },
    {
     "name": "stderr",
     "output_type": "stream",
     "text": [
      "ERROR:artfinder.api:Error fetching https://api.crossref.org/works/10.1021/acs.biomac.7b01469: 429\n"
     ]
    },
    {
     "name": "stdout",
     "output_type": "stream",
     "text": [
      "3774/4181: https://api.crossref.org/works/10.1016/j.mspro.2015.11.027\r"
     ]
    },
    {
     "name": "stderr",
     "output_type": "stream",
     "text": [
      "ERROR:artfinder.api:Error fetching https://api.crossref.org/works/10.1007/s11468-016-0206-5: 429\n",
      "ERROR:artfinder.api:Error fetching https://api.crossref.org/works/10.2217/nnm.11.77: 429\n"
     ]
    },
    {
     "name": "stdout",
     "output_type": "stream",
     "text": [
      "3775/4181: https://api.crossref.org/works/10.1103/PhysRevLett.96.055503\r"
     ]
    },
    {
     "name": "stderr",
     "output_type": "stream",
     "text": [
      "ERROR:artfinder.api:Error fetching https://api.crossref.org/works/10.1143/JJAP.35.4780: 429\n",
      "ERROR:artfinder.api:Error fetching https://api.crossref.org/works/10.1038/ncomms13590: 429\n"
     ]
    },
    {
     "name": "stdout",
     "output_type": "stream",
     "text": [
      "3776/4181: https://api.crossref.org/works/10.1021/acsanm.2c02946\r"
     ]
    },
    {
     "name": "stderr",
     "output_type": "stream",
     "text": [
      "ERROR:artfinder.api:Error fetching https://api.crossref.org/works/10.1016/j.bios.2017.03.036: 429\n"
     ]
    },
    {
     "name": "stdout",
     "output_type": "stream",
     "text": [
      "3777/4181: https://api.crossref.org/works/10.1016/j.optlastec.2022.108393\r"
     ]
    },
    {
     "name": "stderr",
     "output_type": "stream",
     "text": [
      "ERROR:artfinder.api:Error fetching https://api.crossref.org/works/10.1038/nnano.2017.126: 429\n",
      "ERROR:artfinder.api:Error fetching https://api.crossref.org/works/10.1016/j.elspec.2012.10.011: 429\n"
     ]
    },
    {
     "name": "stdout",
     "output_type": "stream",
     "text": [
      "3779/4181: https://api.crossref.org/works/10.1103/PhysRevLett.85.35161\r"
     ]
    },
    {
     "name": "stderr",
     "output_type": "stream",
     "text": [
      "ERROR:artfinder.api:Error fetching https://api.crossref.org/works/10.1021/acs.chemrev.5b00112: 429\n",
      "ERROR:artfinder.api:Error fetching https://api.crossref.org/works/10.1088/0957-0233/11/11/313: 429\n"
     ]
    },
    {
     "name": "stdout",
     "output_type": "stream",
     "text": [
      "3784/4181: https://api.crossref.org/works/10.1021/nl050066y2011.06.004\r"
     ]
    },
    {
     "name": "stderr",
     "output_type": "stream",
     "text": [
      "ERROR:artfinder.api:Error fetching https://api.crossref.org/works/10.1016/j.optcom.2007.03.067: 429\n"
     ]
    },
    {
     "name": "stdout",
     "output_type": "stream",
     "text": [
      "3793/4181: https://api.crossref.org/works/10.1016/j.ijfoodmicro.2014.12.018\r"
     ]
    },
    {
     "name": "stderr",
     "output_type": "stream",
     "text": [
      "ERROR:artfinder.api:Error fetching https://api.crossref.org/works/10.1039/D1NR08341D: 429\n",
      "ERROR:artfinder.api:Error fetching https://api.crossref.org/works/10.1038/s41551-020-0581-2: 429\n",
      "ERROR:artfinder.api:Error fetching https://api.crossref.org/works/10.1016/j.tibtech.2011.01.006: 429\n"
     ]
    },
    {
     "name": "stdout",
     "output_type": "stream",
     "text": [
      "3794/4181: https://api.crossref.org/works/10.1038/scientificamerican1090-100\r"
     ]
    },
    {
     "name": "stderr",
     "output_type": "stream",
     "text": [
      "ERROR:artfinder.api:Error fetching https://api.crossref.org/works/10.1007/s00339-005-3319-9: 429\n",
      "ERROR:artfinder.api:Error fetching https://api.crossref.org/works/10.1016/j.febslet.2005.04.058: 429\n",
      "ERROR:artfinder.api:Error fetching https://api.crossref.org/works/10.1021/acs.langmuir.9b00150: 429\n",
      "ERROR:artfinder.api:Error fetching https://api.crossref.org/works/10.1016/j.msec.2019.01.013: 429\n",
      "ERROR:artfinder.api:Error fetching https://api.crossref.org/works/10.1103/PhysRevLett.116.183902: 429\n"
     ]
    },
    {
     "name": "stdout",
     "output_type": "stream",
     "text": [
      "3795/4181: https://api.crossref.org/works/10.1038/ncomms16061\r"
     ]
    },
    {
     "name": "stderr",
     "output_type": "stream",
     "text": [
      "ERROR:artfinder.api:Error fetching https://api.crossref.org/works/10.1021/jp026731y: 429\n",
      "ERROR:artfinder.api:Error fetching https://api.crossref.org/works/10.1088/0022-3727/42/12/125305: 429\n",
      "ERROR:artfinder.api:Error fetching https://api.crossref.org/works/10.1021/acsnano.0c07430: 429\n",
      "ERROR:artfinder.api:Error fetching https://api.crossref.org/works/10.1016/j.crgsc.2021.100116: 429\n"
     ]
    },
    {
     "name": "stdout",
     "output_type": "stream",
     "text": [
      "3797/4181: https://api.crossref.org/works/10.1149/2.1211910jes\r"
     ]
    },
    {
     "name": "stderr",
     "output_type": "stream",
     "text": [
      "ERROR:artfinder.api:Error fetching https://api.crossref.org/works/10.1038/lsa.2017.172: 429\n"
     ]
    },
    {
     "name": "stdout",
     "output_type": "stream",
     "text": [
      "3798/4181: https://api.crossref.org/works/10.1002/smll.202007486\r"
     ]
    },
    {
     "name": "stderr",
     "output_type": "stream",
     "text": [
      "ERROR:artfinder.api:Error fetching https://api.crossref.org/works/10.1016/0169-4332(89)90970-7: 429\n",
      "ERROR:artfinder.api:Error fetching https://api.crossref.org/works/10.1063/1.116662: 429\n",
      "ERROR:artfinder.api:Error fetching https://api.crossref.org/works/10.1023/A:1011645730621: 429\n",
      "ERROR:artfinder.api:Error fetching https://api.crossref.org/works/10.15171/bi.2016.23: 429\n"
     ]
    },
    {
     "name": "stdout",
     "output_type": "stream",
     "text": [
      "3799/4181: https://api.crossref.org/works/10.1023/A:1005781517624\r"
     ]
    },
    {
     "name": "stderr",
     "output_type": "stream",
     "text": [
      "ERROR:artfinder.api:Error fetching https://api.crossref.org/works/10.1021/nl061517x: 429\n"
     ]
    },
    {
     "name": "stdout",
     "output_type": "stream",
     "text": [
      "3800/4181: https://api.crossref.org/works/10.1021/acsnano.0c04659\r"
     ]
    },
    {
     "name": "stderr",
     "output_type": "stream",
     "text": [
      "ERROR:artfinder.api:Error fetching https://api.crossref.org/works/10.3390/antiox12061302: 429\n",
      "ERROR:artfinder.api:Error fetching https://api.crossref.org/works/10.1146/annurev-anchem-071114-040352: 429\n"
     ]
    },
    {
     "name": "stdout",
     "output_type": "stream",
     "text": [
      "3803/4181: https://api.crossref.org/works/10.1002/adma.201505700.09.006\r"
     ]
    },
    {
     "name": "stderr",
     "output_type": "stream",
     "text": [
      "ERROR:artfinder.api:Error fetching https://api.crossref.org/works/10.1021/cm8004425: 429\n"
     ]
    },
    {
     "name": "stdout",
     "output_type": "stream",
     "text": [
      "3804/4181: https://api.crossref.org/works/10.1021/mp300634b\r"
     ]
    },
    {
     "name": "stderr",
     "output_type": "stream",
     "text": [
      "ERROR:artfinder.api:Error fetching https://api.crossref.org/works/10.1063/1.359440: 429\n",
      "ERROR:artfinder.api:Error fetching https://api.crossref.org/works/10.1063/1.121199: 429\n"
     ]
    },
    {
     "name": "stdout",
     "output_type": "stream",
     "text": [
      "3805/4181: https://api.crossref.org/works/10.1088/0957-4484/23/7/075102\r"
     ]
    },
    {
     "name": "stderr",
     "output_type": "stream",
     "text": [
      "ERROR:artfinder.api:Error fetching https://api.crossref.org/works/10.2961/jlmn.2009.01.0007: 429\n"
     ]
    },
    {
     "name": "stdout",
     "output_type": "stream",
     "text": [
      "3807/4181: https://api.crossref.org/works/10.1016/j.addr.2016.11.0060\r"
     ]
    },
    {
     "name": "stderr",
     "output_type": "stream",
     "text": [
      "ERROR:artfinder.api:Error fetching https://api.crossref.org/works/10.1021/nl070610y: 429\n",
      "ERROR:artfinder.api:Error fetching https://api.crossref.org/works/10.1016/j.optcom.2018.09.069: 429\n"
     ]
    },
    {
     "name": "stdout",
     "output_type": "stream",
     "text": [
      "3808/4181: https://api.crossref.org/works/10.1002/cphc.200900743\r"
     ]
    },
    {
     "name": "stderr",
     "output_type": "stream",
     "text": [
      "ERROR:artfinder.api:Error fetching https://api.crossref.org/works/10.1016/j.synthmet.2020.116610: 429\n"
     ]
    },
    {
     "name": "stdout",
     "output_type": "stream",
     "text": [
      "3809/4181: https://api.crossref.org/works/10.1002/(ISSN)1096-9098\r"
     ]
    },
    {
     "name": "stderr",
     "output_type": "stream",
     "text": [
      "ERROR:artfinder.api:Error fetching https://api.crossref.org/works/10.1039/C2CP42895D: 429\n"
     ]
    },
    {
     "name": "stdout",
     "output_type": "stream",
     "text": [
      "3816/4181: https://api.crossref.org/works/10.1016/j.apsusc.2012.12.0358\r"
     ]
    },
    {
     "name": "stderr",
     "output_type": "stream",
     "text": [
      "ERROR:artfinder.api:Error fetching https://api.crossref.org/works/10.1007/s11051-016-3468-0: 429\n"
     ]
    },
    {
     "name": "stdout",
     "output_type": "stream",
     "text": [
      "3817/4181: https://api.crossref.org/works/10.1103/PhysRevB.74.224106\r"
     ]
    },
    {
     "name": "stderr",
     "output_type": "stream",
     "text": [
      "ERROR:artfinder.api:Error fetching https://api.crossref.org/works/10.1002/adma.200601604: 429\n"
     ]
    },
    {
     "name": "stdout",
     "output_type": "stream",
     "text": [
      "3818/4181: https://api.crossref.org/works/10.1063/1.3526746\r"
     ]
    },
    {
     "name": "stderr",
     "output_type": "stream",
     "text": [
      "ERROR:artfinder.api:Error fetching https://api.crossref.org/works/10.1103/PhysRevB.61.11437: 429\n",
      "ERROR:artfinder.api:Error fetching https://api.crossref.org/works/10.1111/cas.12602: 429\n",
      "ERROR:artfinder.api:Error fetching https://api.crossref.org/works/10.1063/1.467781: 429\n"
     ]
    },
    {
     "name": "stdout",
     "output_type": "stream",
     "text": [
      "3819/4181: https://api.crossref.org/works/10.1063/1.3276161\r"
     ]
    },
    {
     "name": "stderr",
     "output_type": "stream",
     "text": [
      "ERROR:artfinder.api:Error fetching https://api.crossref.org/works/10.1038/s41467-022-29399-x: 429\n",
      "ERROR:artfinder.api:Error fetching https://api.crossref.org/works/10.1103/PhysRevLett.101.026803: 429\n",
      "ERROR:artfinder.api:Error fetching https://api.crossref.org/works/10.1039/c1nr10265f: 429\n"
     ]
    },
    {
     "name": "stdout",
     "output_type": "stream",
     "text": [
      "3820/4181: https://api.crossref.org/works/10.1103/PhysRevLett.92.107401\r"
     ]
    },
    {
     "name": "stderr",
     "output_type": "stream",
     "text": [
      "ERROR:artfinder.api:Error fetching https://api.crossref.org/works/10.1016/j.apsusc.2013.08.075: 429\n",
      "ERROR:artfinder.api:Error fetching https://api.crossref.org/works/10.1002/anie.200702072: 429\n"
     ]
    },
    {
     "name": "stdout",
     "output_type": "stream",
     "text": [
      "3821/4181: https://api.crossref.org/works/10.1021/nl900031y\r"
     ]
    },
    {
     "name": "stderr",
     "output_type": "stream",
     "text": [
      "ERROR:artfinder.api:Error fetching https://api.crossref.org/works/10.1063/1.123911: 429\n",
      "ERROR:artfinder.api:Error fetching https://api.crossref.org/works/10.1186/1748-717X-9-150: 429\n"
     ]
    },
    {
     "name": "stdout",
     "output_type": "stream",
     "text": [
      "3822/4181: https://api.crossref.org/works/10.1016/j.surg.2010.04.025\r"
     ]
    },
    {
     "name": "stderr",
     "output_type": "stream",
     "text": [
      "ERROR:artfinder.api:Error fetching https://api.crossref.org/works/10.1021/j100123a004: 429\n"
     ]
    },
    {
     "name": "stdout",
     "output_type": "stream",
     "text": [
      "3823/4181: https://api.crossref.org/works/10.1002/andp.19213690304\r"
     ]
    },
    {
     "name": "stderr",
     "output_type": "stream",
     "text": [
      "ERROR:artfinder.api:Error fetching https://api.crossref.org/works/10.1073/pnas.1911734116: 429\n"
     ]
    },
    {
     "name": "stdout",
     "output_type": "stream",
     "text": [
      "3825/4181: https://api.crossref.org/works/10.1021/acs.molpharmaceut.6b01010\r"
     ]
    },
    {
     "name": "stderr",
     "output_type": "stream",
     "text": [
      "ERROR:artfinder.api:Error fetching https://api.crossref.org/works/10.1021/jp061667w: 429\n",
      "ERROR:artfinder.api:Error fetching https://api.crossref.org/works/10.1143/JJAP.42.L1452: 429\n"
     ]
    },
    {
     "name": "stdout",
     "output_type": "stream",
     "text": [
      "3827/4181: https://api.crossref.org/works/10.1016/j.jconrel.2016.01.020\r"
     ]
    },
    {
     "name": "stderr",
     "output_type": "stream",
     "text": [
      "ERROR:artfinder.api:Error fetching https://api.crossref.org/works/10.1016/j.jcis.2011.01.059: 429\n"
     ]
    },
    {
     "name": "stdout",
     "output_type": "stream",
     "text": [
      "3828/4181: https://api.crossref.org/works/10.1364/OL.32.002834\r"
     ]
    },
    {
     "name": "stderr",
     "output_type": "stream",
     "text": [
      "ERROR:artfinder.api:Error fetching https://api.crossref.org/works/10.1016/j.carbpol.2013.04.060: 429\n"
     ]
    },
    {
     "name": "stdout",
     "output_type": "stream",
     "text": [
      "3829/4181: https://api.crossref.org/works/10.1080/10408430600930438\r"
     ]
    },
    {
     "name": "stderr",
     "output_type": "stream",
     "text": [
      "ERROR:artfinder.api:Error fetching https://api.crossref.org/works/10.1007/s13204-018-0659-2: 429\n"
     ]
    },
    {
     "name": "stdout",
     "output_type": "stream",
     "text": [
      "3833/4181: https://api.crossref.org/works/10.1016/j.materresbull.2012.05.051\r"
     ]
    },
    {
     "name": "stderr",
     "output_type": "stream",
     "text": [
      "ERROR:artfinder.api:Error fetching https://api.crossref.org/works/10.1002/sia.740140503: 429\n",
      "ERROR:artfinder.api:Error fetching https://api.crossref.org/works/10.1007/s00339-004-3081-4: 429\n",
      "ERROR:artfinder.api:Error fetching https://api.crossref.org/works/10.1070/QE1997v027n07ABEH001013: 429\n"
     ]
    },
    {
     "name": "stdout",
     "output_type": "stream",
     "text": [
      "3834/4181: https://api.crossref.org/works/10.1021/ac303657k\r"
     ]
    },
    {
     "name": "stderr",
     "output_type": "stream",
     "text": [
      "ERROR:artfinder.api:Error fetching https://api.crossref.org/works/10.1364/OE.21.031632: 429\n"
     ]
    },
    {
     "name": "stdout",
     "output_type": "stream",
     "text": [
      "3835/4181: https://api.crossref.org/works/10.1103/PhysRevB.98.115426\r"
     ]
    },
    {
     "name": "stderr",
     "output_type": "stream",
     "text": [
      "ERROR:artfinder.api:Error fetching https://api.crossref.org/works/10.1021/acs.analchem.7b05410: 429\n",
      "ERROR:artfinder.api:Error fetching https://api.crossref.org/works/10.3390/bioengineering9070266: 429\n"
     ]
    },
    {
     "name": "stdout",
     "output_type": "stream",
     "text": [
      "3837/4181: https://api.crossref.org/works/10.3390/s140915914989.01070010601038\r"
     ]
    },
    {
     "name": "stderr",
     "output_type": "stream",
     "text": [
      "ERROR:artfinder.api:Error fetching https://api.crossref.org/works/10.1126/science.1156965: 429\n"
     ]
    },
    {
     "name": "stdout",
     "output_type": "stream",
     "text": [
      "3838/4181: https://api.crossref.org/works/10.1088/1361-6528/aafa3a\r"
     ]
    },
    {
     "name": "stderr",
     "output_type": "stream",
     "text": [
      "ERROR:artfinder.api:Error fetching https://api.crossref.org/works/10.1039/jm9930301137: 429\n",
      "ERROR:artfinder.api:Error fetching https://api.crossref.org/works/10.1016/j.colsurfb.2017.05.068: 429\n"
     ]
    },
    {
     "name": "stdout",
     "output_type": "stream",
     "text": [
      "3841/4181: https://api.crossref.org/works/10.1038/s41560-021-00919-1\r"
     ]
    },
    {
     "name": "stderr",
     "output_type": "stream",
     "text": [
      "ERROR:artfinder.api:Error fetching https://api.crossref.org/works/10.1063/1.1703071: 429\n",
      "ERROR:artfinder.api:Error fetching https://api.crossref.org/works/10.1088/0370-1328/73/1/307: 429\n",
      "ERROR:artfinder.api:Error fetching https://api.crossref.org/works/10.1039/C4TA04878D: 429\n"
     ]
    },
    {
     "name": "stdout",
     "output_type": "stream",
     "text": [
      "3842/4181: https://api.crossref.org/works/10.1021/acs.jpcc.0c09970\r"
     ]
    },
    {
     "name": "stderr",
     "output_type": "stream",
     "text": [
      "ERROR:artfinder.api:Error fetching https://api.crossref.org/works/10.1007/s003400050617: 429\n"
     ]
    },
    {
     "name": "stdout",
     "output_type": "stream",
     "text": [
      "3867/4181: https://api.crossref.org/works/10.1103/PhysRevE.66.0664062020.0510\r"
     ]
    },
    {
     "name": "stderr",
     "output_type": "stream",
     "text": [
      "ERROR:artfinder.api:Error fetching https://api.crossref.org/works/10.1021/jp020786i: 429\n",
      "ERROR:artfinder.api:Error fetching https://api.crossref.org/works/10.1016/j.cej.2020.124253: 429\n",
      "ERROR:artfinder.api:Error fetching https://api.crossref.org/works/10.1016/j.addr.2019.07.006: 429\n",
      "ERROR:artfinder.api:Error fetching https://api.crossref.org/works/10.1016/S0925-4005(98)00328-1: 429\n",
      "ERROR:artfinder.api:Error fetching https://api.crossref.org/works/10.1016/j.apsusc.2012.09.078: 429\n"
     ]
    },
    {
     "name": "stdout",
     "output_type": "stream",
     "text": [
      "3868/4181: https://api.crossref.org/works/10.1073/pnas.0801763105\r"
     ]
    },
    {
     "name": "stderr",
     "output_type": "stream",
     "text": [
      "ERROR:artfinder.api:Error fetching https://api.crossref.org/works/10.1016/0021-9797(68)90272-5: 429\n"
     ]
    },
    {
     "name": "stdout",
     "output_type": "stream",
     "text": [
      "3869/4181: https://api.crossref.org/works/10.1038/nmat3839\r"
     ]
    },
    {
     "name": "stderr",
     "output_type": "stream",
     "text": [
      "ERROR:artfinder.api:Error fetching https://api.crossref.org/works/10.1021/acs.nanolett.5b04588: 429\n"
     ]
    },
    {
     "name": "stdout",
     "output_type": "stream",
     "text": [
      "3870/4181: https://api.crossref.org/works/10.1016/j.jnucmat.2014.06.056\r"
     ]
    },
    {
     "name": "stderr",
     "output_type": "stream",
     "text": [
      "ERROR:artfinder.api:Error fetching https://api.crossref.org/works/10.1038/jcbfm.2012.100: 429\n",
      "ERROR:artfinder.api:Error fetching https://api.crossref.org/works/10.1021/jz300318v: 429\n",
      "ERROR:artfinder.api:Error fetching https://api.crossref.org/works/10.1016/j.rineng.2022.100678: 429\n",
      "ERROR:artfinder.api:Error fetching https://api.crossref.org/works/10.1039/C6NR07904K: 429\n",
      "ERROR:artfinder.api:Error fetching https://api.crossref.org/works/10.1002/adma.201501754: 429\n",
      "ERROR:artfinder.api:Error fetching https://api.crossref.org/works/10.3390/nano14231961: 429\n",
      "ERROR:artfinder.api:Error fetching https://api.crossref.org/works/10.1016/j.ijfoodmicro.2015.03.021: 429\n",
      "ERROR:artfinder.api:Error fetching https://api.crossref.org/works/10.1103/PhysRevB.94.125406: 429\n",
      "ERROR:artfinder.api:Error fetching https://api.crossref.org/works/10.1103/PhysRevB.64.085314: 429\n",
      "ERROR:artfinder.api:Error fetching https://api.crossref.org/works/10.1021/j100096a001: 429\n",
      "ERROR:artfinder.api:Error fetching https://api.crossref.org/works/10.1016/S0167-2738(01)01035-9: 429\n",
      "ERROR:artfinder.api:Error fetching https://api.crossref.org/works/10.1116/1.2990790: 429\n",
      "ERROR:artfinder.api:Error fetching https://api.crossref.org/works/10.1021/jp3010025: 429\n"
     ]
    },
    {
     "name": "stdout",
     "output_type": "stream",
     "text": [
      "3871/4181: https://api.crossref.org/works/10.1063/1.1775294\r"
     ]
    },
    {
     "name": "stderr",
     "output_type": "stream",
     "text": [
      "ERROR:artfinder.api:Error fetching https://api.crossref.org/works/10.1016/j.jqsrt.2009.02.023: 429\n"
     ]
    },
    {
     "name": "stdout",
     "output_type": "stream",
     "text": [
      "3872/4181: https://api.crossref.org/works/10.1021/jp984429c\r"
     ]
    },
    {
     "name": "stderr",
     "output_type": "stream",
     "text": [
      "ERROR:artfinder.api:Error fetching https://api.crossref.org/works/10.1364/AO.4.001275: 429\n"
     ]
    },
    {
     "name": "stdout",
     "output_type": "stream",
     "text": [
      "3873/4181: https://api.crossref.org/works/10.1073/pnas.0904382106\r"
     ]
    },
    {
     "name": "stderr",
     "output_type": "stream",
     "text": [
      "ERROR:artfinder.api:Error fetching https://api.crossref.org/works/10.1126/scitranslmed.aaa1616: 429\n"
     ]
    },
    {
     "name": "stdout",
     "output_type": "stream",
     "text": [
      "3874/4181: https://api.crossref.org/works/10.1126/science.1233746\r"
     ]
    },
    {
     "name": "stderr",
     "output_type": "stream",
     "text": [
      "ERROR:artfinder.api:Error fetching https://api.crossref.org/works/10.1016/S1011-1344(01)00124-5: 429\n",
      "ERROR:artfinder.api:Error fetching https://api.crossref.org/works/10.1038/mtm.2015.5: 429\n",
      "ERROR:artfinder.api:Error fetching https://api.crossref.org/works/10.1063/1.556029: 429\n",
      "ERROR:artfinder.api:Error fetching https://api.crossref.org/works/10.1021/cr100313v: 429\n"
     ]
    },
    {
     "name": "stdout",
     "output_type": "stream",
     "text": [
      "3875/4181: https://api.crossref.org/works/10.1007/s11051-019-4523-4\r"
     ]
    },
    {
     "name": "stderr",
     "output_type": "stream",
     "text": [
      "ERROR:artfinder.api:Error fetching https://api.crossref.org/works/10.1016/j.apsusc.2009.04.131: 429\n",
      "ERROR:artfinder.api:Error fetching https://api.crossref.org/works/10.1063/5.0101658: 429\n"
     ]
    },
    {
     "name": "stdout",
     "output_type": "stream",
     "text": [
      "3877/4181: https://api.crossref.org/works/10.1016/j.apsusc.2006.04.031\r"
     ]
    },
    {
     "name": "stderr",
     "output_type": "stream",
     "text": [
      "ERROR:artfinder.api:Error fetching https://api.crossref.org/works/10.1021/ar200113c: 429\n"
     ]
    },
    {
     "name": "stdout",
     "output_type": "stream",
     "text": [
      "3879/4181: https://api.crossref.org/works/10.3390/nano100407876)00342-0\r"
     ]
    },
    {
     "name": "stderr",
     "output_type": "stream",
     "text": [
      "ERROR:artfinder.api:Error fetching https://api.crossref.org/works/10.2217/nnm.16: 429\n",
      "ERROR:artfinder.api:Error fetching https://api.crossref.org/works/10.1016/j.jphotochemrev.2012.01.001: 429\n",
      "ERROR:artfinder.api:Error fetching https://api.crossref.org/works/10.1002/marc.200400253: 429\n"
     ]
    },
    {
     "name": "stdout",
     "output_type": "stream",
     "text": [
      "3880/4181: https://api.crossref.org/works/10.1186/1471-2180-12-275\r"
     ]
    },
    {
     "name": "stderr",
     "output_type": "stream",
     "text": [
      "ERROR:artfinder.api:Error fetching https://api.crossref.org/works/10.1039/C8CS00618K: 429\n",
      "ERROR:artfinder.api:Error fetching https://api.crossref.org/works/10.1016/S0169-4332(02)00430-0: 429\n"
     ]
    },
    {
     "name": "stdout",
     "output_type": "stream",
     "text": [
      "3881/4181: https://api.crossref.org/works/10.1109/NANO.2015.7388956\r"
     ]
    },
    {
     "name": "stderr",
     "output_type": "stream",
     "text": [
      "ERROR:artfinder.api:Error fetching https://api.crossref.org/works/10.1021/ja0386905: 429\n"
     ]
    },
    {
     "name": "stdout",
     "output_type": "stream",
     "text": [
      "3882/4181: https://api.crossref.org/works/10.1021/acsami.0c21045\r"
     ]
    },
    {
     "name": "stderr",
     "output_type": "stream",
     "text": [
      "ERROR:artfinder.api:Error fetching https://api.crossref.org/works/10.1103/PhysRevB.39.9852: 429\n"
     ]
    },
    {
     "name": "stdout",
     "output_type": "stream",
     "text": [
      "3883/4181: https://api.crossref.org/works/10.1016/0250-6874(83)85036-7\r"
     ]
    },
    {
     "name": "stderr",
     "output_type": "stream",
     "text": [
      "ERROR:artfinder.api:Error fetching https://api.crossref.org/works/10.1088/1742-6596/945/1/012002: 429\n"
     ]
    },
    {
     "name": "stdout",
     "output_type": "stream",
     "text": [
      "3884/4181: https://api.crossref.org/works/10.2217/nnm.14.213\r"
     ]
    },
    {
     "name": "stderr",
     "output_type": "stream",
     "text": [
      "ERROR:artfinder.api:Error fetching https://api.crossref.org/works/10.2147/IJN.S215137: 429\n"
     ]
    },
    {
     "name": "stdout",
     "output_type": "stream",
     "text": [
      "3889/4181: https://api.crossref.org/works/10.1063/1.12668221-01017-99234200x\r"
     ]
    },
    {
     "name": "stderr",
     "output_type": "stream",
     "text": [
      "ERROR:artfinder.api:Error fetching https://api.crossref.org/works/10.1016/j.bios.2004.09.025: 429\n"
     ]
    },
    {
     "name": "stdout",
     "output_type": "stream",
     "text": [
      "3897/4181: https://api.crossref.org/works/10.1063/1.1562610asstransfer.2017.06.032\r"
     ]
    },
    {
     "name": "stderr",
     "output_type": "stream",
     "text": [
      "ERROR:artfinder.api:Error fetching https://api.crossref.org/works/10.1038/nphys584: 429\n"
     ]
    },
    {
     "name": "stdout",
     "output_type": "stream",
     "text": [
      "3898/4181: https://api.crossref.org/works/10.1038/nnano.2010.137\r"
     ]
    },
    {
     "name": "stderr",
     "output_type": "stream",
     "text": [
      "ERROR:artfinder.api:Error fetching https://api.crossref.org/works/10.1186/bcr328: 429\n",
      "ERROR:artfinder.api:Error fetching https://api.crossref.org/works/10.3762/bjnano.6.11: 429\n",
      "ERROR:artfinder.api:Error fetching https://api.crossref.org/works/10.1038/35098169: 429\n",
      "ERROR:artfinder.api:Error fetching https://api.crossref.org/works/10.1021/acs.jpcc.6b12858: 429\n",
      "ERROR:artfinder.api:Error fetching https://api.crossref.org/works/10.1007/s00339-018-1817-9: 429\n"
     ]
    },
    {
     "name": "stdout",
     "output_type": "stream",
     "text": [
      "3899/4181: https://api.crossref.org/works/10.1246/cl.1987.405\r"
     ]
    },
    {
     "name": "stderr",
     "output_type": "stream",
     "text": [
      "ERROR:artfinder.api:Error fetching https://api.crossref.org/works/10.1038/s41578-022-00433-0: 429\n",
      "ERROR:artfinder.api:Error fetching https://api.crossref.org/works/10.1038/nnano.2012.51: 429\n",
      "ERROR:artfinder.api:Error fetching https://api.crossref.org/works/10.1016/j.pquantelec.2010.04.001: 429\n",
      "ERROR:artfinder.api:Error fetching https://api.crossref.org/works/10.1088/0957-4484/23/7/078001: 429\n",
      "ERROR:artfinder.api:Error fetching https://api.crossref.org/works/10.1088/0957-0233/23/1/012001: 429\n",
      "ERROR:artfinder.api:Error fetching https://api.crossref.org/works/10.1016/B978-0-08-100557-6.00001-8: 429\n"
     ]
    },
    {
     "name": "stdout",
     "output_type": "stream",
     "text": [
      "3901/4181: https://api.crossref.org/works/10.1021/acsphotonics.0c01030\r"
     ]
    },
    {
     "name": "stderr",
     "output_type": "stream",
     "text": [
      "ERROR:artfinder.api:Error fetching https://api.crossref.org/works/10.1016/S0925-4005(97)80279-1: 429\n"
     ]
    },
    {
     "name": "stdout",
     "output_type": "stream",
     "text": [
      "3902/4181: https://api.crossref.org/works/10.1016/j.bios.2010.06.012\r"
     ]
    },
    {
     "name": "stderr",
     "output_type": "stream",
     "text": [
      "ERROR:artfinder.api:Error fetching https://api.crossref.org/works/10.1016/j.solener.2020.08.068: 429\n",
      "ERROR:artfinder.api:Error fetching https://api.crossref.org/works/10.1016/j.bios.2005.02.016: 429\n",
      "ERROR:artfinder.api:Error fetching https://api.crossref.org/works/10.1088/0022-3727/41/10/105408: 429\n",
      "ERROR:artfinder.api:Error fetching https://api.crossref.org/works/10.1158/1078-0432.CCR-11-2938: 429\n"
     ]
    },
    {
     "name": "stdout",
     "output_type": "stream",
     "text": [
      "3903/4181: https://api.crossref.org/works/10.1016/j.nucmedbio.2019.11.005\r"
     ]
    },
    {
     "name": "stderr",
     "output_type": "stream",
     "text": [
      "ERROR:artfinder.api:Error fetching https://api.crossref.org/works/10.1088/2053-1591/ab50a0: 429\n"
     ]
    },
    {
     "name": "stdout",
     "output_type": "stream",
     "text": [
      "3904/4181: https://api.crossref.org/works/10.1021/bc7002617\r"
     ]
    },
    {
     "name": "stderr",
     "output_type": "stream",
     "text": [
      "ERROR:artfinder.api:Error fetching https://api.crossref.org/works/10.1021/acscatal.0c00343: 429\n",
      "ERROR:artfinder.api:Error fetching https://api.crossref.org/works/10.1021/jp1090944: 429\n"
     ]
    },
    {
     "name": "stdout",
     "output_type": "stream",
     "text": [
      "3907/4181: https://api.crossref.org/works/10.1021/nl301594s4619.1660811\r"
     ]
    },
    {
     "name": "stderr",
     "output_type": "stream",
     "text": [
      "ERROR:artfinder.api:Error fetching https://api.crossref.org/works/10.1038/s41598-020-66419-6: 429\n"
     ]
    },
    {
     "name": "stdout",
     "output_type": "stream",
     "text": [
      "3908/4181: https://api.crossref.org/works/10.1016/j.bbrep.2021.100991\r"
     ]
    },
    {
     "name": "stderr",
     "output_type": "stream",
     "text": [
      "ERROR:artfinder.api:Error fetching https://api.crossref.org/works/10.1016/j.physleta.2004.07.029: 429\n",
      "ERROR:artfinder.api:Error fetching https://api.crossref.org/works/10.1063/1.321468: 429\n"
     ]
    },
    {
     "name": "stdout",
     "output_type": "stream",
     "text": [
      "3909/4181: https://api.crossref.org/works/10.1364/OE.16.006146\r"
     ]
    },
    {
     "name": "stderr",
     "output_type": "stream",
     "text": [
      "ERROR:artfinder.api:Error fetching https://api.crossref.org/works/10.1039/C5DT03111G: 429\n"
     ]
    },
    {
     "name": "stdout",
     "output_type": "stream",
     "text": [
      "3911/4181: https://api.crossref.org/works/10.1016/0038-1101(78)90308-8\r"
     ]
    },
    {
     "name": "stderr",
     "output_type": "stream",
     "text": [
      "ERROR:artfinder.api:Error fetching https://api.crossref.org/works/10.1016/j.apsusc.2018.10.064: 429\n",
      "ERROR:artfinder.api:Error fetching https://api.crossref.org/works/10.1364/OE.20.012997: 429\n"
     ]
    },
    {
     "name": "stdout",
     "output_type": "stream",
     "text": [
      "3912/4181: https://api.crossref.org/works/10.1016/j.str.2013.08.020\r"
     ]
    },
    {
     "name": "stderr",
     "output_type": "stream",
     "text": [
      "ERROR:artfinder.api:Error fetching https://api.crossref.org/works/10.1016/j.snb.2004.12.096: 429\n"
     ]
    },
    {
     "name": "stdout",
     "output_type": "stream",
     "text": [
      "3913/4181: https://api.crossref.org/works/10.1007/978-3-662-04074-4\r"
     ]
    },
    {
     "name": "stderr",
     "output_type": "stream",
     "text": [
      "ERROR:artfinder.api:Error fetching https://api.crossref.org/works/10.1016/j.cell.2010.06.011: 429\n"
     ]
    },
    {
     "name": "stdout",
     "output_type": "stream",
     "text": [
      "3921/4181: https://api.crossref.org/works/10.1364/JOSAA.19.0021007-y6501\r"
     ]
    },
    {
     "name": "stderr",
     "output_type": "stream",
     "text": [
      "ERROR:artfinder.api:Error fetching https://api.crossref.org/works/10.1111/jace.12856: 429\n"
     ]
    },
    {
     "name": "stdout",
     "output_type": "stream",
     "text": [
      "3922/4181: https://api.crossref.org/works/10.1021/jp953248x\r"
     ]
    },
    {
     "name": "stderr",
     "output_type": "stream",
     "text": [
      "ERROR:artfinder.api:Error fetching https://api.crossref.org/works/10.1007/s00204-009-0488-x: 429\n",
      "ERROR:artfinder.api:Error fetching https://api.crossref.org/works/10.1016/j.jconrel.2010.03.016: 429\n",
      "ERROR:artfinder.api:Error fetching https://api.crossref.org/works/10.1021/acs.nanolett.6b01958: 429\n",
      "ERROR:artfinder.api:Error fetching https://api.crossref.org/works/10.1021/jp0441240: 429\n"
     ]
    },
    {
     "name": "stdout",
     "output_type": "stream",
     "text": [
      "3923/4181: https://api.crossref.org/works/10.1016/j.tsf.2003.11.136\r"
     ]
    },
    {
     "name": "stderr",
     "output_type": "stream",
     "text": [
      "ERROR:artfinder.api:Error fetching https://api.crossref.org/works/10.1364/OE.10.000196: 429\n",
      "ERROR:artfinder.api:Error fetching https://api.crossref.org/works/10.1063/1.333979: 429\n"
     ]
    },
    {
     "name": "stdout",
     "output_type": "stream",
     "text": [
      "3924/4181: https://api.crossref.org/works/10.1016/j.apsusc.2005.01.137\r"
     ]
    },
    {
     "name": "stderr",
     "output_type": "stream",
     "text": [
      "ERROR:artfinder.api:Error fetching https://api.crossref.org/works/10.1063/1.110792: 429\n",
      "ERROR:artfinder.api:Error fetching https://api.crossref.org/works/10.1038/nphoton.2009.72: 429\n"
     ]
    },
    {
     "name": "stdout",
     "output_type": "stream",
     "text": [
      "3925/4181: https://api.crossref.org/works/10.1103/PhysRevB.82.155447\r"
     ]
    },
    {
     "name": "stderr",
     "output_type": "stream",
     "text": [
      "ERROR:artfinder.api:Error fetching https://api.crossref.org/works/10.1002/aenm.201502550: 429\n",
      "ERROR:artfinder.api:Error fetching https://api.crossref.org/works/10.1021/acsami.5b04427: 429\n"
     ]
    },
    {
     "name": "stdout",
     "output_type": "stream",
     "text": [
      "3926/4181: https://api.crossref.org/works/10.1039/C4NR01391C\r"
     ]
    },
    {
     "name": "stderr",
     "output_type": "stream",
     "text": [
      "ERROR:artfinder.api:Error fetching https://api.crossref.org/works/10.1063/1.1501768: 429\n"
     ]
    },
    {
     "name": "stdout",
     "output_type": "stream",
     "text": [
      "3927/4181: https://api.crossref.org/works/10.1103/PhysRevLett.89.137401\r"
     ]
    },
    {
     "name": "stderr",
     "output_type": "stream",
     "text": [
      "ERROR:artfinder.api:Error fetching https://api.crossref.org/works/10.1088/0305-4608/17/1/031: 429\n"
     ]
    },
    {
     "name": "stdout",
     "output_type": "stream",
     "text": [
      "3928/4181: https://api.crossref.org/works/10.1021/cm0602803\r"
     ]
    },
    {
     "name": "stderr",
     "output_type": "stream",
     "text": [
      "ERROR:artfinder.api:Error fetching https://api.crossref.org/works/10.1088/0957-4484/21/42/425102: 429\n"
     ]
    },
    {
     "name": "stdout",
     "output_type": "stream",
     "text": [
      "3929/4181: https://api.crossref.org/works/10.3390/ma9090775\r"
     ]
    },
    {
     "name": "stderr",
     "output_type": "stream",
     "text": [
      "ERROR:artfinder.api:Error fetching https://api.crossref.org/works/10.1039/b416066e: 429\n",
      "ERROR:artfinder.api:Error fetching https://api.crossref.org/works/10.1002/mp.13193: 429\n"
     ]
    },
    {
     "name": "stdout",
     "output_type": "stream",
     "text": [
      "3932/4181: https://api.crossref.org/works/10.1002/med.20177jes2c02358\r"
     ]
    },
    {
     "name": "stderr",
     "output_type": "stream",
     "text": [
      "ERROR:artfinder.api:Error fetching https://api.crossref.org/works/10.1002/adma.200401650: 429\n",
      "ERROR:artfinder.api:Error fetching https://api.crossref.org/works/10.1039/D1TA06741A: 429\n"
     ]
    },
    {
     "name": "stdout",
     "output_type": "stream",
     "text": [
      "3934/4181: https://api.crossref.org/works/10.1103/PhysRevB.94.205434641\r"
     ]
    },
    {
     "name": "stderr",
     "output_type": "stream",
     "text": [
      "ERROR:artfinder.api:Error fetching https://api.crossref.org/works/10.1021/nn202013v: 429\n"
     ]
    },
    {
     "name": "stdout",
     "output_type": "stream",
     "text": [
      "3937/4181: https://api.crossref.org/works/10.1016/j.apsusc.2023.1586625\r"
     ]
    },
    {
     "name": "stderr",
     "output_type": "stream",
     "text": [
      "ERROR:artfinder.api:Error fetching https://api.crossref.org/works/10.1143/JJAP.36.L563: 429\n"
     ]
    },
    {
     "name": "stdout",
     "output_type": "stream",
     "text": [
      "3938/4181: https://api.crossref.org/works/10.1016/j.elecom.2011.01.028\r"
     ]
    },
    {
     "name": "stderr",
     "output_type": "stream",
     "text": [
      "ERROR:artfinder.api:Error fetching https://api.crossref.org/works/10.1002/adma.v29.17: 429\n",
      "ERROR:artfinder.api:Error fetching https://api.crossref.org/works/10.1039/C6NR07520G: 429\n"
     ]
    },
    {
     "name": "stdout",
     "output_type": "stream",
     "text": [
      "3939/4181: https://api.crossref.org/works/10.1103/PhysRevB.90.125445\r"
     ]
    },
    {
     "name": "stderr",
     "output_type": "stream",
     "text": [
      "ERROR:artfinder.api:Error fetching https://api.crossref.org/works/10.1116/1.2798746: 429\n",
      "ERROR:artfinder.api:Error fetching https://api.crossref.org/works/10.1016/j.ijheatmasstransfer.2016.07.082: 429\n"
     ]
    },
    {
     "name": "stdout",
     "output_type": "stream",
     "text": [
      "3940/4181: https://api.crossref.org/works/10.1021/ja074144q\r"
     ]
    },
    {
     "name": "stderr",
     "output_type": "stream",
     "text": [
      "ERROR:artfinder.api:Error fetching https://api.crossref.org/works/10.1093/clinids/12.Supplement_1.S3: 429\n"
     ]
    },
    {
     "name": "stdout",
     "output_type": "stream",
     "text": [
      "3941/4181: https://api.crossref.org/works/10.1002/jbm.a.35491\r"
     ]
    },
    {
     "name": "stderr",
     "output_type": "stream",
     "text": [
      "ERROR:artfinder.api:Error fetching https://api.crossref.org/works/10.1021/acscatal.2c02390: 429\n"
     ]
    },
    {
     "name": "stdout",
     "output_type": "stream",
     "text": [
      "3942/4181: https://api.crossref.org/works/10.1007/s11431-022-2270-9\r"
     ]
    },
    {
     "name": "stderr",
     "output_type": "stream",
     "text": [
      "ERROR:artfinder.api:Error fetching https://api.crossref.org/works/10.1039/C3TC31819B: 429\n",
      "ERROR:artfinder.api:Error fetching https://api.crossref.org/works/10.1039/JR9290001994: 429\n"
     ]
    },
    {
     "name": "stdout",
     "output_type": "stream",
     "text": [
      "3945/4181: https://api.crossref.org/works/10.1038/s41467-022-30982-507265\r"
     ]
    },
    {
     "name": "stderr",
     "output_type": "stream",
     "text": [
      "ERROR:artfinder.api:Error fetching https://api.crossref.org/works/10.1038/nrclinonc.2013.79: 429\n",
      "ERROR:artfinder.api:Error fetching https://api.crossref.org/works/10.1016/S0925-4005(01)00881-4: 429\n",
      "ERROR:artfinder.api:Error fetching https://api.crossref.org/works/10.1117/1.3122371: 429\n"
     ]
    },
    {
     "name": "stdout",
     "output_type": "stream",
     "text": [
      "3947/4181: https://api.crossref.org/works/10.1016/0925-4005(94)01260-1\r"
     ]
    },
    {
     "name": "stderr",
     "output_type": "stream",
     "text": [
      "ERROR:artfinder.api:Error fetching https://api.crossref.org/works/10.1017/CBO9781139208802: 429\n"
     ]
    },
    {
     "name": "stdout",
     "output_type": "stream",
     "text": [
      "3972/4181: https://api.crossref.org/works/10.1088/1612-2011/11/8/085401\r"
     ]
    },
    {
     "name": "stderr",
     "output_type": "stream",
     "text": [
      "ERROR:artfinder.api:Error fetching https://api.crossref.org/works/10.1364/JOSAB.30.002589: 429\n",
      "ERROR:artfinder.api:Error fetching https://api.crossref.org/works/10.3103/S106833561712003X: 429\n",
      "ERROR:artfinder.api:Error fetching https://api.crossref.org/works/10.1021/jp027269k: 429\n",
      "ERROR:artfinder.api:Error fetching https://api.crossref.org/works/10.1021/acs.jpcb.9b08567: 429\n",
      "ERROR:artfinder.api:Error fetching https://api.crossref.org/works/10.1016/j.mspro.2015.11.027: 429\n"
     ]
    },
    {
     "name": "stdout",
     "output_type": "stream",
     "text": [
      "3973/4181: https://api.crossref.org/works/10.3390/nano9040572\r"
     ]
    },
    {
     "name": "stderr",
     "output_type": "stream",
     "text": [
      "ERROR:artfinder.api:Error fetching https://api.crossref.org/works/10.1103/PhysRevB.70.125113: 429\n"
     ]
    },
    {
     "name": "stdout",
     "output_type": "stream",
     "text": [
      "3974/4181: https://api.crossref.org/works/10.1149/2.001211jes\r"
     ]
    },
    {
     "name": "stderr",
     "output_type": "stream",
     "text": [
      "ERROR:artfinder.api:Error fetching https://api.crossref.org/works/10.1103/PhysRevLett.96.055503: 429\n",
      "ERROR:artfinder.api:Error fetching https://api.crossref.org/works/10.1016/j.apcatb.2019.04.093: 429\n"
     ]
    },
    {
     "name": "stdout",
     "output_type": "stream",
     "text": [
      "3975/4181: https://api.crossref.org/works/10.1039/b109490d\r"
     ]
    },
    {
     "name": "stderr",
     "output_type": "stream",
     "text": [
      "ERROR:artfinder.api:Error fetching https://api.crossref.org/works/10.1063/1.121516: 429\n",
      "ERROR:artfinder.api:Error fetching https://api.crossref.org/works/10.1021/acsanm.2c02946: 429\n",
      "ERROR:artfinder.api:Error fetching https://api.crossref.org/works/10.1016/j.msec.2016.11.121: 429\n",
      "ERROR:artfinder.api:Error fetching https://api.crossref.org/works/10.1103/PhysRevLett.85.3516: 429\n",
      "ERROR:artfinder.api:Error fetching https://api.crossref.org/works/10.1021/nl050066y: 429\n",
      "ERROR:artfinder.api:Error fetching https://api.crossref.org/works/10.1016/j.copbio.2011.06.004: 429\n",
      "ERROR:artfinder.api:Error fetching https://api.crossref.org/works/10.1063/1.363963: 429\n",
      "ERROR:artfinder.api:Error fetching https://api.crossref.org/works/10.1016/j.optcom.2007.04.021: 429\n",
      "ERROR:artfinder.api:Error fetching https://api.crossref.org/works/10.1038/s41587-019-0262-4: 429\n",
      "ERROR:artfinder.api:Error fetching https://api.crossref.org/works/10.1002/cac2.12089: 429\n",
      "ERROR:artfinder.api:Error fetching https://api.crossref.org/works/10.1016/j.optlastec.2022.108393: 429\n",
      "ERROR:artfinder.api:Error fetching https://api.crossref.org/works/10.3390/ijms23094949: 429\n",
      "ERROR:artfinder.api:Error fetching https://api.crossref.org/works/10.1016/j.jmmm.2017.01.031: 429\n"
     ]
    },
    {
     "name": "stdout",
     "output_type": "stream",
     "text": [
      "3977/4181: https://api.crossref.org/works/10.1039/b008429h005.06.004\r"
     ]
    },
    {
     "name": "stderr",
     "output_type": "stream",
     "text": [
      "ERROR:artfinder.api:Error fetching https://api.crossref.org/works/10.1063/1.105129: 429\n",
      "ERROR:artfinder.api:Error fetching https://api.crossref.org/works/10.1002/jmr.808: 429\n"
     ]
    },
    {
     "name": "stdout",
     "output_type": "stream",
     "text": [
      "3978/4181: https://api.crossref.org/works/10.1038/nmat1390\r"
     ]
    },
    {
     "name": "stderr",
     "output_type": "stream",
     "text": [
      "ERROR:artfinder.api:Error fetching https://api.crossref.org/works/10.1002/adfm.200900377: 429\n",
      "ERROR:artfinder.api:Error fetching https://api.crossref.org/works/10.1016/j.ijfoodmicro.2014.12.018: 429\n"
     ]
    },
    {
     "name": "stdout",
     "output_type": "stream",
     "text": [
      "3979/4181: https://api.crossref.org/works/10.3390/nano10101998\r"
     ]
    },
    {
     "name": "stderr",
     "output_type": "stream",
     "text": [
      "ERROR:artfinder.api:Error fetching https://api.crossref.org/works/10.1038/ncomms16061: 429\n",
      "ERROR:artfinder.api:Error fetching https://api.crossref.org/works/10.1038/scientificamerican1090-100: 429\n",
      "ERROR:artfinder.api:Error fetching https://api.crossref.org/works/10.1063/1.88808: 429\n"
     ]
    },
    {
     "name": "stdout",
     "output_type": "stream",
     "text": [
      "3980/4181: https://api.crossref.org/works/10.1021/nl0492436\r"
     ]
    },
    {
     "name": "stderr",
     "output_type": "stream",
     "text": [
      "ERROR:artfinder.api:Error fetching https://api.crossref.org/works/10.1149/2.1211910jes: 429\n"
     ]
    },
    {
     "name": "stdout",
     "output_type": "stream",
     "text": [
      "3981/4181: https://api.crossref.org/works/10.1016/j.ijheatmasstransfer.2012.05.087\r"
     ]
    },
    {
     "name": "stderr",
     "output_type": "stream",
     "text": [
      "ERROR:artfinder.api:Error fetching https://api.crossref.org/works/10.1002/smll.202007486: 429\n"
     ]
    },
    {
     "name": "stdout",
     "output_type": "stream",
     "text": [
      "3983/4181: https://api.crossref.org/works/10.1016/j.bios.2006.04.021\r"
     ]
    },
    {
     "name": "stderr",
     "output_type": "stream",
     "text": [
      "ERROR:artfinder.api:Error fetching https://api.crossref.org/works/10.1021/acsnano.0c04659: 429\n",
      "ERROR:artfinder.api:Error fetching https://api.crossref.org/works/10.1023/A:1005781517624: 429\n",
      "ERROR:artfinder.api:Error fetching https://api.crossref.org/works/10.1016/j.talanta.2015.09.006: 429\n"
     ]
    },
    {
     "name": "stdout",
     "output_type": "stream",
     "text": [
      "3984/4181: https://api.crossref.org/works/10.1063/1.1435802\r"
     ]
    },
    {
     "name": "stderr",
     "output_type": "stream",
     "text": [
      "ERROR:artfinder.api:Error fetching https://api.crossref.org/works/10.1063/1.109087: 429\n"
     ]
    },
    {
     "name": "stdout",
     "output_type": "stream",
     "text": [
      "3985/4181: https://api.crossref.org/works/10.1021/cr0500535\r"
     ]
    },
    {
     "name": "stderr",
     "output_type": "stream",
     "text": [
      "ERROR:artfinder.api:Error fetching https://api.crossref.org/works/10.1002/adma.201505700: 429\n",
      "ERROR:artfinder.api:Error fetching https://api.crossref.org/works/10.1021/mp300634b: 429\n"
     ]
    },
    {
     "name": "stdout",
     "output_type": "stream",
     "text": [
      "3986/4181: https://api.crossref.org/works/10.1103/PhysRevA.45.8185\r"
     ]
    },
    {
     "name": "stderr",
     "output_type": "stream",
     "text": [
      "ERROR:artfinder.api:Error fetching https://api.crossref.org/works/10.1088/0957-4484/23/7/075102: 429\n"
     ]
    },
    {
     "name": "stdout",
     "output_type": "stream",
     "text": [
      "3988/4181: https://api.crossref.org/works/10.1116/1.295572870120\r"
     ]
    },
    {
     "name": "stderr",
     "output_type": "stream",
     "text": [
      "ERROR:artfinder.api:Error fetching https://api.crossref.org/works/10.1016/j.jmmm.2006.10.1180: 429\n",
      "ERROR:artfinder.api:Error fetching https://api.crossref.org/works/10.1016/j.addr.2016.11.006: 429\n"
     ]
    },
    {
     "name": "stdout",
     "output_type": "stream",
     "text": [
      "3993/4181: https://api.crossref.org/works/10.1016/j.carbpol.2010.04.074\r"
     ]
    },
    {
     "name": "stderr",
     "output_type": "stream",
     "text": [
      "ERROR:artfinder.api:Error fetching https://api.crossref.org/works/10.1002/cphc.200900743: 429\n"
     ]
    },
    {
     "name": "stdout",
     "output_type": "stream",
     "text": [
      "4002/4181: https://api.crossref.org/works/10.1021/cg070635a1431.05.001\r"
     ]
    },
    {
     "name": "stderr",
     "output_type": "stream",
     "text": [
      "ERROR:artfinder.api:Error fetching https://api.crossref.org/works/10.1002/(ISSN)1096-9098: 429\n",
      "ERROR:artfinder.api:Error fetching https://api.crossref.org/works/10.1038/s41586-018-0618-9: 429\n",
      "ERROR:artfinder.api:Error fetching https://api.crossref.org/works/10.1063/1.1760740: 429\n",
      "ERROR:artfinder.api:Error fetching https://api.crossref.org/works/10.1007/s10856-006-0700-y: 429\n",
      "ERROR:artfinder.api:Error fetching https://api.crossref.org/works/10.1103/PhysRevLett.61.869: 429\n"
     ]
    },
    {
     "name": "stdout",
     "output_type": "stream",
     "text": [
      "4003/4181: https://api.crossref.org/works/10.1116/1.576995\r"
     ]
    },
    {
     "name": "stderr",
     "output_type": "stream",
     "text": [
      "ERROR:artfinder.api:Error fetching https://api.crossref.org/works/10.1016/S0927-7757(01)00854-8: 429\n",
      "ERROR:artfinder.api:Error fetching https://api.crossref.org/works/10.1039/b601271j: 429\n",
      "ERROR:artfinder.api:Error fetching https://api.crossref.org/works/10.1016/j.apsusc.2012.12.035: 429\n",
      "ERROR:artfinder.api:Error fetching https://api.crossref.org/works/10.1103/PhysRevB.74.224106: 429\n",
      "ERROR:artfinder.api:Error fetching https://api.crossref.org/works/10.1063/1.3276161: 429\n",
      "ERROR:artfinder.api:Error fetching https://api.crossref.org/works/10.1103/PhysRevLett.92.107401: 429\n",
      "ERROR:artfinder.api:Error fetching https://api.crossref.org/works/10.1063/1.3526746: 429\n"
     ]
    },
    {
     "name": "stdout",
     "output_type": "stream",
     "text": [
      "4005/4181: https://api.crossref.org/works/10.1021/bc0000029\r"
     ]
    },
    {
     "name": "stderr",
     "output_type": "stream",
     "text": [
      "ERROR:artfinder.api:Error fetching https://api.crossref.org/works/10.1021/nl900031y: 429\n"
     ]
    },
    {
     "name": "stdout",
     "output_type": "stream",
     "text": [
      "4006/4181: https://api.crossref.org/works/10.1093/jnci/dji314\r"
     ]
    },
    {
     "name": "stderr",
     "output_type": "stream",
     "text": [
      "ERROR:artfinder.api:Error fetching https://api.crossref.org/works/10.1016/j.surg.2010.04.025: 429\n",
      "ERROR:artfinder.api:Error fetching https://api.crossref.org/works/10.1021/acs.molpharmaceut.6b01010: 429\n",
      "ERROR:artfinder.api:Error fetching https://api.crossref.org/works/10.1007/s11694-011-9106-8: 429\n",
      "ERROR:artfinder.api:Error fetching https://api.crossref.org/works/10.1002/andp.19213690304: 429\n"
     ]
    },
    {
     "name": "stdout",
     "output_type": "stream",
     "text": [
      "4008/4181: https://api.crossref.org/works/10.4236/ampc.2012.210028.00131.x\r"
     ]
    },
    {
     "name": "stderr",
     "output_type": "stream",
     "text": [
      "ERROR:artfinder.api:Error fetching https://api.crossref.org/works/10.1016/j.molmed.2018.05.003: 429\n",
      "ERROR:artfinder.api:Error fetching https://api.crossref.org/works/10.1016/j.jconrel.2016.01.020: 429\n"
     ]
    },
    {
     "name": "stdout",
     "output_type": "stream",
     "text": [
      "4009/4181: https://api.crossref.org/works/10.1126/science.1114849\r"
     ]
    },
    {
     "name": "stderr",
     "output_type": "stream",
     "text": [
      "ERROR:artfinder.api:Error fetching https://api.crossref.org/works/10.1364/OL.32.002834: 429\n"
     ]
    },
    {
     "name": "stdout",
     "output_type": "stream",
     "text": [
      "4011/4181: https://api.crossref.org/works/10.1021/acs.nanolett.5b01563\r"
     ]
    },
    {
     "name": "stderr",
     "output_type": "stream",
     "text": [
      "ERROR:artfinder.api:Error fetching https://api.crossref.org/works/10.1080/10408430600930438: 429\n"
     ]
    },
    {
     "name": "stdout",
     "output_type": "stream",
     "text": [
      "4012/4181: https://api.crossref.org/works/10.1038/35015043\r"
     ]
    },
    {
     "name": "stderr",
     "output_type": "stream",
     "text": [
      "ERROR:artfinder.api:Error fetching https://api.crossref.org/works/10.1038/nrclinonc.2010.139: 429\n",
      "ERROR:artfinder.api:Error fetching https://api.crossref.org/works/10.1021/nl501628x: 429\n"
     ]
    },
    {
     "name": "stdout",
     "output_type": "stream",
     "text": [
      "4013/4181: https://api.crossref.org/works/10.1039/C2CS35364D\r"
     ]
    },
    {
     "name": "stderr",
     "output_type": "stream",
     "text": [
      "ERROR:artfinder.api:Error fetching https://api.crossref.org/works/10.1126/science.aag2472: 429\n"
     ]
    },
    {
     "name": "stdout",
     "output_type": "stream",
     "text": [
      "4015/4181: https://api.crossref.org/works/10.1117/1.JBO.22.4.045002\r"
     ]
    },
    {
     "name": "stderr",
     "output_type": "stream",
     "text": [
      "ERROR:artfinder.api:Error fetching https://api.crossref.org/works/10.1016/j.materresbull.2012.05.051: 429\n"
     ]
    },
    {
     "name": "stdout",
     "output_type": "stream",
     "text": [
      "4016/4181: https://api.crossref.org/works/10.1002/pssa.200306519\r"
     ]
    },
    {
     "name": "stderr",
     "output_type": "stream",
     "text": [
      "ERROR:artfinder.api:Error fetching https://api.crossref.org/works/10.1021/ac303657k: 429\n"
     ]
    },
    {
     "name": "stdout",
     "output_type": "stream",
     "text": [
      "4017/4181: https://api.crossref.org/works/10.1088/0031-9155/49/18/N03\r"
     ]
    },
    {
     "name": "stderr",
     "output_type": "stream",
     "text": [
      "ERROR:artfinder.api:Error fetching https://api.crossref.org/works/10.1103/PhysRevB.98.115426: 429\n",
      "ERROR:artfinder.api:Error fetching https://api.crossref.org/works/10.1001/archopht.1989.01070010601038: 429\n"
     ]
    },
    {
     "name": "stdout",
     "output_type": "stream",
     "text": [
      "4026/4181: https://api.crossref.org/works/10.1021/bc030047k252663465\r"
     ]
    },
    {
     "name": "stderr",
     "output_type": "stream",
     "text": [
      "ERROR:artfinder.api:Error fetching https://api.crossref.org/works/10.1088/1361-6528/aafa3a: 429\n",
      "ERROR:artfinder.api:Error fetching https://api.crossref.org/works/10.1002/jbm.a.36272: 429\n",
      "ERROR:artfinder.api:Error fetching https://api.crossref.org/works/10.1134/S0021364006090128: 429\n",
      "ERROR:artfinder.api:Error fetching https://api.crossref.org/works/10.1038/s41560-021-00919-1: 429\n"
     ]
    },
    {
     "name": "stdout",
     "output_type": "stream",
     "text": [
      "4027/4181: https://api.crossref.org/works/10.1002/smll.201500891\r"
     ]
    },
    {
     "name": "stderr",
     "output_type": "stream",
     "text": [
      "ERROR:artfinder.api:Error fetching https://api.crossref.org/works/10.1063/1.2834902: 429\n",
      "ERROR:artfinder.api:Error fetching https://api.crossref.org/works/10.1021/acs.jpcc.0c09970: 429\n"
     ]
    },
    {
     "name": "stdout",
     "output_type": "stream",
     "text": [
      "4028/4181: https://api.crossref.org/works/10.1021/acsphotonics.6b00652\r"
     ]
    },
    {
     "name": "stderr",
     "output_type": "stream",
     "text": [
      "ERROR:artfinder.api:Error fetching https://api.crossref.org/works/10.1002/smll.200700256: 429\n",
      "ERROR:artfinder.api:Error fetching https://api.crossref.org/works/10.1186/1748-717X-7-1: 429\n"
     ]
    },
    {
     "name": "stdout",
     "output_type": "stream",
     "text": [
      "4029/4181: https://api.crossref.org/works/10.1038/nphoton.2014.9\r"
     ]
    },
    {
     "name": "stderr",
     "output_type": "stream",
     "text": [
      "ERROR:artfinder.api:Error fetching https://api.crossref.org/works/10.1088/1742-6596/41/1/054: 429\n",
      "ERROR:artfinder.api:Error fetching https://api.crossref.org/works/10.3390/s140915914: 429\n",
      "ERROR:artfinder.api:Error fetching https://api.crossref.org/works/10.1051/jp4:1999546: 429\n"
     ]
    },
    {
     "name": "stdout",
     "output_type": "stream",
     "text": [
      "4030/4181: https://api.crossref.org/works/10.1021/jp062536y\r"
     ]
    },
    {
     "name": "stderr",
     "output_type": "stream",
     "text": [
      "ERROR:artfinder.api:Error fetching https://api.crossref.org/works/10.1364/OL.39.005192: 429\n"
     ]
    },
    {
     "name": "stdout",
     "output_type": "stream",
     "text": [
      "4031/4181: https://api.crossref.org/works/10.1016/j.biomaterials.2007.12.037\r"
     ]
    },
    {
     "name": "stderr",
     "output_type": "stream",
     "text": [
      "ERROR:artfinder.api:Error fetching https://api.crossref.org/works/10.1126/science.281.5385.2016: 429\n"
     ]
    },
    {
     "name": "stdout",
     "output_type": "stream",
     "text": [
      "4032/4181: https://api.crossref.org/works/10.1186/1477-3155-9-34\r"
     ]
    },
    {
     "name": "stderr",
     "output_type": "stream",
     "text": [
      "ERROR:artfinder.api:Error fetching https://api.crossref.org/works/10.1073/pnas.0707654105: 429\n"
     ]
    },
    {
     "name": "stdout",
     "output_type": "stream",
     "text": [
      "4033/4181: https://api.crossref.org/works/10.1016/j.bios.2019.111573\r"
     ]
    },
    {
     "name": "stderr",
     "output_type": "stream",
     "text": [
      "ERROR:artfinder.api:Error fetching https://api.crossref.org/works/10.1021/acsabm.0c00573: 429\n",
      "ERROR:artfinder.api:Error fetching https://api.crossref.org/works/10.1039/C8CP02825G: 429\n"
     ]
    },
    {
     "name": "stdout",
     "output_type": "stream",
     "text": [
      "4035/4181: https://api.crossref.org/works/10.1021/jp302485g\r"
     ]
    },
    {
     "name": "stderr",
     "output_type": "stream",
     "text": [
      "ERROR:artfinder.api:Error fetching https://api.crossref.org/works/10.1134/S0010508218040093: 429\n"
     ]
    },
    {
     "name": "stdout",
     "output_type": "stream",
     "text": [
      "4036/4181: https://api.crossref.org/works/10.1038/nmat3431\r"
     ]
    },
    {
     "name": "stderr",
     "output_type": "stream",
     "text": [
      "ERROR:artfinder.api:Error fetching https://api.crossref.org/works/10.1002/mp.2018.45.issue-11: 429\n"
     ]
    },
    {
     "name": "stdout",
     "output_type": "stream",
     "text": [
      "4037/4181: https://api.crossref.org/works/10.1016/0038-1098(84)90292-8\r"
     ]
    },
    {
     "name": "stderr",
     "output_type": "stream",
     "text": [
      "ERROR:artfinder.api:Error fetching https://api.crossref.org/works/10.1103/PhysRevLett.113.247401: 429\n"
     ]
    },
    {
     "name": "stdout",
     "output_type": "stream",
     "text": [
      "4041/4181: https://api.crossref.org/works/10.1186/1477-3155-6-237-3_3\r"
     ]
    },
    {
     "name": "stderr",
     "output_type": "stream",
     "text": [
      "ERROR:artfinder.api:Error fetching https://api.crossref.org/works/10.1103/PhysRevLett.101.143902: 429\n"
     ]
    },
    {
     "name": "stdout",
     "output_type": "stream",
     "text": [
      "4042/4181: https://api.crossref.org/works/10.1038/s41598-017-13323-1\r"
     ]
    },
    {
     "name": "stderr",
     "output_type": "stream",
     "text": [
      "ERROR:artfinder.api:Error fetching https://api.crossref.org/works/10.1063/1.1370996: 429\n",
      "ERROR:artfinder.api:Error fetching https://api.crossref.org/works/10.1021/jp902741z: 429\n"
     ]
    },
    {
     "name": "stdout",
     "output_type": "stream",
     "text": [
      "4043/4181: https://api.crossref.org/works/10.2147/IJN.S141201\r"
     ]
    },
    {
     "name": "stderr",
     "output_type": "stream",
     "text": [
      "ERROR:artfinder.api:Error fetching https://api.crossref.org/works/10.3390/polym4010150: 429\n",
      "ERROR:artfinder.api:Error fetching https://api.crossref.org/works/10.1121/1.388631: 429\n"
     ]
    },
    {
     "name": "stdout",
     "output_type": "stream",
     "text": [
      "4044/4181: https://api.crossref.org/works/10.1364/OE.18.014395\r"
     ]
    },
    {
     "name": "stderr",
     "output_type": "stream",
     "text": [
      "ERROR:artfinder.api:Error fetching https://api.crossref.org/works/10.1002/anie.201403331: 429\n"
     ]
    },
    {
     "name": "stdout",
     "output_type": "stream",
     "text": [
      "4045/4181: https://api.crossref.org/works/10.1021/nl300316f\r"
     ]
    },
    {
     "name": "stderr",
     "output_type": "stream",
     "text": [
      "ERROR:artfinder.api:Error fetching https://api.crossref.org/works/10.1103/PhysRevLett.124.243901: 429\n"
     ]
    },
    {
     "name": "stdout",
     "output_type": "stream",
     "text": [
      "4046/4181: https://api.crossref.org/works/10.1016/j.bios.2016.04.017\r"
     ]
    },
    {
     "name": "stderr",
     "output_type": "stream",
     "text": [
      "ERROR:artfinder.api:Error fetching https://api.crossref.org/works/10.1021/mp9001415: 429\n",
      "ERROR:artfinder.api:Error fetching https://api.crossref.org/works/10.1021/am900301x: 429\n"
     ]
    },
    {
     "name": "stdout",
     "output_type": "stream",
     "text": [
      "4049/4181: https://api.crossref.org/works/10.1016/S0169-4332(97)00661-205\r"
     ]
    },
    {
     "name": "stderr",
     "output_type": "stream",
     "text": [
      "ERROR:artfinder.api:Error fetching https://api.crossref.org/works/10.1016/S0925-4005(03)00382-4: 429\n",
      "ERROR:artfinder.api:Error fetching https://api.crossref.org/works/10.1103/PhysRevE.66.066406: 429\n"
     ]
    },
    {
     "name": "stdout",
     "output_type": "stream",
     "text": [
      "4050/4181: https://api.crossref.org/works/10.4172/2157-7439.1000267\r"
     ]
    },
    {
     "name": "stderr",
     "output_type": "stream",
     "text": [
      "ERROR:artfinder.api:Error fetching https://api.crossref.org/works/10.20892/j.issn.2095-3941.2020.0510: 429\n"
     ]
    },
    {
     "name": "stdout",
     "output_type": "stream",
     "text": [
      "4051/4181: https://api.crossref.org/works/10.1063/1.362605\r"
     ]
    },
    {
     "name": "stderr",
     "output_type": "stream",
     "text": [
      "ERROR:artfinder.api:Error fetching https://api.crossref.org/works/10.1073/pnas.0801763105: 429\n"
     ]
    },
    {
     "name": "stdout",
     "output_type": "stream",
     "text": [
      "4077/4181: https://api.crossref.org/works/10.1039/D0OB00690Ds.abd28233405\r"
     ]
    },
    {
     "name": "stderr",
     "output_type": "stream",
     "text": [
      "ERROR:artfinder.api:Error fetching https://api.crossref.org/works/10.1063/1.1775294: 429\n",
      "ERROR:artfinder.api:Error fetching https://api.crossref.org/works/10.1016/j.jnucmat.2014.06.056: 429\n",
      "ERROR:artfinder.api:Error fetching https://api.crossref.org/works/10.1021/jp984429c: 429\n",
      "ERROR:artfinder.api:Error fetching https://api.crossref.org/works/10.1038/nmat3839: 429\n",
      "ERROR:artfinder.api:Error fetching https://api.crossref.org/works/10.1126/science.1233746: 429\n",
      "ERROR:artfinder.api:Error fetching https://api.crossref.org/works/10.1073/pnas.0904382106: 429\n"
     ]
    },
    {
     "name": "stdout",
     "output_type": "stream",
     "text": [
      "4078/4181: https://api.crossref.org/works/10.1039/C3NR04995G\r"
     ]
    },
    {
     "name": "stderr",
     "output_type": "stream",
     "text": [
      "ERROR:artfinder.api:Error fetching https://api.crossref.org/works/10.1007/s11051-019-4523-4: 429\n"
     ]
    },
    {
     "name": "stdout",
     "output_type": "stream",
     "text": [
      "4079/4181: https://api.crossref.org/works/10.1158/1078-0432.CCR-05-0035\r"
     ]
    },
    {
     "name": "stderr",
     "output_type": "stream",
     "text": [
      "ERROR:artfinder.api:Error fetching https://api.crossref.org/works/10.1109/NANO.2015.7388956: 429\n",
      "ERROR:artfinder.api:Error fetching https://api.crossref.org/works/10.2217/nnm.14.213: 429\n",
      "ERROR:artfinder.api:Error fetching https://api.crossref.org/works/10.1016/j.apsusc.2006.04.031: 429\n",
      "ERROR:artfinder.api:Error fetching https://api.crossref.org/works/10.1186/1471-2180-12-275: 429\n",
      "ERROR:artfinder.api:Error fetching https://api.crossref.org/works/10.1016/S0017-9310(96)00342-0: 429\n",
      "ERROR:artfinder.api:Error fetching https://api.crossref.org/works/10.3390/nano10040787: 429\n",
      "ERROR:artfinder.api:Error fetching https://api.crossref.org/works/10.1016/0250-6874(83)85036-7: 429\n",
      "ERROR:artfinder.api:Error fetching https://api.crossref.org/works/10.1021/acsami.0c21045: 429\n",
      "ERROR:artfinder.api:Error fetching https://api.crossref.org/works/10.1002/macp.201500051: 429\n"
     ]
    },
    {
     "name": "stdout",
     "output_type": "stream",
     "text": [
      "4080/4181: https://api.crossref.org/works/10.1038/nprot.2006.339\r"
     ]
    },
    {
     "name": "stderr",
     "output_type": "stream",
     "text": [
      "ERROR:artfinder.api:Error fetching https://api.crossref.org/works/10.2174/1389450115666141029234200: 429\n",
      "ERROR:artfinder.api:Error fetching https://api.crossref.org/works/10.1063/1.126682: 429\n"
     ]
    },
    {
     "name": "stdout",
     "output_type": "stream",
     "text": [
      "4082/4181: https://api.crossref.org/works/10.1016/S0008-6223(00)00179-2\r"
     ]
    },
    {
     "name": "stderr",
     "output_type": "stream",
     "text": [
      "ERROR:artfinder.api:Error fetching https://api.crossref.org/works/10.3390/photonics9100744: 429\n",
      "ERROR:artfinder.api:Error fetching https://api.crossref.org/works/10.1002/cphc.v18.9: 429\n",
      "ERROR:artfinder.api:Error fetching https://api.crossref.org/works/10.1016/j.nanoen.2022.107989: 429\n",
      "ERROR:artfinder.api:Error fetching https://api.crossref.org/works/10.1007/s00441-004-0884-8: 429\n"
     ]
    },
    {
     "name": "stdout",
     "output_type": "stream",
     "text": [
      "4083/4181: https://api.crossref.org/works/10.1007/s11468-013-9621-z\r"
     ]
    },
    {
     "name": "stderr",
     "output_type": "stream",
     "text": [
      "ERROR:artfinder.api:Error fetching https://api.crossref.org/works/10.1103/PhysRevB.88.245428: 429\n",
      "ERROR:artfinder.api:Error fetching https://api.crossref.org/works/10.1007/s00109-004-0629-x: 429\n"
     ]
    },
    {
     "name": "stdout",
     "output_type": "stream",
     "text": [
      "4084/4181: https://api.crossref.org/works/10.3748/wjg.15.160\r"
     ]
    },
    {
     "name": "stderr",
     "output_type": "stream",
     "text": [
      "ERROR:artfinder.api:Error fetching https://api.crossref.org/works/10.1016/j.ijheatmasstransfer.2017.06.032: 429\n",
      "ERROR:artfinder.api:Error fetching https://api.crossref.org/works/10.1063/1.1562610: 429\n"
     ]
    },
    {
     "name": "stdout",
     "output_type": "stream",
     "text": [
      "4085/4181: https://api.crossref.org/works/10.1016/j.tibtech.2014.06.008\r"
     ]
    },
    {
     "name": "stderr",
     "output_type": "stream",
     "text": [
      "ERROR:artfinder.api:Error fetching https://api.crossref.org/works/10.1038/nnano.2010.137: 429\n"
     ]
    },
    {
     "name": "stdout",
     "output_type": "stream",
     "text": [
      "4087/4181: https://api.crossref.org/works/10.1016/B978-0-12-409547-2.14045-4\r"
     ]
    },
    {
     "name": "stderr",
     "output_type": "stream",
     "text": [
      "ERROR:artfinder.api:Error fetching https://api.crossref.org/works/10.1038/lsa.2014.101: 429\n",
      "ERROR:artfinder.api:Error fetching https://api.crossref.org/works/10.1021/acsphotonics.0c01030: 429\n"
     ]
    },
    {
     "name": "stdout",
     "output_type": "stream",
     "text": [
      "4088/4181: https://api.crossref.org/works/10.1007/s003390000590\r"
     ]
    },
    {
     "name": "stderr",
     "output_type": "stream",
     "text": [
      "ERROR:artfinder.api:Error fetching https://api.crossref.org/works/10.1246/cl.1987.405: 429\n",
      "ERROR:artfinder.api:Error fetching https://api.crossref.org/works/10.1021/acs.nanolett.8b02652: 429\n"
     ]
    },
    {
     "name": "stdout",
     "output_type": "stream",
     "text": [
      "4089/4181: https://api.crossref.org/works/10.1016/j.enconman.2019.112019\r"
     ]
    },
    {
     "name": "stderr",
     "output_type": "stream",
     "text": [
      "ERROR:artfinder.api:Error fetching https://api.crossref.org/works/10.1016/j.nucmedbio.2019.11.005: 429\n",
      "ERROR:artfinder.api:Error fetching https://api.crossref.org/works/10.1016/j.bios.2010.06.012: 429\n"
     ]
    },
    {
     "name": "stdout",
     "output_type": "stream",
     "text": [
      "4090/4181: https://api.crossref.org/works/10.1021/nn300989g\r"
     ]
    },
    {
     "name": "stderr",
     "output_type": "stream",
     "text": [
      "ERROR:artfinder.api:Error fetching https://api.crossref.org/works/10.1021/bc7002617: 429\n",
      "ERROR:artfinder.api:Error fetching https://api.crossref.org/works/10.1080/02656736.2019.1660811: 429\n"
     ]
    },
    {
     "name": "stdout",
     "output_type": "stream",
     "text": [
      "4091/4181: https://api.crossref.org/works/10.1103/PhysRevLett.105.053901\r"
     ]
    },
    {
     "name": "stderr",
     "output_type": "stream",
     "text": [
      "ERROR:artfinder.api:Error fetching https://api.crossref.org/works/10.1038/s41565-021-01017-9: 429\n",
      "ERROR:artfinder.api:Error fetching https://api.crossref.org/works/10.1111/j.1365-2362.1992.tb01933.x: 429\n"
     ]
    },
    {
     "name": "stdout",
     "output_type": "stream",
     "text": [
      "4092/4181: https://api.crossref.org/works/10.1021/jp022003z\r"
     ]
    },
    {
     "name": "stderr",
     "output_type": "stream",
     "text": [
      "ERROR:artfinder.api:Error fetching https://api.crossref.org/works/10.1021/j150541a046: 429\n",
      "ERROR:artfinder.api:Error fetching https://api.crossref.org/works/10.1021/nl301594s: 429\n"
     ]
    },
    {
     "name": "stdout",
     "output_type": "stream",
     "text": [
      "4097/4181: https://api.crossref.org/works/10.1021/acsami.9b0723910005.03.027\r"
     ]
    },
    {
     "name": "stderr",
     "output_type": "stream",
     "text": [
      "ERROR:artfinder.api:Error fetching https://api.crossref.org/works/10.1016/j.bbrep.2021.100991: 429\n"
     ]
    },
    {
     "name": "stdout",
     "output_type": "stream",
     "text": [
      "4106/4181: https://api.crossref.org/works/10.1016/0022-4596(80)90555-12\r"
     ]
    },
    {
     "name": "stderr",
     "output_type": "stream",
     "text": [
      "ERROR:artfinder.api:Error fetching https://api.crossref.org/works/10.1364/OE.16.006146: 429\n",
      "ERROR:artfinder.api:Error fetching https://api.crossref.org/works/10.1016/0038-1101(78)90308-8: 429\n",
      "ERROR:artfinder.api:Error fetching https://api.crossref.org/works/10.1007/978-3-662-04074-4: 429\n",
      "ERROR:artfinder.api:Error fetching https://api.crossref.org/works/10.1021/bc100552p: 429\n",
      "ERROR:artfinder.api:Error fetching https://api.crossref.org/works/10.1016/j.str.2013.08.020: 429\n"
     ]
    },
    {
     "name": "stdout",
     "output_type": "stream",
     "text": [
      "4107/4181: https://api.crossref.org/works/10.1016/S0965-9773(97)00005-6\r"
     ]
    },
    {
     "name": "stderr",
     "output_type": "stream",
     "text": [
      "ERROR:artfinder.api:Error fetching https://api.crossref.org/works/10.1007/BF03296063: 429\n",
      "ERROR:artfinder.api:Error fetching https://api.crossref.org/works/10.1088/0034-4885/72/12/126501: 429\n",
      "ERROR:artfinder.api:Error fetching https://api.crossref.org/works/10.1364/JOSAB.2.000931: 429\n",
      "ERROR:artfinder.api:Error fetching https://api.crossref.org/works/10.1002/adma.201700850: 429\n"
     ]
    },
    {
     "name": "stdout",
     "output_type": "stream",
     "text": [
      "4108/4181: https://api.crossref.org/works/10.1089/108497803322702833\r"
     ]
    },
    {
     "name": "stderr",
     "output_type": "stream",
     "text": [
      "ERROR:artfinder.api:Error fetching https://api.crossref.org/works/10.1021/acsnano.9b08004: 429\n",
      "ERROR:artfinder.api:Error fetching https://api.crossref.org/works/10.1007/s12668-022-01057-y: 429\n",
      "ERROR:artfinder.api:Error fetching https://api.crossref.org/works/10.1016/j.jpba.2009.07.031: 429\n"
     ]
    },
    {
     "name": "stdout",
     "output_type": "stream",
     "text": [
      "4110/4181: https://api.crossref.org/works/10.1021/acsnano.8b027500613-7\r"
     ]
    },
    {
     "name": "stderr",
     "output_type": "stream",
     "text": [
      "ERROR:artfinder.api:Error fetching https://api.crossref.org/works/10.1364/JOSAA.19.002100: 429\n",
      "ERROR:artfinder.api:Error fetching https://api.crossref.org/works/10.1021/jp953248x: 429\n"
     ]
    },
    {
     "name": "stdout",
     "output_type": "stream",
     "text": [
      "4111/4181: https://api.crossref.org/works/10.1038/nphoton.2016.258\r"
     ]
    },
    {
     "name": "stderr",
     "output_type": "stream",
     "text": [
      "ERROR:artfinder.api:Error fetching https://api.crossref.org/works/10.1016/j.apsusc.2005.01.137: 429\n",
      "ERROR:artfinder.api:Error fetching https://api.crossref.org/works/10.1103/PhysRevB.82.155447: 429\n",
      "ERROR:artfinder.api:Error fetching https://api.crossref.org/works/10.1016/j.tsf.2003.11.136: 429\n"
     ]
    },
    {
     "name": "stdout",
     "output_type": "stream",
     "text": [
      "4112/4181: https://api.crossref.org/works/10.1007/978-3-642-17613-5\r"
     ]
    },
    {
     "name": "stderr",
     "output_type": "stream",
     "text": [
      "ERROR:artfinder.api:Error fetching https://api.crossref.org/works/10.1039/C4NR01391C: 429\n",
      "ERROR:artfinder.api:Error fetching https://api.crossref.org/works/10.1021/cm0602803: 429\n"
     ]
    },
    {
     "name": "stdout",
     "output_type": "stream",
     "text": [
      "4113/4181: https://api.crossref.org/works/10.1021/ac9809940\r"
     ]
    },
    {
     "name": "stderr",
     "output_type": "stream",
     "text": [
      "ERROR:artfinder.api:Error fetching https://api.crossref.org/works/10.1103/PhysRevLett.89.137401: 429\n"
     ]
    },
    {
     "name": "stdout",
     "output_type": "stream",
     "text": [
      "4115/4181: https://api.crossref.org/works/10.1063/1.1256962-04989-1\r"
     ]
    },
    {
     "name": "stderr",
     "output_type": "stream",
     "text": [
      "ERROR:artfinder.api:Error fetching https://api.crossref.org/works/10.3390/ma9090775: 429\n"
     ]
    },
    {
     "name": "stdout",
     "output_type": "stream",
     "text": [
      "4117/4181: https://api.crossref.org/works/10.1016/S0065-3233(08)60640-3\r"
     ]
    },
    {
     "name": "stderr",
     "output_type": "stream",
     "text": [
      "ERROR:artfinder.api:Error fetching https://api.crossref.org/works/10.1149/2.0311809jes: 429\n",
      "ERROR:artfinder.api:Error fetching https://api.crossref.org/works/10.1021/acs.jpclett.2c02358: 429\n"
     ]
    },
    {
     "name": "stdout",
     "output_type": "stream",
     "text": [
      "4118/4181: https://api.crossref.org/works/10.1007/s00339-008-4712-y\r"
     ]
    },
    {
     "name": "stderr",
     "output_type": "stream",
     "text": [
      "ERROR:artfinder.api:Error fetching https://api.crossref.org/works/10.1002/med.20177: 429\n"
     ]
    },
    {
     "name": "stdout",
     "output_type": "stream",
     "text": [
      "4120/4181: https://api.crossref.org/works/10.1021/nn301536nso.2012.01.015\r"
     ]
    },
    {
     "name": "stderr",
     "output_type": "stream",
     "text": [
      "ERROR:artfinder.api:Error fetching https://api.crossref.org/works/10.1080/15583724.2015.1136641: 429\n",
      "ERROR:artfinder.api:Error fetching https://api.crossref.org/works/10.1103/PhysRevB.94.205434: 429\n"
     ]
    },
    {
     "name": "stdout",
     "output_type": "stream",
     "text": [
      "4121/4181: https://api.crossref.org/works/10.2176/nmc.ra.2015-0297\r"
     ]
    },
    {
     "name": "stderr",
     "output_type": "stream",
     "text": [
      "ERROR:artfinder.api:Error fetching https://api.crossref.org/works/10.1016/j.jconrel.2006.10.015: 429\n"
     ]
    },
    {
     "name": "stdout",
     "output_type": "stream",
     "text": [
      "4122/4181: https://api.crossref.org/works/10.1016/S0925-4005(03)00638-5\r"
     ]
    },
    {
     "name": "stderr",
     "output_type": "stream",
     "text": [
      "ERROR:artfinder.api:Error fetching https://api.crossref.org/works/10.1126/science.aaa8282: 429\n"
     ]
    },
    {
     "name": "stdout",
     "output_type": "stream",
     "text": [
      "4131/4181: https://api.crossref.org/works/10.1117/12.47786383307919001\r"
     ]
    },
    {
     "name": "stderr",
     "output_type": "stream",
     "text": [
      "ERROR:artfinder.api:Error fetching https://api.crossref.org/works/10.1007/s11431-022-2270-9: 429\n"
     ]
    },
    {
     "name": "stdout",
     "output_type": "stream",
     "text": [
      "4132/4181: https://api.crossref.org/works/10.3390/nano9081058\r"
     ]
    },
    {
     "name": "stderr",
     "output_type": "stream",
     "text": [
      "ERROR:artfinder.api:Error fetching https://api.crossref.org/works/10.1002/jbm.a.35491: 429\n",
      "ERROR:artfinder.api:Error fetching https://api.crossref.org/works/10.1063/1.1806273: 429\n"
     ]
    },
    {
     "name": "stdout",
     "output_type": "stream",
     "text": [
      "4133/4181: https://api.crossref.org/works/10.1119/1.4948402\r"
     ]
    },
    {
     "name": "stderr",
     "output_type": "stream",
     "text": [
      "ERROR:artfinder.api:Error fetching https://api.crossref.org/works/10.1070/QE1981v011n07ABEH007265: 429\n",
      "ERROR:artfinder.api:Error fetching https://api.crossref.org/works/10.1038/s41467-022-30982-5: 429\n",
      "ERROR:artfinder.api:Error fetching https://api.crossref.org/works/10.1016/0925-4005(94)01260-1: 429\n"
     ]
    },
    {
     "name": "stdout",
     "output_type": "stream",
     "text": [
      "4134/4181: https://api.crossref.org/works/10.1038/s41467-018-02860-6\r"
     ]
    },
    {
     "name": "stderr",
     "output_type": "stream",
     "text": [
      "ERROR:artfinder.api:Error fetching https://api.crossref.org/works/10.1126/science.280.5372.2085: 429\n",
      "ERROR:artfinder.api:Error fetching https://api.crossref.org/works/10.1364/OE.20.000672: 429\n",
      "ERROR:artfinder.api:Error fetching https://api.crossref.org/works/10.1016/j.apsusc.2023.158662: 429\n"
     ]
    },
    {
     "name": "stdout",
     "output_type": "stream",
     "text": [
      "4135/4181: https://api.crossref.org/works/10.1021/ac00087a010\r"
     ]
    },
    {
     "name": "stderr",
     "output_type": "stream",
     "text": [
      "ERROR:artfinder.api:Error fetching https://api.crossref.org/works/10.1002/cphc.201601139: 429\n"
     ]
    },
    {
     "name": "stdout",
     "output_type": "stream",
     "text": [
      "4136/4181: https://api.crossref.org/works/10.1021/acsphotonics.0c01964\r"
     ]
    },
    {
     "name": "stderr",
     "output_type": "stream",
     "text": [
      "ERROR:artfinder.api:Error fetching https://api.crossref.org/works/10.3390/molecules25010067: 429\n"
     ]
    },
    {
     "name": "stdout",
     "output_type": "stream",
     "text": [
      "4137/4181: https://api.crossref.org/works/10.3390/pharmaceutics14040761\r"
     ]
    },
    {
     "name": "stderr",
     "output_type": "stream",
     "text": [
      "ERROR:artfinder.api:Error fetching https://api.crossref.org/works/10.1016/S0167-577X(03)00504-4: 429\n",
      "ERROR:artfinder.api:Error fetching https://api.crossref.org/works/10.1021/ph400018s: 429\n",
      "ERROR:artfinder.api:Error fetching https://api.crossref.org/works/10.1016/j.elecom.2011.01.028: 429\n"
     ]
    },
    {
     "name": "stdout",
     "output_type": "stream",
     "text": [
      "4138/4181: https://api.crossref.org/works/10.1088/0957-0233/7/1/003\r"
     ]
    },
    {
     "name": "stderr",
     "output_type": "stream",
     "text": [
      "ERROR:artfinder.api:Error fetching https://api.crossref.org/works/10.1103/PhysRevB.90.125445: 429\n",
      "ERROR:artfinder.api:Error fetching https://api.crossref.org/works/10.1021/ja074144q: 429\n"
     ]
    },
    {
     "name": "stdout",
     "output_type": "stream",
     "text": [
      "4140/4181: https://api.crossref.org/works/10.1063/1.12383850027\r"
     ]
    },
    {
     "name": "stderr",
     "output_type": "stream",
     "text": [
      "ERROR:artfinder.api:Error fetching https://api.crossref.org/works/10.1103/PhysRevB.84.193104: 429\n",
      "ERROR:artfinder.api:Error fetching https://api.crossref.org/works/10.1021/cm303708p: 429\n"
     ]
    },
    {
     "name": "stdout",
     "output_type": "stream",
     "text": [
      "4142/4181: https://api.crossref.org/works/10.1021/nn504109a-813189-3.00017-4\r"
     ]
    },
    {
     "name": "stderr",
     "output_type": "stream",
     "text": [
      "ERROR:artfinder.api:Error fetching https://api.crossref.org/works/10.1364/OL.41.001486: 429\n"
     ]
    },
    {
     "name": "stdout",
     "output_type": "stream",
     "text": [
      "4145/4181: https://api.crossref.org/works/10.1021/jp002435enjchem.2c00196\r"
     ]
    },
    {
     "name": "stderr",
     "output_type": "stream",
     "text": [
      "ERROR:artfinder.api:Error fetching https://api.crossref.org/works/10.1021/la062813s: 429\n"
     ]
    },
    {
     "name": "stdout",
     "output_type": "stream",
     "text": [
      "4146/4181: https://api.crossref.org/works/10.1063/5.0203951\r"
     ]
    },
    {
     "name": "stderr",
     "output_type": "stream",
     "text": [
      "ERROR:artfinder.api:Error fetching https://api.crossref.org/works/10.1016/0956-5663(96)83298-2: 429\n",
      "ERROR:artfinder.api:Error fetching https://api.crossref.org/works/10.1063/1.2783898: 429\n"
     ]
    },
    {
     "name": "stdout",
     "output_type": "stream",
     "text": [
      "4147/4181: https://api.crossref.org/works/10.1016/j.addr.2013.10.002\r"
     ]
    },
    {
     "name": "stderr",
     "output_type": "stream",
     "text": [
      "ERROR:artfinder.api:Error fetching https://api.crossref.org/works/10.1103/PhysRevB.44.3955: 429\n",
      "ERROR:artfinder.api:Error fetching https://api.crossref.org/works/10.1039/C9CP03322J: 429\n"
     ]
    },
    {
     "name": "stdout",
     "output_type": "stream",
     "text": [
      "4148/4181: https://api.crossref.org/works/10.1002/adtp.201800091\r"
     ]
    },
    {
     "name": "stderr",
     "output_type": "stream",
     "text": [
      "ERROR:artfinder.api:Error fetching https://api.crossref.org/works/10.1063/1.5019177: 429\n"
     ]
    },
    {
     "name": "stdout",
     "output_type": "stream",
     "text": [
      "4149/4181: https://api.crossref.org/works/10.1007/978-0-387-33441-7\r"
     ]
    },
    {
     "name": "stderr",
     "output_type": "stream",
     "text": [
      "ERROR:artfinder.api:Error fetching https://api.crossref.org/works/10.1364/OE.19.003077: 429\n"
     ]
    },
    {
     "name": "stdout",
     "output_type": "stream",
     "text": [
      "4150/4181: https://api.crossref.org/works/10.1007/s00339-017-1044-9\r"
     ]
    },
    {
     "name": "stderr",
     "output_type": "stream",
     "text": [
      "ERROR:artfinder.api:Error fetching https://api.crossref.org/works/10.1021/la904179x: 429\n",
      "ERROR:artfinder.api:Error fetching https://api.crossref.org/works/10.1103/PhysRevB.80.195415: 429\n"
     ]
    },
    {
     "name": "stdout",
     "output_type": "stream",
     "text": [
      "4154/4181: https://api.crossref.org/works/10.1002/star.19690210504012\r"
     ]
    },
    {
     "name": "stderr",
     "output_type": "stream",
     "text": [
      "ERROR:artfinder.api:Error fetching https://api.crossref.org/works/10.1103/PhysRevB.83.155327: 429\n",
      "ERROR:artfinder.api:Error fetching https://api.crossref.org/works/10.1364/AO.47.00C297: 429\n",
      "ERROR:artfinder.api:Error fetching https://api.crossref.org/works/10.1016/S0300-483X(98)00147-4: 429\n"
     ]
    },
    {
     "name": "stdout",
     "output_type": "stream",
     "text": [
      "4155/4181: https://api.crossref.org/works/10.1021/nl0347334\r"
     ]
    },
    {
     "name": "stderr",
     "output_type": "stream",
     "text": [
      "ERROR:artfinder.api:Error fetching https://api.crossref.org/works/10.1016/S0925-4005(03)00107-2: 429\n"
     ]
    },
    {
     "name": "stdout",
     "output_type": "stream",
     "text": [
      "4181/4181: https://api.crossref.org/works/10.1515/nanoph-2021-03968013.04.001\r"
     ]
    },
    {
     "name": "stderr",
     "output_type": "stream",
     "text": [
      "ERROR:artfinder.api:Error fetching https://api.crossref.org/works/10.3788/COL20080603.0176: 429\n",
      "ERROR:artfinder.api:Error fetching https://api.crossref.org/works/10.1038/nature23472: 429\n",
      "ERROR:artfinder.api:Error fetching https://api.crossref.org/works/10.1021/jp051163i: 429\n",
      "ERROR:artfinder.api:Error fetching https://api.crossref.org/works/10.1088/1612-2011/11/8/085401: 429\n",
      "ERROR:artfinder.api:Error fetching https://api.crossref.org/works/10.3390/nano9040572: 429\n",
      "ERROR:artfinder.api:Error fetching https://api.crossref.org/works/10.1149/2.001211jes: 429\n",
      "ERROR:artfinder.api:Error fetching https://api.crossref.org/works/10.1039/b109490d: 429\n",
      "ERROR:artfinder.api:Error fetching https://api.crossref.org/works/10.1016/j.nano.2005.06.004: 429\n",
      "ERROR:artfinder.api:Error fetching https://api.crossref.org/works/10.3390/nano10101998: 429\n",
      "ERROR:artfinder.api:Error fetching https://api.crossref.org/works/10.1021/nl0492436: 429\n",
      "ERROR:artfinder.api:Error fetching https://api.crossref.org/works/10.1038/nmat1390: 429\n",
      "ERROR:artfinder.api:Error fetching https://api.crossref.org/works/10.1039/b008429h: 429\n",
      "ERROR:artfinder.api:Error fetching https://api.crossref.org/works/10.1016/j.bios.2006.04.021: 429\n",
      "ERROR:artfinder.api:Error fetching https://api.crossref.org/works/10.1039/D0NR00269K: 429\n",
      "ERROR:artfinder.api:Error fetching https://api.crossref.org/works/10.1016/j.ijheatmasstransfer.2012.05.087: 429\n",
      "ERROR:artfinder.api:Error fetching https://api.crossref.org/works/10.1063/1.1435802: 429\n",
      "ERROR:artfinder.api:Error fetching https://api.crossref.org/works/10.1021/cr0500535: 429\n",
      "ERROR:artfinder.api:Error fetching https://api.crossref.org/works/10.1103/PhysRevA.45.8185: 429\n",
      "ERROR:artfinder.api:Error fetching https://api.crossref.org/works/10.1002/pro.5560070120: 429\n",
      "ERROR:artfinder.api:Error fetching https://api.crossref.org/works/10.1021/nl201004c: 429\n",
      "ERROR:artfinder.api:Error fetching https://api.crossref.org/works/10.1116/1.2955728: 429\n",
      "ERROR:artfinder.api:Error fetching https://api.crossref.org/works/10.1021/ja0163164: 429\n",
      "ERROR:artfinder.api:Error fetching https://api.crossref.org/works/10.1007/s00411-013-0467-8: 429\n",
      "ERROR:artfinder.api:Error fetching https://api.crossref.org/works/10.1016/j.carbpol.2010.04.074: 429\n",
      "ERROR:artfinder.api:Error fetching https://api.crossref.org/works/10.1021/acsnano.3c06655: 429\n",
      "ERROR:artfinder.api:Error fetching https://api.crossref.org/works/10.1364/OE.384419: 429\n",
      "ERROR:artfinder.api:Error fetching https://api.crossref.org/works/10.1039/C6RA13993K: 429\n",
      "ERROR:artfinder.api:Error fetching https://api.crossref.org/works/10.1038/s41598-019-41643-x: 429\n",
      "ERROR:artfinder.api:Error fetching https://api.crossref.org/works/10.1063/1.1489085: 429\n",
      "ERROR:artfinder.api:Error fetching https://api.crossref.org/works/10.1002/cmdc.200600171: 429\n",
      "ERROR:artfinder.api:Error fetching https://api.crossref.org/works/10.1016/j.ijrobp.2011.05.001: 429\n",
      "ERROR:artfinder.api:Error fetching https://api.crossref.org/works/10.1021/cm300083j: 429\n",
      "ERROR:artfinder.api:Error fetching https://api.crossref.org/works/10.1364/OE.24.001143: 429\n",
      "ERROR:artfinder.api:Error fetching https://api.crossref.org/works/10.1021/cg070635a: 429\n",
      "ERROR:artfinder.api:Error fetching https://api.crossref.org/works/10.1116/1.576995: 429\n",
      "ERROR:artfinder.api:Error fetching https://api.crossref.org/works/10.1021/bc0000029: 429\n",
      "ERROR:artfinder.api:Error fetching https://api.crossref.org/works/10.1021/cr400425h: 429\n",
      "ERROR:artfinder.api:Error fetching https://api.crossref.org/works/10.1111/j.1745-4581.2008.00131.x: 429\n",
      "ERROR:artfinder.api:Error fetching https://api.crossref.org/works/10.1093/jnci/dji314: 429\n",
      "ERROR:artfinder.api:Error fetching https://api.crossref.org/works/10.4236/ampc.2012.21002: 429\n",
      "ERROR:artfinder.api:Error fetching https://api.crossref.org/works/10.1002/adma.201203346: 429\n",
      "ERROR:artfinder.api:Error fetching https://api.crossref.org/works/10.1126/science.1114849: 429\n",
      "ERROR:artfinder.api:Error fetching https://api.crossref.org/works/10.1039/C2CS35364D: 429\n",
      "ERROR:artfinder.api:Error fetching https://api.crossref.org/works/10.1038/35015043: 429\n",
      "ERROR:artfinder.api:Error fetching https://api.crossref.org/works/10.1021/acs.nanolett.5b01563: 429\n",
      "ERROR:artfinder.api:Error fetching https://api.crossref.org/works/10.1002/wnan.44: 429\n",
      "ERROR:artfinder.api:Error fetching https://api.crossref.org/works/10.1002/pssa.200306519: 429\n",
      "ERROR:artfinder.api:Error fetching https://api.crossref.org/works/10.1117/1.JBO.22.4.045002: 429\n",
      "ERROR:artfinder.api:Error fetching https://api.crossref.org/works/10.1021/acsami.5b01561: 429\n",
      "ERROR:artfinder.api:Error fetching https://api.crossref.org/works/10.1088/0031-9155/49/18/N03: 429\n",
      "ERROR:artfinder.api:Error fetching https://api.crossref.org/works/10.1103/PhysRevB.58.R11805: 429\n",
      "ERROR:artfinder.api:Error fetching https://api.crossref.org/works/10.1098/rsfs.2011.0028: 429\n",
      "ERROR:artfinder.api:Error fetching https://api.crossref.org/works/10.1063/1.4881323: 429\n",
      "ERROR:artfinder.api:Error fetching https://api.crossref.org/works/10.1016/j.mee.2012.05.036: 429\n",
      "ERROR:artfinder.api:Error fetching https://api.crossref.org/works/10.1364/OE.16.019493: 429\n",
      "ERROR:artfinder.api:Error fetching https://api.crossref.org/works/10.1109/JLT.2016.2526634: 429\n",
      "ERROR:artfinder.api:Error fetching https://api.crossref.org/works/10.1063/1.4750250: 429\n",
      "ERROR:artfinder.api:Error fetching https://api.crossref.org/works/10.1021/bc030047k: 429\n",
      "ERROR:artfinder.api:Error fetching https://api.crossref.org/works/10.1002/smll.201500891: 429\n",
      "ERROR:artfinder.api:Error fetching https://api.crossref.org/works/10.1021/acsphotonics.6b00652: 429\n",
      "ERROR:artfinder.api:Error fetching https://api.crossref.org/works/10.1038/nphoton.2014.9: 429\n",
      "ERROR:artfinder.api:Error fetching https://api.crossref.org/works/10.1021/jp062536y: 429\n",
      "ERROR:artfinder.api:Error fetching https://api.crossref.org/works/10.1016/j.biomaterials.2007.12.037: 429\n",
      "ERROR:artfinder.api:Error fetching https://api.crossref.org/works/10.1186/1477-3155-9-34: 429\n",
      "ERROR:artfinder.api:Error fetching https://api.crossref.org/works/10.1038/nphys2691: 429\n",
      "ERROR:artfinder.api:Error fetching https://api.crossref.org/works/10.1016/j.bios.2019.111573: 429\n",
      "ERROR:artfinder.api:Error fetching https://api.crossref.org/works/10.1021/jp302485g: 429\n",
      "ERROR:artfinder.api:Error fetching https://api.crossref.org/works/10.1038/nmat3431: 429\n",
      "ERROR:artfinder.api:Error fetching https://api.crossref.org/works/10.1016/0038-1098(84)90292-8: 429\n",
      "ERROR:artfinder.api:Error fetching https://api.crossref.org/works/10.1021/bm050963w: 429\n",
      "ERROR:artfinder.api:Error fetching https://api.crossref.org/works/10.1007/978-981-99-5787-3_3: 429\n",
      "ERROR:artfinder.api:Error fetching https://api.crossref.org/works/10.1002/adma.200500833: 429\n",
      "ERROR:artfinder.api:Error fetching https://api.crossref.org/works/10.1186/1477-3155-6-2: 429\n",
      "ERROR:artfinder.api:Error fetching https://api.crossref.org/works/10.1038/s41598-017-13323-1: 429\n",
      "ERROR:artfinder.api:Error fetching https://api.crossref.org/works/10.2147/IJN.S141201: 429\n",
      "ERROR:artfinder.api:Error fetching https://api.crossref.org/works/10.1364/OE.18.014395: 429\n",
      "ERROR:artfinder.api:Error fetching https://api.crossref.org/works/10.1016/j.bios.2016.04.017: 429\n",
      "ERROR:artfinder.api:Error fetching https://api.crossref.org/works/10.1021/nl300316f: 429\n",
      "ERROR:artfinder.api:Error fetching https://api.crossref.org/works/10.1016/j.photonics.2018.04.005: 429\n",
      "ERROR:artfinder.api:Error fetching https://api.crossref.org/works/10.1038/srep46688: 429\n",
      "ERROR:artfinder.api:Error fetching https://api.crossref.org/works/10.1016/S0169-4332(97)00661-2: 429\n",
      "ERROR:artfinder.api:Error fetching https://api.crossref.org/works/10.1063/1.362605: 429\n",
      "ERROR:artfinder.api:Error fetching https://api.crossref.org/works/10.4172/2157-7439.1000267: 429\n",
      "ERROR:artfinder.api:Error fetching https://api.crossref.org/works/10.1063/1.356356: 429\n",
      "ERROR:artfinder.api:Error fetching https://api.crossref.org/works/10.1021/la403838n: 429\n",
      "ERROR:artfinder.api:Error fetching https://api.crossref.org/works/10.3389/fimmu.2020.01186: 429\n",
      "ERROR:artfinder.api:Error fetching https://api.crossref.org/works/10.1039/C4NR01857E: 429\n",
      "ERROR:artfinder.api:Error fetching https://api.crossref.org/works/10.1002/0471465380: 429\n",
      "ERROR:artfinder.api:Error fetching https://api.crossref.org/works/10.1186/s11671-019-3152-2: 429\n",
      "ERROR:artfinder.api:Error fetching https://api.crossref.org/works/10.1021/acsami.1c23676: 429\n",
      "ERROR:artfinder.api:Error fetching https://api.crossref.org/works/10.1007/s10853-018-03272-z: 429\n",
      "ERROR:artfinder.api:Error fetching https://api.crossref.org/works/10.1073/pnas.0408039101: 429\n",
      "ERROR:artfinder.api:Error fetching https://api.crossref.org/works/10.1038/s41566-019-0394-6: 429\n",
      "ERROR:artfinder.api:Error fetching https://api.crossref.org/works/10.1038/ncomms3326: 429\n",
      "ERROR:artfinder.api:Error fetching https://api.crossref.org/works/10.1016/j.fusengdes.2012.07.005: 429\n",
      "ERROR:artfinder.api:Error fetching https://api.crossref.org/works/10.1016/j.polymer.2011.08.034: 429\n",
      "ERROR:artfinder.api:Error fetching https://api.crossref.org/works/10.1002/adma.201604634: 429\n",
      "ERROR:artfinder.api:Error fetching https://api.crossref.org/works/10.1103/PhysRevB.72.165415: 429\n",
      "ERROR:artfinder.api:Error fetching https://api.crossref.org/works/10.1103/PhysRevLett.86.4688: 429\n",
      "ERROR:artfinder.api:Error fetching https://api.crossref.org/works/10.1038/nm1467: 429\n",
      "ERROR:artfinder.api:Error fetching https://api.crossref.org/works/10.1038/nphoton.2011.62: 429\n",
      "ERROR:artfinder.api:Error fetching https://api.crossref.org/works/10.3390/ma15155308: 429\n",
      "ERROR:artfinder.api:Error fetching https://api.crossref.org/works/10.1063/1.2192622: 429\n",
      "ERROR:artfinder.api:Error fetching https://api.crossref.org/works/10.1016/j.saa.2014.03.062: 429\n",
      "ERROR:artfinder.api:Error fetching https://api.crossref.org/works/10.1039/C4AN01137F: 429\n",
      "ERROR:artfinder.api:Error fetching https://api.crossref.org/works/10.1021/acsnano.2c06994: 429\n",
      "ERROR:artfinder.api:Error fetching https://api.crossref.org/works/10.1002/sia.3256: 429\n",
      "ERROR:artfinder.api:Error fetching https://api.crossref.org/works/10.1039/D0OB00690D: 429\n",
      "ERROR:artfinder.api:Error fetching https://api.crossref.org/works/10.1126/scirobotics.abd2823: 429\n",
      "ERROR:artfinder.api:Error fetching https://api.crossref.org/works/10.1158/1078-0432.CCR-05-0035: 429\n",
      "ERROR:artfinder.api:Error fetching https://api.crossref.org/works/10.1039/C3NR04995G: 429\n",
      "ERROR:artfinder.api:Error fetching https://api.crossref.org/works/10.1039/FT9969201387: 429\n",
      "ERROR:artfinder.api:Error fetching https://api.crossref.org/works/10.1016/S0008-6223(00)00179-2: 429\n",
      "ERROR:artfinder.api:Error fetching https://api.crossref.org/works/10.3748/wjg.15.160: 429\n",
      "ERROR:artfinder.api:Error fetching https://api.crossref.org/works/10.1007/s11468-013-9621-z: 429\n",
      "ERROR:artfinder.api:Error fetching https://api.crossref.org/works/10.1038/nprot.2006.339: 429\n",
      "ERROR:artfinder.api:Error fetching https://api.crossref.org/works/10.1021/acs.chemrev.6b00073: 429\n",
      "ERROR:artfinder.api:Error fetching https://api.crossref.org/works/10.1016/j.tibtech.2014.06.008: 429\n",
      "ERROR:artfinder.api:Error fetching https://api.crossref.org/works/10.1016/B978-0-12-409547-2.14045-4: 429\n",
      "ERROR:artfinder.api:Error fetching https://api.crossref.org/works/10.1016/j.enconman.2019.112019: 429\n",
      "ERROR:artfinder.api:Error fetching https://api.crossref.org/works/10.1007/s003390000590: 429\n",
      "ERROR:artfinder.api:Error fetching https://api.crossref.org/works/10.1021/nn300989g: 429\n",
      "ERROR:artfinder.api:Error fetching https://api.crossref.org/works/10.1103/PhysRevLett.105.053901: 429\n",
      "ERROR:artfinder.api:Error fetching https://api.crossref.org/works/10.1021/jp022003z: 429\n",
      "ERROR:artfinder.api:Error fetching https://api.crossref.org/works/10.1063/1.4862679: 429\n",
      "ERROR:artfinder.api:Error fetching https://api.crossref.org/works/10.1063/1.464913: 429\n",
      "ERROR:artfinder.api:Error fetching https://api.crossref.org/works/10.1016/j.biomaterials.2005.03.027: 429\n",
      "ERROR:artfinder.api:Error fetching https://api.crossref.org/works/10.1103/PhysRevB.62.16100: 429\n",
      "ERROR:artfinder.api:Error fetching https://api.crossref.org/works/10.1021/acsami.9b07239: 429\n",
      "ERROR:artfinder.api:Error fetching https://api.crossref.org/works/10.1063/1.3174914: 429\n",
      "ERROR:artfinder.api:Error fetching https://api.crossref.org/works/10.1016/j.addr.2008.03.018: 429\n",
      "ERROR:artfinder.api:Error fetching https://api.crossref.org/works/10.15252/emmm.201910923: 429\n",
      "ERROR:artfinder.api:Error fetching https://api.crossref.org/works/10.1088/0022-3727/43/5/055402: 429\n",
      "ERROR:artfinder.api:Error fetching https://api.crossref.org/works/10.1016/0925-4005(95)01752-H: 429\n",
      "ERROR:artfinder.api:Error fetching https://api.crossref.org/works/10.1016/j.cej.2021.132860: 429\n",
      "ERROR:artfinder.api:Error fetching https://api.crossref.org/works/10.1155/2013/290750: 429\n",
      "ERROR:artfinder.api:Error fetching https://api.crossref.org/works/10.1039/c3cc41669k: 429\n",
      "ERROR:artfinder.api:Error fetching https://api.crossref.org/works/10.1016/0022-4596(80)90555-1: 429\n",
      "ERROR:artfinder.api:Error fetching https://api.crossref.org/works/10.1016/S0965-9773(97)00005-6: 429\n",
      "ERROR:artfinder.api:Error fetching https://api.crossref.org/works/10.1089/108497803322702833: 429\n",
      "ERROR:artfinder.api:Error fetching https://api.crossref.org/works/10.1016/S0065-3233(08)60640-3: 429\n",
      "ERROR:artfinder.api:Error fetching https://api.crossref.org/works/10.1021/ac9809940: 429\n",
      "ERROR:artfinder.api:Error fetching https://api.crossref.org/works/10.1063/1.125696: 429\n",
      "ERROR:artfinder.api:Error fetching https://api.crossref.org/works/10.1007/s00339-008-4712-y: 429\n",
      "ERROR:artfinder.api:Error fetching https://api.crossref.org/works/10.1016/S0277-5387(00)80570-7: 429\n",
      "ERROR:artfinder.api:Error fetching https://api.crossref.org/works/10.1016/j.micromeso.2012.01.015: 429\n",
      "ERROR:artfinder.api:Error fetching https://api.crossref.org/works/10.1021/nn301536n: 429\n",
      "ERROR:artfinder.api:Error fetching https://api.crossref.org/works/10.2176/nmc.ra.2015-0297: 429\n",
      "ERROR:artfinder.api:Error fetching https://api.crossref.org/works/10.1016/S0925-4005(03)00638-5: 429\n",
      "ERROR:artfinder.api:Error fetching https://api.crossref.org/works/10.1039/b901782h: 429\n",
      "ERROR:artfinder.api:Error fetching https://api.crossref.org/works/10.1021/acsnano.8b02750: 429\n",
      "ERROR:artfinder.api:Error fetching https://api.crossref.org/works/10.1038/nphoton.2016.258: 429\n",
      "ERROR:artfinder.api:Error fetching https://api.crossref.org/works/10.1134/s11490-008-4002-6: 429\n",
      "ERROR:artfinder.api:Error fetching https://api.crossref.org/works/10.1007/978-3-642-17613-5: 429\n",
      "ERROR:artfinder.api:Error fetching https://api.crossref.org/works/10.1073/pnas.1809258115: 429\n",
      "ERROR:artfinder.api:Error fetching https://api.crossref.org/works/10.1007/978-3-662-04989-1: 429\n",
      "ERROR:artfinder.api:Error fetching https://api.crossref.org/works/10.1016/j.canlet.2004.06.001: 429\n",
      "ERROR:artfinder.api:Error fetching https://api.crossref.org/works/10.1063/1.1358846: 429\n",
      "ERROR:artfinder.api:Error fetching https://api.crossref.org/works/10.1016/S0169-4332(96)00613-7: 429\n",
      "ERROR:artfinder.api:Error fetching https://api.crossref.org/works/10.1038/s41563-020-0755-z: 429\n",
      "ERROR:artfinder.api:Error fetching https://api.crossref.org/works/10.1016/j.jsb.2022.107919: 429\n",
      "ERROR:artfinder.api:Error fetching https://api.crossref.org/works/10.1259/bjr/59448833: 429\n",
      "ERROR:artfinder.api:Error fetching https://api.crossref.org/works/10.1117/12.477863: 429\n",
      "ERROR:artfinder.api:Error fetching https://api.crossref.org/works/10.3390/nano9081058: 429\n",
      "ERROR:artfinder.api:Error fetching https://api.crossref.org/works/10.1119/1.4948402: 429\n",
      "ERROR:artfinder.api:Error fetching https://api.crossref.org/works/10.1038/s41467-018-02860-6: 429\n",
      "ERROR:artfinder.api:Error fetching https://api.crossref.org/works/10.1021/ac00087a010: 429\n",
      "ERROR:artfinder.api:Error fetching https://api.crossref.org/works/10.1021/acsphotonics.0c01964: 429\n",
      "ERROR:artfinder.api:Error fetching https://api.crossref.org/works/10.1088/0957-0233/7/1/003: 429\n",
      "ERROR:artfinder.api:Error fetching https://api.crossref.org/works/10.3390/pharmaceutics14040761: 429\n",
      "ERROR:artfinder.api:Error fetching https://api.crossref.org/works/10.1007/s003390050027: 429\n",
      "ERROR:artfinder.api:Error fetching https://api.crossref.org/works/10.1063/1.123838: 429\n",
      "ERROR:artfinder.api:Error fetching https://api.crossref.org/works/10.1016/B978-0-12-813189-3.00017-4: 429\n",
      "ERROR:artfinder.api:Error fetching https://api.crossref.org/works/10.1021/acs.bioconjchem.2c00196: 429\n",
      "ERROR:artfinder.api:Error fetching https://api.crossref.org/works/10.1021/nn504109a: 429\n",
      "ERROR:artfinder.api:Error fetching https://api.crossref.org/works/10.1021/ac034689c: 429\n",
      "ERROR:artfinder.api:Error fetching https://api.crossref.org/works/10.1063/5.0203951: 429\n",
      "ERROR:artfinder.api:Error fetching https://api.crossref.org/works/10.1021/jp002435e: 429\n",
      "ERROR:artfinder.api:Error fetching https://api.crossref.org/works/10.1002/adtp.201800091: 429\n",
      "ERROR:artfinder.api:Error fetching https://api.crossref.org/works/10.1016/j.addr.2013.10.002: 429\n",
      "ERROR:artfinder.api:Error fetching https://api.crossref.org/works/10.1007/s00339-017-1044-9: 429\n",
      "ERROR:artfinder.api:Error fetching https://api.crossref.org/works/10.1007/978-0-387-33441-7: 429\n",
      "ERROR:artfinder.api:Error fetching https://api.crossref.org/works/10.1039/D0CP00608D: 429\n",
      "ERROR:artfinder.api:Error fetching https://api.crossref.org/works/10.1016/j.nano.2019.04.008: 429\n",
      "ERROR:artfinder.api:Error fetching https://api.crossref.org/works/10.1016/j.jqsrt.2009.07.012: 429\n",
      "ERROR:artfinder.api:Error fetching https://api.crossref.org/works/10.1002/star.19690210504: 429\n",
      "ERROR:artfinder.api:Error fetching https://api.crossref.org/works/10.1021/nl0347334: 429\n",
      "ERROR:artfinder.api:Error fetching https://api.crossref.org/works/10.1016/S0039-6028(01)01764-2: 429\n",
      "ERROR:artfinder.api:Error fetching https://api.crossref.org/works/10.1021/cr200061k: 429\n",
      "ERROR:artfinder.api:Error fetching https://api.crossref.org/works/10.1007/s10404-007-0161-8: 429\n",
      "ERROR:artfinder.api:Error fetching https://api.crossref.org/works/10.1103/PhysRevLett.112.203901: 429\n",
      "ERROR:artfinder.api:Error fetching https://api.crossref.org/works/10.1039/C1CS15179G: 429\n",
      "ERROR:artfinder.api:Error fetching https://api.crossref.org/works/10.1021/cr050943k: 429\n",
      "ERROR:artfinder.api:Error fetching https://api.crossref.org/works/10.3390/nano11020519: 429\n",
      "ERROR:artfinder.api:Error fetching https://api.crossref.org/works/10.1016/S0167-5729(96)00012-X: 429\n",
      "ERROR:artfinder.api:Error fetching https://api.crossref.org/works/10.2174/1381612826666201116120422: 429\n",
      "ERROR:artfinder.api:Error fetching https://api.crossref.org/works/10.1126/science.1210713: 429\n",
      "ERROR:artfinder.api:Error fetching https://api.crossref.org/works/10.22203/eCM.v005a03: 429\n",
      "ERROR:artfinder.api:Error fetching https://api.crossref.org/works/10.1021/jp307078g: 429\n",
      "ERROR:artfinder.api:Error fetching https://api.crossref.org/works/10.1016/j.jpcs.2018.03.034: 429\n",
      "ERROR:artfinder.api:Error fetching https://api.crossref.org/works/10.1021/cr020719k: 429\n",
      "ERROR:artfinder.api:Error fetching https://api.crossref.org/works/10.1016/j.jqsrt.2007.01.034: 429\n",
      "ERROR:artfinder.api:Error fetching https://api.crossref.org/works/10.1007/s11671-010-9646-6: 429\n",
      "ERROR:artfinder.api:Error fetching https://api.crossref.org/works/10.1021/ja4020524: 429\n",
      "ERROR:artfinder.api:Error fetching https://api.crossref.org/works/10.1016/j.ultsonch.2007.01.008: 429\n",
      "ERROR:artfinder.api:Error fetching https://api.crossref.org/works/10.1016/S0304-3835(99)00388-2: 429\n",
      "ERROR:artfinder.api:Error fetching https://api.crossref.org/works/10.1016/j.apsusc.2010.11.157: 429\n",
      "ERROR:artfinder.api:Error fetching https://api.crossref.org/works/10.1016/j.jphotochemrev.2013.04.001: 429\n",
      "ERROR:artfinder.api:Error fetching https://api.crossref.org/works/10.1021/ac050338h: 429\n",
      "ERROR:artfinder.api:Error fetching https://api.crossref.org/works/10.1007/s13205-019-1807-4: 429\n",
      "ERROR:artfinder.api:Error fetching https://api.crossref.org/works/10.1126/science.1116275: 429\n",
      "ERROR:artfinder.api:Error fetching https://api.crossref.org/works/10.1038/s41570-018-0024-8: 429\n",
      "ERROR:artfinder.api:Error fetching https://api.crossref.org/works/10.1515/nanoph-2021-0396: 429\n"
     ]
    }
   ],
   "source": [
    "results, failed = crosref.get_refs(df)"
   ]
  },
  {
   "cell_type": "code",
   "execution_count": 33,
   "metadata": {},
   "outputs": [
    {
     "name": "stdout",
     "output_type": "stream",
     "text": [
      "<class 'pandas.core.frame.DataFrame'>\n",
      "Index: 1945 entries, 0 to 0\n",
      "Data columns (total 17 columns):\n",
      " #   Column                  Non-Null Count  Dtype         \n",
      "---  ------                  --------------  -----         \n",
      " 0   publisher               1945 non-null   string        \n",
      " 1   license                 1253 non-null   object        \n",
      " 2   is_referenced_by_count  1945 non-null   object        \n",
      " 3   link                    1900 non-null   object        \n",
      " 4   authors                 1945 non-null   object        \n",
      " 5   abstract                544 non-null    string        \n",
      " 6   title                   1934 non-null   string        \n",
      " 7   doi                     1945 non-null   string        \n",
      " 8   type                    1945 non-null   string        \n",
      " 9   journal                 1945 non-null   string        \n",
      " 10  issn                    1936 non-null   string        \n",
      " 11  volume                  1925 non-null   string        \n",
      " 12  issue                   1762 non-null   string        \n",
      " 13  start_page              1664 non-null   string        \n",
      " 14  end_page                1392 non-null   string        \n",
      " 15  publication_date        1944 non-null   datetime64[ns]\n",
      " 16  references              1786 non-null   object        \n",
      "dtypes: datetime64[ns](1), object(5), string(11)\n",
      "memory usage: 273.5+ KB\n"
     ]
    }
   ],
   "source": [
    "results.info()"
   ]
  },
  {
   "cell_type": "code",
   "execution_count": 17,
   "metadata": {},
   "outputs": [
    {
     "data": {
      "text/plain": [
       "['10.1201/b12252',\n",
       " '10.1002/9783527641901',\n",
       " '10.1002/(ISSN)1096-9101',\n",
       " '10.1017/CBO9780511794193',\n",
       " '10.1201/b17170',\n",
       " '10.1201/9781315206554',\n",
       " '10.1201/b14668',\n",
       " '10.1007/0-387-37825-1',\n",
       " '10.1017/CBO9780511606168',\n",
       " '10.1142/8056',\n",
       " '10.1039/9781788010283',\n",
       " '10.1201/9781315185231',\n",
       " '10.1002/(ISSN)1521-4095',\n",
       " '10.1007/978-94-011-6017-9',\n",
       " '10.1002/9783527629954',\n",
       " '10.1142/p815',\n",
       " '10.1007/978-1-4419-5860-0',\n",
       " '10.1017/CBO9780511535468',\n",
       " '10.1017/CBO9780511626531',\n",
       " '10.1039/9781847558220',\n",
       " '10.1002/9780470286364',\n",
       " '10.1142/p116']"
      ]
     },
     "execution_count": 17,
     "metadata": {},
     "output_type": "execute_result"
    }
   ],
   "source": [
    "failed"
   ]
  }
 ],
 "metadata": {
  "kernelspec": {
   "display_name": "venv",
   "language": "python",
   "name": "python3"
  },
  "language_info": {
   "codemirror_mode": {
    "name": "ipython",
    "version": 3
   },
   "file_extension": ".py",
   "mimetype": "text/x-python",
   "name": "python",
   "nbconvert_exporter": "python",
   "pygments_lexer": "ipython3",
   "version": "3.13.2"
  }
 },
 "nbformat": 4,
 "nbformat_minor": 2
}
