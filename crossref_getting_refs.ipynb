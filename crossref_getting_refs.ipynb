{
 "cells": [
  {
   "cell_type": "code",
   "execution_count": 6,
   "metadata": {},
   "outputs": [
    {
     "name": "stdout",
     "output_type": "stream",
     "text": [
      "The autoreload extension is already loaded. To reload it, use:\n",
      "  %reload_ext autoreload\n"
     ]
    }
   ],
   "source": [
    "%load_ext autoreload\n",
    "%autoreload 2\n",
    "\n",
    "from artfinder import CrossrefArticle, Crossref, load_csv\n",
    "import pandas as pd\n",
    "import datetime\n",
    "import re\n",
    "import logging\n",
    "from json import dumps\n",
    "\n",
    "logging.basicConfig(level=logging.INFO)\n",
    "crosref = Crossref(app='artfinder', email='aapopov1@mephi.ru')"
   ]
  },
  {
   "cell_type": "code",
   "execution_count": 10,
   "metadata": {},
   "outputs": [
    {
     "name": "stdout",
     "output_type": "stream",
     "text": [
      "<class 'pandas.core.frame.DataFrame'>\n",
      "RangeIndex: 251 entries, 0 to 250\n",
      "Data columns (total 21 columns):\n",
      " #   Column                  Non-Null Count  Dtype         \n",
      "---  ------                  --------------  -----         \n",
      " 0   publisher               251 non-null    string        \n",
      " 1   license                 149 non-null    object        \n",
      " 2   is_referenced_by_count  251 non-null    int64         \n",
      " 3   link                    203 non-null    object        \n",
      " 4   authors                 251 non-null    object        \n",
      " 5   abstract                78 non-null     string        \n",
      " 6   title                   251 non-null    string        \n",
      " 7   doi                     251 non-null    string        \n",
      " 8   type                    251 non-null    string        \n",
      " 9   journal                 247 non-null    string        \n",
      " 10  issn                    210 non-null    string        \n",
      " 11  volume                  206 non-null    string        \n",
      " 12  issue                   169 non-null    string        \n",
      " 13  start_page              222 non-null    string        \n",
      " 14  end_page                107 non-null    string        \n",
      " 15  publication_date        250 non-null    datetime64[ns]\n",
      " 16  references              197 non-null    object        \n",
      " 17  ablation                251 non-null    bool          \n",
      " 18  pmid                    0 non-null      object        \n",
      " 19  pmcid                   0 non-null      object        \n",
      " 20  keywords                0 non-null      object        \n",
      "dtypes: bool(1), datetime64[ns](1), int64(1), object(7), string(11)\n",
      "memory usage: 39.6+ KB\n"
     ]
    }
   ],
   "source": [
    "df = load_csv('database/processed/kabashin_full.csv')\n",
    "df.info()"
   ]
  },
  {
   "cell_type": "code",
   "execution_count": 11,
   "metadata": {},
   "outputs": [
    {
     "name": "stdout",
     "output_type": "stream",
     "text": [
      "Total references: 7595\n",
      "Unique references: 4181\n"
     ]
    },
    {
     "data": {
      "text/plain": [
       "['10.1063/1.1628830',\n",
       " '10.1021/ac8007219',\n",
       " '10.1021/ph5002186',\n",
       " '10.1016/j.jcrysgro.2004.04.120',\n",
       " '10.1038/s41563-022-01287-1',\n",
       " '10.1021/jp002340c',\n",
       " '10.2967/jnumed.112.107540',\n",
       " '10.1016/S0304-3835(99)00105-6',\n",
       " '10.1070/RC1995v064n10ABEH000188',\n",
       " '10.1259/bjr/13169882']"
      ]
     },
     "execution_count": 11,
     "metadata": {},
     "output_type": "execute_result"
    }
   ],
   "source": [
    "all_refs = []\n",
    "for ret_list in df['references']:\n",
    "    if ret_list is not None:\n",
    "        all_refs.extend(ret_list)\n",
    "\n",
    "print(f\"Total references: {len(all_refs)}\")\n",
    "all_refs = list(set(all_refs))\n",
    "print(f\"Unique references: {len(all_refs)}\")\n",
    "all_refs[:10]"
   ]
  },
  {
   "cell_type": "code",
   "execution_count": 12,
   "metadata": {},
   "outputs": [
    {
     "name": "stdout",
     "output_type": "stream",
     "text": [
      "100/100: https://api.crossref.org/works/10.3390/nano1105107803.06.00415)83:12<2580::AID-CNCR25>3.0.CO;2-C\r"
     ]
    }
   ],
   "source": [
    "results, failed = crosref.get_dois(all_refs[:100], 10)"
   ]
  },
  {
   "cell_type": "code",
   "execution_count": 14,
   "metadata": {},
   "outputs": [
    {
     "name": "stdout",
     "output_type": "stream",
     "text": [
      "<class 'pandas.core.frame.DataFrame'>\n",
      "Index: 100 entries, 0 to 0\n",
      "Data columns (total 17 columns):\n",
      " #   Column                  Non-Null Count  Dtype         \n",
      "---  ------                  --------------  -----         \n",
      " 0   publisher               100 non-null    string        \n",
      " 1   license                 66 non-null     object        \n",
      " 2   is_referenced_by_count  100 non-null    object        \n",
      " 3   link                    97 non-null     object        \n",
      " 4   authors                 100 non-null    object        \n",
      " 5   abstract                20 non-null     string        \n",
      " 6   title                   100 non-null    string        \n",
      " 7   doi                     100 non-null    string        \n",
      " 8   type                    100 non-null    string        \n",
      " 9   journal                 100 non-null    string        \n",
      " 10  issn                    100 non-null    string        \n",
      " 11  volume                  99 non-null     string        \n",
      " 12  issue                   92 non-null     string        \n",
      " 13  start_page              91 non-null     string        \n",
      " 14  end_page                75 non-null     string        \n",
      " 15  publication_date        100 non-null    datetime64[ns]\n",
      " 16  references              96 non-null     object        \n",
      "dtypes: datetime64[ns](1), object(5), string(11)\n",
      "memory usage: 14.1+ KB\n"
     ]
    }
   ],
   "source": [
    "results.info()"
   ]
  },
  {
   "cell_type": "code",
   "execution_count": 18,
   "metadata": {},
   "outputs": [
    {
     "data": {
      "text/plain": [
       "['10.1002/9781118354162', '10.1201/b17170']"
      ]
     },
     "execution_count": 18,
     "metadata": {},
     "output_type": "execute_result"
    }
   ],
   "source": [
    "failed"
   ]
  },
  {
   "cell_type": "code",
   "execution_count": 7,
   "metadata": {},
   "outputs": [],
   "source": [
    "test_article = crosref.doi('10.1023/A:1005781517624')"
   ]
  },
  {
   "cell_type": "code",
   "execution_count": 8,
   "metadata": {},
   "outputs": [
    {
     "data": {
      "text/plain": [
       "{'indexed': {'date-parts': [[2024, 9, 5]],\n",
       "  'date-time': '2024-09-05T22:38:35Z',\n",
       "  'timestamp': 1725575915236},\n",
       " 'reference-count': 0,\n",
       " 'publisher': 'Springer Science and Business Media LLC',\n",
       " 'issue': '1/2',\n",
       " 'content-domain': {'domain': [], 'crossmark-restriction': False},\n",
       " 'short-container-title': [],\n",
       " 'published-print': {'date-parts': [[1997]]},\n",
       " 'DOI': '10.1023/a:1005781517624',\n",
       " 'type': 'journal-article',\n",
       " 'created': {'date-parts': [[2002, 12, 21]],\n",
       "  'date-time': '2002-12-21T18:13:52Z',\n",
       "  'timestamp': 1040494432000},\n",
       " 'page': '105-115',\n",
       " 'source': 'Crossref',\n",
       " 'is-referenced-by-count': 120,\n",
       " 'title': [],\n",
       " 'prefix': '10.1007',\n",
       " 'volume': '33',\n",
       " 'author': [{'given': 'Yoshinobu',\n",
       "   'family': 'Nakagawa',\n",
       "   'sequence': 'first',\n",
       "   'affiliation': []},\n",
       "  {'given': 'Hiroshi',\n",
       "   'family': 'Hatanaka†',\n",
       "   'sequence': 'additional',\n",
       "   'affiliation': []}],\n",
       " 'member': '297',\n",
       " 'container-title': ['Journal of Neuro-Oncology'],\n",
       " 'original-title': [],\n",
       " 'deposited': {'date-parts': [[2012, 12, 27]],\n",
       "  'date-time': '2012-12-27T16:12:12Z',\n",
       "  'timestamp': 1356624732000},\n",
       " 'score': 1,\n",
       " 'resource': {'primary': {'URL': 'http://link.springer.com/10.1023/A:1005781517624'}},\n",
       " 'subtitle': [],\n",
       " 'short-title': [],\n",
       " 'issued': {'date-parts': [[1997]]},\n",
       " 'references-count': 0,\n",
       " 'journal-issue': {'issue': '1/2'},\n",
       " 'alternative-id': ['121177'],\n",
       " 'URL': 'https://doi.org/10.1023/a:1005781517624',\n",
       " 'relation': {},\n",
       " 'ISSN': ['0167-594X'],\n",
       " 'issn-type': [{'value': '0167-594X', 'type': 'print'}],\n",
       " 'subject': [],\n",
       " 'published': {'date-parts': [[1997]]}}"
      ]
     },
     "execution_count": 8,
     "metadata": {},
     "output_type": "execute_result"
    }
   ],
   "source": [
    "test_article"
   ]
  },
  {
   "cell_type": "code",
   "execution_count": 9,
   "metadata": {},
   "outputs": [
    {
     "data": {
      "text/plain": [
       "<artfinder.article.CrossrefArticle at 0x71b451730a90>"
      ]
     },
     "execution_count": 9,
     "metadata": {},
     "output_type": "execute_result"
    }
   ],
   "source": [
    "CrossrefArticle(test_article)"
   ]
  },
  {
   "cell_type": "markdown",
   "metadata": {},
   "source": [
    "Make a search query and construct pandas dataframe with results\n",
    "* Valid fields for query are in Crossref.FIELDS_QUERY\n",
    "* Valid fields for filter are in Crossref.FILTER_VALIDATOR\n",
    "* Specifying the same filter several times results in OR semantics, while specifying different filters results in AND semantics\n",
    "* [RESP-API documentation](https://github.com/CrossRef/rest-api-doc?tab=readme-ov-file#queries)\n",
    "\n"
   ]
  },
  {
   "cell_type": "code",
   "execution_count": null,
   "metadata": {},
   "outputs": [
    {
     "name": "stderr",
     "output_type": "stream",
     "text": [
      "INFO:crossref.restful:GET request to https://api.crossref.org/works, data={'query.author': 'Barcikowski', 'filter': 'from-pub-date:1993,type:proceedings-article,type:journal-article', 'cursor': '*', 'rows': 100}, headers={'user-agent': 'artfinder/undefined (undefined; mailto:aapopov1@mephi.ru) BasedOn: CrossrefAPI/1.6.0'}\n"
     ]
    },
    {
     "name": "stderr",
     "output_type": "stream",
     "text": [
      "INFO:crossref.restful:Sleep for 0.02 seconds\n",
      "INFO:crossref.restful:GET request to https://api.crossref.org/works, data={'query.author': 'Barcikowski', 'filter': 'from-pub-date:1993,type:proceedings-article,type:journal-article', 'cursor': 'DnF1ZXJ5VGhlbkZldGNoBgAAAAAHhflEFi10RWc3ay1xUzB1LXA4djZWbEdpQ1EAAAAAE3AWCBZWX2tkV3YyWVFVcV9hOFZHWGN4cURnAAAAADMpzKEWTUpsaGN0RGFRbS1yN0ZYWTJ3MG5pUQAAAAAysi22Fjc3VnRybUJuUTJlZzI5LUZWOGtVbWcAAAAAHznOwhZwMUUtd3VRM1RzU3RxcXpMUVg3MFZBAAAAADRhZWIWY2hqVHNHWVVRYkdqcWtJNUJXbkk4Zw==', 'rows': 100}, headers={'user-agent': 'artfinder/undefined (undefined; mailto:aapopov1@mephi.ru) BasedOn: CrossrefAPI/1.6.0'}\n",
      "INFO:crossref.restful:Sleep for 0.02 seconds\n",
      "INFO:crossref.restful:GET request to https://api.crossref.org/works, data={'query.author': 'Barcikowski', 'filter': 'from-pub-date:1993,type:proceedings-article,type:journal-article', 'cursor': 'DnF1ZXJ5VGhlbkZldGNoBgAAAAAHhflEFi10RWc3ay1xUzB1LXA4djZWbEdpQ1EAAAAAE3AWCBZWX2tkV3YyWVFVcV9hOFZHWGN4cURnAAAAADMpzKEWTUpsaGN0RGFRbS1yN0ZYWTJ3MG5pUQAAAAAysi22Fjc3VnRybUJuUTJlZzI5LUZWOGtVbWcAAAAAHznOwhZwMUUtd3VRM1RzU3RxcXpMUVg3MFZBAAAAADRhZWIWY2hqVHNHWVVRYkdqcWtJNUJXbkk4Zw==', 'rows': 100}, headers={'user-agent': 'artfinder/undefined (undefined; mailto:aapopov1@mephi.ru) BasedOn: CrossrefAPI/1.6.0'}\n",
      "INFO:crossref.restful:Sleep for 0.02 seconds\n",
      "INFO:crossref.restful:GET request to https://api.crossref.org/works, data={'query.author': 'Barcikowski', 'filter': 'from-pub-date:1993,type:proceedings-article,type:journal-article', 'cursor': 'DnF1ZXJ5VGhlbkZldGNoBgAAAAAHhflEFi10RWc3ay1xUzB1LXA4djZWbEdpQ1EAAAAAE3AWCBZWX2tkV3YyWVFVcV9hOFZHWGN4cURnAAAAADMpzKEWTUpsaGN0RGFRbS1yN0ZYWTJ3MG5pUQAAAAAysi22Fjc3VnRybUJuUTJlZzI5LUZWOGtVbWcAAAAAHznOwhZwMUUtd3VRM1RzU3RxcXpMUVg3MFZBAAAAADRhZWIWY2hqVHNHWVVRYkdqcWtJNUJXbkk4Zw==', 'rows': 100}, headers={'user-agent': 'artfinder/undefined (undefined; mailto:aapopov1@mephi.ru) BasedOn: CrossrefAPI/1.6.0'}\n",
      "INFO:crossref.restful:Sleep for 0.02 seconds\n",
      "INFO:crossref.restful:GET request to https://api.crossref.org/works, data={'query.author': 'Barcikowski', 'filter': 'from-pub-date:1993,type:proceedings-article,type:journal-article', 'cursor': 'DnF1ZXJ5VGhlbkZldGNoBgAAAAAHhflEFi10RWc3ay1xUzB1LXA4djZWbEdpQ1EAAAAAE3AWCBZWX2tkV3YyWVFVcV9hOFZHWGN4cURnAAAAADMpzKEWTUpsaGN0RGFRbS1yN0ZYWTJ3MG5pUQAAAAAysi22Fjc3VnRybUJuUTJlZzI5LUZWOGtVbWcAAAAAHznOwhZwMUUtd3VRM1RzU3RxcXpMUVg3MFZBAAAAADRhZWIWY2hqVHNHWVVRYkdqcWtJNUJXbkk4Zw==', 'rows': 100}, headers={'user-agent': 'artfinder/undefined (undefined; mailto:aapopov1@mephi.ru) BasedOn: CrossrefAPI/1.6.0'}\n",
      "INFO:crossref.restful:Sleep for 0.02 seconds\n",
      "INFO:crossref.restful:GET request to https://api.crossref.org/works, data={'query.author': 'Barcikowski', 'filter': 'from-pub-date:1993,type:proceedings-article,type:journal-article', 'cursor': 'DnF1ZXJ5VGhlbkZldGNoBgAAAAAHhflEFi10RWc3ay1xUzB1LXA4djZWbEdpQ1EAAAAAE3AWCBZWX2tkV3YyWVFVcV9hOFZHWGN4cURnAAAAADMpzKEWTUpsaGN0RGFRbS1yN0ZYWTJ3MG5pUQAAAAAysi22Fjc3VnRybUJuUTJlZzI5LUZWOGtVbWcAAAAAHznOwhZwMUUtd3VRM1RzU3RxcXpMUVg3MFZBAAAAADRhZWIWY2hqVHNHWVVRYkdqcWtJNUJXbkk4Zw==', 'rows': 100}, headers={'user-agent': 'artfinder/undefined (undefined; mailto:aapopov1@mephi.ru) BasedOn: CrossrefAPI/1.6.0'}\n",
      "INFO:crossref.restful:Sleep for 0.02 seconds\n",
      "INFO:crossref.restful:GET request to https://api.crossref.org/works, data={'query.author': 'Barcikowski', 'filter': 'from-pub-date:1993,type:proceedings-article,type:journal-article', 'cursor': 'DnF1ZXJ5VGhlbkZldGNoBgAAAAAHhflEFi10RWc3ay1xUzB1LXA4djZWbEdpQ1EAAAAAE3AWCBZWX2tkV3YyWVFVcV9hOFZHWGN4cURnAAAAADMpzKEWTUpsaGN0RGFRbS1yN0ZYWTJ3MG5pUQAAAAAysi22Fjc3VnRybUJuUTJlZzI5LUZWOGtVbWcAAAAAHznOwhZwMUUtd3VRM1RzU3RxcXpMUVg3MFZBAAAAADRhZWIWY2hqVHNHWVVRYkdqcWtJNUJXbkk4Zw==', 'rows': 100}, headers={'user-agent': 'artfinder/undefined (undefined; mailto:aapopov1@mephi.ru) BasedOn: CrossrefAPI/1.6.0'}\n",
      "INFO:crossref.restful:Sleep for 0.02 seconds\n"
     ]
    },
    {
     "name": "stdout",
     "output_type": "stream",
     "text": [
      "<class 'pandas.core.frame.DataFrame'>\n",
      "RangeIndex: 548 entries, 0 to 547\n",
      "Data columns (total 17 columns):\n",
      " #   Column                  Non-Null Count  Dtype         \n",
      "---  ------                  --------------  -----         \n",
      " 0   publisher               548 non-null    string        \n",
      " 1   license                 348 non-null    object        \n",
      " 2   is_referenced_by_count  548 non-null    object        \n",
      " 3   link                    486 non-null    object        \n",
      " 4   authors                 548 non-null    object        \n",
      " 5   abstract                184 non-null    string        \n",
      " 6   title                   548 non-null    string        \n",
      " 7   doi                     548 non-null    string        \n",
      " 8   type                    548 non-null    string        \n",
      " 9   journal                 548 non-null    string        \n",
      " 10  issn                    491 non-null    string        \n",
      " 11  volume                  480 non-null    string        \n",
      " 12  issue                   369 non-null    string        \n",
      " 13  start_page              456 non-null    string        \n",
      " 14  end_page                318 non-null    string        \n",
      " 15  publication_date        548 non-null    datetime64[ns]\n",
      " 16  references              446 non-null    object        \n",
      "dtypes: datetime64[ns](1), object(5), string(11)\n",
      "memory usage: 72.9+ KB\n"
     ]
    }
   ],
   "source": [
    "\n",
    "df = crosref.query(author='Barcikowski').filter(from_pub_date='1993', type=['proceedings-article', 'journal-article']).get_df()\n",
    "df.info()"
   ]
  },
  {
   "cell_type": "code",
   "execution_count": 52,
   "metadata": {},
   "outputs": [
    {
     "data": {
      "text/plain": [
       "<StringArray>\n",
       "['journal-article', 'proceedings-article']\n",
       "Length: 2, dtype: string"
      ]
     },
     "execution_count": 52,
     "metadata": {},
     "output_type": "execute_result"
    }
   ],
   "source": [
    "df['type'].unique()"
   ]
  },
  {
   "cell_type": "markdown",
   "metadata": {},
   "source": [
    "Save for marking data"
   ]
  },
  {
   "cell_type": "code",
   "execution_count": null,
   "metadata": {},
   "outputs": [],
   "source": [
    "path_for_processing = ''\n",
    "df[['title', 'abstract', 'doi']].to_excel(path_for_processing, index=False)"
   ]
  },
  {
   "cell_type": "markdown",
   "metadata": {},
   "source": [
    "Save data"
   ]
  },
  {
   "cell_type": "code",
   "execution_count": 55,
   "metadata": {},
   "outputs": [],
   "source": [
    "path_to_save = 'database/barcikowski.csv'\n",
    "df.to_csv(path_to_save, index=False)"
   ]
  }
 ],
 "metadata": {
  "kernelspec": {
   "display_name": "venv",
   "language": "python",
   "name": "python3"
  },
  "language_info": {
   "codemirror_mode": {
    "name": "ipython",
    "version": 3
   },
   "file_extension": ".py",
   "mimetype": "text/x-python",
   "name": "python",
   "nbconvert_exporter": "python",
   "pygments_lexer": "ipython3",
   "version": "3.13.2"
  }
 },
 "nbformat": 4,
 "nbformat_minor": 2
}
