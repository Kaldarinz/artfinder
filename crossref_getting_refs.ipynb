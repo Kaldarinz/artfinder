{
 "cells": [
  {
   "cell_type": "code",
   "execution_count": 14,
   "metadata": {},
   "outputs": [
    {
     "name": "stdout",
     "output_type": "stream",
     "text": [
      "The autoreload extension is already loaded. To reload it, use:\n",
      "  %reload_ext autoreload\n"
     ]
    }
   ],
   "source": [
    "%load_ext autoreload\n",
    "%autoreload 2\n",
    "\n",
    "from artfinder import CrossrefArticle, Crossref, load_csv, strict_filter\n",
    "import pandas as pd\n",
    "import datetime\n",
    "import re\n",
    "import logging\n",
    "from json import dumps\n",
    "\n",
    "logging.basicConfig(level=logging.INFO)\n",
    "crosref = Crossref(app='artfinder', email='aapopov1@mephi.ru')"
   ]
  },
  {
   "cell_type": "code",
   "execution_count": 2,
   "metadata": {},
   "outputs": [
    {
     "name": "stdout",
     "output_type": "stream",
     "text": [
      "<class 'pandas.core.frame.DataFrame'>\n",
      "RangeIndex: 251 entries, 0 to 250\n",
      "Data columns (total 21 columns):\n",
      " #   Column                  Non-Null Count  Dtype         \n",
      "---  ------                  --------------  -----         \n",
      " 0   publisher               251 non-null    string        \n",
      " 1   license                 149 non-null    object        \n",
      " 2   is_referenced_by_count  251 non-null    int64         \n",
      " 3   link                    203 non-null    object        \n",
      " 4   authors                 251 non-null    object        \n",
      " 5   abstract                78 non-null     string        \n",
      " 6   title                   251 non-null    string        \n",
      " 7   doi                     251 non-null    string        \n",
      " 8   type                    251 non-null    string        \n",
      " 9   journal                 247 non-null    string        \n",
      " 10  issn                    210 non-null    string        \n",
      " 11  volume                  206 non-null    string        \n",
      " 12  issue                   169 non-null    string        \n",
      " 13  start_page              222 non-null    string        \n",
      " 14  end_page                107 non-null    string        \n",
      " 15  publication_date        250 non-null    datetime64[ns]\n",
      " 16  references              197 non-null    object        \n",
      " 17  ablation                251 non-null    bool          \n",
      " 18  pmcid                   0 non-null      object        \n",
      " 19  keywords                0 non-null      object        \n",
      " 20  pmid                    0 non-null      object        \n",
      "dtypes: bool(1), datetime64[ns](1), int64(1), object(7), string(11)\n",
      "memory usage: 39.6+ KB\n"
     ]
    }
   ],
   "source": [
    "df = load_csv('database/processed/kabashin_full.csv')\n",
    "df.info()"
   ]
  },
  {
   "cell_type": "code",
   "execution_count": 3,
   "metadata": {},
   "outputs": [
    {
     "name": "stdout",
     "output_type": "stream",
     "text": [
      "Total references: 7595\n",
      "Unique references: 4181\n"
     ]
    },
    {
     "data": {
      "text/plain": [
       "['10.1021/acsanm.3c04567',\n",
       " '10.1002/bbpc.19840881010',\n",
       " '10.1088/0963-9659/5/5/005',\n",
       " '10.1007/s11095-015-1718-y',\n",
       " '10.1103/PhysRevLett.113.247401',\n",
       " '10.2351/1.5061377',\n",
       " '10.1007/s10973-018-7099-9',\n",
       " '10.1063/1.1886896',\n",
       " '10.1088/1361-6560/ac80e6',\n",
       " '10.1021/acsnano.7b00476']"
      ]
     },
     "execution_count": 3,
     "metadata": {},
     "output_type": "execute_result"
    }
   ],
   "source": [
    "all_refs = []\n",
    "for ret_list in df['references']:\n",
    "    if ret_list is not None:\n",
    "        all_refs.extend(ret_list)\n",
    "\n",
    "print(f\"Total references: {len(all_refs)}\")\n",
    "all_refs = list(set(all_refs))\n",
    "print(f\"Unique references: {len(all_refs)}\")\n",
    "all_refs[:10]"
   ]
  },
  {
   "cell_type": "code",
   "execution_count": 6,
   "metadata": {},
   "outputs": [
    {
     "name": "stderr",
     "output_type": "stream",
     "text": [
      "INFO:artfinder.api:Found 4181 unique references.\n"
     ]
    },
    {
     "name": "stdout",
     "output_type": "stream",
     "text": [
      "293/4181: https://api.crossref.org/works/10.1039/C2CP42895D34031-17.10.048:AID-SIMO261>3.0.CO;2-P\r"
     ]
    },
    {
     "name": "stderr",
     "output_type": "stream",
     "text": [
      "ERROR:artfinder.api:Error fetching https://api.crossref.org/works/10.1016/j.biomaterals.2017.10.048: 404\n"
     ]
    },
    {
     "name": "stdout",
     "output_type": "stream",
     "text": [
      "450/4181: https://api.crossref.org/works/10.1118/1.4934370K-02819-7.01965149\r"
     ]
    },
    {
     "name": "stderr",
     "output_type": "stream",
     "text": [
      "ERROR:artfinder.api:Error fetching https://api.crossref.org/works/10.1038/s41467-018-02819-7.: 404\n"
     ]
    },
    {
     "name": "stdout",
     "output_type": "stream",
     "text": [
      "1008/4181: https://api.crossref.org/works/10.1364/OL.39.0051921852-79805)04:03&lt;92::AID-CVDE92&gt;3.0.CO;2-C\r"
     ]
    },
    {
     "name": "stderr",
     "output_type": "stream",
     "text": [
      "ERROR:artfinder.api:Error fetching https://api.crossref.org/works/10.1002/(SICI)1521-3862(199805)04:03&lt;92::AID-CVDE92&gt;3.0.CO;2-C: 404\n"
     ]
    },
    {
     "name": "stdout",
     "output_type": "stream",
     "text": [
      "1684/4181: https://api.crossref.org/works/10.1021/acsnano.5b000424406862.005117097\r"
     ]
    },
    {
     "name": "stderr",
     "output_type": "stream",
     "text": [
      "ERROR:artfinder.api:Error fetching https://api.crossref.org/works/10.2217/nnm.16: 404\n"
     ]
    },
    {
     "name": "stdout",
     "output_type": "stream",
     "text": [
      "2155/4181: https://api.crossref.org/works/10.1016/j.bcp.2014.02.02501202.00107.082\r"
     ]
    },
    {
     "name": "stderr",
     "output_type": "stream",
     "text": [
      "ERROR:artfinder.api:Error fetching https://api.crossref.org/works/10.17185/duepublico/70584: 404\n"
     ]
    },
    {
     "name": "stdout",
     "output_type": "stream",
     "text": [
      "3203/4181: https://api.crossref.org/works/10.1039/c3nr02657d10.1c021993001-84<263::AID-MOP19>3.0.CO;2-82-9-C\r"
     ]
    },
    {
     "name": "stderr",
     "output_type": "stream",
     "text": [
      "ERROR:artfinder.api:Error fetching https://api.crossref.org/works/10.1016/j.apsusc.2004.02..013: 404\n"
     ]
    },
    {
     "name": "stdout",
     "output_type": "stream",
     "text": [
      "4181/4181: https://api.crossref.org/works/10.1007/s00339-003-2489-605906.01252:AID-JRS653>3.0.CO;2-EO;2-U2-2\r"
     ]
    }
   ],
   "source": [
    "results, failed = crosref.get_refs(df, concurrent_lim=30)"
   ]
  },
  {
   "cell_type": "code",
   "execution_count": 7,
   "metadata": {},
   "outputs": [
    {
     "name": "stdout",
     "output_type": "stream",
     "text": [
      "<class 'pandas.core.frame.DataFrame'>\n",
      "Index: 4175 entries, 0 to 0\n",
      "Data columns (total 17 columns):\n",
      " #   Column                  Non-Null Count  Dtype         \n",
      "---  ------                  --------------  -----         \n",
      " 0   publisher               4175 non-null   string        \n",
      " 1   license                 2705 non-null   object        \n",
      " 2   is_referenced_by_count  4175 non-null   object        \n",
      " 3   link                    4056 non-null   object        \n",
      " 4   authors                 4175 non-null   object        \n",
      " 5   abstract                1108 non-null   string        \n",
      " 6   title                   4152 non-null   string        \n",
      " 7   doi                     4175 non-null   string        \n",
      " 8   type                    4175 non-null   string        \n",
      " 9   journal                 4131 non-null   string        \n",
      " 10  issn                    4117 non-null   string        \n",
      " 11  volume                  4081 non-null   string        \n",
      " 12  issue                   3683 non-null   string        \n",
      " 13  start_page              3542 non-null   string        \n",
      " 14  end_page                2968 non-null   string        \n",
      " 15  publication_date        4170 non-null   datetime64[ns]\n",
      " 16  references              3796 non-null   object        \n",
      "dtypes: datetime64[ns](1), object(5), string(11)\n",
      "memory usage: 587.1+ KB\n"
     ]
    }
   ],
   "source": [
    "results.info()"
   ]
  },
  {
   "cell_type": "code",
   "execution_count": 9,
   "metadata": {},
   "outputs": [],
   "source": [
    "articles = results[results['type'].isin(['journal-article', 'proceedings-article'])]"
   ]
  },
  {
   "cell_type": "code",
   "execution_count": 15,
   "metadata": {},
   "outputs": [],
   "source": [
    "articles = articles[articles['publication_date'] > '1993']"
   ]
  },
  {
   "cell_type": "code",
   "execution_count": 18,
   "metadata": {},
   "outputs": [],
   "source": [
    "articles['title'].fillna('', inplace=True)"
   ]
  },
  {
   "cell_type": "code",
   "execution_count": 20,
   "metadata": {},
   "outputs": [],
   "source": [
    "kaba = load_csv('database/processed/kabashin_full.csv')\n",
    "barc = load_csv('database/processed/barcikowski_full.csv')"
   ]
  },
  {
   "cell_type": "code",
   "execution_count": 21,
   "metadata": {},
   "outputs": [],
   "source": [
    "kaba_barc = pd.concat([kaba, barc], ignore_index=True)"
   ]
  },
  {
   "cell_type": "code",
   "execution_count": 25,
   "metadata": {},
   "outputs": [],
   "source": [
    "kaba_barc.drop_duplicates(subset=['doi'], inplace=True)"
   ]
  },
  {
   "cell_type": "code",
   "execution_count": 27,
   "metadata": {},
   "outputs": [],
   "source": [
    "strict_refs = articles[articles['title'].map(lambda x: strict_filter(x))]"
   ]
  },
  {
   "cell_type": "code",
   "execution_count": 29,
   "metadata": {},
   "outputs": [
    {
     "name": "stdout",
     "output_type": "stream",
     "text": [
      "<class 'pandas.core.frame.DataFrame'>\n",
      "Index: 185 entries, 0 to 0\n",
      "Data columns (total 17 columns):\n",
      " #   Column                  Non-Null Count  Dtype         \n",
      "---  ------                  --------------  -----         \n",
      " 0   publisher               185 non-null    string        \n",
      " 1   license                 101 non-null    object        \n",
      " 2   is_referenced_by_count  185 non-null    object        \n",
      " 3   link                    180 non-null    object        \n",
      " 4   authors                 185 non-null    object        \n",
      " 5   abstract                46 non-null     string        \n",
      " 6   title                   185 non-null    string        \n",
      " 7   doi                     185 non-null    string        \n",
      " 8   type                    185 non-null    string        \n",
      " 9   journal                 185 non-null    string        \n",
      " 10  issn                    185 non-null    string        \n",
      " 11  volume                  185 non-null    string        \n",
      " 12  issue                   159 non-null    string        \n",
      " 13  start_page              164 non-null    string        \n",
      " 14  end_page                145 non-null    string        \n",
      " 15  publication_date        185 non-null    datetime64[ns]\n",
      " 16  references              172 non-null    object        \n",
      "dtypes: datetime64[ns](1), object(5), string(11)\n",
      "memory usage: 26.0+ KB\n"
     ]
    }
   ],
   "source": [
    "strict_refs[~strict_refs['doi'].isin(kaba_barc['doi'])].info()"
   ]
  }
 ],
 "metadata": {
  "kernelspec": {
   "display_name": "venv",
   "language": "python",
   "name": "python3"
  },
  "language_info": {
   "codemirror_mode": {
    "name": "ipython",
    "version": 3
   },
   "file_extension": ".py",
   "mimetype": "text/x-python",
   "name": "python",
   "nbconvert_exporter": "python",
   "pygments_lexer": "ipython3",
   "version": "3.13.2"
  }
 },
 "nbformat": 4,
 "nbformat_minor": 2
}
