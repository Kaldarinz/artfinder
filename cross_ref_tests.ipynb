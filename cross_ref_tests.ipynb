{
 "cells": [
  {
   "cell_type": "code",
   "execution_count": 3,
   "metadata": {},
   "outputs": [
    {
     "name": "stdout",
     "output_type": "stream",
     "text": [
      "The autoreload extension is already loaded. To reload it, use:\n",
      "  %reload_ext autoreload\n"
     ]
    }
   ],
   "source": [
    "%load_ext autoreload\n",
    "%autoreload 2\n",
    "\n",
    "from crossref.restful import Works, Journals\n",
    "from pymedx_custom import CrossrefArticle\n",
    "import pandas as pd"
   ]
  },
  {
   "cell_type": "code",
   "execution_count": 4,
   "metadata": {},
   "outputs": [],
   "source": [
    "works = Works()"
   ]
  },
  {
   "cell_type": "code",
   "execution_count": 5,
   "metadata": {},
   "outputs": [],
   "source": [
    "works_list =list(works.query(author='Kabashin'))"
   ]
  },
  {
   "cell_type": "code",
   "execution_count": 6,
   "metadata": {},
   "outputs": [],
   "source": [
    "all_articles = [CrossrefArticle(work) for work in works_list]"
   ]
  },
  {
   "cell_type": "code",
   "execution_count": 7,
   "metadata": {},
   "outputs": [],
   "source": [
    "df = pd.DataFrame([article.to_dict() for article in all_articles])"
   ]
  },
  {
   "cell_type": "code",
   "execution_count": 8,
   "metadata": {},
   "outputs": [],
   "source": [
    "abstracts = df[df[\"type\"] == \"journal-article\"]['abstract']"
   ]
  },
  {
   "cell_type": "code",
   "execution_count": 9,
   "metadata": {},
   "outputs": [
    {
     "data": {
      "text/plain": [
       "publisher                 187\n",
       "is_referenced_by_count    187\n",
       "authors                   187\n",
       "doi                       187\n",
       "title                     187\n",
       "type                      187\n",
       "publication_date          187\n",
       "issn                      187\n",
       "journal                   187\n",
       "volume                    184\n",
       "link                      183\n",
       "issue                     169\n",
       "references                167\n",
       "start_page                163\n",
       "license                   143\n",
       "end_page                   94\n",
       "abstract                   75\n",
       "dtype: int64"
      ]
     },
     "execution_count": 9,
     "metadata": {},
     "output_type": "execute_result"
    }
   ],
   "source": [
    "df[df[\"type\"] == \"journal-article\"].notna().sum().sort_values(ascending=False)"
   ]
  },
  {
   "cell_type": "code",
   "execution_count": 10,
   "metadata": {},
   "outputs": [
    {
     "data": {
      "text/plain": [
       "11     An overview of research results related to the...\n",
       "12     The concept of a photonic crystal waveguide-ba...\n",
       "15     Pulsed radiation of CO2 laser has been used to...\n",
       "17     Femtosecond laser radiation has been used to a...\n",
       "23     A new mechanism of laser plasma generation of ...\n",
       "                             ...                        \n",
       "241    Dyes used in industries such as textile, paper...\n",
       "243    Boron neutron capture therapy (BNCT) is one of...\n",
       "244    Correction for ‘Tunable optical properties of ...\n",
       "245    Control of the chemical composition and optica...\n",
       "246    Proton therapy can treat tumors located in rad...\n",
       "Name: abstract, Length: 78, dtype: object"
      ]
     },
     "execution_count": 10,
     "metadata": {},
     "output_type": "execute_result"
    }
   ],
   "source": [
    "abstr_exmple = df[df['abstract'].notna()]['abstract']\n",
    "abstr_exmple"
   ]
  },
  {
   "cell_type": "code",
   "execution_count": 17,
   "metadata": {},
   "outputs": [
    {
     "data": {
      "text/plain": [
       "(496,)"
      ]
     },
     "execution_count": 17,
     "metadata": {},
     "output_type": "execute_result"
    }
   ],
   "source": [
    "df['authors'].explode().apply(lambda x: x.get('lastname')).unique().shape"
   ]
  }
 ],
 "metadata": {
  "kernelspec": {
   "display_name": "venv",
   "language": "python",
   "name": "python3"
  },
  "language_info": {
   "codemirror_mode": {
    "name": "ipython",
    "version": 3
   },
   "file_extension": ".py",
   "mimetype": "text/x-python",
   "name": "python",
   "nbconvert_exporter": "python",
   "pygments_lexer": "ipython3",
   "version": "3.13.2"
  }
 },
 "nbformat": 4,
 "nbformat_minor": 2
}
