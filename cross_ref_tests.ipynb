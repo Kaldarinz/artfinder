{
 "cells": [
  {
   "cell_type": "code",
   "execution_count": 1,
   "metadata": {},
   "outputs": [],
   "source": [
    "%load_ext autoreload\n",
    "%autoreload 2\n",
    "\n",
    "from crossref.restful import Works, Journals\n",
    "from artfinder import CrossrefArticle, Crossref\n",
    "import pandas as pd\n",
    "import datetime\n",
    "import re\n",
    "import logging\n",
    "\n",
    "logging.basicConfig(level=logging.INFO)"
   ]
  },
  {
   "cell_type": "code",
   "execution_count": 2,
   "metadata": {},
   "outputs": [
    {
     "name": "stderr",
     "output_type": "stream",
     "text": [
      "INFO:crossref.restful:GET request to https://api.crossref.org/works, data={'query.author': 'Kabashin', 'cursor': '*', 'rows': 100}, headers={'user-agent': 'artfinder/undefined (undefined; mailto:aapopov1@mephi.ru) BasedOn: CrossrefAPI/1.6.0'}\n"
     ]
    },
    {
     "name": "stderr",
     "output_type": "stream",
     "text": [
      "INFO:crossref.restful:Sleep for 0.02 seconds\n",
      "INFO:crossref.restful:GET request to https://api.crossref.org/works, data={'query.author': 'Kabashin', 'cursor': 'DnF1ZXJ5VGhlbkZldGNoBgAAAAAHgD-BFi10RWc3ay1xUzB1LXA4djZWbEdpQ1EAAAAAE2qDIBZWX2tkV3YyWVFVcV9hOFZHWGN4cURnAAAAADMkE28WTUpsaGN0RGFRbS1yN0ZYWTJ3MG5pUQAAAAAuCk8BFmZPZjNDVWhLUnh1RDFtUWM4WFIzUHcAAAAAHzP1VhZwMUUtd3VRM1RzU3RxcXpMUVg3MFZBAAAAABEgWuEWZjkwZGpsbmpTUG10QXVtRFhYcXlaUQ==', 'rows': 100}, headers={'user-agent': 'artfinder/undefined (undefined; mailto:aapopov1@mephi.ru) BasedOn: CrossrefAPI/1.6.0'}\n",
      "INFO:crossref.restful:Sleep for 0.02 seconds\n",
      "INFO:crossref.restful:GET request to https://api.crossref.org/works, data={'query.author': 'Kabashin', 'cursor': 'DnF1ZXJ5VGhlbkZldGNoBgAAAAAHgD-BFi10RWc3ay1xUzB1LXA4djZWbEdpQ1EAAAAAE2qDIBZWX2tkV3YyWVFVcV9hOFZHWGN4cURnAAAAADMkE28WTUpsaGN0RGFRbS1yN0ZYWTJ3MG5pUQAAAAAuCk8BFmZPZjNDVWhLUnh1RDFtUWM4WFIzUHcAAAAAHzP1VhZwMUUtd3VRM1RzU3RxcXpMUVg3MFZBAAAAABEgWuEWZjkwZGpsbmpTUG10QXVtRFhYcXlaUQ==', 'rows': 100}, headers={'user-agent': 'artfinder/undefined (undefined; mailto:aapopov1@mephi.ru) BasedOn: CrossrefAPI/1.6.0'}\n",
      "INFO:crossref.restful:Sleep for 0.02 seconds\n",
      "INFO:crossref.restful:GET request to https://api.crossref.org/works, data={'query.author': 'Kabashin', 'cursor': 'DnF1ZXJ5VGhlbkZldGNoBgAAAAAHgD-BFi10RWc3ay1xUzB1LXA4djZWbEdpQ1EAAAAAE2qDIBZWX2tkV3YyWVFVcV9hOFZHWGN4cURnAAAAADMkE28WTUpsaGN0RGFRbS1yN0ZYWTJ3MG5pUQAAAAAuCk8BFmZPZjNDVWhLUnh1RDFtUWM4WFIzUHcAAAAAHzP1VhZwMUUtd3VRM1RzU3RxcXpMUVg3MFZBAAAAABEgWuEWZjkwZGpsbmpTUG10QXVtRFhYcXlaUQ==', 'rows': 100}, headers={'user-agent': 'artfinder/undefined (undefined; mailto:aapopov1@mephi.ru) BasedOn: CrossrefAPI/1.6.0'}\n",
      "INFO:crossref.restful:Sleep for 0.02 seconds\n"
     ]
    }
   ],
   "source": [
    "crosref = Crossref(app='artfinder', email='aapopov1@mephi.ru')\n",
    "df = crosref.query(author='Kabashin').get_df()"
   ]
  },
  {
   "cell_type": "code",
   "execution_count": 16,
   "metadata": {},
   "outputs": [
    {
     "data": {
      "text/plain": [
       "Index(['publisher', 'license', 'is_referenced_by_count', 'link', 'authors',\n",
       "       'abstract', 'title', 'doi', 'type', 'journal', 'issn', 'volume',\n",
       "       'issue', 'start_page', 'end_page', 'publication_date', 'references'],\n",
       "      dtype='object')"
      ]
     },
     "execution_count": 16,
     "metadata": {},
     "output_type": "execute_result"
    }
   ],
   "source": [
    "df.columns"
   ]
  },
  {
   "cell_type": "code",
   "execution_count": 128,
   "metadata": {},
   "outputs": [],
   "source": [
    "kaba = pd.read_excel('database/processed/kabashin.xlsx')"
   ]
  },
  {
   "cell_type": "code",
   "execution_count": 129,
   "metadata": {},
   "outputs": [],
   "source": [
    "kaba['ablation'] = kaba['ablation'].astype(bool)\n",
    "kaba['title'] = kaba['title'].str.lower()"
   ]
  },
  {
   "cell_type": "code",
   "execution_count": 142,
   "metadata": {},
   "outputs": [
    {
     "ename": "ValueError",
     "evalue": "You are trying to merge on object and int64 columns for key 'doi'. If you wish to proceed you should use pd.concat",
     "output_type": "error",
     "traceback": [
      "\u001b[31m---------------------------------------------------------------------------\u001b[39m",
      "\u001b[31mValueError\u001b[39m                                Traceback (most recent call last)",
      "\u001b[36mCell\u001b[39m\u001b[36m \u001b[39m\u001b[32mIn[142]\u001b[39m\u001b[32m, line 1\u001b[39m\n\u001b[32m----> \u001b[39m\u001b[32m1\u001b[39m full_df = \u001b[43mdf\u001b[49m\u001b[43m.\u001b[49m\u001b[43mjoin\u001b[49m\u001b[43m(\u001b[49m\u001b[43mkaba\u001b[49m\u001b[43m,\u001b[49m\u001b[43m \u001b[49m\u001b[43mon\u001b[49m\u001b[43m=\u001b[49m\u001b[33;43m'\u001b[39;49m\u001b[33;43mdoi\u001b[39;49m\u001b[33;43m'\u001b[39;49m\u001b[43m)\u001b[49m\n",
      "\u001b[36mFile \u001b[39m\u001b[32m~/dev/study/ablation_db/venv/lib/python3.13/site-packages/pandas/core/frame.py:10757\u001b[39m, in \u001b[36mDataFrame.join\u001b[39m\u001b[34m(self, other, on, how, lsuffix, rsuffix, sort, validate)\u001b[39m\n\u001b[32m  10747\u001b[39m     \u001b[38;5;28;01mif\u001b[39;00m how == \u001b[33m\"\u001b[39m\u001b[33mcross\u001b[39m\u001b[33m\"\u001b[39m:\n\u001b[32m  10748\u001b[39m         \u001b[38;5;28;01mreturn\u001b[39;00m merge(\n\u001b[32m  10749\u001b[39m             \u001b[38;5;28mself\u001b[39m,\n\u001b[32m  10750\u001b[39m             other,\n\u001b[32m   (...)\u001b[39m\u001b[32m  10755\u001b[39m             validate=validate,\n\u001b[32m  10756\u001b[39m         )\n\u001b[32m> \u001b[39m\u001b[32m10757\u001b[39m     \u001b[38;5;28;01mreturn\u001b[39;00m \u001b[43mmerge\u001b[49m\u001b[43m(\u001b[49m\n\u001b[32m  10758\u001b[39m \u001b[43m        \u001b[49m\u001b[38;5;28;43mself\u001b[39;49m\u001b[43m,\u001b[49m\n\u001b[32m  10759\u001b[39m \u001b[43m        \u001b[49m\u001b[43mother\u001b[49m\u001b[43m,\u001b[49m\n\u001b[32m  10760\u001b[39m \u001b[43m        \u001b[49m\u001b[43mleft_on\u001b[49m\u001b[43m=\u001b[49m\u001b[43mon\u001b[49m\u001b[43m,\u001b[49m\n\u001b[32m  10761\u001b[39m \u001b[43m        \u001b[49m\u001b[43mhow\u001b[49m\u001b[43m=\u001b[49m\u001b[43mhow\u001b[49m\u001b[43m,\u001b[49m\n\u001b[32m  10762\u001b[39m \u001b[43m        \u001b[49m\u001b[43mleft_index\u001b[49m\u001b[43m=\u001b[49m\u001b[43mon\u001b[49m\u001b[43m \u001b[49m\u001b[38;5;129;43;01mis\u001b[39;49;00m\u001b[43m \u001b[49m\u001b[38;5;28;43;01mNone\u001b[39;49;00m\u001b[43m,\u001b[49m\n\u001b[32m  10763\u001b[39m \u001b[43m        \u001b[49m\u001b[43mright_index\u001b[49m\u001b[43m=\u001b[49m\u001b[38;5;28;43;01mTrue\u001b[39;49;00m\u001b[43m,\u001b[49m\n\u001b[32m  10764\u001b[39m \u001b[43m        \u001b[49m\u001b[43msuffixes\u001b[49m\u001b[43m=\u001b[49m\u001b[43m(\u001b[49m\u001b[43mlsuffix\u001b[49m\u001b[43m,\u001b[49m\u001b[43m \u001b[49m\u001b[43mrsuffix\u001b[49m\u001b[43m)\u001b[49m\u001b[43m,\u001b[49m\n\u001b[32m  10765\u001b[39m \u001b[43m        \u001b[49m\u001b[43msort\u001b[49m\u001b[43m=\u001b[49m\u001b[43msort\u001b[49m\u001b[43m,\u001b[49m\n\u001b[32m  10766\u001b[39m \u001b[43m        \u001b[49m\u001b[43mvalidate\u001b[49m\u001b[43m=\u001b[49m\u001b[43mvalidate\u001b[49m\u001b[43m,\u001b[49m\n\u001b[32m  10767\u001b[39m \u001b[43m    \u001b[49m\u001b[43m)\u001b[49m\n\u001b[32m  10768\u001b[39m \u001b[38;5;28;01melse\u001b[39;00m:\n\u001b[32m  10769\u001b[39m     \u001b[38;5;28;01mif\u001b[39;00m on \u001b[38;5;129;01mis\u001b[39;00m \u001b[38;5;129;01mnot\u001b[39;00m \u001b[38;5;28;01mNone\u001b[39;00m:\n",
      "\u001b[36mFile \u001b[39m\u001b[32m~/dev/study/ablation_db/venv/lib/python3.13/site-packages/pandas/core/reshape/merge.py:170\u001b[39m, in \u001b[36mmerge\u001b[39m\u001b[34m(left, right, how, on, left_on, right_on, left_index, right_index, sort, suffixes, copy, indicator, validate)\u001b[39m\n\u001b[32m    155\u001b[39m     \u001b[38;5;28;01mreturn\u001b[39;00m _cross_merge(\n\u001b[32m    156\u001b[39m         left_df,\n\u001b[32m    157\u001b[39m         right_df,\n\u001b[32m   (...)\u001b[39m\u001b[32m    167\u001b[39m         copy=copy,\n\u001b[32m    168\u001b[39m     )\n\u001b[32m    169\u001b[39m \u001b[38;5;28;01melse\u001b[39;00m:\n\u001b[32m--> \u001b[39m\u001b[32m170\u001b[39m     op = \u001b[43m_MergeOperation\u001b[49m\u001b[43m(\u001b[49m\n\u001b[32m    171\u001b[39m \u001b[43m        \u001b[49m\u001b[43mleft_df\u001b[49m\u001b[43m,\u001b[49m\n\u001b[32m    172\u001b[39m \u001b[43m        \u001b[49m\u001b[43mright_df\u001b[49m\u001b[43m,\u001b[49m\n\u001b[32m    173\u001b[39m \u001b[43m        \u001b[49m\u001b[43mhow\u001b[49m\u001b[43m=\u001b[49m\u001b[43mhow\u001b[49m\u001b[43m,\u001b[49m\n\u001b[32m    174\u001b[39m \u001b[43m        \u001b[49m\u001b[43mon\u001b[49m\u001b[43m=\u001b[49m\u001b[43mon\u001b[49m\u001b[43m,\u001b[49m\n\u001b[32m    175\u001b[39m \u001b[43m        \u001b[49m\u001b[43mleft_on\u001b[49m\u001b[43m=\u001b[49m\u001b[43mleft_on\u001b[49m\u001b[43m,\u001b[49m\n\u001b[32m    176\u001b[39m \u001b[43m        \u001b[49m\u001b[43mright_on\u001b[49m\u001b[43m=\u001b[49m\u001b[43mright_on\u001b[49m\u001b[43m,\u001b[49m\n\u001b[32m    177\u001b[39m \u001b[43m        \u001b[49m\u001b[43mleft_index\u001b[49m\u001b[43m=\u001b[49m\u001b[43mleft_index\u001b[49m\u001b[43m,\u001b[49m\n\u001b[32m    178\u001b[39m \u001b[43m        \u001b[49m\u001b[43mright_index\u001b[49m\u001b[43m=\u001b[49m\u001b[43mright_index\u001b[49m\u001b[43m,\u001b[49m\n\u001b[32m    179\u001b[39m \u001b[43m        \u001b[49m\u001b[43msort\u001b[49m\u001b[43m=\u001b[49m\u001b[43msort\u001b[49m\u001b[43m,\u001b[49m\n\u001b[32m    180\u001b[39m \u001b[43m        \u001b[49m\u001b[43msuffixes\u001b[49m\u001b[43m=\u001b[49m\u001b[43msuffixes\u001b[49m\u001b[43m,\u001b[49m\n\u001b[32m    181\u001b[39m \u001b[43m        \u001b[49m\u001b[43mindicator\u001b[49m\u001b[43m=\u001b[49m\u001b[43mindicator\u001b[49m\u001b[43m,\u001b[49m\n\u001b[32m    182\u001b[39m \u001b[43m        \u001b[49m\u001b[43mvalidate\u001b[49m\u001b[43m=\u001b[49m\u001b[43mvalidate\u001b[49m\u001b[43m,\u001b[49m\n\u001b[32m    183\u001b[39m \u001b[43m    \u001b[49m\u001b[43m)\u001b[49m\n\u001b[32m    184\u001b[39m     \u001b[38;5;28;01mreturn\u001b[39;00m op.get_result(copy=copy)\n",
      "\u001b[36mFile \u001b[39m\u001b[32m~/dev/study/ablation_db/venv/lib/python3.13/site-packages/pandas/core/reshape/merge.py:807\u001b[39m, in \u001b[36m_MergeOperation.__init__\u001b[39m\u001b[34m(self, left, right, how, on, left_on, right_on, left_index, right_index, sort, suffixes, indicator, validate)\u001b[39m\n\u001b[32m    803\u001b[39m \u001b[38;5;28mself\u001b[39m._validate_tolerance(\u001b[38;5;28mself\u001b[39m.left_join_keys)\n\u001b[32m    805\u001b[39m \u001b[38;5;66;03m# validate the merge keys dtypes. We may need to coerce\u001b[39;00m\n\u001b[32m    806\u001b[39m \u001b[38;5;66;03m# to avoid incompatible dtypes\u001b[39;00m\n\u001b[32m--> \u001b[39m\u001b[32m807\u001b[39m \u001b[38;5;28;43mself\u001b[39;49m\u001b[43m.\u001b[49m\u001b[43m_maybe_coerce_merge_keys\u001b[49m\u001b[43m(\u001b[49m\u001b[43m)\u001b[49m\n\u001b[32m    809\u001b[39m \u001b[38;5;66;03m# If argument passed to validate,\u001b[39;00m\n\u001b[32m    810\u001b[39m \u001b[38;5;66;03m# check if columns specified as unique\u001b[39;00m\n\u001b[32m    811\u001b[39m \u001b[38;5;66;03m# are in fact unique.\u001b[39;00m\n\u001b[32m    812\u001b[39m \u001b[38;5;28;01mif\u001b[39;00m validate \u001b[38;5;129;01mis\u001b[39;00m \u001b[38;5;129;01mnot\u001b[39;00m \u001b[38;5;28;01mNone\u001b[39;00m:\n",
      "\u001b[36mFile \u001b[39m\u001b[32m~/dev/study/ablation_db/venv/lib/python3.13/site-packages/pandas/core/reshape/merge.py:1508\u001b[39m, in \u001b[36m_MergeOperation._maybe_coerce_merge_keys\u001b[39m\u001b[34m(self)\u001b[39m\n\u001b[32m   1502\u001b[39m     \u001b[38;5;66;03m# unless we are merging non-string-like with string-like\u001b[39;00m\n\u001b[32m   1503\u001b[39m     \u001b[38;5;28;01melif\u001b[39;00m (\n\u001b[32m   1504\u001b[39m         inferred_left \u001b[38;5;129;01min\u001b[39;00m string_types \u001b[38;5;129;01mand\u001b[39;00m inferred_right \u001b[38;5;129;01mnot\u001b[39;00m \u001b[38;5;129;01min\u001b[39;00m string_types\n\u001b[32m   1505\u001b[39m     ) \u001b[38;5;129;01mor\u001b[39;00m (\n\u001b[32m   1506\u001b[39m         inferred_right \u001b[38;5;129;01min\u001b[39;00m string_types \u001b[38;5;129;01mand\u001b[39;00m inferred_left \u001b[38;5;129;01mnot\u001b[39;00m \u001b[38;5;129;01min\u001b[39;00m string_types\n\u001b[32m   1507\u001b[39m     ):\n\u001b[32m-> \u001b[39m\u001b[32m1508\u001b[39m         \u001b[38;5;28;01mraise\u001b[39;00m \u001b[38;5;167;01mValueError\u001b[39;00m(msg)\n\u001b[32m   1510\u001b[39m \u001b[38;5;66;03m# datetimelikes must match exactly\u001b[39;00m\n\u001b[32m   1511\u001b[39m \u001b[38;5;28;01melif\u001b[39;00m needs_i8_conversion(lk.dtype) \u001b[38;5;129;01mand\u001b[39;00m \u001b[38;5;129;01mnot\u001b[39;00m needs_i8_conversion(rk.dtype):\n",
      "\u001b[31mValueError\u001b[39m: You are trying to merge on object and int64 columns for key 'doi'. If you wish to proceed you should use pd.concat"
     ]
    }
   ],
   "source": [
    "full_df = df.join(kaba, on='doi')"
   ]
  },
  {
   "cell_type": "markdown",
   "metadata": {},
   "source": [
    "Select articles about laser ablation"
   ]
  },
  {
   "cell_type": "code",
   "execution_count": 131,
   "metadata": {},
   "outputs": [
    {
     "name": "stdout",
     "output_type": "stream",
     "text": [
      "<class 'pandas.core.frame.DataFrame'>\n",
      "Index: 151 entries, 1 to 250\n",
      "Data columns (total 4 columns):\n",
      " #   Column    Non-Null Count  Dtype \n",
      "---  ------    --------------  ----- \n",
      " 0   title     151 non-null    object\n",
      " 1   abstract  55 non-null     object\n",
      " 2   doi       151 non-null    object\n",
      " 3   ablation  151 non-null    bool  \n",
      "dtypes: bool(1), object(3)\n",
      "memory usage: 4.9+ KB\n"
     ]
    }
   ],
   "source": [
    "kaba_ablation = kaba[kaba['ablation'] == True]\n",
    "kaba_ablation.info()"
   ]
  },
  {
   "cell_type": "markdown",
   "metadata": {},
   "source": [
    "Get statistics of words from titles"
   ]
  },
  {
   "cell_type": "code",
   "execution_count": 132,
   "metadata": {},
   "outputs": [
    {
     "data": {
      "text/plain": [
       "title\n",
       "of               138\n",
       "laser            109\n",
       "nanoparticles    105\n",
       "for               69\n",
       "and               57\n",
       "in                49\n",
       "ablation          48\n",
       "by                39\n",
       "gold              35\n",
       "synthesized       34\n",
       "synthesis         31\n",
       "applications      29\n",
       "femtosecond       27\n",
       "based             24\n",
       "plasmonic         19\n",
       "aqueous           19\n",
       "si                18\n",
       "therapy           18\n",
       "with              17\n",
       "on                17\n",
       "Name: count, dtype: int64"
      ]
     },
     "execution_count": 132,
     "metadata": {},
     "output_type": "execute_result"
    }
   ],
   "source": [
    "kaba_ablation[kaba_ablation['ablation']]['title'].map(lambda x: re.split(r'\\W+', x)).explode().value_counts().head(20)"
   ]
  },
  {
   "cell_type": "markdown",
   "metadata": {},
   "source": [
    "Check titles of articles where word *nanoparticles* is missing"
   ]
  },
  {
   "cell_type": "code",
   "execution_count": 141,
   "metadata": {},
   "outputs": [
    {
     "data": {
      "application/vnd.microsoft.datawrangler.viewer.v0+json": {
       "columns": [
        {
         "name": "index",
         "rawType": "int64",
         "type": "integer"
        },
        {
         "name": "title",
         "rawType": "object",
         "type": "string"
        },
        {
         "name": "abstract",
         "rawType": "object",
         "type": "unknown"
        },
        {
         "name": "doi",
         "rawType": "object",
         "type": "string"
        },
        {
         "name": "ablation",
         "rawType": "bool",
         "type": "boolean"
        }
       ],
       "conversionMethod": "pd.DataFrame",
       "ref": "adbc96b6-d827-4967-a829-7d7c2a1f5047",
       "rows": [
        [
         "103",
         "transforming nuclear medicine with nanoradiopharmaceuticals",
         null,
         "10.1021/acsnano.1c10550",
         "True"
        ],
        [
         "137",
         "novel advanced nanotechnologies for nuclear medicine",
         "Nuclear nanomedicine forms a new research field based on the synergy of nuclear medicine and nanotechnology and implying the use of nanomaterials as carriers of diagnostic or therapeutic radionuclides. Such an approach promises a series of advantages over classical methods of nuclear medicine, including an increased surface area-to-volume ratio, passive/active delivery, high loading capacity, large cross-section in interactions with biological tissues, and unique properties of nanomaterials that make possible many functionalities within one construct. In this short review article, we will highlight our recent achievements in the development of nuclear nanomedicine technologies, which promise the advancement of methods for cancer treatment.",
         "10.1088/1742-6596/2058/1/012035",
         "True"
        ],
        [
         "146",
         "advanced electrocatalysts on the basis of bare au nanomaterials for biofuel cell applications",
         null,
         "10.1021/acscatal.5b01478",
         "True"
        ],
        [
         "155",
         "x-ray contrast properties of bismuth-based nanoformulations",
         null,
         "10.3103/s1068335623220141",
         "True"
        ],
        [
         "191",
         "graphene–gold metasurface architectures for ultrasensitive plasmonic biosensing",
         null,
         "10.1002/adma.201501754",
         "True"
        ],
        [
         "215",
         "manipulating the optically active defect–defect interaction of colloidal quantum dots for carbon dioxide photoreduction",
         null,
         "10.1021/acscatal.3c03884",
         "True"
        ]
       ],
       "shape": {
        "columns": 4,
        "rows": 6
       }
      },
      "text/html": [
       "<div>\n",
       "<style scoped>\n",
       "    .dataframe tbody tr th:only-of-type {\n",
       "        vertical-align: middle;\n",
       "    }\n",
       "\n",
       "    .dataframe tbody tr th {\n",
       "        vertical-align: top;\n",
       "    }\n",
       "\n",
       "    .dataframe thead th {\n",
       "        text-align: right;\n",
       "    }\n",
       "</style>\n",
       "<table border=\"1\" class=\"dataframe\">\n",
       "  <thead>\n",
       "    <tr style=\"text-align: right;\">\n",
       "      <th></th>\n",
       "      <th>title</th>\n",
       "      <th>abstract</th>\n",
       "      <th>doi</th>\n",
       "      <th>ablation</th>\n",
       "    </tr>\n",
       "  </thead>\n",
       "  <tbody>\n",
       "    <tr>\n",
       "      <th>103</th>\n",
       "      <td>transforming nuclear medicine with nanoradioph...</td>\n",
       "      <td>NaN</td>\n",
       "      <td>10.1021/acsnano.1c10550</td>\n",
       "      <td>True</td>\n",
       "    </tr>\n",
       "    <tr>\n",
       "      <th>137</th>\n",
       "      <td>novel advanced nanotechnologies for nuclear me...</td>\n",
       "      <td>Nuclear nanomedicine forms a new research fiel...</td>\n",
       "      <td>10.1088/1742-6596/2058/1/012035</td>\n",
       "      <td>True</td>\n",
       "    </tr>\n",
       "    <tr>\n",
       "      <th>146</th>\n",
       "      <td>advanced electrocatalysts on the basis of bare...</td>\n",
       "      <td>NaN</td>\n",
       "      <td>10.1021/acscatal.5b01478</td>\n",
       "      <td>True</td>\n",
       "    </tr>\n",
       "    <tr>\n",
       "      <th>155</th>\n",
       "      <td>x-ray contrast properties of bismuth-based nan...</td>\n",
       "      <td>NaN</td>\n",
       "      <td>10.3103/s1068335623220141</td>\n",
       "      <td>True</td>\n",
       "    </tr>\n",
       "    <tr>\n",
       "      <th>191</th>\n",
       "      <td>graphene–gold metasurface architectures for ul...</td>\n",
       "      <td>NaN</td>\n",
       "      <td>10.1002/adma.201501754</td>\n",
       "      <td>True</td>\n",
       "    </tr>\n",
       "    <tr>\n",
       "      <th>215</th>\n",
       "      <td>manipulating the optically active defect–defec...</td>\n",
       "      <td>NaN</td>\n",
       "      <td>10.1021/acscatal.3c03884</td>\n",
       "      <td>True</td>\n",
       "    </tr>\n",
       "  </tbody>\n",
       "</table>\n",
       "</div>"
      ],
      "text/plain": [
       "                                                 title  \\\n",
       "103  transforming nuclear medicine with nanoradioph...   \n",
       "137  novel advanced nanotechnologies for nuclear me...   \n",
       "146  advanced electrocatalysts on the basis of bare...   \n",
       "155  x-ray contrast properties of bismuth-based nan...   \n",
       "191  graphene–gold metasurface architectures for ul...   \n",
       "215  manipulating the optically active defect–defec...   \n",
       "\n",
       "                                              abstract  \\\n",
       "103                                                NaN   \n",
       "137  Nuclear nanomedicine forms a new research fiel...   \n",
       "146                                                NaN   \n",
       "155                                                NaN   \n",
       "191                                                NaN   \n",
       "215                                                NaN   \n",
       "\n",
       "                                 doi  ablation  \n",
       "103          10.1021/acsnano.1c10550      True  \n",
       "137  10.1088/1742-6596/2058/1/012035      True  \n",
       "146         10.1021/acscatal.5b01478      True  \n",
       "155        10.3103/s1068335623220141      True  \n",
       "191           10.1002/adma.201501754      True  \n",
       "215         10.1021/acscatal.3c03884      True  "
      ]
     },
     "execution_count": 141,
     "metadata": {},
     "output_type": "execute_result"
    }
   ],
   "source": [
    "no_nps = kaba_ablation[~kaba_ablation['title'].str.contains(r'nanoparticles?|nanostructures?|laser|nanoclusters?|nanospheres?')]\n",
    "no_nps"
   ]
  },
  {
   "cell_type": "code",
   "execution_count": 115,
   "metadata": {},
   "outputs": [
    {
     "data": {
      "text/plain": [
       "set()"
      ]
     },
     "execution_count": 115,
     "metadata": {},
     "output_type": "execute_result"
    }
   ],
   "source": [
    "all_words = kaba_ablation['title'].map(lambda x: re.split(r'\\W+', x)).explode().unique()\n",
    "all_words = set(all_words)\n",
    "common = all_words.copy()\n",
    "for title in kaba_ablation['title'].map(lambda x: re.split(r'\\W+', x)):\n",
    "    common = common.intersection(set(title))\n",
    "common"
   ]
  },
  {
   "cell_type": "code",
   "execution_count": 40,
   "metadata": {},
   "outputs": [],
   "source": [
    "work = crosref.doi('10.1117/12.459737')"
   ]
  },
  {
   "cell_type": "code",
   "execution_count": 41,
   "metadata": {},
   "outputs": [
    {
     "data": {
      "text/plain": [
       "['&lt;title&gt;Air optical breakdown on silicon as a novel method to fabricate photoluminescent Si-based nanostructures&lt;/title&gt;']"
      ]
     },
     "execution_count": 41,
     "metadata": {},
     "output_type": "execute_result"
    }
   ],
   "source": [
    "work['title']"
   ]
  }
 ],
 "metadata": {
  "kernelspec": {
   "display_name": "venv",
   "language": "python",
   "name": "python3"
  },
  "language_info": {
   "codemirror_mode": {
    "name": "ipython",
    "version": 3
   },
   "file_extension": ".py",
   "mimetype": "text/x-python",
   "name": "python",
   "nbconvert_exporter": "python",
   "pygments_lexer": "ipython3",
   "version": "3.13.2"
  }
 },
 "nbformat": 4,
 "nbformat_minor": 2
}
